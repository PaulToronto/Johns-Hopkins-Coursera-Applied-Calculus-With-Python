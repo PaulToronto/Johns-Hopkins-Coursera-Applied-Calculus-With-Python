{
  "nbformat": 4,
  "nbformat_minor": 0,
  "metadata": {
    "colab": {
      "provenance": [],
      "toc_visible": true,
      "collapsed_sections": [
        "5ExyIYNkCbq2"
      ],
      "authorship_tag": "ABX9TyO0B7I1UHGPOk5d4Lu+1Phw",
      "include_colab_link": true
    },
    "kernelspec": {
      "name": "python3",
      "display_name": "Python 3"
    },
    "language_info": {
      "name": "python"
    }
  },
  "cells": [
    {
      "cell_type": "markdown",
      "metadata": {
        "id": "view-in-github",
        "colab_type": "text"
      },
      "source": [
        "<a href=\"https://colab.research.google.com/github/PaulToronto/Johns-Hopkins-Coursera-Applied-Calculus-With-Python/blob/main/2_1_Introduction_to_Functions.ipynb\" target=\"_parent\"><img src=\"https://colab.research.google.com/assets/colab-badge.svg\" alt=\"Open In Colab\"/></a>"
      ]
    },
    {
      "cell_type": "markdown",
      "source": [
        "# 2.1 Introduction to Functions"
      ],
      "metadata": {
        "id": "CEXLyT1rGamw"
      }
    },
    {
      "cell_type": "markdown",
      "source": [
        "## 2.1.1 Theory: Functions"
      ],
      "metadata": {
        "id": "zGt1GIdbwSn9"
      }
    },
    {
      "cell_type": "code",
      "source": [
        "import sympy as sp \n",
        "import ipywidgets as widgets\n",
        "from math import isnan\n",
        "\n",
        "sp.init_printing(use_unicode=True)"
      ],
      "metadata": {
        "id": "ilrUDW7uLIwd"
      },
      "execution_count": 1,
      "outputs": []
    },
    {
      "cell_type": "code",
      "source": [
        "def display_f_of_x(str_expr):\n",
        "    f = sp.parse_expr(str_expr)\n",
        "\n",
        "    x = f.free_symbols.pop()\n",
        "\n",
        "    sp.plot(f, \n",
        "            line_color='red',\n",
        "            title='$f(x) = ' + sp.latex(f) + '$\\n'\n",
        "            )\n",
        "\n",
        "    x_intercepts = list()\n",
        "    for soln in sp.solve(f):\n",
        "        if soln.is_real:\n",
        "            x_intercepts.append(soln)\n",
        "    x_intercepts = None if len(x_intercepts) == 0 else x_intercepts\n",
        "\n",
        "\n",
        "    y_intercept = None if isnan(f.subs(x, 0)) else f.subs(x, 0)\n",
        "\n",
        "    slope = f.diff()\n",
        "    \n",
        "    domain = sp.calculus.util.continuous_domain(f, x, sp.S.Reals)\n",
        "\n",
        "    try:\n",
        "        range = sp.calculus.util.function_range(f, x, sp.S.Reals)\n",
        "    except NotImplementedError:\n",
        "        range = 'Not found'\n",
        "\n",
        "    print('\\nX-intercepts:')\n",
        "    display(x_intercepts)\n",
        "    print('\\nY-intercept:')\n",
        "    display(y_intercept)\n",
        "    print('\\nSlope (derivative):')\n",
        "    display(slope)\n",
        "    print('\\nDomain:')\n",
        "    display(domain)\n",
        "    print('\\nRange:')\n",
        "    display(range)"
      ],
      "metadata": {
        "id": "2WxpeCLQ57SB"
      },
      "execution_count": 2,
      "outputs": []
    },
    {
      "cell_type": "markdown",
      "source": [
        "### Definition\n",
        "\n",
        "A *function* is a rule that assigns to each element $x$ in a set $A$ exactly one element, called $f(x)$, in a set $B$"
      ],
      "metadata": {
        "id": "xbbeP2sQIsuk"
      }
    },
    {
      "cell_type": "markdown",
      "source": [
        "### Example: $f(x) = x + 1$"
      ],
      "metadata": {
        "id": "z_lELMWxMM21"
      }
    },
    {
      "cell_type": "code",
      "source": [
        "display_f_of_x('x + 1')"
      ],
      "metadata": {
        "colab": {
          "base_uri": "https://localhost:8080/",
          "height": 577
        },
        "id": "MLVC4IkPVEwZ",
        "outputId": "18314121-12ee-4d7e-f51d-abed4c1701d3"
      },
      "execution_count": 3,
      "outputs": [
        {
          "output_type": "display_data",
          "data": {
            "text/plain": [
              "<Figure size 432x288 with 1 Axes>"
            ],
            "image/png": "[encoded data removed]"
          },
          "metadata": {
            "needs_background": "light"
          }
        },
        {
          "output_type": "stream",
          "name": "stdout",
          "text": [
            "\n",
            "X-intercepts:\n"
          ]
        },
        {
          "output_type": "display_data",
          "data": {
            "text/plain": [
              "[-1]"
            ],
            "image/png": "[encoded data removed]",
            "text/latex": "$\\displaystyle \\left[ -1\\right]$"
          },
          "metadata": {}
        },
        {
          "output_type": "stream",
          "name": "stdout",
          "text": [
            "\n",
            "Y-intercept:\n"
          ]
        },
        {
          "output_type": "display_data",
          "data": {
            "text/plain": [
              "1"
            ],
            "image/png": "[encoded data removed]",
            "text/latex": "$\\displaystyle 1$"
          },
          "metadata": {}
        },
        {
          "output_type": "stream",
          "name": "stdout",
          "text": [
            "\n",
            "Slope (derivative):\n"
          ]
        },
        {
          "output_type": "display_data",
          "data": {
            "text/plain": [
              "1"
            ],
            "image/png": "[encoded data removed]",
            "text/latex": "$\\displaystyle 1$"
          },
          "metadata": {}
        },
        {
          "output_type": "stream",
          "name": "stdout",
          "text": [
            "\n",
            "Domain:\n"
          ]
        },
        {
          "output_type": "display_data",
          "data": {
            "text/plain": [
              "ℝ"
            ],
            "image/png": "[encoded data removed]",
            "text/latex": "$\\displaystyle \\mathbb{R}$"
          },
          "metadata": {}
        },
        {
          "output_type": "stream",
          "name": "stdout",
          "text": [
            "\n",
            "Range:\n"
          ]
        },
        {
          "output_type": "display_data",
          "data": {
            "text/plain": [
              "(-∞, ∞)"
            ],
            "image/png": "[encoded data removed]",
            "text/latex": "$\\displaystyle \\left(-\\infty, \\infty\\right)$"
          },
          "metadata": {}
        }
      ]
    },
    {
      "cell_type": "markdown",
      "source": [
        "### Example: $f(x) = x^{2}$"
      ],
      "metadata": {
        "id": "GfyzKf0FGgod"
      }
    },
    {
      "cell_type": "code",
      "source": [
        "display_f_of_x('x**2')"
      ],
      "metadata": {
        "colab": {
          "base_uri": "https://localhost:8080/",
          "height": 579
        },
        "id": "PaHX5eHIGqqA",
        "outputId": "8d1ca0be-eca4-41d9-df89-483ba7771283"
      },
      "execution_count": 4,
      "outputs": [
        {
          "output_type": "display_data",
          "data": {
            "text/plain": [
              "<Figure size 432x288 with 1 Axes>"
            ],
            "image/png": "[encoded data removed]"
          },
          "metadata": {
            "needs_background": "light"
          }
        },
        {
          "output_type": "stream",
          "name": "stdout",
          "text": [
            "\n",
            "X-intercepts:\n"
          ]
        },
        {
          "output_type": "display_data",
          "data": {
            "text/plain": [
              "[0]"
            ],
            "image/png": "[encoded data removed]",
            "text/latex": "$\\displaystyle \\left[ 0\\right]$"
          },
          "metadata": {}
        },
        {
          "output_type": "stream",
          "name": "stdout",
          "text": [
            "\n",
            "Y-intercept:\n"
          ]
        },
        {
          "output_type": "display_data",
          "data": {
            "text/plain": [
              "0"
            ],
            "image/png": "[encoded data removed]",
            "text/latex": "$\\displaystyle 0$"
          },
          "metadata": {}
        },
        {
          "output_type": "stream",
          "name": "stdout",
          "text": [
            "\n",
            "Slope (derivative):\n"
          ]
        },
        {
          "output_type": "display_data",
          "data": {
            "text/plain": [
              "2⋅x"
            ],
            "image/png": "[encoded data removed]",
            "text/latex": "$\\displaystyle 2 x$"
          },
          "metadata": {}
        },
        {
          "output_type": "stream",
          "name": "stdout",
          "text": [
            "\n",
            "Domain:\n"
          ]
        },
        {
          "output_type": "display_data",
          "data": {
            "text/plain": [
              "ℝ"
            ],
            "image/png": "[encoded data removed]",
            "text/latex": "$\\displaystyle \\mathbb{R}$"
          },
          "metadata": {}
        },
        {
          "output_type": "stream",
          "name": "stdout",
          "text": [
            "\n",
            "Range:\n"
          ]
        },
        {
          "output_type": "display_data",
          "data": {
            "text/plain": [
              "[0, ∞)"
            ],
            "image/png": "[encoded data removed]",
            "text/latex": "$\\displaystyle \\left[0, \\infty\\right)$"
          },
          "metadata": {}
        }
      ]
    },
    {
      "cell_type": "markdown",
      "source": [
        "### Example: $f(x) = 2^{x}$"
      ],
      "metadata": {
        "id": "z8pBA8FrHfrQ"
      }
    },
    {
      "cell_type": "code",
      "source": [
        "display_f_of_x('2**x')"
      ],
      "metadata": {
        "colab": {
          "base_uri": "https://localhost:8080/",
          "height": 575
        },
        "id": "F9MHNzBzHj65",
        "outputId": "2d98d5fe-a95d-4997-9786-682bae0f5012"
      },
      "execution_count": 5,
      "outputs": [
        {
          "output_type": "display_data",
          "data": {
            "text/plain": [
              "<Figure size 432x288 with 1 Axes>"
            ],
            "image/png": "[encoded data removed]"
          },
          "metadata": {
            "needs_background": "light"
          }
        },
        {
          "output_type": "stream",
          "name": "stdout",
          "text": [
            "\n",
            "X-intercepts:\n"
          ]
        },
        {
          "output_type": "display_data",
          "data": {
            "text/plain": [
              "None"
            ]
          },
          "metadata": {}
        },
        {
          "output_type": "stream",
          "name": "stdout",
          "text": [
            "\n",
            "Y-intercept:\n"
          ]
        },
        {
          "output_type": "display_data",
          "data": {
            "text/plain": [
              "1"
            ],
            "image/png": "[encoded data removed]",
            "text/latex": "$\\displaystyle 1$"
          },
          "metadata": {}
        },
        {
          "output_type": "stream",
          "name": "stdout",
          "text": [
            "\n",
            "Slope (derivative):\n"
          ]
        },
        {
          "output_type": "display_data",
          "data": {
            "text/plain": [
              " x       \n",
              "2 ⋅log(2)"
            ],
            "image/png": "[encoded data removed]",
            "text/latex": "$\\displaystyle 2^{x} \\log{\\left(2 \\right)}$"
          },
          "metadata": {}
        },
        {
          "output_type": "stream",
          "name": "stdout",
          "text": [
            "\n",
            "Domain:\n"
          ]
        },
        {
          "output_type": "display_data",
          "data": {
            "text/plain": [
              "ℝ"
            ],
            "image/png": "[encoded data removed]",
            "text/latex": "$\\displaystyle \\mathbb{R}$"
          },
          "metadata": {}
        },
        {
          "output_type": "stream",
          "name": "stdout",
          "text": [
            "\n",
            "Range:\n"
          ]
        },
        {
          "output_type": "display_data",
          "data": {
            "text/plain": [
              "(0, ∞)"
            ],
            "image/png": "[encoded data removed]",
            "text/latex": "$\\displaystyle \\left(0, \\infty\\right)$"
          },
          "metadata": {}
        }
      ]
    },
    {
      "cell_type": "code",
      "source": [
        "display_f_of_x('sin(x)/x')"
      ],
      "metadata": {
        "colab": {
          "base_uri": "https://localhost:8080/",
          "height": 589
        },
        "id": "u4N-5wEGoEJP",
        "outputId": "308cf979-e116-41d0-ddf0-802543971c44"
      },
      "execution_count": 6,
      "outputs": [
        {
          "output_type": "display_data",
          "data": {
            "text/plain": [
              "<Figure size 432x288 with 1 Axes>"
            ],
            "image/png": "[encoded data removed]"
          },
          "metadata": {
            "needs_background": "light"
          }
        },
        {
          "output_type": "stream",
          "name": "stdout",
          "text": [
            "\n",
            "X-intercepts:\n"
          ]
        },
        {
          "output_type": "display_data",
          "data": {
            "text/plain": [
              "[π]"
            ],
            "image/png": "[encoded data removed]",
            "text/latex": "$\\displaystyle \\left[ \\pi\\right]$"
          },
          "metadata": {}
        },
        {
          "output_type": "stream",
          "name": "stdout",
          "text": [
            "\n",
            "Y-intercept:\n"
          ]
        },
        {
          "output_type": "display_data",
          "data": {
            "text/plain": [
              "None"
            ]
          },
          "metadata": {}
        },
        {
          "output_type": "stream",
          "name": "stdout",
          "text": [
            "\n",
            "Slope (derivative):\n"
          ]
        },
        {
          "output_type": "display_data",
          "data": {
            "text/plain": [
              "cos(x)   sin(x)\n",
              "────── - ──────\n",
              "  x         2  \n",
              "           x   "
            ],
            "image/png": "[encoded data removed]",
            "text/latex": "$\\displaystyle \\frac{\\cos{\\left(x \\right)}}{x} - \\frac{\\sin{\\left(x \\right)}}{x^{2}}$"
          },
          "metadata": {}
        },
        {
          "output_type": "stream",
          "name": "stdout",
          "text": [
            "\n",
            "Domain:\n"
          ]
        },
        {
          "output_type": "display_data",
          "data": {
            "text/plain": [
              "(-∞, 0) ∪ (0, ∞)"
            ],
            "image/png": "[encoded data removed]",
            "text/latex": "$\\displaystyle \\left(-\\infty, 0\\right) \\cup \\left(0, \\infty\\right)$"
          },
          "metadata": {}
        },
        {
          "output_type": "stream",
          "name": "stdout",
          "text": [
            "\n",
            "Range:\n"
          ]
        },
        {
          "output_type": "display_data",
          "data": {
            "text/plain": [
              "'Not found'"
            ],
            "application/vnd.google.colaboratory.intrinsic+json": {
              "type": "string"
            }
          },
          "metadata": {}
        }
      ]
    },
    {
      "cell_type": "markdown",
      "source": [
        "### Example: $f(x) = \\sqrt{x}$"
      ],
      "metadata": {
        "id": "9W25HPsAlEjE"
      }
    },
    {
      "cell_type": "code",
      "source": [
        "display_f_of_x('sqrt(x)')"
      ],
      "metadata": {
        "colab": {
          "base_uri": "https://localhost:8080/",
          "height": 595
        },
        "id": "J16CzwhIlLSI",
        "outputId": "cc288649-e8e5-4240-ed0c-f628241cab3d"
      },
      "execution_count": 7,
      "outputs": [
        {
          "output_type": "display_data",
          "data": {
            "text/plain": [
              "<Figure size 432x288 with 1 Axes>"
            ],
            "image/png": "[encoded data removed]"
          },
          "metadata": {
            "needs_background": "light"
          }
        },
        {
          "output_type": "stream",
          "name": "stdout",
          "text": [
            "\n",
            "X-intercepts:\n"
          ]
        },
        {
          "output_type": "display_data",
          "data": {
            "text/plain": [
              "[0]"
            ],
            "image/png": "[encoded data removed]",
            "text/latex": "$\\displaystyle \\left[ 0\\right]$"
          },
          "metadata": {}
        },
        {
          "output_type": "stream",
          "name": "stdout",
          "text": [
            "\n",
            "Y-intercept:\n"
          ]
        },
        {
          "output_type": "display_data",
          "data": {
            "text/plain": [
              "0"
            ],
            "image/png": "[encoded data removed]",
            "text/latex": "$\\displaystyle 0$"
          },
          "metadata": {}
        },
        {
          "output_type": "stream",
          "name": "stdout",
          "text": [
            "\n",
            "Slope (derivative):\n"
          ]
        },
        {
          "output_type": "display_data",
          "data": {
            "text/plain": [
              " 1  \n",
              "────\n",
              "2⋅√x"
            ],
            "image/png": "[encoded data removed]",
            "text/latex": "$\\displaystyle \\frac{1}{2 \\sqrt{x}}$"
          },
          "metadata": {}
        },
        {
          "output_type": "stream",
          "name": "stdout",
          "text": [
            "\n",
            "Domain:\n"
          ]
        },
        {
          "output_type": "display_data",
          "data": {
            "text/plain": [
              "[0, ∞)"
            ],
            "image/png": "[encoded data removed]",
            "text/latex": "$\\displaystyle \\left[0, \\infty\\right)$"
          },
          "metadata": {}
        },
        {
          "output_type": "stream",
          "name": "stdout",
          "text": [
            "\n",
            "Range:\n"
          ]
        },
        {
          "output_type": "display_data",
          "data": {
            "text/plain": [
              "[0, ∞)"
            ],
            "image/png": "[encoded data removed]",
            "text/latex": "$\\displaystyle \\left[0, \\infty\\right)$"
          },
          "metadata": {}
        }
      ]
    },
    {
      "cell_type": "markdown",
      "source": [
        "### Example: $f(x) = x^2 + 1$"
      ],
      "metadata": {
        "id": "-3PTOiistYi5"
      }
    },
    {
      "cell_type": "code",
      "source": [
        "display_f_of_x('x**2 + 1')"
      ],
      "metadata": {
        "colab": {
          "base_uri": "https://localhost:8080/",
          "height": 577
        },
        "id": "bLpapNQ9tg4U",
        "outputId": "d2dc1e3b-6aaa-4c52-97e9-45857ef7ad95"
      },
      "execution_count": 8,
      "outputs": [
        {
          "output_type": "display_data",
          "data": {
            "text/plain": [
              "<Figure size 432x288 with 1 Axes>"
            ],
            "image/png": "[encoded data removed]"
          },
          "metadata": {
            "needs_background": "light"
          }
        },
        {
          "output_type": "stream",
          "name": "stdout",
          "text": [
            "\n",
            "X-intercepts:\n"
          ]
        },
        {
          "output_type": "display_data",
          "data": {
            "text/plain": [
              "None"
            ]
          },
          "metadata": {}
        },
        {
          "output_type": "stream",
          "name": "stdout",
          "text": [
            "\n",
            "Y-intercept:\n"
          ]
        },
        {
          "output_type": "display_data",
          "data": {
            "text/plain": [
              "1"
            ],
            "image/png": "[encoded data removed]",
            "text/latex": "$\\displaystyle 1$"
          },
          "metadata": {}
        },
        {
          "output_type": "stream",
          "name": "stdout",
          "text": [
            "\n",
            "Slope (derivative):\n"
          ]
        },
        {
          "output_type": "display_data",
          "data": {
            "text/plain": [
              "2⋅x"
            ],
            "image/png": "[encoded data removed]",
            "text/latex": "$\\displaystyle 2 x$"
          },
          "metadata": {}
        },
        {
          "output_type": "stream",
          "name": "stdout",
          "text": [
            "\n",
            "Domain:\n"
          ]
        },
        {
          "output_type": "display_data",
          "data": {
            "text/plain": [
              "ℝ"
            ],
            "image/png": "[encoded data removed]",
            "text/latex": "$\\displaystyle \\mathbb{R}$"
          },
          "metadata": {}
        },
        {
          "output_type": "stream",
          "name": "stdout",
          "text": [
            "\n",
            "Range:\n"
          ]
        },
        {
          "output_type": "display_data",
          "data": {
            "text/plain": [
              "[1, ∞)"
            ],
            "image/png": "[encoded data removed]",
            "text/latex": "$\\displaystyle \\left[1, \\infty\\right)$"
          },
          "metadata": {}
        }
      ]
    },
    {
      "cell_type": "markdown",
      "source": [
        "### The Difference Quotient"
      ],
      "metadata": {
        "id": "PBoBRHZgt_MT"
      }
    },
    {
      "cell_type": "markdown",
      "source": [
        "$$\n",
        "\\begin{align}\n",
        "f(x) &= 3x^2 + 1\n",
        "\\end{align}\n",
        "$$"
      ],
      "metadata": {
        "id": "PHW6VSIiuJLO"
      }
    },
    {
      "cell_type": "markdown",
      "source": [
        "$$\n",
        "\\begin{align}\n",
        "\\frac{f(a + h) - f(a)}{h} &= \\frac{(3(a + h)^2 + 1) - (3a^2 + 1)}{h}\n",
        "\\\\ &= \\frac{3a^2 + 6ah + 3h^2 + 1 - 3a^2 - 1}{h}\n",
        "\\\\ &= \\frac{6ah + 3h^2}{h}\n",
        "\\\\ &= 6a + 3h\n",
        "\\end{align}\n",
        "$$"
      ],
      "metadata": {
        "id": "JWf0omYvv1EV"
      }
    },
    {
      "cell_type": "markdown",
      "source": [
        "### Vertical Line Test\n",
        "\n",
        "If **any** vertical line intersects the graph of a relation more than once, then the relation is not a function."
      ],
      "metadata": {
        "id": "7bTV1wp30u1w"
      }
    },
    {
      "cell_type": "markdown",
      "source": [
        "## 2.1.2 Theory: More about Functions"
      ],
      "metadata": {
        "id": "qKX-9BOr1-8e"
      }
    },
    {
      "cell_type": "markdown",
      "source": [
        "### Piecewise Defined Functions"
      ],
      "metadata": {
        "id": "y116SD1z3FC9"
      }
    },
    {
      "cell_type": "markdown",
      "source": [
        "#### Example: $f(x) = \\begin{cases} x^{2} + 1 & \\text{for}\\: x \\geq 0 \\\\x & \\text{for}\\: x < 0 \\end{cases}$"
      ],
      "metadata": {
        "id": "e6179A6uAa12"
      }
    },
    {
      "cell_type": "code",
      "source": [
        "x = sp.symbols('x')\n",
        "\n",
        "p = sp.Piecewise((x**2 + 1, x >= 0),\n",
        "                 (x, x < 0))\n",
        "\n",
        "p"
      ],
      "metadata": {
        "colab": {
          "base_uri": "https://localhost:8080/",
          "height": 68
        },
        "id": "PrmLgdwK6J7g",
        "outputId": "1ea63d95-a935-4c0e-d1f8-7e2de6cf4cdd"
      },
      "execution_count": 9,
      "outputs": [
        {
          "output_type": "execute_result",
          "data": {
            "text/plain": [
              "⎧ 2               \n",
              "⎪x  + 1  for x ≥ 0\n",
              "⎨                 \n",
              "⎪  x     otherwise\n",
              "⎩                 "
            ],
            "text/latex": "$\\displaystyle \\begin{cases} x^{2} + 1 & \\text{for}\\: x \\geq 0 \\\\x & \\text{otherwise} \\end{cases}$"
          },
          "metadata": {},
          "execution_count": 9
        }
      ]
    },
    {
      "cell_type": "markdown",
      "source": [
        "##### Graph (first method)"
      ],
      "metadata": {
        "id": "MeryG4fKbqMj"
      }
    },
    {
      "cell_type": "code",
      "source": [
        "fig = sp.plot(p, \n",
        "              line_color='red',\n",
        "              title='Piecewise Function'\n",
        ")"
      ],
      "metadata": {
        "colab": {
          "base_uri": "https://localhost:8080/",
          "height": 294
        },
        "outputId": "d265f862-4f4e-4034-b767-4d2790f2d205",
        "id": "3JSX3aI3C1cg"
      },
      "execution_count": 10,
      "outputs": [
        {
          "output_type": "display_data",
          "data": {
            "text/plain": [
              "<Figure size 432x288 with 1 Axes>"
            ],
            "image/png": "[encoded data removed]"
          },
          "metadata": {
            "needs_background": "light"
          }
        }
      ]
    },
    {
      "cell_type": "markdown",
      "source": [
        "##### Graph (second method)"
      ],
      "metadata": {
        "id": "Eu1ub3nmbzvm"
      }
    },
    {
      "cell_type": "code",
      "source": [
        "p.args[0][0], p.args[1][0]"
      ],
      "metadata": {
        "colab": {
          "base_uri": "https://localhost:8080/",
          "height": 39
        },
        "id": "-Wg-5QkFaGpn",
        "outputId": "9cc6c3c1-0b12-4733-ca3e-d4c8fd98ceb9"
      },
      "execution_count": 11,
      "outputs": [
        {
          "output_type": "execute_result",
          "data": {
            "text/plain": [
              "⎛ 2       ⎞\n",
              "⎝x  + 1, x⎠"
            ],
            "image/png": "[encoded data removed]",
            "text/latex": "$\\displaystyle \\left( x^{2} + 1, \\  x\\right)$"
          },
          "metadata": {},
          "execution_count": 11
        }
      ]
    },
    {
      "cell_type": "code",
      "source": [
        "fig = sp.plot((p.args[0][0] + 1, (x, 0, 10)), \n",
        "              (p.args[1][0], (x, -10, 0)), \n",
        "              title='Piecewise Function\\n',\n",
        "              show=False, \n",
        "              legend=True)\n",
        "fig[0].line_color='red'\n",
        "fig[0].label = '$x^{2} + 1$' + '\\t' + '$x \\geq 0$'\n",
        "fig[1].line_color='green'\n",
        "fig[1].label = '$x$' + '\\t\\t' + '$x < 0$'\n",
        "fig.show()"
      ],
      "metadata": {
        "colab": {
          "base_uri": "https://localhost:8080/",
          "height": 295
        },
        "id": "tio9kijcHPWY",
        "outputId": "34a39c05-1a82-4760-ffd0-3e7245539073"
      },
      "execution_count": 12,
      "outputs": [
        {
          "output_type": "display_data",
          "data": {
            "text/plain": [
              "<Figure size 432x288 with 1 Axes>"
            ],
            "image/png": "[encoded data removed]"
          },
          "metadata": {
            "needs_background": "light"
          }
        }
      ]
    },
    {
      "cell_type": "markdown",
      "source": [
        "##### Domain"
      ],
      "metadata": {
        "id": "g6A9WdYoakRr"
      }
    },
    {
      "cell_type": "code",
      "source": [
        "piece1 = sp.calculus.util.continuous_domain(p.args[0][0], \n",
        "                                            x, \n",
        "                                            sp.Interval(0, sp.oo))\n",
        "\n",
        "piece2 = sp.calculus.util.continuous_domain(p.args[1][0],\n",
        "                                            x,\n",
        "                                            sp.Interval.open(-sp.oo, 0))"
      ],
      "metadata": {
        "id": "nWfxrsTJWPTs"
      },
      "execution_count": 13,
      "outputs": []
    },
    {
      "cell_type": "code",
      "source": [
        "domain = piece1.union(piece2)\n",
        "domain"
      ],
      "metadata": {
        "colab": {
          "base_uri": "https://localhost:8080/",
          "height": 37
        },
        "id": "75uggZYaZbhc",
        "outputId": "c4405d13-8ac0-4c43-db51-96a0295b0d9f"
      },
      "execution_count": 14,
      "outputs": [
        {
          "output_type": "execute_result",
          "data": {
            "text/plain": [
              "(-∞, ∞)"
            ],
            "image/png": "[encoded data removed]",
            "text/latex": "$\\displaystyle \\left(-\\infty, \\infty\\right)$"
          },
          "metadata": {},
          "execution_count": 14
        }
      ]
    },
    {
      "cell_type": "markdown",
      "source": [
        "##### Range"
      ],
      "metadata": {
        "id": "Gf3UF2bJaufK"
      }
    },
    {
      "cell_type": "code",
      "source": [
        "piece1 = sp.calculus.util.function_range(p.args[0][0],\n",
        "                                         x,\n",
        "                                         sp.Interval(0, sp.oo))\n",
        "piece1"
      ],
      "metadata": {
        "colab": {
          "base_uri": "https://localhost:8080/",
          "height": 37
        },
        "id": "6wAIr_6zYvRC",
        "outputId": "ee8d4dbe-1da0-4888-c651-1e75d60c8755"
      },
      "execution_count": 15,
      "outputs": [
        {
          "output_type": "execute_result",
          "data": {
            "text/plain": [
              "[1, ∞)"
            ],
            "image/png": "[encoded data removed]",
            "text/latex": "$\\displaystyle \\left[1, \\infty\\right)$"
          },
          "metadata": {},
          "execution_count": 15
        }
      ]
    },
    {
      "cell_type": "code",
      "source": [
        "piece2 = sp.calculus.util.function_range(p.args[1][0],\n",
        "                                         x,\n",
        "                                         sp.Interval.open(-sp.oo, 0))\n",
        "piece2"
      ],
      "metadata": {
        "colab": {
          "base_uri": "https://localhost:8080/",
          "height": 37
        },
        "id": "FpRLm_CFa8kY",
        "outputId": "dd0fae95-d9bf-4c85-8756-4e9b23d8e494"
      },
      "execution_count": 16,
      "outputs": [
        {
          "output_type": "execute_result",
          "data": {
            "text/plain": [
              "(-∞, 0)"
            ],
            "image/png": "[encoded data removed]",
            "text/latex": "$\\displaystyle \\left(-\\infty, 0\\right)$"
          },
          "metadata": {},
          "execution_count": 16
        }
      ]
    },
    {
      "cell_type": "code",
      "source": [
        "range = piece1.union(piece2)\n",
        "range"
      ],
      "metadata": {
        "colab": {
          "base_uri": "https://localhost:8080/",
          "height": 37
        },
        "id": "y-hmaTZ1bUgZ",
        "outputId": "d40f88fd-808c-493d-8642-27f77dc73b50"
      },
      "execution_count": 17,
      "outputs": [
        {
          "output_type": "execute_result",
          "data": {
            "text/plain": [
              "(-∞, 0) ∪ [1, ∞)"
            ],
            "image/png": "[encoded data removed]",
            "text/latex": "$\\displaystyle \\left(-\\infty, 0\\right) \\cup \\left[1, \\infty\\right)$"
          },
          "metadata": {},
          "execution_count": 17
        }
      ]
    },
    {
      "cell_type": "markdown",
      "source": [
        "#### Example: $f(x) = \\begin{cases} \\sqrt{x} & \\text{for}\\: x > 0 \\\\- x^{2} & \\text{for}\\: x < 0 \\end{cases}$"
      ],
      "metadata": {
        "id": "2-AadmNDm55P"
      }
    },
    {
      "cell_type": "code",
      "source": [
        "p3 = sp.Piecewise((sp.sqrt(x), x > 0),\n",
        "                  (-x**2, x < 0))\n",
        "p3"
      ],
      "metadata": {
        "colab": {
          "base_uri": "https://localhost:8080/",
          "height": 68
        },
        "id": "gPp8CMgcm412",
        "outputId": "b5acdb2a-b08b-4e7f-99c4-10d980d4a2ef"
      },
      "execution_count": 18,
      "outputs": [
        {
          "output_type": "execute_result",
          "data": {
            "text/plain": [
              "⎧√x   for x > 0\n",
              "⎪              \n",
              "⎨  2           \n",
              "⎪-x   for x < 0\n",
              "⎩              "
            ],
            "text/latex": "$\\displaystyle \\begin{cases} \\sqrt{x} & \\text{for}\\: x > 0 \\\\- x^{2} & \\text{for}\\: x < 0 \\end{cases}$"
          },
          "metadata": {},
          "execution_count": 18
        }
      ]
    },
    {
      "cell_type": "code",
      "source": [
        "fig3 = sp.plot(p3,\n",
        "               line_color='red',\n",
        "               title='Piecewise Function\\n', \n",
        "               aspect_ratio=(1, 1),\n",
        "               xlim=[-10, 10],\n",
        "               ylim=[-10, 10],\n",
        "               show=False)\n",
        "fig3.show()"
      ],
      "metadata": {
        "colab": {
          "base_uri": "https://localhost:8080/",
          "height": 297
        },
        "id": "vCYcMev3ndSx",
        "outputId": "3580f214-d455-48b0-a575-817e17c7014f"
      },
      "execution_count": 19,
      "outputs": [
        {
          "output_type": "display_data",
          "data": {
            "text/plain": [
              "<Figure size 432x288 with 1 Axes>"
            ],
            "image/png": "[encoded data removed]"
          },
          "metadata": {
            "needs_background": "light"
          }
        }
      ]
    },
    {
      "cell_type": "code",
      "source": [
        "piece1 = sp.calculus.util.continuous_domain(p3.args[0][0], x, sp.Interval.open(0, sp.oo))\n",
        "piece2 = sp.calculus.util.continuous_domain(p3.args[1][0], x, sp.Interval.open(-sp.oo, 0))\n",
        "domain = piece1.union(piece2)\n",
        "domain"
      ],
      "metadata": {
        "colab": {
          "base_uri": "https://localhost:8080/",
          "height": 37
        },
        "id": "IPqPSLPIqQwG",
        "outputId": "99f65a3a-520b-4f48-c6d4-8fa932963e7d"
      },
      "execution_count": 20,
      "outputs": [
        {
          "output_type": "execute_result",
          "data": {
            "text/plain": [
              "(-∞, 0) ∪ (0, ∞)"
            ],
            "image/png": "[encoded data removed]",
            "text/latex": "$\\displaystyle \\left(-\\infty, 0\\right) \\cup \\left(0, \\infty\\right)$"
          },
          "metadata": {},
          "execution_count": 20
        }
      ]
    },
    {
      "cell_type": "code",
      "source": [
        "piece1 = sp.calculus.util.function_range(p3.args[0][0], x, sp.Interval.open(0, sp.oo))\n",
        "piece2 = sp.calculus.util.function_range(p3.args[1][0], x, sp.Interval.open(-sp.oo, 0))\n",
        "range = piece1.union(piece2)\n",
        "range"
      ],
      "metadata": {
        "colab": {
          "base_uri": "https://localhost:8080/",
          "height": 37
        },
        "id": "oNykWGdiqeWs",
        "outputId": "4a3425a2-506e-4152-f99f-732f2428041c"
      },
      "execution_count": 21,
      "outputs": [
        {
          "output_type": "execute_result",
          "data": {
            "text/plain": [
              "(-∞, 0) ∪ (0, ∞)"
            ],
            "image/png": "[encoded data removed]",
            "text/latex": "$\\displaystyle \\left(-\\infty, 0\\right) \\cup \\left(0, \\infty\\right)$"
          },
          "metadata": {},
          "execution_count": 21
        }
      ]
    },
    {
      "cell_type": "markdown",
      "source": [
        "### Symmetry"
      ],
      "metadata": {
        "id": "1ehOQvR-c-2_"
      }
    },
    {
      "cell_type": "markdown",
      "source": [
        "#### Example: $f(x) = \\begin{cases} x & \\text{for}\\: x \\geq 0 \\\\- x & \\text{otherwise} \\end{cases}$"
      ],
      "metadata": {
        "id": "qy444GtBdE3R"
      }
    },
    {
      "cell_type": "code",
      "source": [
        "p2 = sp.Piecewise((x, x >= 0),\n",
        "                  (-x, x < 0))\n",
        "p2"
      ],
      "metadata": {
        "colab": {
          "base_uri": "https://localhost:8080/",
          "height": 68
        },
        "id": "DzRSfGeDd3Rs",
        "outputId": "a994877c-fc9a-4f77-e50c-302ef8f6b3a5"
      },
      "execution_count": 22,
      "outputs": [
        {
          "output_type": "execute_result",
          "data": {
            "text/plain": [
              "⎧x   for x ≥ 0\n",
              "⎨             \n",
              "⎩-x  otherwise"
            ],
            "text/latex": "$\\displaystyle \\begin{cases} x & \\text{for}\\: x \\geq 0 \\\\- x & \\text{otherwise} \\end{cases}$"
          },
          "metadata": {},
          "execution_count": 22
        }
      ]
    },
    {
      "cell_type": "code",
      "source": [
        "fig2 = sp.plot(p2,\n",
        "               line_color='red',\n",
        "               title='Piecewise Function\\n', \n",
        "               show=False)\n",
        "fig2.show()"
      ],
      "metadata": {
        "colab": {
          "base_uri": "https://localhost:8080/",
          "height": 297
        },
        "id": "P85LRXixeBeq",
        "outputId": "85a7adaa-89c6-4b3a-c0ec-b8c242af4df7"
      },
      "execution_count": 23,
      "outputs": [
        {
          "output_type": "display_data",
          "data": {
            "text/plain": [
              "<Figure size 432x288 with 1 Axes>"
            ],
            "image/png": "[encoded data removed]"
          },
          "metadata": {
            "needs_background": "light"
          }
        }
      ]
    },
    {
      "cell_type": "code",
      "source": [
        "piece1 = sp.calculus.util.continuous_domain(p2.args[0][0], \n",
        "                                            x, \n",
        "                                            sp.Interval(0, sp.oo))\n",
        "\n",
        "piece2 = sp.calculus.util.continuous_domain(p2.args[1][0], \n",
        "                                            x, \n",
        "                                            sp.Interval.open(-sp.oo, 0))\n",
        "domain = piece1.union(piece2)\n",
        "domain"
      ],
      "metadata": {
        "colab": {
          "base_uri": "https://localhost:8080/",
          "height": 37
        },
        "id": "9-GixE7Zej6p",
        "outputId": "50a21adb-b338-4951-feb4-45401b7fa272"
      },
      "execution_count": 24,
      "outputs": [
        {
          "output_type": "execute_result",
          "data": {
            "text/plain": [
              "(-∞, ∞)"
            ],
            "image/png": "[encoded data removed]",
            "text/latex": "$\\displaystyle \\left(-\\infty, \\infty\\right)$"
          },
          "metadata": {},
          "execution_count": 24
        }
      ]
    },
    {
      "cell_type": "code",
      "source": [
        "piece1 = sp.calculus.util.function_range(p2.args[0][0], x, sp.Interval(0, sp.oo))\n",
        "piece2 = sp.calculus.util.function_range(p2.args[1][0], x, sp.Interval.open(-sp.oo, 0))\n",
        "piece1, piece2"
      ],
      "metadata": {
        "colab": {
          "base_uri": "https://localhost:8080/",
          "height": 37
        },
        "id": "kG0nFaJXevYm",
        "outputId": "8e7618a3-30a8-44ec-fbd4-a777c73e29bd"
      },
      "execution_count": 25,
      "outputs": [
        {
          "output_type": "execute_result",
          "data": {
            "text/plain": [
              "([0, ∞), (0, ∞))"
            ],
            "image/png": "[encoded data removed]",
            "text/latex": "$\\displaystyle \\left( \\left[0, \\infty\\right), \\  \\left(0, \\infty\\right)\\right)$"
          },
          "metadata": {},
          "execution_count": 25
        }
      ]
    },
    {
      "cell_type": "code",
      "source": [
        "range = piece1.union(piece2)\n",
        "range"
      ],
      "metadata": {
        "colab": {
          "base_uri": "https://localhost:8080/",
          "height": 37
        },
        "id": "z_1Gmulpf2tb",
        "outputId": "594cfe27-1a05-480f-c2e8-5044231a0ab9"
      },
      "execution_count": 26,
      "outputs": [
        {
          "output_type": "execute_result",
          "data": {
            "text/plain": [
              "[0, ∞)"
            ],
            "image/png": "[encoded data removed]",
            "text/latex": "$\\displaystyle \\left[0, \\infty\\right)$"
          },
          "metadata": {},
          "execution_count": 26
        }
      ]
    },
    {
      "cell_type": "markdown",
      "source": [
        "#### Example: $f(x) = \\left|{x}\\right|$"
      ],
      "metadata": {
        "id": "sjbc008Vhdbs"
      }
    },
    {
      "cell_type": "code",
      "source": [
        "f = sp.Abs(x)\n",
        "f"
      ],
      "metadata": {
        "colab": {
          "base_uri": "https://localhost:8080/",
          "height": 39
        },
        "id": "orEPz7t8hkpY",
        "outputId": "1bec6cc0-4493-4c3e-8bfe-f563bb757023"
      },
      "execution_count": 27,
      "outputs": [
        {
          "output_type": "execute_result",
          "data": {
            "text/plain": [
              "│x│"
            ],
            "image/png": "[encoded data removed]",
            "text/latex": "$\\displaystyle \\left|{x}\\right|$"
          },
          "metadata": {},
          "execution_count": 27
        }
      ]
    },
    {
      "cell_type": "code",
      "source": [
        "sp.plot(f, line_color='red', title='$f(x) = ' + sp.latex(f) + '$\\n');"
      ],
      "metadata": {
        "colab": {
          "base_uri": "https://localhost:8080/",
          "height": 298
        },
        "id": "HWCB8ka8iaEz",
        "outputId": "28609cf0-3eb8-4743-ce29-238c154b8a84"
      },
      "execution_count": 28,
      "outputs": [
        {
          "output_type": "display_data",
          "data": {
            "text/plain": [
              "<Figure size 432x288 with 1 Axes>"
            ],
            "image/png": "[encoded data removed]"
          },
          "metadata": {
            "needs_background": "light"
          }
        }
      ]
    },
    {
      "cell_type": "code",
      "source": [
        "domain = sp.calculus.util.continuous_domain(f, x, sp.S.Reals)\n",
        "domain"
      ],
      "metadata": {
        "colab": {
          "base_uri": "https://localhost:8080/",
          "height": 38
        },
        "id": "j1tcOFDwoaOc",
        "outputId": "c6923a87-754c-4d32-ac9a-e62cfac4ad38"
      },
      "execution_count": 29,
      "outputs": [
        {
          "output_type": "execute_result",
          "data": {
            "text/plain": [
              "ℝ"
            ],
            "image/png": "[encoded data removed]",
            "text/latex": "$\\displaystyle \\mathbb{R}$"
          },
          "metadata": {},
          "execution_count": 29
        }
      ]
    },
    {
      "cell_type": "markdown",
      "source": [
        "### Even and Odd Functions"
      ],
      "metadata": {
        "id": "QNm63lhYxkCI"
      }
    },
    {
      "cell_type": "markdown",
      "source": [
        "#### Even functions\n",
        "\n",
        "$f(x)$ is *even* if $f(x) = f(-x)$ for all values of $x$\n",
        "\n",
        "- even functions have **y-axis symmetry**\n",
        "- examples:\n",
        "    - $y = x^2$, $y=x^n$ where n is even\n",
        "    - $y = \\left|{x}\\right|$\n",
        "    - $y = \\cos{\\left(x \\right)}$"
      ],
      "metadata": {
        "id": "DoDt6hnxz45X"
      }
    },
    {
      "cell_type": "code",
      "source": [
        "fig = sp.plot(x**2, x**8, sp.Abs(x), sp.cos(x), \n",
        "              ylim=[-2, 10],\n",
        "              legend=True,\n",
        "              show=False)\n",
        "\n",
        "fig[0].line_color='red'\n",
        "fig[0].label = '$y = ' + sp.latex(x**2) + '$'\n",
        "\n",
        "fig[1].line_color='pink'\n",
        "fig[1].label = '$y = ' + sp.latex(x**8) + '$'\n",
        "\n",
        "fig[2].line_color='green'\n",
        "fig[2].label = '$y = ' + sp.latex(sp.Abs(x)) + '$'\n",
        "\n",
        "fig[3].line_color='blue'\n",
        "fig[3].label = '$y = ' + sp.latex(sp.cos(x)) + '$'\n",
        "\n",
        "fig.show()"
      ],
      "metadata": {
        "colab": {
          "base_uri": "https://localhost:8080/",
          "height": 297
        },
        "id": "rAtWN-E4xyIj",
        "outputId": "c96b530b-ec45-415f-fc83-b139be0cab77"
      },
      "execution_count": 30,
      "outputs": [
        {
          "output_type": "display_data",
          "data": {
            "text/plain": [
              "<Figure size 432x288 with 1 Axes>"
            ],
            "image/png": "[encoded data removed]"
          },
          "metadata": {
            "needs_background": "light"
          }
        }
      ]
    },
    {
      "cell_type": "markdown",
      "source": [
        "#### Odd functions\n",
        "\n",
        "$f(x)$ is *odd* if $f(-x) = -f(x)$ for all values of $x$\n",
        "\n",
        "- even functions have **origin symmetry**\n",
        "- examples:\n",
        "    - $y = x^3$, $y=x^n$ where n is odd\n",
        "    - $y = \\sin{\\left(x \\right)}$"
      ],
      "metadata": {
        "id": "O8GqCIEI5MjY"
      }
    },
    {
      "cell_type": "code",
      "source": [
        "fig = sp.plot(x**3, x**9, sp.sin(x), \n",
        "              ylim=[-5, 5],\n",
        "              legend=True,\n",
        "              show=False)\n",
        "\n",
        "fig[0].line_color='red'\n",
        "fig[0].label = '$y = ' + sp.latex(x**3) + '$'\n",
        "\n",
        "fig[1].line_color='green'\n",
        "fig[1].label = '$y = ' + sp.latex(x**3) + '$'\n",
        "\n",
        "fig[2].line_color='blue'\n",
        "fig[2].label = '$y = ' + sp.latex(sp.sin(x)) + '$'\n",
        "\n",
        "fig.show()"
      ],
      "metadata": {
        "colab": {
          "base_uri": "https://localhost:8080/",
          "height": 297
        },
        "id": "cLYLrTyr9dzU",
        "outputId": "69113e93-c067-45eb-9839-6224bf4f396f"
      },
      "execution_count": 31,
      "outputs": [
        {
          "output_type": "display_data",
          "data": {
            "text/plain": [
              "<Figure size 432x288 with 1 Axes>"
            ],
            "image/png": "[encoded data removed]"
          },
          "metadata": {
            "needs_background": "light"
          }
        }
      ]
    },
    {
      "cell_type": "markdown",
      "source": [
        "### Increasing and Decreasing"
      ],
      "metadata": {
        "id": "hEGZLcqJ--qN"
      }
    },
    {
      "cell_type": "markdown",
      "source": [
        "#### Increasing\n",
        "\n",
        "$f$ is *increasing* on interval $[a, b]$ \n",
        "- when $x_1 < x_2$ then $f(x_1) < f(x_2)$\n",
        "- the function is \"going up\" when moving from left to right"
      ],
      "metadata": {
        "id": "5ExyIYNkCbq2"
      }
    },
    {
      "cell_type": "markdown",
      "source": [
        "#### Decreasing\n",
        "\n",
        "$f$ is *decreasing* on interval $[a, b]$ \n",
        "- when $x_1 < x_2$ then $f(x_1) > f(x_2)$\n",
        "- the function is \"going down\" when moving from left to right"
      ],
      "metadata": {
        "id": "Ks00j4EOEcRJ"
      }
    },
    {
      "cell_type": "code",
      "source": [
        "sp.plot(x**2, \n",
        "        line_color='red', \n",
        "        title='$f(x) =' + sp.latex(x**2) + '$\\n');"
      ],
      "metadata": {
        "colab": {
          "base_uri": "https://localhost:8080/",
          "height": 298
        },
        "id": "Mgy-oDt2CaI7",
        "outputId": "15c86db9-ff76-42e7-cd24-500e69172c8f"
      },
      "execution_count": 32,
      "outputs": [
        {
          "output_type": "display_data",
          "data": {
            "text/plain": [
              "<Figure size 432x288 with 1 Axes>"
            ],
            "image/png": "[encoded data removed]"
          },
          "metadata": {
            "needs_background": "light"
          }
        }
      ]
    },
    {
      "cell_type": "markdown",
      "source": [
        "$f(x) = x^2$ is **increasing** on the interval $(0, \\infty)$ and **decreasing** on the interval $(-\\infty, 0)$"
      ],
      "metadata": {
        "id": "suq-UaeWGk7y"
      }
    },
    {
      "cell_type": "markdown",
      "source": [
        "## 2.1.3 Reading: Functions and Linear Functions"
      ],
      "metadata": {
        "id": "smz02VRwDlTJ"
      }
    },
    {
      "cell_type": "markdown",
      "source": [
        "### Functions\n",
        "\n",
        "A **function** is a relationship between a set of inputs and a set of outputs, where each input corresponds to exactly one output.\n",
        "\n",
        "The input is also called the **independent variable**, and the output is called the **dependent variable**. \n",
        "\n",
        "The input of a function is also called the **argument**.\n",
        "\n",
        "The set of all possible inputs for the function is called the **domain**, and the set of all possible outputs is called the **range**.\n",
        "\n",
        "Functions are often written in **function notation**.  $y = f(x)$  is read as \"y equals f of x.\" This notation means that $y$, the dependent variable, is a function of the independent variable, $x$. \n",
        "\n",
        "#### Representations of functions\n",
        "\n",
        "Functions can be given through mathematical formulas, tables, graphs, and verbal descriptions. \n",
        "\n",
        "The tools of calculus are used on functions that are given as mathematical formulas. As a result, in this course we will see some **modeling functions** - mathematical formulas that fit real-world scenarios expressed through tables of data or visuals."
      ],
      "metadata": {
        "id": "4mbgfd2oDo3w"
      }
    },
    {
      "cell_type": "markdown",
      "source": [
        "### Linear Functions\n",
        "\n",
        "A **linear function** is a function of the form $f(x) = mx + b$, where $m$ and $b$ are constants.\n",
        "\n",
        "The graph of a inear function is a straight line with slope $m$ and y-intercept $(0,b)$.\n",
        "\n",
        "#### Calculating slope\n",
        "\n",
        "$m = \\frac{f(x_2) - f(x_1)}{x_2 - x_1}$\n",
        "\n",
        "The slope of a linear function can be thought of as the **rate of change** in the function.\n",
        "\n",
        "#### Parallel and perpendicular\n",
        "\n",
        "**Parallel lines**, must have the same sloe.\n",
        "\n",
        "**Perpendicular lines** intersect at right angles, A line that is perpendicular to a line of slope $m$ has slope $\\frac{1}{m}$, the negative reciprocal of $m$.\n",
        "\n",
        "#### Forms for linear function\n",
        "\n",
        "There are two main forms:\n",
        "\n",
        "1. **Slope-Intercept Form**\n",
        "    - $y = mx + b$\n",
        "    - $m$ is the slope and $(0,b)$ is the y-intercept\n",
        "2. **Point-Slope Form**\n",
        "    - $y - y_0 = m(x - x_0)$\n",
        "    - $(x_0,y_0)$ are the coorindates of an arbitrary point on the line."
      ],
      "metadata": {
        "id": "rGudSunnGB4A"
      }
    },
    {
      "cell_type": "markdown",
      "source": [
        "## 2.1.4 Theory: Graphing and Composition"
      ],
      "metadata": {
        "id": "fbZ7alWYIYzU"
      }
    },
    {
      "cell_type": "markdown",
      "source": [
        "### Common Types of Functions"
      ],
      "metadata": {
        "id": "owGBNoRvLrtc"
      }
    },
    {
      "cell_type": "markdown",
      "source": [
        "#### Linear"
      ],
      "metadata": {
        "id": "ZLr49kmnL1Wv"
      }
    },
    {
      "cell_type": "code",
      "source": [
        "display_f_of_x('3*x + 4')"
      ],
      "metadata": {
        "colab": {
          "base_uri": "https://localhost:8080/",
          "height": 597
        },
        "id": "B-qn_byfL8D6",
        "outputId": "e753111f-b66e-45f5-f173-4a8200a5d5ea"
      },
      "execution_count": 33,
      "outputs": [
        {
          "output_type": "display_data",
          "data": {
            "text/plain": [
              "<Figure size 432x288 with 1 Axes>"
            ],
            "image/png": "[encoded data removed]"
          },
          "metadata": {
            "needs_background": "light"
          }
        },
        {
          "output_type": "stream",
          "name": "stdout",
          "text": [
            "\n",
            "X-intercepts:\n"
          ]
        },
        {
          "output_type": "display_data",
          "data": {
            "text/plain": [
              "[-4/3]"
            ],
            "image/png": "[encoded data removed]",
            "text/latex": "$\\displaystyle \\left[ - \\frac{4}{3}\\right]$"
          },
          "metadata": {}
        },
        {
          "output_type": "stream",
          "name": "stdout",
          "text": [
            "\n",
            "Y-intercept:\n"
          ]
        },
        {
          "output_type": "display_data",
          "data": {
            "text/plain": [
              "4"
            ],
            "image/png": "[encoded data removed]",
            "text/latex": "$\\displaystyle 4$"
          },
          "metadata": {}
        },
        {
          "output_type": "stream",
          "name": "stdout",
          "text": [
            "\n",
            "Slope (derivative):\n"
          ]
        },
        {
          "output_type": "display_data",
          "data": {
            "text/plain": [
              "3"
            ],
            "image/png": "[encoded data removed]",
            "text/latex": "$\\displaystyle 3$"
          },
          "metadata": {}
        },
        {
          "output_type": "stream",
          "name": "stdout",
          "text": [
            "\n",
            "Domain:\n"
          ]
        },
        {
          "output_type": "display_data",
          "data": {
            "text/plain": [
              "ℝ"
            ],
            "image/png": "[encoded data removed]",
            "text/latex": "$\\displaystyle \\mathbb{R}$"
          },
          "metadata": {}
        },
        {
          "output_type": "stream",
          "name": "stdout",
          "text": [
            "\n",
            "Range:\n"
          ]
        },
        {
          "output_type": "display_data",
          "data": {
            "text/plain": [
              "(-∞, ∞)"
            ],
            "image/png": "[encoded data removed]",
            "text/latex": "$\\displaystyle \\left(-\\infty, \\infty\\right)$"
          },
          "metadata": {}
        }
      ]
    },
    {
      "cell_type": "markdown",
      "source": [
        "#### Quadratic"
      ],
      "metadata": {
        "id": "Kt5mwaS5KutY"
      }
    },
    {
      "cell_type": "code",
      "source": [
        "display_f_of_x('x**2')"
      ],
      "metadata": {
        "colab": {
          "base_uri": "https://localhost:8080/",
          "height": 579
        },
        "id": "kGQ9sEgzKjPI",
        "outputId": "c95ae0ec-e23e-4447-f30a-d7d662b0c58f"
      },
      "execution_count": 34,
      "outputs": [
        {
          "output_type": "display_data",
          "data": {
            "text/plain": [
              "<Figure size 432x288 with 1 Axes>"
            ],
            "image/png": "[encoded data removed]"
          },
          "metadata": {
            "needs_background": "light"
          }
        },
        {
          "output_type": "stream",
          "name": "stdout",
          "text": [
            "\n",
            "X-intercepts:\n"
          ]
        },
        {
          "output_type": "display_data",
          "data": {
            "text/plain": [
              "[0]"
            ],
            "image/png": "[encoded data removed]",
            "text/latex": "$\\displaystyle \\left[ 0\\right]$"
          },
          "metadata": {}
        },
        {
          "output_type": "stream",
          "name": "stdout",
          "text": [
            "\n",
            "Y-intercept:\n"
          ]
        },
        {
          "output_type": "display_data",
          "data": {
            "text/plain": [
              "0"
            ],
            "image/png": "[encoded data removed]",
            "text/latex": "$\\displaystyle 0$"
          },
          "metadata": {}
        },
        {
          "output_type": "stream",
          "name": "stdout",
          "text": [
            "\n",
            "Slope (derivative):\n"
          ]
        },
        {
          "output_type": "display_data",
          "data": {
            "text/plain": [
              "2⋅x"
            ],
            "image/png": "[encoded data removed]",
            "text/latex": "$\\displaystyle 2 x$"
          },
          "metadata": {}
        },
        {
          "output_type": "stream",
          "name": "stdout",
          "text": [
            "\n",
            "Domain:\n"
          ]
        },
        {
          "output_type": "display_data",
          "data": {
            "text/plain": [
              "ℝ"
            ],
            "image/png": "[encoded data removed]",
            "text/latex": "$\\displaystyle \\mathbb{R}$"
          },
          "metadata": {}
        },
        {
          "output_type": "stream",
          "name": "stdout",
          "text": [
            "\n",
            "Range:\n"
          ]
        },
        {
          "output_type": "display_data",
          "data": {
            "text/plain": [
              "[0, ∞)"
            ],
            "image/png": "[encoded data removed]",
            "text/latex": "$\\displaystyle \\left[0, \\infty\\right)$"
          },
          "metadata": {}
        }
      ]
    },
    {
      "cell_type": "markdown",
      "source": [
        "#### Absolute Value\n",
        "\n",
        "- this is actually a piecewise function"
      ],
      "metadata": {
        "id": "V5uj2rzrM2wm"
      }
    },
    {
      "cell_type": "code",
      "source": [
        "sp.plot(sp.Abs(x));"
      ],
      "metadata": {
        "colab": {
          "base_uri": "https://localhost:8080/",
          "height": 296
        },
        "id": "lwCHkNy3M9s9",
        "outputId": "6e745ae8-c735-4f10-eb23-b70e419f1cde"
      },
      "execution_count": 35,
      "outputs": [
        {
          "output_type": "display_data",
          "data": {
            "text/plain": [
              "<Figure size 432x288 with 1 Axes>"
            ],
            "image/png": "[encoded data removed]"
          },
          "metadata": {
            "needs_background": "light"
          }
        }
      ]
    },
    {
      "cell_type": "markdown",
      "source": [
        "#### Cubic"
      ],
      "metadata": {
        "id": "l84tlm3SNuru"
      }
    },
    {
      "cell_type": "code",
      "source": [
        "display_f_of_x('x**3')"
      ],
      "metadata": {
        "colab": {
          "base_uri": "https://localhost:8080/",
          "height": 578
        },
        "id": "egzJmnNBN1Bh",
        "outputId": "2a6a5dfd-fcd4-4396-9e9b-b88bb579a68d"
      },
      "execution_count": 36,
      "outputs": [
        {
          "output_type": "display_data",
          "data": {
            "text/plain": [
              "<Figure size 432x288 with 1 Axes>"
            ],
            "image/png": "[encoded data removed]"
          },
          "metadata": {
            "needs_background": "light"
          }
        },
        {
          "output_type": "stream",
          "name": "stdout",
          "text": [
            "\n",
            "X-intercepts:\n"
          ]
        },
        {
          "output_type": "display_data",
          "data": {
            "text/plain": [
              "[0]"
            ],
            "image/png": "[encoded data removed]",
            "text/latex": "$\\displaystyle \\left[ 0\\right]$"
          },
          "metadata": {}
        },
        {
          "output_type": "stream",
          "name": "stdout",
          "text": [
            "\n",
            "Y-intercept:\n"
          ]
        },
        {
          "output_type": "display_data",
          "data": {
            "text/plain": [
              "0"
            ],
            "image/png": "[encoded data removed]",
            "text/latex": "$\\displaystyle 0$"
          },
          "metadata": {}
        },
        {
          "output_type": "stream",
          "name": "stdout",
          "text": [
            "\n",
            "Slope (derivative):\n"
          ]
        },
        {
          "output_type": "display_data",
          "data": {
            "text/plain": [
              "   2\n",
              "3⋅x "
            ],
            "image/png": "[encoded data removed]",
            "text/latex": "$\\displaystyle 3 x^{2}$"
          },
          "metadata": {}
        },
        {
          "output_type": "stream",
          "name": "stdout",
          "text": [
            "\n",
            "Domain:\n"
          ]
        },
        {
          "output_type": "display_data",
          "data": {
            "text/plain": [
              "ℝ"
            ],
            "image/png": "[encoded data removed]",
            "text/latex": "$\\displaystyle \\mathbb{R}$"
          },
          "metadata": {}
        },
        {
          "output_type": "stream",
          "name": "stdout",
          "text": [
            "\n",
            "Range:\n"
          ]
        },
        {
          "output_type": "display_data",
          "data": {
            "text/plain": [
              "(-∞, ∞)"
            ],
            "image/png": "[encoded data removed]",
            "text/latex": "$\\displaystyle \\left(-\\infty, \\infty\\right)$"
          },
          "metadata": {}
        }
      ]
    },
    {
      "cell_type": "markdown",
      "source": [
        "#### Sine and Cosine"
      ],
      "metadata": {
        "id": "YyMsu2CHOJ1z"
      }
    },
    {
      "cell_type": "code",
      "source": [
        "p = sp.plot(sp.sin(x), sp.cos(x), legend=True, show=False)\n",
        "\n",
        "p[0].line_color = 'red'\n",
        "p[0].label = '$' + sp.latex(sp.sin(x)) + '$'\n",
        "\n",
        "p[1].line_color = 'dodgerblue'\n",
        "p[1].label = '$' + sp.latex(sp.cos(x)) + '$'\n",
        "\n",
        "domain_sin = sp.calculus.util.continuous_domain(sp.sin(x), x, sp.S.Reals)\n",
        "\n",
        "try:\n",
        "    range_sin = sp.calculus.util.function_range(sp.sin(x), x, sp.S.Reals)\n",
        "except:\n",
        "    range_sin = 'Not found'\n",
        "\n",
        "print('The domain of the sine function is:')\n",
        "display(domain_sin)\n",
        "print('The range of the sine function is:')\n",
        "display(range_sin)\n",
        "\n",
        "domain_cos = sp.calculus.util.continuous_domain(sp.cos(x), x, sp.S.Reals)\n",
        "\n",
        "try:\n",
        "    range_cos = sp.calculus.util.function_range(sp.cos(x), x, sp.S.Reals)\n",
        "except:\n",
        "    range_cos = 'Not found'\n",
        "\n",
        "print('The domain of the cosine function is:')\n",
        "display(domain_cos)\n",
        "print('The range of the cosine function is:')\n",
        "display(range_cos)\n",
        "\n",
        "p.show()"
      ],
      "metadata": {
        "colab": {
          "base_uri": "https://localhost:8080/",
          "height": 451
        },
        "id": "heraLlMTONop",
        "outputId": "342c0f08-35a3-4674-955e-13158623d53c"
      },
      "execution_count": 37,
      "outputs": [
        {
          "output_type": "stream",
          "name": "stdout",
          "text": [
            "The domain of the sine function is:\n"
          ]
        },
        {
          "output_type": "display_data",
          "data": {
            "text/plain": [
              "ℝ"
            ],
            "image/png": "[encoded data removed]",
            "text/latex": "$\\displaystyle \\mathbb{R}$"
          },
          "metadata": {}
        },
        {
          "output_type": "stream",
          "name": "stdout",
          "text": [
            "The range of the sine function is:\n"
          ]
        },
        {
          "output_type": "display_data",
          "data": {
            "text/plain": [
              "[-1, 1]"
            ],
            "image/png": "[encoded data removed]",
            "text/latex": "$\\displaystyle \\left[-1, 1\\right]$"
          },
          "metadata": {}
        },
        {
          "output_type": "stream",
          "name": "stdout",
          "text": [
            "The domain of the cosine function is:\n"
          ]
        },
        {
          "output_type": "display_data",
          "data": {
            "text/plain": [
              "ℝ"
            ],
            "image/png": "[encoded data removed]",
            "text/latex": "$\\displaystyle \\mathbb{R}$"
          },
          "metadata": {}
        },
        {
          "output_type": "stream",
          "name": "stdout",
          "text": [
            "The range of the cosine function is:\n"
          ]
        },
        {
          "output_type": "display_data",
          "data": {
            "text/plain": [
              "[-1, 1]"
            ],
            "image/png": "[encoded data removed]",
            "text/latex": "$\\displaystyle \\left[-1, 1\\right]$"
          },
          "metadata": {}
        },
        {
          "output_type": "display_data",
          "data": {
            "text/plain": [
              "<Figure size 432x288 with 1 Axes>"
            ],
            "image/png": "[encoded data removed]"
          },
          "metadata": {
            "needs_background": "light"
          }
        }
      ]
    },
    {
      "cell_type": "markdown",
      "source": [
        "### Function Composition"
      ],
      "metadata": {
        "id": "WOglrjR2TKD0"
      }
    },
    {
      "cell_type": "markdown",
      "source": [
        "#### Definition\n",
        "\n",
        "$f \\circ g$ is read as '*f composed with g*'\n",
        "\n",
        "$(f \\circ g)(x) = f(g(x))$"
      ],
      "metadata": {
        "id": "QCE-xr0dU33u"
      }
    },
    {
      "cell_type": "markdown",
      "source": [
        "#### Example\n",
        "\n",
        "$f(x) = 2x - 1$\n",
        "<br>\n",
        "$g(x) = x^3$"
      ],
      "metadata": {
        "id": "fwBF8X_Jjn92"
      }
    },
    {
      "cell_type": "markdown",
      "source": [
        "$\n",
        "\\begin{align}\n",
        "(f \\circ g)(x) &= f(g(x)) \\\\\n",
        "&= f(x^3) \\\\\n",
        "&= 2x^3 - 1 \\\\\\\\\n",
        "(g \\circ f)(x) &= g(f(x)) \\\\\n",
        "&= g(2x-1) \\\\\n",
        "&= (2x - 1)^3\n",
        "\\end{align} \n",
        "$"
      ],
      "metadata": {
        "id": "2dub1K_0kLoK"
      }
    },
    {
      "cell_type": "markdown",
      "source": [
        "Composition is **not commutative**"
      ],
      "metadata": {
        "id": "Fa5Yq_ucnkJ4"
      }
    },
    {
      "cell_type": "code",
      "source": [
        "f = 2*x - 1\n",
        "g = x**3\n",
        "f_o_g = f.subs(x, g)\n",
        "g_o_f = g.subs(x, f)"
      ],
      "metadata": {
        "id": "kgn7nIB5VqbO"
      },
      "execution_count": 38,
      "outputs": []
    },
    {
      "cell_type": "code",
      "source": [
        "f, g, f_o_g, g_o_f"
      ],
      "metadata": {
        "colab": {
          "base_uri": "https://localhost:8080/",
          "height": 47
        },
        "id": "L_XdLdFtodt_",
        "outputId": "7c841a85-8952-4732-d884-4f05b2eb870e"
      },
      "execution_count": 39,
      "outputs": [
        {
          "output_type": "execute_result",
          "data": {
            "text/plain": [
              "⎛          3     3               3⎞\n",
              "⎝2⋅x - 1, x , 2⋅x  - 1, (2⋅x - 1) ⎠"
            ],
            "image/png": "[encoded data removed]",
            "text/latex": "$\\displaystyle \\left( 2 x - 1, \\  x^{3}, \\  2 x^{3} - 1, \\  \\left(2 x - 1\\right)^{3}\\right)$"
          },
          "metadata": {},
          "execution_count": 39
        }
      ]
    },
    {
      "cell_type": "code",
      "source": [
        "p = sp.plot(f_o_g, g_o_f, \n",
        "            legend=True, \n",
        "            ylim=[-100, 100],\n",
        "            show=False)\n",
        "\n",
        "p[0].line_color='red'\n",
        "p[0].label = '$' + sp.latex(f_o_g) + '$'\n",
        "p[1].line_color='dodgerblue'\n",
        "p[1].label = '$' + sp.latex(g_o_f) + '$'\n",
        "\n",
        "p.show()"
      ],
      "metadata": {
        "colab": {
          "base_uri": "https://localhost:8080/",
          "height": 297
        },
        "id": "K0dy1KkXpriS",
        "outputId": "63344650-5a71-4a97-ffb1-6d8c7343af2a"
      },
      "execution_count": 40,
      "outputs": [
        {
          "output_type": "display_data",
          "data": {
            "text/plain": [
              "<Figure size 432x288 with 1 Axes>"
            ],
            "image/png": "[encoded data removed]"
          },
          "metadata": {
            "needs_background": "light"
          }
        }
      ]
    },
    {
      "cell_type": "markdown",
      "source": [
        "#### Example\n",
        "\n",
        "$f(x) = \\sqrt{x}$\n",
        "<br>\n",
        "$g(x) = \\sqrt[3]{1 - x}$"
      ],
      "metadata": {
        "id": "xsBnEQSmrWM7"
      }
    },
    {
      "cell_type": "code",
      "source": [
        "f = sp.sqrt(x)\n",
        "g = sp.cbrt(1 - x)"
      ],
      "metadata": {
        "id": "QzYM8meus7Zy"
      },
      "execution_count": 41,
      "outputs": []
    },
    {
      "cell_type": "code",
      "source": [
        "f, g"
      ],
      "metadata": {
        "colab": {
          "base_uri": "https://localhost:8080/",
          "height": 39
        },
        "id": "sRA-hCdMtFxs",
        "outputId": "96588c64-8642-4506-f63d-abcfeb5f1b80"
      },
      "execution_count": 42,
      "outputs": [
        {
          "output_type": "execute_result",
          "data": {
            "text/plain": [
              "⎛    3 _______⎞\n",
              "⎝√x, ╲╱ 1 - x ⎠"
            ],
            "image/png": "[encoded data removed]",
            "text/latex": "$\\displaystyle \\left( \\sqrt{x}, \\  \\sqrt[3]{1 - x}\\right)$"
          },
          "metadata": {},
          "execution_count": 42
        }
      ]
    },
    {
      "cell_type": "code",
      "source": [
        "p = sp.plot(f, g_o_f, \n",
        "            legend=True, \n",
        "            ylim=[-10, 10],\n",
        "            show=False)\n",
        "\n",
        "p[0].line_color='red'\n",
        "p[0].label = '$' + sp.latex(f) + '$'\n",
        "p[1].line_color='dodgerblue'\n",
        "p[1].label = '$' + sp.latex(g) + '$'\n",
        "\n",
        "p.show()"
      ],
      "metadata": {
        "colab": {
          "base_uri": "https://localhost:8080/",
          "height": 297
        },
        "id": "w1FVrfCmtvjG",
        "outputId": "ae62dc1f-0a4d-4440-fdb5-e4e7d313f5b8"
      },
      "execution_count": 43,
      "outputs": [
        {
          "output_type": "display_data",
          "data": {
            "text/plain": [
              "<Figure size 432x288 with 1 Axes>"
            ],
            "image/png": "[encoded data removed]"
          },
          "metadata": {
            "needs_background": "light"
          }
        }
      ]
    },
    {
      "cell_type": "markdown",
      "source": [
        "$\n",
        "\\begin{align}\n",
        "(f \\circ f)(x) &= f(f(x)) \\\\\n",
        "&= f(\\sqrt{x}) \\\\\n",
        "&= \\sqrt{\\sqrt{x}} \\\\\\\\\n",
        "(g \\circ g)(x) &= g(g(x)) \\\\\n",
        "&= g\\left( \\sqrt[3]{1 - x}\\right) \\\\\n",
        "&= g((1 - x)^\\frac{1}{3}) \\\\\n",
        "&= (1 - (1 - x)^\\frac{1}{3})^\\frac{1}{3}\n",
        "\\end{align}\n",
        "$"
      ],
      "metadata": {
        "id": "3K-nk3kxujO2"
      }
    },
    {
      "cell_type": "code",
      "source": [
        "f_o_f = f.subs(x, f)\n",
        "g_o_g = g.subs(x, g)"
      ],
      "metadata": {
        "id": "e3INx7DZyEUV"
      },
      "execution_count": 44,
      "outputs": []
    },
    {
      "cell_type": "code",
      "source": [
        "f_o_f, g_o_g"
      ],
      "metadata": {
        "colab": {
          "base_uri": "https://localhost:8080/",
          "height": 58
        },
        "id": "UT588mkvyVzL",
        "outputId": "409bad9c-7258-48f7-a8ec-992cf1cf5bdd"
      },
      "execution_count": 45,
      "outputs": [
        {
          "output_type": "execute_result",
          "data": {
            "text/plain": [
              "⎛          _______________⎞\n",
              "⎜4 ___  3 ╱     3 _______ ⎟\n",
              "⎝╲╱ x , ╲╱  1 - ╲╱ 1 - x  ⎠"
            ],
            "image/png": "[encoded data removed]",
            "text/latex": "$\\displaystyle \\left( \\sqrt[4]{x}, \\  \\sqrt[3]{1 - \\sqrt[3]{1 - x}}\\right)$"
          },
          "metadata": {},
          "execution_count": 45
        }
      ]
    },
    {
      "cell_type": "markdown",
      "source": [
        "#### Example\n",
        "\n",
        "$g(s) = \\sqrt{\\cos{s}}$\n",
        "\n",
        "Find a function $f$ and a function $h$, such that $g(s) = (f \\circ h)(s)$\n",
        "\n",
        "##### Solution\n",
        "\n",
        "$f(s) = \\sqrt{s}$\n",
        "<br>\n",
        "$g(s) = \\cos{s}$"
      ],
      "metadata": {
        "id": "_MbYeQP70Wot"
      }
    },
    {
      "cell_type": "code",
      "source": [
        "s = sp.symbols('s')"
      ],
      "metadata": {
        "id": "a1y7Q3VF3QJD"
      },
      "execution_count": 46,
      "outputs": []
    },
    {
      "cell_type": "code",
      "source": [
        "g = sp.sqrt(sp.cos(s))\n",
        "g"
      ],
      "metadata": {
        "colab": {
          "base_uri": "https://localhost:8080/",
          "height": 39
        },
        "id": "nYpoRjOE3ICD",
        "outputId": "4ef8fa9a-bb09-4fb8-d21a-107656b96b30"
      },
      "execution_count": 47,
      "outputs": [
        {
          "output_type": "execute_result",
          "data": {
            "text/plain": [
              "  ________\n",
              "╲╱ cos(s) "
            ],
            "image/png": "[encoded data removed]",
            "text/latex": "$\\displaystyle \\sqrt{\\cos{\\left(s \\right)}}$"
          },
          "metadata": {},
          "execution_count": 47
        }
      ]
    },
    {
      "cell_type": "code",
      "source": [
        "s = sp.symbols('s')\n",
        "f = sp.sqrt(s)\n",
        "h = sp.cos(s)\n",
        "\n",
        "f, h"
      ],
      "metadata": {
        "colab": {
          "base_uri": "https://localhost:8080/",
          "height": 39
        },
        "id": "kHhXiBWZ1aQm",
        "outputId": "e1a73a1a-d308-4dea-8321-d2e69dfece2b"
      },
      "execution_count": 48,
      "outputs": [
        {
          "output_type": "execute_result",
          "data": {
            "text/plain": [
              "(√s, cos(s))"
            ],
            "image/png": "[encoded data removed]",
            "text/latex": "$\\displaystyle \\left( \\sqrt{s}, \\  \\cos{\\left(s \\right)}\\right)$"
          },
          "metadata": {},
          "execution_count": 48
        }
      ]
    },
    {
      "cell_type": "code",
      "source": [
        "f_o_h = f.subs(s, h)\n",
        "f_o_h"
      ],
      "metadata": {
        "colab": {
          "base_uri": "https://localhost:8080/",
          "height": 39
        },
        "id": "4q-P62TC1qzZ",
        "outputId": "0e3873ff-827c-4504-fcc5-431c82791166"
      },
      "execution_count": 49,
      "outputs": [
        {
          "output_type": "execute_result",
          "data": {
            "text/plain": [
              "  ________\n",
              "╲╱ cos(s) "
            ],
            "image/png": "[encoded data removed]",
            "text/latex": "$\\displaystyle \\sqrt{\\cos{\\left(s \\right)}}$"
          },
          "metadata": {},
          "execution_count": 49
        }
      ]
    },
    {
      "cell_type": "code",
      "source": [
        "g.equals(f_o_h)"
      ],
      "metadata": {
        "colab": {
          "base_uri": "https://localhost:8080/"
        },
        "id": "7alc0M6S2f4w",
        "outputId": "7bcada63-b6b4-4373-c7ad-e45e724603e1"
      },
      "execution_count": 50,
      "outputs": [
        {
          "output_type": "execute_result",
          "data": {
            "text/plain": [
              "True"
            ]
          },
          "metadata": {},
          "execution_count": 50
        }
      ]
    },
    {
      "cell_type": "code",
      "source": [
        "g == f_o_h"
      ],
      "metadata": {
        "colab": {
          "base_uri": "https://localhost:8080/"
        },
        "id": "TOuxM9OT29cB",
        "outputId": "d47cd5fd-4dd4-42ea-f62c-8cc6320742c0"
      },
      "execution_count": 51,
      "outputs": [
        {
          "output_type": "execute_result",
          "data": {
            "text/plain": [
              "True"
            ]
          },
          "metadata": {},
          "execution_count": 51
        }
      ]
    },
    {
      "cell_type": "markdown",
      "source": [
        "## 2.1.5 Python: Graphing Functions"
      ],
      "metadata": {
        "id": "QOqgOy_VtHqw"
      }
    },
    {
      "cell_type": "markdown",
      "source": [
        "### Simple plot example"
      ],
      "metadata": {
        "id": "b_BQAKJk6Y-k"
      }
    },
    {
      "cell_type": "code",
      "source": [
        "p = sp.plotting.plot(x**2, show=False)\n",
        "p.show()"
      ],
      "metadata": {
        "colab": {
          "base_uri": "https://localhost:8080/",
          "height": 296
        },
        "id": "6t1fPrGQuEYo",
        "outputId": "2723d234-808e-480d-d815-bf8f7f9a3ddf"
      },
      "execution_count": 52,
      "outputs": [
        {
          "output_type": "display_data",
          "data": {
            "text/plain": [
              "<Figure size 432x288 with 1 Axes>"
            ],
            "image/png": "[encoded data removed]"
          },
          "metadata": {
            "needs_background": "light"
          }
        }
      ]
    },
    {
      "cell_type": "markdown",
      "source": [
        "### Saving plot images"
      ],
      "metadata": {
        "id": "np2C3vEs6GP0"
      }
    },
    {
      "cell_type": "code",
      "source": [
        "from google.colab import drive\n",
        "drive.mount('gdrive')"
      ],
      "metadata": {
        "colab": {
          "base_uri": "https://localhost:8080/"
        },
        "id": "IUqPs3DhExpA",
        "outputId": "2cde1b28-ee90-4611-fe04-6323a17c3770"
      },
      "execution_count": 53,
      "outputs": [
        {
          "output_type": "stream",
          "name": "stdout",
          "text": [
            "Mounted at gdrive\n"
          ]
        }
      ]
    },
    {
      "cell_type": "code",
      "source": [
        "import os\n",
        "os.getcwd()"
      ],
      "metadata": {
        "colab": {
          "base_uri": "https://localhost:8080/",
          "height": 36
        },
        "id": "B04KpAg9xUJg",
        "outputId": "c1174fb0-26a5-494c-e69d-ae44b5b7195e"
      },
      "execution_count": 54,
      "outputs": [
        {
          "output_type": "execute_result",
          "data": {
            "text/plain": [
              "'/content'"
            ],
            "application/vnd.google.colaboratory.intrinsic+json": {
              "type": "string"
            }
          },
          "metadata": {},
          "execution_count": 54
        }
      ]
    },
    {
      "cell_type": "code",
      "source": [
        "os.listdir('/content')"
      ],
      "metadata": {
        "colab": {
          "base_uri": "https://localhost:8080/"
        },
        "id": "HERdva9t7MiX",
        "outputId": "e0fd9ee2-c962-41cf-a529-3e1aa18c1b71"
      },
      "execution_count": 55,
      "outputs": [
        {
          "output_type": "execute_result",
          "data": {
            "text/plain": [
              "['.config', 'gdrive', 'sample_data']"
            ]
          },
          "metadata": {},
          "execution_count": 55
        }
      ]
    },
    {
      "cell_type": "code",
      "source": [
        "os.listdir()"
      ],
      "metadata": {
        "colab": {
          "base_uri": "https://localhost:8080/"
        },
        "id": "PB_V7ZF77TUo",
        "outputId": "233c882e-5b8b-44ca-a9e3-2aa9c3f453b9"
      },
      "execution_count": 56,
      "outputs": [
        {
          "output_type": "execute_result",
          "data": {
            "text/plain": [
              "['.config', 'gdrive', 'sample_data']"
            ]
          },
          "metadata": {},
          "execution_count": 56
        }
      ]
    },
    {
      "cell_type": "code",
      "source": [
        "images_path = 'gdrive/MyDrive/'\n",
        "images_path += 'Colab Notebooks/'\n",
        "images_path += 'Data Science/'\n",
        "images_path += 'Johns Hopkins - Applied Calculus with Python/'\n",
        "images_path += 'images/'\n",
        "images_path"
      ],
      "metadata": {
        "colab": {
          "base_uri": "https://localhost:8080/",
          "height": 36
        },
        "id": "vJ5ZJi-X0RT6",
        "outputId": "ce8473a2-c120-4807-9843-22afffaad303"
      },
      "execution_count": 57,
      "outputs": [
        {
          "output_type": "execute_result",
          "data": {
            "text/plain": [
              "'gdrive/MyDrive/Colab Notebooks/Data Science/Johns Hopkins - Applied Calculus with Python/images/'"
            ],
            "application/vnd.google.colaboratory.intrinsic+json": {
              "type": "string"
            }
          },
          "metadata": {},
          "execution_count": 57
        }
      ]
    },
    {
      "cell_type": "code",
      "source": [
        "p.save(images_path + 'x_squared_plot.png')"
      ],
      "metadata": {
        "colab": {
          "base_uri": "https://localhost:8080/",
          "height": 278
        },
        "id": "jh7Gn9k24g1F",
        "outputId": "aa0a0565-5b25-4573-dd25-41728f0dda0c"
      },
      "execution_count": 58,
      "outputs": [
        {
          "output_type": "display_data",
          "data": {
            "text/plain": [
              "<Figure size 432x288 with 1 Axes>"
            ],
            "image/png": "[encoded data removed]"
          },
          "metadata": {
            "needs_background": "light"
          }
        }
      ]
    },
    {
      "cell_type": "markdown",
      "source": [
        "### Example"
      ],
      "metadata": {
        "id": "Ij6a_9mSHjyS"
      }
    },
    {
      "cell_type": "code",
      "source": [
        "plot1 = sp.plot(x**2, (x, -3, 3))"
      ],
      "metadata": {
        "colab": {
          "base_uri": "https://localhost:8080/",
          "height": 296
        },
        "id": "_W2jzDSJHmN6",
        "outputId": "92a32b57-1c0c-4196-dbaf-a261d2d0d264"
      },
      "execution_count": 59,
      "outputs": [
        {
          "output_type": "display_data",
          "data": {
            "text/plain": [
              "<Figure size 432x288 with 1 Axes>"
            ],
            "image/png": "[encoded data removed]"
          },
          "metadata": {
            "needs_background": "light"
          }
        }
      ]
    },
    {
      "cell_type": "code",
      "source": [
        "type(plot1)"
      ],
      "metadata": {
        "colab": {
          "base_uri": "https://localhost:8080/"
        },
        "id": "EB3u3IoDISG0",
        "outputId": "aa62b7ee-afa5-478e-ed89-8e237c1d4a39"
      },
      "execution_count": 60,
      "outputs": [
        {
          "output_type": "execute_result",
          "data": {
            "text/plain": [
              "sympy.plotting.plot.Plot"
            ]
          },
          "metadata": {},
          "execution_count": 60
        }
      ]
    },
    {
      "cell_type": "code",
      "source": [
        "plot1[0]"
      ],
      "metadata": {
        "colab": {
          "base_uri": "https://localhost:8080/"
        },
        "id": "MgU6NXWpJL6r",
        "outputId": "ddfef1e1-2f78-4cd9-9cd7-cc5f4c0780dc"
      },
      "execution_count": 61,
      "outputs": [
        {
          "output_type": "execute_result",
          "data": {
            "text/plain": [
              "<sympy.plotting.plot.LineOver1DRangeSeries at 0x7f6b62964a10>"
            ]
          },
          "metadata": {},
          "execution_count": 61
        }
      ]
    },
    {
      "cell_type": "code",
      "source": [
        "plot1[0].expr"
      ],
      "metadata": {
        "colab": {
          "base_uri": "https://localhost:8080/",
          "height": 39
        },
        "id": "wEPBF2rpJTi0",
        "outputId": "aae28638-e2aa-4ca5-ac7c-bdbfe4027462"
      },
      "execution_count": 62,
      "outputs": [
        {
          "output_type": "execute_result",
          "data": {
            "text/plain": [
              " 2\n",
              "x "
            ],
            "image/png": "[encoded data removed]",
            "text/latex": "$\\displaystyle x^{2}$"
          },
          "metadata": {},
          "execution_count": 62
        }
      ]
    },
    {
      "cell_type": "code",
      "source": [
        "plot1[0].line_color = 'r'"
      ],
      "metadata": {
        "id": "yyjQV0uQJbLQ"
      },
      "execution_count": 63,
      "outputs": []
    },
    {
      "cell_type": "code",
      "source": [
        "plot1.show()"
      ],
      "metadata": {
        "colab": {
          "base_uri": "https://localhost:8080/",
          "height": 296
        },
        "id": "nLTMsppKJvkH",
        "outputId": "2edfa4f5-53f0-4928-f138-b5e2fec49201"
      },
      "execution_count": 64,
      "outputs": [
        {
          "output_type": "display_data",
          "data": {
            "text/plain": [
              "<Figure size 432x288 with 1 Axes>"
            ],
            "image/png": "[encoded data removed]"
          },
          "metadata": {
            "needs_background": "light"
          }
        }
      ]
    },
    {
      "cell_type": "markdown",
      "source": [
        "### Multiple plots"
      ],
      "metadata": {
        "id": "aEfvcZwPLG1v"
      }
    },
    {
      "cell_type": "code",
      "source": [
        "f1 = 3*x + 2\n",
        "f2 = x**3"
      ],
      "metadata": {
        "id": "PcMiwUjpLMgf"
      },
      "execution_count": 65,
      "outputs": []
    },
    {
      "cell_type": "code",
      "source": [
        "plots2 = sp.plot(f1, f2)"
      ],
      "metadata": {
        "colab": {
          "base_uri": "https://localhost:8080/",
          "height": 297
        },
        "id": "qkdY0uirMgK2",
        "outputId": "ad42a62e-92bd-4347-9de6-ede82275b244"
      },
      "execution_count": 66,
      "outputs": [
        {
          "output_type": "display_data",
          "data": {
            "text/plain": [
              "<Figure size 432x288 with 1 Axes>"
            ],
            "image/png": "[encoded data removed]"
          },
          "metadata": {
            "needs_background": "light"
          }
        }
      ]
    },
    {
      "cell_type": "markdown",
      "source": [
        "### Piecewise"
      ],
      "metadata": {
        "id": "mQSv7-TKNcMH"
      }
    },
    {
      "cell_type": "code",
      "source": [
        "sp.plot((f1, (x, -10, 0)),\n",
        "        (f2, (x, 0, 5)),\n",
        "        ylim=(-10, 10));"
      ],
      "metadata": {
        "colab": {
          "base_uri": "https://localhost:8080/",
          "height": 297
        },
        "id": "So4z9Xu7Nbks",
        "outputId": "8f8916c5-21d9-4fa2-bb5d-6f1d45744e09"
      },
      "execution_count": 67,
      "outputs": [
        {
          "output_type": "display_data",
          "data": {
            "text/plain": [
              "<Figure size 432x288 with 1 Axes>"
            ],
            "image/png": "[encoded data removed]"
          },
          "metadata": {
            "needs_background": "light"
          }
        }
      ]
    },
    {
      "cell_type": "markdown",
      "source": [
        "## 2.1.6 Python: Interactive Quadratic Calculator"
      ],
      "metadata": {
        "id": "8nApPD92Pcig"
      }
    },
    {
      "cell_type": "code",
      "source": [
        "import numpy as np\n",
        "\n",
        "def zeros(a, b, c):\n",
        "  D = np.sqrt(b**2 - 4*a*c)\n",
        "  x1 = (-b + D) / (2 * a)\n",
        "  x2 = (-b - D) / (2 * a)\n",
        "  \n",
        "  print('The first root is: ', x1)\n",
        "  print('The second root is: ', x2)\n",
        "\n",
        "def print_graph(a, b, c):\n",
        "    x = sp.symbols('x')\n",
        "    expr = a*x**2 + b*x + c\n",
        "    sp.plot(expr, title='$' + sp.latex(expr) + '$\\n', line_color='red')\n",
        "\n",
        "def quad_calc():\n",
        "    while True:\n",
        "        print('Welcome to our quadratic calculator')\n",
        "        a = input('Enter a: ')\n",
        "        b = input('Enter b: ')\n",
        "        c = input('Enter c: ')\n",
        "\n",
        "        zeros(float(a), float(b), float(c))\n",
        "        print_graph(float(a), float(b), float(c))\n",
        "\n",
        "        allDone = input('Would you like to solve another quadratic? (y/n)\\n')\n",
        "        if allDone == 'n':\n",
        "            print('Goodbye')\n",
        "            break"
      ],
      "metadata": {
        "id": "CbqjYHhqzUA7"
      },
      "execution_count": 68,
      "outputs": []
    },
    {
      "cell_type": "code",
      "source": [
        "# quad_calc()"
      ],
      "metadata": {
        "id": "0mgK3SdJ2gFd"
      },
      "execution_count": 69,
      "outputs": []
    },
    {
      "cell_type": "markdown",
      "source": [
        "## 2.1.7 Reading: Sample Problems - Introduction to Functions"
      ],
      "metadata": {
        "id": "pUJMkvIY47_5"
      }
    },
    {
      "cell_type": "markdown",
      "source": [
        "### Sample Problem 1 - Interpreting a Function\n",
        "\n",
        "The function $G(s)$ represents the gas mileage of a car (in miles per gallon) traveling at a speed of $s$ miles per hour\n",
        "\n",
        "#### Part A\n",
        "\n",
        "What does it means that $G(56) = 24$?\n",
        "\n",
        "##### Solution:\n",
        "\n",
        "It means that when the car is traveling at 56 miles per hour, the car is getting 24 miles per gallon.\n",
        "\n",
        "#### Part B\n",
        "\n",
        "Write a mathematical statement that represents the following sentence: \"The car's mileage while traveling at 80 miles per hour is 60% of its gas mileage at 70 miles per hours.\n",
        "\n",
        "##### Solution:\n",
        "\n",
        "$G(80) = .6 * G(70)$"
      ],
      "metadata": {
        "id": "cz13qBDy5QoK"
      }
    },
    {
      "cell_type": "markdown",
      "source": [
        "### Sample Problem 2 - Analyzing a Linear Function\n",
        "\n",
        "Suppose that $k(x)$ is a linear function, such that $k(1) = -4$ and $k(3) = 6$\n",
        "\n",
        "#### Part A\n",
        "\n",
        "Find an expression for $k(x)$.\n",
        "\n",
        "#### Part B\n",
        "\n",
        "Find the domain and range of $k(x)$\n",
        "\n",
        "##### Solution:\n",
        "\n",
        "We know that: <br>\n",
        "$\n",
        "m + b = -4 \\\\\n",
        "3m + b = 6\n",
        "$"
      ],
      "metadata": {
        "id": "p4Jp5Y-h8hzW"
      }
    },
    {
      "cell_type": "code",
      "source": [
        "m, b = sp.symbols('m b')\n",
        "\n",
        "# sympy.solvers.\n",
        "sp.linsolve([m + b + 4, 3*m + b - 6], (m, b))"
      ],
      "metadata": {
        "colab": {
          "base_uri": "https://localhost:8080/",
          "height": 37
        },
        "id": "i3EhCfKzCBWw",
        "outputId": "ddc9634f-a0ee-47de-81ff-cd8aa40aa9fb"
      },
      "execution_count": 70,
      "outputs": [
        {
          "output_type": "execute_result",
          "data": {
            "text/plain": [
              "{(5, -9)}"
            ],
            "image/png": "[encoded data removed]",
            "text/latex": "$\\displaystyle \\left\\{\\left( 5, \\  -9\\right)\\right\\}$"
          },
          "metadata": {},
          "execution_count": 70
        }
      ]
    },
    {
      "cell_type": "code",
      "source": [
        "# the comma is called \"sequence unpacking\"\n",
        "answer = sp.solvers.linsolve([m + b + 4, 3*m + b - 6], (m, b))\n",
        "answer"
      ],
      "metadata": {
        "colab": {
          "base_uri": "https://localhost:8080/",
          "height": 37
        },
        "id": "rj5l_KezCnsE",
        "outputId": "ccf9ad93-9dcf-4751-919c-ab8f4d041460"
      },
      "execution_count": 71,
      "outputs": [
        {
          "output_type": "execute_result",
          "data": {
            "text/plain": [
              "{(5, -9)}"
            ],
            "image/png": "[encoded data removed]",
            "text/latex": "$\\displaystyle \\left\\{\\left( 5, \\  -9\\right)\\right\\}$"
          },
          "metadata": {},
          "execution_count": 71
        }
      ]
    },
    {
      "cell_type": "code",
      "source": [
        "answer = list(answer)\n",
        "answer"
      ],
      "metadata": {
        "colab": {
          "base_uri": "https://localhost:8080/",
          "height": 37
        },
        "id": "nrvVcMcSH3ai",
        "outputId": "cb55f1cc-e41c-418e-ed48-67555867d341"
      },
      "execution_count": 72,
      "outputs": [
        {
          "output_type": "execute_result",
          "data": {
            "text/plain": [
              "[(5, -9)]"
            ],
            "image/png": "[encoded data removed]",
            "text/latex": "$\\displaystyle \\left[ \\left( 5, \\  -9\\right)\\right]$"
          },
          "metadata": {},
          "execution_count": 72
        }
      ]
    },
    {
      "cell_type": "code",
      "source": [
        "m = answer[0][0]\n",
        "b = answer[0][1]\n",
        "\n",
        "f = m * x + b\n",
        "f"
      ],
      "metadata": {
        "colab": {
          "base_uri": "https://localhost:8080/",
          "height": 39
        },
        "id": "2asgbKlzDVZu",
        "outputId": "bda9f702-ca1b-497e-ad1f-b3c8eee01365"
      },
      "execution_count": 73,
      "outputs": [
        {
          "output_type": "execute_result",
          "data": {
            "text/plain": [
              "5⋅x - 9"
            ],
            "image/png": "[encoded data removed]",
            "text/latex": "$\\displaystyle 5 x - 9$"
          },
          "metadata": {},
          "execution_count": 73
        }
      ]
    },
    {
      "cell_type": "code",
      "source": [
        "domain = sp.calculus.util.continuous_domain(f, x, sp.S.Reals)\n",
        "domain"
      ],
      "metadata": {
        "colab": {
          "base_uri": "https://localhost:8080/",
          "height": 38
        },
        "id": "1eOA0_07JWL9",
        "outputId": "6cae722d-d529-4165-9eed-96e7a51ffb70"
      },
      "execution_count": 74,
      "outputs": [
        {
          "output_type": "execute_result",
          "data": {
            "text/plain": [
              "ℝ"
            ],
            "image/png": "[encoded data removed]",
            "text/latex": "$\\displaystyle \\mathbb{R}$"
          },
          "metadata": {},
          "execution_count": 74
        }
      ]
    },
    {
      "cell_type": "code",
      "source": [
        "range = sp.calculus.util.function_range(f, x, sp.S.Reals)\n",
        "range"
      ],
      "metadata": {
        "colab": {
          "base_uri": "https://localhost:8080/",
          "height": 37
        },
        "id": "_u7ilNM4Jtdp",
        "outputId": "52bc81c8-8781-4073-a9af-82a0f22004db"
      },
      "execution_count": 75,
      "outputs": [
        {
          "output_type": "execute_result",
          "data": {
            "text/plain": [
              "(-∞, ∞)"
            ],
            "image/png": "[encoded data removed]",
            "text/latex": "$\\displaystyle \\left(-\\infty, \\infty\\right)$"
          },
          "metadata": {},
          "execution_count": 75
        }
      ]
    },
    {
      "cell_type": "markdown",
      "source": [
        "The expression is $k(x) = 5x - 9$. Its domain is $\\mathbb{R}$ and its range is $\\mathbb{R}$."
      ],
      "metadata": {
        "id": "RBNg1JTUE7QU"
      }
    },
    {
      "cell_type": "code",
      "source": [
        "# another solution, since the points (1, -4) and (3, 6)\n",
        "# are on the line\n",
        "\n",
        "m = (-4 - 6) / (1 - 3)\n",
        "m"
      ],
      "metadata": {
        "colab": {
          "base_uri": "https://localhost:8080/",
          "height": 37
        },
        "id": "G6GXK_YZLJ_2",
        "outputId": "36c57499-bd2c-4717-e635-7084e3d4dda0"
      },
      "execution_count": 76,
      "outputs": [
        {
          "output_type": "execute_result",
          "data": {
            "text/plain": [
              "5.0"
            ],
            "image/png": "[encoded data removed]",
            "text/latex": "$\\displaystyle 5.0$"
          },
          "metadata": {},
          "execution_count": 76
        }
      ]
    },
    {
      "cell_type": "code",
      "source": [
        "# y = mx + b\n",
        "# => b = y - mx\n",
        "b = 6 - m * 3\n",
        "b"
      ],
      "metadata": {
        "colab": {
          "base_uri": "https://localhost:8080/",
          "height": 37
        },
        "id": "FeGdKug_Me-H",
        "outputId": "fff56f83-275b-44e6-91ab-98e776cae59b"
      },
      "execution_count": 77,
      "outputs": [
        {
          "output_type": "execute_result",
          "data": {
            "text/plain": [
              "-9.0"
            ],
            "image/png": "[encoded data removed]",
            "text/latex": "$\\displaystyle -9.0$"
          },
          "metadata": {},
          "execution_count": 77
        }
      ]
    },
    {
      "cell_type": "markdown",
      "source": [
        "### Sample Problem 3\n",
        "\n",
        "Define a function, **linear(a, b, c, d)**, which when given the coordinates of two points, returns the equation of the line passing through those two points.\n",
        "\n",
        "##### Solution:\n",
        "\n",
        "Using the point-slope form of the equation:\n",
        "\n",
        "$\n",
        "y - y_0 = m(x - x_0) \\\\\n",
        "\\implies y = m(x - x_0) + y_0\n",
        "$"
      ],
      "metadata": {
        "id": "vP9TJOVwNAdZ"
      }
    },
    {
      "cell_type": "code",
      "source": [
        "x = sp.symbols('x')\n",
        "\n",
        "def linear(a, b, c, d):\n",
        "    slope = (d - b) / (c - a)\n",
        "    # point-slope form\n",
        "    return slope * (x - a) + b"
      ],
      "metadata": {
        "id": "QQLOxeYuP5Nx"
      },
      "execution_count": 78,
      "outputs": []
    },
    {
      "cell_type": "code",
      "source": [
        "linear(1, -4, 3, 6)"
      ],
      "metadata": {
        "colab": {
          "base_uri": "https://localhost:8080/",
          "height": 39
        },
        "id": "Q7S2qt3vQTv3",
        "outputId": "cb12e8ba-32b1-47c0-ccd7-347feafcd88c"
      },
      "execution_count": 79,
      "outputs": [
        {
          "output_type": "execute_result",
          "data": {
            "text/plain": [
              "5.0⋅x - 9.0"
            ],
            "image/png": "[encoded data removed]",
            "text/latex": "$\\displaystyle 5.0 x - 9.0$"
          },
          "metadata": {},
          "execution_count": 79
        }
      ]
    },
    {
      "cell_type": "markdown",
      "source": [
        "## Quiz"
      ],
      "metadata": {
        "id": "7iWL2bx5QZvu"
      }
    }
  ]
}