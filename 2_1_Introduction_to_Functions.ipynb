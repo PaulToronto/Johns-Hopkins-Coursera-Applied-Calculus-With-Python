{
  "nbformat": 4,
  "nbformat_minor": 0,
  "metadata": {
    "colab": {
      "provenance": [],
      "toc_visible": true,
      "collapsed_sections": [
        "5ExyIYNkCbq2"
      ],
      "authorship_tag": "ABX9TyO0B7I1UHGPOk5d4Lu+1Phw",
      "include_colab_link": true
    },
    "kernelspec": {
      "name": "python3",
      "display_name": "Python 3"
    },
    "language_info": {
      "name": "python"
    }
  },
  "cells": [
    {
      "cell_type": "markdown",
      "metadata": {
        "id": "view-in-github",
        "colab_type": "text"
      },
      "source": [
        "<a href=\"https://colab.research.google.com/github/PaulToronto/Johns-Hopkins-Coursera-Applied-Calculus-With-Python/blob/main/2_1_Introduction_to_Functions.ipynb\" target=\"_parent\"><img src=\"https://colab.research.google.com/assets/colab-badge.svg\" alt=\"Open In Colab\"/></a>"
      ]
    },
    {
      "cell_type": "markdown",
      "source": [
        "# 2.1 Introduction to Functions"
      ],
      "metadata": {
        "id": "CEXLyT1rGamw"
      }
    },
    {
      "cell_type": "markdown",
      "source": [
        "## 2.1.1 Theory: Functions"
      ],
      "metadata": {
        "id": "zGt1GIdbwSn9"
      }
    },
    {
      "cell_type": "code",
      "source": [
        "import sympy as sp \n",
        "import ipywidgets as widgets\n",
        "from math import isnan\n",
        "\n",
        "sp.init_printing(use_unicode=True)"
      ],
      "metadata": {
        "id": "ilrUDW7uLIwd"
      },
      "execution_count": 1,
      "outputs": []
    },
    {
      "cell_type": "code",
      "source": [
        "def display_f_of_x(str_expr):\n",
        "    f = sp.parse_expr(str_expr)\n",
        "\n",
        "    x = f.free_symbols.pop()\n",
        "\n",
        "    sp.plot(f, \n",
        "            line_color='red',\n",
        "            title='$f(x) = ' + sp.latex(f) + '$\\n'\n",
        "            )\n",
        "\n",
        "    x_intercepts = list()\n",
        "    for soln in sp.solve(f):\n",
        "        if soln.is_real:\n",
        "            x_intercepts.append(soln)\n",
        "    x_intercepts = None if len(x_intercepts) == 0 else x_intercepts\n",
        "\n",
        "\n",
        "    y_intercept = None if isnan(f.subs(x, 0)) else f.subs(x, 0)\n",
        "\n",
        "    slope = f.diff()\n",
        "    \n",
        "    domain = sp.calculus.util.continuous_domain(f, x, sp.S.Reals)\n",
        "\n",
        "    try:\n",
        "        range = sp.calculus.util.function_range(f, x, sp.S.Reals)\n",
        "    except NotImplementedError:\n",
        "        range = 'Not found'\n",
        "\n",
        "    print('\\nX-intercepts:')\n",
        "    display(x_intercepts)\n",
        "    print('\\nY-intercept:')\n",
        "    display(y_intercept)\n",
        "    print('\\nSlope (derivative):')\n",
        "    display(slope)\n",
        "    print('\\nDomain:')\n",
        "    display(domain)\n",
        "    print('\\nRange:')\n",
        "    display(range)"
      ],
      "metadata": {
        "id": "2WxpeCLQ57SB"
      },
      "execution_count": 2,
      "outputs": []
    },
    {
      "cell_type": "markdown",
      "source": [
        "### Definition\n",
        "\n",
        "A *function* is a rule that assigns to each element $x$ in a set $A$ exactly one element, called $f(x)$, in a set $B$"
      ],
      "metadata": {
        "id": "xbbeP2sQIsuk"
      }
    },
    {
      "cell_type": "markdown",
      "source": [
        "### Example: $f(x) = x + 1$"
      ],
      "metadata": {
        "id": "z_lELMWxMM21"
      }
    },
    {
      "cell_type": "code",
      "source": [
        "display_f_of_x('x + 1')"
      ],
      "metadata": {
        "colab": {
          "base_uri": "https://localhost:8080/",
          "height": 577
        },
        "id": "MLVC4IkPVEwZ",
        "outputId": "5bd43d16-ac16-47a0-879e-1b344ad9e456"
      },
      "execution_count": 3,
      "outputs": [
        {
          "output_type": "display_data",
          "data": {
            "text/plain": [
              "<Figure size 432x288 with 1 Axes>"
            ],
            "image/png": "[encoded data removed]"
          },
          "metadata": {
            "needs_background": "light"
          }
        },
        {
          "output_type": "stream",
          "name": "stdout",
          "text": [
            "\n",
            "X-intercepts:\n"
          ]
        },
        {
          "output_type": "display_data",
          "data": {
            "text/plain": [
              "[-1]"
            ],
            "image/png": "[encoded data removed]",
            "text/latex": "$\\displaystyle \\left[ -1\\right]$"
          },
          "metadata": {}
        },
        {
          "output_type": "stream",
          "name": "stdout",
          "text": [
            "\n",
            "Y-intercept:\n"
          ]
        },
        {
          "output_type": "display_data",
          "data": {
            "text/plain": [
              "1"
            ],
            "image/png": "[encoded data removed]",
            "text/latex": "$\\displaystyle 1$"
          },
          "metadata": {}
        },
        {
          "output_type": "stream",
          "name": "stdout",
          "text": [
            "\n",
            "Slope (derivative):\n"
          ]
        },
        {
          "output_type": "display_data",
          "data": {
            "text/plain": [
              "1"
            ],
            "image/png": "[encoded data removed]",
            "text/latex": "$\\displaystyle 1$"
          },
          "metadata": {}
        },
        {
          "output_type": "stream",
          "name": "stdout",
          "text": [
            "\n",
            "Domain:\n"
          ]
        },
        {
          "output_type": "display_data",
          "data": {
            "text/plain": [
              "ℝ"
            ],
            "image/png": "[encoded data removed]",
            "text/latex": "$\\displaystyle \\mathbb{R}$"
          },
          "metadata": {}
        },
        {
          "output_type": "stream",
          "name": "stdout",
          "text": [
            "\n",
            "Range:\n"
          ]
        },
        {
          "output_type": "display_data",
          "data": {
            "text/plain": [
              "(-∞, ∞)"
            ],
            "image/png": "[encoded data removed]",
            "text/latex": "$\\displaystyle \\left(-\\infty, \\infty\\right)$"
          },
          "metadata": {}
        }
      ]
    },
    {
      "cell_type": "markdown",
      "source": [
        "### Example: $f(x) = x^{2}$"
      ],
      "metadata": {
        "id": "GfyzKf0FGgod"
      }
    },
    {
      "cell_type": "code",
      "source": [
        "display_f_of_x('x**2')"
      ],
      "metadata": {
        "colab": {
          "base_uri": "https://localhost:8080/",
          "height": 579
        },
        "id": "PaHX5eHIGqqA",
        "outputId": "7a5afc0b-de0e-49ee-d436-801009efc793"
      },
      "execution_count": 4,
      "outputs": [
        {
          "output_type": "display_data",
          "data": {
            "text/plain": [
              "<Figure size 432x288 with 1 Axes>"
            ],
            "image/png": "[encoded data removed]"
          },
          "metadata": {
            "needs_background": "light"
          }
        },
        {
          "output_type": "stream",
          "name": "stdout",
          "text": [
            "\n",
            "X-intercepts:\n"
          ]
        },
        {
          "output_type": "display_data",
          "data": {
            "text/plain": [
              "[0]"
            ],
            "image/png": "[encoded data removed]",
            "text/latex": "$\\displaystyle \\left[ 0\\right]$"
          },
          "metadata": {}
        },
        {
          "output_type": "stream",
          "name": "stdout",
          "text": [
            "\n",
            "Y-intercept:\n"
          ]
        },
        {
          "output_type": "display_data",
          "data": {
            "text/plain": [
              "0"
            ],
            "image/png": "[encoded data removed]",
            "text/latex": "$\\displaystyle 0$"
          },
          "metadata": {}
        },
        {
          "output_type": "stream",
          "name": "stdout",
          "text": [
            "\n",
            "Slope (derivative):\n"
          ]
        },
        {
          "output_type": "display_data",
          "data": {
            "text/plain": [
              "2⋅x"
            ],
            "image/png": "[encoded data removed]",
            "text/latex": "$\\displaystyle 2 x$"
          },
          "metadata": {}
        },
        {
          "output_type": "stream",
          "name": "stdout",
          "text": [
            "\n",
            "Domain:\n"
          ]
        },
        {
          "output_type": "display_data",
          "data": {
            "text/plain": [
              "ℝ"
            ],
            "image/png": "[encoded data removed]",
            "text/latex": "$\\displaystyle \\mathbb{R}$"
          },
          "metadata": {}
        },
        {
          "output_type": "stream",
          "name": "stdout",
          "text": [
            "\n",
            "Range:\n"
          ]
        },
        {
          "output_type": "display_data",
          "data": {
            "text/plain": [
              "[0, ∞)"
            ],
            "image/png": "[encoded data removed]",
            "text/latex": "$\\displaystyle \\left[0, \\infty\\right)$"
          },
          "metadata": {}
        }
      ]
    },
    {
      "cell_type": "markdown",
      "source": [
        "### Example: $f(x) = 2^{x}$"
      ],
      "metadata": {
        "id": "z8pBA8FrHfrQ"
      }
    },
    {
      "cell_type": "code",
      "source": [
        "display_f_of_x('2**x')"
      ],
      "metadata": {
        "colab": {
          "base_uri": "https://localhost:8080/",
          "height": 575
        },
        "id": "F9MHNzBzHj65",
        "outputId": "b08101cc-5d3f-4790-caaf-28cdc32f9482"
      },
      "execution_count": 5,
      "outputs": [
        {
          "output_type": "display_data",
          "data": {
            "text/plain": [
              "<Figure size 432x288 with 1 Axes>"
            ],
            "image/png": "[encoded data removed]"
          },
          "metadata": {
            "needs_background": "light"
          }
        },
        {
          "output_type": "stream",
          "name": "stdout",
          "text": [
            "\n",
            "X-intercepts:\n"
          ]
        },
        {
          "output_type": "display_data",
          "data": {
            "text/plain": [
              "None"
            ]
          },
          "metadata": {}
        },
        {
          "output_type": "stream",
          "name": "stdout",
          "text": [
            "\n",
            "Y-intercept:\n"
          ]
        },
        {
          "output_type": "display_data",
          "data": {
            "text/plain": [
              "1"
            ],
            "image/png": "[encoded data removed]",
            "text/latex": "$\\displaystyle 1$"
          },
          "metadata": {}
        },
        {
          "output_type": "stream",
          "name": "stdout",
          "text": [
            "\n",
            "Slope (derivative):\n"
          ]
        },
        {
          "output_type": "display_data",
          "data": {
            "text/plain": [
              " x       \n",
              "2 ⋅log(2)"
            ],
            "image/png": "[encoded data removed]",
            "text/latex": "$\\displaystyle 2^{x} \\log{\\left(2 \\right)}$"
          },
          "metadata": {}
        },
        {
          "output_type": "stream",
          "name": "stdout",
          "text": [
            "\n",
            "Domain:\n"
          ]
        },
        {
          "output_type": "display_data",
          "data": {
            "text/plain": [
              "ℝ"
            ],
            "image/png": "[encoded data removed]",
            "text/latex": "$\\displaystyle \\mathbb{R}$"
          },
          "metadata": {}
        },
        {
          "output_type": "stream",
          "name": "stdout",
          "text": [
            "\n",
            "Range:\n"
          ]
        },
        {
          "output_type": "display_data",
          "data": {
            "text/plain": [
              "(0, ∞)"
            ],
            "image/png": "[encoded data removed]",
            "text/latex": "$\\displaystyle \\left(0, \\infty\\right)$"
          },
          "metadata": {}
        }
      ]
    },
    {
      "cell_type": "code",
      "source": [
        "display_f_of_x('sin(x)/x')"
      ],
      "metadata": {
        "colab": {
          "base_uri": "https://localhost:8080/",
          "height": 589
        },
        "id": "u4N-5wEGoEJP",
        "outputId": "b2708ab5-4ab7-49eb-974a-c980ac252f5e"
      },
      "execution_count": 6,
      "outputs": [
        {
          "output_type": "display_data",
          "data": {
            "text/plain": [
              "<Figure size 432x288 with 1 Axes>"
            ],
            "image/png": "[encoded data removed]"
          },
          "metadata": {
            "needs_background": "light"
          }
        },
        {
          "output_type": "stream",
          "name": "stdout",
          "text": [
            "\n",
            "X-intercepts:\n"
          ]
        },
        {
          "output_type": "display_data",
          "data": {
            "text/plain": [
              "[π]"
            ],
            "image/png": "[encoded data removed]",
            "text/latex": "$\\displaystyle \\left[ \\pi\\right]$"
          },
          "metadata": {}
        },
        {
          "output_type": "stream",
          "name": "stdout",
          "text": [
            "\n",
            "Y-intercept:\n"
          ]
        },
        {
          "output_type": "display_data",
          "data": {
            "text/plain": [
              "None"
            ]
          },
          "metadata": {}
        },
        {
          "output_type": "stream",
          "name": "stdout",
          "text": [
            "\n",
            "Slope (derivative):\n"
          ]
        },
        {
          "output_type": "display_data",
          "data": {
            "text/plain": [
              "cos(x)   sin(x)\n",
              "────── - ──────\n",
              "  x         2  \n",
              "           x   "
            ],
            "image/png": "[encoded data removed]",
            "text/latex": "$\\displaystyle \\frac{\\cos{\\left(x \\right)}}{x} - \\frac{\\sin{\\left(x \\right)}}{x^{2}}$"
          },
          "metadata": {}
        },
        {
          "output_type": "stream",
          "name": "stdout",
          "text": [
            "\n",
            "Domain:\n"
          ]
        },
        {
          "output_type": "display_data",
          "data": {
            "text/plain": [
              "(-∞, 0) ∪ (0, ∞)"
            ],
            "image/png": "[encoded data removed]",
            "text/latex": "$\\displaystyle \\left(-\\infty, 0\\right) \\cup \\left(0, \\infty\\right)$"
          },
          "metadata": {}
        },
        {
          "output_type": "stream",
          "name": "stdout",
          "text": [
            "\n",
            "Range:\n"
          ]
        },
        {
          "output_type": "display_data",
          "data": {
            "text/plain": [
              "'Not found'"
            ],
            "application/vnd.google.colaboratory.intrinsic+json": {
              "type": "string"
            }
          },
          "metadata": {}
        }
      ]
    },
    {
      "cell_type": "markdown",
      "source": [
        "### Example: $f(x) = \\sqrt{x}$"
      ],
      "metadata": {
        "id": "9W25HPsAlEjE"
      }
    },
    {
      "cell_type": "code",
      "source": [
        "display_f_of_x('sqrt(x)')"
      ],
      "metadata": {
        "colab": {
          "base_uri": "https://localhost:8080/",
          "height": 595
        },
        "id": "J16CzwhIlLSI",
        "outputId": "dd52f19d-099e-498a-b9ba-d778d156b70f"
      },
      "execution_count": 7,
      "outputs": [
        {
          "output_type": "display_data",
          "data": {
            "text/plain": [
              "<Figure size 432x288 with 1 Axes>"
            ],
            "image/png": "[encoded data removed]"
          },
          "metadata": {
            "needs_background": "light"
          }
        },
        {
          "output_type": "stream",
          "name": "stdout",
          "text": [
            "\n",
            "X-intercepts:\n"
          ]
        },
        {
          "output_type": "display_data",
          "data": {
            "text/plain": [
              "[0]"
            ],
            "image/png": "[encoded data removed]",
            "text/latex": "$\\displaystyle \\left[ 0\\right]$"
          },
          "metadata": {}
        },
        {
          "output_type": "stream",
          "name": "stdout",
          "text": [
            "\n",
            "Y-intercept:\n"
          ]
        },
        {
          "output_type": "display_data",
          "data": {
            "text/plain": [
              "0"
            ],
            "image/png": "[encoded data removed]",
            "text/latex": "$\\displaystyle 0$"
          },
          "metadata": {}
        },
        {
          "output_type": "stream",
          "name": "stdout",
          "text": [
            "\n",
            "Slope (derivative):\n"
          ]
        },
        {
          "output_type": "display_data",
          "data": {
            "text/plain": [
              " 1  \n",
              "────\n",
              "2⋅√x"
            ],
            "image/png": "[encoded data removed]",
            "text/latex": "$\\displaystyle \\frac{1}{2 \\sqrt{x}}$"
          },
          "metadata": {}
        },
        {
          "output_type": "stream",
          "name": "stdout",
          "text": [
            "\n",
            "Domain:\n"
          ]
        },
        {
          "output_type": "display_data",
          "data": {
            "text/plain": [
              "[0, ∞)"
            ],
            "image/png": "[encoded data removed]",
            "text/latex": "$\\displaystyle \\left[0, \\infty\\right)$"
          },
          "metadata": {}
        },
        {
          "output_type": "stream",
          "name": "stdout",
          "text": [
            "\n",
            "Range:\n"
          ]
        },
        {
          "output_type": "display_data",
          "data": {
            "text/plain": [
              "[0, ∞)"
            ],
            "image/png": "[encoded data removed]",
            "text/latex": "$\\displaystyle \\left[0, \\infty\\right)$"
          },
          "metadata": {}
        }
      ]
    },
    {
      "cell_type": "markdown",
      "source": [
        "### Example: $f(x) = x^2 + 1$"
      ],
      "metadata": {
        "id": "-3PTOiistYi5"
      }
    },
    {
      "cell_type": "code",
      "source": [
        "display_f_of_x('x**2 + 1')"
      ],
      "metadata": {
        "colab": {
          "base_uri": "https://localhost:8080/",
          "height": 577
        },
        "id": "bLpapNQ9tg4U",
        "outputId": "d90768d1-83c4-4636-ec11-1540e832285b"
      },
      "execution_count": 8,
      "outputs": [
        {
          "output_type": "display_data",
          "data": {
            "text/plain": [
              "<Figure size 432x288 with 1 Axes>"
            ],
            "image/png": "[encoded data removed]"
          },
          "metadata": {
            "needs_background": "light"
          }
        },
        {
          "output_type": "stream",
          "name": "stdout",
          "text": [
            "\n",
            "X-intercepts:\n"
          ]
        },
        {
          "output_type": "display_data",
          "data": {
            "text/plain": [
              "None"
            ]
          },
          "metadata": {}
        },
        {
          "output_type": "stream",
          "name": "stdout",
          "text": [
            "\n",
            "Y-intercept:\n"
          ]
        },
        {
          "output_type": "display_data",
          "data": {
            "text/plain": [
              "1"
            ],
            "image/png": "[encoded data removed]",
            "text/latex": "$\\displaystyle 1$"
          },
          "metadata": {}
        },
        {
          "output_type": "stream",
          "name": "stdout",
          "text": [
            "\n",
            "Slope (derivative):\n"
          ]
        },
        {
          "output_type": "display_data",
          "data": {
            "text/plain": [
              "2⋅x"
            ],
            "image/png": "[encoded data removed]",
            "text/latex": "$\\displaystyle 2 x$"
          },
          "metadata": {}
        },
        {
          "output_type": "stream",
          "name": "stdout",
          "text": [
            "\n",
            "Domain:\n"
          ]
        },
        {
          "output_type": "display_data",
          "data": {
            "text/plain": [
              "ℝ"
            ],
            "image/png": "[encoded data removed]",
            "text/latex": "$\\displaystyle \\mathbb{R}$"
          },
          "metadata": {}
        },
        {
          "output_type": "stream",
          "name": "stdout",
          "text": [
            "\n",
            "Range:\n"
          ]
        },
        {
          "output_type": "display_data",
          "data": {
            "text/plain": [
              "[1, ∞)"
            ],
            "image/png": "[encoded data removed]",
            "text/latex": "$\\displaystyle \\left[1, \\infty\\right)$"
          },
          "metadata": {}
        }
      ]
    },
    {
      "cell_type": "markdown",
      "source": [
        "### The Difference Quotient"
      ],
      "metadata": {
        "id": "PBoBRHZgt_MT"
      }
    },
    {
      "cell_type": "markdown",
      "source": [
        "$$\n",
        "\\begin{align}\n",
        "f(x) &= 3x^2 + 1\n",
        "\\end{align}\n",
        "$$"
      ],
      "metadata": {
        "id": "PHW6VSIiuJLO"
      }
    },
    {
      "cell_type": "markdown",
      "source": [
        "$$\n",
        "\\begin{align}\n",
        "\\frac{f(a + h) - f(a)}{h} &= \\frac{(3(a + h)^2 + 1) - (3a^2 + 1)}{h}\n",
        "\\\\ &= \\frac{3a^2 + 6ah + 3h^2 + 1 - 3a^2 - 1}{h}\n",
        "\\\\ &= \\frac{6ah + 3h^2}{h}\n",
        "\\\\ &= 6a + 3h\n",
        "\\end{align}\n",
        "$$"
      ],
      "metadata": {
        "id": "JWf0omYvv1EV"
      }
    },
    {
      "cell_type": "markdown",
      "source": [
        "### Vertical Line Test\n",
        "\n",
        "If **any** vertical line intersects the graph of a relation more than once, then the relation is not a function."
      ],
      "metadata": {
        "id": "7bTV1wp30u1w"
      }
    },
    {
      "cell_type": "markdown",
      "source": [
        "## 2.1.2 Theory: More about Functions"
      ],
      "metadata": {
        "id": "qKX-9BOr1-8e"
      }
    },
    {
      "cell_type": "markdown",
      "source": [
        "### Piecewise Defined Functions"
      ],
      "metadata": {
        "id": "y116SD1z3FC9"
      }
    },
    {
      "cell_type": "markdown",
      "source": [
        "#### Example: $f(x) = \\begin{cases} x^{2} + 1 & \\text{for}\\: x \\geq 0 \\\\x & \\text{for}\\: x < 0 \\end{cases}$"
      ],
      "metadata": {
        "id": "e6179A6uAa12"
      }
    },
    {
      "cell_type": "code",
      "source": [
        "x = sp.symbols('x')\n",
        "\n",
        "p = sp.Piecewise((x**2 + 1, x >= 0),\n",
        "                 (x, x < 0))\n",
        "\n",
        "p"
      ],
      "metadata": {
        "colab": {
          "base_uri": "https://localhost:8080/",
          "height": 68
        },
        "id": "PrmLgdwK6J7g",
        "outputId": "a60fbc3c-ec34-4826-e1fb-93453bdf5fbc"
      },
      "execution_count": 9,
      "outputs": [
        {
          "output_type": "execute_result",
          "data": {
            "text/plain": [
              "⎧ 2               \n",
              "⎪x  + 1  for x ≥ 0\n",
              "⎨                 \n",
              "⎪  x     otherwise\n",
              "⎩                 "
            ],
            "text/latex": "$\\displaystyle \\begin{cases} x^{2} + 1 & \\text{for}\\: x \\geq 0 \\\\x & \\text{otherwise} \\end{cases}$"
          },
          "metadata": {},
          "execution_count": 9
        }
      ]
    },
    {
      "cell_type": "markdown",
      "source": [
        "##### Graph (first method)"
      ],
      "metadata": {
        "id": "MeryG4fKbqMj"
      }
    },
    {
      "cell_type": "code",
      "source": [
        "fig = sp.plot(p, \n",
        "              line_color='red',\n",
        "              title='Piecewise Function'\n",
        ")"
      ],
      "metadata": {
        "colab": {
          "base_uri": "https://localhost:8080/",
          "height": 294
        },
        "outputId": "23c37bb4-6374-42b1-ba95-6b844977246e",
        "id": "3JSX3aI3C1cg"
      },
      "execution_count": 10,
      "outputs": [
        {
          "output_type": "display_data",
          "data": {
            "text/plain": [
              "<Figure size 432x288 with 1 Axes>"
            ],
            "image/png": "[encoded data removed]"
          },
          "metadata": {
            "needs_background": "light"
          }
        }
      ]
    },
    {
      "cell_type": "markdown",
      "source": [
        "##### Graph (second method)"
      ],
      "metadata": {
        "id": "Eu1ub3nmbzvm"
      }
    },
    {
      "cell_type": "code",
      "source": [
        "p.args[0][0], p.args[1][0]"
      ],
      "metadata": {
        "colab": {
          "base_uri": "https://localhost:8080/",
          "height": 39
        },
        "id": "-Wg-5QkFaGpn",
        "outputId": "89553beb-41ba-4952-e066-87ccd4920452"
      },
      "execution_count": 11,
      "outputs": [
        {
          "output_type": "execute_result",
          "data": {
            "text/plain": [
              "⎛ 2       ⎞\n",
              "⎝x  + 1, x⎠"
            ],
            "image/png": "[encoded data removed]",
            "text/latex": "$\\displaystyle \\left( x^{2} + 1, \\  x\\right)$"
          },
          "metadata": {},
          "execution_count": 11
        }
      ]
    },
    {
      "cell_type": "code",
      "source": [
        "fig = sp.plot((p.args[0][0] + 1, (x, 0, 10)), \n",
        "              (p.args[1][0], (x, -10, 0)), \n",
        "              title='Piecewise Function\\n',\n",
        "              show=False, \n",
        "              legend=True)\n",
        "fig[0].line_color='red'\n",
        "fig[0].label = '$x^{2} + 1$' + '\\t' + '$x \\geq 0$'\n",
        "fig[1].line_color='green'\n",
        "fig[1].label = '$x$' + '\\t\\t' + '$x < 0$'\n",
        "fig.show()"
      ],
      "metadata": {
        "colab": {
          "base_uri": "https://localhost:8080/",
          "height": 295
        },
        "id": "tio9kijcHPWY",
        "outputId": "568b36c2-fc46-4271-b867-5d942de3ac1b"
      },
      "execution_count": 12,
      "outputs": [
        {
          "output_type": "display_data",
          "data": {
            "text/plain": [
              "<Figure size 432x288 with 1 Axes>"
            ],
            "image/png": "[encoded data removed]"
          },
          "metadata": {
            "needs_background": "light"
          }
        }
      ]
    },
    {
      "cell_type": "markdown",
      "source": [
        "##### Domain"
      ],
      "metadata": {
        "id": "g6A9WdYoakRr"
      }
    },
    {
      "cell_type": "code",
      "source": [
        "piece1 = sp.calculus.util.continuous_domain(p.args[0][0], \n",
        "                                            x, \n",
        "                                            sp.Interval(0, sp.oo))\n",
        "\n",
        "piece2 = sp.calculus.util.continuous_domain(p.args[1][0],\n",
        "                                            x,\n",
        "                                            sp.Interval.open(-sp.oo, 0))"
      ],
      "metadata": {
        "id": "nWfxrsTJWPTs"
      },
      "execution_count": 13,
      "outputs": []
    },
    {
      "cell_type": "code",
      "source": [
        "domain = piece1.union(piece2)\n",
        "domain"
      ],
      "metadata": {
        "colab": {
          "base_uri": "https://localhost:8080/",
          "height": 37
        },
        "id": "75uggZYaZbhc",
        "outputId": "0dd18768-708b-4891-e7a9-ee44b6ab112d"
      },
      "execution_count": 14,
      "outputs": [
        {
          "output_type": "execute_result",
          "data": {
            "text/plain": [
              "(-∞, ∞)"
            ],
            "image/png": "[encoded data removed]",
            "text/latex": "$\\displaystyle \\left(-\\infty, \\infty\\right)$"
          },
          "metadata": {},
          "execution_count": 14
        }
      ]
    },
    {
      "cell_type": "markdown",
      "source": [
        "##### Range"
      ],
      "metadata": {
        "id": "Gf3UF2bJaufK"
      }
    },
    {
      "cell_type": "code",
      "source": [
        "piece1 = sp.calculus.util.function_range(p.args[0][0],\n",
        "                                         x,\n",
        "                                         sp.Interval(0, sp.oo))\n",
        "piece1"
      ],
      "metadata": {
        "colab": {
          "base_uri": "https://localhost:8080/",
          "height": 37
        },
        "id": "6wAIr_6zYvRC",
        "outputId": "dd4ead78-af48-4a9e-f0b7-7a460cddbb93"
      },
      "execution_count": 15,
      "outputs": [
        {
          "output_type": "execute_result",
          "data": {
            "text/plain": [
              "[1, ∞)"
            ],
            "image/png": "[encoded data removed]",
            "text/latex": "$\\displaystyle \\left[1, \\infty\\right)$"
          },
          "metadata": {},
          "execution_count": 15
        }
      ]
    },
    {
      "cell_type": "code",
      "source": [
        "piece2 = sp.calculus.util.function_range(p.args[1][0],\n",
        "                                         x,\n",
        "                                         sp.Interval.open(-sp.oo, 0))\n",
        "piece2"
      ],
      "metadata": {
        "colab": {
          "base_uri": "https://localhost:8080/",
          "height": 37
        },
        "id": "FpRLm_CFa8kY",
        "outputId": "891743d0-b2e3-4708-cfe0-121b650e3871"
      },
      "execution_count": 16,
      "outputs": [
        {
          "output_type": "execute_result",
          "data": {
            "text/plain": [
              "(-∞, 0)"
            ],
            "image/png": "[encoded data removed]",
            "text/latex": "$\\displaystyle \\left(-\\infty, 0\\right)$"
          },
          "metadata": {},
          "execution_count": 16
        }
      ]
    },
    {
      "cell_type": "code",
      "source": [
        "range = piece1.union(piece2)\n",
        "range"
      ],
      "metadata": {
        "colab": {
          "base_uri": "https://localhost:8080/",
          "height": 37
        },
        "id": "y-hmaTZ1bUgZ",
        "outputId": "1c599591-86d5-409b-cf98-b7f924114660"
      },
      "execution_count": 17,
      "outputs": [
        {
          "output_type": "execute_result",
          "data": {
            "text/plain": [
              "(-∞, 0) ∪ [1, ∞)"
            ],
            "image/png": "[encoded data removed]",
            "text/latex": "$\\displaystyle \\left(-\\infty, 0\\right) \\cup \\left[1, \\infty\\right)$"
          },
          "metadata": {},
          "execution_count": 17
        }
      ]
    },
    {
      "cell_type": "markdown",
      "source": [
        "#### Example: $f(x) = \\begin{cases} \\sqrt{x} & \\text{for}\\: x > 0 \\\\- x^{2} & \\text{for}\\: x < 0 \\end{cases}$"
      ],
      "metadata": {
        "id": "2-AadmNDm55P"
      }
    },
    {
      "cell_type": "code",
      "source": [
        "p3 = sp.Piecewise((sp.sqrt(x), x > 0),\n",
        "                  (-x**2, x < 0))\n",
        "p3"
      ],
      "metadata": {
        "colab": {
          "base_uri": "https://localhost:8080/",
          "height": 68
        },
        "id": "gPp8CMgcm412",
        "outputId": "7687a47b-67b9-4bf1-ce0c-fa8bcce433ef"
      },
      "execution_count": 18,
      "outputs": [
        {
          "output_type": "execute_result",
          "data": {
            "text/plain": [
              "⎧√x   for x > 0\n",
              "⎪              \n",
              "⎨  2           \n",
              "⎪-x   for x < 0\n",
              "⎩              "
            ],
            "text/latex": "$\\displaystyle \\begin{cases} \\sqrt{x} & \\text{for}\\: x > 0 \\\\- x^{2} & \\text{for}\\: x < 0 \\end{cases}$"
          },
          "metadata": {},
          "execution_count": 18
        }
      ]
    },
    {
      "cell_type": "code",
      "source": [
        "fig3 = sp.plot(p3,\n",
        "               line_color='red',\n",
        "               title='Piecewise Function\\n', \n",
        "               aspect_ratio=(1, 1),\n",
        "               xlim=[-10, 10],\n",
        "               ylim=[-10, 10],\n",
        "               show=False)\n",
        "fig3.show()"
      ],
      "metadata": {
        "colab": {
          "base_uri": "https://localhost:8080/",
          "height": 297
        },
        "id": "vCYcMev3ndSx",
        "outputId": "95cfd8a7-7eed-4bc3-88fc-77140999bd07"
      },
      "execution_count": 19,
      "outputs": [
        {
          "output_type": "display_data",
          "data": {
            "text/plain": [
              "<Figure size 432x288 with 1 Axes>"
            ],
            "image/png": "[encoded data removed]"
          },
          "metadata": {
            "needs_background": "light"
          }
        }
      ]
    },
    {
      "cell_type": "code",
      "source": [
        "piece1 = sp.calculus.util.continuous_domain(p3.args[0][0], x, sp.Interval.open(0, sp.oo))\n",
        "piece2 = sp.calculus.util.continuous_domain(p3.args[1][0], x, sp.Interval.open(-sp.oo, 0))\n",
        "domain = piece1.union(piece2)\n",
        "domain"
      ],
      "metadata": {
        "colab": {
          "base_uri": "https://localhost:8080/",
          "height": 37
        },
        "id": "IPqPSLPIqQwG",
        "outputId": "6d57eee1-51a4-4039-90c0-67f586013191"
      },
      "execution_count": 20,
      "outputs": [
        {
          "output_type": "execute_result",
          "data": {
            "text/plain": [
              "(-∞, 0) ∪ (0, ∞)"
            ],
            "image/png": "[encoded data removed]",
            "text/latex": "$\\displaystyle \\left(-\\infty, 0\\right) \\cup \\left(0, \\infty\\right)$"
          },
          "metadata": {},
          "execution_count": 20
        }
      ]
    },
    {
      "cell_type": "code",
      "source": [
        "piece1 = sp.calculus.util.function_range(p3.args[0][0], x, sp.Interval.open(0, sp.oo))\n",
        "piece2 = sp.calculus.util.function_range(p3.args[1][0], x, sp.Interval.open(-sp.oo, 0))\n",
        "range = piece1.union(piece2)\n",
        "range"
      ],
      "metadata": {
        "colab": {
          "base_uri": "https://localhost:8080/",
          "height": 37
        },
        "id": "oNykWGdiqeWs",
        "outputId": "501f7829-8f8e-44a4-ab70-ea7c5a818afa"
      },
      "execution_count": 21,
      "outputs": [
        {
          "output_type": "execute_result",
          "data": {
            "text/plain": [
              "(-∞, 0) ∪ (0, ∞)"
            ],
            "image/png": "[encoded data removed]",
            "text/latex": "$\\displaystyle \\left(-\\infty, 0\\right) \\cup \\left(0, \\infty\\right)$"
          },
          "metadata": {},
          "execution_count": 21
        }
      ]
    },
    {
      "cell_type": "markdown",
      "source": [
        "### Symmetry"
      ],
      "metadata": {
        "id": "1ehOQvR-c-2_"
      }
    },
    {
      "cell_type": "markdown",
      "source": [
        "#### Example: $f(x) = \\begin{cases} x & \\text{for}\\: x \\geq 0 \\\\- x & \\text{otherwise} \\end{cases}$"
      ],
      "metadata": {
        "id": "qy444GtBdE3R"
      }
    },
    {
      "cell_type": "code",
      "source": [
        "p2 = sp.Piecewise((x, x >= 0),\n",
        "                  (-x, x < 0))\n",
        "p2"
      ],
      "metadata": {
        "colab": {
          "base_uri": "https://localhost:8080/",
          "height": 68
        },
        "id": "DzRSfGeDd3Rs",
        "outputId": "563ac44d-e7b5-42b5-f232-4f8b0bb83653"
      },
      "execution_count": 22,
      "outputs": [
        {
          "output_type": "execute_result",
          "data": {
            "text/plain": [
              "⎧x   for x ≥ 0\n",
              "⎨             \n",
              "⎩-x  otherwise"
            ],
            "text/latex": "$\\displaystyle \\begin{cases} x & \\text{for}\\: x \\geq 0 \\\\- x & \\text{otherwise} \\end{cases}$"
          },
          "metadata": {},
          "execution_count": 22
        }
      ]
    },
    {
      "cell_type": "code",
      "source": [
        "fig2 = sp.plot(p2,\n",
        "               line_color='red',\n",
        "               title='Piecewise Function\\n', \n",
        "               show=False)\n",
        "fig2.show()"
      ],
      "metadata": {
        "colab": {
          "base_uri": "https://localhost:8080/",
          "height": 297
        },
        "id": "P85LRXixeBeq",
        "outputId": "feb92e8b-55bc-4bb2-bf22-ddb26983ffaf"
      },
      "execution_count": 23,
      "outputs": [
        {
          "output_type": "display_data",
          "data": {
            "text/plain": [
              "<Figure size 432x288 with 1 Axes>"
            ],
            "image/png": "[encoded data removed]"
          },
          "metadata": {
            "needs_background": "light"
          }
        }
      ]
    },
    {
      "cell_type": "code",
      "source": [
        "piece1 = sp.calculus.util.continuous_domain(p2.args[0][0], \n",
        "                                            x, \n",
        "                                            sp.Interval(0, sp.oo))\n",
        "\n",
        "piece2 = sp.calculus.util.continuous_domain(p2.args[1][0], \n",
        "                                            x, \n",
        "                                            sp.Interval.open(-sp.oo, 0))\n",
        "domain = piece1.union(piece2)\n",
        "domain"
      ],
      "metadata": {
        "colab": {
          "base_uri": "https://localhost:8080/",
          "height": 37
        },
        "id": "9-GixE7Zej6p",
        "outputId": "335f52e6-68d2-45b8-ee37-5314ea8b959e"
      },
      "execution_count": 24,
      "outputs": [
        {
          "output_type": "execute_result",
          "data": {
            "text/plain": [
              "(-∞, ∞)"
            ],
            "image/png": "[encoded data removed]",
            "text/latex": "$\\displaystyle \\left(-\\infty, \\infty\\right)$"
          },
          "metadata": {},
          "execution_count": 24
        }
      ]
    },
    {
      "cell_type": "code",
      "source": [
        "piece1 = sp.calculus.util.function_range(p2.args[0][0], x, sp.Interval(0, sp.oo))\n",
        "piece2 = sp.calculus.util.function_range(p2.args[1][0], x, sp.Interval.open(-sp.oo, 0))\n",
        "piece1, piece2"
      ],
      "metadata": {
        "colab": {
          "base_uri": "https://localhost:8080/",
          "height": 37
        },
        "id": "kG0nFaJXevYm",
        "outputId": "e4b16f24-173f-48c6-c0bd-ee2e6d01f953"
      },
      "execution_count": 25,
      "outputs": [
        {
          "output_type": "execute_result",
          "data": {
            "text/plain": [
              "([0, ∞), (0, ∞))"
            ],
            "image/png": "[encoded data removed]",
            "text/latex": "$\\displaystyle \\left( \\left[0, \\infty\\right), \\  \\left(0, \\infty\\right)\\right)$"
          },
          "metadata": {},
          "execution_count": 25
        }
      ]
    },
    {
      "cell_type": "code",
      "source": [
        "range = piece1.union(piece2)\n",
        "range"
      ],
      "metadata": {
        "colab": {
          "base_uri": "https://localhost:8080/",
          "height": 37
        },
        "id": "z_1Gmulpf2tb",
        "outputId": "aff32fba-d20e-495a-f2d4-5a08d23f791f"
      },
      "execution_count": 26,
      "outputs": [
        {
          "output_type": "execute_result",
          "data": {
            "text/plain": [
              "[0, ∞)"
            ],
            "image/png": "[encoded data removed]",
            "text/latex": "$\\displaystyle \\left[0, \\infty\\right)$"
          },
          "metadata": {},
          "execution_count": 26
        }
      ]
    },
    {
      "cell_type": "markdown",
      "source": [
        "#### Example: $f(x) = \\left|{x}\\right|$"
      ],
      "metadata": {
        "id": "sjbc008Vhdbs"
      }
    },
    {
      "cell_type": "code",
      "source": [
        "f = sp.Abs(x)\n",
        "f"
      ],
      "metadata": {
        "colab": {
          "base_uri": "https://localhost:8080/",
          "height": 39
        },
        "id": "orEPz7t8hkpY",
        "outputId": "cbae5554-7ac4-4cc5-8235-16591016ff8e"
      },
      "execution_count": 27,
      "outputs": [
        {
          "output_type": "execute_result",
          "data": {
            "text/plain": [
              "│x│"
            ],
            "image/png": "[encoded data removed]",
            "text/latex": "$\\displaystyle \\left|{x}\\right|$"
          },
          "metadata": {},
          "execution_count": 27
        }
      ]
    },
    {
      "cell_type": "code",
      "source": [
        "sp.plot(f, line_color='red', title='$f(x) = ' + sp.latex(f) + '$\\n');"
      ],
      "metadata": {
        "colab": {
          "base_uri": "https://localhost:8080/",
          "height": 298
        },
        "id": "HWCB8ka8iaEz",
        "outputId": "a4cd643d-c463-43f0-cb23-9e8b115ad68c"
      },
      "execution_count": 28,
      "outputs": [
        {
          "output_type": "display_data",
          "data": {
            "text/plain": [
              "<Figure size 432x288 with 1 Axes>"
            ],
            "image/png": "[encoded data removed]"
          },
          "metadata": {
            "needs_background": "light"
          }
        }
      ]
    },
    {
      "cell_type": "code",
      "source": [
        "domain = sp.calculus.util.continuous_domain(f, x, sp.S.Reals)\n",
        "domain"
      ],
      "metadata": {
        "colab": {
          "base_uri": "https://localhost:8080/",
          "height": 38
        },
        "id": "j1tcOFDwoaOc",
        "outputId": "164a08a2-a6fb-45fe-ddd3-6b36ea66caed"
      },
      "execution_count": 29,
      "outputs": [
        {
          "output_type": "execute_result",
          "data": {
            "text/plain": [
              "ℝ"
            ],
            "image/png": "[encoded data removed]",
            "text/latex": "$\\displaystyle \\mathbb{R}$"
          },
          "metadata": {},
          "execution_count": 29
        }
      ]
    },
    {
      "cell_type": "markdown",
      "source": [
        "### Even and Odd Functions"
      ],
      "metadata": {
        "id": "QNm63lhYxkCI"
      }
    },
    {
      "cell_type": "markdown",
      "source": [
        "#### Even functions\n",
        "\n",
        "$f(x)$ is *even* if $f(x) = f(-x)$ for all values of $x$\n",
        "\n",
        "- even functions have **y-axis symmetry**\n",
        "- examples:\n",
        "    - $y = x^2$, $y=x^n$ where n is even\n",
        "    - $y = \\left|{x}\\right|$\n",
        "    - $y = \\cos{\\left(x \\right)}$"
      ],
      "metadata": {
        "id": "DoDt6hnxz45X"
      }
    },
    {
      "cell_type": "code",
      "source": [
        "fig = sp.plot(x**2, x**8, sp.Abs(x), sp.cos(x), \n",
        "              ylim=[-2, 10],\n",
        "              legend=True,\n",
        "              show=False)\n",
        "\n",
        "fig[0].line_color='red'\n",
        "fig[0].label = '$y = ' + sp.latex(x**2) + '$'\n",
        "\n",
        "fig[1].line_color='pink'\n",
        "fig[1].label = '$y = ' + sp.latex(x**8) + '$'\n",
        "\n",
        "fig[2].line_color='green'\n",
        "fig[2].label = '$y = ' + sp.latex(sp.Abs(x)) + '$'\n",
        "\n",
        "fig[3].line_color='blue'\n",
        "fig[3].label = '$y = ' + sp.latex(sp.cos(x)) + '$'\n",
        "\n",
        "fig.show()"
      ],
      "metadata": {
        "colab": {
          "base_uri": "https://localhost:8080/",
          "height": 297
        },
        "id": "rAtWN-E4xyIj",
        "outputId": "8b1f9f6c-149c-4610-93d5-52dc03168298"
      },
      "execution_count": 30,
      "outputs": [
        {
          "output_type": "display_data",
          "data": {
            "text/plain": [
              "<Figure size 432x288 with 1 Axes>"
            ],
            "image/png": "[encoded data removed]"
          },
          "metadata": {
            "needs_background": "light"
          }
        }
      ]
    },
    {
      "cell_type": "markdown",
      "source": [
        "#### Odd functions\n",
        "\n",
        "$f(x)$ is *odd* if $f(-x) = -f(x)$ for all values of $x$\n",
        "\n",
        "- even functions have **origin symmetry**\n",
        "- examples:\n",
        "    - $y = x^3$, $y=x^n$ where n is odd\n",
        "    - $y = \\sin{\\left(x \\right)}$"
      ],
      "metadata": {
        "id": "O8GqCIEI5MjY"
      }
    },
    {
      "cell_type": "code",
      "source": [
        "fig = sp.plot(x**3, x**9, sp.sin(x), \n",
        "              ylim=[-5, 5],\n",
        "              legend=True,\n",
        "              show=False)\n",
        "\n",
        "fig[0].line_color='red'\n",
        "fig[0].label = '$y = ' + sp.latex(x**3) + '$'\n",
        "\n",
        "fig[1].line_color='green'\n",
        "fig[1].label = '$y = ' + sp.latex(x**3) + '$'\n",
        "\n",
        "fig[2].line_color='blue'\n",
        "fig[2].label = '$y = ' + sp.latex(sp.sin(x)) + '$'\n",
        "\n",
        "fig.show()"
      ],
      "metadata": {
        "colab": {
          "base_uri": "https://localhost:8080/",
          "height": 297
        },
        "id": "cLYLrTyr9dzU",
        "outputId": "2c3d1b29-f992-400b-a275-d9bab4323004"
      },
      "execution_count": 31,
      "outputs": [
        {
          "output_type": "display_data",
          "data": {
            "text/plain": [
              "<Figure size 432x288 with 1 Axes>"
            ],
            "image/png": "[encoded data removed]"
          },
          "metadata": {
            "needs_background": "light"
          }
        }
      ]
    },
    {
      "cell_type": "markdown",
      "source": [
        "### Increasing and Decreasing"
      ],
      "metadata": {
        "id": "hEGZLcqJ--qN"
      }
    },
    {
      "cell_type": "markdown",
      "source": [
        "#### Increasing\n",
        "\n",
        "$f$ is *increasing* on interval $[a, b]$ \n",
        "- when $x_1 < x_2$ then $f(x_1) < f(x_2)$\n",
        "- the function is \"going up\" when moving from left to right"
      ],
      "metadata": {
        "id": "5ExyIYNkCbq2"
      }
    },
    {
      "cell_type": "markdown",
      "source": [
        "#### Decreasing\n",
        "\n",
        "$f$ is *decreasing* on interval $[a, b]$ \n",
        "- when $x_1 < x_2$ then $f(x_1) > f(x_2)$\n",
        "- the function is \"going down\" when moving from left to right"
      ],
      "metadata": {
        "id": "Ks00j4EOEcRJ"
      }
    },
    {
      "cell_type": "code",
      "source": [
        "sp.plot(x**2, \n",
        "        line_color='red', \n",
        "        title='$f(x) =' + sp.latex(x**2) + '$\\n');"
      ],
      "metadata": {
        "colab": {
          "base_uri": "https://localhost:8080/",
          "height": 298
        },
        "id": "Mgy-oDt2CaI7",
        "outputId": "24c04027-47c3-4455-eb26-c722600811d1"
      },
      "execution_count": 32,
      "outputs": [
        {
          "output_type": "display_data",
          "data": {
            "text/plain": [
              "<Figure size 432x288 with 1 Axes>"
            ],
            "image/png": "[encoded data removed]"
          },
          "metadata": {
            "needs_background": "light"
          }
        }
      ]
    },
    {
      "cell_type": "markdown",
      "source": [
        "$f(x) = x^2$ is **increasing** on the interval $(0, \\infty)$ and **decreasing** on the interval $(-\\infty, 0)$"
      ],
      "metadata": {
        "id": "suq-UaeWGk7y"
      }
    },
    {
      "cell_type": "markdown",
      "source": [
        "## 2.1.3 Reading: Functions and Linear Functions"
      ],
      "metadata": {
        "id": "smz02VRwDlTJ"
      }
    },
    {
      "cell_type": "markdown",
      "source": [
        "### Functions\n",
        "\n",
        "A **function** is a relationship between a set of inputs and a set of outputs, where each input corresponds to exactly one output.\n",
        "\n",
        "The input is also called the **independent variable**, and the output is called the **dependent variable**. \n",
        "\n",
        "The input of a function is also called the **argument**.\n",
        "\n",
        "The set of all possible inputs for the function is called the **domain**, and the set of all possible outputs is called the **range**.\n",
        "\n",
        "Functions are often written in **function notation**.  $y = f(x)$  is read as \"y equals f of x.\" This notation means that $y$, the dependent variable, is a function of the independent variable, $x$. \n",
        "\n",
        "#### Representations of functions\n",
        "\n",
        "Functions can be given through mathematical formulas, tables, graphs, and verbal descriptions. \n",
        "\n",
        "The tools of calculus are used on functions that are given as mathematical formulas. As a result, in this course we will see some **modeling functions** - mathematical formulas that fit real-world scenarios expressed through tables of data or visuals."
      ],
      "metadata": {
        "id": "4mbgfd2oDo3w"
      }
    },
    {
      "cell_type": "markdown",
      "source": [
        "### Linear Functions\n",
        "\n",
        "A **linear function** is a function of the form $f(x) = mx + b$, where $m$ and $b$ are constants.\n",
        "\n",
        "The graph of a inear function is a straight line with slope $m$ and y-intercept $(0,b)$.\n",
        "\n",
        "#### Calculating slope\n",
        "\n",
        "$m = \\frac{f(x_2) - f(x_1)}{x_2 - x_1}$\n",
        "\n",
        "The slope of a linear function can be thought of as the **rate of change** in the function.\n",
        "\n",
        "#### Parallel and perpendicular\n",
        "\n",
        "**Parallel lines**, must have the same sloe.\n",
        "\n",
        "**Perpendicular lines** intersect at right angles, A line that is perpendicular to a line of slope $m$ has slope $\\frac{1}{m}$, the negative reciprocal of $m$.\n",
        "\n",
        "#### Forms for linear function\n",
        "\n",
        "There are two main forms:\n",
        "\n",
        "1. **Slope-Intercept Form**\n",
        "    - $y = mx + b$\n",
        "    - $m$ is the slope and $(0,b)$ is the y-intercept\n",
        "2. **Point-Slope Form**\n",
        "    - $y - y_0 = m(x - x_0)$\n",
        "    - $(x_0,y_0)$ are the coorindates of an arbitrary point on the line."
      ],
      "metadata": {
        "id": "rGudSunnGB4A"
      }
    },
    {
      "cell_type": "markdown",
      "source": [
        "## 2.1.4 Theory: Graphing and Composition"
      ],
      "metadata": {
        "id": "fbZ7alWYIYzU"
      }
    },
    {
      "cell_type": "markdown",
      "source": [
        "### Common Types of Functions"
      ],
      "metadata": {
        "id": "owGBNoRvLrtc"
      }
    },
    {
      "cell_type": "markdown",
      "source": [
        "#### Linear"
      ],
      "metadata": {
        "id": "ZLr49kmnL1Wv"
      }
    },
    {
      "cell_type": "code",
      "source": [
        "display_f_of_x('3*x + 4')"
      ],
      "metadata": {
        "colab": {
          "base_uri": "https://localhost:8080/",
          "height": 597
        },
        "id": "B-qn_byfL8D6",
        "outputId": "b3b5318f-5b4b-47d1-965a-6e4d604b18c5"
      },
      "execution_count": 33,
      "outputs": [
        {
          "output_type": "display_data",
          "data": {
            "text/plain": [
              "<Figure size 432x288 with 1 Axes>"
            ],
            "image/png": "[encoded data removed]"
          },
          "metadata": {
            "needs_background": "light"
          }
        },
        {
          "output_type": "stream",
          "name": "stdout",
          "text": [
            "\n",
            "X-intercepts:\n"
          ]
        },
        {
          "output_type": "display_data",
          "data": {
            "text/plain": [
              "[-4/3]"
            ],
            "image/png": "[encoded data removed]",
            "text/latex": "$\\displaystyle \\left[ - \\frac{4}{3}\\right]$"
          },
          "metadata": {}
        },
        {
          "output_type": "stream",
          "name": "stdout",
          "text": [
            "\n",
            "Y-intercept:\n"
          ]
        },
        {
          "output_type": "display_data",
          "data": {
            "text/plain": [
              "4"
            ],
            "image/png": "[encoded data removed]",
            "text/latex": "$\\displaystyle 4$"
          },
          "metadata": {}
        },
        {
          "output_type": "stream",
          "name": "stdout",
          "text": [
            "\n",
            "Slope (derivative):\n"
          ]
        },
        {
          "output_type": "display_data",
          "data": {
            "text/plain": [
              "3"
            ],
            "image/png": "[encoded data removed]",
            "text/latex": "$\\displaystyle 3$"
          },
          "metadata": {}
        },
        {
          "output_type": "stream",
          "name": "stdout",
          "text": [
            "\n",
            "Domain:\n"
          ]
        },
        {
          "output_type": "display_data",
          "data": {
            "text/plain": [
              "ℝ"
            ],
            "image/png": "[encoded data removed]",
            "text/latex": "$\\displaystyle \\mathbb{R}$"
          },
          "metadata": {}
        },
        {
          "output_type": "stream",
          "name": "stdout",
          "text": [
            "\n",
            "Range:\n"
          ]
        },
        {
          "output_type": "display_data",
          "data": {
            "text/plain": [
              "(-∞, ∞)"
            ],
            "image/png": "[encoded data removed]",
            "text/latex": "$\\displaystyle \\left(-\\infty, \\infty\\right)$"
          },
          "metadata": {}
        }
      ]
    },
    {
      "cell_type": "markdown",
      "source": [
        "#### Quadratic"
      ],
      "metadata": {
        "id": "Kt5mwaS5KutY"
      }
    },
    {
      "cell_type": "code",
      "source": [
        "display_f_of_x('x**2')"
      ],
      "metadata": {
        "colab": {
          "base_uri": "https://localhost:8080/",
          "height": 579
        },
        "id": "kGQ9sEgzKjPI",
        "outputId": "3ef2b826-001b-46e7-b8ec-fb8657294c93"
      },
      "execution_count": 34,
      "outputs": [
        {
          "output_type": "display_data",
          "data": {
            "text/plain": [
              "<Figure size 432x288 with 1 Axes>"
            ],
            "image/png": "[encoded data removed]"
          },
          "metadata": {
            "needs_background": "light"
          }
        },
        {
          "output_type": "stream",
          "name": "stdout",
          "text": [
            "\n",
            "X-intercepts:\n"
          ]
        },
        {
          "output_type": "display_data",
          "data": {
            "text/plain": [
              "[0]"
            ],
            "image/png": "[encoded data removed]",
            "text/latex": "$\\displaystyle \\left[ 0\\right]$"
          },
          "metadata": {}
        },
        {
          "output_type": "stream",
          "name": "stdout",
          "text": [
            "\n",
            "Y-intercept:\n"
          ]
        },
        {
          "output_type": "display_data",
          "data": {
            "text/plain": [
              "0"
            ],
            "image/png": "[encoded data removed]",
            "text/latex": "$\\displaystyle 0$"
          },
          "metadata": {}
        },
        {
          "output_type": "stream",
          "name": "stdout",
          "text": [
            "\n",
            "Slope (derivative):\n"
          ]
        },
        {
          "output_type": "display_data",
          "data": {
            "text/plain": [
              "2⋅x"
            ],
            "image/png": "[encoded data removed]",
            "text/latex": "$\\displaystyle 2 x$"
          },
          "metadata": {}
        },
        {
          "output_type": "stream",
          "name": "stdout",
          "text": [
            "\n",
            "Domain:\n"
          ]
        },
        {
          "output_type": "display_data",
          "data": {
            "text/plain": [
              "ℝ"
            ],
            "image/png": "[encoded data removed]",
            "text/latex": "$\\displaystyle \\mathbb{R}$"
          },
          "metadata": {}
        },
        {
          "output_type": "stream",
          "name": "stdout",
          "text": [
            "\n",
            "Range:\n"
          ]
        },
        {
          "output_type": "display_data",
          "data": {
            "text/plain": [
              "[0, ∞)"
            ],
            "image/png": "[encoded data removed]",
            "text/latex": "$\\displaystyle \\left[0, \\infty\\right)$"
          },
          "metadata": {}
        }
      ]
    },
    {
      "cell_type": "markdown",
      "source": [
        "#### Absolute Value\n",
        "\n",
        "- this is actually a piecewise function"
      ],
      "metadata": {
        "id": "V5uj2rzrM2wm"
      }
    },
    {
      "cell_type": "code",
      "source": [
        "sp.plot(sp.Abs(x));"
      ],
      "metadata": {
        "colab": {
          "base_uri": "https://localhost:8080/",
          "height": 296
        },
        "id": "lwCHkNy3M9s9",
        "outputId": "35e335b1-2952-4d07-b1da-ea9fcb388b42"
      },
      "execution_count": 35,
      "outputs": [
        {
          "output_type": "display_data",
          "data": {
            "text/plain": [
              "<Figure size 432x288 with 1 Axes>"
            ],
            "image/png": "[encoded data removed]"
          },
          "metadata": {
            "needs_background": "light"
          }
        }
      ]
    },
    {
      "cell_type": "markdown",
      "source": [
        "#### Cubic"
      ],
      "metadata": {
        "id": "l84tlm3SNuru"
      }
    },
    {
      "cell_type": "code",
      "source": [
        "display_f_of_x('x**3')"
      ],
      "metadata": {
        "colab": {
          "base_uri": "https://localhost:8080/",
          "height": 578
        },
        "id": "egzJmnNBN1Bh",
        "outputId": "f556eb65-65ab-4f4d-9bd1-061bf1f6efce"
      },
      "execution_count": 36,
      "outputs": [
        {
          "output_type": "display_data",
          "data": {
            "text/plain": [
              "<Figure size 432x288 with 1 Axes>"
            ],
            "image/png": "[encoded data removed]"
          },
          "metadata": {
            "needs_background": "light"
          }
        },
        {
          "output_type": "stream",
          "name": "stdout",
          "text": [
            "\n",
            "X-intercepts:\n"
          ]
        },
        {
          "output_type": "display_data",
          "data": {
            "text/plain": [
              "[0]"
            ],
            "image/png": "[encoded data removed]",
            "text/latex": "$\\displaystyle \\left[ 0\\right]$"
          },
          "metadata": {}
        },
        {
          "output_type": "stream",
          "name": "stdout",
          "text": [
            "\n",
            "Y-intercept:\n"
          ]
        },
        {
          "output_type": "display_data",
          "data": {
            "text/plain": [
              "0"
            ],
            "image/png": "[encoded data removed]",
            "text/latex": "$\\displaystyle 0$"
          },
          "metadata": {}
        },
        {
          "output_type": "stream",
          "name": "stdout",
          "text": [
            "\n",
            "Slope (derivative):\n"
          ]
        },
        {
          "output_type": "display_data",
          "data": {
            "text/plain": [
              "   2\n",
              "3⋅x "
            ],
            "image/png": "[encoded data removed]",
            "text/latex": "$\\displaystyle 3 x^{2}$"
          },
          "metadata": {}
        },
        {
          "output_type": "stream",
          "name": "stdout",
          "text": [
            "\n",
            "Domain:\n"
          ]
        },
        {
          "output_type": "display_data",
          "data": {
            "text/plain": [
              "ℝ"
            ],
            "image/png": "[encoded data removed]",
            "text/latex": "$\\displaystyle \\mathbb{R}$"
          },
          "metadata": {}
        },
        {
          "output_type": "stream",
          "name": "stdout",
          "text": [
            "\n",
            "Range:\n"
          ]
        },
        {
          "output_type": "display_data",
          "data": {
            "text/plain": [
              "(-∞, ∞)"
            ],
            "image/png": "[encoded data removed]",
            "text/latex": "$\\displaystyle \\left(-\\infty, \\infty\\right)$"
          },
          "metadata": {}
        }
      ]
    },
    {
      "cell_type": "markdown",
      "source": [
        "#### Sine and Cosine"
      ],
      "metadata": {
        "id": "YyMsu2CHOJ1z"
      }
    },
    {
      "cell_type": "code",
      "source": [
        "p = sp.plot(sp.sin(x), sp.cos(x), legend=True, show=False)\n",
        "\n",
        "p[0].line_color = 'red'\n",
        "p[0].label = '$' + sp.latex(sp.sin(x)) + '$'\n",
        "\n",
        "p[1].line_color = 'dodgerblue'\n",
        "p[1].label = '$' + sp.latex(sp.cos(x)) + '$'\n",
        "\n",
        "domain_sin = sp.calculus.util.continuous_domain(sp.sin(x), x, sp.S.Reals)\n",
        "\n",
        "try:\n",
        "    range_sin = sp.calculus.util.function_range(sp.sin(x), x, sp.S.Reals)\n",
        "except:\n",
        "    range_sin = 'Not found'\n",
        "\n",
        "print('The domain of the sine function is:')\n",
        "display(domain_sin)\n",
        "print('The range of the sine function is:')\n",
        "display(range_sin)\n",
        "\n",
        "domain_cos = sp.calculus.util.continuous_domain(sp.cos(x), x, sp.S.Reals)\n",
        "\n",
        "try:\n",
        "    range_cos = sp.calculus.util.function_range(sp.cos(x), x, sp.S.Reals)\n",
        "except:\n",
        "    range_cos = 'Not found'\n",
        "\n",
        "print('The domain of the cosine function is:')\n",
        "display(domain_cos)\n",
        "print('The range of the cosine function is:')\n",
        "display(range_cos)\n",
        "\n",
        "p.show()"
      ],
      "metadata": {
        "colab": {
          "base_uri": "https://localhost:8080/",
          "height": 451
        },
        "id": "heraLlMTONop",
        "outputId": "911a98c6-3172-4d44-b66e-5439c365df15"
      },
      "execution_count": 37,
      "outputs": [
        {
          "output_type": "stream",
          "name": "stdout",
          "text": [
            "The domain of the sine function is:\n"
          ]
        },
        {
          "output_type": "display_data",
          "data": {
            "text/plain": [
              "ℝ"
            ],
            "image/png": "[encoded data removed]",
            "text/latex": "$\\displaystyle \\mathbb{R}$"
          },
          "metadata": {}
        },
        {
          "output_type": "stream",
          "name": "stdout",
          "text": [
            "The range of the sine function is:\n"
          ]
        },
        {
          "output_type": "display_data",
          "data": {
            "text/plain": [
              "[-1, 1]"
            ],
            "image/png": "[encoded data removed]",
            "text/latex": "$\\displaystyle \\left[-1, 1\\right]$"
          },
          "metadata": {}
        },
        {
          "output_type": "stream",
          "name": "stdout",
          "text": [
            "The domain of the cosine function is:\n"
          ]
        },
        {
          "output_type": "display_data",
          "data": {
            "text/plain": [
              "ℝ"
            ],
            "image/png": "[encoded data removed]",
            "text/latex": "$\\displaystyle \\mathbb{R}$"
          },
          "metadata": {}
        },
        {
          "output_type": "stream",
          "name": "stdout",
          "text": [
            "The range of the cosine function is:\n"
          ]
        },
        {
          "output_type": "display_data",
          "data": {
            "text/plain": [
              "[-1, 1]"
            ],
            "image/png": "[encoded data removed]",
            "text/latex": "$\\displaystyle \\left[-1, 1\\right]$"
          },
          "metadata": {}
        },
        {
          "output_type": "display_data",
          "data": {
            "text/plain": [
              "<Figure size 432x288 with 1 Axes>"
            ],
            "image/png": "[encoded data removed]"
          },
          "metadata": {
            "needs_background": "light"
          }
        }
      ]
    },
    {
      "cell_type": "markdown",
      "source": [
        "### Function Composition"
      ],
      "metadata": {
        "id": "WOglrjR2TKD0"
      }
    },
    {
      "cell_type": "markdown",
      "source": [
        "#### Definition\n",
        "\n",
        "$f \\circ g$ is read as '*f composed with g*'\n",
        "\n",
        "$(f \\circ g)(x) = f(g(x))$"
      ],
      "metadata": {
        "id": "QCE-xr0dU33u"
      }
    },
    {
      "cell_type": "markdown",
      "source": [
        "#### Example\n",
        "\n",
        "$f(x) = 2x - 1$\n",
        "<br>\n",
        "$g(x) = x^3$"
      ],
      "metadata": {
        "id": "fwBF8X_Jjn92"
      }
    },
    {
      "cell_type": "markdown",
      "source": [
        "$\n",
        "\\begin{align}\n",
        "(f \\circ g)(x) &= f(g(x)) \\\\\n",
        "&= f(x^3) \\\\\n",
        "&= 2x^3 - 1 \\\\\\\\\n",
        "(g \\circ f)(x) &= g(f(x)) \\\\\n",
        "&= g(2x-1) \\\\\n",
        "&= (2x - 1)^3\n",
        "\\end{align} \n",
        "$"
      ],
      "metadata": {
        "id": "2dub1K_0kLoK"
      }
    },
    {
      "cell_type": "markdown",
      "source": [
        "Composition is **not commutative**"
      ],
      "metadata": {
        "id": "Fa5Yq_ucnkJ4"
      }
    },
    {
      "cell_type": "code",
      "source": [
        "f = 2*x - 1\n",
        "g = x**3\n",
        "f_o_g = f.subs(x, g)\n",
        "g_o_f = g.subs(x, f)"
      ],
      "metadata": {
        "id": "kgn7nIB5VqbO"
      },
      "execution_count": 38,
      "outputs": []
    },
    {
      "cell_type": "code",
      "source": [
        "f, g, f_o_g, g_o_f"
      ],
      "metadata": {
        "colab": {
          "base_uri": "https://localhost:8080/",
          "height": 47
        },
        "id": "L_XdLdFtodt_",
        "outputId": "5ea6048a-48d4-49bd-9bd7-63a4b0d245d0"
      },
      "execution_count": 39,
      "outputs": [
        {
          "output_type": "execute_result",
          "data": {
            "text/plain": [
              "⎛          3     3               3⎞\n",
              "⎝2⋅x - 1, x , 2⋅x  - 1, (2⋅x - 1) ⎠"
            ],
            "image/png": "[encoded data removed]",
            "text/latex": "$\\displaystyle \\left( 2 x - 1, \\  x^{3}, \\  2 x^{3} - 1, \\  \\left(2 x - 1\\right)^{3}\\right)$"
          },
          "metadata": {},
          "execution_count": 39
        }
      ]
    },
    {
      "cell_type": "code",
      "source": [
        "p = sp.plot(f_o_g, g_o_f, \n",
        "            legend=True, \n",
        "            ylim=[-100, 100],\n",
        "            show=False)\n",
        "\n",
        "p[0].line_color='red'\n",
        "p[0].label = '$' + sp.latex(f_o_g) + '$'\n",
        "p[1].line_color='dodgerblue'\n",
        "p[1].label = '$' + sp.latex(g_o_f) + '$'\n",
        "\n",
        "p.show()"
      ],
      "metadata": {
        "colab": {
          "base_uri": "https://localhost:8080/",
          "height": 297
        },
        "id": "K0dy1KkXpriS",
        "outputId": "0abb7bb5-5986-4844-df17-9504369a560a"
      },
      "execution_count": 40,
      "outputs": [
        {
          "output_type": "display_data",
          "data": {
            "text/plain": [
              "<Figure size 432x288 with 1 Axes>"
            ],
            "image/png": "[encoded data removed]"
          },
          "metadata": {
            "needs_background": "light"
          }
        }
      ]
    },
    {
      "cell_type": "markdown",
      "source": [
        "#### Example\n",
        "\n",
        "$f(x) = \\sqrt{x}$\n",
        "<br>\n",
        "$g(x) = \\sqrt[3]{1 - x}$"
      ],
      "metadata": {
        "id": "xsBnEQSmrWM7"
      }
    },
    {
      "cell_type": "code",
      "source": [
        "f = sp.sqrt(x)\n",
        "g = sp.cbrt(1 - x)"
      ],
      "metadata": {
        "id": "QzYM8meus7Zy"
      },
      "execution_count": 41,
      "outputs": []
    },
    {
      "cell_type": "code",
      "source": [
        "f, g"
      ],
      "metadata": {
        "colab": {
          "base_uri": "https://localhost:8080/",
          "height": 39
        },
        "id": "sRA-hCdMtFxs",
        "outputId": "871b66d2-9668-4d48-9eb5-21e4ebc8dd08"
      },
      "execution_count": 42,
      "outputs": [
        {
          "output_type": "execute_result",
          "data": {
            "text/plain": [
              "⎛    3 _______⎞\n",
              "⎝√x, ╲╱ 1 - x ⎠"
            ],
            "image/png": "[encoded data removed]",
            "text/latex": "$\\displaystyle \\left( \\sqrt{x}, \\  \\sqrt[3]{1 - x}\\right)$"
          },
          "metadata": {},
          "execution_count": 42
        }
      ]
    },
    {
      "cell_type": "code",
      "source": [
        "p = sp.plot(f, g_o_f, \n",
        "            legend=True, \n",
        "            ylim=[-10, 10],\n",
        "            show=False)\n",
        "\n",
        "p[0].line_color='red'\n",
        "p[0].label = '$' + sp.latex(f) + '$'\n",
        "p[1].line_color='dodgerblue'\n",
        "p[1].label = '$' + sp.latex(g) + '$'\n",
        "\n",
        "p.show()"
      ],
      "metadata": {
        "colab": {
          "base_uri": "https://localhost:8080/",
          "height": 297
        },
        "id": "w1FVrfCmtvjG",
        "outputId": "c64b784a-0326-4492-9fec-0dc4387fd5a0"
      },
      "execution_count": 43,
      "outputs": [
        {
          "output_type": "display_data",
          "data": {
            "text/plain": [
              "<Figure size 432x288 with 1 Axes>"
            ],
            "image/png": "[encoded data removed]"
          },
          "metadata": {
            "needs_background": "light"
          }
        }
      ]
    },
    {
      "cell_type": "markdown",
      "source": [
        "$\n",
        "\\begin{align}\n",
        "(f \\circ f)(x) &= f(f(x)) \\\\\n",
        "&= f(\\sqrt{x}) \\\\\n",
        "&= \\sqrt{\\sqrt{x}} \\\\\\\\\n",
        "(g \\circ g)(x) &= g(g(x)) \\\\\n",
        "&= g\\left( \\sqrt[3]{1 - x}\\right) \\\\\n",
        "&= g((1 - x)^\\frac{1}{3}) \\\\\n",
        "&= (1 - (1 - x)^\\frac{1}{3})^\\frac{1}{3}\n",
        "\\end{align}\n",
        "$"
      ],
      "metadata": {
        "id": "3K-nk3kxujO2"
      }
    },
    {
      "cell_type": "code",
      "source": [
        "f_o_f = f.subs(x, f)\n",
        "g_o_g = g.subs(x, g)"
      ],
      "metadata": {
        "id": "e3INx7DZyEUV"
      },
      "execution_count": 44,
      "outputs": []
    },
    {
      "cell_type": "code",
      "source": [
        "f_o_f, g_o_g"
      ],
      "metadata": {
        "colab": {
          "base_uri": "https://localhost:8080/",
          "height": 58
        },
        "id": "UT588mkvyVzL",
        "outputId": "0fbe24ad-abeb-47dc-cbbc-022b707b0c1f"
      },
      "execution_count": 45,
      "outputs": [
        {
          "output_type": "execute_result",
          "data": {
            "text/plain": [
              "⎛          _______________⎞\n",
              "⎜4 ___  3 ╱     3 _______ ⎟\n",
              "⎝╲╱ x , ╲╱  1 - ╲╱ 1 - x  ⎠"
            ],
            "image/png": "[encoded data removed]",
            "text/latex": "$\\displaystyle \\left( \\sqrt[4]{x}, \\  \\sqrt[3]{1 - \\sqrt[3]{1 - x}}\\right)$"
          },
          "metadata": {},
          "execution_count": 45
        }
      ]
    },
    {
      "cell_type": "markdown",
      "source": [
        "#### Example\n",
        "\n",
        "$g(s) = \\sqrt{\\cos{s}}$\n",
        "\n",
        "Find a function $f$ and a function $h$, such that $g(s) = (f \\circ h)(s)$\n",
        "\n",
        "##### Solution\n",
        "\n",
        "$f(s) = \\sqrt{s}$\n",
        "<br>\n",
        "$g(s) = \\cos{s}$"
      ],
      "metadata": {
        "id": "_MbYeQP70Wot"
      }
    },
    {
      "cell_type": "code",
      "source": [
        "s = sp.symbols('s')"
      ],
      "metadata": {
        "id": "a1y7Q3VF3QJD"
      },
      "execution_count": 46,
      "outputs": []
    },
    {
      "cell_type": "code",
      "source": [
        "g = sp.sqrt(sp.cos(s))\n",
        "g"
      ],
      "metadata": {
        "colab": {
          "base_uri": "https://localhost:8080/",
          "height": 39
        },
        "id": "nYpoRjOE3ICD",
        "outputId": "311e14b5-e286-41eb-8289-6d9a7b31e69f"
      },
      "execution_count": 47,
      "outputs": [
        {
          "output_type": "execute_result",
          "data": {
            "text/plain": [
              "  ________\n",
              "╲╱ cos(s) "
            ],
            "image/png": "[encoded data removed]",
            "text/latex": "$\\displaystyle \\sqrt{\\cos{\\left(s \\right)}}$"
          },
          "metadata": {},
          "execution_count": 47
        }
      ]
    },
    {
      "cell_type": "code",
      "source": [
        "s = sp.symbols('s')\n",
        "f = sp.sqrt(s)\n",
        "h = sp.cos(s)\n",
        "\n",
        "f, h"
      ],
      "metadata": {
        "colab": {
          "base_uri": "https://localhost:8080/",
          "height": 39
        },
        "id": "kHhXiBWZ1aQm",
        "outputId": "d584246e-3698-4974-d3d9-f18e8d5f1336"
      },
      "execution_count": 48,
      "outputs": [
        {
          "output_type": "execute_result",
          "data": {
            "text/plain": [
              "(√s, cos(s))"
            ],
            "image/png": "[encoded data removed]",
            "text/latex": "$\\displaystyle \\left( \\sqrt{s}, \\  \\cos{\\left(s \\right)}\\right)$"
          },
          "metadata": {},
          "execution_count": 48
        }
      ]
    },
    {
      "cell_type": "code",
      "source": [
        "f_o_h = f.subs(s, h)\n",
        "f_o_h"
      ],
      "metadata": {
        "colab": {
          "base_uri": "https://localhost:8080/",
          "height": 39
        },
        "id": "4q-P62TC1qzZ",
        "outputId": "dc5d84e7-d76c-4749-92e0-0577d35582ae"
      },
      "execution_count": 49,
      "outputs": [
        {
          "output_type": "execute_result",
          "data": {
            "text/plain": [
              "  ________\n",
              "╲╱ cos(s) "
            ],
            "image/png": "[encoded data removed]",
            "text/latex": "$\\displaystyle \\sqrt{\\cos{\\left(s \\right)}}$"
          },
          "metadata": {},
          "execution_count": 49
        }
      ]
    },
    {
      "cell_type": "code",
      "source": [
        "g.equals(f_o_h)"
      ],
      "metadata": {
        "colab": {
          "base_uri": "https://localhost:8080/"
        },
        "id": "7alc0M6S2f4w",
        "outputId": "46a7a87e-c6e7-469d-f3b3-e89e1115cf15"
      },
      "execution_count": 50,
      "outputs": [
        {
          "output_type": "execute_result",
          "data": {
            "text/plain": [
              "True"
            ]
          },
          "metadata": {},
          "execution_count": 50
        }
      ]
    },
    {
      "cell_type": "code",
      "source": [
        "g == f_o_h"
      ],
      "metadata": {
        "colab": {
          "base_uri": "https://localhost:8080/"
        },
        "id": "TOuxM9OT29cB",
        "outputId": "4ec52c4a-3890-412e-8f12-c84288166fda"
      },
      "execution_count": 51,
      "outputs": [
        {
          "output_type": "execute_result",
          "data": {
            "text/plain": [
              "True"
            ]
          },
          "metadata": {},
          "execution_count": 51
        }
      ]
    },
    {
      "cell_type": "markdown",
      "source": [
        "## 2.1.5 Python: Graphing Functions"
      ],
      "metadata": {
        "id": "QOqgOy_VtHqw"
      }
    },
    {
      "cell_type": "markdown",
      "source": [
        "### Simple plot example"
      ],
      "metadata": {
        "id": "b_BQAKJk6Y-k"
      }
    },
    {
      "cell_type": "code",
      "source": [
        "p = sp.plotting.plot(x**2, show=False)\n",
        "p.show()"
      ],
      "metadata": {
        "colab": {
          "base_uri": "https://localhost:8080/",
          "height": 296
        },
        "id": "6t1fPrGQuEYo",
        "outputId": "ceb72bcf-eb52-4938-d513-1e1147efe6f4"
      },
      "execution_count": 52,
      "outputs": [
        {
          "output_type": "display_data",
          "data": {
            "text/plain": [
              "<Figure size 432x288 with 1 Axes>"
            ],
            "image/png": "[encoded data removed]"
          },
          "metadata": {
            "needs_background": "light"
          }
        }
      ]
    },
    {
      "cell_type": "markdown",
      "source": [
        "### Saving plot images"
      ],
      "metadata": {
        "id": "np2C3vEs6GP0"
      }
    },
    {
      "cell_type": "code",
      "source": [
        "from google.colab import drive\n",
        "drive.mount('gdrive')"
      ],
      "metadata": {
        "colab": {
          "base_uri": "https://localhost:8080/"
        },
        "id": "IUqPs3DhExpA",
        "outputId": "b5aa0af4-b200-4716-8f98-58e10adcd2d1"
      },
      "execution_count": 53,
      "outputs": [
        {
          "output_type": "stream",
          "name": "stdout",
          "text": [
            "Drive already mounted at gdrive; to attempt to forcibly remount, call drive.mount(\"gdrive\", force_remount=True).\n"
          ]
        }
      ]
    },
    {
      "cell_type": "code",
      "source": [
        "import os\n",
        "os.getcwd()"
      ],
      "metadata": {
        "colab": {
          "base_uri": "https://localhost:8080/",
          "height": 36
        },
        "id": "B04KpAg9xUJg",
        "outputId": "6de6d2df-a314-4791-cf6d-8bd891200318"
      },
      "execution_count": 54,
      "outputs": [
        {
          "output_type": "execute_result",
          "data": {
            "text/plain": [
              "'/content'"
            ],
            "application/vnd.google.colaboratory.intrinsic+json": {
              "type": "string"
            }
          },
          "metadata": {},
          "execution_count": 54
        }
      ]
    },
    {
      "cell_type": "code",
      "source": [
        "os.listdir('/content')"
      ],
      "metadata": {
        "colab": {
          "base_uri": "https://localhost:8080/"
        },
        "id": "HERdva9t7MiX",
        "outputId": "e216ccd6-b7f5-4a38-8444-06dd155ac675"
      },
      "execution_count": 55,
      "outputs": [
        {
          "output_type": "execute_result",
          "data": {
            "text/plain": [
              "['.config', 'gdrive', 'sample_data']"
            ]
          },
          "metadata": {},
          "execution_count": 55
        }
      ]
    },
    {
      "cell_type": "code",
      "source": [
        "os.listdir()"
      ],
      "metadata": {
        "colab": {
          "base_uri": "https://localhost:8080/"
        },
        "id": "PB_V7ZF77TUo",
        "outputId": "13a0b0d6-c59d-4e7a-f856-c11149422fd4"
      },
      "execution_count": 56,
      "outputs": [
        {
          "output_type": "execute_result",
          "data": {
            "text/plain": [
              "['.config', 'gdrive', 'sample_data']"
            ]
          },
          "metadata": {},
          "execution_count": 56
        }
      ]
    },
    {
      "cell_type": "code",
      "source": [
        "images_path = 'gdrive/MyDrive/'\n",
        "images_path += 'Colab Notebooks/'\n",
        "images_path += 'Data Science/'\n",
        "images_path += 'Johns Hopkins - Applied Calculus with Python/'\n",
        "images_path += 'images/'\n",
        "images_path"
      ],
      "metadata": {
        "colab": {
          "base_uri": "https://localhost:8080/",
          "height": 36
        },
        "id": "vJ5ZJi-X0RT6",
        "outputId": "a27dc8b8-463a-4d18-a41b-eacf3882fd60"
      },
      "execution_count": 57,
      "outputs": [
        {
          "output_type": "execute_result",
          "data": {
            "text/plain": [
              "'gdrive/MyDrive/Colab Notebooks/Data Science/Johns Hopkins - Applied Calculus with Python/images/'"
            ],
            "application/vnd.google.colaboratory.intrinsic+json": {
              "type": "string"
            }
          },
          "metadata": {},
          "execution_count": 57
        }
      ]
    },
    {
      "cell_type": "code",
      "source": [
        "p.save(images_path + 'x_squared_plot.png')"
      ],
      "metadata": {
        "colab": {
          "base_uri": "https://localhost:8080/",
          "height": 278
        },
        "id": "jh7Gn9k24g1F",
        "outputId": "8a2fcd7f-17e0-4488-851d-2559eb5f516f"
      },
      "execution_count": 58,
      "outputs": [
        {
          "output_type": "display_data",
          "data": {
            "text/plain": [
              "<Figure size 432x288 with 1 Axes>"
            ],
            "image/png": "[encoded data removed]"
          },
          "metadata": {
            "needs_background": "light"
          }
        }
      ]
    },
    {
      "cell_type": "markdown",
      "source": [
        "### Example"
      ],
      "metadata": {
        "id": "Ij6a_9mSHjyS"
      }
    },
    {
      "cell_type": "code",
      "source": [
        "plot1 = sp.plot(x**2, (x, -3, 3))"
      ],
      "metadata": {
        "colab": {
          "base_uri": "https://localhost:8080/",
          "height": 296
        },
        "id": "_W2jzDSJHmN6",
        "outputId": "cc8ac082-4b1a-4a09-c4d9-127658f0f40f"
      },
      "execution_count": 59,
      "outputs": [
        {
          "output_type": "display_data",
          "data": {
            "text/plain": [
              "<Figure size 432x288 with 1 Axes>"
            ],
            "image/png": "[encoded data removed]"
          },
          "metadata": {
            "needs_background": "light"
          }
        }
      ]
    },
    {
      "cell_type": "code",
      "source": [
        "type(plot1)"
      ],
      "metadata": {
        "colab": {
          "base_uri": "https://localhost:8080/"
        },
        "id": "EB3u3IoDISG0",
        "outputId": "cbb66f5d-8514-40e0-8151-6494627723c4"
      },
      "execution_count": 60,
      "outputs": [
        {
          "output_type": "execute_result",
          "data": {
            "text/plain": [
              "sympy.plotting.plot.Plot"
            ]
          },
          "metadata": {},
          "execution_count": 60
        }
      ]
    },
    {
      "cell_type": "code",
      "source": [
        "plot1[0]"
      ],
      "metadata": {
        "colab": {
          "base_uri": "https://localhost:8080/"
        },
        "id": "MgU6NXWpJL6r",
        "outputId": "25a2d3f1-06d1-4afc-cd26-60e7717fdf2d"
      },
      "execution_count": 61,
      "outputs": [
        {
          "output_type": "execute_result",
          "data": {
            "text/plain": [
              "<sympy.plotting.plot.LineOver1DRangeSeries at 0x7f5f15136d10>"
            ]
          },
          "metadata": {},
          "execution_count": 61
        }
      ]
    },
    {
      "cell_type": "code",
      "source": [
        "plot1[0].expr"
      ],
      "metadata": {
        "colab": {
          "base_uri": "https://localhost:8080/",
          "height": 39
        },
        "id": "wEPBF2rpJTi0",
        "outputId": "b0643240-e2b5-47c0-c4f3-10447eceb8de"
      },
      "execution_count": 62,
      "outputs": [
        {
          "output_type": "execute_result",
          "data": {
            "text/plain": [
              " 2\n",
              "x "
            ],
            "image/png": "[encoded data removed]",
            "text/latex": "$\\displaystyle x^{2}$"
          },
          "metadata": {},
          "execution_count": 62
        }
      ]
    },
    {
      "cell_type": "code",
      "source": [
        "plot1[0].line_color = 'r'"
      ],
      "metadata": {
        "id": "yyjQV0uQJbLQ"
      },
      "execution_count": 63,
      "outputs": []
    },
    {
      "cell_type": "code",
      "source": [
        "plot1.show()"
      ],
      "metadata": {
        "colab": {
          "base_uri": "https://localhost:8080/",
          "height": 296
        },
        "id": "nLTMsppKJvkH",
        "outputId": "eaac80ed-99a4-497d-da82-025312bc675b"
      },
      "execution_count": 64,
      "outputs": [
        {
          "output_type": "display_data",
          "data": {
            "text/plain": [
              "<Figure size 432x288 with 1 Axes>"
            ],
            "image/png": "[encoded data removed]"
          },
          "metadata": {
            "needs_background": "light"
          }
        }
      ]
    },
    {
      "cell_type": "markdown",
      "source": [
        "### Multiple plots"
      ],
      "metadata": {
        "id": "aEfvcZwPLG1v"
      }
    },
    {
      "cell_type": "code",
      "source": [
        "f1 = 3*x + 2\n",
        "f2 = x**3"
      ],
      "metadata": {
        "id": "PcMiwUjpLMgf"
      },
      "execution_count": 65,
      "outputs": []
    },
    {
      "cell_type": "code",
      "source": [
        "plots2 = sp.plot(f1, f2)"
      ],
      "metadata": {
        "colab": {
          "base_uri": "https://localhost:8080/",
          "height": 297
        },
        "id": "qkdY0uirMgK2",
        "outputId": "7f9656fe-19a7-4fd4-b04c-9ef80dfa0738"
      },
      "execution_count": 66,
      "outputs": [
        {
          "output_type": "display_data",
          "data": {
            "text/plain": [
              "<Figure size 432x288 with 1 Axes>"
            ],
            "image/png": "[encoded data removed]"
          },
          "metadata": {
            "needs_background": "light"
          }
        }
      ]
    },
    {
      "cell_type": "markdown",
      "source": [
        "### Piecewise"
      ],
      "metadata": {
        "id": "mQSv7-TKNcMH"
      }
    },
    {
      "cell_type": "code",
      "source": [
        "sp.plot((f1, (x, -10, 0)),\n",
        "        (f2, (x, 0, 5)),\n",
        "        ylim=(-10, 10));"
      ],
      "metadata": {
        "colab": {
          "base_uri": "https://localhost:8080/",
          "height": 297
        },
        "id": "So4z9Xu7Nbks",
        "outputId": "1d3fe454-f7d9-42bc-fdff-add0653d8460"
      },
      "execution_count": 67,
      "outputs": [
        {
          "output_type": "display_data",
          "data": {
            "text/plain": [
              "<Figure size 432x288 with 1 Axes>"
            ],
            "image/png": "[encoded data removed]"
          },
          "metadata": {
            "needs_background": "light"
          }
        }
      ]
    },
    {
      "cell_type": "markdown",
      "source": [
        "## 2.1.6 Python: Interactive Quadratic Calculator"
      ],
      "metadata": {
        "id": "8nApPD92Pcig"
      }
    },
    {
      "cell_type": "code",
      "source": [
        "import numpy as np\n",
        "\n",
        "def zeros(a, b, c):\n",
        "  D = np.sqrt(b**2 - 4*a*c)\n",
        "  x1 = (-b + D) / (2 * a)\n",
        "  x2 = (-b - D) / (2 * a)\n",
        "  \n",
        "  print('The first root is: ', x1)\n",
        "  print('The second root is: ', x2)\n",
        "\n",
        "def print_graph(a, b, c):\n",
        "    x = sp.symbols('x')\n",
        "    expr = a*x**2 + b*x + c\n",
        "    sp.plot(expr, title='$' + sp.latex(expr) + '$\\n', line_color='red')\n",
        "\n",
        "def quad_calc():\n",
        "    while True:\n",
        "        print('Welcome to our quadratic calculator')\n",
        "        a = input('Enter a: ')\n",
        "        b = input('Enter b: ')\n",
        "        c = input('Enter c: ')\n",
        "\n",
        "        zeros(float(a), float(b), float(c))\n",
        "        print_graph(float(a), float(b), float(c))\n",
        "\n",
        "        allDone = input('Would you like to solve another quadratic? (y/n)\\n')\n",
        "        if allDone == 'n':\n",
        "            print('Goodbye')\n",
        "            break"
      ],
      "metadata": {
        "id": "CbqjYHhqzUA7"
      },
      "execution_count": 68,
      "outputs": []
    },
    {
      "cell_type": "code",
      "source": [
        "# quad_calc()"
      ],
      "metadata": {
        "id": "0mgK3SdJ2gFd"
      },
      "execution_count": 69,
      "outputs": []
    },
    {
      "cell_type": "markdown",
      "source": [
        "## 2.1.7 Reading: Sample Problems - Introduction to Functions"
      ],
      "metadata": {
        "id": "pUJMkvIY47_5"
      }
    },
    {
      "cell_type": "markdown",
      "source": [
        "### Sample Problem 1 - Interpreting a Function\n",
        "\n",
        "The function $G(s)$ represents the gas mileage of a car (in miles per gallon) traveling at a speed of $s$ miles per hour\n",
        "\n",
        "#### Part A\n",
        "\n",
        "What does it means that $G(56) = 24$?\n",
        "\n",
        "##### Solution:\n",
        "\n",
        "It means that when the car is traveling at 56 miles per hour, the car is getting 24 miles per gallon.\n",
        "\n",
        "#### Part B\n",
        "\n",
        "Write a mathematical statement that represents the following sentence: \"The car's mileage while traveling at 80 miles per hour is 60% of its gas mileage at 70 miles per hours.\n",
        "\n",
        "##### Solution:\n",
        "\n",
        "$G(80) = .6 * G(70)$"
      ],
      "metadata": {
        "id": "cz13qBDy5QoK"
      }
    },
    {
      "cell_type": "markdown",
      "source": [
        "### Sample Problem 2 - Analyzing a Linear Function\n",
        "\n",
        "Suppose that $k(x)$ is a linear function, such that $k(1) = -4$ and $k(3) = 6$\n",
        "\n",
        "#### Part A\n",
        "\n",
        "Find an expression for $k(x)$.\n",
        "\n",
        "#### Part B\n",
        "\n",
        "Find the domain and range of $k(x)$\n",
        "\n",
        "##### Solution:\n",
        "\n",
        "We know that: <br>\n",
        "$\n",
        "m + b = -4 \\\\\n",
        "3m + b = 6\n",
        "$"
      ],
      "metadata": {
        "id": "p4Jp5Y-h8hzW"
      }
    },
    {
      "cell_type": "code",
      "source": [
        "m, b = sp.symbols('m b')\n",
        "\n",
        "# sympy.solvers.\n",
        "sp.linsolve([m + b + 4, 3*m + b - 6], (m, b))"
      ],
      "metadata": {
        "colab": {
          "base_uri": "https://localhost:8080/",
          "height": 37
        },
        "id": "i3EhCfKzCBWw",
        "outputId": "1dfef39b-0b03-4a92-a020-1cdae30dab62"
      },
      "execution_count": 70,
      "outputs": [
        {
          "output_type": "execute_result",
          "data": {
            "text/plain": [
              "{(5, -9)}"
            ],
            "image/png": "[encoded data removed]",
            "text/latex": "$\\displaystyle \\left\\{\\left( 5, \\  -9\\right)\\right\\}$"
          },
          "metadata": {},
          "execution_count": 70
        }
      ]
    },
    {
      "cell_type": "code",
      "source": [
        "# the comma is called \"sequence unpacking\"\n",
        "answer = sp.solvers.linsolve([m + b + 4, 3*m + b - 6], (m, b))\n",
        "answer"
      ],
      "metadata": {
        "colab": {
          "base_uri": "https://localhost:8080/",
          "height": 37
        },
        "id": "rj5l_KezCnsE",
        "outputId": "47168c00-195a-4eb9-d6ca-6e182d1757f6"
      },
      "execution_count": 71,
      "outputs": [
        {
          "output_type": "execute_result",
          "data": {
            "text/plain": [
              "{(5, -9)}"
            ],
            "image/png": "[encoded data removed]",
            "text/latex": "$\\displaystyle \\left\\{\\left( 5, \\  -9\\right)\\right\\}$"
          },
          "metadata": {},
          "execution_count": 71
        }
      ]
    },
    {
      "cell_type": "code",
      "source": [
        "answer = list(answer)\n",
        "answer"
      ],
      "metadata": {
        "colab": {
          "base_uri": "https://localhost:8080/",
          "height": 37
        },
        "id": "nrvVcMcSH3ai",
        "outputId": "efc9728b-0620-4345-eeea-b1283eb4d61d"
      },
      "execution_count": 72,
      "outputs": [
        {
          "output_type": "execute_result",
          "data": {
            "text/plain": [
              "[(5, -9)]"
            ],
            "image/png": "[encoded data removed]",
            "text/latex": "$\\displaystyle \\left[ \\left( 5, \\  -9\\right)\\right]$"
          },
          "metadata": {},
          "execution_count": 72
        }
      ]
    },
    {
      "cell_type": "code",
      "source": [
        "m = answer[0][0]\n",
        "b = answer[0][1]\n",
        "\n",
        "f = m * x + b\n",
        "f"
      ],
      "metadata": {
        "colab": {
          "base_uri": "https://localhost:8080/",
          "height": 39
        },
        "id": "2asgbKlzDVZu",
        "outputId": "dbb9ea6c-3708-4bc2-9243-1382ea0db14c"
      },
      "execution_count": 73,
      "outputs": [
        {
          "output_type": "execute_result",
          "data": {
            "text/plain": [
              "5⋅x - 9"
            ],
            "image/png": "[encoded data removed]",
            "text/latex": "$\\displaystyle 5 x - 9$"
          },
          "metadata": {},
          "execution_count": 73
        }
      ]
    },
    {
      "cell_type": "code",
      "source": [
        "domain = sp.calculus.util.continuous_domain(f, x, sp.S.Reals)\n",
        "domain"
      ],
      "metadata": {
        "colab": {
          "base_uri": "https://localhost:8080/",
          "height": 38
        },
        "id": "1eOA0_07JWL9",
        "outputId": "20e6d12a-3a8d-44f2-db26-e99ab1449e33"
      },
      "execution_count": 74,
      "outputs": [
        {
          "output_type": "execute_result",
          "data": {
            "text/plain": [
              "ℝ"
            ],
            "image/png": "[encoded data removed]",
            "text/latex": "$\\displaystyle \\mathbb{R}$"
          },
          "metadata": {},
          "execution_count": 74
        }
      ]
    },
    {
      "cell_type": "code",
      "source": [
        "range = sp.calculus.util.function_range(f, x, sp.S.Reals)\n",
        "range"
      ],
      "metadata": {
        "colab": {
          "base_uri": "https://localhost:8080/",
          "height": 37
        },
        "id": "_u7ilNM4Jtdp",
        "outputId": "e5084f56-c664-467f-98c9-09b19ae4dccd"
      },
      "execution_count": 75,
      "outputs": [
        {
          "output_type": "execute_result",
          "data": {
            "text/plain": [
              "(-∞, ∞)"
            ],
            "image/png": "[encoded data removed]",
            "text/latex": "$\\displaystyle \\left(-\\infty, \\infty\\right)$"
          },
          "metadata": {},
          "execution_count": 75
        }
      ]
    },
    {
      "cell_type": "markdown",
      "source": [
        "The expression is $k(x) = 5x - 9$. Its domain is $\\mathbb{R}$ and its range is $\\mathbb{R}$."
      ],
      "metadata": {
        "id": "RBNg1JTUE7QU"
      }
    },
    {
      "cell_type": "code",
      "source": [
        "# another solution, since the points (1, -4) and (3, 6)\n",
        "# are on the line\n",
        "\n",
        "m = (-4 - 6) / (1 - 3)\n",
        "m"
      ],
      "metadata": {
        "colab": {
          "base_uri": "https://localhost:8080/",
          "height": 37
        },
        "id": "G6GXK_YZLJ_2",
        "outputId": "4c4f281f-2c90-4b3a-c080-e559097755d5"
      },
      "execution_count": 76,
      "outputs": [
        {
          "output_type": "execute_result",
          "data": {
            "text/plain": [
              "5.0"
            ],
            "image/png": "[encoded data removed]",
            "text/latex": "$\\displaystyle 5.0$"
          },
          "metadata": {},
          "execution_count": 76
        }
      ]
    },
    {
      "cell_type": "code",
      "source": [
        "# y = mx + b\n",
        "# => b = y - mx\n",
        "b = 6 - m * 3\n",
        "b"
      ],
      "metadata": {
        "colab": {
          "base_uri": "https://localhost:8080/",
          "height": 37
        },
        "id": "FeGdKug_Me-H",
        "outputId": "47183723-b526-4edc-993b-460a990b22b2"
      },
      "execution_count": 77,
      "outputs": [
        {
          "output_type": "execute_result",
          "data": {
            "text/plain": [
              "-9.0"
            ],
            "image/png": "[encoded data removed]",
            "text/latex": "$\\displaystyle -9.0$"
          },
          "metadata": {},
          "execution_count": 77
        }
      ]
    },
    {
      "cell_type": "markdown",
      "source": [
        "### Sample Problem 3\n",
        "\n",
        "Define a function, **linear(a, b, c, d)**, which when given the coordinates of two points, returns the equation of the line passing through those two points.\n",
        "\n",
        "##### Solution:\n",
        "\n",
        "Using the point-slope form of the equation:\n",
        "\n",
        "$\n",
        "y - y_0 = m(x - x_0) \\\\\n",
        "\\implies y = m(x - x_0) + y_0\n",
        "$"
      ],
      "metadata": {
        "id": "vP9TJOVwNAdZ"
      }
    },
    {
      "cell_type": "code",
      "source": [
        "x = sp.symbols('x')\n",
        "\n",
        "def linear(a, b, c, d):\n",
        "    slope = (d - b) / (c - a)\n",
        "    # point-slope form\n",
        "    return slope * (x - a) + b"
      ],
      "metadata": {
        "id": "QQLOxeYuP5Nx"
      },
      "execution_count": 78,
      "outputs": []
    },
    {
      "cell_type": "code",
      "source": [
        "linear(1, -4, 3, 6)"
      ],
      "metadata": {
        "colab": {
          "base_uri": "https://localhost:8080/",
          "height": 39
        },
        "id": "Q7S2qt3vQTv3",
        "outputId": "103fb6e7-8807-49cc-cbdf-93b80ff2aacd"
      },
      "execution_count": 79,
      "outputs": [
        {
          "output_type": "execute_result",
          "data": {
            "text/plain": [
              "5.0⋅x - 9.0"
            ],
            "image/png": "[encoded data removed]",
            "text/latex": "$\\displaystyle 5.0 x - 9.0$"
          },
          "metadata": {},
          "execution_count": 79
        }
      ]
    },
    {
      "cell_type": "markdown",
      "source": [
        "## Quiz"
      ],
      "metadata": {
        "id": "7iWL2bx5QZvu"
      }
    }
  ]
}