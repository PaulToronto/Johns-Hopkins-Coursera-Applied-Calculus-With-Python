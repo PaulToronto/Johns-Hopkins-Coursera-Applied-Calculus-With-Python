{
  "nbformat": 4,
  "nbformat_minor": 0,
  "metadata": {
    "colab": {
      "provenance": [],
      "toc_visible": true,
      "collapsed_sections": [
        "5ExyIYNkCbq2"
      ],
      "authorship_tag": "ABX9TyO0B7I1UHGPOk5d4Lu+1Phw",
      "include_colab_link": true
    },
    "kernelspec": {
      "name": "python3",
      "display_name": "Python 3"
    },
    "language_info": {
      "name": "python"
    }
  },
  "cells": [
    {
      "cell_type": "markdown",
      "metadata": {
        "id": "view-in-github",
        "colab_type": "text"
      },
      "source": [
        "<a href=\"https://colab.research.google.com/github/PaulToronto/Johns-Hopkins-Coursera-Applied-Calculus-With-Python/blob/main/2_1_Introduction_to_Functions.ipynb\" target=\"_parent\"><img src=\"https://colab.research.google.com/assets/colab-badge.svg\" alt=\"Open In Colab\"/></a>"
      ]
    },
    {
      "cell_type": "markdown",
      "source": [
        "# 2.1 Introduction to Functions"
      ],
      "metadata": {
        "id": "CEXLyT1rGamw"
      }
    },
    {
      "cell_type": "markdown",
      "source": [
        "## 2.1.1 Theory: Functions"
      ],
      "metadata": {
        "id": "zGt1GIdbwSn9"
      }
    },
    {
      "cell_type": "code",
      "source": [
        "import sympy as sp \n",
        "import ipywidgets as widgets\n",
        "from math import isnan\n",
        "\n",
        "sp.init_printing(use_unicode=True)"
      ],
      "metadata": {
        "id": "ilrUDW7uLIwd"
      },
      "execution_count": null,
      "outputs": []
    },
    {
      "cell_type": "code",
      "source": [
        "def display_f_of_x(str_expr):\n",
        "    f = sp.parse_expr(str_expr)\n",
        "\n",
        "    x = f.free_symbols.pop()\n",
        "\n",
        "    sp.plot(f, \n",
        "            line_color='red',\n",
        "            title='$f(x) = ' + sp.latex(f) + '$\\n'\n",
        "            )\n",
        "\n",
        "    x_intercepts = list()\n",
        "    for soln in sp.solve(f):\n",
        "        if soln.is_real:\n",
        "            x_intercepts.append(soln)\n",
        "    x_intercepts = None if len(x_intercepts) == 0 else x_intercepts\n",
        "\n",
        "\n",
        "    y_intercept = None if isnan(f.subs(x, 0)) else f.subs(x, 0)\n",
        "\n",
        "    slope = f.diff()\n",
        "    \n",
        "    domain = sp.calculus.util.continuous_domain(f, x, sp.S.Reals)\n",
        "\n",
        "    try:\n",
        "        range = sp.calculus.util.function_range(f, x, sp.S.Reals)\n",
        "    except NotImplementedError:\n",
        "        range = 'Not found'\n",
        "\n",
        "    print('\\nX-intercepts:')\n",
        "    display(x_intercepts)\n",
        "    print('\\nY-intercept:')\n",
        "    display(y_intercept)\n",
        "    print('\\nSlope (derivative):')\n",
        "    display(slope)\n",
        "    print('\\nDomain:')\n",
        "    display(domain)\n",
        "    print('\\nRange:')\n",
        "    display(range)"
      ],
      "metadata": {
        "id": "2WxpeCLQ57SB"
      },
      "execution_count": null,
      "outputs": []
    },
    {
      "cell_type": "markdown",
      "source": [
        "### Definition\n",
        "\n",
        "A *function* is a rule that assigns to each element $x$ in a set $A$ exactly one element, called $f(x)$, in a set $B$"
      ],
      "metadata": {
        "id": "xbbeP2sQIsuk"
      }
    },
    {
      "cell_type": "markdown",
      "source": [
        "### Example: $f(x) = x + 1$"
      ],
      "metadata": {
        "id": "z_lELMWxMM21"
      }
    },
    {
      "cell_type": "code",
      "source": [
        "display_f_of_x('x + 1')"
      ],
      "metadata": {
        "colab": {
          "base_uri": "https://localhost:8080/",
          "height": 577
        },
        "id": "MLVC4IkPVEwZ",
        "outputId": "17182ea9-5f37-4af0-9d01-f881661ae48a"
      },
      "execution_count": null,
      "outputs": [
        {
          "output_type": "display_data",
          "data": {
            "text/plain": [
              "<Figure size 432x288 with 1 Axes>"
            ],
            "image/png": "[encoded data removed]"
          },
          "metadata": {
            "needs_background": "light"
          }
        },
        {
          "output_type": "stream",
          "name": "stdout",
          "text": [
            "\n",
            "X-intercepts:\n"
          ]
        },
        {
          "output_type": "display_data",
          "data": {
            "text/plain": [
              "[-1]"
            ],
            "image/png": "[encoded data removed]",
            "text/latex": "$\\displaystyle \\left[ -1\\right]$"
          },
          "metadata": {}
        },
        {
          "output_type": "stream",
          "name": "stdout",
          "text": [
            "\n",
            "Y-intercept:\n"
          ]
        },
        {
          "output_type": "display_data",
          "data": {
            "text/plain": [
              "1"
            ],
            "image/png": "[encoded data removed]",
            "text/latex": "$\\displaystyle 1$"
          },
          "metadata": {}
        },
        {
          "output_type": "stream",
          "name": "stdout",
          "text": [
            "\n",
            "Slope (derivative):\n"
          ]
        },
        {
          "output_type": "display_data",
          "data": {
            "text/plain": [
              "1"
            ],
            "image/png": "[encoded data removed]",
            "text/latex": "$\\displaystyle 1$"
          },
          "metadata": {}
        },
        {
          "output_type": "stream",
          "name": "stdout",
          "text": [
            "\n",
            "Domain:\n"
          ]
        },
        {
          "output_type": "display_data",
          "data": {
            "text/plain": [
              "ℝ"
            ],
            "image/png": "[encoded data removed]",
            "text/latex": "$\\displaystyle \\mathbb{R}$"
          },
          "metadata": {}
        },
        {
          "output_type": "stream",
          "name": "stdout",
          "text": [
            "\n",
            "Range:\n"
          ]
        },
        {
          "output_type": "display_data",
          "data": {
            "text/plain": [
              "(-∞, ∞)"
            ],
            "image/png": "[encoded data removed]",
            "text/latex": "$\\displaystyle \\left(-\\infty, \\infty\\right)$"
          },
          "metadata": {}
        }
      ]
    },
    {
      "cell_type": "markdown",
      "source": [
        "### Example: $f(x) = x^{2}$"
      ],
      "metadata": {
        "id": "GfyzKf0FGgod"
      }
    },
    {
      "cell_type": "code",
      "source": [
        "display_f_of_x('x**2')"
      ],
      "metadata": {
        "colab": {
          "base_uri": "https://localhost:8080/",
          "height": 579
        },
        "id": "PaHX5eHIGqqA",
        "outputId": "24a0d160-69fb-43f0-97cb-e943a2d1900d"
      },
      "execution_count": null,
      "outputs": [
        {
          "output_type": "display_data",
          "data": {
            "text/plain": [
              "<Figure size 432x288 with 1 Axes>"
            ],
            "image/png": "[encoded data removed]"
          },
          "metadata": {
            "needs_background": "light"
          }
        },
        {
          "output_type": "stream",
          "name": "stdout",
          "text": [
            "\n",
            "X-intercepts:\n"
          ]
        },
        {
          "output_type": "display_data",
          "data": {
            "text/plain": [
              "[0]"
            ],
            "image/png": "[encoded data removed]",
            "text/latex": "$\\displaystyle \\left[ 0\\right]$"
          },
          "metadata": {}
        },
        {
          "output_type": "stream",
          "name": "stdout",
          "text": [
            "\n",
            "Y-intercept:\n"
          ]
        },
        {
          "output_type": "display_data",
          "data": {
            "text/plain": [
              "0"
            ],
            "image/png": "[encoded data removed]",
            "text/latex": "$\\displaystyle 0$"
          },
          "metadata": {}
        },
        {
          "output_type": "stream",
          "name": "stdout",
          "text": [
            "\n",
            "Slope (derivative):\n"
          ]
        },
        {
          "output_type": "display_data",
          "data": {
            "text/plain": [
              "2⋅x"
            ],
            "image/png": "[encoded data removed]",
            "text/latex": "$\\displaystyle 2 x$"
          },
          "metadata": {}
        },
        {
          "output_type": "stream",
          "name": "stdout",
          "text": [
            "\n",
            "Domain:\n"
          ]
        },
        {
          "output_type": "display_data",
          "data": {
            "text/plain": [
              "ℝ"
            ],
            "image/png": "[encoded data removed]",
            "text/latex": "$\\displaystyle \\mathbb{R}$"
          },
          "metadata": {}
        },
        {
          "output_type": "stream",
          "name": "stdout",
          "text": [
            "\n",
            "Range:\n"
          ]
        },
        {
          "output_type": "display_data",
          "data": {
            "text/plain": [
              "[0, ∞)"
            ],
            "image/png": "[encoded data removed]",
            "text/latex": "$\\displaystyle \\left[0, \\infty\\right)$"
          },
          "metadata": {}
        }
      ]
    },
    {
      "cell_type": "markdown",
      "source": [
        "### Example: $f(x) = 2^{x}$"
      ],
      "metadata": {
        "id": "z8pBA8FrHfrQ"
      }
    },
    {
      "cell_type": "code",
      "source": [
        "display_f_of_x('2**x')"
      ],
      "metadata": {
        "colab": {
          "base_uri": "https://localhost:8080/",
          "height": 575
        },
        "id": "F9MHNzBzHj65",
        "outputId": "eb9dd150-6364-4a4a-fb8e-0b443c872a2d"
      },
      "execution_count": null,
      "outputs": [
        {
          "output_type": "display_data",
          "data": {
            "text/plain": [
              "<Figure size 432x288 with 1 Axes>"
            ],
            "image/png": "[encoded data removed]"
          },
          "metadata": {
            "needs_background": "light"
          }
        },
        {
          "output_type": "stream",
          "name": "stdout",
          "text": [
            "\n",
            "X-intercepts:\n"
          ]
        },
        {
          "output_type": "display_data",
          "data": {
            "text/plain": [
              "None"
            ]
          },
          "metadata": {}
        },
        {
          "output_type": "stream",
          "name": "stdout",
          "text": [
            "\n",
            "Y-intercept:\n"
          ]
        },
        {
          "output_type": "display_data",
          "data": {
            "text/plain": [
              "1"
            ],
            "image/png": "[encoded data removed]",
            "text/latex": "$\\displaystyle 1$"
          },
          "metadata": {}
        },
        {
          "output_type": "stream",
          "name": "stdout",
          "text": [
            "\n",
            "Slope (derivative):\n"
          ]
        },
        {
          "output_type": "display_data",
          "data": {
            "text/plain": [
              " x       \n",
              "2 ⋅log(2)"
            ],
            "image/png": "[encoded data removed]",
            "text/latex": "$\\displaystyle 2^{x} \\log{\\left(2 \\right)}$"
          },
          "metadata": {}
        },
        {
          "output_type": "stream",
          "name": "stdout",
          "text": [
            "\n",
            "Domain:\n"
          ]
        },
        {
          "output_type": "display_data",
          "data": {
            "text/plain": [
              "ℝ"
            ],
            "image/png": "[encoded data removed]",
            "text/latex": "$\\displaystyle \\mathbb{R}$"
          },
          "metadata": {}
        },
        {
          "output_type": "stream",
          "name": "stdout",
          "text": [
            "\n",
            "Range:\n"
          ]
        },
        {
          "output_type": "display_data",
          "data": {
            "text/plain": [
              "(0, ∞)"
            ],
            "image/png": "[encoded data removed]",
            "text/latex": "$\\displaystyle \\left(0, \\infty\\right)$"
          },
          "metadata": {}
        }
      ]
    },
    {
      "cell_type": "code",
      "source": [
        "display_f_of_x('sin(x)/x')"
      ],
      "metadata": {
        "colab": {
          "base_uri": "https://localhost:8080/",
          "height": 589
        },
        "id": "u4N-5wEGoEJP",
        "outputId": "0e428e3c-57f9-4cea-9aeb-80be2abb619e"
      },
      "execution_count": null,
      "outputs": [
        {
          "output_type": "display_data",
          "data": {
            "text/plain": [
              "<Figure size 432x288 with 1 Axes>"
            ],
            "image/png": "[encoded data removed]"
          },
          "metadata": {
            "needs_background": "light"
          }
        },
        {
          "output_type": "stream",
          "name": "stdout",
          "text": [
            "\n",
            "X-intercepts:\n"
          ]
        },
        {
          "output_type": "display_data",
          "data": {
            "text/plain": [
              "[π]"
            ],
            "image/png": "[encoded data removed]",
            "text/latex": "$\\displaystyle \\left[ \\pi\\right]$"
          },
          "metadata": {}
        },
        {
          "output_type": "stream",
          "name": "stdout",
          "text": [
            "\n",
            "Y-intercept:\n"
          ]
        },
        {
          "output_type": "display_data",
          "data": {
            "text/plain": [
              "None"
            ]
          },
          "metadata": {}
        },
        {
          "output_type": "stream",
          "name": "stdout",
          "text": [
            "\n",
            "Slope (derivative):\n"
          ]
        },
        {
          "output_type": "display_data",
          "data": {
            "text/plain": [
              "cos(x)   sin(x)\n",
              "────── - ──────\n",
              "  x         2  \n",
              "           x   "
            ],
            "image/png": "[encoded data removed]",
            "text/latex": "$\\displaystyle \\frac{\\cos{\\left(x \\right)}}{x} - \\frac{\\sin{\\left(x \\right)}}{x^{2}}$"
          },
          "metadata": {}
        },
        {
          "output_type": "stream",
          "name": "stdout",
          "text": [
            "\n",
            "Domain:\n"
          ]
        },
        {
          "output_type": "display_data",
          "data": {
            "text/plain": [
              "(-∞, 0) ∪ (0, ∞)"
            ],
            "image/png": "[encoded data removed]",
            "text/latex": "$\\displaystyle \\left(-\\infty, 0\\right) \\cup \\left(0, \\infty\\right)$"
          },
          "metadata": {}
        },
        {
          "output_type": "stream",
          "name": "stdout",
          "text": [
            "\n",
            "Range:\n"
          ]
        },
        {
          "output_type": "display_data",
          "data": {
            "text/plain": [
              "'Not found'"
            ],
            "application/vnd.google.colaboratory.intrinsic+json": {
              "type": "string"
            }
          },
          "metadata": {}
        }
      ]
    },
    {
      "cell_type": "markdown",
      "source": [
        "### Example: $f(x) = \\sqrt{x}$"
      ],
      "metadata": {
        "id": "9W25HPsAlEjE"
      }
    },
    {
      "cell_type": "code",
      "source": [
        "display_f_of_x('sqrt(x)')"
      ],
      "metadata": {
        "colab": {
          "base_uri": "https://localhost:8080/",
          "height": 595
        },
        "id": "J16CzwhIlLSI",
        "outputId": "10bddd79-2d69-4f4b-899a-a1f730073430"
      },
      "execution_count": null,
      "outputs": [
        {
          "output_type": "display_data",
          "data": {
            "text/plain": [
              "<Figure size 432x288 with 1 Axes>"
            ],
            "image/png": "[encoded data removed]"
          },
          "metadata": {
            "needs_background": "light"
          }
        },
        {
          "output_type": "stream",
          "name": "stdout",
          "text": [
            "\n",
            "X-intercepts:\n"
          ]
        },
        {
          "output_type": "display_data",
          "data": {
            "text/plain": [
              "[0]"
            ],
            "image/png": "[encoded data removed]",
            "text/latex": "$\\displaystyle \\left[ 0\\right]$"
          },
          "metadata": {}
        },
        {
          "output_type": "stream",
          "name": "stdout",
          "text": [
            "\n",
            "Y-intercept:\n"
          ]
        },
        {
          "output_type": "display_data",
          "data": {
            "text/plain": [
              "0"
            ],
            "image/png": "[encoded data removed]",
            "text/latex": "$\\displaystyle 0$"
          },
          "metadata": {}
        },
        {
          "output_type": "stream",
          "name": "stdout",
          "text": [
            "\n",
            "Slope (derivative):\n"
          ]
        },
        {
          "output_type": "display_data",
          "data": {
            "text/plain": [
              " 1  \n",
              "────\n",
              "2⋅√x"
            ],
            "image/png": "[encoded data removed]",
            "text/latex": "$\\displaystyle \\frac{1}{2 \\sqrt{x}}$"
          },
          "metadata": {}
        },
        {
          "output_type": "stream",
          "name": "stdout",
          "text": [
            "\n",
            "Domain:\n"
          ]
        },
        {
          "output_type": "display_data",
          "data": {
            "text/plain": [
              "[0, ∞)"
            ],
            "image/png": "[encoded data removed]",
            "text/latex": "$\\displaystyle \\left[0, \\infty\\right)$"
          },
          "metadata": {}
        },
        {
          "output_type": "stream",
          "name": "stdout",
          "text": [
            "\n",
            "Range:\n"
          ]
        },
        {
          "output_type": "display_data",
          "data": {
            "text/plain": [
              "[0, ∞)"
            ],
            "image/png": "[encoded data removed]",
            "text/latex": "$\\displaystyle \\left[0, \\infty\\right)$"
          },
          "metadata": {}
        }
      ]
    },
    {
      "cell_type": "markdown",
      "source": [
        "### Example: $f(x) = x^2 + 1$"
      ],
      "metadata": {
        "id": "-3PTOiistYi5"
      }
    },
    {
      "cell_type": "code",
      "source": [
        "display_f_of_x('x**2 + 1')"
      ],
      "metadata": {
        "colab": {
          "base_uri": "https://localhost:8080/",
          "height": 577
        },
        "id": "bLpapNQ9tg4U",
        "outputId": "62806429-2b2e-4f40-fdbb-098b009dafd9"
      },
      "execution_count": null,
      "outputs": [
        {
          "output_type": "display_data",
          "data": {
            "text/plain": [
              "<Figure size 432x288 with 1 Axes>"
            ],
            "image/png": "[encoded data removed]"
          },
          "metadata": {
            "needs_background": "light"
          }
        },
        {
          "output_type": "stream",
          "name": "stdout",
          "text": [
            "\n",
            "X-intercepts:\n"
          ]
        },
        {
          "output_type": "display_data",
          "data": {
            "text/plain": [
              "None"
            ]
          },
          "metadata": {}
        },
        {
          "output_type": "stream",
          "name": "stdout",
          "text": [
            "\n",
            "Y-intercept:\n"
          ]
        },
        {
          "output_type": "display_data",
          "data": {
            "text/plain": [
              "1"
            ],
            "image/png": "[encoded data removed]",
            "text/latex": "$\\displaystyle 1$"
          },
          "metadata": {}
        },
        {
          "output_type": "stream",
          "name": "stdout",
          "text": [
            "\n",
            "Slope (derivative):\n"
          ]
        },
        {
          "output_type": "display_data",
          "data": {
            "text/plain": [
              "2⋅x"
            ],
            "image/png": "[encoded data removed]",
            "text/latex": "$\\displaystyle 2 x$"
          },
          "metadata": {}
        },
        {
          "output_type": "stream",
          "name": "stdout",
          "text": [
            "\n",
            "Domain:\n"
          ]
        },
        {
          "output_type": "display_data",
          "data": {
            "text/plain": [
              "ℝ"
            ],
            "image/png": "[encoded data removed]",
            "text/latex": "$\\displaystyle \\mathbb{R}$"
          },
          "metadata": {}
        },
        {
          "output_type": "stream",
          "name": "stdout",
          "text": [
            "\n",
            "Range:\n"
          ]
        },
        {
          "output_type": "display_data",
          "data": {
            "text/plain": [
              "[1, ∞)"
            ],
            "image/png": "[encoded data removed]",
            "text/latex": "$\\displaystyle \\left[1, \\infty\\right)$"
          },
          "metadata": {}
        }
      ]
    },
    {
      "cell_type": "markdown",
      "source": [
        "### The Difference Quotient"
      ],
      "metadata": {
        "id": "PBoBRHZgt_MT"
      }
    },
    {
      "cell_type": "markdown",
      "source": [
        "$$\n",
        "\\begin{align}\n",
        "f(x) &= 3x^2 + 1\n",
        "\\end{align}\n",
        "$$"
      ],
      "metadata": {
        "id": "PHW6VSIiuJLO"
      }
    },
    {
      "cell_type": "markdown",
      "source": [
        "$$\n",
        "\\begin{align}\n",
        "\\frac{f(a + h) - f(a)}{h} &= \\frac{(3(a + h)^2 + 1) - (3a^2 + 1)}{h}\n",
        "\\\\ &= \\frac{3a^2 + 6ah + 3h^2 + 1 - 3a^2 - 1}{h}\n",
        "\\\\ &= \\frac{6ah + 3h^2}{h}\n",
        "\\\\ &= 6a + 3h\n",
        "\\end{align}\n",
        "$$"
      ],
      "metadata": {
        "id": "JWf0omYvv1EV"
      }
    },
    {
      "cell_type": "markdown",
      "source": [
        "### Vertical Line Test\n",
        "\n",
        "If **any** vertical line intersects the graph of a relation more than once, then the relation is not a function."
      ],
      "metadata": {
        "id": "7bTV1wp30u1w"
      }
    },
    {
      "cell_type": "markdown",
      "source": [
        "## 2.1.2 Theory: More about Functions"
      ],
      "metadata": {
        "id": "qKX-9BOr1-8e"
      }
    },
    {
      "cell_type": "markdown",
      "source": [
        "### Piecewise Defined Functions"
      ],
      "metadata": {
        "id": "y116SD1z3FC9"
      }
    },
    {
      "cell_type": "markdown",
      "source": [
        "#### Example: $f(x) = \\begin{cases} x^{2} + 1 & \\text{for}\\: x \\geq 0 \\\\x & \\text{for}\\: x < 0 \\end{cases}$"
      ],
      "metadata": {
        "id": "e6179A6uAa12"
      }
    },
    {
      "cell_type": "code",
      "source": [
        "x = sp.symbols('x')\n",
        "\n",
        "p = sp.Piecewise((x**2 + 1, x >= 0),\n",
        "                 (x, x < 0))\n",
        "\n",
        "p"
      ],
      "metadata": {
        "colab": {
          "base_uri": "https://localhost:8080/",
          "height": 68
        },
        "id": "PrmLgdwK6J7g",
        "outputId": "14517858-32bf-4c0c-9c56-ca82ec922018"
      },
      "execution_count": null,
      "outputs": [
        {
          "output_type": "execute_result",
          "data": {
            "text/plain": [
              "⎧ 2               \n",
              "⎪x  + 1  for x ≥ 0\n",
              "⎨                 \n",
              "⎪  x     otherwise\n",
              "⎩                 "
            ],
            "text/latex": "$\\displaystyle \\begin{cases} x^{2} + 1 & \\text{for}\\: x \\geq 0 \\\\x & \\text{otherwise} \\end{cases}$"
          },
          "metadata": {},
          "execution_count": 9
        }
      ]
    },
    {
      "cell_type": "markdown",
      "source": [
        "##### Graph (first method)"
      ],
      "metadata": {
        "id": "MeryG4fKbqMj"
      }
    },
    {
      "cell_type": "code",
      "source": [
        "fig = sp.plot(p, \n",
        "              line_color='red',\n",
        "              title='Piecewise Function'\n",
        ")"
      ],
      "metadata": {
        "colab": {
          "base_uri": "https://localhost:8080/",
          "height": 294
        },
        "outputId": "b25fd2cb-946b-4afb-869e-75ded4c4b002",
        "id": "3JSX3aI3C1cg"
      },
      "execution_count": null,
      "outputs": [
        {
          "output_type": "display_data",
          "data": {
            "text/plain": [
              "<Figure size 432x288 with 1 Axes>"
            ],
            "image/png": "[encoded data removed]"
          },
          "metadata": {
            "needs_background": "light"
          }
        }
      ]
    },
    {
      "cell_type": "markdown",
      "source": [
        "##### Graph (second method)"
      ],
      "metadata": {
        "id": "Eu1ub3nmbzvm"
      }
    },
    {
      "cell_type": "code",
      "source": [
        "p.args[0][0], p.args[1][0]"
      ],
      "metadata": {
        "colab": {
          "base_uri": "https://localhost:8080/",
          "height": 39
        },
        "id": "-Wg-5QkFaGpn",
        "outputId": "7e613303-c929-4995-c409-1db25e8e56d3"
      },
      "execution_count": null,
      "outputs": [
        {
          "output_type": "execute_result",
          "data": {
            "text/plain": [
              "⎛ 2       ⎞\n",
              "⎝x  + 1, x⎠"
            ],
            "image/png": "[encoded data removed]",
            "text/latex": "$\\displaystyle \\left( x^{2} + 1, \\  x\\right)$"
          },
          "metadata": {},
          "execution_count": 11
        }
      ]
    },
    {
      "cell_type": "code",
      "source": [
        "fig = sp.plot((p.args[0][0] + 1, (x, 0, 10)), \n",
        "              (p.args[1][0], (x, -10, 0)), \n",
        "              title='Piecewise Function\\n',\n",
        "              show=False, \n",
        "              legend=True)\n",
        "fig[0].line_color='red'\n",
        "fig[0].label = '$x^{2} + 1$' + '\\t' + '$x \\geq 0$'\n",
        "fig[1].line_color='green'\n",
        "fig[1].label = '$x$' + '\\t\\t' + '$x < 0$'\n",
        "fig.show()"
      ],
      "metadata": {
        "colab": {
          "base_uri": "https://localhost:8080/",
          "height": 295
        },
        "id": "tio9kijcHPWY",
        "outputId": "1550c873-565c-4a47-cd8b-25a2d0940486"
      },
      "execution_count": null,
      "outputs": [
        {
          "output_type": "display_data",
          "data": {
            "text/plain": [
              "<Figure size 432x288 with 1 Axes>"
            ],
            "image/png": "[encoded data removed]"
          },
          "metadata": {
            "needs_background": "light"
          }
        }
      ]
    },
    {
      "cell_type": "markdown",
      "source": [
        "##### Domain"
      ],
      "metadata": {
        "id": "g6A9WdYoakRr"
      }
    },
    {
      "cell_type": "code",
      "source": [
        "piece1 = sp.calculus.util.continuous_domain(p.args[0][0], \n",
        "                                            x, \n",
        "                                            sp.Interval(0, sp.oo))\n",
        "\n",
        "piece2 = sp.calculus.util.continuous_domain(p.args[1][0],\n",
        "                                            x,\n",
        "                                            sp.Interval.open(-sp.oo, 0))"
      ],
      "metadata": {
        "id": "nWfxrsTJWPTs"
      },
      "execution_count": null,
      "outputs": []
    },
    {
      "cell_type": "code",
      "source": [
        "domain = piece1.union(piece2)\n",
        "domain"
      ],
      "metadata": {
        "colab": {
          "base_uri": "https://localhost:8080/",
          "height": 37
        },
        "id": "75uggZYaZbhc",
        "outputId": "67f61a46-5a5c-4b54-ca00-55a985769b4e"
      },
      "execution_count": null,
      "outputs": [
        {
          "output_type": "execute_result",
          "data": {
            "text/plain": [
              "(-∞, ∞)"
            ],
            "image/png": "[encoded data removed]",
            "text/latex": "$\\displaystyle \\left(-\\infty, \\infty\\right)$"
          },
          "metadata": {},
          "execution_count": 14
        }
      ]
    },
    {
      "cell_type": "markdown",
      "source": [
        "##### Range"
      ],
      "metadata": {
        "id": "Gf3UF2bJaufK"
      }
    },
    {
      "cell_type": "code",
      "source": [
        "piece1 = sp.calculus.util.function_range(p.args[0][0],\n",
        "                                         x,\n",
        "                                         sp.Interval(0, sp.oo))\n",
        "piece1"
      ],
      "metadata": {
        "colab": {
          "base_uri": "https://localhost:8080/",
          "height": 37
        },
        "id": "6wAIr_6zYvRC",
        "outputId": "cb03e340-f1b6-47a4-d5a9-efae98dc0d47"
      },
      "execution_count": null,
      "outputs": [
        {
          "output_type": "execute_result",
          "data": {
            "text/plain": [
              "[1, ∞)"
            ],
            "image/png": "[encoded data removed]",
            "text/latex": "$\\displaystyle \\left[1, \\infty\\right)$"
          },
          "metadata": {},
          "execution_count": 15
        }
      ]
    },
    {
      "cell_type": "code",
      "source": [
        "piece2 = sp.calculus.util.function_range(p.args[1][0],\n",
        "                                         x,\n",
        "                                         sp.Interval.open(-sp.oo, 0))\n",
        "piece2"
      ],
      "metadata": {
        "colab": {
          "base_uri": "https://localhost:8080/",
          "height": 37
        },
        "id": "FpRLm_CFa8kY",
        "outputId": "4a3c4137-ba02-4fb3-eac2-12b3f6e5eb79"
      },
      "execution_count": null,
      "outputs": [
        {
          "output_type": "execute_result",
          "data": {
            "text/plain": [
              "(-∞, 0)"
            ],
            "image/png": "[encoded data removed]",
            "text/latex": "$\\displaystyle \\left(-\\infty, 0\\right)$"
          },
          "metadata": {},
          "execution_count": 16
        }
      ]
    },
    {
      "cell_type": "code",
      "source": [
        "range = piece1.union(piece2)\n",
        "range"
      ],
      "metadata": {
        "colab": {
          "base_uri": "https://localhost:8080/",
          "height": 37
        },
        "id": "y-hmaTZ1bUgZ",
        "outputId": "99e94fa4-2536-43a5-eb0b-c1f7379a1ed0"
      },
      "execution_count": null,
      "outputs": [
        {
          "output_type": "execute_result",
          "data": {
            "text/plain": [
              "(-∞, 0) ∪ [1, ∞)"
            ],
            "image/png": "[encoded data removed]",
            "text/latex": "$\\displaystyle \\left(-\\infty, 0\\right) \\cup \\left[1, \\infty\\right)$"
          },
          "metadata": {},
          "execution_count": 17
        }
      ]
    },
    {
      "cell_type": "markdown",
      "source": [
        "#### Example: $f(x) = \\begin{cases} \\sqrt{x} & \\text{for}\\: x > 0 \\\\- x^{2} & \\text{for}\\: x < 0 \\end{cases}$"
      ],
      "metadata": {
        "id": "2-AadmNDm55P"
      }
    },
    {
      "cell_type": "code",
      "source": [
        "p3 = sp.Piecewise((sp.sqrt(x), x > 0),\n",
        "                  (-x**2, x < 0))\n",
        "p3"
      ],
      "metadata": {
        "colab": {
          "base_uri": "https://localhost:8080/",
          "height": 68
        },
        "id": "gPp8CMgcm412",
        "outputId": "b0066053-21db-4623-ea7a-6e6248a0275a"
      },
      "execution_count": null,
      "outputs": [
        {
          "output_type": "execute_result",
          "data": {
            "text/plain": [
              "⎧√x   for x > 0\n",
              "⎪              \n",
              "⎨  2           \n",
              "⎪-x   for x < 0\n",
              "⎩              "
            ],
            "text/latex": "$\\displaystyle \\begin{cases} \\sqrt{x} & \\text{for}\\: x > 0 \\\\- x^{2} & \\text{for}\\: x < 0 \\end{cases}$"
          },
          "metadata": {},
          "execution_count": 18
        }
      ]
    },
    {
      "cell_type": "code",
      "source": [
        "fig3 = sp.plot(p3,\n",
        "               line_color='red',\n",
        "               title='Piecewise Function\\n', \n",
        "               aspect_ratio=(1, 1),\n",
        "               xlim=[-10, 10],\n",
        "               ylim=[-10, 10],\n",
        "               show=False)\n",
        "fig3.show()"
      ],
      "metadata": {
        "colab": {
          "base_uri": "https://localhost:8080/",
          "height": 297
        },
        "id": "vCYcMev3ndSx",
        "outputId": "6141bf2d-af98-44e7-d01f-e2ca0d92a68a"
      },
      "execution_count": null,
      "outputs": [
        {
          "output_type": "display_data",
          "data": {
            "text/plain": [
              "<Figure size 432x288 with 1 Axes>"
            ],
            "image/png": "[encoded data removed]"
          },
          "metadata": {
            "needs_background": "light"
          }
        }
      ]
    },
    {
      "cell_type": "code",
      "source": [
        "piece1 = sp.calculus.util.continuous_domain(p3.args[0][0], x, sp.Interval.open(0, sp.oo))\n",
        "piece2 = sp.calculus.util.continuous_domain(p3.args[1][0], x, sp.Interval.open(-sp.oo, 0))\n",
        "domain = piece1.union(piece2)\n",
        "domain"
      ],
      "metadata": {
        "colab": {
          "base_uri": "https://localhost:8080/",
          "height": 37
        },
        "id": "IPqPSLPIqQwG",
        "outputId": "304e4d6f-dcf2-40a7-abd9-12e768792470"
      },
      "execution_count": null,
      "outputs": [
        {
          "output_type": "execute_result",
          "data": {
            "text/plain": [
              "(-∞, 0) ∪ (0, ∞)"
            ],
            "image/png": "[encoded data removed]",
            "text/latex": "$\\displaystyle \\left(-\\infty, 0\\right) \\cup \\left(0, \\infty\\right)$"
          },
          "metadata": {},
          "execution_count": 20
        }
      ]
    },
    {
      "cell_type": "code",
      "source": [
        "piece1 = sp.calculus.util.function_range(p3.args[0][0], x, sp.Interval.open(0, sp.oo))\n",
        "piece2 = sp.calculus.util.function_range(p3.args[1][0], x, sp.Interval.open(-sp.oo, 0))\n",
        "range = piece1.union(piece2)\n",
        "range"
      ],
      "metadata": {
        "colab": {
          "base_uri": "https://localhost:8080/",
          "height": 37
        },
        "id": "oNykWGdiqeWs",
        "outputId": "66c8879e-6f15-46bc-da69-8fa6dc6cd50f"
      },
      "execution_count": null,
      "outputs": [
        {
          "output_type": "execute_result",
          "data": {
            "text/plain": [
              "(-∞, 0) ∪ (0, ∞)"
            ],
            "image/png": "[encoded data removed]",
            "text/latex": "$\\displaystyle \\left(-\\infty, 0\\right) \\cup \\left(0, \\infty\\right)$"
          },
          "metadata": {},
          "execution_count": 21
        }
      ]
    },
    {
      "cell_type": "markdown",
      "source": [
        "### Symmetry"
      ],
      "metadata": {
        "id": "1ehOQvR-c-2_"
      }
    },
    {
      "cell_type": "markdown",
      "source": [
        "#### Example: $f(x) = \\begin{cases} x & \\text{for}\\: x \\geq 0 \\\\- x & \\text{otherwise} \\end{cases}$"
      ],
      "metadata": {
        "id": "qy444GtBdE3R"
      }
    },
    {
      "cell_type": "code",
      "source": [
        "p2 = sp.Piecewise((x, x >= 0),\n",
        "                  (-x, x < 0))\n",
        "p2"
      ],
      "metadata": {
        "colab": {
          "base_uri": "https://localhost:8080/",
          "height": 68
        },
        "id": "DzRSfGeDd3Rs",
        "outputId": "208d1a6a-84e1-4d50-f8d2-38a3b87afe32"
      },
      "execution_count": null,
      "outputs": [
        {
          "output_type": "execute_result",
          "data": {
            "text/plain": [
              "⎧x   for x ≥ 0\n",
              "⎨             \n",
              "⎩-x  otherwise"
            ],
            "text/latex": "$\\displaystyle \\begin{cases} x & \\text{for}\\: x \\geq 0 \\\\- x & \\text{otherwise} \\end{cases}$"
          },
          "metadata": {},
          "execution_count": 22
        }
      ]
    },
    {
      "cell_type": "code",
      "source": [
        "fig2 = sp.plot(p2,\n",
        "               line_color='red',\n",
        "               title='Piecewise Function\\n', \n",
        "               show=False)\n",
        "fig2.show()"
      ],
      "metadata": {
        "colab": {
          "base_uri": "https://localhost:8080/",
          "height": 297
        },
        "id": "P85LRXixeBeq",
        "outputId": "35643d31-18da-452a-ead7-49373792f3db"
      },
      "execution_count": null,
      "outputs": [
        {
          "output_type": "display_data",
          "data": {
            "text/plain": [
              "<Figure size 432x288 with 1 Axes>"
            ],
            "image/png": "[encoded data removed]"
          },
          "metadata": {
            "needs_background": "light"
          }
        }
      ]
    },
    {
      "cell_type": "code",
      "source": [
        "piece1 = sp.calculus.util.continuous_domain(p2.args[0][0], \n",
        "                                            x, \n",
        "                                            sp.Interval(0, sp.oo))\n",
        "\n",
        "piece2 = sp.calculus.util.continuous_domain(p2.args[1][0], \n",
        "                                            x, \n",
        "                                            sp.Interval.open(-sp.oo, 0))\n",
        "domain = piece1.union(piece2)\n",
        "domain"
      ],
      "metadata": {
        "colab": {
          "base_uri": "https://localhost:8080/",
          "height": 37
        },
        "id": "9-GixE7Zej6p",
        "outputId": "0a5e3c3e-8eb8-4ef8-ad62-7f3a3045523d"
      },
      "execution_count": null,
      "outputs": [
        {
          "output_type": "execute_result",
          "data": {
            "text/plain": [
              "(-∞, ∞)"
            ],
            "image/png": "[encoded data removed]",
            "text/latex": "$\\displaystyle \\left(-\\infty, \\infty\\right)$"
          },
          "metadata": {},
          "execution_count": 24
        }
      ]
    },
    {
      "cell_type": "code",
      "source": [
        "piece1 = sp.calculus.util.function_range(p2.args[0][0], x, sp.Interval(0, sp.oo))\n",
        "piece2 = sp.calculus.util.function_range(p2.args[1][0], x, sp.Interval.open(-sp.oo, 0))\n",
        "piece1, piece2"
      ],
      "metadata": {
        "colab": {
          "base_uri": "https://localhost:8080/",
          "height": 37
        },
        "id": "kG0nFaJXevYm",
        "outputId": "ecbea45d-a389-4ff8-8f87-5ac0d41f2032"
      },
      "execution_count": null,
      "outputs": [
        {
          "output_type": "execute_result",
          "data": {
            "text/plain": [
              "([0, ∞), (0, ∞))"
            ],
            "image/png": "[encoded data removed]",
            "text/latex": "$\\displaystyle \\left( \\left[0, \\infty\\right), \\  \\left(0, \\infty\\right)\\right)$"
          },
          "metadata": {},
          "execution_count": 25
        }
      ]
    },
    {
      "cell_type": "code",
      "source": [
        "range = piece1.union(piece2)\n",
        "range"
      ],
      "metadata": {
        "colab": {
          "base_uri": "https://localhost:8080/",
          "height": 37
        },
        "id": "z_1Gmulpf2tb",
        "outputId": "01f5b0a2-95cb-4aae-dad8-ef53d8840766"
      },
      "execution_count": null,
      "outputs": [
        {
          "output_type": "execute_result",
          "data": {
            "text/plain": [
              "[0, ∞)"
            ],
            "image/png": "[encoded data removed]",
            "text/latex": "$\\displaystyle \\left[0, \\infty\\right)$"
          },
          "metadata": {},
          "execution_count": 26
        }
      ]
    },
    {
      "cell_type": "markdown",
      "source": [
        "#### Example: $f(x) = \\left|{x}\\right|$"
      ],
      "metadata": {
        "id": "sjbc008Vhdbs"
      }
    },
    {
      "cell_type": "code",
      "source": [
        "f = sp.Abs(x)\n",
        "f"
      ],
      "metadata": {
        "colab": {
          "base_uri": "https://localhost:8080/",
          "height": 39
        },
        "id": "orEPz7t8hkpY",
        "outputId": "44faaad4-4e91-4503-ef2f-af60f5d7d1da"
      },
      "execution_count": null,
      "outputs": [
        {
          "output_type": "execute_result",
          "data": {
            "text/plain": [
              "│x│"
            ],
            "image/png": "[encoded data removed]",
            "text/latex": "$\\displaystyle \\left|{x}\\right|$"
          },
          "metadata": {},
          "execution_count": 27
        }
      ]
    },
    {
      "cell_type": "code",
      "source": [
        "sp.plot(f, line_color='red', title='$f(x) = ' + sp.latex(f) + '$\\n');"
      ],
      "metadata": {
        "colab": {
          "base_uri": "https://localhost:8080/",
          "height": 298
        },
        "id": "HWCB8ka8iaEz",
        "outputId": "88d0a5e0-6299-46e7-d1d2-fc4938c9430c"
      },
      "execution_count": null,
      "outputs": [
        {
          "output_type": "display_data",
          "data": {
            "text/plain": [
              "<Figure size 432x288 with 1 Axes>"
            ],
            "image/png": "[encoded data removed]"
          },
          "metadata": {
            "needs_background": "light"
          }
        }
      ]
    },
    {
      "cell_type": "code",
      "source": [
        "domain = sp.calculus.util.continuous_domain(f, x, sp.S.Reals)\n",
        "domain"
      ],
      "metadata": {
        "colab": {
          "base_uri": "https://localhost:8080/",
          "height": 38
        },
        "id": "j1tcOFDwoaOc",
        "outputId": "f1c80f50-fd21-4919-f09b-42de67f12f07"
      },
      "execution_count": null,
      "outputs": [
        {
          "output_type": "execute_result",
          "data": {
            "text/plain": [
              "ℝ"
            ],
            "image/png": "[encoded data removed]",
            "text/latex": "$\\displaystyle \\mathbb{R}$"
          },
          "metadata": {},
          "execution_count": 29
        }
      ]
    },
    {
      "cell_type": "markdown",
      "source": [
        "### Even and Odd Functions"
      ],
      "metadata": {
        "id": "QNm63lhYxkCI"
      }
    },
    {
      "cell_type": "markdown",
      "source": [
        "#### Even functions\n",
        "\n",
        "$f(x)$ is *even* if $f(x) = f(-x)$ for all values of $x$\n",
        "\n",
        "- even functions have **y-axis symmetry**\n",
        "- examples:\n",
        "    - $y = x^2$, $y=x^n$ where n is even\n",
        "    - $y = \\left|{x}\\right|$\n",
        "    - $y = \\cos{\\left(x \\right)}$"
      ],
      "metadata": {
        "id": "DoDt6hnxz45X"
      }
    },
    {
      "cell_type": "code",
      "source": [
        "fig = sp.plot(x**2, x**8, sp.Abs(x), sp.cos(x), \n",
        "              ylim=[-2, 10],\n",
        "              legend=True,\n",
        "              show=False)\n",
        "\n",
        "fig[0].line_color='red'\n",
        "fig[0].label = '$y = ' + sp.latex(x**2) + '$'\n",
        "\n",
        "fig[1].line_color='pink'\n",
        "fig[1].label = '$y = ' + sp.latex(x**8) + '$'\n",
        "\n",
        "fig[2].line_color='green'\n",
        "fig[2].label = '$y = ' + sp.latex(sp.Abs(x)) + '$'\n",
        "\n",
        "fig[3].line_color='blue'\n",
        "fig[3].label = '$y = ' + sp.latex(sp.cos(x)) + '$'\n",
        "\n",
        "fig.show()"
      ],
      "metadata": {
        "colab": {
          "base_uri": "https://localhost:8080/",
          "height": 297
        },
        "id": "rAtWN-E4xyIj",
        "outputId": "789c5f12-f4cc-4982-8d9e-4b56740923c8"
      },
      "execution_count": null,
      "outputs": [
        {
          "output_type": "display_data",
          "data": {
            "text/plain": [
              "<Figure size 432x288 with 1 Axes>"
            ],
            "image/png": "[encoded data removed]"
          },
          "metadata": {
            "needs_background": "light"
          }
        }
      ]
    },
    {
      "cell_type": "markdown",
      "source": [
        "#### Odd functions\n",
        "\n",
        "$f(x)$ is *odd* if $f(-x) = -f(x)$ for all values of $x$\n",
        "\n",
        "- even functions have **origin symmetry**\n",
        "- examples:\n",
        "    - $y = x^3$, $y=x^n$ where n is odd\n",
        "    - $y = \\sin{\\left(x \\right)}$"
      ],
      "metadata": {
        "id": "O8GqCIEI5MjY"
      }
    },
    {
      "cell_type": "code",
      "source": [
        "fig = sp.plot(x**3, x**9, sp.sin(x), \n",
        "              ylim=[-5, 5],\n",
        "              legend=True,\n",
        "              show=False)\n",
        "\n",
        "fig[0].line_color='red'\n",
        "fig[0].label = '$y = ' + sp.latex(x**3) + '$'\n",
        "\n",
        "fig[1].line_color='green'\n",
        "fig[1].label = '$y = ' + sp.latex(x**3) + '$'\n",
        "\n",
        "fig[2].line_color='blue'\n",
        "fig[2].label = '$y = ' + sp.latex(sp.sin(x)) + '$'\n",
        "\n",
        "fig.show()"
      ],
      "metadata": {
        "colab": {
          "base_uri": "https://localhost:8080/",
          "height": 297
        },
        "id": "cLYLrTyr9dzU",
        "outputId": "298e1d3a-bcc8-4b3d-8271-87304ca739b5"
      },
      "execution_count": null,
      "outputs": [
        {
          "output_type": "display_data",
          "data": {
            "text/plain": [
              "<Figure size 432x288 with 1 Axes>"
            ],
            "image/png": "[encoded data removed]"
          },
          "metadata": {
            "needs_background": "light"
          }
        }
      ]
    },
    {
      "cell_type": "markdown",
      "source": [
        "### Increasing and Decreasing"
      ],
      "metadata": {
        "id": "hEGZLcqJ--qN"
      }
    },
    {
      "cell_type": "markdown",
      "source": [
        "#### Increasing\n",
        "\n",
        "$f$ is *increasing* on interval $[a, b]$ \n",
        "- when $x_1 < x_2$ then $f(x_1) < f(x_2)$\n",
        "- the function is \"going up\" when moving from left to right"
      ],
      "metadata": {
        "id": "5ExyIYNkCbq2"
      }
    },
    {
      "cell_type": "markdown",
      "source": [
        "#### Decreasing\n",
        "\n",
        "$f$ is *decreasing* on interval $[a, b]$ \n",
        "- when $x_1 < x_2$ then $f(x_1) > f(x_2)$\n",
        "- the function is \"going down\" when moving from left to right"
      ],
      "metadata": {
        "id": "Ks00j4EOEcRJ"
      }
    },
    {
      "cell_type": "code",
      "source": [
        "sp.plot(x**2, \n",
        "        line_color='red', \n",
        "        title='$f(x) =' + sp.latex(x**2) + '$\\n');"
      ],
      "metadata": {
        "colab": {
          "base_uri": "https://localhost:8080/",
          "height": 298
        },
        "id": "Mgy-oDt2CaI7",
        "outputId": "296be309-f308-4183-9077-f4c989a6d3b1"
      },
      "execution_count": null,
      "outputs": [
        {
          "output_type": "display_data",
          "data": {
            "text/plain": [
              "<Figure size 432x288 with 1 Axes>"
            ],
            "image/png": "[encoded data removed]"
          },
          "metadata": {
            "needs_background": "light"
          }
        }
      ]
    },
    {
      "cell_type": "markdown",
      "source": [
        "$f(x) = x^2$ is **increasing** on the interval $(0, \\infty)$ and **decreasing** on the interval $(-\\infty, 0)$"
      ],
      "metadata": {
        "id": "suq-UaeWGk7y"
      }
    },
    {
      "cell_type": "markdown",
      "source": [
        "## 2.1.3 Reading: Functions and Linear Functions"
      ],
      "metadata": {
        "id": "smz02VRwDlTJ"
      }
    },
    {
      "cell_type": "markdown",
      "source": [
        "### Functions\n",
        "\n",
        "A **function** is a relationship between a set of inputs and a set of outputs, where each input corresponds to exactly one output.\n",
        "\n",
        "The input is also called the **independent variable**, and the output is called the **dependent variable**. \n",
        "\n",
        "The input of a function is also called the **argument**.\n",
        "\n",
        "The set of all possible inputs for the function is called the **domain**, and the set of all possible outputs is called the **range**.\n",
        "\n",
        "Functions are often written in **function notation**.  $y = f(x)$  is read as \"y equals f of x.\" This notation means that $y$, the dependent variable, is a function of the independent variable, $x$. \n",
        "\n",
        "#### Representations of functions\n",
        "\n",
        "Functions can be given through mathematical formulas, tables, graphs, and verbal descriptions. \n",
        "\n",
        "The tools of calculus are used on functions that are given as mathematical formulas. As a result, in this course we will see some **modeling functions** - mathematical formulas that fit real-world scenarios expressed through tables of data or visuals."
      ],
      "metadata": {
        "id": "4mbgfd2oDo3w"
      }
    },
    {
      "cell_type": "markdown",
      "source": [
        "### Linear Functions\n",
        "\n",
        "A **linear function** is a function of the form $f(x) = mx + b$, where $m$ and $b$ are constants.\n",
        "\n",
        "The graph of a inear function is a straight line with slope $m$ and y-intercept $(0,b)$.\n",
        "\n",
        "#### Calculating slope\n",
        "\n",
        "$m = \\frac{f(x_2) - f(x_1)}{x_2 - x_1}$\n",
        "\n",
        "The slope of a linear function can be thought of as the **rate of change** in the function.\n",
        "\n",
        "#### Parallel and perpendicular\n",
        "\n",
        "**Parallel lines**, must have the same sloe.\n",
        "\n",
        "**Perpendicular lines** intersect at right angles, A line that is perpendicular to a line of slope $m$ has slope $\\frac{1}{m}$, the negative reciprocal of $m$.\n",
        "\n",
        "#### Forms for linear function\n",
        "\n",
        "There are two main forms:\n",
        "\n",
        "1. **Slope-Intercept Form**\n",
        "    - $y = mx + b$\n",
        "    - $m$ is the slope and $(0,b)$ is the y-intercept\n",
        "2. **Point-Slope Form**\n",
        "    - $y - y_0 = m(x - x_0)$\n",
        "    - $(x_0,y_0)$ are the coorindates of an arbitrary point on the line."
      ],
      "metadata": {
        "id": "rGudSunnGB4A"
      }
    },
    {
      "cell_type": "markdown",
      "source": [
        "## 2.1.4 Theory: Graphing and Composition"
      ],
      "metadata": {
        "id": "fbZ7alWYIYzU"
      }
    },
    {
      "cell_type": "markdown",
      "source": [
        "### Common Types of Functions"
      ],
      "metadata": {
        "id": "owGBNoRvLrtc"
      }
    },
    {
      "cell_type": "markdown",
      "source": [
        "#### Linear"
      ],
      "metadata": {
        "id": "ZLr49kmnL1Wv"
      }
    },
    {
      "cell_type": "code",
      "source": [
        "display_f_of_x('3*x + 4')"
      ],
      "metadata": {
        "colab": {
          "base_uri": "https://localhost:8080/",
          "height": 597
        },
        "id": "B-qn_byfL8D6",
        "outputId": "6e9d588b-877f-40f3-c0d4-feaf249527a7"
      },
      "execution_count": null,
      "outputs": [
        {
          "output_type": "display_data",
          "data": {
            "text/plain": [
              "<Figure size 432x288 with 1 Axes>"
            ],
            "image/png": "[encoded data removed]"
          },
          "metadata": {
            "needs_background": "light"
          }
        },
        {
          "output_type": "stream",
          "name": "stdout",
          "text": [
            "\n",
            "X-intercepts:\n"
          ]
        },
        {
          "output_type": "display_data",
          "data": {
            "text/plain": [
              "[-4/3]"
            ],
            "image/png": "[encoded data removed]",
            "text/latex": "$\\displaystyle \\left[ - \\frac{4}{3}\\right]$"
          },
          "metadata": {}
        },
        {
          "output_type": "stream",
          "name": "stdout",
          "text": [
            "\n",
            "Y-intercept:\n"
          ]
        },
        {
          "output_type": "display_data",
          "data": {
            "text/plain": [
              "4"
            ],
            "image/png": "[encoded data removed]",
            "text/latex": "$\\displaystyle 4$"
          },
          "metadata": {}
        },
        {
          "output_type": "stream",
          "name": "stdout",
          "text": [
            "\n",
            "Slope (derivative):\n"
          ]
        },
        {
          "output_type": "display_data",
          "data": {
            "text/plain": [
              "3"
            ],
            "image/png": "[encoded data removed]",
            "text/latex": "$\\displaystyle 3$"
          },
          "metadata": {}
        },
        {
          "output_type": "stream",
          "name": "stdout",
          "text": [
            "\n",
            "Domain:\n"
          ]
        },
        {
          "output_type": "display_data",
          "data": {
            "text/plain": [
              "ℝ"
            ],
            "image/png": "[encoded data removed]",
            "text/latex": "$\\displaystyle \\mathbb{R}$"
          },
          "metadata": {}
        },
        {
          "output_type": "stream",
          "name": "stdout",
          "text": [
            "\n",
            "Range:\n"
          ]
        },
        {
          "output_type": "display_data",
          "data": {
            "text/plain": [
              "(-∞, ∞)"
            ],
            "image/png": "[encoded data removed]",
            "text/latex": "$\\displaystyle \\left(-\\infty, \\infty\\right)$"
          },
          "metadata": {}
        }
      ]
    },
    {
      "cell_type": "markdown",
      "source": [
        "#### Quadratic"
      ],
      "metadata": {
        "id": "Kt5mwaS5KutY"
      }
    },
    {
      "cell_type": "code",
      "source": [
        "display_f_of_x('x**2')"
      ],
      "metadata": {
        "colab": {
          "base_uri": "https://localhost:8080/",
          "height": 579
        },
        "id": "kGQ9sEgzKjPI",
        "outputId": "bdc791e1-b9e3-40e5-f0c0-33f0c7bb374e"
      },
      "execution_count": null,
      "outputs": [
        {
          "output_type": "display_data",
          "data": {
            "text/plain": [
              "<Figure size 432x288 with 1 Axes>"
            ],
            "image/png": "[encoded data removed]"
          },
          "metadata": {
            "needs_background": "light"
          }
        },
        {
          "output_type": "stream",
          "name": "stdout",
          "text": [
            "\n",
            "X-intercepts:\n"
          ]
        },
        {
          "output_type": "display_data",
          "data": {
            "text/plain": [
              "[0]"
            ],
            "image/png": "[encoded data removed]",
            "text/latex": "$\\displaystyle \\left[ 0\\right]$"
          },
          "metadata": {}
        },
        {
          "output_type": "stream",
          "name": "stdout",
          "text": [
            "\n",
            "Y-intercept:\n"
          ]
        },
        {
          "output_type": "display_data",
          "data": {
            "text/plain": [
              "0"
            ],
            "image/png": "[encoded data removed]",
            "text/latex": "$\\displaystyle 0$"
          },
          "metadata": {}
        },
        {
          "output_type": "stream",
          "name": "stdout",
          "text": [
            "\n",
            "Slope (derivative):\n"
          ]
        },
        {
          "output_type": "display_data",
          "data": {
            "text/plain": [
              "2⋅x"
            ],
            "image/png": "[encoded data removed]",
            "text/latex": "$\\displaystyle 2 x$"
          },
          "metadata": {}
        },
        {
          "output_type": "stream",
          "name": "stdout",
          "text": [
            "\n",
            "Domain:\n"
          ]
        },
        {
          "output_type": "display_data",
          "data": {
            "text/plain": [
              "ℝ"
            ],
            "image/png": "[encoded data removed]",
            "text/latex": "$\\displaystyle \\mathbb{R}$"
          },
          "metadata": {}
        },
        {
          "output_type": "stream",
          "name": "stdout",
          "text": [
            "\n",
            "Range:\n"
          ]
        },
        {
          "output_type": "display_data",
          "data": {
            "text/plain": [
              "[0, ∞)"
            ],
            "image/png": "[encoded data removed]",
            "text/latex": "$\\displaystyle \\left[0, \\infty\\right)$"
          },
          "metadata": {}
        }
      ]
    },
    {
      "cell_type": "markdown",
      "source": [
        "#### Absolute Value\n",
        "\n",
        "- this is actually a piecewise function"
      ],
      "metadata": {
        "id": "V5uj2rzrM2wm"
      }
    },
    {
      "cell_type": "code",
      "source": [
        "sp.plot(sp.Abs(x));"
      ],
      "metadata": {
        "colab": {
          "base_uri": "https://localhost:8080/",
          "height": 296
        },
        "id": "lwCHkNy3M9s9",
        "outputId": "ca6ae812-289c-45a4-f902-988957948e33"
      },
      "execution_count": null,
      "outputs": [
        {
          "output_type": "display_data",
          "data": {
            "text/plain": [
              "<Figure size 432x288 with 1 Axes>"
            ],
            "image/png": "[encoded data removed]"
          },
          "metadata": {
            "needs_background": "light"
          }
        }
      ]
    },
    {
      "cell_type": "markdown",
      "source": [
        "#### Cubic"
      ],
      "metadata": {
        "id": "l84tlm3SNuru"
      }
    },
    {
      "cell_type": "code",
      "source": [
        "display_f_of_x('x**3')"
      ],
      "metadata": {
        "colab": {
          "base_uri": "https://localhost:8080/",
          "height": 578
        },
        "id": "egzJmnNBN1Bh",
        "outputId": "b1b6b731-dcd1-4141-ed1e-ca67bb168cd3"
      },
      "execution_count": null,
      "outputs": [
        {
          "output_type": "display_data",
          "data": {
            "text/plain": [
              "<Figure size 432x288 with 1 Axes>"
            ],
            "image/png": "[encoded data removed]"
          },
          "metadata": {
            "needs_background": "light"
          }
        },
        {
          "output_type": "stream",
          "name": "stdout",
          "text": [
            "\n",
            "X-intercepts:\n"
          ]
        },
        {
          "output_type": "display_data",
          "data": {
            "text/plain": [
              "[0]"
            ],
            "image/png": "[encoded data removed]",
            "text/latex": "$\\displaystyle \\left[ 0\\right]$"
          },
          "metadata": {}
        },
        {
          "output_type": "stream",
          "name": "stdout",
          "text": [
            "\n",
            "Y-intercept:\n"
          ]
        },
        {
          "output_type": "display_data",
          "data": {
            "text/plain": [
              "0"
            ],
            "image/png": "[encoded data removed]",
            "text/latex": "$\\displaystyle 0$"
          },
          "metadata": {}
        },
        {
          "output_type": "stream",
          "name": "stdout",
          "text": [
            "\n",
            "Slope (derivative):\n"
          ]
        },
        {
          "output_type": "display_data",
          "data": {
            "text/plain": [
              "   2\n",
              "3⋅x "
            ],
            "image/png": "[encoded data removed]",
            "text/latex": "$\\displaystyle 3 x^{2}$"
          },
          "metadata": {}
        },
        {
          "output_type": "stream",
          "name": "stdout",
          "text": [
            "\n",
            "Domain:\n"
          ]
        },
        {
          "output_type": "display_data",
          "data": {
            "text/plain": [
              "ℝ"
            ],
            "image/png": "[encoded data removed]",
            "text/latex": "$\\displaystyle \\mathbb{R}$"
          },
          "metadata": {}
        },
        {
          "output_type": "stream",
          "name": "stdout",
          "text": [
            "\n",
            "Range:\n"
          ]
        },
        {
          "output_type": "display_data",
          "data": {
            "text/plain": [
              "(-∞, ∞)"
            ],
            "image/png": "[encoded data removed]",
            "text/latex": "$\\displaystyle \\left(-\\infty, \\infty\\right)$"
          },
          "metadata": {}
        }
      ]
    },
    {
      "cell_type": "markdown",
      "source": [
        "#### Sine and Cosine"
      ],
      "metadata": {
        "id": "YyMsu2CHOJ1z"
      }
    },
    {
      "cell_type": "code",
      "source": [
        "p = sp.plot(sp.sin(x), sp.cos(x), legend=True, show=False)\n",
        "\n",
        "p[0].line_color = 'red'\n",
        "p[0].label = '$' + sp.latex(sp.sin(x)) + '$'\n",
        "\n",
        "p[1].line_color = 'dodgerblue'\n",
        "p[1].label = '$' + sp.latex(sp.cos(x)) + '$'\n",
        "\n",
        "domain_sin = sp.calculus.util.continuous_domain(sp.sin(x), x, sp.S.Reals)\n",
        "\n",
        "try:\n",
        "    range_sin = sp.calculus.util.function_range(sp.sin(x), x, sp.S.Reals)\n",
        "except:\n",
        "    range_sin = 'Not found'\n",
        "\n",
        "print('The domain of the sine function is:')\n",
        "display(domain_sin)\n",
        "print('The range of the sine function is:')\n",
        "display(range_sin)\n",
        "\n",
        "domain_cos = sp.calculus.util.continuous_domain(sp.cos(x), x, sp.S.Reals)\n",
        "\n",
        "try:\n",
        "    range_cos = sp.calculus.util.function_range(sp.cos(x), x, sp.S.Reals)\n",
        "except:\n",
        "    range_cos = 'Not found'\n",
        "\n",
        "print('The domain of the cosine function is:')\n",
        "display(domain_cos)\n",
        "print('The range of the cosine function is:')\n",
        "display(range_cos)\n",
        "\n",
        "p.show()"
      ],
      "metadata": {
        "colab": {
          "base_uri": "https://localhost:8080/",
          "height": 451
        },
        "id": "heraLlMTONop",
        "outputId": "200b9f51-542b-41e2-af2b-4ffe9ebab5f7"
      },
      "execution_count": null,
      "outputs": [
        {
          "output_type": "stream",
          "name": "stdout",
          "text": [
            "The domain of the sine function is:\n"
          ]
        },
        {
          "output_type": "display_data",
          "data": {
            "text/plain": [
              "ℝ"
            ],
            "image/png": "[encoded data removed]",
            "text/latex": "$\\displaystyle \\mathbb{R}$"
          },
          "metadata": {}
        },
        {
          "output_type": "stream",
          "name": "stdout",
          "text": [
            "The range of the sine function is:\n"
          ]
        },
        {
          "output_type": "display_data",
          "data": {
            "text/plain": [
              "[-1, 1]"
            ],
            "image/png": "[encoded data removed]",
            "text/latex": "$\\displaystyle \\left[-1, 1\\right]$"
          },
          "metadata": {}
        },
        {
          "output_type": "stream",
          "name": "stdout",
          "text": [
            "The domain of the cosine function is:\n"
          ]
        },
        {
          "output_type": "display_data",
          "data": {
            "text/plain": [
              "ℝ"
            ],
            "image/png": "[encoded data removed]",
            "text/latex": "$\\displaystyle \\mathbb{R}$"
          },
          "metadata": {}
        },
        {
          "output_type": "stream",
          "name": "stdout",
          "text": [
            "The range of the cosine function is:\n"
          ]
        },
        {
          "output_type": "display_data",
          "data": {
            "text/plain": [
              "[-1, 1]"
            ],
            "image/png": "[encoded data removed]",
            "text/latex": "$\\displaystyle \\left[-1, 1\\right]$"
          },
          "metadata": {}
        },
        {
          "output_type": "display_data",
          "data": {
            "text/plain": [
              "<Figure size 432x288 with 1 Axes>"
            ],
            "image/png": "[encoded data removed]"
          },
          "metadata": {
            "needs_background": "light"
          }
        }
      ]
    },
    {
      "cell_type": "markdown",
      "source": [
        "### Function Composition"
      ],
      "metadata": {
        "id": "WOglrjR2TKD0"
      }
    },
    {
      "cell_type": "markdown",
      "source": [
        "#### Definition\n",
        "\n",
        "$f \\circ g$ is read as '*f composed with g*'\n",
        "\n",
        "$(f \\circ g)(x) = f(g(x))$"
      ],
      "metadata": {
        "id": "QCE-xr0dU33u"
      }
    },
    {
      "cell_type": "markdown",
      "source": [
        "#### Example\n",
        "\n",
        "$f(x) = 2x - 1$\n",
        "<br>\n",
        "$g(x) = x^3$"
      ],
      "metadata": {
        "id": "fwBF8X_Jjn92"
      }
    },
    {
      "cell_type": "markdown",
      "source": [
        "$\n",
        "\\begin{align}\n",
        "(f \\circ g)(x) &= f(g(x)) \\\\\n",
        "&= f(x^3) \\\\\n",
        "&= 2x^3 - 1 \\\\\\\\\n",
        "(g \\circ f)(x) &= g(f(x)) \\\\\n",
        "&= g(2x-1) \\\\\n",
        "&= (2x - 1)^3\n",
        "\\end{align} \n",
        "$"
      ],
      "metadata": {
        "id": "2dub1K_0kLoK"
      }
    },
    {
      "cell_type": "markdown",
      "source": [
        "Composition is **not commutative**"
      ],
      "metadata": {
        "id": "Fa5Yq_ucnkJ4"
      }
    },
    {
      "cell_type": "code",
      "source": [
        "f = 2*x - 1\n",
        "g = x**3\n",
        "f_o_g = f.subs(x, g)\n",
        "g_o_f = g.subs(x, f)"
      ],
      "metadata": {
        "id": "kgn7nIB5VqbO"
      },
      "execution_count": null,
      "outputs": []
    },
    {
      "cell_type": "code",
      "source": [
        "f, g, f_o_g, g_o_f"
      ],
      "metadata": {
        "colab": {
          "base_uri": "https://localhost:8080/",
          "height": 47
        },
        "id": "L_XdLdFtodt_",
        "outputId": "34c9a62e-7679-418c-b6fb-af3963d7d516"
      },
      "execution_count": null,
      "outputs": [
        {
          "output_type": "execute_result",
          "data": {
            "text/plain": [
              "⎛          3     3               3⎞\n",
              "⎝2⋅x - 1, x , 2⋅x  - 1, (2⋅x - 1) ⎠"
            ],
            "image/png": "[encoded data removed]",
            "text/latex": "$\\displaystyle \\left( 2 x - 1, \\  x^{3}, \\  2 x^{3} - 1, \\  \\left(2 x - 1\\right)^{3}\\right)$"
          },
          "metadata": {},
          "execution_count": 39
        }
      ]
    },
    {
      "cell_type": "code",
      "source": [
        "p = sp.plot(f_o_g, g_o_f, \n",
        "            legend=True, \n",
        "            ylim=[-100, 100],\n",
        "            show=False)\n",
        "\n",
        "p[0].line_color='red'\n",
        "p[0].label = '$' + sp.latex(f_o_g) + '$'\n",
        "p[1].line_color='dodgerblue'\n",
        "p[1].label = '$' + sp.latex(g_o_f) + '$'\n",
        "\n",
        "p.show()"
      ],
      "metadata": {
        "colab": {
          "base_uri": "https://localhost:8080/",
          "height": 297
        },
        "id": "K0dy1KkXpriS",
        "outputId": "0c998651-e614-46ea-a33c-73b89888a1dc"
      },
      "execution_count": null,
      "outputs": [
        {
          "output_type": "display_data",
          "data": {
            "text/plain": [
              "<Figure size 432x288 with 1 Axes>"
            ],
            "image/png": "[encoded data removed]"
          },
          "metadata": {
            "needs_background": "light"
          }
        }
      ]
    },
    {
      "cell_type": "markdown",
      "source": [
        "#### Example\n",
        "\n",
        "$f(x) = \\sqrt{x}$\n",
        "<br>\n",
        "$g(x) = \\sqrt[3]{1 - x}$"
      ],
      "metadata": {
        "id": "xsBnEQSmrWM7"
      }
    },
    {
      "cell_type": "code",
      "source": [
        "f = sp.sqrt(x)\n",
        "g = sp.cbrt(1 - x)"
      ],
      "metadata": {
        "id": "QzYM8meus7Zy"
      },
      "execution_count": null,
      "outputs": []
    },
    {
      "cell_type": "code",
      "source": [
        "f, g"
      ],
      "metadata": {
        "colab": {
          "base_uri": "https://localhost:8080/",
          "height": 39
        },
        "id": "sRA-hCdMtFxs",
        "outputId": "153c4ed8-4fe8-41c4-9919-73734ab8c8a7"
      },
      "execution_count": null,
      "outputs": [
        {
          "output_type": "execute_result",
          "data": {
            "text/plain": [
              "⎛    3 _______⎞\n",
              "⎝√x, ╲╱ 1 - x ⎠"
            ],
            "image/png": "[encoded data removed]",
            "text/latex": "$\\displaystyle \\left( \\sqrt{x}, \\  \\sqrt[3]{1 - x}\\right)$"
          },
          "metadata": {},
          "execution_count": 42
        }
      ]
    },
    {
      "cell_type": "code",
      "source": [
        "p = sp.plot(f, g_o_f, \n",
        "            legend=True, \n",
        "            ylim=[-10, 10],\n",
        "            show=False)\n",
        "\n",
        "p[0].line_color='red'\n",
        "p[0].label = '$' + sp.latex(f) + '$'\n",
        "p[1].line_color='dodgerblue'\n",
        "p[1].label = '$' + sp.latex(g) + '$'\n",
        "\n",
        "p.show()"
      ],
      "metadata": {
        "colab": {
          "base_uri": "https://localhost:8080/",
          "height": 297
        },
        "id": "w1FVrfCmtvjG",
        "outputId": "fc52c2c7-3c83-476e-af04-d2e98f8df13e"
      },
      "execution_count": null,
      "outputs": [
        {
          "output_type": "display_data",
          "data": {
            "text/plain": [
              "<Figure size 432x288 with 1 Axes>"
            ],
            "image/png": "[encoded data removed]"
          },
          "metadata": {
            "needs_background": "light"
          }
        }
      ]
    },
    {
      "cell_type": "markdown",
      "source": [
        "$\n",
        "\\begin{align}\n",
        "(f \\circ f)(x) &= f(f(x)) \\\\\n",
        "&= f(\\sqrt{x}) \\\\\n",
        "&= \\sqrt{\\sqrt{x}} \\\\\\\\\n",
        "(g \\circ g)(x) &= g(g(x)) \\\\\n",
        "&= g\\left( \\sqrt[3]{1 - x}\\right) \\\\\n",
        "&= g((1 - x)^\\frac{1}{3}) \\\\\n",
        "&= (1 - (1 - x)^\\frac{1}{3})^\\frac{1}{3}\n",
        "\\end{align}\n",
        "$"
      ],
      "metadata": {
        "id": "3K-nk3kxujO2"
      }
    },
    {
      "cell_type": "code",
      "source": [
        "f_o_f = f.subs(x, f)\n",
        "g_o_g = g.subs(x, g)"
      ],
      "metadata": {
        "id": "e3INx7DZyEUV"
      },
      "execution_count": null,
      "outputs": []
    },
    {
      "cell_type": "code",
      "source": [
        "f_o_f, g_o_g"
      ],
      "metadata": {
        "colab": {
          "base_uri": "https://localhost:8080/",
          "height": 58
        },
        "id": "UT588mkvyVzL",
        "outputId": "2b26c476-2eb7-4ac7-f17f-6ec4f3dfda79"
      },
      "execution_count": null,
      "outputs": [
        {
          "output_type": "execute_result",
          "data": {
            "text/plain": [
              "⎛          _______________⎞\n",
              "⎜4 ___  3 ╱     3 _______ ⎟\n",
              "⎝╲╱ x , ╲╱  1 - ╲╱ 1 - x  ⎠"
            ],
            "image/png": "[encoded data removed]",
            "text/latex": "$\\displaystyle \\left( \\sqrt[4]{x}, \\  \\sqrt[3]{1 - \\sqrt[3]{1 - x}}\\right)$"
          },
          "metadata": {},
          "execution_count": 45
        }
      ]
    },
    {
      "cell_type": "markdown",
      "source": [
        "#### Example\n",
        "\n",
        "$g(s) = \\sqrt{\\cos{s}}$\n",
        "\n",
        "Find a function $f$ and a function $h$, such that $g(s) = (f \\circ h)(s)$\n",
        "\n",
        "##### Solution\n",
        "\n",
        "$f(s) = \\sqrt{s}$\n",
        "<br>\n",
        "$g(s) = \\cos{s}$"
      ],
      "metadata": {
        "id": "_MbYeQP70Wot"
      }
    },
    {
      "cell_type": "code",
      "source": [
        "s = sp.symbols('s')"
      ],
      "metadata": {
        "id": "a1y7Q3VF3QJD"
      },
      "execution_count": null,
      "outputs": []
    },
    {
      "cell_type": "code",
      "source": [
        "g = sp.sqrt(sp.cos(s))\n",
        "g"
      ],
      "metadata": {
        "colab": {
          "base_uri": "https://localhost:8080/",
          "height": 39
        },
        "id": "nYpoRjOE3ICD",
        "outputId": "fe4b9c53-7ce1-41f1-9db8-aabc59eecbfe"
      },
      "execution_count": null,
      "outputs": [
        {
          "output_type": "execute_result",
          "data": {
            "text/plain": [
              "  ________\n",
              "╲╱ cos(s) "
            ],
            "image/png": "[encoded data removed]",
            "text/latex": "$\\displaystyle \\sqrt{\\cos{\\left(s \\right)}}$"
          },
          "metadata": {},
          "execution_count": 47
        }
      ]
    },
    {
      "cell_type": "code",
      "source": [
        "s = sp.symbols('s')\n",
        "f = sp.sqrt(s)\n",
        "h = sp.cos(s)\n",
        "\n",
        "f, h"
      ],
      "metadata": {
        "colab": {
          "base_uri": "https://localhost:8080/",
          "height": 39
        },
        "id": "kHhXiBWZ1aQm",
        "outputId": "d79d31cf-0719-4780-8be1-fd3107a081f2"
      },
      "execution_count": null,
      "outputs": [
        {
          "output_type": "execute_result",
          "data": {
            "text/plain": [
              "(√s, cos(s))"
            ],
            "image/png": "[encoded data removed]",
            "text/latex": "$\\displaystyle \\left( \\sqrt{s}, \\  \\cos{\\left(s \\right)}\\right)$"
          },
          "metadata": {},
          "execution_count": 48
        }
      ]
    },
    {
      "cell_type": "code",
      "source": [
        "f_o_h = f.subs(s, h)\n",
        "f_o_h"
      ],
      "metadata": {
        "colab": {
          "base_uri": "https://localhost:8080/",
          "height": 39
        },
        "id": "4q-P62TC1qzZ",
        "outputId": "95351d78-5dd4-42de-e789-5bcf6f490809"
      },
      "execution_count": null,
      "outputs": [
        {
          "output_type": "execute_result",
          "data": {
            "text/plain": [
              "  ________\n",
              "╲╱ cos(s) "
            ],
            "image/png": "[encoded data removed]",
            "text/latex": "$\\displaystyle \\sqrt{\\cos{\\left(s \\right)}}$"
          },
          "metadata": {},
          "execution_count": 49
        }
      ]
    },
    {
      "cell_type": "code",
      "source": [
        "g.equals(f_o_h)"
      ],
      "metadata": {
        "colab": {
          "base_uri": "https://localhost:8080/"
        },
        "id": "7alc0M6S2f4w",
        "outputId": "6f37ecca-6a64-4b2e-bb3f-ee9508f2a2af"
      },
      "execution_count": null,
      "outputs": [
        {
          "output_type": "execute_result",
          "data": {
            "text/plain": [
              "True"
            ]
          },
          "metadata": {},
          "execution_count": 50
        }
      ]
    },
    {
      "cell_type": "code",
      "source": [
        "g == f_o_h"
      ],
      "metadata": {
        "colab": {
          "base_uri": "https://localhost:8080/"
        },
        "id": "TOuxM9OT29cB",
        "outputId": "dd4137c5-b3ec-4367-da4b-57b619d97396"
      },
      "execution_count": null,
      "outputs": [
        {
          "output_type": "execute_result",
          "data": {
            "text/plain": [
              "True"
            ]
          },
          "metadata": {},
          "execution_count": 51
        }
      ]
    },
    {
      "cell_type": "markdown",
      "source": [
        "## 2.1.5 Python: Graphing Functions"
      ],
      "metadata": {
        "id": "QOqgOy_VtHqw"
      }
    },
    {
      "cell_type": "markdown",
      "source": [
        "### Simple plot example"
      ],
      "metadata": {
        "id": "b_BQAKJk6Y-k"
      }
    },
    {
      "cell_type": "code",
      "source": [
        "p = sp.plotting.plot(x**2, show=False)\n",
        "p.show()"
      ],
      "metadata": {
        "colab": {
          "base_uri": "https://localhost:8080/",
          "height": 296
        },
        "id": "6t1fPrGQuEYo",
        "outputId": "41c1912e-28c1-4a75-a10e-c3a17abc5d1a"
      },
      "execution_count": null,
      "outputs": [
        {
          "output_type": "display_data",
          "data": {
            "text/plain": [
              "<Figure size 432x288 with 1 Axes>"
            ],
            "image/png": "[encoded data removed]"
          },
          "metadata": {
            "needs_background": "light"
          }
        }
      ]
    },
    {
      "cell_type": "markdown",
      "source": [
        "### Saving plot images"
      ],
      "metadata": {
        "id": "np2C3vEs6GP0"
      }
    },
    {
      "cell_type": "code",
      "source": [
        "from google.colab import drive\n",
        "drive.mount('gdrive')"
      ],
      "metadata": {
        "colab": {
          "base_uri": "https://localhost:8080/"
        },
        "id": "IUqPs3DhExpA",
        "outputId": "d8f887be-012b-494c-e4d3-b2af26687a74"
      },
      "execution_count": null,
      "outputs": [
        {
          "output_type": "stream",
          "name": "stdout",
          "text": [
            "Drive already mounted at gdrive; to attempt to forcibly remount, call drive.mount(\"gdrive\", force_remount=True).\n"
          ]
        }
      ]
    },
    {
      "cell_type": "code",
      "source": [
        "import os\n",
        "os.getcwd()"
      ],
      "metadata": {
        "colab": {
          "base_uri": "https://localhost:8080/",
          "height": 36
        },
        "id": "B04KpAg9xUJg",
        "outputId": "399ad60b-490c-4424-dfb8-ee36e5f68d88"
      },
      "execution_count": null,
      "outputs": [
        {
          "output_type": "execute_result",
          "data": {
            "text/plain": [
              "'/content'"
            ],
            "application/vnd.google.colaboratory.intrinsic+json": {
              "type": "string"
            }
          },
          "metadata": {},
          "execution_count": 54
        }
      ]
    },
    {
      "cell_type": "code",
      "source": [
        "os.listdir('/content')"
      ],
      "metadata": {
        "colab": {
          "base_uri": "https://localhost:8080/"
        },
        "id": "HERdva9t7MiX",
        "outputId": "d493fc7d-b0c7-4df1-fe5d-132f6f697374"
      },
      "execution_count": null,
      "outputs": [
        {
          "output_type": "execute_result",
          "data": {
            "text/plain": [
              "['.config', 'gdrive', 'sample_data']"
            ]
          },
          "metadata": {},
          "execution_count": 55
        }
      ]
    },
    {
      "cell_type": "code",
      "source": [
        "os.listdir()"
      ],
      "metadata": {
        "colab": {
          "base_uri": "https://localhost:8080/"
        },
        "id": "PB_V7ZF77TUo",
        "outputId": "084587b3-f8e4-4479-abf5-8e19eb9650e5"
      },
      "execution_count": null,
      "outputs": [
        {
          "output_type": "execute_result",
          "data": {
            "text/plain": [
              "['.config', 'gdrive', 'sample_data']"
            ]
          },
          "metadata": {},
          "execution_count": 56
        }
      ]
    },
    {
      "cell_type": "code",
      "source": [
        "images_path = 'gdrive/MyDrive/'\n",
        "images_path += 'Colab Notebooks/'\n",
        "images_path += 'Data Science/'\n",
        "images_path += 'Johns Hopkins - Applied Calculus with Python/'\n",
        "images_path += 'images/'\n",
        "images_path"
      ],
      "metadata": {
        "colab": {
          "base_uri": "https://localhost:8080/",
          "height": 53
        },
        "id": "vJ5ZJi-X0RT6",
        "outputId": "88366194-2b6d-42a2-eec3-3e568d0b839c"
      },
      "execution_count": null,
      "outputs": [
        {
          "output_type": "execute_result",
          "data": {
            "text/plain": [
              "'gdrive/MyDrive/Colab Notebooks/Data Science/Johns Hopkins - Applied Calculus with Python/images/'"
            ],
            "application/vnd.google.colaboratory.intrinsic+json": {
              "type": "string"
            }
          },
          "metadata": {},
          "execution_count": 57
        }
      ]
    },
    {
      "cell_type": "code",
      "source": [
        "p.save(images_path + 'x_squared_plot.png')"
      ],
      "metadata": {
        "colab": {
          "base_uri": "https://localhost:8080/",
          "height": 278
        },
        "id": "jh7Gn9k24g1F",
        "outputId": "3c338ad1-e8ee-4a15-aad3-83403881d51e"
      },
      "execution_count": null,
      "outputs": [
        {
          "output_type": "display_data",
          "data": {
            "text/plain": [
              "<Figure size 432x288 with 1 Axes>"
            ],
            "image/png": "[encoded data removed]"
          },
          "metadata": {
            "needs_background": "light"
          }
        }
      ]
    },
    {
      "cell_type": "markdown",
      "source": [
        "### Example"
      ],
      "metadata": {
        "id": "Ij6a_9mSHjyS"
      }
    },
    {
      "cell_type": "code",
      "source": [
        "plot1 = sp.plot(x**2, (x, -3, 3))"
      ],
      "metadata": {
        "colab": {
          "base_uri": "https://localhost:8080/",
          "height": 296
        },
        "id": "_W2jzDSJHmN6",
        "outputId": "1689ba7e-d899-40c1-d7b1-99604c3cb53b"
      },
      "execution_count": null,
      "outputs": [
        {
          "output_type": "display_data",
          "data": {
            "text/plain": [
              "<Figure size 432x288 with 1 Axes>"
            ],
            "image/png": "[encoded data removed]"
          },
          "metadata": {
            "needs_background": "light"
          }
        }
      ]
    },
    {
      "cell_type": "code",
      "source": [
        "type(plot1)"
      ],
      "metadata": {
        "colab": {
          "base_uri": "https://localhost:8080/"
        },
        "id": "EB3u3IoDISG0",
        "outputId": "f39dd503-8122-412b-92dc-c17dfcedbda3"
      },
      "execution_count": null,
      "outputs": [
        {
          "output_type": "execute_result",
          "data": {
            "text/plain": [
              "sympy.plotting.plot.Plot"
            ]
          },
          "metadata": {},
          "execution_count": 60
        }
      ]
    },
    {
      "cell_type": "code",
      "source": [
        "plot1[0]"
      ],
      "metadata": {
        "colab": {
          "base_uri": "https://localhost:8080/"
        },
        "id": "MgU6NXWpJL6r",
        "outputId": "9bab43b1-05a8-40d9-d026-504de28c8711"
      },
      "execution_count": null,
      "outputs": [
        {
          "output_type": "execute_result",
          "data": {
            "text/plain": [
              "<sympy.plotting.plot.LineOver1DRangeSeries at 0x7f19b58cfd50>"
            ]
          },
          "metadata": {},
          "execution_count": 61
        }
      ]
    },
    {
      "cell_type": "code",
      "source": [
        "plot1[0].expr"
      ],
      "metadata": {
        "colab": {
          "base_uri": "https://localhost:8080/",
          "height": 39
        },
        "id": "wEPBF2rpJTi0",
        "outputId": "e63cc132-878c-4e9c-f01f-23ad6013df69"
      },
      "execution_count": null,
      "outputs": [
        {
          "output_type": "execute_result",
          "data": {
            "text/plain": [
              " 2\n",
              "x "
            ],
            "image/png": "[encoded data removed]",
            "text/latex": "$\\displaystyle x^{2}$"
          },
          "metadata": {},
          "execution_count": 62
        }
      ]
    },
    {
      "cell_type": "code",
      "source": [
        "plot1[0].line_color = 'r'"
      ],
      "metadata": {
        "id": "yyjQV0uQJbLQ"
      },
      "execution_count": null,
      "outputs": []
    },
    {
      "cell_type": "code",
      "source": [
        "plot1.show()"
      ],
      "metadata": {
        "colab": {
          "base_uri": "https://localhost:8080/",
          "height": 296
        },
        "id": "nLTMsppKJvkH",
        "outputId": "ef96deb6-ee2e-4ada-80bf-c5816da4517c"
      },
      "execution_count": null,
      "outputs": [
        {
          "output_type": "display_data",
          "data": {
            "text/plain": [
              "<Figure size 432x288 with 1 Axes>"
            ],
            "image/png": "[encoded data removed]"
          },
          "metadata": {
            "needs_background": "light"
          }
        }
      ]
    },
    {
      "cell_type": "markdown",
      "source": [
        "### Multiple plots"
      ],
      "metadata": {
        "id": "aEfvcZwPLG1v"
      }
    },
    {
      "cell_type": "code",
      "source": [
        "f1 = 3*x + 2\n",
        "f2 = x**3"
      ],
      "metadata": {
        "id": "PcMiwUjpLMgf"
      },
      "execution_count": null,
      "outputs": []
    },
    {
      "cell_type": "code",
      "source": [
        "plots2 = sp.plot(f1, f2)"
      ],
      "metadata": {
        "colab": {
          "base_uri": "https://localhost:8080/",
          "height": 297
        },
        "id": "qkdY0uirMgK2",
        "outputId": "c54defb4-b051-4f33-9ecd-cab55af90dcf"
      },
      "execution_count": null,
      "outputs": [
        {
          "output_type": "display_data",
          "data": {
            "text/plain": [
              "<Figure size 432x288 with 1 Axes>"
            ],
            "image/png": "[encoded data removed]"
          },
          "metadata": {
            "needs_background": "light"
          }
        }
      ]
    },
    {
      "cell_type": "markdown",
      "source": [
        "### Piecewise"
      ],
      "metadata": {
        "id": "mQSv7-TKNcMH"
      }
    },
    {
      "cell_type": "code",
      "source": [
        "sp.plot((f1, (x, -10, 0)),\n",
        "        (f2, (x, 0, 5)),\n",
        "        ylim=(-10, 10));"
      ],
      "metadata": {
        "colab": {
          "base_uri": "https://localhost:8080/",
          "height": 297
        },
        "id": "So4z9Xu7Nbks",
        "outputId": "9e62591a-e42b-45c4-a732-3d6dcf505ed6"
      },
      "execution_count": null,
      "outputs": [
        {
          "output_type": "display_data",
          "data": {
            "text/plain": [
              "<Figure size 432x288 with 1 Axes>"
            ],
            "image/png": "[encoded data removed]"
          },
          "metadata": {
            "needs_background": "light"
          }
        }
      ]
    },
    {
      "cell_type": "markdown",
      "source": [
        "## 2.1.6 Python: Interactive Quadratic Calculator"
      ],
      "metadata": {
        "id": "8nApPD92Pcig"
      }
    },
    {
      "cell_type": "code",
      "source": [
        "import numpy as np\n",
        "\n",
        "def zeros(a, b, c):\n",
        "  D = np.sqrt(b**2 - 4*a*c)\n",
        "  x1 = (-b + D) / (2 * a)\n",
        "  x2 = (-b - D) / (2 * a)\n",
        "  \n",
        "  print('The first root is: ', x1)\n",
        "  print('The second root is: ', x2)\n",
        "\n",
        "def print_graph(a, b, c):\n",
        "    x = sp.symbols('x')\n",
        "    expr = a*x**2 + b*x + c\n",
        "    sp.plot(expr, title='$' + sp.latex(expr) + '$\\n', line_color='red')\n",
        "\n",
        "def quad_calc():\n",
        "    while True:\n",
        "        print('Welcome to our quadratic calculator')\n",
        "        a = input('Enter a: ')\n",
        "        b = input('Enter b: ')\n",
        "        c = input('Enter c: ')\n",
        "\n",
        "        zeros(float(a), float(b), float(c))\n",
        "        print_graph(float(a), float(b), float(c))\n",
        "\n",
        "        allDone = input('Would you like to solve another quadratic? (y/n)\\n')\n",
        "        if allDone == 'n':\n",
        "            print('Goodbye')\n",
        "            break"
      ],
      "metadata": {
        "id": "CbqjYHhqzUA7"
      },
      "execution_count": null,
      "outputs": []
    },
    {
      "cell_type": "code",
      "source": [
        "# quad_calc()"
      ],
      "metadata": {
        "id": "0mgK3SdJ2gFd"
      },
      "execution_count": null,
      "outputs": []
    },
    {
      "cell_type": "markdown",
      "source": [
        "## 2.1.7 Reading: Sample Problems - Introduction to Functions"
      ],
      "metadata": {
        "id": "pUJMkvIY47_5"
      }
    },
    {
      "cell_type": "markdown",
      "source": [
        "### Sample Problem 1 - Interpreting a Function\n",
        "\n",
        "The function $G(s)$ represents the gas mileage of a car (in miles per gallon) traveling at a speed of $s$ miles per hour\n",
        "\n",
        "#### Part A\n",
        "\n",
        "What does it means that $G(56) = 24$?\n",
        "\n",
        "##### Solution:\n",
        "\n",
        "It means that when the car is traveling at 56 miles per hour, the car is getting 24 miles per gallon.\n",
        "\n",
        "#### Part B\n",
        "\n",
        "Write a mathematical statement that represents the following sentence: \"The car's mileage while traveling at 80 miles per hour is 60% of its gas mileage at 70 miles per hours.\n",
        "\n",
        "##### Solution:\n",
        "\n",
        "$G(80) = .6 * G(70)$"
      ],
      "metadata": {
        "id": "cz13qBDy5QoK"
      }
    },
    {
      "cell_type": "markdown",
      "source": [
        "### Sample Problem 2 - Analyzing a Linear Function\n",
        "\n",
        "Suppose that $k(x)$ is a linear function, such that $k(1) = -4$ and $k(3) = 6$\n",
        "\n",
        "#### Part A\n",
        "\n",
        "Find an expression for $k(x)$.\n",
        "\n",
        "#### Part B\n",
        "\n",
        "Find the domain and range of $k(x)$\n",
        "\n",
        "##### Solution:\n",
        "\n",
        "We know that: <br>\n",
        "$\n",
        "m + b = -4 \\\\\n",
        "3m + b = 6\n",
        "$"
      ],
      "metadata": {
        "id": "p4Jp5Y-h8hzW"
      }
    },
    {
      "cell_type": "code",
      "source": [
        "m, b = sp.symbols('m b')\n",
        "\n",
        "# sympy.solvers.\n",
        "sp.linsolve([m + b + 4, 3*m + b - 6], (m, b))"
      ],
      "metadata": {
        "colab": {
          "base_uri": "https://localhost:8080/",
          "height": 37
        },
        "id": "i3EhCfKzCBWw",
        "outputId": "9ee5dfcc-7e28-4b24-fa36-c8a7a350e3bf"
      },
      "execution_count": null,
      "outputs": [
        {
          "output_type": "execute_result",
          "data": {
            "text/plain": [
              "{(5, -9)}"
            ],
            "image/png": "[encoded data removed]",
            "text/latex": "$\\displaystyle \\left\\{\\left( 5, \\  -9\\right)\\right\\}$"
          },
          "metadata": {},
          "execution_count": 95
        }
      ]
    },
    {
      "cell_type": "code",
      "source": [
        "# the comma is called \"sequence unpacking\"\n",
        "answer = sp.solvers.linsolve([m + b + 4, 3*m + b - 6], (m, b))\n",
        "answer"
      ],
      "metadata": {
        "colab": {
          "base_uri": "https://localhost:8080/",
          "height": 37
        },
        "id": "rj5l_KezCnsE",
        "outputId": "186bd488-e9e7-41be-f36c-f938fb370f20"
      },
      "execution_count": null,
      "outputs": [
        {
          "output_type": "execute_result",
          "data": {
            "text/plain": [
              "{(5, -9)}"
            ],
            "image/png": "[encoded data removed]",
            "text/latex": "$\\displaystyle \\left\\{\\left( 5, \\  -9\\right)\\right\\}$"
          },
          "metadata": {},
          "execution_count": 125
        }
      ]
    },
    {
      "cell_type": "code",
      "source": [
        "answer = list(answer)\n",
        "answer"
      ],
      "metadata": {
        "colab": {
          "base_uri": "https://localhost:8080/",
          "height": 37
        },
        "id": "nrvVcMcSH3ai",
        "outputId": "f24bc56e-a739-4ae1-b1ac-a1ed4b005634"
      },
      "execution_count": null,
      "outputs": [
        {
          "output_type": "execute_result",
          "data": {
            "text/plain": [
              "[(5, -9)]"
            ],
            "image/png": "[encoded data removed]",
            "text/latex": "$\\displaystyle \\left[ \\left( 5, \\  -9\\right)\\right]$"
          },
          "metadata": {},
          "execution_count": 128
        }
      ]
    },
    {
      "cell_type": "code",
      "source": [
        "m = answer[0][0]\n",
        "b = answer[0][1]\n",
        "\n",
        "f = m * x + b\n",
        "f"
      ],
      "metadata": {
        "colab": {
          "base_uri": "https://localhost:8080/",
          "height": 39
        },
        "id": "2asgbKlzDVZu",
        "outputId": "87a11786-2d62-4073-cda4-feb361875d81"
      },
      "execution_count": null,
      "outputs": [
        {
          "output_type": "execute_result",
          "data": {
            "text/plain": [
              "5⋅x - 9"
            ],
            "image/png": "[encoded data removed]",
            "text/latex": "$\\displaystyle 5 x - 9$"
          },
          "metadata": {},
          "execution_count": 129
        }
      ]
    },
    {
      "cell_type": "code",
      "source": [
        "domain = sp.calculus.util.continuous_domain(f, x, sp.S.Reals)\n",
        "domain"
      ],
      "metadata": {
        "colab": {
          "base_uri": "https://localhost:8080/",
          "height": 38
        },
        "id": "1eOA0_07JWL9",
        "outputId": "58233657-3ba7-4f8b-e279-77beff6f801f"
      },
      "execution_count": null,
      "outputs": [
        {
          "output_type": "execute_result",
          "data": {
            "text/plain": [
              "ℝ"
            ],
            "image/png": "[encoded data removed]",
            "text/latex": "$\\displaystyle \\mathbb{R}$"
          },
          "metadata": {},
          "execution_count": 130
        }
      ]
    },
    {
      "cell_type": "code",
      "source": [
        "range = sp.calculus.util.function_range(f, x, sp.S.Reals)\n",
        "range"
      ],
      "metadata": {
        "colab": {
          "base_uri": "https://localhost:8080/",
          "height": 37
        },
        "id": "_u7ilNM4Jtdp",
        "outputId": "981b7bdb-ac7f-45ac-d18f-eb6a1c87bf49"
      },
      "execution_count": null,
      "outputs": [
        {
          "output_type": "execute_result",
          "data": {
            "text/plain": [
              "(-∞, ∞)"
            ],
            "image/png": "[encoded data removed]",
            "text/latex": "$\\displaystyle \\left(-\\infty, \\infty\\right)$"
          },
          "metadata": {},
          "execution_count": 131
        }
      ]
    },
    {
      "cell_type": "markdown",
      "source": [
        "The expression is $k(x) = 5x - 9$. Its domain is $\\mathbb{R}$ and its range is $\\mathbb{R}$."
      ],
      "metadata": {
        "id": "RBNg1JTUE7QU"
      }
    },
    {
      "cell_type": "code",
      "source": [
        "# another solution, since the points (1, -4) and (3, 6)\n",
        "# are on the line\n",
        "\n",
        "m = (-4 - 6) / (1 - 3)\n",
        "m"
      ],
      "metadata": {
        "colab": {
          "base_uri": "https://localhost:8080/",
          "height": 37
        },
        "id": "G6GXK_YZLJ_2",
        "outputId": "3df07448-0fa2-4f6f-c02a-0cf1094b9853"
      },
      "execution_count": null,
      "outputs": [
        {
          "output_type": "execute_result",
          "data": {
            "text/plain": [
              "5.0"
            ],
            "image/png": "[encoded data removed]",
            "text/latex": "$\\displaystyle 5.0$"
          },
          "metadata": {},
          "execution_count": 134
        }
      ]
    },
    {
      "cell_type": "code",
      "source": [
        "# y = mx + b\n",
        "# => b = y - mx\n",
        "b = 6 - m * 3\n",
        "b"
      ],
      "metadata": {
        "colab": {
          "base_uri": "https://localhost:8080/",
          "height": 37
        },
        "id": "FeGdKug_Me-H",
        "outputId": "75b6cbfc-c04b-42d3-bf18-efdf9ec95e67"
      },
      "execution_count": null,
      "outputs": [
        {
          "output_type": "execute_result",
          "data": {
            "text/plain": [
              "-9.0"
            ],
            "image/png": "[encoded data removed]",
            "text/latex": "$\\displaystyle -9.0$"
          },
          "metadata": {},
          "execution_count": 135
        }
      ]
    },
    {
      "cell_type": "markdown",
      "source": [
        "### Sample Problem 3\n",
        "\n",
        "Define a function, **linear(a, b, c, d)**, which when given the coordinates of two points, returns the equation of the line passing through those two points.\n",
        "\n",
        "##### Solution:\n",
        "\n",
        "Using the point-slope form of the equation:\n",
        "\n",
        "$\n",
        "y - y_0 = m(x - x_0) \\\\\n",
        "\\implies y = m(x - x_0) + y_0\n",
        "$"
      ],
      "metadata": {
        "id": "vP9TJOVwNAdZ"
      }
    },
    {
      "cell_type": "code",
      "source": [
        "x = sp.symbols('x')\n",
        "\n",
        "def linear(a, b, c, d):\n",
        "    slope = (d - b) / (c - a)\n",
        "    # point-slope form\n",
        "    return slope * (x - a) + b"
      ],
      "metadata": {
        "id": "QQLOxeYuP5Nx"
      },
      "execution_count": null,
      "outputs": []
    },
    {
      "cell_type": "code",
      "source": [
        "linear(1, -4, 3, 6)"
      ],
      "metadata": {
        "colab": {
          "base_uri": "https://localhost:8080/",
          "height": 39
        },
        "id": "Q7S2qt3vQTv3",
        "outputId": "e56166e5-d085-4d22-dbd0-4dbe49ccbcd6"
      },
      "execution_count": null,
      "outputs": [
        {
          "output_type": "execute_result",
          "data": {
            "text/plain": [
              "5.0⋅x - 9.0"
            ],
            "image/png": "[encoded data removed]",
            "text/latex": "$\\displaystyle 5.0 x - 9.0$"
          },
          "metadata": {},
          "execution_count": 138
        }
      ]
    },
    {
      "cell_type": "markdown",
      "source": [
        "## Quiz"
      ],
      "metadata": {
        "id": "7iWL2bx5QZvu"
      }
    }
  ]
}