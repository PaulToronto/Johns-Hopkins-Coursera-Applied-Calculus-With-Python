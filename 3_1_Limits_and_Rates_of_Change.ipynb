{
  "nbformat": 4,
  "nbformat_minor": 0,
  "metadata": {
    "colab": {
      "provenance": [],
      "toc_visible": true,
      "collapsed_sections": [
        "7xE4mLzAWRg-",
        "mfV42vqCWy66",
        "JfE-N-rwbiNf",
        "ttmTiJ2mkika",
        "A_J67TK0qIpN",
        "Ef0kYzIU2KWS",
        "mypg4xe46C-I",
        "3gk7v9Qc7X10"
      ],
      "authorship_tag": "ABX9TyNXlzTx4MXZ0bsDQMboO6Bi",
      "include_colab_link": true
    },
    "kernelspec": {
      "name": "python3",
      "display_name": "Python 3"
    },
    "language_info": {
      "name": "python"
    }
  },
  "cells": [
    {
      "cell_type": "markdown",
      "metadata": {
        "id": "view-in-github",
        "colab_type": "text"
      },
      "source": [
        "<a href=\"https://colab.research.google.com/github/PaulToronto/Johns-Hopkins-Coursera-Applied-Calculus-With-Python/blob/main/3_1_Limits_and_Rates_of_Change.ipynb\" target=\"_parent\"><img src=\"https://colab.research.google.com/assets/colab-badge.svg\" alt=\"Open In Colab\"/></a>"
      ]
    },
    {
      "cell_type": "markdown",
      "source": [
        "# 3.1 Limits and Rates of Change"
      ],
      "metadata": {
        "id": "MW06y7sXTDtq"
      }
    },
    {
      "cell_type": "code",
      "source": [
        "import sympy as sym\n",
        "import numpy as np\n",
        "import matplotlib.pyplot as plt"
      ],
      "metadata": {
        "id": "oXhoHmyqXKmx"
      },
      "execution_count": 1,
      "outputs": []
    },
    {
      "cell_type": "markdown",
      "source": [
        "## 3.1.1 Reading: Lists and Tuples in Python"
      ],
      "metadata": {
        "id": "nEWEs1N9TJax"
      }
    },
    {
      "cell_type": "markdown",
      "source": [
        "### Lists\n",
        "\n",
        "- a list is an **ordered** collection of objects\n",
        "- lists are mutable\n",
        "- can contain an unlimited number of objects of any type\n",
        "- a list's **lenght** is the number of objects in the list\n",
        "- the objects are indexed\n",
        "    - zero-based indexing"
      ],
      "metadata": {
        "id": "WX9MM4twTVfR"
      }
    },
    {
      "cell_type": "code",
      "source": [
        "my_list = [12, 'seven', -2.5]\n",
        "len(my_list)"
      ],
      "metadata": {
        "colab": {
          "base_uri": "https://localhost:8080/"
        },
        "id": "70f9CVgnUCtX",
        "outputId": "13ee2326-c66e-4e04-c048-683420591c6f"
      },
      "execution_count": 2,
      "outputs": [
        {
          "output_type": "execute_result",
          "data": {
            "text/plain": [
              "3"
            ]
          },
          "metadata": {},
          "execution_count": 2
        }
      ]
    },
    {
      "cell_type": "code",
      "source": [
        "my_list[0]"
      ],
      "metadata": {
        "colab": {
          "base_uri": "https://localhost:8080/"
        },
        "id": "rt_LlnftUGD-",
        "outputId": "ab21b022-46e3-4653-f41d-089c3ff43ba9"
      },
      "execution_count": 3,
      "outputs": [
        {
          "output_type": "execute_result",
          "data": {
            "text/plain": [
              "12"
            ]
          },
          "metadata": {},
          "execution_count": 3
        }
      ]
    },
    {
      "cell_type": "code",
      "source": [
        "number_list = [0, -1, 5, -2.7, 5.9, 0, 4.1]\n",
        "max(number_list), min(number_list)"
      ],
      "metadata": {
        "colab": {
          "base_uri": "https://localhost:8080/"
        },
        "id": "ZqjchV9PUMIu",
        "outputId": "16088e5f-2b12-4c7f-bf98-d2691d6e5af5"
      },
      "execution_count": 4,
      "outputs": [
        {
          "output_type": "execute_result",
          "data": {
            "text/plain": [
              "(5.9, -2.7)"
            ]
          },
          "metadata": {},
          "execution_count": 4
        }
      ]
    },
    {
      "cell_type": "markdown",
      "source": [
        "### Tuples\n",
        "\n",
        "- like a list, but **immutable**"
      ],
      "metadata": {
        "id": "fbbylzskTwBR"
      }
    },
    {
      "cell_type": "code",
      "source": [
        "my_tuple = (1, 2, 3)\n",
        "type(my_tuple)"
      ],
      "metadata": {
        "colab": {
          "base_uri": "https://localhost:8080/"
        },
        "id": "yvXbNHuEUdI6",
        "outputId": "8982b6f9-16b6-449c-8aa7-4b5400fea946"
      },
      "execution_count": 5,
      "outputs": [
        {
          "output_type": "execute_result",
          "data": {
            "text/plain": [
              "tuple"
            ]
          },
          "metadata": {},
          "execution_count": 5
        }
      ]
    },
    {
      "cell_type": "markdown",
      "source": [
        "### Adding items to a list"
      ],
      "metadata": {
        "id": "HQEzCU0uUsIO"
      }
    },
    {
      "cell_type": "code",
      "source": [
        "my_list = [1, 2, 3]\n",
        "my_list.append(4)\n",
        "my_list"
      ],
      "metadata": {
        "colab": {
          "base_uri": "https://localhost:8080/"
        },
        "id": "eVOsAWVvUycz",
        "outputId": "7863e71a-2669-43ca-db16-9fb96c48ff6a"
      },
      "execution_count": 6,
      "outputs": [
        {
          "output_type": "execute_result",
          "data": {
            "text/plain": [
              "[1, 2, 3, 4]"
            ]
          },
          "metadata": {},
          "execution_count": 6
        }
      ]
    },
    {
      "cell_type": "code",
      "source": [
        "my_list.append([0, 0, 0])\n",
        "my_list"
      ],
      "metadata": {
        "colab": {
          "base_uri": "https://localhost:8080/"
        },
        "id": "S8BUSTc2U34C",
        "outputId": "e126bd34-6f20-47df-946c-36e1f21351c8"
      },
      "execution_count": 7,
      "outputs": [
        {
          "output_type": "execute_result",
          "data": {
            "text/plain": [
              "[1, 2, 3, 4, [0, 0, 0]]"
            ]
          },
          "metadata": {},
          "execution_count": 7
        }
      ]
    },
    {
      "cell_type": "code",
      "source": [
        "my_list.extend([1, 1, 1])\n",
        "my_list"
      ],
      "metadata": {
        "colab": {
          "base_uri": "https://localhost:8080/"
        },
        "id": "pc8VRTz8VK5x",
        "outputId": "db5fbe7f-5445-460a-8eac-35744761a38f"
      },
      "execution_count": 8,
      "outputs": [
        {
          "output_type": "execute_result",
          "data": {
            "text/plain": [
              "[1, 2, 3, 4, [0, 0, 0], 1, 1, 1]"
            ]
          },
          "metadata": {},
          "execution_count": 8
        }
      ]
    },
    {
      "cell_type": "code",
      "source": [
        "my_list.insert(2, 'index two')\n",
        "my_list"
      ],
      "metadata": {
        "colab": {
          "base_uri": "https://localhost:8080/"
        },
        "id": "FDCfJiZvVRRC",
        "outputId": "edddebda-5870-435b-dc00-ad22f74a46fc"
      },
      "execution_count": 9,
      "outputs": [
        {
          "output_type": "execute_result",
          "data": {
            "text/plain": [
              "[1, 2, 'index two', 3, 4, [0, 0, 0], 1, 1, 1]"
            ]
          },
          "metadata": {},
          "execution_count": 9
        }
      ]
    },
    {
      "cell_type": "markdown",
      "source": [
        "### Removing items from a list"
      ],
      "metadata": {
        "id": "FitX60HeVsdS"
      }
    },
    {
      "cell_type": "code",
      "source": [
        "del my_list[2]\n",
        "my_list"
      ],
      "metadata": {
        "colab": {
          "base_uri": "https://localhost:8080/"
        },
        "id": "8cQCYmDCVvjv",
        "outputId": "72613c14-bbe8-496c-d200-7d04206c23e1"
      },
      "execution_count": 10,
      "outputs": [
        {
          "output_type": "execute_result",
          "data": {
            "text/plain": [
              "[1, 2, 3, 4, [0, 0, 0], 1, 1, 1]"
            ]
          },
          "metadata": {},
          "execution_count": 10
        }
      ]
    },
    {
      "cell_type": "code",
      "source": [
        "my_list.remove(1)"
      ],
      "metadata": {
        "id": "lEA5HiJgV55K"
      },
      "execution_count": 11,
      "outputs": []
    },
    {
      "cell_type": "code",
      "source": [
        "my_list.remove(1)"
      ],
      "metadata": {
        "id": "vSLPI3pRV9ux"
      },
      "execution_count": 12,
      "outputs": []
    },
    {
      "cell_type": "code",
      "source": [
        "my_list # when there are more than it removes only the first"
      ],
      "metadata": {
        "colab": {
          "base_uri": "https://localhost:8080/"
        },
        "id": "Oz65HFOpWCCb",
        "outputId": "9e5bd17c-e140-4314-a70f-0fdca71b72ca"
      },
      "execution_count": 13,
      "outputs": [
        {
          "output_type": "execute_result",
          "data": {
            "text/plain": [
              "[2, 3, 4, [0, 0, 0], 1, 1]"
            ]
          },
          "metadata": {},
          "execution_count": 13
        }
      ]
    },
    {
      "cell_type": "markdown",
      "source": [
        "### List Comprehensions\n",
        "\n",
        "`[expression for item in l if condition`"
      ],
      "metadata": {
        "id": "7xE4mLzAWRg-"
      }
    },
    {
      "cell_type": "code",
      "source": [
        "number_list = [0, -1, 5, -2.7, 5.9, 0, 4.1]\n",
        "positive_number_list = [i for i in number_list if i > 0]\n",
        "positive_number_list"
      ],
      "metadata": {
        "colab": {
          "base_uri": "https://localhost:8080/"
        },
        "id": "90STldGeWiI8",
        "outputId": "4bf9b42c-f0fd-48f4-eae8-111e6ec8e672"
      },
      "execution_count": 14,
      "outputs": [
        {
          "output_type": "execute_result",
          "data": {
            "text/plain": [
              "[5, 5.9, 4.1]"
            ]
          },
          "metadata": {},
          "execution_count": 14
        }
      ]
    },
    {
      "cell_type": "markdown",
      "source": [
        "### List Comprehension with SymPy\n",
        "\n",
        "Suppose we want to find $f(x) = x^{2} + 2x + 1$ for all $x$ in our number list. "
      ],
      "metadata": {
        "id": "mfV42vqCWy66"
      }
    },
    {
      "cell_type": "code",
      "source": [
        "number_list = [0, -1, 5, -2.7, 5.9, 0, 4.1]"
      ],
      "metadata": {
        "id": "4PENW46ZXGUi"
      },
      "execution_count": 15,
      "outputs": []
    },
    {
      "cell_type": "code",
      "source": [
        "x = sym.symbols('x')\n",
        "f = x**2 + 2*x + 1\n",
        "f"
      ],
      "metadata": {
        "colab": {
          "base_uri": "https://localhost:8080/",
          "height": 0
        },
        "id": "vdbnntC0XH1F",
        "outputId": "649a4874-3a4c-4fec-f2c1-6b6e807a54cb"
      },
      "execution_count": 16,
      "outputs": [
        {
          "output_type": "execute_result",
          "data": {
            "text/plain": [
              "x**2 + 2*x + 1"
            ],
            "text/latex": "$\\displaystyle x^{2} + 2 x + 1$"
          },
          "metadata": {},
          "execution_count": 16
        }
      ]
    },
    {
      "cell_type": "code",
      "source": [
        "[f.subs(x, i) for i in number_list]"
      ],
      "metadata": {
        "colab": {
          "base_uri": "https://localhost:8080/"
        },
        "id": "BeVhQs5fXSsD",
        "outputId": "713a0fe4-27ff-4ea4-f856-aa6bd7942dd6"
      },
      "execution_count": 17,
      "outputs": [
        {
          "output_type": "execute_result",
          "data": {
            "text/plain": [
              "[1, 0, 36, 2.89000000000000, 47.6100000000000, 1, 26.0100000000000]"
            ]
          },
          "metadata": {},
          "execution_count": 17
        }
      ]
    },
    {
      "cell_type": "markdown",
      "source": [
        "## 3.1.2 Theory: Introduction to Limits"
      ],
      "metadata": {
        "id": "bP2pPDNHa8G-"
      }
    },
    {
      "cell_type": "markdown",
      "source": [
        "### Definition: Limit\n",
        "\n",
        "We write $\\lim_{x \\to a} f(x) = L$ if we can make $f(x)$ as close to $L$ as we like by taking $x$ as close to $a$ (on either side) but not equal to $a$. "
      ],
      "metadata": {
        "id": "JfE-N-rwbiNf"
      }
    },
    {
      "cell_type": "markdown",
      "source": [
        "### Example\n",
        "\n",
        "$$\n",
        "f(x) = x^{2}\n",
        "$$"
      ],
      "metadata": {
        "id": "vS9-IvXzcnwW"
      }
    },
    {
      "cell_type": "markdown",
      "source": [
        "$$\n",
        "\\lim_{x \\to 2} f(x) = 4\n",
        "$$"
      ],
      "metadata": {
        "id": "x9G-r__hdrZu"
      }
    },
    {
      "cell_type": "code",
      "source": [
        "f = x**2\n",
        "f"
      ],
      "metadata": {
        "colab": {
          "base_uri": "https://localhost:8080/",
          "height": 39
        },
        "id": "jP_8F5aBnVvg",
        "outputId": "e4e8585e-e780-43ac-cced-6d9284bc35a1"
      },
      "execution_count": 18,
      "outputs": [
        {
          "output_type": "execute_result",
          "data": {
            "text/plain": [
              "x**2"
            ],
            "text/latex": "$\\displaystyle x^{2}$"
          },
          "metadata": {},
          "execution_count": 18
        }
      ]
    },
    {
      "cell_type": "code",
      "source": [
        "f.subs(x, 2), f.limit(x, 2)"
      ],
      "metadata": {
        "colab": {
          "base_uri": "https://localhost:8080/"
        },
        "id": "T3ykfvNenYrF",
        "outputId": "982d554d-f631-4811-94f9-b95850fd18ba"
      },
      "execution_count": 19,
      "outputs": [
        {
          "output_type": "execute_result",
          "data": {
            "text/plain": [
              "(4, 4)"
            ]
          },
          "metadata": {},
          "execution_count": 19
        }
      ]
    },
    {
      "cell_type": "markdown",
      "source": [
        "### Example"
      ],
      "metadata": {
        "id": "sNLqCjKEetWM"
      }
    },
    {
      "cell_type": "code",
      "source": [
        "x = sym.symbols('x')\n",
        "\n",
        "f = sym.Piecewise((x**2 + 1, x > 0),\n",
        "                  (x + 1, x < 0), \n",
        "                  (3, True))"
      ],
      "metadata": {
        "id": "YNlTQ7SffIrO"
      },
      "execution_count": 20,
      "outputs": []
    },
    {
      "cell_type": "code",
      "source": [
        "print(sym.latex(f))"
      ],
      "metadata": {
        "colab": {
          "base_uri": "https://localhost:8080/"
        },
        "id": "_35TSo3Rf3Hy",
        "outputId": "7b73f6ac-779c-4d3a-8f90-89383748725a"
      },
      "execution_count": 21,
      "outputs": [
        {
          "output_type": "stream",
          "name": "stdout",
          "text": [
            "\\begin{cases} x^{2} + 1 & \\text{for}\\: x > 0 \\\\x + 1 & \\text{for}\\: x < 0 \\\\3 & \\text{otherwise} \\end{cases}\n"
          ]
        }
      ]
    },
    {
      "cell_type": "markdown",
      "source": [
        "$$\n",
        "f(x) = \\begin{cases} x^{2} + 1 & \\text{for}\\: x > 0 \\\\x + 1 & \\text{for}\\: x < 0 \\\\3 & \\text{otherwise} \\end{cases}\n",
        "$$"
      ],
      "metadata": {
        "id": "d2pEhVxDfx5w"
      }
    },
    {
      "cell_type": "code",
      "source": [
        "sym.plot(f, xlim=[-3, 3], ylim=[-3, 3]);"
      ],
      "metadata": {
        "colab": {
          "base_uri": "https://localhost:8080/",
          "height": 297
        },
        "id": "tYiY8iC0fOiz",
        "outputId": "789210dc-97e5-441d-f4d7-59ad137dc147"
      },
      "execution_count": 22,
      "outputs": [
        {
          "output_type": "display_data",
          "data": {
            "text/plain": [
              "<Figure size 432x288 with 1 Axes>"
            ],
            "image/png": "[encoded data removed]"
          },
          "metadata": {
            "needs_background": "light"
          }
        }
      ]
    },
    {
      "cell_type": "markdown",
      "source": [
        "$$\n",
        "f(0) = 3\n",
        "$$\n",
        "\n",
        "$$\n",
        "\\lim_{x \\to 0} f(x) = 1\n",
        "$$"
      ],
      "metadata": {
        "id": "FjjDZ8CpgQPg"
      }
    },
    {
      "cell_type": "code",
      "source": [
        "f.subs(x, 0), f.subs(x, 0.0001), f.subs(x, -0.0001)"
      ],
      "metadata": {
        "colab": {
          "base_uri": "https://localhost:8080/"
        },
        "id": "TKQQugUWiQNk",
        "outputId": "bab4971e-6f15-4e6b-d0d7-41f55691759f"
      },
      "execution_count": 23,
      "outputs": [
        {
          "output_type": "execute_result",
          "data": {
            "text/plain": [
              "(3, 1.00000001000000, 0.999900000000000)"
            ]
          },
          "metadata": {},
          "execution_count": 23
        }
      ]
    },
    {
      "cell_type": "code",
      "source": [
        "f.limit(x, 0)"
      ],
      "metadata": {
        "colab": {
          "base_uri": "https://localhost:8080/",
          "height": 37
        },
        "id": "oPaJWG0ZnkhG",
        "outputId": "6b06fb05-1e74-4e2f-b496-b63fc8b44c3a"
      },
      "execution_count": 24,
      "outputs": [
        {
          "output_type": "execute_result",
          "data": {
            "text/plain": [
              "1"
            ],
            "text/latex": "$\\displaystyle 1$"
          },
          "metadata": {},
          "execution_count": 24
        }
      ]
    },
    {
      "cell_type": "markdown",
      "source": [
        "We can see in the above example, that $f(a)$ need not be the same as $\\lim_{x \\to a} f(x)$. In fact, the function doesn't even need to be defined at $a$ for there to be a limit as $x \\to a$."
      ],
      "metadata": {
        "id": "p6WDNfXyjJ3x"
      }
    },
    {
      "cell_type": "code",
      "source": [],
      "metadata": {
        "id": "MrGalPZy0Ld0"
      },
      "execution_count": 24,
      "outputs": []
    },
    {
      "cell_type": "markdown",
      "source": [
        "### Example\n",
        "\n",
        "$$\n",
        "f(x) = \\frac{\\sin{x}}{x}\n",
        "$$"
      ],
      "metadata": {
        "id": "ttmTiJ2mkika"
      }
    },
    {
      "cell_type": "markdown",
      "source": [
        "$f(0)$ is undefined, but $\\lim_{x \\to 0} f(x) = 1$"
      ],
      "metadata": {
        "id": "KPH_kWg8pcqt"
      }
    },
    {
      "cell_type": "code",
      "source": [
        "f = sym.sin(x) / x\n",
        "f"
      ],
      "metadata": {
        "colab": {
          "base_uri": "https://localhost:8080/",
          "height": 0
        },
        "id": "1HzxEqwGnteI",
        "outputId": "bf2a92dc-f4b7-4c11-c204-61d1d63f5fb6"
      },
      "execution_count": 25,
      "outputs": [
        {
          "output_type": "execute_result",
          "data": {
            "text/plain": [
              "sin(x)/x"
            ],
            "text/latex": "$\\displaystyle \\frac{\\sin{\\left(x \\right)}}{x}$"
          },
          "metadata": {},
          "execution_count": 25
        }
      ]
    },
    {
      "cell_type": "code",
      "source": [
        "f.subs(x, 0), f.limit(x, 0)"
      ],
      "metadata": {
        "colab": {
          "base_uri": "https://localhost:8080/"
        },
        "id": "15FcpmqQnycX",
        "outputId": "d5b4c55a-5b2d-4442-ee81-271fd45d2d43"
      },
      "execution_count": 26,
      "outputs": [
        {
          "output_type": "execute_result",
          "data": {
            "text/plain": [
              "(nan, 1)"
            ]
          },
          "metadata": {},
          "execution_count": 26
        }
      ]
    },
    {
      "cell_type": "code",
      "source": [
        "sym.plot(f);"
      ],
      "metadata": {
        "colab": {
          "base_uri": "https://localhost:8080/",
          "height": 0
        },
        "id": "2oGF8zHdn72F",
        "outputId": "04781740-3fc8-4b26-a159-473357613a82"
      },
      "execution_count": 27,
      "outputs": [
        {
          "output_type": "display_data",
          "data": {
            "text/plain": [
              "<Figure size 432x288 with 1 Axes>"
            ],
            "image/png": "[encoded data removed]"
          },
          "metadata": {
            "needs_background": "light"
          }
        }
      ]
    },
    {
      "cell_type": "markdown",
      "source": [
        "### Finding limits using tables\n",
        "\n",
        "$$\n",
        "f(t) = \\frac{\\sqrt{t^{2} + 9} - 3}{t^{2}}\n",
        "$$"
      ],
      "metadata": {
        "id": "A_J67TK0qIpN"
      }
    },
    {
      "cell_type": "markdown",
      "source": [
        "What is $\\lim_{t \\to 0} f(t)$?"
      ],
      "metadata": {
        "id": "uWBSEGSDqshg"
      }
    },
    {
      "cell_type": "code",
      "source": [
        "t = sym.symbols('t')\n",
        "\n",
        "f = (sym.sqrt(t**2 + 9) - 3) / t**2\n",
        "f"
      ],
      "metadata": {
        "colab": {
          "base_uri": "https://localhost:8080/",
          "height": 0
        },
        "id": "FKt0nD-Nq7B-",
        "outputId": "14aba5d6-f60b-4ec9-d138-27f0d025bd5c"
      },
      "execution_count": 28,
      "outputs": [
        {
          "output_type": "execute_result",
          "data": {
            "text/plain": [
              "(sqrt(t**2 + 9) - 3)/t**2"
            ],
            "text/latex": "$\\displaystyle \\frac{\\sqrt{t^{2} + 9} - 3}{t^{2}}$"
          },
          "metadata": {},
          "execution_count": 28
        }
      ]
    },
    {
      "cell_type": "code",
      "source": [
        "x1 = [(1/n) for n in range(1, 100_000, 1000)]\n",
        "y1 = [f.subs(t, a) for a in x1]"
      ],
      "metadata": {
        "id": "s0_bPOyYspLA"
      },
      "execution_count": 29,
      "outputs": []
    },
    {
      "cell_type": "code",
      "source": [
        "x2 = [(-1/n) for n in range(1, 100_000, 1000)]\n",
        "y2 = [f.subs(t, a) for a in x2]"
      ],
      "metadata": {
        "id": "jnEyifQottiy"
      },
      "execution_count": 30,
      "outputs": []
    },
    {
      "cell_type": "code",
      "source": [
        "plt.plot(x1, y1)\n",
        "plt.plot(x2, y2)\n",
        "\n",
        "plt.show()"
      ],
      "metadata": {
        "colab": {
          "base_uri": "https://localhost:8080/",
          "height": 0
        },
        "id": "wk36FYuEw_w_",
        "outputId": "2f6087f2-7159-417e-e2e5-ff3ad80282ca"
      },
      "execution_count": 31,
      "outputs": [
        {
          "output_type": "display_data",
          "data": {
            "text/plain": [
              "<Figure size 432x288 with 1 Axes>"
            ],
            "image/png": "[encoded data removed]"
          },
          "metadata": {
            "needs_background": "light"
          }
        }
      ]
    },
    {
      "cell_type": "code",
      "source": [
        "f"
      ],
      "metadata": {
        "colab": {
          "base_uri": "https://localhost:8080/",
          "height": 0
        },
        "id": "-tlE_Te_v2by",
        "outputId": "2c8bc967-d4bf-4405-e1fb-9050380213c9"
      },
      "execution_count": 32,
      "outputs": [
        {
          "output_type": "execute_result",
          "data": {
            "text/plain": [
              "(sqrt(t**2 + 9) - 3)/t**2"
            ],
            "text/latex": "$\\displaystyle \\frac{\\sqrt{t^{2} + 9} - 3}{t^{2}}$"
          },
          "metadata": {},
          "execution_count": 32
        }
      ]
    },
    {
      "cell_type": "code",
      "source": [
        "f.subs(t, x1[-1]), f.subs(t, x2[-1]), f.limit(t, 0), f.limit(t, 0).evalf()"
      ],
      "metadata": {
        "colab": {
          "base_uri": "https://localhost:8080/"
        },
        "id": "wnWpHC4Fvn1g",
        "outputId": "0a2953cb-6420-43ee-f16c-a3729743f43d"
      },
      "execution_count": 33,
      "outputs": [
        {
          "output_type": "execute_result",
          "data": {
            "text/plain": [
              "(0.166665646908500, 0.166665646908500, 1/6, 0.166666666666667)"
            ]
          },
          "metadata": {},
          "execution_count": 33
        }
      ]
    },
    {
      "cell_type": "code",
      "source": [
        "sym.plot(f, xlim=[-10, 10], ylim=[-.2, .2]);"
      ],
      "metadata": {
        "colab": {
          "base_uri": "https://localhost:8080/",
          "height": 0
        },
        "id": "u3KM3L6Cz6dG",
        "outputId": "845f6c9c-105d-4f50-f768-19689941be48"
      },
      "execution_count": 34,
      "outputs": [
        {
          "output_type": "display_data",
          "data": {
            "text/plain": [
              "<Figure size 432x288 with 1 Axes>"
            ],
            "image/png": "[encoded data removed]"
          },
          "metadata": {
            "needs_background": "light"
          }
        }
      ]
    },
    {
      "cell_type": "markdown",
      "source": [
        "### Example\n",
        "\n",
        "$\n",
        "f(x) = \\sin{\\frac{\\pi}{x}}\n",
        "$"
      ],
      "metadata": {
        "id": "Ef0kYzIU2KWS"
      }
    },
    {
      "cell_type": "markdown",
      "source": [
        "$\\lim_{x \\to 0} f(x)$ does not exist. "
      ],
      "metadata": {
        "id": "ZimUB1mA5iEW"
      }
    },
    {
      "cell_type": "code",
      "source": [
        "x = sym.symbols('x')\n",
        "\n",
        "f = sym.sin(sym.pi/x)\n",
        "f"
      ],
      "metadata": {
        "colab": {
          "base_uri": "https://localhost:8080/",
          "height": 0
        },
        "id": "o4wm9rEB2XW4",
        "outputId": "955b2cf2-1754-4feb-e4fc-b350a6bdd427"
      },
      "execution_count": 35,
      "outputs": [
        {
          "output_type": "execute_result",
          "data": {
            "text/plain": [
              "sin(pi/x)"
            ],
            "text/latex": "$\\displaystyle \\sin{\\left(\\frac{\\pi}{x} \\right)}$"
          },
          "metadata": {},
          "execution_count": 35
        }
      ]
    },
    {
      "cell_type": "code",
      "source": [
        "sym.plot(f);"
      ],
      "metadata": {
        "colab": {
          "base_uri": "https://localhost:8080/",
          "height": 0
        },
        "id": "cyo1mobd2lsD",
        "outputId": "4ef9ba2a-c6f8-495f-8f98-98a16edaa939"
      },
      "execution_count": 36,
      "outputs": [
        {
          "output_type": "display_data",
          "data": {
            "text/plain": [
              "<Figure size 432x288 with 1 Axes>"
            ],
            "image/png": "[encoded data removed]"
          },
          "metadata": {
            "needs_background": "light"
          }
        }
      ]
    },
    {
      "cell_type": "code",
      "source": [
        "f.subs(x, 0), f.limit(x, 0)"
      ],
      "metadata": {
        "colab": {
          "base_uri": "https://localhost:8080/"
        },
        "id": "YmvnB02o3O3u",
        "outputId": "01a1f4cf-5107-41a2-85bb-355246bc5df4"
      },
      "execution_count": 37,
      "outputs": [
        {
          "output_type": "execute_result",
          "data": {
            "text/plain": [
              "(nan, AccumBounds(-1, 1))"
            ]
          },
          "metadata": {},
          "execution_count": 37
        }
      ]
    },
    {
      "cell_type": "code",
      "source": [
        "f.limit(x, 0, '-'), f.limit(x, 0, '+')"
      ],
      "metadata": {
        "colab": {
          "base_uri": "https://localhost:8080/"
        },
        "id": "jiR-wtSS3mOL",
        "outputId": "6b6c9266-6d38-435d-cf33-020a0e52f256"
      },
      "execution_count": 38,
      "outputs": [
        {
          "output_type": "execute_result",
          "data": {
            "text/plain": [
              "(AccumBounds(-1, 1), AccumBounds(-1, 1))"
            ]
          },
          "metadata": {},
          "execution_count": 38
        }
      ]
    },
    {
      "cell_type": "markdown",
      "source": [
        "### Example: A constant function\n",
        "\n",
        "$f(x) = 5$"
      ],
      "metadata": {
        "id": "mypg4xe46C-I"
      }
    },
    {
      "cell_type": "markdown",
      "source": [
        "$\n",
        "\\lim_{x \\to 0} f(x) = 5\n",
        "$"
      ],
      "metadata": {
        "id": "wpeiQFYJ63EN"
      }
    },
    {
      "cell_type": "markdown",
      "source": [
        "### Example"
      ],
      "metadata": {
        "id": "3gk7v9Qc7X10"
      }
    },
    {
      "cell_type": "markdown",
      "source": [
        "$\n",
        "\\begin{align}\n",
        "\\lim_{x \\to 4} \\left(x^{2} - 4\\right) \n",
        "&= 4^2 - 4 \\\\\n",
        "&= 16 - 4 \\\\\n",
        "&= 12\n",
        "\\end{align}\n",
        "$"
      ],
      "metadata": {
        "id": "MVl0-alZ7vZi"
      }
    },
    {
      "cell_type": "code",
      "source": [
        "x = sym.symbols('x')\n",
        "\n",
        "f = x**2 - 4\n",
        "f"
      ],
      "metadata": {
        "colab": {
          "base_uri": "https://localhost:8080/",
          "height": 0
        },
        "id": "TBgYBP__8C-9",
        "outputId": "22ab6fc7-130f-4628-dfc9-846502cef233"
      },
      "execution_count": 39,
      "outputs": [
        {
          "output_type": "execute_result",
          "data": {
            "text/plain": [
              "x**2 - 4"
            ],
            "text/latex": "$\\displaystyle x^{2} - 4$"
          },
          "metadata": {},
          "execution_count": 39
        }
      ]
    },
    {
      "cell_type": "code",
      "source": [
        "f.limit(x, 4)"
      ],
      "metadata": {
        "colab": {
          "base_uri": "https://localhost:8080/",
          "height": 0
        },
        "id": "1ZNZGd518LIt",
        "outputId": "1a5bbc90-5e18-4b6b-a2c0-c725318b30bb"
      },
      "execution_count": 40,
      "outputs": [
        {
          "output_type": "execute_result",
          "data": {
            "text/plain": [
              "12"
            ],
            "text/latex": "$\\displaystyle 12$"
          },
          "metadata": {},
          "execution_count": 40
        }
      ]
    },
    {
      "cell_type": "markdown",
      "source": [
        "## 3.1.3 Reading: Limits and Rates of Change"
      ],
      "metadata": {
        "id": "24B3vntq9GAS"
      }
    },
    {
      "cell_type": "markdown",
      "source": [
        "### Limits"
      ],
      "metadata": {
        "id": "F3TB7de0yBhT"
      }
    },
    {
      "cell_type": "markdown",
      "source": [
        "#### Intuitive definition of the limit\n",
        "\n",
        "Suppose a function $f(x)$ is defined on some open interval containing the point $a$. The **limit** of $f$ as $x$ approaches $a$ is about the behaviour of the function values $f(x)$ as $x$ gets closer to $a$. \n",
        "\n",
        "There are two possible directions to approach $a$ alnong the x-axis, so there are two different ***one-sided limits***. If on both sides, the function values $f(x)$ approach the same number $L$, then we write\n",
        "\n",
        "$$\n",
        "\\lim_{x \\to a} f(x) = L\n",
        "$$\n",
        "\n",
        "which is read, \"the limit of $f(x)$, as $x$ approaches $a$, equals $L$.\" This means that as $x$ gets closer to $a$ from either direction, the vlues of $f(x)$ get closer and closer to $L$. \n",
        "\n",
        "Note that the limit depends only on the behaviour *close* to $a$, not at $a$. $f(a)$ need not be defined for the $\\lim_{a \\to a} f(x)$ to exist, andm the limit need not equal $f(a)$. "
      ],
      "metadata": {
        "id": "dWmrbkiIyD3C"
      }
    },
    {
      "cell_type": "markdown",
      "source": [
        "#### Limits and infinity\n",
        "\n",
        "If a function's values become very large positive numbers as $x$ gets close to $a$, then we say, $\\lim_{x \\to a} = \\infty$. \n",
        "\n",
        "Similary, if a function's values become very large negative numbers as $x$ gets close to $a$, then we say $\\lim_{x \\to a} f(x) = -\\infty$. \n",
        "\n",
        "For example, $\\lim_{x \\to 0} \\ln{x} = -\\infty$"
      ],
      "metadata": {
        "id": "QnB5vlK_0TAa"
      }
    },
    {
      "cell_type": "code",
      "source": [
        "sym.plot(sym.ln(x));"
      ],
      "metadata": {
        "colab": {
          "base_uri": "https://localhost:8080/",
          "height": 297
        },
        "id": "UUyW_9ff2DK5",
        "outputId": "863d1de1-ecff-4314-9bdf-0e82de05a29a"
      },
      "execution_count": 41,
      "outputs": [
        {
          "output_type": "display_data",
          "data": {
            "text/plain": [
              "<Figure size 432x288 with 1 Axes>"
            ],
            "image/png": "[encoded data removed]"
          },
          "metadata": {
            "needs_background": "light"
          }
        }
      ]
    },
    {
      "cell_type": "markdown",
      "source": [
        "Similarly, we can examine the limits of a function $f(x)$ at $\\infty$ or $-\\infty$, that is, as $x$ becomes a very large positive number or a very large negative number. \n",
        "\n",
        "For example, $\\lim_{x \\to -\\infty} e^{x} = 0$. "
      ],
      "metadata": {
        "id": "SIiH9BHZ2Vsg"
      }
    },
    {
      "cell_type": "code",
      "source": [
        "sym.plot(sym.exp(x));"
      ],
      "metadata": {
        "colab": {
          "base_uri": "https://localhost:8080/",
          "height": 296
        },
        "id": "yHUAmbAg23lR",
        "outputId": "f507a32c-bfe5-4b56-9d17-c295ae6794b7"
      },
      "execution_count": 42,
      "outputs": [
        {
          "output_type": "display_data",
          "data": {
            "text/plain": [
              "<Figure size 432x288 with 1 Axes>"
            ],
            "image/png": "[encoded data removed]"
          },
          "metadata": {
            "needs_background": "light"
          }
        }
      ]
    },
    {
      "cell_type": "markdown",
      "source": [
        "Remember that $\\infty$ and $-\\infty$ are **not numbers**. They are just a way for us to discuss a function's behaviour. "
      ],
      "metadata": {
        "id": "yA8PlpdS3DBb"
      }
    },
    {
      "cell_type": "markdown",
      "source": [
        "#### Rates of Change\n",
        "\n",
        "The **average rate of change** of the function $f(x)$ on the interval $x = a$ to $x = b$ is:\n",
        "\n",
        "$$\n",
        "\\frac{\\Delta{f}}{\\Delta{x}} = \\frac{f(b) - f(a)}{b - a}\n",
        "$$\n",
        "\n",
        "The **instantaneous rate of change** of the function $f(x)$ at $x = c$ is the limit of the average rates of change of $f$ over shorter and shorter intervals containing $c$. \n",
        "\n",
        "The instantaneous rate of change of $f$ at $x = c$ is also called the **derivative** which is denoted by $f'(c)$."
      ],
      "metadata": {
        "id": "HiCcu2G_4z9H"
      }
    },
    {
      "cell_type": "markdown",
      "source": [
        "#### Limit definition of the derivative\n",
        "\n",
        "$$\n",
        "f'(c) = \\lim_{h \\to 0} \\frac{f(c + h) - f(c)}{h}\n",
        "$$"
      ],
      "metadata": {
        "id": "IwMhTW3I6c2q"
      }
    },
    {
      "cell_type": "markdown",
      "source": [
        "$[c, c + h]$ is an interval containing $c$. "
      ],
      "metadata": {
        "id": "zlAiWki87alz"
      }
    },
    {
      "cell_type": "markdown",
      "source": [
        "$$\n",
        "\\frac{f(c + h) - f(c)}{(c + h) - c} =\n",
        "\\frac{f(c + h) - f(c)}{h}\n",
        "$$\n",
        "\n",
        "As $h$ goes to $0$, the interval gets shorter and shorter. "
      ],
      "metadata": {
        "id": "YlOqVNAT7tNJ"
      }
    },
    {
      "cell_type": "markdown",
      "source": [
        "#### Visualizing rates of change\n",
        "\n",
        "The average rate of change from $x = a$ to $x = b$ is the slope of the line between the two points, $(a, f(a))$ and $(b, f(b))$. Such a line, intersecting the graph of a function at two points, is called a **secant line**. \n",
        "\n",
        "Consider the point $P(c, f(c))$ on the graph of $f$. For some positive value of $h$, let $Q(c + h, f(c + h))$ be another point on the graph. Then draw the secant line between $P$ and $Q$. \n",
        "\n",
        "As $h$ gets smaller and smaller, the point $Q$ gets closer and closer to the point $P$ and the secant line between $P$ and $Q$ gets closer and closer to the **tangent line to the graph of** $f$ **at** $P$. This is the line that touches the graph of $f$ at the point $P$, and has the same slope as the graph of $f$ at that point. \n",
        "\n",
        "<img src='https://drive.google.com/uc?export=view&id=113UoUGufJ7vFkyaYA7y46HcggT-hl607'> "
      ],
      "metadata": {
        "id": "T4uVvVyQ9Ylt"
      }
    },
    {
      "cell_type": "markdown",
      "source": [
        "#### Summary\n",
        "\n",
        "The **average rate of change** over an interval is equal to the slope of the secant line between the two points.\n",
        "\n",
        "The **instantaneous rate of change** at a value is equal to the slope of the tangent line at a point. "
      ],
      "metadata": {
        "id": "EJ79dzZXEcaf"
      }
    },
    {
      "cell_type": "markdown",
      "source": [
        "## 3.1.4 Theory: Limits Involving Infinity"
      ],
      "metadata": {
        "id": "LgKiJoFME7s-"
      }
    },
    {
      "cell_type": "markdown",
      "source": [
        "### Example\n",
        "\n",
        "$f(x) = \\frac{1}{x^{2}}$"
      ],
      "metadata": {
        "id": "2nKqlBHyPECF"
      }
    },
    {
      "cell_type": "code",
      "source": [
        "x = sym.symbols('x')\n",
        "f = 1 / x**2\n",
        "f"
      ],
      "metadata": {
        "colab": {
          "base_uri": "https://localhost:8080/",
          "height": 51
        },
        "id": "2wHDixZ6O_yC",
        "outputId": "32d9486b-7ec5-48b3-ab8a-abece1f5a544"
      },
      "execution_count": 43,
      "outputs": [
        {
          "output_type": "execute_result",
          "data": {
            "text/plain": [
              "x**(-2)"
            ],
            "text/latex": "$\\displaystyle \\frac{1}{x^{2}}$"
          },
          "metadata": {},
          "execution_count": 43
        }
      ]
    },
    {
      "cell_type": "code",
      "source": [
        "sym.plot(f, xlim=[-6, 6], ylim=[-1, 6]);"
      ],
      "metadata": {
        "colab": {
          "base_uri": "https://localhost:8080/",
          "height": 297
        },
        "id": "f1r6eO5lPQJU",
        "outputId": "be4d4996-8c08-456c-8a63-251b3ba90bd8"
      },
      "execution_count": 44,
      "outputs": [
        {
          "output_type": "display_data",
          "data": {
            "text/plain": [
              "<Figure size 432x288 with 1 Axes>"
            ],
            "image/png": "[encoded data removed]"
          },
          "metadata": {
            "needs_background": "light"
          }
        }
      ]
    },
    {
      "cell_type": "code",
      "source": [
        "# dir='+' is the default\n",
        "(f.limit(x, sym.oo),\n",
        " f.limit(x, -sym.oo))"
      ],
      "metadata": {
        "colab": {
          "base_uri": "https://localhost:8080/"
        },
        "id": "1dbXYTykYTSp",
        "outputId": "3098274f-2ab5-4fa8-94cb-f69de1a6f425"
      },
      "execution_count": 45,
      "outputs": [
        {
          "output_type": "execute_result",
          "data": {
            "text/plain": [
              "(0, 0)"
            ]
          },
          "metadata": {},
          "execution_count": 45
        }
      ]
    },
    {
      "cell_type": "markdown",
      "source": [
        "$\n",
        "\\lim_{x \\to \\infty} \\frac{1}{x^{2}} = 0\n",
        "$"
      ],
      "metadata": {
        "id": "OCxgSrR_WqUA"
      }
    },
    {
      "cell_type": "markdown",
      "source": [
        "$\n",
        "\\lim_{x \\to -\\infty} \\frac{1}{x^{2}} = 0\n",
        "$"
      ],
      "metadata": {
        "id": "T9chtneSW3P3"
      }
    },
    {
      "cell_type": "code",
      "source": [
        "(f.limit(x, 0, dir='-'),\n",
        " f.limit(x, 0, dir='+'),\n",
        " f.limit(x, 0, dir='-'),\n",
        " f.limit(x, 0, dir='+'))"
      ],
      "metadata": {
        "colab": {
          "base_uri": "https://localhost:8080/"
        },
        "id": "24EWqyvXcYhH",
        "outputId": "dfd82b78-71c6-4e27-ee45-b211044abc48"
      },
      "execution_count": 46,
      "outputs": [
        {
          "output_type": "execute_result",
          "data": {
            "text/plain": [
              "(oo, oo, oo, oo)"
            ]
          },
          "metadata": {},
          "execution_count": 46
        }
      ]
    },
    {
      "cell_type": "markdown",
      "source": [
        "$\n",
        "\\lim_{x \\to 0+} \\frac{1}{x^{2}} = \\infty\n",
        "$\n",
        "\n",
        "$\n",
        "\\lim_{x \\to 0-} \\frac{1}{x^{2}} = \\infty\n",
        "$\n",
        "\n",
        "The limit from the right is equal to the limit from the left.\n",
        "\n",
        "$\\therefore$\n",
        "\n",
        "$\n",
        "\\lim_{x \\to 0} \\frac{1}{x^{2}} = \\infty\n",
        "$\n",
        "\n",
        "**NOTE:** When we say the limit is \"equal to\" infinity, we are really saying that the limit does not exist. It is a special case of **DNE**, and it is more informative. "
      ],
      "metadata": {
        "id": "rNt-QjKuchW2"
      }
    },
    {
      "cell_type": "markdown",
      "source": [
        "### Vertical Asymptotes"
      ],
      "metadata": {
        "id": "Q2X1259JfMU9"
      }
    },
    {
      "cell_type": "markdown",
      "source": [
        "#### Definition\n",
        "\n",
        "The line $x = a$ is a **vertical asymptote** of $y = f(x)$ if at least one of the following is true.\n",
        "\n",
        "1. $\\lim_{x \\to a} f(x) = \\pm\\infty$\n",
        "2. $\\lim_{x \\to a+} f(x) = \\pm\\infty$\n",
        "3. $\\lim_{x \\to a-} f(x) = \\pm\\infty$"
      ],
      "metadata": {
        "id": "-BYJgkSYguMi"
      }
    },
    {
      "cell_type": "markdown",
      "source": [
        "#### Examples"
      ],
      "metadata": {
        "id": "ucomT1_7iJBv"
      }
    },
    {
      "cell_type": "code",
      "source": [
        "x = sym.symbols('x')\n",
        "f = 1 / x**2\n",
        "\n",
        "sym.plot(f, \n",
        "         xlim=[-6, 6], \n",
        "         ylim=[-1, 6],\n",
        "         title='Has vertical asymptote $x = 0$\\n');"
      ],
      "metadata": {
        "colab": {
          "base_uri": "https://localhost:8080/",
          "height": 297
        },
        "id": "br_plyHciNvq",
        "outputId": "6fb89494-800e-4fcf-e7ab-1f88e9802b31"
      },
      "execution_count": 47,
      "outputs": [
        {
          "output_type": "display_data",
          "data": {
            "text/plain": [
              "<Figure size 432x288 with 1 Axes>"
            ],
            "image/png": "[encoded data removed]"
          },
          "metadata": {
            "needs_background": "light"
          }
        }
      ]
    },
    {
      "cell_type": "code",
      "source": [
        "x = sym.symbols('x')\n",
        "f = sym.exp(x)\n",
        "\n",
        "sym.plot(f, \n",
        "         xlim=[-5, 5], \n",
        "         ylim=[-5, 5],\n",
        "         title='Has horizontal asymptote $y = 0$\\n');"
      ],
      "metadata": {
        "colab": {
          "base_uri": "https://localhost:8080/",
          "height": 297
        },
        "id": "3oL4MJ_tjBsU",
        "outputId": "dd3d66df-fa1b-4fdb-ac36-706d456f1e59"
      },
      "execution_count": 48,
      "outputs": [
        {
          "output_type": "display_data",
          "data": {
            "text/plain": [
              "<Figure size 432x288 with 1 Axes>"
            ],
            "image/png": "[encoded data removed]"
          },
          "metadata": {
            "needs_background": "light"
          }
        }
      ]
    },
    {
      "cell_type": "code",
      "source": [
        "# this is the inverse of the the previous example\n",
        "x = sym.symbols('x')\n",
        "f = sym.ln(x)\n",
        "\n",
        "sym.plot(f, \n",
        "         xlim=[-5, 5],\n",
        "         ylim=[-5, 5],\n",
        "         title='Has vertical asymptote $x = 0$\\n');"
      ],
      "metadata": {
        "colab": {
          "base_uri": "https://localhost:8080/",
          "height": 297
        },
        "id": "-t1RNsIAj1Tx",
        "outputId": "8c83c0e1-f4a7-4b55-d87a-77475d66d459"
      },
      "execution_count": 49,
      "outputs": [
        {
          "output_type": "display_data",
          "data": {
            "text/plain": [
              "<Figure size 432x288 with 1 Axes>"
            ],
            "image/png": "[encoded data removed]"
          },
          "metadata": {
            "needs_background": "light"
          }
        }
      ]
    },
    {
      "cell_type": "code",
      "source": [
        "# because of the domain restriction\n",
        "#  the 2-sided limit does not exist\n",
        "# but we have a 1-sided limit from the right\n",
        "f.limit(x, 0, '+')"
      ],
      "metadata": {
        "colab": {
          "base_uri": "https://localhost:8080/",
          "height": 37
        },
        "id": "qv-iRRalkpLu",
        "outputId": "f053f34c-7777-43b3-bcf3-91e273649801"
      },
      "execution_count": 50,
      "outputs": [
        {
          "output_type": "execute_result",
          "data": {
            "text/plain": [
              "-oo"
            ],
            "text/latex": "$\\displaystyle -\\infty$"
          },
          "metadata": {},
          "execution_count": 50
        }
      ]
    },
    {
      "cell_type": "code",
      "source": [
        "x = sym.symbols('x')\n",
        "f = sym.tan(x)\n",
        "\n",
        "sym.plot(f,\n",
        "         xlim=[-3*sym.pi, 3*sym.pi], \n",
        "         ylim=[-10, 10],\n",
        "         title='Infinitely many vertical asymptotes\\n');"
      ],
      "metadata": {
        "colab": {
          "base_uri": "https://localhost:8080/",
          "height": 297
        },
        "id": "Lk-ZOQ_UnEuB",
        "outputId": "c5cc6d19-a6fb-4534-fada-bbe880142880"
      },
      "execution_count": 51,
      "outputs": [
        {
          "output_type": "display_data",
          "data": {
            "text/plain": [
              "<Figure size 432x288 with 1 Axes>"
            ],
            "image/png": "[encoded data removed]"
          },
          "metadata": {
            "needs_background": "light"
          }
        }
      ]
    },
    {
      "cell_type": "code",
      "source": [
        "(sym.limit(f, x, sym.pi/2, '-'),\n",
        " sym.limit(f, x, sym.pi/2, '+'))"
      ],
      "metadata": {
        "colab": {
          "base_uri": "https://localhost:8080/"
        },
        "id": "pnYXkM4an5VE",
        "outputId": "e5e53615-e32c-4731-d928-d57338c7a61d"
      },
      "execution_count": 52,
      "outputs": [
        {
          "output_type": "execute_result",
          "data": {
            "text/plain": [
              "(oo, -oo)"
            ]
          },
          "metadata": {},
          "execution_count": 52
        }
      ]
    },
    {
      "cell_type": "markdown",
      "source": [
        "$\n",
        "\\lim_{x \\to \\frac{\\pi}{2}^{-}} \\tan{x} = \\infty\n",
        "$\n",
        "\n",
        "$\n",
        "\\lim_{x \\to \\frac{\\pi}{2}^{+}} \\tan{x} = -\\infty\n",
        "$\n",
        "\n",
        "The 2-sided limit does not exist."
      ],
      "metadata": {
        "id": "WuMqWjoTo-Ce"
      }
    },
    {
      "cell_type": "code",
      "source": [
        "x = sym.symbols('x')\n",
        "f = sym.ln(sym.ln(x))\n",
        "f"
      ],
      "metadata": {
        "colab": {
          "base_uri": "https://localhost:8080/",
          "height": 39
        },
        "id": "qNYwnyi8rYTr",
        "outputId": "c4ba375d-5a39-4580-c545-ef6d129c6e95"
      },
      "execution_count": 53,
      "outputs": [
        {
          "output_type": "execute_result",
          "data": {
            "text/plain": [
              "log(log(x))"
            ],
            "text/latex": "$\\displaystyle \\log{\\left(\\log{\\left(x \\right)} \\right)}$"
          },
          "metadata": {},
          "execution_count": 53
        }
      ]
    },
    {
      "cell_type": "code",
      "source": [
        "sym.plot(f, \n",
        "         xlim=[-10, 10], \n",
        "         ylim=[-10, 10]);"
      ],
      "metadata": {
        "colab": {
          "base_uri": "https://localhost:8080/",
          "height": 297
        },
        "id": "FoYzgfJlryVY",
        "outputId": "f9979f8b-e525-4bb0-da85-218a075b1e6b"
      },
      "execution_count": 54,
      "outputs": [
        {
          "output_type": "display_data",
          "data": {
            "text/plain": [
              "<Figure size 432x288 with 1 Axes>"
            ],
            "image/png": "[encoded data removed]"
          },
          "metadata": {
            "needs_background": "light"
          }
        }
      ]
    },
    {
      "cell_type": "code",
      "source": [
        "f.limit(x, 1, '+')"
      ],
      "metadata": {
        "colab": {
          "base_uri": "https://localhost:8080/",
          "height": 37
        },
        "id": "SRlbXBBxsGMs",
        "outputId": "b172435d-be2a-4421-fa1b-b63b53ad4ef9"
      },
      "execution_count": 55,
      "outputs": [
        {
          "output_type": "execute_result",
          "data": {
            "text/plain": [
              "-oo"
            ],
            "text/latex": "$\\displaystyle -\\infty$"
          },
          "metadata": {},
          "execution_count": 55
        }
      ]
    },
    {
      "cell_type": "markdown",
      "source": [
        "$\n",
        "\\lim_{x \\to 1^{+}} \\ln{\\left(\\ln{x}\\right)} = -\\infty\n",
        "$"
      ],
      "metadata": {
        "id": "2aK7_Rr_slEd"
      }
    },
    {
      "cell_type": "markdown",
      "source": [
        "Recall that $\\ln{1} = 0$, which gives us another way to look at this problem:"
      ],
      "metadata": {
        "id": "dtj4GbPJuI7c"
      }
    },
    {
      "cell_type": "markdown",
      "source": [
        "$\n",
        "\\lim_{x \\to 0^{+}} \\ln{x} \n",
        "$"
      ],
      "metadata": {
        "id": "yjrGffn3uXxt"
      }
    },
    {
      "cell_type": "code",
      "source": [
        "sym.plot(sym.ln(x));"
      ],
      "metadata": {
        "colab": {
          "base_uri": "https://localhost:8080/",
          "height": 297
        },
        "id": "l-4fqomdvisR",
        "outputId": "bc52467e-ec08-4621-ecdb-ca74c1874ddd"
      },
      "execution_count": 56,
      "outputs": [
        {
          "output_type": "display_data",
          "data": {
            "text/plain": [
              "<Figure size 432x288 with 1 Axes>"
            ],
            "image/png": "[encoded data removed]"
          },
          "metadata": {
            "needs_background": "light"
          }
        }
      ]
    },
    {
      "cell_type": "code",
      "source": [
        "sym.limit(sym.ln(x), x, 0, '+')"
      ],
      "metadata": {
        "colab": {
          "base_uri": "https://localhost:8080/",
          "height": 37
        },
        "id": "vsMtJNbzvqq8",
        "outputId": "96260d5a-22fd-4dfe-bbc0-0e1e84f95529"
      },
      "execution_count": 57,
      "outputs": [
        {
          "output_type": "execute_result",
          "data": {
            "text/plain": [
              "-oo"
            ],
            "text/latex": "$\\displaystyle -\\infty$"
          },
          "metadata": {},
          "execution_count": 57
        }
      ]
    },
    {
      "cell_type": "markdown",
      "source": [
        "### Limits at infinity: $x \\to \\infty$\n",
        "\n",
        "Can a function \"touch\" it's horizontal asymptote?\n",
        "\n",
        "Yes, it may not touch the asymptote as $x \\to \\infty$ but it can touch it somewhere else.\n",
        "\n",
        "Also, an oscillating function can touch it's aymptote an infinite number of times as $x \\to \\infty$. "
      ],
      "metadata": {
        "id": "MgRtFIqLwhO9"
      }
    },
    {
      "cell_type": "markdown",
      "source": [
        "## 3.1.5 Theory: One-Sided Limits"
      ],
      "metadata": {
        "id": "rcvugnlk0Y2i"
      }
    },
    {
      "cell_type": "markdown",
      "source": [
        "### Example\n",
        "\n",
        "$\n",
        "f(x) = \\sqrt{x}\n",
        "$\n",
        "\n",
        "$\n",
        "\\lim_{x \\to 0^{+}} = 0\n",
        "$"
      ],
      "metadata": {
        "id": "IY1wwFWWEQre"
      }
    },
    {
      "cell_type": "code",
      "source": [
        "x = sym.symbols('x')\n",
        "\n",
        "f = sym.sqrt(x)\n",
        "f"
      ],
      "metadata": {
        "colab": {
          "base_uri": "https://localhost:8080/",
          "height": 37
        },
        "id": "pJ_S2XKBEfs3",
        "outputId": "50228679-c0f3-47ac-b910-65ef03a44275"
      },
      "execution_count": 58,
      "outputs": [
        {
          "output_type": "execute_result",
          "data": {
            "text/plain": [
              "sqrt(x)"
            ],
            "text/latex": "$\\displaystyle \\sqrt{x}$"
          },
          "metadata": {},
          "execution_count": 58
        }
      ]
    },
    {
      "cell_type": "code",
      "source": [
        "sym.plot(f);"
      ],
      "metadata": {
        "colab": {
          "base_uri": "https://localhost:8080/",
          "height": 297
        },
        "id": "PhEEk-a6Ehso",
        "outputId": "e1ea232c-5352-42af-c2bc-615a0b456924"
      },
      "execution_count": 59,
      "outputs": [
        {
          "output_type": "display_data",
          "data": {
            "text/plain": [
              "<Figure size 432x288 with 1 Axes>"
            ],
            "image/png": "[encoded data removed]"
          },
          "metadata": {
            "needs_background": "light"
          }
        }
      ]
    },
    {
      "cell_type": "code",
      "source": [
        "f.limit(x, 0, '+')"
      ],
      "metadata": {
        "colab": {
          "base_uri": "https://localhost:8080/",
          "height": 37
        },
        "id": "hmvcP8yfFCGB",
        "outputId": "07b94064-77f0-4341-f994-2538e4a0f10c"
      },
      "execution_count": 60,
      "outputs": [
        {
          "output_type": "execute_result",
          "data": {
            "text/plain": [
              "0"
            ],
            "text/latex": "$\\displaystyle 0$"
          },
          "metadata": {},
          "execution_count": 60
        }
      ]
    },
    {
      "cell_type": "markdown",
      "source": [
        "### Requirement for two-sided limits\n",
        "\n",
        "For $\\lim_{x \\to a} f(x)$ to exist, it must be the same value, $L$, if you approach from the left or the right."
      ],
      "metadata": {
        "id": "fyNcSVVMFitx"
      }
    },
    {
      "cell_type": "markdown",
      "source": [
        "$$\n",
        "\\lim_{x \\to a} f(x) = L \\iff \\lim_{x \\to a^{+}} f(x) = \\lim_{x \\to a^{-}} f(x) = L\n",
        "$$"
      ],
      "metadata": {
        "id": "Ji7rIBtKHcBZ"
      }
    },
    {
      "cell_type": "markdown",
      "source": [
        "#### Example\n",
        "\n",
        "$\n",
        "f(x) = \\frac{\\left|x\\right|}{x}\n",
        "$"
      ],
      "metadata": {
        "id": "1YnRwKDjKlWk"
      }
    },
    {
      "cell_type": "code",
      "source": [
        "x = sym.symbols('x')\n",
        "\n",
        "f = sym.Abs(x) / x\n",
        "f"
      ],
      "metadata": {
        "colab": {
          "base_uri": "https://localhost:8080/",
          "height": 53
        },
        "id": "OFtFGpzgK6JH",
        "outputId": "2a74a63b-d596-4c95-c8c1-c8014564decf"
      },
      "execution_count": 61,
      "outputs": [
        {
          "output_type": "execute_result",
          "data": {
            "text/plain": [
              "Abs(x)/x"
            ],
            "text/latex": "$\\displaystyle \\frac{\\left|{x}\\right|}{x}$"
          },
          "metadata": {},
          "execution_count": 61
        }
      ]
    },
    {
      "cell_type": "code",
      "source": [
        "sym.plot(f, \n",
        "         xlim=[-3, 3], \n",
        "         ylim=[-3, 3],\n",
        "         title = '$f(x) = ' + sym.latex(f) + '$\\n');"
      ],
      "metadata": {
        "colab": {
          "base_uri": "https://localhost:8080/",
          "height": 297
        },
        "id": "6oQdmL3tLCjk",
        "outputId": "ae80a0aa-1c19-4709-ccce-c5f2447233f2"
      },
      "execution_count": 62,
      "outputs": [
        {
          "output_type": "display_data",
          "data": {
            "text/plain": [
              "<Figure size 432x288 with 1 Axes>"
            ],
            "image/png": "[encoded data removed]"
          },
          "metadata": {
            "needs_background": "light"
          }
        }
      ]
    },
    {
      "cell_type": "code",
      "source": [
        "f.limit(x, 0, '-'), f.limit(x, 0, '+')"
      ],
      "metadata": {
        "colab": {
          "base_uri": "https://localhost:8080/"
        },
        "id": "FKlImMS-LiX7",
        "outputId": "c2393619-acd6-4a5b-dc89-8121c0af411f"
      },
      "execution_count": 63,
      "outputs": [
        {
          "output_type": "execute_result",
          "data": {
            "text/plain": [
              "(-1, 1)"
            ]
          },
          "metadata": {},
          "execution_count": 63
        }
      ]
    },
    {
      "cell_type": "markdown",
      "source": [
        "$\\lim_{x \\to 0^{-}} \\frac{\\left|x\\right|}{x} = -1$ and $\\lim_{x \\to 0^{+}} \\frac{\\left|x\\right|}{x} = 1$\n",
        "\n",
        "<br>\n",
        "\n",
        "$\\lim_{x \\to 0} \\frac{\\left|x\\right|}{x}$ does not exist."
      ],
      "metadata": {
        "id": "uq7w44GpLyBy"
      }
    },
    {
      "cell_type": "code",
      "source": [
        "the_domain = sym.calculus.util.continuous_domain(f, x, sym.S.Reals)\n",
        "the_domain"
      ],
      "metadata": {
        "colab": {
          "base_uri": "https://localhost:8080/",
          "height": 37
        },
        "id": "ifMHc1_3NVMU",
        "outputId": "5d69c323-8de4-488b-e174-e51bc4e80532"
      },
      "execution_count": 64,
      "outputs": [
        {
          "output_type": "execute_result",
          "data": {
            "text/plain": [
              "Union(Interval.open(-oo, 0), Interval.open(0, oo))"
            ],
            "text/latex": "$\\displaystyle \\left(-\\infty, 0\\right) \\cup \\left(0, \\infty\\right)$"
          },
          "metadata": {},
          "execution_count": 64
        }
      ]
    },
    {
      "cell_type": "markdown",
      "source": [
        "## 3.1.6 Examples to Find Limits"
      ],
      "metadata": {
        "id": "cwh-7IdbUBuX"
      }
    },
    {
      "cell_type": "markdown",
      "source": [
        "$\n",
        "\\begin{align}\n",
        "\\lim_{x \\to 5} {\\frac{x^{2} - 6x + 5}{x - 5}}\n",
        "&= \\lim_{x \\to 5} {\\frac{(x - 5)(x - 1)}{x - 5}} \\\\\n",
        "&= \\lim_{x \\to 5}{(x - 1)} \\\\\n",
        "&= 5 - 1 \\\\\n",
        "&= 4\n",
        "\\end{align}\n",
        "$"
      ],
      "metadata": {
        "id": "2G7f1xRp2ojr"
      }
    },
    {
      "cell_type": "code",
      "source": [
        "x = sym.symbols('x')\n",
        "\n",
        "f = (x**2 - 6*x + 5) / (x - 5)\n",
        "f"
      ],
      "metadata": {
        "colab": {
          "base_uri": "https://localhost:8080/",
          "height": 55
        },
        "id": "0JUvvP7T4D8w",
        "outputId": "32966ac7-990c-4cda-ded5-009329eb37f6"
      },
      "execution_count": 65,
      "outputs": [
        {
          "output_type": "execute_result",
          "data": {
            "text/plain": [
              "(x**2 - 6*x + 5)/(x - 5)"
            ],
            "text/latex": "$\\displaystyle \\frac{x^{2} - 6 x + 5}{x - 5}$"
          },
          "metadata": {},
          "execution_count": 65
        }
      ]
    },
    {
      "cell_type": "code",
      "source": [
        "f.limit(x, 5)"
      ],
      "metadata": {
        "colab": {
          "base_uri": "https://localhost:8080/",
          "height": 37
        },
        "id": "M6GjTb-k4P3M",
        "outputId": "3d4f0f2c-1e97-49f9-c2e9-cd7119e9a70b"
      },
      "execution_count": 66,
      "outputs": [
        {
          "output_type": "execute_result",
          "data": {
            "text/plain": [
              "4"
            ],
            "text/latex": "$\\displaystyle 4$"
          },
          "metadata": {},
          "execution_count": 66
        }
      ]
    },
    {
      "cell_type": "code",
      "source": [
        "f.subs(x, 5), f.factor().subs(x, 5)"
      ],
      "metadata": {
        "colab": {
          "base_uri": "https://localhost:8080/"
        },
        "id": "KjMDGdKZ47n1",
        "outputId": "e142bad1-6cc4-448f-c316-755e2ef4e15c"
      },
      "execution_count": 67,
      "outputs": [
        {
          "output_type": "execute_result",
          "data": {
            "text/plain": [
              "(nan, 4)"
            ]
          },
          "metadata": {},
          "execution_count": 67
        }
      ]
    },
    {
      "cell_type": "markdown",
      "source": [
        "$\n",
        "\\begin{align}\n",
        "\\lim_{h \\to 0}{\\frac{(4 + h)^{2} - 16}{h}}\n",
        "&= \\lim_{h \\to 0}{\\frac{16 + 8h + h^{2} - 16}{h}} \\\\\n",
        "&= \\lim_{h \\to 0}{\\frac{h^{2} + 8h}{h}} \\\\\n",
        "&= \\lim_{h \\to 0}{(h + 8)} \\\\\n",
        "&= 0 + 8 \\\\\n",
        "&= 8\n",
        "\\end{align}\n",
        "$"
      ],
      "metadata": {
        "id": "4_SU_ur-5jO7"
      }
    },
    {
      "cell_type": "code",
      "source": [
        "h = sym.symbols('h')\n",
        "\n",
        "f = ((4 + h)**2 - 16) / h\n",
        "f"
      ],
      "metadata": {
        "colab": {
          "base_uri": "https://localhost:8080/",
          "height": 56
        },
        "id": "QTY1bNqGAgUt",
        "outputId": "301f5122-be7a-455a-9bed-6b7d47cc58bd"
      },
      "execution_count": 68,
      "outputs": [
        {
          "output_type": "execute_result",
          "data": {
            "text/plain": [
              "((h + 4)**2 - 16)/h"
            ],
            "text/latex": "$\\displaystyle \\frac{\\left(h + 4\\right)^{2} - 16}{h}$"
          },
          "metadata": {},
          "execution_count": 68
        }
      ]
    },
    {
      "cell_type": "code",
      "source": [
        "f.limit(h, 0)"
      ],
      "metadata": {
        "colab": {
          "base_uri": "https://localhost:8080/",
          "height": 37
        },
        "id": "S83F40iCA-CV",
        "outputId": "6e38df1e-2a99-4749-f847-69bf5ce74d16"
      },
      "execution_count": 69,
      "outputs": [
        {
          "output_type": "execute_result",
          "data": {
            "text/plain": [
              "8"
            ],
            "text/latex": "$\\displaystyle 8$"
          },
          "metadata": {},
          "execution_count": 69
        }
      ]
    },
    {
      "cell_type": "markdown",
      "source": [
        "$\n",
        "\\begin{align}\n",
        "\\lim_{x \\to 0}{\\frac{\\frac{1}{4} + \\frac{1}{x}}{4 + x}}\n",
        "&= \\lim_{x \\to 0}{{\\frac{\\frac{x}{4x} + \\frac{4}{4x}}{4 + x}}} \\\\\n",
        "&= \\lim_{x \\to 0}{\\frac{{\\frac{x + 4}{4x}}}{x + 4}} \\\\\n",
        "&= \\lim_{x \\to 0}{\\frac{x + 4}{4x}\\cdot\\frac{1}{x + 4}} \\\\\n",
        "&= \\lim_{x \\to 0}{\\frac{1}{4x}} \\\\\n",
        "&= \\frac{1}{4}\\cdot\\lim_{x \\to 0}{\\frac{1}{x}} \\\\\n",
        "&= DNE\n",
        "\\end{align} \\\\\n",
        "$"
      ],
      "metadata": {
        "id": "bZP32LloDsrH"
      }
    },
    {
      "cell_type": "markdown",
      "source": [
        "The reason this limit does not exist is because the limit from the right is not equal to the limit from the left."
      ],
      "metadata": {
        "id": "Snn3rbp0IHtM"
      }
    },
    {
      "cell_type": "code",
      "source": [
        "x = sym.symbols('x')\n",
        "\n",
        "f = 1/x\n",
        "f"
      ],
      "metadata": {
        "colab": {
          "base_uri": "https://localhost:8080/",
          "height": 51
        },
        "id": "Xc25LTqVHdUt",
        "outputId": "95888852-ad22-4ba2-8792-3ec02c6b803b"
      },
      "execution_count": 70,
      "outputs": [
        {
          "output_type": "execute_result",
          "data": {
            "text/plain": [
              "1/x"
            ],
            "text/latex": "$\\displaystyle \\frac{1}{x}$"
          },
          "metadata": {},
          "execution_count": 70
        }
      ]
    },
    {
      "cell_type": "code",
      "source": [
        "sym.plot(1/x, xlim=[-3, 3], ylim=[-3, 3]);"
      ],
      "metadata": {
        "colab": {
          "base_uri": "https://localhost:8080/",
          "height": 297
        },
        "id": "e0tlKsGsH0XN",
        "outputId": "35d121cf-ee51-476e-b7b4-3162c08f6332"
      },
      "execution_count": 71,
      "outputs": [
        {
          "output_type": "display_data",
          "data": {
            "text/plain": [
              "<Figure size 432x288 with 1 Axes>"
            ],
            "image/png": "[encoded data removed]"
          },
          "metadata": {
            "needs_background": "light"
          }
        }
      ]
    },
    {
      "cell_type": "code",
      "source": [
        "f.limit(x, 0, '+'), f.limit(x, 0, '-')"
      ],
      "metadata": {
        "colab": {
          "base_uri": "https://localhost:8080/"
        },
        "id": "O94ZgipYHr-g",
        "outputId": "6ef96793-3390-41c2-b4a4-14c6c97a2e63"
      },
      "execution_count": 72,
      "outputs": [
        {
          "output_type": "execute_result",
          "data": {
            "text/plain": [
              "(oo, -oo)"
            ]
          },
          "metadata": {},
          "execution_count": 72
        }
      ]
    },
    {
      "cell_type": "code",
      "source": [
        "f.limit(x, 0, '+-')"
      ],
      "metadata": {
        "colab": {
          "base_uri": "https://localhost:8080/",
          "height": 37
        },
        "id": "ZJzLKDJVI2FQ",
        "outputId": "9e415e2e-07f1-4889-f7d3-fdd84d15a081"
      },
      "execution_count": 73,
      "outputs": [
        {
          "output_type": "execute_result",
          "data": {
            "text/plain": [
              "zoo"
            ],
            "text/latex": "$\\displaystyle \\tilde{\\infty}$"
          },
          "metadata": {},
          "execution_count": 73
        }
      ]
    },
    {
      "cell_type": "markdown",
      "source": [
        "$\n",
        "\\begin{align}\n",
        "\\lim_{x \\to 0}{\\frac{4 - \\sqrt{x}}{16x - x^{2}}} \n",
        "&= \\lim_{x \\to 0}{\\frac{4 - \\sqrt{x}}{x \\cdot(16 - x)}} \\\\\n",
        "&= \\lim_{x \\to 0}{\\frac{4 - \\sqrt{x}}{x \\cdot(4 - \\sqrt{x})(4 + \\sqrt{x})}} \\\\\n",
        "&= \\lim_{x \\to 0}{\\frac{1}{x \\cdot (4 + \\sqrt{x})}} \\\\\n",
        "&= \\lim_{x \\to 0}{\\frac{1}{x}} \\cdot \\lim_{x \\to 0}{\\frac{1}{4 + \\sqrt{x}}} \\\\\n",
        "&= \\frac{1}{4} \\cdot \\lim_{x \\to 0}{\\frac{1}{x}} \\\\\n",
        "&= DNE\n",
        "\\end{align}\n",
        "$"
      ],
      "metadata": {
        "id": "1MXEhRkaJkrg"
      }
    },
    {
      "cell_type": "code",
      "source": [
        "x = sym.symbols('x')\n",
        "\n",
        "f = (4 - sym.sqrt(x)) / (16 * x - x**2)\n",
        "f"
      ],
      "metadata": {
        "colab": {
          "base_uri": "https://localhost:8080/",
          "height": 55
        },
        "id": "KUlODxLcTsHi",
        "outputId": "9632d05d-aa40-40a8-f2ae-e18e023f36ab"
      },
      "execution_count": 74,
      "outputs": [
        {
          "output_type": "execute_result",
          "data": {
            "text/plain": [
              "(4 - sqrt(x))/(-x**2 + 16*x)"
            ],
            "text/latex": "$\\displaystyle \\frac{4 - \\sqrt{x}}{- x^{2} + 16 x}$"
          },
          "metadata": {},
          "execution_count": 74
        }
      ]
    },
    {
      "cell_type": "code",
      "source": [
        "f.limit(x, 0, '+'), f.limit(x, 0, '-')"
      ],
      "metadata": {
        "colab": {
          "base_uri": "https://localhost:8080/"
        },
        "id": "B8hgb_1DT6aE",
        "outputId": "e161cfa9-c5b7-4bd8-a71d-670da3100476"
      },
      "execution_count": 75,
      "outputs": [
        {
          "output_type": "execute_result",
          "data": {
            "text/plain": [
              "(oo, -oo)"
            ]
          },
          "metadata": {},
          "execution_count": 75
        }
      ]
    },
    {
      "cell_type": "markdown",
      "source": [
        "$\n",
        "\\begin{align}\n",
        "\\lim_{t \\to 0}{\\frac{\\sqrt{t^{2} + 9} - 3}{t^{2}}} \n",
        "&= \\lim_{t \\to 0}{\\frac{\\sqrt{t^{2} + 9} - 3}{t^{2}} \\cdot \\frac{\\sqrt{t^2 + 9} + 3}{\\sqrt{t^2 + 9} + 3}} \\\\\n",
        "&= \\lim_{t \\to 0}{\\frac{t^{2} + 9 - 9}{t^2(\\sqrt{t^{2} + 9} + 3)}} \\\\\n",
        "&= \\lim_{t \\to 0}{\\frac{t^{2}}{t^2(\\sqrt{t^{2} + 9} + 3)}} \\\\\n",
        "&= \\lim_{t \\to 0}{\\frac{1}{\\sqrt{t^{2} + 9} + 3}} \\\\\n",
        "&= \\frac{1}{\\sqrt{9} + 3} \\\\\n",
        "&= \\frac{1}{6}\n",
        "\\end{align}\n",
        "$"
      ],
      "metadata": {
        "id": "T49LFaJEV3qq"
      }
    },
    {
      "cell_type": "code",
      "source": [
        "t = sym.symbols('t')\n",
        "\n",
        "f = (sym.sqrt(t**2 + 9) - 3) / t**2\n",
        "f"
      ],
      "metadata": {
        "colab": {
          "base_uri": "https://localhost:8080/",
          "height": 56
        },
        "id": "RfUvD0D5ZOPh",
        "outputId": "ae033f2e-92a6-4edf-e540-cc195ed7d568"
      },
      "execution_count": 76,
      "outputs": [
        {
          "output_type": "execute_result",
          "data": {
            "text/plain": [
              "(sqrt(t**2 + 9) - 3)/t**2"
            ],
            "text/latex": "$\\displaystyle \\frac{\\sqrt{t^{2} + 9} - 3}{t^{2}}$"
          },
          "metadata": {},
          "execution_count": 76
        }
      ]
    },
    {
      "cell_type": "code",
      "source": [
        "f.limit(t, 0, '+-')"
      ],
      "metadata": {
        "colab": {
          "base_uri": "https://localhost:8080/",
          "height": 51
        },
        "id": "IushaUyaZbCV",
        "outputId": "7bab60d6-16a4-41a9-e7df-dda9d340a5b6"
      },
      "execution_count": 77,
      "outputs": [
        {
          "output_type": "execute_result",
          "data": {
            "text/plain": [
              "1/6"
            ],
            "text/latex": "$\\displaystyle \\frac{1}{6}$"
          },
          "metadata": {},
          "execution_count": 77
        }
      ]
    },
    {
      "cell_type": "code",
      "source": [
        "sym.plot(f);"
      ],
      "metadata": {
        "colab": {
          "base_uri": "https://localhost:8080/",
          "height": 297
        },
        "id": "IpawFcMoaVKx",
        "outputId": "2b524ce8-832a-4612-9c3e-bcfa3254b789"
      },
      "execution_count": 78,
      "outputs": [
        {
          "output_type": "display_data",
          "data": {
            "text/plain": [
              "<Figure size 432x288 with 1 Axes>"
            ],
            "image/png": "[encoded data removed]"
          },
          "metadata": {
            "needs_background": "light"
          }
        }
      ]
    },
    {
      "cell_type": "markdown",
      "source": [
        "## 3.1.7 Reading: Limits and Rates of Change in SymPy"
      ],
      "metadata": {
        "id": "dxRYvBVccvQv"
      }
    },
    {
      "cell_type": "markdown",
      "source": [
        "### Estimating a limit"
      ],
      "metadata": {
        "id": "XxInG4pBe4U1"
      }
    },
    {
      "cell_type": "markdown",
      "source": [
        "Estimate the limit of \n",
        "\n",
        "$\n",
        "\\lim_{x \\to 2} {\\frac{x^{2} - x - 2}{x - 2}}\n",
        "$"
      ],
      "metadata": {
        "id": "99DUdwEVe7Ar"
      }
    },
    {
      "cell_type": "code",
      "source": [
        "x = sym.symbols('x')\n",
        "\n",
        "f = (x**2 - x - 2) / (x - 2)\n",
        "f"
      ],
      "metadata": {
        "colab": {
          "base_uri": "https://localhost:8080/",
          "height": 55
        },
        "id": "tR12GGlRfYEP",
        "outputId": "6f1037f0-8a99-4911-f3b1-9af7e7013cb1"
      },
      "execution_count": 79,
      "outputs": [
        {
          "output_type": "execute_result",
          "data": {
            "text/plain": [
              "(x**2 - x - 2)/(x - 2)"
            ],
            "text/latex": "$\\displaystyle \\frac{x^{2} - x - 2}{x - 2}$"
          },
          "metadata": {},
          "execution_count": 79
        }
      ]
    },
    {
      "cell_type": "code",
      "source": [
        "x_from_left = [1.9, 1.99, 1.999]\n",
        "x_from_right = [2.1, 2.01, 2.001]"
      ],
      "metadata": {
        "id": "hQIsUXj_g-q8"
      },
      "execution_count": 80,
      "outputs": []
    },
    {
      "cell_type": "code",
      "source": [
        "f_from_left = [f.subs(x, n) for n in x_from_left]\n",
        "f_from_left"
      ],
      "metadata": {
        "colab": {
          "base_uri": "https://localhost:8080/"
        },
        "id": "-jCk1YI_hRqy",
        "outputId": "9597bd4e-05ff-4a47-e1ec-a7a09f749d25"
      },
      "execution_count": 81,
      "outputs": [
        {
          "output_type": "execute_result",
          "data": {
            "text/plain": [
              "[2.90000000000000, 2.98999999999998, 2.99899999999986]"
            ]
          },
          "metadata": {},
          "execution_count": 81
        }
      ]
    },
    {
      "cell_type": "code",
      "source": [
        "f_from_right = [f.subs(x, n) for n in x_from_right]\n",
        "f_from_right"
      ],
      "metadata": {
        "colab": {
          "base_uri": "https://localhost:8080/"
        },
        "id": "E59x0g90heBz",
        "outputId": "7ea8169f-48e1-40d8-f46d-904bd33135fb"
      },
      "execution_count": 82,
      "outputs": [
        {
          "output_type": "execute_result",
          "data": {
            "text/plain": [
              "[3.10000000000000, 3.00999999999998, 3.00100000000014]"
            ]
          },
          "metadata": {},
          "execution_count": 82
        }
      ]
    },
    {
      "cell_type": "markdown",
      "source": [
        "It looks like the closer $x$ gets to 2, from both sides, the closer $f$ gets to $3$. \n",
        "\n",
        "$\\therefore$ $3$ is my estimate for the limit."
      ],
      "metadata": {
        "id": "nBbJ_zw2hpgl"
      }
    },
    {
      "cell_type": "markdown",
      "source": [
        "### Computing a limit exactly"
      ],
      "metadata": {
        "id": "trB2wsDdiHE9"
      }
    },
    {
      "cell_type": "code",
      "source": [
        "sym.limit(f, x, 2, '+'), sym.limit(f, x, 2, '-'), sym.limit(f, x, 2, '+-')"
      ],
      "metadata": {
        "colab": {
          "base_uri": "https://localhost:8080/"
        },
        "id": "hDPB2UqLiqnY",
        "outputId": "0c8af38d-354f-43a3-9de6-fc9b4b1da552"
      },
      "execution_count": 83,
      "outputs": [
        {
          "output_type": "execute_result",
          "data": {
            "text/plain": [
              "(3, 3, 3)"
            ]
          },
          "metadata": {},
          "execution_count": 83
        }
      ]
    },
    {
      "cell_type": "code",
      "source": [
        "f.limit(x, 2, '+'), f.limit(x, 2, '-'), f.limit(x, 2, '+-')"
      ],
      "metadata": {
        "colab": {
          "base_uri": "https://localhost:8080/"
        },
        "id": "jGPF8GJrjXvE",
        "outputId": "74db1c89-5759-4032-c4e9-d80fab5b9823"
      },
      "execution_count": 84,
      "outputs": [
        {
          "output_type": "execute_result",
          "data": {
            "text/plain": [
              "(3, 3, 3)"
            ]
          },
          "metadata": {},
          "execution_count": 84
        }
      ]
    },
    {
      "cell_type": "markdown",
      "source": [
        "### Limits at infinity"
      ],
      "metadata": {
        "id": "_UYQfdk0ju1b"
      }
    },
    {
      "cell_type": "markdown",
      "source": [
        "$\n",
        "\\lim_{x \\to \\infty}{e^{x}}\n",
        "$"
      ],
      "metadata": {
        "id": "msc_tuYMkAWr"
      }
    },
    {
      "cell_type": "code",
      "source": [
        "sym.limit(sym.exp(x), x, sym.oo)"
      ],
      "metadata": {
        "colab": {
          "base_uri": "https://localhost:8080/",
          "height": 37
        },
        "id": "ed84HepZkL_-",
        "outputId": "d8a6b5d4-085b-44da-f5cd-5b9845705914"
      },
      "execution_count": 85,
      "outputs": [
        {
          "output_type": "execute_result",
          "data": {
            "text/plain": [
              "oo"
            ],
            "text/latex": "$\\displaystyle \\infty$"
          },
          "metadata": {},
          "execution_count": 85
        }
      ]
    },
    {
      "cell_type": "markdown",
      "source": [
        "### Computing an instantaneous rate of change"
      ],
      "metadata": {
        "id": "FDZbv03okdgE"
      }
    },
    {
      "cell_type": "markdown",
      "source": [
        "Compute the instantaneous rate of change of $f(x) = e^{x^{2}}$ at $x = 1$. "
      ],
      "metadata": {
        "id": "w9HOdOWJlCCF"
      }
    },
    {
      "cell_type": "markdown",
      "source": [
        "The instantaneous rate of change is given by\n",
        "\n",
        "$$\n",
        "\\lim_{h \\to 0}{\\frac{f(1 + h) - f(1)}{h}}\n",
        "$$"
      ],
      "metadata": {
        "id": "cVoYiAIJlesU"
      }
    },
    {
      "cell_type": "code",
      "source": [
        "x, h = sym.symbols('x h')\n",
        "\n",
        "f_x = sym.exp(x**2)\n",
        "f_x"
      ],
      "metadata": {
        "colab": {
          "base_uri": "https://localhost:8080/",
          "height": 41
        },
        "id": "XfDXrotIl6gr",
        "outputId": "aececdff-5bb4-4ab6-afd7-eff9619a7d80"
      },
      "execution_count": 86,
      "outputs": [
        {
          "output_type": "execute_result",
          "data": {
            "text/plain": [
              "exp(x**2)"
            ],
            "text/latex": "$\\displaystyle e^{x^{2}}$"
          },
          "metadata": {},
          "execution_count": 86
        }
      ]
    },
    {
      "cell_type": "code",
      "source": [
        "f_1h = f_x.subs(x, 1 + h)\n",
        "f_1h"
      ],
      "metadata": {
        "colab": {
          "base_uri": "https://localhost:8080/",
          "height": 41
        },
        "id": "6-IpRvs2m_g4",
        "outputId": "6cff527e-328b-454f-ec9e-1e222715d514"
      },
      "execution_count": 87,
      "outputs": [
        {
          "output_type": "execute_result",
          "data": {
            "text/plain": [
              "exp((h + 1)**2)"
            ],
            "text/latex": "$\\displaystyle e^{\\left(h + 1\\right)^{2}}$"
          },
          "metadata": {},
          "execution_count": 87
        }
      ]
    },
    {
      "cell_type": "code",
      "source": [
        "f_1 = f_x.subs(x, 1)\n",
        "f_1"
      ],
      "metadata": {
        "colab": {
          "base_uri": "https://localhost:8080/",
          "height": 39
        },
        "id": "7Y3674lynF7b",
        "outputId": "faaf4317-2f96-4e0b-9017-2fe3ac6d0851"
      },
      "execution_count": 88,
      "outputs": [
        {
          "output_type": "execute_result",
          "data": {
            "text/plain": [
              "E"
            ],
            "text/latex": "$\\displaystyle e$"
          },
          "metadata": {},
          "execution_count": 88
        }
      ]
    },
    {
      "cell_type": "code",
      "source": [
        "f = (f_1h - f_1) / h\n",
        "f"
      ],
      "metadata": {
        "colab": {
          "base_uri": "https://localhost:8080/",
          "height": 57
        },
        "id": "Wrax_CDfnJm1",
        "outputId": "dec4ce98-b038-4a3f-ee96-08f5638ea439"
      },
      "execution_count": 89,
      "outputs": [
        {
          "output_type": "execute_result",
          "data": {
            "text/plain": [
              "(exp((h + 1)**2) - E)/h"
            ],
            "text/latex": "$\\displaystyle \\frac{e^{\\left(h + 1\\right)^{2}} - e}{h}$"
          },
          "metadata": {},
          "execution_count": 89
        }
      ]
    },
    {
      "cell_type": "code",
      "source": [
        "f.limit(h, 0, '+-')"
      ],
      "metadata": {
        "colab": {
          "base_uri": "https://localhost:8080/",
          "height": 39
        },
        "id": "4hNEJBADndCr",
        "outputId": "2385f7fe-d7bd-4c55-894c-4401c4583828"
      },
      "execution_count": 90,
      "outputs": [
        {
          "output_type": "execute_result",
          "data": {
            "text/plain": [
              "2*E"
            ],
            "text/latex": "$\\displaystyle 2 e$"
          },
          "metadata": {},
          "execution_count": 90
        }
      ]
    },
    {
      "cell_type": "markdown",
      "source": [
        "## 3.1.8 Python: Finding Limits"
      ],
      "metadata": {
        "id": "1TuztSzZoMEU"
      }
    },
    {
      "cell_type": "code",
      "source": [],
      "metadata": {
        "id": "5W_182riolC1"
      },
      "execution_count": 90,
      "outputs": []
    }
  ]
}