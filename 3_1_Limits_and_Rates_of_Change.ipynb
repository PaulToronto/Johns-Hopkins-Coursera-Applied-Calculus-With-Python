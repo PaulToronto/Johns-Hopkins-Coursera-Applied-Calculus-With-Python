{
  "nbformat": 4,
  "nbformat_minor": 0,
  "metadata": {
    "colab": {
      "provenance": [],
      "toc_visible": true,
      "authorship_tag": "ABX9TyP3a9PyKsUc828ADQIXZjVG",
      "include_colab_link": true
    },
    "kernelspec": {
      "name": "python3",
      "display_name": "Python 3"
    },
    "language_info": {
      "name": "python"
    }
  },
  "cells": [
    {
      "cell_type": "markdown",
      "metadata": {
        "id": "view-in-github",
        "colab_type": "text"
      },
      "source": [
        "<a href=\"https://colab.research.google.com/github/PaulToronto/Johns-Hopkins-Coursera-Applied-Calculus-With-Python/blob/main/3_1_Limits_and_Rates_of_Change.ipynb\" target=\"_parent\"><img src=\"https://colab.research.google.com/assets/colab-badge.svg\" alt=\"Open In Colab\"/></a>"
      ]
    },
    {
      "cell_type": "markdown",
      "source": [
        "# 3.1 Limits and Rates of Change"
      ],
      "metadata": {
        "id": "MW06y7sXTDtq"
      }
    },
    {
      "cell_type": "code",
      "source": [
        "import sympy as sym\n",
        "import numpy as np\n",
        "import matplotlib.pyplot as plt"
      ],
      "metadata": {
        "id": "oXhoHmyqXKmx"
      },
      "execution_count": 1,
      "outputs": []
    },
    {
      "cell_type": "markdown",
      "source": [
        "## 3.1.1 Reading: Lists and Tuples in Python"
      ],
      "metadata": {
        "id": "nEWEs1N9TJax"
      }
    },
    {
      "cell_type": "markdown",
      "source": [
        "### Lists\n",
        "\n",
        "- a list is an **ordered** collection of objects\n",
        "- lists are mutable\n",
        "- can contain an unlimited number of objects of any type\n",
        "- a list's **lenght** is the number of objects in the list\n",
        "- the objects are indexed\n",
        "    - zero-based indexing"
      ],
      "metadata": {
        "id": "WX9MM4twTVfR"
      }
    },
    {
      "cell_type": "code",
      "source": [
        "my_list = [12, 'seven', -2.5]\n",
        "len(my_list)"
      ],
      "metadata": {
        "colab": {
          "base_uri": "https://localhost:8080/"
        },
        "id": "70f9CVgnUCtX",
        "outputId": "a918ba2b-84d4-4c85-8942-667b8d02dbf8"
      },
      "execution_count": 2,
      "outputs": [
        {
          "output_type": "execute_result",
          "data": {
            "text/plain": [
              "3"
            ]
          },
          "metadata": {},
          "execution_count": 2
        }
      ]
    },
    {
      "cell_type": "code",
      "source": [
        "my_list[0]"
      ],
      "metadata": {
        "colab": {
          "base_uri": "https://localhost:8080/"
        },
        "id": "rt_LlnftUGD-",
        "outputId": "a68507a3-ab69-4d14-b3a4-f3d4d5591154"
      },
      "execution_count": 3,
      "outputs": [
        {
          "output_type": "execute_result",
          "data": {
            "text/plain": [
              "12"
            ]
          },
          "metadata": {},
          "execution_count": 3
        }
      ]
    },
    {
      "cell_type": "code",
      "source": [
        "number_list = [0, -1, 5, -2.7, 5.9, 0, 4.1]\n",
        "max(number_list), min(number_list)"
      ],
      "metadata": {
        "colab": {
          "base_uri": "https://localhost:8080/"
        },
        "id": "ZqjchV9PUMIu",
        "outputId": "50f4c1af-f3d8-4e8b-f4b2-986eac7eec58"
      },
      "execution_count": 4,
      "outputs": [
        {
          "output_type": "execute_result",
          "data": {
            "text/plain": [
              "(5.9, -2.7)"
            ]
          },
          "metadata": {},
          "execution_count": 4
        }
      ]
    },
    {
      "cell_type": "markdown",
      "source": [
        "### Tuples\n",
        "\n",
        "- like a list, but **immutable**"
      ],
      "metadata": {
        "id": "fbbylzskTwBR"
      }
    },
    {
      "cell_type": "code",
      "source": [
        "my_tuple = (1, 2, 3)\n",
        "type(my_tuple)"
      ],
      "metadata": {
        "colab": {
          "base_uri": "https://localhost:8080/"
        },
        "id": "yvXbNHuEUdI6",
        "outputId": "127e757f-1865-4421-de3f-555710549131"
      },
      "execution_count": 5,
      "outputs": [
        {
          "output_type": "execute_result",
          "data": {
            "text/plain": [
              "tuple"
            ]
          },
          "metadata": {},
          "execution_count": 5
        }
      ]
    },
    {
      "cell_type": "markdown",
      "source": [
        "### Adding items to a list"
      ],
      "metadata": {
        "id": "HQEzCU0uUsIO"
      }
    },
    {
      "cell_type": "code",
      "source": [
        "my_list = [1, 2, 3]\n",
        "my_list.append(4)\n",
        "my_list"
      ],
      "metadata": {
        "colab": {
          "base_uri": "https://localhost:8080/"
        },
        "id": "eVOsAWVvUycz",
        "outputId": "52ddd37d-92b1-4f35-bdf8-f8ce474dd309"
      },
      "execution_count": 6,
      "outputs": [
        {
          "output_type": "execute_result",
          "data": {
            "text/plain": [
              "[1, 2, 3, 4]"
            ]
          },
          "metadata": {},
          "execution_count": 6
        }
      ]
    },
    {
      "cell_type": "code",
      "source": [
        "my_list.append([0, 0, 0])\n",
        "my_list"
      ],
      "metadata": {
        "colab": {
          "base_uri": "https://localhost:8080/"
        },
        "id": "S8BUSTc2U34C",
        "outputId": "e1bd9f5d-676b-4a19-e5a4-83956d2f5959"
      },
      "execution_count": 7,
      "outputs": [
        {
          "output_type": "execute_result",
          "data": {
            "text/plain": [
              "[1, 2, 3, 4, [0, 0, 0]]"
            ]
          },
          "metadata": {},
          "execution_count": 7
        }
      ]
    },
    {
      "cell_type": "code",
      "source": [
        "my_list.extend([1, 1, 1])\n",
        "my_list"
      ],
      "metadata": {
        "colab": {
          "base_uri": "https://localhost:8080/"
        },
        "id": "pc8VRTz8VK5x",
        "outputId": "514d1aec-ed19-4e09-8385-967c8b46c848"
      },
      "execution_count": 8,
      "outputs": [
        {
          "output_type": "execute_result",
          "data": {
            "text/plain": [
              "[1, 2, 3, 4, [0, 0, 0], 1, 1, 1]"
            ]
          },
          "metadata": {},
          "execution_count": 8
        }
      ]
    },
    {
      "cell_type": "code",
      "source": [
        "my_list.insert(2, 'index two')\n",
        "my_list"
      ],
      "metadata": {
        "colab": {
          "base_uri": "https://localhost:8080/"
        },
        "id": "FDCfJiZvVRRC",
        "outputId": "9f2a8f6a-fdbc-4d2b-dc2a-1bfb8e869737"
      },
      "execution_count": 9,
      "outputs": [
        {
          "output_type": "execute_result",
          "data": {
            "text/plain": [
              "[1, 2, 'index two', 3, 4, [0, 0, 0], 1, 1, 1]"
            ]
          },
          "metadata": {},
          "execution_count": 9
        }
      ]
    },
    {
      "cell_type": "markdown",
      "source": [
        "### Removing items from a list"
      ],
      "metadata": {
        "id": "FitX60HeVsdS"
      }
    },
    {
      "cell_type": "code",
      "source": [
        "del my_list[2]\n",
        "my_list"
      ],
      "metadata": {
        "colab": {
          "base_uri": "https://localhost:8080/"
        },
        "id": "8cQCYmDCVvjv",
        "outputId": "3e6aeefb-b6f3-4a99-95f8-99018ba74fda"
      },
      "execution_count": 10,
      "outputs": [
        {
          "output_type": "execute_result",
          "data": {
            "text/plain": [
              "[1, 2, 3, 4, [0, 0, 0], 1, 1, 1]"
            ]
          },
          "metadata": {},
          "execution_count": 10
        }
      ]
    },
    {
      "cell_type": "code",
      "source": [
        "my_list.remove(1)"
      ],
      "metadata": {
        "id": "lEA5HiJgV55K"
      },
      "execution_count": 11,
      "outputs": []
    },
    {
      "cell_type": "code",
      "source": [
        "my_list.remove(1)"
      ],
      "metadata": {
        "id": "vSLPI3pRV9ux"
      },
      "execution_count": 12,
      "outputs": []
    },
    {
      "cell_type": "code",
      "source": [
        "my_list # when there are more than it removes only the first"
      ],
      "metadata": {
        "colab": {
          "base_uri": "https://localhost:8080/"
        },
        "id": "Oz65HFOpWCCb",
        "outputId": "5d64328b-537e-48c2-900a-1855fb924c04"
      },
      "execution_count": 13,
      "outputs": [
        {
          "output_type": "execute_result",
          "data": {
            "text/plain": [
              "[2, 3, 4, [0, 0, 0], 1, 1]"
            ]
          },
          "metadata": {},
          "execution_count": 13
        }
      ]
    },
    {
      "cell_type": "markdown",
      "source": [
        "### List Comprehensions\n",
        "\n",
        "`[expression for item in l if condition`"
      ],
      "metadata": {
        "id": "7xE4mLzAWRg-"
      }
    },
    {
      "cell_type": "code",
      "source": [
        "number_list = [0, -1, 5, -2.7, 5.9, 0, 4.1]\n",
        "positive_number_list = [i for i in number_list if i > 0]\n",
        "positive_number_list"
      ],
      "metadata": {
        "colab": {
          "base_uri": "https://localhost:8080/"
        },
        "id": "90STldGeWiI8",
        "outputId": "74694483-d713-4b34-8393-c57cb9935b9b"
      },
      "execution_count": 14,
      "outputs": [
        {
          "output_type": "execute_result",
          "data": {
            "text/plain": [
              "[5, 5.9, 4.1]"
            ]
          },
          "metadata": {},
          "execution_count": 14
        }
      ]
    },
    {
      "cell_type": "markdown",
      "source": [
        "### List Comprehension with SymPy\n",
        "\n",
        "Suppose we want to find $f(x) = x^{2} + 2x + 1$ for all $x$ in our number list. "
      ],
      "metadata": {
        "id": "mfV42vqCWy66"
      }
    },
    {
      "cell_type": "code",
      "source": [
        "number_list = [0, -1, 5, -2.7, 5.9, 0, 4.1]"
      ],
      "metadata": {
        "id": "4PENW46ZXGUi"
      },
      "execution_count": 15,
      "outputs": []
    },
    {
      "cell_type": "code",
      "source": [
        "x = sym.symbols('x')\n",
        "f = x**2 + 2*x + 1\n",
        "f"
      ],
      "metadata": {
        "colab": {
          "base_uri": "https://localhost:8080/",
          "height": 39
        },
        "id": "vdbnntC0XH1F",
        "outputId": "9022dc85-6fb9-4ba5-a676-a7995508fba6"
      },
      "execution_count": 16,
      "outputs": [
        {
          "output_type": "execute_result",
          "data": {
            "text/plain": [
              "x**2 + 2*x + 1"
            ],
            "text/latex": "$\\displaystyle x^{2} + 2 x + 1$"
          },
          "metadata": {},
          "execution_count": 16
        }
      ]
    },
    {
      "cell_type": "code",
      "source": [
        "[f.subs(x, i) for i in number_list]"
      ],
      "metadata": {
        "colab": {
          "base_uri": "https://localhost:8080/"
        },
        "id": "BeVhQs5fXSsD",
        "outputId": "02ef4b44-7b84-459b-9348-eded5ee540f0"
      },
      "execution_count": 17,
      "outputs": [
        {
          "output_type": "execute_result",
          "data": {
            "text/plain": [
              "[1, 0, 36, 2.89000000000000, 47.6100000000000, 1, 26.0100000000000]"
            ]
          },
          "metadata": {},
          "execution_count": 17
        }
      ]
    },
    {
      "cell_type": "markdown",
      "source": [
        "## 3.1.2 Theory: Introduction to Limits"
      ],
      "metadata": {
        "id": "bP2pPDNHa8G-"
      }
    },
    {
      "cell_type": "markdown",
      "source": [
        "### Definition: Limit\n",
        "\n",
        "We write $\\lim_{x \\to a} f(x) = L$ if we can make $f(x)$ as close to $L$ as we like by taking $x$ as close to $a$ (on either side) but not equal to $a$. "
      ],
      "metadata": {
        "id": "JfE-N-rwbiNf"
      }
    },
    {
      "cell_type": "markdown",
      "source": [
        "### Example\n",
        "\n",
        "$$\n",
        "f(x) = x^{2}\n",
        "$$"
      ],
      "metadata": {
        "id": "vS9-IvXzcnwW"
      }
    },
    {
      "cell_type": "markdown",
      "source": [
        "$$\n",
        "\\lim_{x \\to 2} f(x) = 4\n",
        "$$"
      ],
      "metadata": {
        "id": "x9G-r__hdrZu"
      }
    },
    {
      "cell_type": "code",
      "source": [
        "f = x**2\n",
        "f"
      ],
      "metadata": {
        "colab": {
          "base_uri": "https://localhost:8080/",
          "height": 39
        },
        "id": "jP_8F5aBnVvg",
        "outputId": "649c1c02-a7b7-466f-8db0-7e274c2baecd"
      },
      "execution_count": 18,
      "outputs": [
        {
          "output_type": "execute_result",
          "data": {
            "text/plain": [
              "x**2"
            ],
            "text/latex": "$\\displaystyle x^{2}$"
          },
          "metadata": {},
          "execution_count": 18
        }
      ]
    },
    {
      "cell_type": "code",
      "source": [
        "f.subs(x, 2), f.limit(x, 2)"
      ],
      "metadata": {
        "colab": {
          "base_uri": "https://localhost:8080/"
        },
        "id": "T3ykfvNenYrF",
        "outputId": "d78d69bc-4226-4d18-b584-36c9453a2218"
      },
      "execution_count": 19,
      "outputs": [
        {
          "output_type": "execute_result",
          "data": {
            "text/plain": [
              "(4, 4)"
            ]
          },
          "metadata": {},
          "execution_count": 19
        }
      ]
    },
    {
      "cell_type": "markdown",
      "source": [
        "### Example"
      ],
      "metadata": {
        "id": "sNLqCjKEetWM"
      }
    },
    {
      "cell_type": "code",
      "source": [
        "x = sym.symbols('x')\n",
        "\n",
        "f = sym.Piecewise((x**2 + 1, x > 0),\n",
        "                  (x + 1, x < 0), \n",
        "                  (3, True))"
      ],
      "metadata": {
        "id": "YNlTQ7SffIrO"
      },
      "execution_count": 20,
      "outputs": []
    },
    {
      "cell_type": "code",
      "source": [
        "print(sym.latex(f))"
      ],
      "metadata": {
        "colab": {
          "base_uri": "https://localhost:8080/"
        },
        "id": "_35TSo3Rf3Hy",
        "outputId": "37086614-9cb5-4bac-f8ab-d26eeabd32c9"
      },
      "execution_count": 21,
      "outputs": [
        {
          "output_type": "stream",
          "name": "stdout",
          "text": [
            "\\begin{cases} x^{2} + 1 & \\text{for}\\: x > 0 \\\\x + 1 & \\text{for}\\: x < 0 \\\\3 & \\text{otherwise} \\end{cases}\n"
          ]
        }
      ]
    },
    {
      "cell_type": "markdown",
      "source": [
        "$$\n",
        "f(x) = \\begin{cases} x^{2} + 1 & \\text{for}\\: x > 0 \\\\x + 1 & \\text{for}\\: x < 0 \\\\3 & \\text{otherwise} \\end{cases}\n",
        "$$"
      ],
      "metadata": {
        "id": "d2pEhVxDfx5w"
      }
    },
    {
      "cell_type": "code",
      "source": [
        "sym.plot(f, xlim=[-3, 3], ylim=[-3, 3]);"
      ],
      "metadata": {
        "colab": {
          "base_uri": "https://localhost:8080/",
          "height": 297
        },
        "id": "tYiY8iC0fOiz",
        "outputId": "60ea40c8-0e4b-422b-964f-98bf2b1b30c1"
      },
      "execution_count": 22,
      "outputs": [
        {
          "output_type": "display_data",
          "data": {
            "text/plain": [
              "<Figure size 432x288 with 1 Axes>"
            ],
            "image/png": "[encoded data removed]"
          },
          "metadata": {
            "needs_background": "light"
          }
        }
      ]
    },
    {
      "cell_type": "markdown",
      "source": [
        "$$\n",
        "f(0) = 3\n",
        "$$\n",
        "\n",
        "$$\n",
        "\\lim_{x \\to 0} f(x) = 1\n",
        "$$"
      ],
      "metadata": {
        "id": "FjjDZ8CpgQPg"
      }
    },
    {
      "cell_type": "code",
      "source": [
        "f.subs(x, 0), f.subs(x, 0.0001), f.subs(x, -0.0001)"
      ],
      "metadata": {
        "colab": {
          "base_uri": "https://localhost:8080/"
        },
        "id": "TKQQugUWiQNk",
        "outputId": "9dcd2e7f-7e87-416f-bfea-3b32778d4287"
      },
      "execution_count": 23,
      "outputs": [
        {
          "output_type": "execute_result",
          "data": {
            "text/plain": [
              "(3, 1.00000001000000, 0.999900000000000)"
            ]
          },
          "metadata": {},
          "execution_count": 23
        }
      ]
    },
    {
      "cell_type": "code",
      "source": [
        "f.limit(x, 0)"
      ],
      "metadata": {
        "colab": {
          "base_uri": "https://localhost:8080/",
          "height": 37
        },
        "id": "oPaJWG0ZnkhG",
        "outputId": "bc6b9a9a-981a-4aed-ee4e-c8534571154f"
      },
      "execution_count": 24,
      "outputs": [
        {
          "output_type": "execute_result",
          "data": {
            "text/plain": [
              "1"
            ],
            "text/latex": "$\\displaystyle 1$"
          },
          "metadata": {},
          "execution_count": 24
        }
      ]
    },
    {
      "cell_type": "markdown",
      "source": [
        "We can see in the above example, that $f(a)$ need not be the same as $\\lim_{x \\to a} f(x)$. In fact, the function doesn't even need to be defined at $a$ for there to be a limit as $x \\to a$."
      ],
      "metadata": {
        "id": "p6WDNfXyjJ3x"
      }
    },
    {
      "cell_type": "markdown",
      "source": [
        "### Example\n",
        "\n",
        "$$\n",
        "f(x) = \\frac{\\sin{x}}{x}\n",
        "$$"
      ],
      "metadata": {
        "id": "ttmTiJ2mkika"
      }
    },
    {
      "cell_type": "markdown",
      "source": [
        "$f(0)$ is undefined, but $\\lim_{x \\to 0} f(x) = 1$"
      ],
      "metadata": {
        "id": "KPH_kWg8pcqt"
      }
    },
    {
      "cell_type": "code",
      "source": [
        "f = sym.sin(x) / x\n",
        "f"
      ],
      "metadata": {
        "colab": {
          "base_uri": "https://localhost:8080/",
          "height": 53
        },
        "id": "1HzxEqwGnteI",
        "outputId": "9fddd796-efa8-4540-9d96-6456758eeb2c"
      },
      "execution_count": 25,
      "outputs": [
        {
          "output_type": "execute_result",
          "data": {
            "text/plain": [
              "sin(x)/x"
            ],
            "text/latex": "$\\displaystyle \\frac{\\sin{\\left(x \\right)}}{x}$"
          },
          "metadata": {},
          "execution_count": 25
        }
      ]
    },
    {
      "cell_type": "code",
      "source": [
        "f.subs(x, 0), f.limit(x, 0)"
      ],
      "metadata": {
        "colab": {
          "base_uri": "https://localhost:8080/"
        },
        "id": "15FcpmqQnycX",
        "outputId": "017ffccb-3465-4487-da6b-ad4485a422ca"
      },
      "execution_count": 26,
      "outputs": [
        {
          "output_type": "execute_result",
          "data": {
            "text/plain": [
              "(nan, 1)"
            ]
          },
          "metadata": {},
          "execution_count": 26
        }
      ]
    },
    {
      "cell_type": "code",
      "source": [
        "sym.plot(f);"
      ],
      "metadata": {
        "colab": {
          "base_uri": "https://localhost:8080/",
          "height": 297
        },
        "id": "2oGF8zHdn72F",
        "outputId": "cdf52752-5853-4575-bc92-6d75349f6cfe"
      },
      "execution_count": 27,
      "outputs": [
        {
          "output_type": "display_data",
          "data": {
            "text/plain": [
              "<Figure size 432x288 with 1 Axes>"
            ],
            "image/png": "[encoded data removed]"
          },
          "metadata": {
            "needs_background": "light"
          }
        }
      ]
    },
    {
      "cell_type": "markdown",
      "source": [
        "### Finding limits using tables\n",
        "\n",
        "$$\n",
        "f(t) = \\frac{\\sqrt{t^{2} + 9} - 3}{t^{2}}\n",
        "$$"
      ],
      "metadata": {
        "id": "A_J67TK0qIpN"
      }
    },
    {
      "cell_type": "markdown",
      "source": [
        "What is $\\lim_{t \\to 0} f(t)$?"
      ],
      "metadata": {
        "id": "uWBSEGSDqshg"
      }
    },
    {
      "cell_type": "code",
      "source": [
        "t = sym.symbols('t')\n",
        "\n",
        "f = (sym.sqrt(t**2 + 9) - 3) / t**2\n",
        "f"
      ],
      "metadata": {
        "colab": {
          "base_uri": "https://localhost:8080/",
          "height": 56
        },
        "id": "FKt0nD-Nq7B-",
        "outputId": "ca420076-f8d8-43dd-b3d0-3c7eb4b83f9c"
      },
      "execution_count": 28,
      "outputs": [
        {
          "output_type": "execute_result",
          "data": {
            "text/plain": [
              "(sqrt(t**2 + 9) - 3)/t**2"
            ],
            "text/latex": "$\\displaystyle \\frac{\\sqrt{t^{2} + 9} - 3}{t^{2}}$"
          },
          "metadata": {},
          "execution_count": 28
        }
      ]
    },
    {
      "cell_type": "code",
      "source": [
        "x1 = [(1/n) for n in range(1, 100_000, 1000)]\n",
        "y1 = [f.subs(t, a) for a in x1]"
      ],
      "metadata": {
        "id": "s0_bPOyYspLA"
      },
      "execution_count": 29,
      "outputs": []
    },
    {
      "cell_type": "code",
      "source": [
        "x2 = [(-1/n) for n in range(1, 100_000, 1000)]\n",
        "y2 = [f.subs(t, a) for a in x2]"
      ],
      "metadata": {
        "id": "jnEyifQottiy"
      },
      "execution_count": 30,
      "outputs": []
    },
    {
      "cell_type": "code",
      "source": [
        "plt.plot(x1, y1)\n",
        "plt.plot(x2, y2)\n",
        "\n",
        "plt.show()"
      ],
      "metadata": {
        "colab": {
          "base_uri": "https://localhost:8080/",
          "height": 265
        },
        "id": "wk36FYuEw_w_",
        "outputId": "5b686eaa-4da2-47f5-8ad5-591004c2c2bf"
      },
      "execution_count": 31,
      "outputs": [
        {
          "output_type": "display_data",
          "data": {
            "text/plain": [
              "<Figure size 432x288 with 1 Axes>"
            ],
            "image/png": "[encoded data removed]"
          },
          "metadata": {
            "needs_background": "light"
          }
        }
      ]
    },
    {
      "cell_type": "code",
      "source": [
        "f"
      ],
      "metadata": {
        "colab": {
          "base_uri": "https://localhost:8080/",
          "height": 56
        },
        "id": "-tlE_Te_v2by",
        "outputId": "2f019e44-57f3-4f87-fb91-c8c14203c329"
      },
      "execution_count": 32,
      "outputs": [
        {
          "output_type": "execute_result",
          "data": {
            "text/plain": [
              "(sqrt(t**2 + 9) - 3)/t**2"
            ],
            "text/latex": "$\\displaystyle \\frac{\\sqrt{t^{2} + 9} - 3}{t^{2}}$"
          },
          "metadata": {},
          "execution_count": 32
        }
      ]
    },
    {
      "cell_type": "code",
      "source": [
        "f.subs(t, x1[-1]), f.subs(t, x2[-1]), f.limit(t, 0), f.limit(t, 0).evalf()"
      ],
      "metadata": {
        "colab": {
          "base_uri": "https://localhost:8080/"
        },
        "id": "wnWpHC4Fvn1g",
        "outputId": "42a4cc8e-ae38-46f4-fe9f-07f810cd300b"
      },
      "execution_count": 33,
      "outputs": [
        {
          "output_type": "execute_result",
          "data": {
            "text/plain": [
              "(0.166665646908500, 0.166665646908500, 1/6, 0.166666666666667)"
            ]
          },
          "metadata": {},
          "execution_count": 33
        }
      ]
    },
    {
      "cell_type": "code",
      "source": [
        "sym.plot(f, xlim=[-10, 10], ylim=[-.2, .2]);"
      ],
      "metadata": {
        "colab": {
          "base_uri": "https://localhost:8080/",
          "height": 297
        },
        "id": "u3KM3L6Cz6dG",
        "outputId": "bfb00b85-8fab-4cf1-dd2d-6830fde70d49"
      },
      "execution_count": 34,
      "outputs": [
        {
          "output_type": "display_data",
          "data": {
            "text/plain": [
              "<Figure size 432x288 with 1 Axes>"
            ],
            "image/png": "[encoded data removed]"
          },
          "metadata": {
            "needs_background": "light"
          }
        }
      ]
    },
    {
      "cell_type": "markdown",
      "source": [
        "### Example\n",
        "\n",
        "$\n",
        "f(x) = \\sin{\\frac{\\pi}{x}}\n",
        "$"
      ],
      "metadata": {
        "id": "Ef0kYzIU2KWS"
      }
    },
    {
      "cell_type": "markdown",
      "source": [
        "$\\lim_{x \\to 0} f(x)$ does not exist. "
      ],
      "metadata": {
        "id": "ZimUB1mA5iEW"
      }
    },
    {
      "cell_type": "code",
      "source": [
        "x = sym.symbols('x')\n",
        "\n",
        "f = sym.sin(sym.pi/x)\n",
        "f"
      ],
      "metadata": {
        "colab": {
          "base_uri": "https://localhost:8080/",
          "height": 48
        },
        "id": "o4wm9rEB2XW4",
        "outputId": "8d870c5a-7655-4a71-ee91-e2fa2c805bab"
      },
      "execution_count": 35,
      "outputs": [
        {
          "output_type": "execute_result",
          "data": {
            "text/plain": [
              "sin(pi/x)"
            ],
            "text/latex": "$\\displaystyle \\sin{\\left(\\frac{\\pi}{x} \\right)}$"
          },
          "metadata": {},
          "execution_count": 35
        }
      ]
    },
    {
      "cell_type": "code",
      "source": [
        "sym.plot(f);"
      ],
      "metadata": {
        "colab": {
          "base_uri": "https://localhost:8080/",
          "height": 297
        },
        "id": "cyo1mobd2lsD",
        "outputId": "47e57c82-5b84-43cc-e1d2-fa2e2c183505"
      },
      "execution_count": 36,
      "outputs": [
        {
          "output_type": "display_data",
          "data": {
            "text/plain": [
              "<Figure size 432x288 with 1 Axes>"
            ],
            "image/png": "[encoded data removed]"
          },
          "metadata": {
            "needs_background": "light"
          }
        }
      ]
    },
    {
      "cell_type": "code",
      "source": [
        "f.subs(x, 0), f.limit(x, 0)"
      ],
      "metadata": {
        "colab": {
          "base_uri": "https://localhost:8080/"
        },
        "id": "YmvnB02o3O3u",
        "outputId": "d2c30d37-16b0-4925-a37b-d3f672cd1f09"
      },
      "execution_count": 37,
      "outputs": [
        {
          "output_type": "execute_result",
          "data": {
            "text/plain": [
              "(nan, AccumBounds(-1, 1))"
            ]
          },
          "metadata": {},
          "execution_count": 37
        }
      ]
    },
    {
      "cell_type": "code",
      "source": [
        "f.limit(x, 0, '-'), f.limit(x, 0, '+')"
      ],
      "metadata": {
        "colab": {
          "base_uri": "https://localhost:8080/"
        },
        "id": "jiR-wtSS3mOL",
        "outputId": "b80b724b-c9a4-478b-a4f4-9b85eae42d2d"
      },
      "execution_count": 38,
      "outputs": [
        {
          "output_type": "execute_result",
          "data": {
            "text/plain": [
              "(AccumBounds(-1, 1), AccumBounds(-1, 1))"
            ]
          },
          "metadata": {},
          "execution_count": 38
        }
      ]
    },
    {
      "cell_type": "markdown",
      "source": [
        "### Example: A constant function\n",
        "\n",
        "$f(x) = 5$"
      ],
      "metadata": {
        "id": "mypg4xe46C-I"
      }
    },
    {
      "cell_type": "markdown",
      "source": [
        "$\n",
        "\\lim_{x \\to 0} f(x) = 5\n",
        "$"
      ],
      "metadata": {
        "id": "wpeiQFYJ63EN"
      }
    },
    {
      "cell_type": "markdown",
      "source": [
        "### Example"
      ],
      "metadata": {
        "id": "3gk7v9Qc7X10"
      }
    },
    {
      "cell_type": "markdown",
      "source": [
        "$\n",
        "\\begin{align}\n",
        "\\lim_{x \\to 4} \\left(x^{2} - 4\\right) \n",
        "&= 4^2 - 4 \\\\\n",
        "&= 16 - 4 \\\\\n",
        "&= 12\n",
        "\\end{align}\n",
        "$"
      ],
      "metadata": {
        "id": "MVl0-alZ7vZi"
      }
    },
    {
      "cell_type": "code",
      "source": [
        "x = sym.symbols('x')\n",
        "\n",
        "f = x**2 - 4\n",
        "f"
      ],
      "metadata": {
        "colab": {
          "base_uri": "https://localhost:8080/",
          "height": 39
        },
        "id": "TBgYBP__8C-9",
        "outputId": "fb1d0156-3b38-4014-8d77-c8023c6585dd"
      },
      "execution_count": 39,
      "outputs": [
        {
          "output_type": "execute_result",
          "data": {
            "text/plain": [
              "x**2 - 4"
            ],
            "text/latex": "$\\displaystyle x^{2} - 4$"
          },
          "metadata": {},
          "execution_count": 39
        }
      ]
    },
    {
      "cell_type": "code",
      "source": [
        "f.limit(x, 4)"
      ],
      "metadata": {
        "colab": {
          "base_uri": "https://localhost:8080/",
          "height": 37
        },
        "id": "1ZNZGd518LIt",
        "outputId": "6afee1b0-2017-41b7-e7fa-1d4426e8d47b"
      },
      "execution_count": 40,
      "outputs": [
        {
          "output_type": "execute_result",
          "data": {
            "text/plain": [
              "12"
            ],
            "text/latex": "$\\displaystyle 12$"
          },
          "metadata": {},
          "execution_count": 40
        }
      ]
    },
    {
      "cell_type": "markdown",
      "source": [
        "## 3.1.3 Reading: Limits and Rates of Change"
      ],
      "metadata": {
        "id": "24B3vntq9GAS"
      }
    }
  ]
}