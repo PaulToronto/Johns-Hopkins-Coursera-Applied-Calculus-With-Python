{
  "nbformat": 4,
  "nbformat_minor": 0,
  "metadata": {
    "colab": {
      "provenance": [],
      "toc_visible": true,
      "authorship_tag": "ABX9TyPSqQkGkWencjEhI0uEy20G",
      "include_colab_link": true
    },
    "kernelspec": {
      "name": "python3",
      "display_name": "Python 3"
    },
    "language_info": {
      "name": "python"
    }
  },
  "cells": [
    {
      "cell_type": "markdown",
      "metadata": {
        "id": "view-in-github",
        "colab_type": "text"
      },
      "source": [
        "<a href=\"https://colab.research.google.com/github/PaulToronto/Johns-Hopkins-Coursera-Applied-Calculus-With-Python/blob/main/3_1_Limits_and_Rates_of_Change.ipynb\" target=\"_parent\"><img src=\"https://colab.research.google.com/assets/colab-badge.svg\" alt=\"Open In Colab\"/></a>"
      ]
    },
    {
      "cell_type": "markdown",
      "source": [
        "# 3.1 Limits and Rates of Change"
      ],
      "metadata": {
        "id": "MW06y7sXTDtq"
      }
    },
    {
      "cell_type": "code",
      "source": [
        "import sympy as sym\n",
        "import numpy as np\n",
        "import matplotlib.pyplot as plt"
      ],
      "metadata": {
        "id": "oXhoHmyqXKmx"
      },
      "execution_count": 1,
      "outputs": []
    },
    {
      "cell_type": "markdown",
      "source": [
        "## 3.1.1 Reading: Lists and Tuples in Python"
      ],
      "metadata": {
        "id": "nEWEs1N9TJax"
      }
    },
    {
      "cell_type": "markdown",
      "source": [
        "### Lists\n",
        "\n",
        "- a list is an **ordered** collection of objects\n",
        "- lists are mutable\n",
        "- can contain an unlimited number of objects of any type\n",
        "- a list's **lenght** is the number of objects in the list\n",
        "- the objects are indexed\n",
        "    - zero-based indexing"
      ],
      "metadata": {
        "id": "WX9MM4twTVfR"
      }
    },
    {
      "cell_type": "code",
      "source": [
        "my_list = [12, 'seven', -2.5]\n",
        "len(my_list)"
      ],
      "metadata": {
        "colab": {
          "base_uri": "https://localhost:8080/"
        },
        "id": "70f9CVgnUCtX",
        "outputId": "9a394c38-13f5-4028-e8a5-8184fc80351e"
      },
      "execution_count": 2,
      "outputs": [
        {
          "output_type": "execute_result",
          "data": {
            "text/plain": [
              "3"
            ]
          },
          "metadata": {},
          "execution_count": 2
        }
      ]
    },
    {
      "cell_type": "code",
      "source": [
        "my_list[0]"
      ],
      "metadata": {
        "colab": {
          "base_uri": "https://localhost:8080/"
        },
        "id": "rt_LlnftUGD-",
        "outputId": "2d1a577f-fa8a-4191-e323-53262cd8d212"
      },
      "execution_count": 3,
      "outputs": [
        {
          "output_type": "execute_result",
          "data": {
            "text/plain": [
              "12"
            ]
          },
          "metadata": {},
          "execution_count": 3
        }
      ]
    },
    {
      "cell_type": "code",
      "source": [
        "number_list = [0, -1, 5, -2.7, 5.9, 0, 4.1]\n",
        "max(number_list), min(number_list)"
      ],
      "metadata": {
        "colab": {
          "base_uri": "https://localhost:8080/"
        },
        "id": "ZqjchV9PUMIu",
        "outputId": "59606df1-da79-4880-f875-65e01cd1fad3"
      },
      "execution_count": 4,
      "outputs": [
        {
          "output_type": "execute_result",
          "data": {
            "text/plain": [
              "(5.9, -2.7)"
            ]
          },
          "metadata": {},
          "execution_count": 4
        }
      ]
    },
    {
      "cell_type": "markdown",
      "source": [
        "### Tuples\n",
        "\n",
        "- like a list, but **immutable**"
      ],
      "metadata": {
        "id": "fbbylzskTwBR"
      }
    },
    {
      "cell_type": "code",
      "source": [
        "my_tuple = (1, 2, 3)\n",
        "type(my_tuple)"
      ],
      "metadata": {
        "colab": {
          "base_uri": "https://localhost:8080/"
        },
        "id": "yvXbNHuEUdI6",
        "outputId": "8ba6a47b-5216-40bc-95e9-b961e75ccd1d"
      },
      "execution_count": 5,
      "outputs": [
        {
          "output_type": "execute_result",
          "data": {
            "text/plain": [
              "tuple"
            ]
          },
          "metadata": {},
          "execution_count": 5
        }
      ]
    },
    {
      "cell_type": "markdown",
      "source": [
        "### Adding items to a list"
      ],
      "metadata": {
        "id": "HQEzCU0uUsIO"
      }
    },
    {
      "cell_type": "code",
      "source": [
        "my_list = [1, 2, 3]\n",
        "my_list.append(4)\n",
        "my_list"
      ],
      "metadata": {
        "colab": {
          "base_uri": "https://localhost:8080/"
        },
        "id": "eVOsAWVvUycz",
        "outputId": "927e5a0c-8fb7-4a78-fcf1-9a31c97221c0"
      },
      "execution_count": 6,
      "outputs": [
        {
          "output_type": "execute_result",
          "data": {
            "text/plain": [
              "[1, 2, 3, 4]"
            ]
          },
          "metadata": {},
          "execution_count": 6
        }
      ]
    },
    {
      "cell_type": "code",
      "source": [
        "my_list.append([0, 0, 0])\n",
        "my_list"
      ],
      "metadata": {
        "colab": {
          "base_uri": "https://localhost:8080/"
        },
        "id": "S8BUSTc2U34C",
        "outputId": "4f843e67-d513-47c3-86df-34adc1698bf9"
      },
      "execution_count": 7,
      "outputs": [
        {
          "output_type": "execute_result",
          "data": {
            "text/plain": [
              "[1, 2, 3, 4, [0, 0, 0]]"
            ]
          },
          "metadata": {},
          "execution_count": 7
        }
      ]
    },
    {
      "cell_type": "code",
      "source": [
        "my_list.extend([1, 1, 1])\n",
        "my_list"
      ],
      "metadata": {
        "colab": {
          "base_uri": "https://localhost:8080/"
        },
        "id": "pc8VRTz8VK5x",
        "outputId": "cfab04d5-b1dd-41bb-d86f-f329161e2c69"
      },
      "execution_count": 8,
      "outputs": [
        {
          "output_type": "execute_result",
          "data": {
            "text/plain": [
              "[1, 2, 3, 4, [0, 0, 0], 1, 1, 1]"
            ]
          },
          "metadata": {},
          "execution_count": 8
        }
      ]
    },
    {
      "cell_type": "code",
      "source": [
        "my_list.insert(2, 'index two')\n",
        "my_list"
      ],
      "metadata": {
        "colab": {
          "base_uri": "https://localhost:8080/"
        },
        "id": "FDCfJiZvVRRC",
        "outputId": "9e2bd068-636a-430e-f56a-33bb572ff98b"
      },
      "execution_count": 9,
      "outputs": [
        {
          "output_type": "execute_result",
          "data": {
            "text/plain": [
              "[1, 2, 'index two', 3, 4, [0, 0, 0], 1, 1, 1]"
            ]
          },
          "metadata": {},
          "execution_count": 9
        }
      ]
    },
    {
      "cell_type": "markdown",
      "source": [
        "### Removing items from a list"
      ],
      "metadata": {
        "id": "FitX60HeVsdS"
      }
    },
    {
      "cell_type": "code",
      "source": [
        "del my_list[2]\n",
        "my_list"
      ],
      "metadata": {
        "colab": {
          "base_uri": "https://localhost:8080/"
        },
        "id": "8cQCYmDCVvjv",
        "outputId": "ca63fcc3-912d-413a-dae9-6041bf7a48a7"
      },
      "execution_count": 10,
      "outputs": [
        {
          "output_type": "execute_result",
          "data": {
            "text/plain": [
              "[1, 2, 3, 4, [0, 0, 0], 1, 1, 1]"
            ]
          },
          "metadata": {},
          "execution_count": 10
        }
      ]
    },
    {
      "cell_type": "code",
      "source": [
        "my_list.remove(1)"
      ],
      "metadata": {
        "id": "lEA5HiJgV55K"
      },
      "execution_count": 11,
      "outputs": []
    },
    {
      "cell_type": "code",
      "source": [
        "my_list.remove(1)"
      ],
      "metadata": {
        "id": "vSLPI3pRV9ux"
      },
      "execution_count": 12,
      "outputs": []
    },
    {
      "cell_type": "code",
      "source": [
        "my_list # when there are more than it removes only the first"
      ],
      "metadata": {
        "colab": {
          "base_uri": "https://localhost:8080/"
        },
        "id": "Oz65HFOpWCCb",
        "outputId": "bfe85ef1-cb24-4f5a-cc16-854a01c98b01"
      },
      "execution_count": 13,
      "outputs": [
        {
          "output_type": "execute_result",
          "data": {
            "text/plain": [
              "[2, 3, 4, [0, 0, 0], 1, 1]"
            ]
          },
          "metadata": {},
          "execution_count": 13
        }
      ]
    },
    {
      "cell_type": "markdown",
      "source": [
        "### List Comprehensions\n",
        "\n",
        "`[expression for item in l if condition`"
      ],
      "metadata": {
        "id": "7xE4mLzAWRg-"
      }
    },
    {
      "cell_type": "code",
      "source": [
        "number_list = [0, -1, 5, -2.7, 5.9, 0, 4.1]\n",
        "positive_number_list = [i for i in number_list if i > 0]\n",
        "positive_number_list"
      ],
      "metadata": {
        "colab": {
          "base_uri": "https://localhost:8080/"
        },
        "id": "90STldGeWiI8",
        "outputId": "b8eff1dc-47d4-4098-e831-4e6bea01b31e"
      },
      "execution_count": 14,
      "outputs": [
        {
          "output_type": "execute_result",
          "data": {
            "text/plain": [
              "[5, 5.9, 4.1]"
            ]
          },
          "metadata": {},
          "execution_count": 14
        }
      ]
    },
    {
      "cell_type": "markdown",
      "source": [
        "### List Comprehension with SymPy\n",
        "\n",
        "Suppose we want to find $f(x) = x^{2} + 2x + 1$ for all $x$ in our number list. "
      ],
      "metadata": {
        "id": "mfV42vqCWy66"
      }
    },
    {
      "cell_type": "code",
      "source": [
        "number_list = [0, -1, 5, -2.7, 5.9, 0, 4.1]"
      ],
      "metadata": {
        "id": "4PENW46ZXGUi"
      },
      "execution_count": 15,
      "outputs": []
    },
    {
      "cell_type": "code",
      "source": [
        "x = sym.symbols('x')\n",
        "f = x**2 + 2*x + 1\n",
        "f"
      ],
      "metadata": {
        "colab": {
          "base_uri": "https://localhost:8080/",
          "height": 0
        },
        "id": "vdbnntC0XH1F",
        "outputId": "78241ee1-accc-4ee9-c31b-39a2e477f39a"
      },
      "execution_count": 16,
      "outputs": [
        {
          "output_type": "execute_result",
          "data": {
            "text/plain": [
              "x**2 + 2*x + 1"
            ],
            "text/latex": "$\\displaystyle x^{2} + 2 x + 1$"
          },
          "metadata": {},
          "execution_count": 16
        }
      ]
    },
    {
      "cell_type": "code",
      "source": [
        "[f.subs(x, i) for i in number_list]"
      ],
      "metadata": {
        "colab": {
          "base_uri": "https://localhost:8080/"
        },
        "id": "BeVhQs5fXSsD",
        "outputId": "78a9cb07-f6b7-4885-fea7-e22eb9b6032c"
      },
      "execution_count": 17,
      "outputs": [
        {
          "output_type": "execute_result",
          "data": {
            "text/plain": [
              "[1, 0, 36, 2.89000000000000, 47.6100000000000, 1, 26.0100000000000]"
            ]
          },
          "metadata": {},
          "execution_count": 17
        }
      ]
    },
    {
      "cell_type": "markdown",
      "source": [
        "## 3.1.2 Theory: Introduction to Limits"
      ],
      "metadata": {
        "id": "bP2pPDNHa8G-"
      }
    },
    {
      "cell_type": "markdown",
      "source": [
        "### Definition: Limit\n",
        "\n",
        "We write $\\lim_{x \\to a} f(x) = L$ if we can make $f(x)$ as close to $L$ as we like by taking $x$ as close to $a$ (on either side) but not equal to $a$. "
      ],
      "metadata": {
        "id": "JfE-N-rwbiNf"
      }
    },
    {
      "cell_type": "markdown",
      "source": [
        "### Example\n",
        "\n",
        "$$\n",
        "f(x) = x^{2}\n",
        "$$"
      ],
      "metadata": {
        "id": "vS9-IvXzcnwW"
      }
    },
    {
      "cell_type": "markdown",
      "source": [
        "$$\n",
        "\\lim_{x \\to 2} f(x) = 4\n",
        "$$"
      ],
      "metadata": {
        "id": "x9G-r__hdrZu"
      }
    },
    {
      "cell_type": "code",
      "source": [
        "f = x**2\n",
        "f"
      ],
      "metadata": {
        "colab": {
          "base_uri": "https://localhost:8080/",
          "height": 39
        },
        "id": "jP_8F5aBnVvg",
        "outputId": "e7349052-8925-47cd-db90-a8927774466c"
      },
      "execution_count": 18,
      "outputs": [
        {
          "output_type": "execute_result",
          "data": {
            "text/plain": [
              "x**2"
            ],
            "text/latex": "$\\displaystyle x^{2}$"
          },
          "metadata": {},
          "execution_count": 18
        }
      ]
    },
    {
      "cell_type": "code",
      "source": [
        "f.subs(x, 2), f.limit(x, 2)"
      ],
      "metadata": {
        "colab": {
          "base_uri": "https://localhost:8080/"
        },
        "id": "T3ykfvNenYrF",
        "outputId": "a5f2bba9-2b32-446d-fcbd-8c6bd322ab6d"
      },
      "execution_count": 19,
      "outputs": [
        {
          "output_type": "execute_result",
          "data": {
            "text/plain": [
              "(4, 4)"
            ]
          },
          "metadata": {},
          "execution_count": 19
        }
      ]
    },
    {
      "cell_type": "markdown",
      "source": [
        "### Example"
      ],
      "metadata": {
        "id": "sNLqCjKEetWM"
      }
    },
    {
      "cell_type": "code",
      "source": [
        "x = sym.symbols('x')\n",
        "\n",
        "f = sym.Piecewise((x**2 + 1, x > 0),\n",
        "                  (x + 1, x < 0), \n",
        "                  (3, True))"
      ],
      "metadata": {
        "id": "YNlTQ7SffIrO"
      },
      "execution_count": 20,
      "outputs": []
    },
    {
      "cell_type": "code",
      "source": [
        "print(sym.latex(f))"
      ],
      "metadata": {
        "colab": {
          "base_uri": "https://localhost:8080/"
        },
        "id": "_35TSo3Rf3Hy",
        "outputId": "dbfd1681-dc4a-4ab2-f018-0baeefb7c5cc"
      },
      "execution_count": 21,
      "outputs": [
        {
          "output_type": "stream",
          "name": "stdout",
          "text": [
            "\\begin{cases} x^{2} + 1 & \\text{for}\\: x > 0 \\\\x + 1 & \\text{for}\\: x < 0 \\\\3 & \\text{otherwise} \\end{cases}\n"
          ]
        }
      ]
    },
    {
      "cell_type": "markdown",
      "source": [
        "$$\n",
        "f(x) = \\begin{cases} x^{2} + 1 & \\text{for}\\: x > 0 \\\\x + 1 & \\text{for}\\: x < 0 \\\\3 & \\text{otherwise} \\end{cases}\n",
        "$$"
      ],
      "metadata": {
        "id": "d2pEhVxDfx5w"
      }
    },
    {
      "cell_type": "code",
      "source": [
        "sym.plot(f, xlim=[-3, 3], ylim=[-3, 3]);"
      ],
      "metadata": {
        "colab": {
          "base_uri": "https://localhost:8080/",
          "height": 297
        },
        "id": "tYiY8iC0fOiz",
        "outputId": "93fd647c-c40e-44d9-be76-7b1a4e5d02e6"
      },
      "execution_count": 22,
      "outputs": [
        {
          "output_type": "display_data",
          "data": {
            "text/plain": [
              "<Figure size 432x288 with 1 Axes>"
            ],
            "image/png": "[encoded data removed]"
          },
          "metadata": {
            "needs_background": "light"
          }
        }
      ]
    },
    {
      "cell_type": "markdown",
      "source": [
        "$$\n",
        "f(0) = 3\n",
        "$$\n",
        "\n",
        "$$\n",
        "\\lim_{x \\to 0} f(x) = 1\n",
        "$$"
      ],
      "metadata": {
        "id": "FjjDZ8CpgQPg"
      }
    },
    {
      "cell_type": "code",
      "source": [
        "f.subs(x, 0), f.subs(x, 0.0001), f.subs(x, -0.0001)"
      ],
      "metadata": {
        "colab": {
          "base_uri": "https://localhost:8080/"
        },
        "id": "TKQQugUWiQNk",
        "outputId": "7c064cd9-2a8c-4d73-924f-f4c310dc67dd"
      },
      "execution_count": 23,
      "outputs": [
        {
          "output_type": "execute_result",
          "data": {
            "text/plain": [
              "(3, 1.00000001000000, 0.999900000000000)"
            ]
          },
          "metadata": {},
          "execution_count": 23
        }
      ]
    },
    {
      "cell_type": "code",
      "source": [
        "f.limit(x, 0)"
      ],
      "metadata": {
        "colab": {
          "base_uri": "https://localhost:8080/",
          "height": 37
        },
        "id": "oPaJWG0ZnkhG",
        "outputId": "9ae2de85-2adf-449e-9de1-d00ed5b0f917"
      },
      "execution_count": 24,
      "outputs": [
        {
          "output_type": "execute_result",
          "data": {
            "text/plain": [
              "1"
            ],
            "text/latex": "$\\displaystyle 1$"
          },
          "metadata": {},
          "execution_count": 24
        }
      ]
    },
    {
      "cell_type": "markdown",
      "source": [
        "We can see in the above example, that $f(a)$ need not be the same as $\\lim_{x \\to a} f(x)$. In fact, the function doesn't even need to be defined at $a$ for there to be a limit as $x \\to a$."
      ],
      "metadata": {
        "id": "p6WDNfXyjJ3x"
      }
    },
    {
      "cell_type": "code",
      "source": [],
      "metadata": {
        "id": "MrGalPZy0Ld0"
      },
      "execution_count": 24,
      "outputs": []
    },
    {
      "cell_type": "markdown",
      "source": [
        "### Example\n",
        "\n",
        "$$\n",
        "f(x) = \\frac{\\sin{x}}{x}\n",
        "$$"
      ],
      "metadata": {
        "id": "ttmTiJ2mkika"
      }
    },
    {
      "cell_type": "markdown",
      "source": [
        "$f(0)$ is undefined, but $\\lim_{x \\to 0} f(x) = 1$"
      ],
      "metadata": {
        "id": "KPH_kWg8pcqt"
      }
    },
    {
      "cell_type": "code",
      "source": [
        "f = sym.sin(x) / x\n",
        "f"
      ],
      "metadata": {
        "colab": {
          "base_uri": "https://localhost:8080/",
          "height": 0
        },
        "id": "1HzxEqwGnteI",
        "outputId": "0a4e40d5-4b49-40c5-befa-eefdc7bdbd21"
      },
      "execution_count": 25,
      "outputs": [
        {
          "output_type": "execute_result",
          "data": {
            "text/plain": [
              "sin(x)/x"
            ],
            "text/latex": "$\\displaystyle \\frac{\\sin{\\left(x \\right)}}{x}$"
          },
          "metadata": {},
          "execution_count": 25
        }
      ]
    },
    {
      "cell_type": "code",
      "source": [
        "f.subs(x, 0), f.limit(x, 0)"
      ],
      "metadata": {
        "colab": {
          "base_uri": "https://localhost:8080/"
        },
        "id": "15FcpmqQnycX",
        "outputId": "25eabf88-56fa-4324-dd37-b8204ffd1ca4"
      },
      "execution_count": 26,
      "outputs": [
        {
          "output_type": "execute_result",
          "data": {
            "text/plain": [
              "(nan, 1)"
            ]
          },
          "metadata": {},
          "execution_count": 26
        }
      ]
    },
    {
      "cell_type": "code",
      "source": [
        "sym.plot(f);"
      ],
      "metadata": {
        "colab": {
          "base_uri": "https://localhost:8080/",
          "height": 0
        },
        "id": "2oGF8zHdn72F",
        "outputId": "ad85f05b-982d-44c9-c4d3-de64ff99d239"
      },
      "execution_count": 27,
      "outputs": [
        {
          "output_type": "display_data",
          "data": {
            "text/plain": [
              "<Figure size 432x288 with 1 Axes>"
            ],
            "image/png": "[encoded data removed]"
          },
          "metadata": {
            "needs_background": "light"
          }
        }
      ]
    },
    {
      "cell_type": "markdown",
      "source": [
        "### Finding limits using tables\n",
        "\n",
        "$$\n",
        "f(t) = \\frac{\\sqrt{t^{2} + 9} - 3}{t^{2}}\n",
        "$$"
      ],
      "metadata": {
        "id": "A_J67TK0qIpN"
      }
    },
    {
      "cell_type": "markdown",
      "source": [
        "What is $\\lim_{t \\to 0} f(t)$?"
      ],
      "metadata": {
        "id": "uWBSEGSDqshg"
      }
    },
    {
      "cell_type": "code",
      "source": [
        "t = sym.symbols('t')\n",
        "\n",
        "f = (sym.sqrt(t**2 + 9) - 3) / t**2\n",
        "f"
      ],
      "metadata": {
        "colab": {
          "base_uri": "https://localhost:8080/",
          "height": 0
        },
        "id": "FKt0nD-Nq7B-",
        "outputId": "867cb9b2-0394-4cf8-f130-02d5c8077c53"
      },
      "execution_count": 28,
      "outputs": [
        {
          "output_type": "execute_result",
          "data": {
            "text/plain": [
              "(sqrt(t**2 + 9) - 3)/t**2"
            ],
            "text/latex": "$\\displaystyle \\frac{\\sqrt{t^{2} + 9} - 3}{t^{2}}$"
          },
          "metadata": {},
          "execution_count": 28
        }
      ]
    },
    {
      "cell_type": "code",
      "source": [
        "x1 = [(1/n) for n in range(1, 100_000, 1000)]\n",
        "y1 = [f.subs(t, a) for a in x1]"
      ],
      "metadata": {
        "id": "s0_bPOyYspLA"
      },
      "execution_count": 29,
      "outputs": []
    },
    {
      "cell_type": "code",
      "source": [
        "x2 = [(-1/n) for n in range(1, 100_000, 1000)]\n",
        "y2 = [f.subs(t, a) for a in x2]"
      ],
      "metadata": {
        "id": "jnEyifQottiy"
      },
      "execution_count": 30,
      "outputs": []
    },
    {
      "cell_type": "code",
      "source": [
        "plt.plot(x1, y1)\n",
        "plt.plot(x2, y2)\n",
        "\n",
        "plt.show()"
      ],
      "metadata": {
        "colab": {
          "base_uri": "https://localhost:8080/",
          "height": 0
        },
        "id": "wk36FYuEw_w_",
        "outputId": "f93ba8ca-b059-4363-f5a1-3648e5fe2c7b"
      },
      "execution_count": 31,
      "outputs": [
        {
          "output_type": "display_data",
          "data": {
            "text/plain": [
              "<Figure size 432x288 with 1 Axes>"
            ],
            "image/png": "[encoded data removed]"
          },
          "metadata": {
            "needs_background": "light"
          }
        }
      ]
    },
    {
      "cell_type": "code",
      "source": [
        "f"
      ],
      "metadata": {
        "colab": {
          "base_uri": "https://localhost:8080/",
          "height": 0
        },
        "id": "-tlE_Te_v2by",
        "outputId": "5fbf6e8b-9186-419c-bcb4-9e753788bc7c"
      },
      "execution_count": 32,
      "outputs": [
        {
          "output_type": "execute_result",
          "data": {
            "text/plain": [
              "(sqrt(t**2 + 9) - 3)/t**2"
            ],
            "text/latex": "$\\displaystyle \\frac{\\sqrt{t^{2} + 9} - 3}{t^{2}}$"
          },
          "metadata": {},
          "execution_count": 32
        }
      ]
    },
    {
      "cell_type": "code",
      "source": [
        "f.subs(t, x1[-1]), f.subs(t, x2[-1]), f.limit(t, 0), f.limit(t, 0).evalf()"
      ],
      "metadata": {
        "colab": {
          "base_uri": "https://localhost:8080/"
        },
        "id": "wnWpHC4Fvn1g",
        "outputId": "13fd6a3f-507f-4904-d4e0-850f508fc42b"
      },
      "execution_count": 33,
      "outputs": [
        {
          "output_type": "execute_result",
          "data": {
            "text/plain": [
              "(0.166665646908500, 0.166665646908500, 1/6, 0.166666666666667)"
            ]
          },
          "metadata": {},
          "execution_count": 33
        }
      ]
    },
    {
      "cell_type": "code",
      "source": [
        "sym.plot(f, xlim=[-10, 10], ylim=[-.2, .2]);"
      ],
      "metadata": {
        "colab": {
          "base_uri": "https://localhost:8080/",
          "height": 0
        },
        "id": "u3KM3L6Cz6dG",
        "outputId": "8cdeb869-1768-443f-a62a-b1773d96a9fa"
      },
      "execution_count": 34,
      "outputs": [
        {
          "output_type": "display_data",
          "data": {
            "text/plain": [
              "<Figure size 432x288 with 1 Axes>"
            ],
            "image/png": "[encoded data removed]"
          },
          "metadata": {
            "needs_background": "light"
          }
        }
      ]
    },
    {
      "cell_type": "markdown",
      "source": [
        "### Example\n",
        "\n",
        "$\n",
        "f(x) = \\sin{\\frac{\\pi}{x}}\n",
        "$"
      ],
      "metadata": {
        "id": "Ef0kYzIU2KWS"
      }
    },
    {
      "cell_type": "markdown",
      "source": [
        "$\\lim_{x \\to 0} f(x)$ does not exist. "
      ],
      "metadata": {
        "id": "ZimUB1mA5iEW"
      }
    },
    {
      "cell_type": "code",
      "source": [
        "x = sym.symbols('x')\n",
        "\n",
        "f = sym.sin(sym.pi/x)\n",
        "f"
      ],
      "metadata": {
        "colab": {
          "base_uri": "https://localhost:8080/",
          "height": 0
        },
        "id": "o4wm9rEB2XW4",
        "outputId": "213b7f41-6b1f-4744-e036-b5d5fd742cc6"
      },
      "execution_count": 35,
      "outputs": [
        {
          "output_type": "execute_result",
          "data": {
            "text/plain": [
              "sin(pi/x)"
            ],
            "text/latex": "$\\displaystyle \\sin{\\left(\\frac{\\pi}{x} \\right)}$"
          },
          "metadata": {},
          "execution_count": 35
        }
      ]
    },
    {
      "cell_type": "code",
      "source": [
        "sym.plot(f);"
      ],
      "metadata": {
        "colab": {
          "base_uri": "https://localhost:8080/",
          "height": 0
        },
        "id": "cyo1mobd2lsD",
        "outputId": "c4571547-630a-4906-f347-43f51c39c694"
      },
      "execution_count": 36,
      "outputs": [
        {
          "output_type": "display_data",
          "data": {
            "text/plain": [
              "<Figure size 432x288 with 1 Axes>"
            ],
            "image/png": "[encoded data removed]"
          },
          "metadata": {
            "needs_background": "light"
          }
        }
      ]
    },
    {
      "cell_type": "code",
      "source": [
        "f.subs(x, 0), f.limit(x, 0)"
      ],
      "metadata": {
        "colab": {
          "base_uri": "https://localhost:8080/"
        },
        "id": "YmvnB02o3O3u",
        "outputId": "3f152071-5e14-45e7-e2bb-e696ec3dd099"
      },
      "execution_count": 37,
      "outputs": [
        {
          "output_type": "execute_result",
          "data": {
            "text/plain": [
              "(nan, AccumBounds(-1, 1))"
            ]
          },
          "metadata": {},
          "execution_count": 37
        }
      ]
    },
    {
      "cell_type": "code",
      "source": [
        "f.limit(x, 0, '-'), f.limit(x, 0, '+')"
      ],
      "metadata": {
        "colab": {
          "base_uri": "https://localhost:8080/"
        },
        "id": "jiR-wtSS3mOL",
        "outputId": "bd1168f9-8df3-4329-bdc8-18b2f247f2d7"
      },
      "execution_count": 38,
      "outputs": [
        {
          "output_type": "execute_result",
          "data": {
            "text/plain": [
              "(AccumBounds(-1, 1), AccumBounds(-1, 1))"
            ]
          },
          "metadata": {},
          "execution_count": 38
        }
      ]
    },
    {
      "cell_type": "markdown",
      "source": [
        "### Example: A constant function\n",
        "\n",
        "$f(x) = 5$"
      ],
      "metadata": {
        "id": "mypg4xe46C-I"
      }
    },
    {
      "cell_type": "markdown",
      "source": [
        "$\n",
        "\\lim_{x \\to 0} f(x) = 5\n",
        "$"
      ],
      "metadata": {
        "id": "wpeiQFYJ63EN"
      }
    },
    {
      "cell_type": "markdown",
      "source": [
        "### Example"
      ],
      "metadata": {
        "id": "3gk7v9Qc7X10"
      }
    },
    {
      "cell_type": "markdown",
      "source": [
        "$\n",
        "\\begin{align}\n",
        "\\lim_{x \\to 4} \\left(x^{2} - 4\\right) \n",
        "&= 4^2 - 4 \\\\\n",
        "&= 16 - 4 \\\\\n",
        "&= 12\n",
        "\\end{align}\n",
        "$"
      ],
      "metadata": {
        "id": "MVl0-alZ7vZi"
      }
    },
    {
      "cell_type": "code",
      "source": [
        "x = sym.symbols('x')\n",
        "\n",
        "f = x**2 - 4\n",
        "f"
      ],
      "metadata": {
        "colab": {
          "base_uri": "https://localhost:8080/",
          "height": 0
        },
        "id": "TBgYBP__8C-9",
        "outputId": "9a0b1a76-1eb9-483c-bb58-16067b748b61"
      },
      "execution_count": 39,
      "outputs": [
        {
          "output_type": "execute_result",
          "data": {
            "text/plain": [
              "x**2 - 4"
            ],
            "text/latex": "$\\displaystyle x^{2} - 4$"
          },
          "metadata": {},
          "execution_count": 39
        }
      ]
    },
    {
      "cell_type": "code",
      "source": [
        "f.limit(x, 4)"
      ],
      "metadata": {
        "colab": {
          "base_uri": "https://localhost:8080/",
          "height": 0
        },
        "id": "1ZNZGd518LIt",
        "outputId": "daa83772-d5cf-40f0-cad4-31b55779a192"
      },
      "execution_count": 40,
      "outputs": [
        {
          "output_type": "execute_result",
          "data": {
            "text/plain": [
              "12"
            ],
            "text/latex": "$\\displaystyle 12$"
          },
          "metadata": {},
          "execution_count": 40
        }
      ]
    },
    {
      "cell_type": "markdown",
      "source": [
        "## 3.1.3 Reading: Limits and Rates of Change"
      ],
      "metadata": {
        "id": "24B3vntq9GAS"
      }
    },
    {
      "cell_type": "markdown",
      "source": [
        "### Limits"
      ],
      "metadata": {
        "id": "F3TB7de0yBhT"
      }
    },
    {
      "cell_type": "markdown",
      "source": [
        "#### Intuitive definition of the limit\n",
        "\n",
        "Suppose a function $f(x)$ is defined on some open interval containing the point $a$. The **limit** of $f$ as $x$ approaches $a$ is about the behaviour of the function values $f(x)$ as $x$ gets closer to $a$. \n",
        "\n",
        "There are two possible directions to approach $a$ alnong the x-axis, so there are two different ***one-sided limits***. If on both sides, the function values $f(x)$ approach the same number $L$, then we write\n",
        "\n",
        "$$\n",
        "\\lim_{x \\to a} f(x) = L\n",
        "$$\n",
        "\n",
        "which is read, \"the limit of $f(x)$, as $x$ approaches $a$, equals $L$.\" This means that as $x$ gets closer to $a$ from either direction, the vlues of $f(x)$ get closer and closer to $L$. \n",
        "\n",
        "Note that the limit depends only on the behaviour *close* to $a$, not at $a$. $f(a)$ need not be defined for the $\\lim_{a \\to a} f(x)$ to exist, andm the limit need not equal $f(a)$. "
      ],
      "metadata": {
        "id": "dWmrbkiIyD3C"
      }
    },
    {
      "cell_type": "markdown",
      "source": [
        "#### Limits and infinity\n",
        "\n",
        "If a function's values become very large positive numbers as $x$ gets close to $a$, then we say, $\\lim_{x \\to a} = \\infty$. \n",
        "\n",
        "Similary, if a function's values become very large negative numbers as $x$ gets close to $a$, then we say $\\lim_{x \\to a} f(x) = -\\infty$. \n",
        "\n",
        "For example, $\\lim_{x \\to 0} \\ln{x} = -\\infty$"
      ],
      "metadata": {
        "id": "QnB5vlK_0TAa"
      }
    },
    {
      "cell_type": "code",
      "source": [
        "sym.plot(sym.ln(x));"
      ],
      "metadata": {
        "colab": {
          "base_uri": "https://localhost:8080/",
          "height": 297
        },
        "id": "UUyW_9ff2DK5",
        "outputId": "cff08208-e6ad-4e1a-dfb7-931fe0cbc406"
      },
      "execution_count": 41,
      "outputs": [
        {
          "output_type": "display_data",
          "data": {
            "text/plain": [
              "<Figure size 432x288 with 1 Axes>"
            ],
            "image/png": "[encoded data removed]"
          },
          "metadata": {
            "needs_background": "light"
          }
        }
      ]
    },
    {
      "cell_type": "markdown",
      "source": [
        "Similarly, we can examine the limits of a function $f(x)$ at $\\infty$ or $-\\infty$, that is, as $x$ becomes a very large positive number or a very large negative number. \n",
        "\n",
        "For example, $\\lim_{x \\to -\\infty} e^{x} = 0$. "
      ],
      "metadata": {
        "id": "SIiH9BHZ2Vsg"
      }
    },
    {
      "cell_type": "code",
      "source": [
        "sym.plot(sym.exp(x));"
      ],
      "metadata": {
        "colab": {
          "base_uri": "https://localhost:8080/",
          "height": 296
        },
        "id": "yHUAmbAg23lR",
        "outputId": "9f228a7b-e404-4fc8-86a7-c24c57373056"
      },
      "execution_count": 42,
      "outputs": [
        {
          "output_type": "display_data",
          "data": {
            "text/plain": [
              "<Figure size 432x288 with 1 Axes>"
            ],
            "image/png": "[encoded data removed]"
          },
          "metadata": {
            "needs_background": "light"
          }
        }
      ]
    },
    {
      "cell_type": "markdown",
      "source": [
        "Remember that $\\infty$ and $-\\infty$ are ***not numbers***. They are just a way for us to discuss a function's behaviour. "
      ],
      "metadata": {
        "id": "yA8PlpdS3DBb"
      }
    },
    {
      "cell_type": "markdown",
      "source": [
        "#### Rates of Change\n",
        "\n",
        "The **average rate of change** of the function $f(x)$ on the interval $x = a$ to $x = b$ is:\n",
        "\n",
        "$$\n",
        "\\frac{\\Delta{f}}{\\Delta{x}} = \\frac{f(b) - f(a)}{b - a}\n",
        "$$\n",
        "\n",
        "The **instantaneous rate of change** of the function $f(x)$ at $x = c$ is the limit of the average rates of change of $f$ over shorter and shorter intervals containing $c$. \n",
        "\n",
        "The instantaneous rate of change of $f$ at $x = c$ is also called the **derivative** which is denoted by $f'(c)$."
      ],
      "metadata": {
        "id": "HiCcu2G_4z9H"
      }
    },
    {
      "cell_type": "markdown",
      "source": [
        "#### Limit definition of the derivative\n",
        "\n",
        "$$\n",
        "f'(c) = \\lim_{h \\to 0} \\frac{f(c + h) - f(c)}{h}\n",
        "$$"
      ],
      "metadata": {
        "id": "IwMhTW3I6c2q"
      }
    },
    {
      "cell_type": "markdown",
      "source": [
        "$[c, c + h]$ is an interval containing $c$. "
      ],
      "metadata": {
        "id": "zlAiWki87alz"
      }
    },
    {
      "cell_type": "markdown",
      "source": [
        "$$\n",
        "\\frac{f(c + h) - f(c)}{(c + h) - c} =\n",
        "\\frac{f(c + h) - f(c)}{h}\n",
        "$$\n",
        "\n",
        "As $h$ goes to $0$, the interval gets shorter and shorter. "
      ],
      "metadata": {
        "id": "YlOqVNAT7tNJ"
      }
    },
    {
      "cell_type": "markdown",
      "source": [
        "#### Visualizing rates of change\n",
        "\n",
        "The average rate of change from $x = a$ to $x = b$ is the slope of the line between the two points, $(a, f(a))$ and $(b, f(b))$. Such a line, intersecting the graph of a function at two points, is called a **secant line**. \n",
        "\n",
        "Consider the point $P(c, f(c))$ on the graph of $f$. For some positive value of $h$, let $Q(c + h, f(c + h))$ be another point on the graph. Then draw the secant line between $P$ and $Q$. \n",
        "\n",
        "As $h$ gets smaller and smaller, the point $Q$ gets closer and closer to the point $P$ and the secant line between $P$ and $Q$ gets closer and closer to the **tangent line to the graph of** $f$ **at** $P$. This is the line that touches the graph of $f$ at the point $P$, and has the same slope as the graph of $f$ at that point. \n",
        "\n",
        "<img src='https://drive.google.com/uc?export=view&id=113UoUGufJ7vFkyaYA7y46HcggT-hl607'> "
      ],
      "metadata": {
        "id": "T4uVvVyQ9Ylt"
      }
    },
    {
      "cell_type": "markdown",
      "source": [
        "#### Summary\n",
        "\n",
        "The **average rate of change** over an interval is equal to the slope of the secant line between the two points.\n",
        "\n",
        "The **instantaneous rate of change** at a value is equal to the slope of the tangent line at a point. "
      ],
      "metadata": {
        "id": "EJ79dzZXEcaf"
      }
    },
    {
      "cell_type": "markdown",
      "source": [
        "## 3.1.4 Theory: Limits Involving Infinity"
      ],
      "metadata": {
        "id": "LgKiJoFME7s-"
      }
    }
  ]
}