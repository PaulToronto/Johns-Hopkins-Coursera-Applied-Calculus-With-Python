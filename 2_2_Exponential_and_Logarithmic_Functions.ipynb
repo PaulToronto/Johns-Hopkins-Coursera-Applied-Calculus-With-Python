{
  "nbformat": 4,
  "nbformat_minor": 0,
  "metadata": {
    "colab": {
      "provenance": [],
      "collapsed_sections": [],
      "toc_visible": true,
      "authorship_tag": "ABX9TyMnRxCMFPa0RdzPRE7MCVlE",
      "include_colab_link": true
    },
    "kernelspec": {
      "name": "python3",
      "display_name": "Python 3"
    },
    "language_info": {
      "name": "python"
    }
  },
  "cells": [
    {
      "cell_type": "markdown",
      "metadata": {
        "id": "view-in-github",
        "colab_type": "text"
      },
      "source": [
        "<a href=\"https://colab.research.google.com/github/PaulToronto/Johns-Hopkins-Coursera-Applied-Calculus-With-Python/blob/main/2_2_Exponential_and_Logarithmic_Functions.ipynb\" target=\"_parent\"><img src=\"https://colab.research.google.com/assets/colab-badge.svg\" alt=\"Open In Colab\"/></a>"
      ]
    },
    {
      "cell_type": "markdown",
      "source": [
        "# 2.2 Exponential and Logarithmic Functions"
      ],
      "metadata": {
        "id": "Kys1Z6sGE943"
      }
    },
    {
      "cell_type": "code",
      "source": [
        "import sympy as sym\n",
        "from math import isnan\n",
        "import numpy as np\n",
        "import matplotlib.pyplot as plt\n",
        "\n",
        "sym.init_printing(use_unicode=True)"
      ],
      "metadata": {
        "id": "2bcRZcv8IEHe"
      },
      "execution_count": 1,
      "outputs": []
    },
    {
      "cell_type": "code",
      "source": [
        "def display_f_of_x(str_expr):\n",
        "    f = sym.parse_expr(str_expr)\n",
        "\n",
        "    x = f.free_symbols.pop()\n",
        "\n",
        "    sym.plot(f, \n",
        "            line_color='red',\n",
        "            title='$f(x) = ' + sym.latex(f) + '$\\n'\n",
        "            )\n",
        "\n",
        "    x_intercepts = list()\n",
        "    for soln in sym.solve(f):\n",
        "        if soln.is_real:\n",
        "            x_intercepts.append(soln)\n",
        "    x_intercepts = None if len(x_intercepts) == 0 else x_intercepts\n",
        "\n",
        "\n",
        "    y_intercept = None if isnan(f.subs(x, 0)) else f.subs(x, 0)\n",
        "\n",
        "    slope = f.diff()\n",
        "    \n",
        "    domain = sym.calculus.util.continuous_domain(f, x, sym.S.Reals)\n",
        "\n",
        "    try:\n",
        "        range = sym.calculus.util.function_range(f, x, sym.S.Reals)\n",
        "    except NotImplementedError:\n",
        "        range = 'Not found'\n",
        "\n",
        "    print('\\nX-intercepts:')\n",
        "    display(x_intercepts)\n",
        "    print('\\nY-intercept:')\n",
        "    display(y_intercept)\n",
        "    print('\\nSlope (derivative):')\n",
        "    display(slope)\n",
        "    print('\\nDomain:')\n",
        "    display(domain)\n",
        "    print('\\nRange:')\n",
        "    display(range)"
      ],
      "metadata": {
        "id": "YJa4Ay_dIAWt"
      },
      "execution_count": 2,
      "outputs": []
    },
    {
      "cell_type": "markdown",
      "source": [
        "## 2.2.1 Theory: Exponential Functions"
      ],
      "metadata": {
        "id": "0f1Q_nQ-FDaL"
      }
    },
    {
      "cell_type": "markdown",
      "source": [
        "### Definition\n",
        "\n",
        "A function, $f(x)$, is **exponential** if it is of the form $f(x) = a^{x}, a > 0$.\n",
        "\n",
        "- Note that $f(x) = x^{2}$ is not an exponential function, it is a power function"
      ],
      "metadata": {
        "id": "M2hrMHe8F9_5"
      }
    },
    {
      "cell_type": "markdown",
      "source": [
        "### Example: $f(x) = 2^{x}$"
      ],
      "metadata": {
        "id": "OdFsuX35IeSR"
      }
    },
    {
      "cell_type": "code",
      "source": [
        "display_f_of_x('2**x')"
      ],
      "metadata": {
        "colab": {
          "base_uri": "https://localhost:8080/",
          "height": 571
        },
        "id": "Jl0y2hFvIu5c",
        "outputId": "79789af0-28df-457f-9bd3-c1225584dca7"
      },
      "execution_count": 3,
      "outputs": [
        {
          "output_type": "display_data",
          "data": {
            "text/plain": [
              "<Figure size 432x288 with 1 Axes>"
            ],
            "image/png": "[encoded data removed]"
          },
          "metadata": {
            "needs_background": "light"
          }
        },
        {
          "output_type": "stream",
          "name": "stdout",
          "text": [
            "\n",
            "X-intercepts:\n"
          ]
        },
        {
          "output_type": "display_data",
          "data": {
            "text/plain": [
              "None"
            ]
          },
          "metadata": {}
        },
        {
          "output_type": "stream",
          "name": "stdout",
          "text": [
            "\n",
            "Y-intercept:\n"
          ]
        },
        {
          "output_type": "display_data",
          "data": {
            "text/plain": [
              "1"
            ],
            "image/png": "[encoded data removed]",
            "text/latex": "$\\displaystyle 1$"
          },
          "metadata": {}
        },
        {
          "output_type": "stream",
          "name": "stdout",
          "text": [
            "\n",
            "Slope (derivative):\n"
          ]
        },
        {
          "output_type": "display_data",
          "data": {
            "text/plain": [
              " x       \n",
              "2 ⋅log(2)"
            ],
            "image/png": "[encoded data removed]",
            "text/latex": "$\\displaystyle 2^{x} \\log{\\left(2 \\right)}$"
          },
          "metadata": {}
        },
        {
          "output_type": "stream",
          "name": "stdout",
          "text": [
            "\n",
            "Domain:\n"
          ]
        },
        {
          "output_type": "display_data",
          "data": {
            "text/plain": [
              "ℝ"
            ],
            "image/png": "[encoded data removed]",
            "text/latex": "$\\displaystyle \\mathbb{R}$"
          },
          "metadata": {}
        },
        {
          "output_type": "stream",
          "name": "stdout",
          "text": [
            "\n",
            "Range:\n"
          ]
        },
        {
          "output_type": "display_data",
          "data": {
            "text/plain": [
              "(0, ∞)"
            ],
            "image/png": "[encoded data removed]",
            "text/latex": "$\\displaystyle \\left(0, \\infty\\right)$"
          },
          "metadata": {}
        }
      ]
    },
    {
      "cell_type": "code",
      "source": [
        "x = sym.symbols('x')\n",
        "\n",
        "expr1 = sym.Rational(1, 16)**x\n",
        "expr2 = sym.Rational(1, 2)**x\n",
        "expr3 = 2**x \n",
        "expr4 = 16**x\n",
        "\n",
        "fig = sym.plot(expr1, expr2, expr3, expr4,\n",
        "               ylim=[-1, 5],\n",
        "               legend=True,\n",
        "               show=False)\n",
        "\n",
        "fig[0].line_color = 'dodgerblue'\n",
        "fig[0].label = '$f(x) = ' + sym.latex(expr1) + '$'\n",
        " \n",
        "fig[1].line_color = 'yellow'\n",
        "fig[1].label = '$f(x) = ' + sym.latex(expr2) + '$'\n",
        "\n",
        "fig[2].line_color = 'red'\n",
        "fig[2].label = '$f(x) = ' + sym.latex(expr3) + '$'\n",
        "\n",
        "fig[3].line_color='green'\n",
        "fig[3].label = '$f(x) = ' + sym.latex(expr4) + '$'\n",
        "\n",
        "fig.show()"
      ],
      "metadata": {
        "colab": {
          "base_uri": "https://localhost:8080/",
          "height": 297
        },
        "id": "AfPmYS-nJUmT",
        "outputId": "41efdaee-6ee6-4379-b8ac-441700fc7ea2"
      },
      "execution_count": 4,
      "outputs": [
        {
          "output_type": "display_data",
          "data": {
            "text/plain": [
              "<Figure size 432x288 with 1 Axes>"
            ],
            "image/png": "[encoded data removed]"
          },
          "metadata": {
            "needs_background": "light"
          }
        }
      ]
    },
    {
      "cell_type": "markdown",
      "source": [
        "### Three Types of Exponential Functions\n",
        "\n",
        "1. $0 < a < 1$\n",
        "2. a = 1\n",
        "3. "
      ],
      "metadata": {
        "id": "JCa7BsunUhQO"
      }
    },
    {
      "cell_type": "code",
      "source": [
        "def plot_many(*args):\n",
        "    p = sym.plot(show=False, ylim=[-1, 5], legend=True)\n",
        "    for i, arg in enumerate(*args):\n",
        "        p.append(sym.plot(arg, show=False)[0])\n",
        "        p[i].label = '$f(x) = ' + sym.latex(arg) + '$'\n",
        "    \n",
        "    p[0].line_color = 'red'\n",
        "    p[1].line_color = 'lime'\n",
        "    p[len(*args) - 1].line_color = 'orange'\n",
        "    p.show()"
      ],
      "metadata": {
        "id": "1wKw4_nifiHg"
      },
      "execution_count": 5,
      "outputs": []
    },
    {
      "cell_type": "markdown",
      "source": [
        "#### Type 1: $0 < a < 1$\n",
        "\n",
        "- exponential decay\n",
        "- this is a decreasing function\n",
        "- y-intercept is always $1$\n",
        "- horizontal asymptote at $y = 0$"
      ],
      "metadata": {
        "id": "TamCfAwBU6El"
      }
    },
    {
      "cell_type": "code",
      "source": [
        "x = sym.symbols('x')\n",
        "exprs = [sym.Rational(n, 10)**x for n in (np.linspace(1, 9, 9))]\n",
        "exprs"
      ],
      "metadata": {
        "colab": {
          "base_uri": "https://localhost:8080/",
          "height": 59
        },
        "id": "N5FPJTH5U-_0",
        "outputId": "bc45be4e-a6fb-489c-a023-338d326a799e"
      },
      "execution_count": 6,
      "outputs": [
        {
          "output_type": "execute_result",
          "data": {
            "text/plain": [
              "⎡  -x   -x      x     x   -x     x      x     x      x⎤\n",
              "⎣10  , 5  , 3/10 , 2/5 , 2  , 3/5 , 7/10 , 4/5 , 9/10 ⎦"
            ],
            "image/png": "[encoded data removed]",
            "text/latex": "$\\displaystyle \\left[ \\left(\\frac{1}{10}\\right)^{x}, \\  \\left(\\frac{1}{5}\\right)^{x}, \\  \\left(\\frac{3}{10}\\right)^{x}, \\  \\left(\\frac{2}{5}\\right)^{x}, \\  \\left(\\frac{1}{2}\\right)^{x}, \\  \\left(\\frac{3}{5}\\right)^{x}, \\  \\left(\\frac{7}{10}\\right)^{x}, \\  \\left(\\frac{4}{5}\\right)^{x}, \\  \\left(\\frac{9}{10}\\right)^{x}\\right]$"
          },
          "metadata": {},
          "execution_count": 6
        }
      ]
    },
    {
      "cell_type": "code",
      "source": [
        "plot_many(exprs)"
      ],
      "metadata": {
        "colab": {
          "base_uri": "https://localhost:8080/",
          "height": 288
        },
        "id": "lTwNXG1GXqei",
        "outputId": "b33e63f1-a793-4c69-c880-a621c6ca6c80"
      },
      "execution_count": 7,
      "outputs": [
        {
          "output_type": "display_data",
          "data": {
            "text/plain": [
              "<Figure size 432x288 with 1 Axes>"
            ],
            "image/png": "[encoded data removed]"
          },
          "metadata": {
            "needs_background": "light"
          }
        }
      ]
    },
    {
      "cell_type": "markdown",
      "source": [
        "#### Type 2: $a = 1$\n",
        "\n",
        "- not really exponential\n",
        "- we don't study this one"
      ],
      "metadata": {
        "id": "OqsYKR_jfp0m"
      }
    },
    {
      "cell_type": "code",
      "source": [
        "x = sym.symbols('x')\n",
        "p = sym.plot(1**x, show=False, legend=True, ylim=[-1, 5], axis_center='center')\n",
        "p[0].label = '$f(x) = ' + sym.latex(1**x) + '$'\n",
        "p[0].line_color = 'red'\n",
        "\n",
        "p.show()"
      ],
      "metadata": {
        "colab": {
          "base_uri": "https://localhost:8080/",
          "height": 297
        },
        "id": "AREAqav1f6UO",
        "outputId": "b7efeb4c-242f-4562-bd96-e3e5cfa9d08b"
      },
      "execution_count": 8,
      "outputs": [
        {
          "output_type": "display_data",
          "data": {
            "text/plain": [
              "<Figure size 432x288 with 1 Axes>"
            ],
            "image/png": "[encoded data removed]"
          },
          "metadata": {
            "needs_background": "light"
          }
        }
      ]
    },
    {
      "cell_type": "markdown",
      "source": [
        "#### Type 3: $a > 0$\n",
        "\n",
        "- exponential growth\n",
        "- this is an increasing function\n",
        "- y-intercept is always $1$\n",
        "- horizontal asymptote at $y = 0$"
      ],
      "metadata": {
        "id": "11kADPuzjE0V"
      }
    },
    {
      "cell_type": "code",
      "source": [
        "x = sym.symbols('x')\n",
        "exprs = [a**x for a in (np.linspace(2, 10, 9))]\n",
        "exprs"
      ],
      "metadata": {
        "colab": {
          "base_uri": "https://localhost:8080/",
          "height": 37
        },
        "id": "37V12NrvjM8o",
        "outputId": "e5ee083f-9575-4481-8b00-86c0accdf6b8"
      },
      "execution_count": 9,
      "outputs": [
        {
          "output_type": "execute_result",
          "data": {
            "text/plain": [
              "⎡   x     x     x     x     x     x     x     x      x⎤\n",
              "⎣2.0 , 3.0 , 4.0 , 5.0 , 6.0 , 7.0 , 8.0 , 9.0 , 10.0 ⎦"
            ],
            "image/png": "[encoded data removed]",
            "text/latex": "$\\displaystyle \\left[ 2.0^{x}, \\  3.0^{x}, \\  4.0^{x}, \\  5.0^{x}, \\  6.0^{x}, \\  7.0^{x}, \\  8.0^{x}, \\  9.0^{x}, \\  10.0^{x}\\right]$"
          },
          "metadata": {},
          "execution_count": 9
        }
      ]
    },
    {
      "cell_type": "code",
      "source": [
        "plot_many(exprs)"
      ],
      "metadata": {
        "colab": {
          "base_uri": "https://localhost:8080/",
          "height": 297
        },
        "id": "DkzSm2AAjVY_",
        "outputId": "3bbd4881-7502-43c0-ca72-e20b616f8eeb"
      },
      "execution_count": 10,
      "outputs": [
        {
          "output_type": "display_data",
          "data": {
            "text/plain": [
              "<Figure size 432x288 with 1 Axes>"
            ],
            "image/png": "[encoded data removed]"
          },
          "metadata": {
            "needs_background": "light"
          }
        }
      ]
    },
    {
      "cell_type": "markdown",
      "source": [
        "### Example: $f(x) = -2^{-x} - 1$\n",
        "\n",
        "Let's plot this in steps:"
      ],
      "metadata": {
        "id": "-SlVScxWlNqp"
      }
    },
    {
      "cell_type": "code",
      "source": [
        "x = sym.symbols('x')"
      ],
      "metadata": {
        "id": "j7NT2L-L7YfK"
      },
      "execution_count": 11,
      "outputs": []
    },
    {
      "cell_type": "markdown",
      "source": [
        "#### Step 1: Plot $f(x) = 2^x$"
      ],
      "metadata": {
        "id": "ZwMwr5LTo8Id"
      }
    },
    {
      "cell_type": "code",
      "source": [
        "p = sym.plot(2**x, legend=True, show=False, ylim=[-3, 3])\n",
        "\n",
        "p[0].label = '$f(x) = ' + sym.latex(2**x) + '$'\n",
        "p[0].line_color = 'red'\n",
        "\n",
        "p.show()"
      ],
      "metadata": {
        "colab": {
          "base_uri": "https://localhost:8080/",
          "height": 297
        },
        "id": "WxS8FRmklarX",
        "outputId": "33796750-daf1-4595-dfd8-94962834c01b"
      },
      "execution_count": 12,
      "outputs": [
        {
          "output_type": "display_data",
          "data": {
            "text/plain": [
              "<Figure size 432x288 with 1 Axes>"
            ],
            "image/png": "[encoded data removed]"
          },
          "metadata": {
            "needs_background": "light"
          }
        }
      ]
    },
    {
      "cell_type": "markdown",
      "source": [
        "#### Step 2: Plot $f(x) = 2^{-x}$\n",
        "\n",
        "- When $x$ is replaced with $-x$ we have a refelection in the y-axis."
      ],
      "metadata": {
        "id": "AT_zq3mQo-DN"
      }
    },
    {
      "cell_type": "code",
      "source": [
        "p.append(sym.plot(2**(-x), show=False)[0])\n",
        "\n",
        "p[1].label = '$f(x) = ' + sym.latex(x**(-2)) + '$'\n",
        "p[1].line_color = 'lime'\n",
        "\n",
        "p.show()"
      ],
      "metadata": {
        "colab": {
          "base_uri": "https://localhost:8080/",
          "height": 297
        },
        "id": "gZasEd2DpIWO",
        "outputId": "09c53d93-8db8-461f-9556-58a8bf64ccac"
      },
      "execution_count": 13,
      "outputs": [
        {
          "output_type": "display_data",
          "data": {
            "text/plain": [
              "<Figure size 432x288 with 1 Axes>"
            ],
            "image/png": "[encoded data removed]"
          },
          "metadata": {
            "needs_background": "light"
          }
        }
      ]
    },
    {
      "cell_type": "markdown",
      "source": [
        "#### Step 3: Plot $f(x) = -2^{-x}$\n",
        "\n",
        "- When we negate the function, replacing $y$ with $-y$ we have a reflection in the x-axis."
      ],
      "metadata": {
        "id": "A4j4E-pNwp9m"
      }
    },
    {
      "cell_type": "code",
      "source": [
        "p.append(sym.plot(-2**(-x), show=False)[0])\n",
        "\n",
        "p[2].label = '$f(x) = ' + sym.latex(-x**(-2)) + '$'\n",
        "p[2].line_color = 'dodgerblue'\n",
        "\n",
        "p.show()"
      ],
      "metadata": {
        "colab": {
          "base_uri": "https://localhost:8080/",
          "height": 297
        },
        "id": "1nMx-DGAw3ai",
        "outputId": "9af04469-56ae-40b8-c9dc-0ff8f851b248"
      },
      "execution_count": 14,
      "outputs": [
        {
          "output_type": "display_data",
          "data": {
            "text/plain": [
              "<Figure size 432x288 with 1 Axes>"
            ],
            "image/png": "[encoded data removed]"
          },
          "metadata": {
            "needs_background": "light"
          }
        }
      ]
    },
    {
      "cell_type": "markdown",
      "source": [
        "#### Step 4: Plot $f(x) = -2^{-x} - 1$\n",
        "\n",
        "- Subtracting 1 from the function shifts the graph down by $1$ unit. "
      ],
      "metadata": {
        "id": "uh638X5WzLJV"
      }
    },
    {
      "cell_type": "code",
      "source": [
        "p.append(sym.plot(-2**(-x) - 1, show=False)[0])\n",
        "\n",
        "p[3].label = '$f(x) = ' + sym.latex(-x**(-2) - 1) + '$'\n",
        "p[3].line_color = 'pink'\n",
        "\n",
        "p.show()"
      ],
      "metadata": {
        "colab": {
          "base_uri": "https://localhost:8080/",
          "height": 297
        },
        "id": "dDuSTnNszYkL",
        "outputId": "fa5ebe8c-98ea-423a-b307-0f997b66d91b"
      },
      "execution_count": 15,
      "outputs": [
        {
          "output_type": "display_data",
          "data": {
            "text/plain": [
              "<Figure size 432x288 with 1 Axes>"
            ],
            "image/png": "[encoded data removed]"
          },
          "metadata": {
            "needs_background": "light"
          }
        }
      ]
    },
    {
      "cell_type": "markdown",
      "source": [
        "### Example: $f(x) = e^{x}$"
      ],
      "metadata": {
        "id": "ESsl3ISB19mq"
      }
    },
    {
      "cell_type": "code",
      "source": [
        "x = sym.symbols('x')\n",
        "sym.plot(sym.exp(x), \n",
        "         ylim=[-1, 5], xlim=[-4, 4],\n",
        "         legend=True, \n",
        "         label= '$f(x) = ' + sym.latex(sym.exp(x)) + '$',\n",
        "         line_color='red',\n",
        "         show=True);"
      ],
      "metadata": {
        "colab": {
          "base_uri": "https://localhost:8080/",
          "height": 297
        },
        "id": "X6bYWQUd1gu_",
        "outputId": "4e2232c0-8e8f-4608-d29d-7c0f9e3b75de"
      },
      "execution_count": 16,
      "outputs": [
        {
          "output_type": "display_data",
          "data": {
            "text/plain": [
              "<Figure size 432x288 with 1 Axes>"
            ],
            "image/png": "[encoded data removed]"
          },
          "metadata": {
            "needs_background": "light"
          }
        }
      ]
    },
    {
      "cell_type": "code",
      "source": [
        "x = sym.symbols('x')\n",
        "sym.calculus.util.continuous_domain(sym.exp(1)**x, x, sym.S.Reals)"
      ],
      "metadata": {
        "colab": {
          "base_uri": "https://localhost:8080/",
          "height": 38
        },
        "id": "ugMJRvYA6g_G",
        "outputId": "ede699f7-6c44-43b4-d12f-cc650148b4de"
      },
      "execution_count": 17,
      "outputs": [
        {
          "output_type": "execute_result",
          "data": {
            "text/plain": [
              "ℝ"
            ],
            "image/png": "[encoded data removed]",
            "text/latex": "$\\displaystyle \\mathbb{R}$"
          },
          "metadata": {},
          "execution_count": 17
        }
      ]
    },
    {
      "cell_type": "code",
      "source": [
        "x = sym.symbols('x')\n",
        "\n",
        "try:\n",
        "    range = sym.calculus.util.function_range(sym.exp(1)**x, x, sym.S.Reals)\n",
        "except NotImplementedError:\n",
        "    range = 'Not found'\n",
        "\n",
        "range"
      ],
      "metadata": {
        "colab": {
          "base_uri": "https://localhost:8080/",
          "height": 37
        },
        "id": "CsRdvO0A5p80",
        "outputId": "c5d4e620-89c4-4aca-c049-56bd70f73ea6"
      },
      "execution_count": 18,
      "outputs": [
        {
          "output_type": "execute_result",
          "data": {
            "text/plain": [
              "(0, ∞)"
            ],
            "image/png": "[encoded data removed]",
            "text/latex": "$\\displaystyle \\left(0, \\infty\\right)$"
          },
          "metadata": {},
          "execution_count": 18
        }
      ]
    },
    {
      "cell_type": "markdown",
      "source": [
        "### Example: Find the domain of $f(x) = \\frac{1 - e^{x}}{1 - e^{1 - x^{2}}}$"
      ],
      "metadata": {
        "id": "HTkJ0bdK4ifX"
      }
    },
    {
      "cell_type": "code",
      "source": [
        "# the denominator can't be equal to 0\n",
        "# solve for x when the denominator is 0\n",
        "sym.solve(1 - sym.exp(1 - x**2))"
      ],
      "metadata": {
        "colab": {
          "base_uri": "https://localhost:8080/",
          "height": 37
        },
        "id": "PY6GBEg39noZ",
        "outputId": "bc77847e-341f-46c1-e452-a0e4bd925453"
      },
      "execution_count": 19,
      "outputs": [
        {
          "output_type": "execute_result",
          "data": {
            "text/plain": [
              "[-1, 1]"
            ],
            "image/png": "[encoded data removed]",
            "text/latex": "$\\displaystyle \\left[ -1, \\  1\\right]$"
          },
          "metadata": {},
          "execution_count": 19
        }
      ]
    },
    {
      "cell_type": "markdown",
      "source": [
        "#### By hand\n",
        "\n",
        "$\n",
        "\\begin{align}\n",
        "1 - e^{1 - x^{2}} &= 0 \\\\\n",
        "e^{1 - x^{2}} &= 1 \\\\\n",
        "\\ln{e^{1 - x^{2}}} &= \\ln{1} \\\\\n",
        "1 - x^{2} = 0 \\\\\n",
        "x^{2} - 1 = 0 \\\\\n",
        "(x + 1)(x - 1) = 0 \\\\\n",
        "x = -1, x = 1\n",
        "\\end{align}\n",
        "$"
      ],
      "metadata": {
        "id": "73bJeVjm8s9p"
      }
    },
    {
      "cell_type": "markdown",
      "source": [
        "The domain is expressed below in 3 different ways:"
      ],
      "metadata": {
        "id": "YBsAy2-qA0Wp"
      }
    },
    {
      "cell_type": "markdown",
      "source": [
        "Domain: $\\left(-\\infty, -1\\right) \\cup \\left(-1, 1\\right) \\cup \\left(1, \\infty\\right)$\n",
        "\n",
        "\n"
      ],
      "metadata": {
        "id": "nxxvTvDU52cV"
      }
    },
    {
      "cell_type": "markdown",
      "source": [
        "Domain: $\\{x \\in \\mathbb{R}\\ : x \\ne -1\\ and\\: x \\ne 1\\}$"
      ],
      "metadata": {
        "id": "N6rolrlt7l6l"
      }
    },
    {
      "cell_type": "markdown",
      "source": [
        "Domain: $\\mathbb{R} \\backslash \\{\\pm1\\}$"
      ],
      "metadata": {
        "id": "tRruShxz_2q8"
      }
    },
    {
      "cell_type": "markdown",
      "source": [
        "### Example: $f(x) = 5^{x}$\n",
        "\n",
        "Find the `Difference Quotient`"
      ],
      "metadata": {
        "id": "EbltsGeLBTiC"
      }
    },
    {
      "cell_type": "markdown",
      "source": [
        "$\n",
        "\\begin{align}\n",
        "\\frac{f\\left(x + h\\right) - f\\left(x\\right)}{h} \n",
        "&= \\frac{5^{x + h} - 5^{x}}{h} \\\\\n",
        "&= \\frac{5^{x} 5^{h} - 5^{x}}{h} \\\\\n",
        "&= \\frac{5^{x}\\left(5^{h} - 1\\right)}{h}\n",
        "\\end{align}\n",
        "$"
      ],
      "metadata": {
        "id": "l7I5EMNxD_6I"
      }
    },
    {
      "cell_type": "markdown",
      "source": [
        "### Example: $f(x) = \\frac{1 - e^{\\frac{1}{x}}}{1 + e^{\\frac{1}{x}}}$ is an odd function. True or False? "
      ],
      "metadata": {
        "id": "wkg_3ZzaJCAa"
      }
    },
    {
      "cell_type": "markdown",
      "source": [
        "$\n",
        "\\begin{align}\n",
        "f(-x) &= \\frac\n",
        "{1 - e^{\\frac{1}{-x}}}\n",
        "{1 + e^{\\frac{1}{-x}}} \\\\\n",
        "&= \\frac\n",
        "{\\frac{1}{1} - \\frac{1}{e^{\\frac{1}{x}}}}\n",
        "{\\frac{1}{1} + \\frac{1}{e^{\\frac{1}{x}}}} \\\\\n",
        "&= \\frac\n",
        "{\\frac{e^{\\frac{1}{x}} - 1}{e^{\\frac{1}{x}}}}\n",
        "{\\frac{e^{\\frac{1}{x}} + 1}{e^{\\frac{1}{x}}}} \\\\\n",
        "&= \\frac \n",
        "{e^{\\frac{1}{x}} - 1}\n",
        "{e^{\\frac{1}{x}} + 1} \\\\\n",
        "&= \\frac \n",
        "{- 1 + e^{\\frac{1}{x}}}\n",
        "{1 + e^{\\frac{1}{x}}} \\\\\n",
        "&= -\\frac \n",
        "{1 - e^{\\frac{1}{x}}}\n",
        "{1 + e^{\\frac{1}{x}}} \\\\\n",
        "&= -f(x) \\\\\n",
        "\\end{align}\n",
        "$"
      ],
      "metadata": {
        "id": "S-8oZrFzKmjf"
      }
    },
    {
      "cell_type": "markdown",
      "source": [
        "$\\therefore$ f(x) is an odd function"
      ],
      "metadata": {
        "id": "jyxLsLarLTTq"
      }
    },
    {
      "cell_type": "code",
      "source": [
        "x = sym.symbols('x')\n",
        "\n",
        "f1 = (1 - np.e**(1/x)) / (1 + np.e**(1/x))\n",
        "f1"
      ],
      "metadata": {
        "colab": {
          "base_uri": "https://localhost:8080/",
          "height": 60
        },
        "id": "CJOWKHP5PYUw",
        "outputId": "2b46175d-f10c-466f-f495-c1dc8601f4b1"
      },
      "execution_count": 20,
      "outputs": [
        {
          "output_type": "execute_result",
          "data": {
            "text/plain": [
              "    x __________________\n",
              "1 - ╲╱ 2.71828182845905 \n",
              "────────────────────────\n",
              "x __________________    \n",
              "╲╱ 2.71828182845905  + 1"
            ],
            "image/png": "[encoded data removed]",
            "text/latex": "$\\displaystyle \\frac{1 - 2.71828182845905^{\\frac{1}{x}}}{2.71828182845905^{\\frac{1}{x}} + 1}$"
          },
          "metadata": {},
          "execution_count": 20
        }
      ]
    },
    {
      "cell_type": "markdown",
      "source": [
        "## 2.2.2 Theory: Logarithmic Functions"
      ],
      "metadata": {
        "id": "JJL8eHpeVzqd"
      }
    },
    {
      "cell_type": "markdown",
      "source": [
        "### Two ways to think about logaritms\n",
        "\n",
        "1. As the inverse of the exponential function\n",
        "2. As an exponent"
      ],
      "metadata": {
        "id": "CfN64X_oJ9VX"
      }
    },
    {
      "cell_type": "markdown",
      "source": [
        "#### `1.` As the inverse of the exponential function"
      ],
      "metadata": {
        "id": "zu8W542KK3rt"
      }
    },
    {
      "cell_type": "markdown",
      "source": [
        "- If $a \\ne 0$, $a \\ne 1$, $f(x) = a^{x}$ is either increasing ($a > 1$) or decreasing ($a < 1$)\n",
        "- The graph is $1:1$, so it passes the horizontal line test\n",
        "- If the graph is $1:1$, it has an inverse. \n",
        "- Since $f(x) = a^{x}$ is $1:1$, it has and inverse: $f^{-1}(x)$\n",
        "    - **Logarithmic functions** with the base $a$"
      ],
      "metadata": {
        "id": "iX4iXJqsLBRq"
      }
    },
    {
      "cell_type": "markdown",
      "source": [
        "$$\n",
        "f(x) = \\log_{a}{x} \\\\\n",
        "\\log_{a}x = y \\iff a^{y} = x\n",
        "$$"
      ],
      "metadata": {
        "id": "DiUmSf6WOx7h"
      }
    },
    {
      "cell_type": "markdown",
      "source": [
        "##### Example: $\\log_{2}{x}$\n",
        "\n",
        "- This is the inverse of $f(x) = 2^{x}$\n",
        "- Whatever $2^{x}$ does to the function, $\\log_{2}{x}$ will undo it\n",
        "- The inverse is a **reflection in the line y = x$"
      ],
      "metadata": {
        "id": "yEIqfWGiPtiN"
      }
    },
    {
      "cell_type": "code",
      "source": [
        "p = sym.plot(2**x, sym.log(x, 2), x,\n",
        "             xlim=(-4, 4), ylim=(-4, 4), \n",
        "             aspect_ratio=(1, 1), ylabel='y',\n",
        "             legend=True, show=False)\n",
        "\n",
        "p[0].line_color = 'red'\n",
        "p[0].label = '$y = ' + sym.latex(p[0].expr) + '$'\n",
        "\n",
        "p[1].line_color = 'dodgerblue'\n",
        "p[1].label = '$y = \\log_{2}{x}$'\n",
        "\n",
        "p[2].line_color = 'lightgray'\n",
        "p[2].label = None\n",
        "\n",
        "plt.rcParams['legend.loc'] = 'upper left'\n",
        "p.show()\n",
        "plt.rcParams.update(plt.rcParamsDefault)"
      ],
      "metadata": {
        "colab": {
          "base_uri": "https://localhost:8080/",
          "height": 297
        },
        "id": "NHkxVkNrRPi6",
        "outputId": "eddefd67-8184-472f-a1dd-cf7f7933f338"
      },
      "execution_count": 21,
      "outputs": [
        {
          "output_type": "display_data",
          "data": {
            "text/plain": [
              "<Figure size 432x288 with 1 Axes>"
            ],
            "image/png": "[encoded data removed]"
          },
          "metadata": {
            "needs_background": "light"
          }
        }
      ]
    },
    {
      "cell_type": "markdown",
      "source": [
        "$\\log_{2}{x} = 0 \\iff 2^{0} = x$\n",
        "\n",
        "- This happens when $x = 1$\n",
        "- The x-intercept is $(0, 1)$"
      ],
      "metadata": {
        "id": "ruVXgEQ3UK2q"
      }
    },
    {
      "cell_type": "markdown",
      "source": [
        "- This is a general rule: $\\log_{b}{1} = 0$\n",
        "- This is because $b^{0}$ is always $1$"
      ],
      "metadata": {
        "id": "_M8miuxdWgiY"
      }
    },
    {
      "cell_type": "code",
      "source": [
        "expr = sym.log(x, 2)\n",
        "expr"
      ],
      "metadata": {
        "colab": {
          "base_uri": "https://localhost:8080/",
          "height": 57
        },
        "id": "QO3E1DtlZo_p",
        "outputId": "023b1816-971a-40b4-9958-704c2835dc18"
      },
      "execution_count": 22,
      "outputs": [
        {
          "output_type": "execute_result",
          "data": {
            "text/plain": [
              "log(x)\n",
              "──────\n",
              "log(2)"
            ],
            "image/png": "[encoded data removed]",
            "text/latex": "$\\displaystyle \\frac{\\log{\\left(x \\right)}}{\\log{\\left(2 \\right)}}$"
          },
          "metadata": {},
          "execution_count": 22
        }
      ]
    },
    {
      "cell_type": "code",
      "source": [
        "domain = sym.calculus.util.continuous_domain(expr, x, sym.S.Reals)\n",
        "\n",
        "try:\n",
        "    range = sym.calculus.util.function_range(expr, x, sym.S.Reals)\n",
        "except NotImplementedError:\n",
        "    range = 'Not found'"
      ],
      "metadata": {
        "id": "4l1iTBeWZ8h-"
      },
      "execution_count": 23,
      "outputs": []
    },
    {
      "cell_type": "code",
      "source": [
        "domain"
      ],
      "metadata": {
        "colab": {
          "base_uri": "https://localhost:8080/",
          "height": 37
        },
        "id": "CFK410sbaZAi",
        "outputId": "0ad128a4-7556-457c-e855-295b96f5698a"
      },
      "execution_count": 24,
      "outputs": [
        {
          "output_type": "execute_result",
          "data": {
            "text/plain": [
              "(0, ∞)"
            ],
            "image/png": "[encoded data removed]",
            "text/latex": "$\\displaystyle \\left(0, \\infty\\right)$"
          },
          "metadata": {},
          "execution_count": 24
        }
      ]
    },
    {
      "cell_type": "code",
      "source": [
        "range"
      ],
      "metadata": {
        "colab": {
          "base_uri": "https://localhost:8080/",
          "height": 37
        },
        "id": "SiYRmXWNayIj",
        "outputId": "6531cfb0-4615-4b9a-d9a5-93da12130306"
      },
      "execution_count": 25,
      "outputs": [
        {
          "output_type": "execute_result",
          "data": {
            "text/plain": [
              "(-∞, ∞)"
            ],
            "image/png": "[encoded data removed]",
            "text/latex": "$\\displaystyle \\left(-\\infty, \\infty\\right)$"
          },
          "metadata": {},
          "execution_count": 25
        }
      ]
    },
    {
      "cell_type": "markdown",
      "source": [
        "It also has a vertical asymptote at $x = 0$"
      ],
      "metadata": {
        "id": "FsnopmRSeR7x"
      }
    },
    {
      "cell_type": "markdown",
      "source": [
        "#### `2.` As an exponent"
      ],
      "metadata": {
        "id": "_WXh4SPIfYHl"
      }
    },
    {
      "cell_type": "markdown",
      "source": [
        "##### Log Rules\n",
        "\n",
        "1. $\\log_{a}{xy} = \\log_{a}{x} + \\log_{a}{y}$\n",
        "    - logarithms turn multiplication into addition\n",
        "    - logarithms \"live upstairs\" where products become addition\n",
        "    - $a^{x} \\cdot a^{y} = a^{x + y}$\n",
        "2. $\\log_{a}{\\frac{x}{y}} = \\log_{a}{x} - \\log_{a}{y}$\n",
        "    - logarithms turn division into subtraction\n",
        "    - $\\frac{a^{x}}{a^{y}} = log_{a}{x} - \\log_{a}{y}$\n",
        "3. $\\log_{a}{x^{r}} = r\\log_{a}{x}$\n",
        "    - exponents fall out in front\n",
        "    - logarithms turn a power into a product\n",
        "    - $\\left(a^{x}\\right)^{r} = a^{xr}$\n",
        "4. $\\log_{a}{1} = 0$ and $\\log_{a}{0} = undefined$\n",
        "    - not really rules, but they're handy to remember"
      ],
      "metadata": {
        "id": "VP9vCG3femlM"
      }
    },
    {
      "cell_type": "markdown",
      "source": [
        "##### Example: $\\log_{5}{125}$"
      ],
      "metadata": {
        "id": "ekJTrzS-pRjx"
      }
    },
    {
      "cell_type": "markdown",
      "source": [
        "$\n",
        "\\begin{align}\n",
        "\\log_{5}{125} &= \\log_{5}{\\left(5 \\cdot 25\\right)} \\\\\n",
        "&= \\log_{5}{5} + \\log_{5}{\\left(5 \\cdot 5\\right)} \\\\\n",
        "&= \\log_{5}{5} + \\log_{5}{5} + \\log_{5}{5} \\\\\n",
        "&= 1 + 1 + 1 \\\\\n",
        "&= 3\n",
        "\\end{align}\n",
        "$"
      ],
      "metadata": {
        "id": "yTkqPdKWpe7-"
      }
    },
    {
      "cell_type": "markdown",
      "source": [
        "$\n",
        "log_{5}{125} = x \\iff 5^{x} = 125\n",
        "$"
      ],
      "metadata": {
        "id": "W0X-Vvx5sQN9"
      }
    },
    {
      "cell_type": "code",
      "source": [
        "sym.log(125, 5), np.log(125) / np.log(5)"
      ],
      "metadata": {
        "colab": {
          "base_uri": "https://localhost:8080/",
          "height": 37
        },
        "id": "167HxXYzrMfe",
        "outputId": "46542880-36e0-49fa-e574-057301172850"
      },
      "execution_count": 26,
      "outputs": [
        {
          "output_type": "execute_result",
          "data": {
            "text/plain": [
              "(3, 3.0000000000000004)"
            ],
            "image/png": "[encoded data removed]",
            "text/latex": "$\\displaystyle \\left( 3, \\  3.0\\right)$"
          },
          "metadata": {},
          "execution_count": 26
        }
      ]
    },
    {
      "cell_type": "code",
      "source": [
        "5**(sym.log(125, 5)), 5**(np.log(125) / np.log(5))"
      ],
      "metadata": {
        "colab": {
          "base_uri": "https://localhost:8080/",
          "height": 37
        },
        "id": "u_THnK5ZrXW9",
        "outputId": "9ce256e7-0e3e-40e3-f336-5db5e19db63b"
      },
      "execution_count": 27,
      "outputs": [
        {
          "output_type": "execute_result",
          "data": {
            "text/plain": [
              "(125, 125.00000000000009)"
            ],
            "image/png": "[encoded data removed]",
            "text/latex": "$\\displaystyle \\left( 125, \\  125.0\\right)$"
          },
          "metadata": {},
          "execution_count": 27
        }
      ]
    },
    {
      "cell_type": "markdown",
      "source": [
        "##### Simplify: $\\log_{2}{6} - log_{2}{15} + \\log_{2}{20}$"
      ],
      "metadata": {
        "id": "5m_nfG_DsyNW"
      }
    },
    {
      "cell_type": "markdown",
      "source": [
        "$\n",
        "\\begin{align}\n",
        "\\log_{2}{6} - log_{2}{15} + \\log_{2}{20}\n",
        "&= \\log_{2}\\left({\\frac{6}{15} \\cdot 20}\\right) \\\\\n",
        "&= \\log_{2}{8} \\\\\n",
        "&= \\log_{2}{2^{3}} \\\\\n",
        "&= 3 \\cdot log_2{2} \\\\\n",
        "&= 3 \\cdot 1 \\\\\n",
        "&= 3\n",
        "\\end{align}\n",
        "$"
      ],
      "metadata": {
        "id": "hHcSNhF4tyto"
      }
    },
    {
      "cell_type": "code",
      "source": [
        "expr = sym.log(6, 2) - sym.log(15, 2) + sym.log(20, 2)\n",
        "expr.evalf()"
      ],
      "metadata": {
        "colab": {
          "base_uri": "https://localhost:8080/",
          "height": 37
        },
        "id": "FnFDWR_AveWY",
        "outputId": "2055222c-9474-4fdd-9e5e-937796257d99"
      },
      "execution_count": 28,
      "outputs": [
        {
          "output_type": "execute_result",
          "data": {
            "text/plain": [
              "3.00000000000000"
            ],
            "image/png": "[encoded data removed]",
            "text/latex": "$\\displaystyle 3.0$"
          },
          "metadata": {},
          "execution_count": 28
        }
      ]
    },
    {
      "cell_type": "code",
      "source": [
        "np.log(6)/np.log(2) - np.log(15)/np.log(2) + np.log(20)/np.log(2)"
      ],
      "metadata": {
        "colab": {
          "base_uri": "https://localhost:8080/",
          "height": 37
        },
        "id": "J9WTkWQ2vpNt",
        "outputId": "64bfc256-ccec-439c-c125-36b165242f35"
      },
      "execution_count": 29,
      "outputs": [
        {
          "output_type": "execute_result",
          "data": {
            "text/plain": [
              "3.0"
            ],
            "image/png": "[encoded data removed]",
            "text/latex": "$\\displaystyle 3.0$"
          },
          "metadata": {},
          "execution_count": 29
        }
      ]
    },
    {
      "cell_type": "markdown",
      "source": [
        "## 2.2.3 Theory: The Natural Logarithm"
      ],
      "metadata": {
        "id": "CAeZbir8xxiY"
      }
    },
    {
      "cell_type": "markdown",
      "source": [
        "$$\n",
        "f(x) = \\ln{x} \\\\\n",
        "\\ln{x} = y \\iff e^{y} = x\n",
        "$$"
      ],
      "metadata": {
        "id": "OtfROAH8_YYS"
      }
    },
    {
      "cell_type": "markdown",
      "source": [
        "1. $\\ln{e^{x}} = x$\n",
        "2. $e^{\\ln{x}} = x$\n",
        "3. $\\ln(e) = 1$\n",
        "4. $\\ln(1) = 0$\n",
        "5. $\\ln(0) = undefined$"
      ],
      "metadata": {
        "id": "LvJuNkce_ua0"
      }
    },
    {
      "cell_type": "code",
      "source": [
        "p = sym.plot(sym.exp(1)**x, sym.log(x, sym.exp(1)), x,\n",
        "             xlim=(-4, 4), ylim=(-4, 4), \n",
        "             aspect_ratio=(1, 1), ylabel='y',\n",
        "             legend=True, show=False)\n",
        "\n",
        "p[0].line_color = 'red'\n",
        "p[0].label = '$y = ' + sym.latex(p[0].expr) + '$'\n",
        "\n",
        "p[1].line_color = 'dodgerblue'\n",
        "p[1].label = '$y = \\ln{x}$'\n",
        "\n",
        "p[2].line_color = 'lightgray'\n",
        "p[2].label = None\n",
        "\n",
        "plt.rcParams['legend.loc'] = 'upper left'\n",
        "p.show()\n",
        "plt.rcParams.update(plt.rcParamsDefault)"
      ],
      "metadata": {
        "colab": {
          "base_uri": "https://localhost:8080/",
          "height": 487
        },
        "id": "vqpW45BhCAXd",
        "outputId": "b73638be-b79a-4de9-bc95-06c62047ed4d"
      },
      "execution_count": 30,
      "outputs": [
        {
          "output_type": "display_data",
          "data": {
            "text/plain": [
              "<Figure size 640x480 with 1 Axes>"
            ],
            "image/png": "[encoded data removed]"
          },
          "metadata": {}
        }
      ]
    },
    {
      "cell_type": "code",
      "source": [
        "expr = sym.log(x, sym.exp(1))\n",
        "expr"
      ],
      "metadata": {
        "colab": {
          "base_uri": "https://localhost:8080/",
          "height": 39
        },
        "id": "1L4vY_6LDBYf",
        "outputId": "5b8235ec-dc3b-4d49-bc18-0b0de5d688d1"
      },
      "execution_count": 31,
      "outputs": [
        {
          "output_type": "execute_result",
          "data": {
            "text/plain": [
              "log(x)"
            ],
            "image/png": "[encoded data removed]",
            "text/latex": "$\\displaystyle \\log{\\left(x \\right)}$"
          },
          "metadata": {},
          "execution_count": 31
        }
      ]
    },
    {
      "cell_type": "code",
      "source": [
        "domain = sym.calculus.util.continuous_domain(expr, x, sym.S.Reals)\n",
        "\n",
        "try:\n",
        "    range = sym.calculus.util.function_range(expr, x, sym.S.Reals)\n",
        "except NotImplementedError:\n",
        "    range = 'Not found'"
      ],
      "metadata": {
        "id": "0ed0446JDFc6"
      },
      "execution_count": 32,
      "outputs": []
    },
    {
      "cell_type": "code",
      "source": [
        "domain"
      ],
      "metadata": {
        "colab": {
          "base_uri": "https://localhost:8080/",
          "height": 37
        },
        "id": "C29vG29HDMBm",
        "outputId": "693b42e4-63f3-45c7-dec0-05211c49276e"
      },
      "execution_count": 33,
      "outputs": [
        {
          "output_type": "execute_result",
          "data": {
            "text/plain": [
              "(0, ∞)"
            ],
            "image/png": "[encoded data removed]",
            "text/latex": "$\\displaystyle \\left(0, \\infty\\right)$"
          },
          "metadata": {},
          "execution_count": 33
        }
      ]
    },
    {
      "cell_type": "code",
      "source": [
        "range"
      ],
      "metadata": {
        "colab": {
          "base_uri": "https://localhost:8080/",
          "height": 37
        },
        "id": "hV-DvntJDNjh",
        "outputId": "b975b157-06b2-4846-b019-901af54da797"
      },
      "execution_count": 34,
      "outputs": [
        {
          "output_type": "execute_result",
          "data": {
            "text/plain": [
              "(-∞, ∞)"
            ],
            "image/png": "[encoded data removed]",
            "text/latex": "$\\displaystyle \\left(-\\infty, \\infty\\right)$"
          },
          "metadata": {},
          "execution_count": 34
        }
      ]
    },
    {
      "cell_type": "markdown",
      "source": [
        "It also has a vertical asymptote at $x = 0$"
      ],
      "metadata": {
        "id": "Dfwl41ScDkYl"
      }
    },
    {
      "cell_type": "markdown",
      "source": [
        "### Example: Solve for $x$\n",
        "\n",
        "$\\ln\\left({\\ln{x}}\\right) = 1$"
      ],
      "metadata": {
        "id": "2IepOctGE4BX"
      }
    },
    {
      "cell_type": "markdown",
      "source": [
        "$\n",
        "\\begin{align}\n",
        "\\ln\\left({\\ln{x}}\\right) &= 1 \\\\\n",
        "e^{\\ln\\left({\\ln{x}}\\right)} &= e^{1} \\\\\n",
        "\\ln{x} &= e \\\\\n",
        "e^{\\ln{x}} &= e^{e} \\\\\n",
        "x &= e^e\n",
        "\\end{align}\n",
        "$"
      ],
      "metadata": {
        "id": "QWGJpYshFe9x"
      }
    },
    {
      "cell_type": "code",
      "source": [
        "expr = sym.exp(1)**sym.exp(1)\n",
        "expr"
      ],
      "metadata": {
        "colab": {
          "base_uri": "https://localhost:8080/",
          "height": 39
        },
        "id": "t_62b3MXHFpm",
        "outputId": "fcc43d31-5953-4ede-be21-530cbabf5a53"
      },
      "execution_count": 35,
      "outputs": [
        {
          "output_type": "execute_result",
          "data": {
            "text/plain": [
              " ℯ\n",
              "ℯ "
            ],
            "image/png": "[encoded data removed]",
            "text/latex": "$\\displaystyle e^{e}$"
          },
          "metadata": {},
          "execution_count": 35
        }
      ]
    },
    {
      "cell_type": "code",
      "source": [
        "expr.evalf()"
      ],
      "metadata": {
        "colab": {
          "base_uri": "https://localhost:8080/",
          "height": 37
        },
        "id": "Y2dxQXVLHTF4",
        "outputId": "1c0aaa80-6e44-42e9-a933-af3e564e0864"
      },
      "execution_count": 36,
      "outputs": [
        {
          "output_type": "execute_result",
          "data": {
            "text/plain": [
              "15.1542622414793"
            ],
            "image/png": "[encoded data removed]",
            "text/latex": "$\\displaystyle 15.1542622414793$"
          },
          "metadata": {},
          "execution_count": 36
        }
      ]
    },
    {
      "cell_type": "code",
      "source": [
        "np.e**np.e"
      ],
      "metadata": {
        "colab": {
          "base_uri": "https://localhost:8080/",
          "height": 37
        },
        "id": "PaIbuT4lHVOF",
        "outputId": "e124618a-75c5-4717-d1af-a1f1dcf850ae"
      },
      "execution_count": 37,
      "outputs": [
        {
          "output_type": "execute_result",
          "data": {
            "text/plain": [
              "15.154262241479259"
            ],
            "image/png": "[encoded data removed]",
            "text/latex": "$\\displaystyle 15.1542622414793$"
          },
          "metadata": {},
          "execution_count": 37
        }
      ]
    },
    {
      "cell_type": "code",
      "source": [
        "x = sym.symbols('x')\n",
        "expr = sym.log(sym.log(x, sym.exp(1)), sym.exp(1))\n",
        "expr"
      ],
      "metadata": {
        "colab": {
          "base_uri": "https://localhost:8080/",
          "height": 39
        },
        "id": "uH6wm69FHZMW",
        "outputId": "6b60f716-2ad0-4434-abd0-2c92fb2cc7ea"
      },
      "execution_count": 38,
      "outputs": [
        {
          "output_type": "execute_result",
          "data": {
            "text/plain": [
              "log(log(x))"
            ],
            "image/png": "[encoded data removed]",
            "text/latex": "$\\displaystyle \\log{\\left(\\log{\\left(x \\right)} \\right)}$"
          },
          "metadata": {},
          "execution_count": 38
        }
      ]
    },
    {
      "cell_type": "code",
      "source": [
        "sym.solve(expr - 1, x)[0].evalf()"
      ],
      "metadata": {
        "colab": {
          "base_uri": "https://localhost:8080/",
          "height": 37
        },
        "id": "LokmJEnyH3tW",
        "outputId": "e815d5a1-6f13-474d-967c-02114d850836"
      },
      "execution_count": 39,
      "outputs": [
        {
          "output_type": "execute_result",
          "data": {
            "text/plain": [
              "15.1542622414793"
            ],
            "image/png": "[encoded data removed]",
            "text/latex": "$\\displaystyle 15.1542622414793$"
          },
          "metadata": {},
          "execution_count": 39
        }
      ]
    },
    {
      "cell_type": "markdown",
      "source": [
        "### Example: Solve for $x$\n",
        "\n",
        "$2^{x-5} = 3$"
      ],
      "metadata": {
        "id": "b_WgltDJKg_X"
      }
    },
    {
      "cell_type": "markdown",
      "source": [
        "$\n",
        "\\begin{align}\n",
        "2^{x-5} &= 3 \\\\\n",
        "\\log_{2}{2^{x-5}} &= \\log_{2}{3} \\\\\n",
        "x - 5 &= \\log_{2}{3} \\\\\n",
        "x &= \\log_{2}{3} + 5\n",
        "\\end{align}\n",
        "$"
      ],
      "metadata": {
        "id": "CXZk2N2dLEqI"
      }
    },
    {
      "cell_type": "markdown",
      "source": [
        "Alternately,\n",
        "\n",
        "$\n",
        "\\begin{align}\n",
        "2^{x-5} &= 3 \\\\\n",
        "\\ln{2^{x-5}} &= \\ln{3} \\\\\n",
        "\\left(x-5\\right) \\cdot \\ln{2} &= \\ln{3} \\\\\n",
        "x - 5 &= \\frac{\\ln{3}}{\\ln{2}} \\\\\n",
        "x &= \\frac{\\ln{3}}{\\ln{2}} + 5\n",
        "\\end{align}\n",
        "$"
      ],
      "metadata": {
        "id": "jhb0BG9IOcGI"
      }
    },
    {
      "cell_type": "code",
      "source": [
        "expr = sym.log(3, 2) + 5\n",
        "expr"
      ],
      "metadata": {
        "colab": {
          "base_uri": "https://localhost:8080/",
          "height": 57
        },
        "id": "qYkZ0GCuLrL-",
        "outputId": "c5a94e87-c8ba-4c7d-8487-0e06bdd5385c"
      },
      "execution_count": 40,
      "outputs": [
        {
          "output_type": "execute_result",
          "data": {
            "text/plain": [
              "log(3)    \n",
              "────── + 5\n",
              "log(2)    "
            ],
            "image/png": "[encoded data removed]",
            "text/latex": "$\\displaystyle \\frac{\\log{\\left(3 \\right)}}{\\log{\\left(2 \\right)}} + 5$"
          },
          "metadata": {},
          "execution_count": 40
        }
      ]
    },
    {
      "cell_type": "code",
      "source": [
        "# the alternate method\n",
        "(np.log(3) / np.log(np.e)) / (np.log(2) / np.log(np.e)) + 5"
      ],
      "metadata": {
        "colab": {
          "base_uri": "https://localhost:8080/",
          "height": 37
        },
        "id": "fQi3rCizP38A",
        "outputId": "121a676e-9b16-44da-ea7a-987568f13132"
      },
      "execution_count": 41,
      "outputs": [
        {
          "output_type": "execute_result",
          "data": {
            "text/plain": [
              "6.584962500721156"
            ],
            "image/png": "[encoded data removed]",
            "text/latex": "$\\displaystyle 6.58496250072116$"
          },
          "metadata": {},
          "execution_count": 41
        }
      ]
    },
    {
      "cell_type": "code",
      "source": [
        "expr.evalf()"
      ],
      "metadata": {
        "colab": {
          "base_uri": "https://localhost:8080/",
          "height": 37
        },
        "id": "iXXjCwHcLzBA",
        "outputId": "56d3ff39-f188-4597-ed26-4f146accaed8"
      },
      "execution_count": 42,
      "outputs": [
        {
          "output_type": "execute_result",
          "data": {
            "text/plain": [
              "6.58496250072116"
            ],
            "image/png": "[encoded data removed]",
            "text/latex": "$\\displaystyle 6.58496250072116$"
          },
          "metadata": {},
          "execution_count": 42
        }
      ]
    },
    {
      "cell_type": "code",
      "source": [
        "np.log(3) / np.log(2) + 5"
      ],
      "metadata": {
        "colab": {
          "base_uri": "https://localhost:8080/",
          "height": 37
        },
        "id": "ZGlF9KSyL1mX",
        "outputId": "5c695c79-8fad-4f15-b6fe-896d01588380"
      },
      "execution_count": 43,
      "outputs": [
        {
          "output_type": "execute_result",
          "data": {
            "text/plain": [
              "6.584962500721156"
            ],
            "image/png": "[encoded data removed]",
            "text/latex": "$\\displaystyle 6.58496250072116$"
          },
          "metadata": {},
          "execution_count": 43
        }
      ]
    },
    {
      "cell_type": "code",
      "source": [
        "x = sym.symbols('x')\n",
        "\n",
        "expr = 2**(x - 5)\n",
        "expr"
      ],
      "metadata": {
        "colab": {
          "base_uri": "https://localhost:8080/",
          "height": 37
        },
        "id": "nZBMEhPzL8bt",
        "outputId": "ed79dfe2-b847-4f4e-b8ff-8a2e3a197251"
      },
      "execution_count": 44,
      "outputs": [
        {
          "output_type": "execute_result",
          "data": {
            "text/plain": [
              " x - 5\n",
              "2     "
            ],
            "image/png": "[encoded data removed]",
            "text/latex": "$\\displaystyle 2^{x - 5}$"
          },
          "metadata": {},
          "execution_count": 44
        }
      ]
    },
    {
      "cell_type": "code",
      "source": [
        "sym.solve(expr - 3, x)[0].evalf()"
      ],
      "metadata": {
        "colab": {
          "base_uri": "https://localhost:8080/",
          "height": 37
        },
        "id": "-KhMFtevMJB9",
        "outputId": "898ba9dd-511e-40ab-cf3a-bf17061bcf4d"
      },
      "execution_count": 45,
      "outputs": [
        {
          "output_type": "execute_result",
          "data": {
            "text/plain": [
              "6.58496250072116"
            ],
            "image/png": "[encoded data removed]",
            "text/latex": "$\\displaystyle 6.58496250072116$"
          },
          "metadata": {},
          "execution_count": 45
        }
      ]
    },
    {
      "cell_type": "markdown",
      "source": [
        "### Example: Find the domain of $f$ and $f^{-1}$\n",
        "\n",
        "$f(x) = \\sqrt{3 - e^{2x}}$"
      ],
      "metadata": {
        "id": "4xGl3lG-RSeA"
      }
    },
    {
      "cell_type": "markdown",
      "source": [
        "#### Domain of $f$"
      ],
      "metadata": {
        "id": "nSGjb8_PTNzu"
      }
    },
    {
      "cell_type": "markdown",
      "source": [
        "$\n",
        "\\begin{align}\n",
        "3 - e^{2x} &\\ge 0 \\\\\n",
        "e^{2x} &\\le 3 \\\\\n",
        "\\ln{e^{2x}} &\\le \\ln{3} \\\\\n",
        "2x &\\le \\ln{3} \\\\\n",
        "x &\\le \\frac{\\ln{3}}{2}\n",
        "\\end{align}\n",
        "$"
      ],
      "metadata": {
        "id": "-cRmHFToTSmP"
      }
    },
    {
      "cell_type": "markdown",
      "source": [
        "Domain: $(-\\infty, \\frac{\\ln{3}}{2}]$"
      ],
      "metadata": {
        "id": "zjfdKiRrUidU"
      }
    },
    {
      "cell_type": "code",
      "source": [
        "x = sym.symbols('x')\n",
        "expr = sym.sqrt(3 - sym.exp(1)**(2*x))\n",
        "\n",
        "domain = sym.calculus.util.continuous_domain(expr, x, sym.S.Reals)\n",
        "domain"
      ],
      "metadata": {
        "colab": {
          "base_uri": "https://localhost:8080/",
          "height": 58
        },
        "id": "Ez42rYsuWAHU",
        "outputId": "edf2febd-2c33-445b-8ee9-d85fac2f2d75"
      },
      "execution_count": 46,
      "outputs": [
        {
          "output_type": "execute_result",
          "data": {
            "text/plain": [
              "⎛    log(3)⎤\n",
              "⎜-∞, ──────⎥\n",
              "⎝      2   ⎦"
            ],
            "image/png": "[encoded data removed]",
            "text/latex": "$\\displaystyle \\left(-\\infty, \\frac{\\log{\\left(3 \\right)}}{2}\\right]$"
          },
          "metadata": {},
          "execution_count": 46
        }
      ]
    },
    {
      "cell_type": "markdown",
      "source": [
        "#### Inverse of $f$: $f^{-1}$\n",
        "\n",
        "If the function $f$ has equation $y = \\sqrt{3 - e^{2x}}$, then $f^{-1}$ has the equation $x = \\sqrt{3 - e^{2y}}$.\n",
        "\n",
        "All we need to do is solve for $y$."
      ],
      "metadata": {
        "id": "Exc5iB_QW9gS"
      }
    },
    {
      "cell_type": "markdown",
      "source": [
        "$\n",
        "\\begin{align}\n",
        "x &= \\sqrt{3 - e^{2y}} \\\\ \n",
        "x^{2} &= 3 - e^{2y} \\\\\n",
        "-x^{2} + 3 &= e^{2y} \\\\\n",
        "\\ln\\left({-x^{2} + 3}\\right) &= \\ln{e^{2y}} \\\\\n",
        "\\ln\\left({-x^{2} + 3}\\right) &= 2y \\\\\n",
        "y &= \\frac{1}{2}\\ln\\left({-x^{2} + 3}\\right)\n",
        "\\end{align}\n",
        "$"
      ],
      "metadata": {
        "id": "O_Wl7uSrYgPJ"
      }
    },
    {
      "cell_type": "markdown",
      "source": [
        "$\n",
        "\\therefore f^{-1}(x) = \\frac{\\ln\\left({-x^{2} + 3}\\right)}{2}\n",
        "$"
      ],
      "metadata": {
        "id": "DWe7sEGUa0Gm"
      }
    },
    {
      "cell_type": "code",
      "source": [
        "x = sym.symbols('x')\n",
        "\n",
        "f = sym.sqrt(3 - sym.exp(1)**(2*x))\n",
        "f"
      ],
      "metadata": {
        "colab": {
          "base_uri": "https://localhost:8080/",
          "height": 40
        },
        "id": "v27VTk0RbFIB",
        "outputId": "aa5fa6b7-2844-498c-aec6-86dc25a3ae3f"
      },
      "execution_count": 47,
      "outputs": [
        {
          "output_type": "execute_result",
          "data": {
            "text/plain": [
              "   __________\n",
              "  ╱      2⋅x \n",
              "╲╱  3 - ℯ    "
            ],
            "image/png": "[encoded data removed]",
            "text/latex": "$\\displaystyle \\sqrt{3 - e^{2 x}}$"
          },
          "metadata": {},
          "execution_count": 47
        }
      ]
    },
    {
      "cell_type": "code",
      "source": [
        "f_inv = sym.log(-x**2 + 3, sym.exp(1)) / 2\n",
        "f_inv"
      ],
      "metadata": {
        "colab": {
          "base_uri": "https://localhost:8080/",
          "height": 56
        },
        "id": "AEtMuMCTbWh-",
        "outputId": "dace1e4a-0700-4d1c-f317-2deca58e5db6"
      },
      "execution_count": 48,
      "outputs": [
        {
          "output_type": "execute_result",
          "data": {
            "text/plain": [
              "   ⎛     2⎞\n",
              "log⎝3 - x ⎠\n",
              "───────────\n",
              "     2     "
            ],
            "image/png": "[encoded data removed]",
            "text/latex": "$\\displaystyle \\frac{\\log{\\left(3 - x^{2} \\right)}}{2}$"
          },
          "metadata": {},
          "execution_count": 48
        }
      ]
    },
    {
      "cell_type": "code",
      "source": [
        "p = sym.plot(f, f_inv, x,\n",
        "             xlim=(-4, 4), ylim=(-4, 4), \n",
        "             aspect_ratio=(1, 1), ylabel='y',\n",
        "             legend=True, show=False)\n",
        "\n",
        "p[0].line_color = 'red'\n",
        "p[0].label = '$y = ' + sym.latex(p[0].expr) + '$'\n",
        "\n",
        "p[1].line_color = 'dodgerblue'\n",
        "p[1].label = '$y = ' + sym.latex(p[1].expr) + '$'\n",
        "\n",
        "p[2].line_color = 'lightgray'\n",
        "p[2].label = None\n",
        "\n",
        "p.show()"
      ],
      "metadata": {
        "colab": {
          "base_uri": "https://localhost:8080/",
          "height": 487
        },
        "id": "XUGs93Drbjge",
        "outputId": "f9609b9c-70af-4b33-b9d2-a079b3a0bc54"
      },
      "execution_count": 49,
      "outputs": [
        {
          "output_type": "display_data",
          "data": {
            "text/plain": [
              "<Figure size 640x480 with 1 Axes>"
            ],
            "image/png": "[encoded data removed]"
          },
          "metadata": {}
        }
      ]
    },
    {
      "cell_type": "markdown",
      "source": [
        "#### Domain of $f^{-1}$\n",
        "\n",
        "$f^{-1}(x) = \\frac{1}{2}\\ln\\left({3 - x^{2}}\\right)$"
      ],
      "metadata": {
        "id": "9OlC1qZD1IJU"
      }
    },
    {
      "cell_type": "markdown",
      "source": [
        "$\n",
        "\\begin{align}\n",
        "3 - x^{2} &\\gt 0 \\\\\n",
        "x^{2} &\\lt 3 \\\\ \n",
        "x^{2} - 3 &\\lt 0 \\\\\n",
        "(x + \\sqrt{3})(x - \\sqrt{3}) &\\lt 0 \n",
        "\\end{align}\n",
        "$"
      ],
      "metadata": {
        "id": "KRkK8ywY2HuR"
      }
    },
    {
      "cell_type": "markdown",
      "source": [
        "<b>Case 1:</b>\n",
        "\n",
        "$x + \\sqrt{3} < 0$ and $x - \\sqrt{3} > 0$\n",
        "\n",
        "$\\implies$\n",
        "\n",
        "$x < -\\sqrt{3}$ and $x > \\sqrt{3}$\n",
        "\n",
        "Which is impossible.\n",
        "\n",
        "<b>Case 2:</b>\n",
        "\n",
        "$x + \\sqrt{3} > 0$ and $x - \\sqrt{3} < 0$\n",
        "\n",
        "$\\implies$\n",
        "\n",
        "$x > -\\sqrt{3}$ and $x < \\sqrt{3}$\n",
        "\n",
        "$\\therefore x \\in (-\\sqrt{3}, \\sqrt{3})$"
      ],
      "metadata": {
        "id": "unmVPKqw7nhd"
      }
    },
    {
      "cell_type": "code",
      "source": [
        "x = sym.symbols('x')\n",
        "\n",
        "domain = sym.calculus.util.continuous_domain(f_inv, x, sym.S.Reals)\n",
        "domain"
      ],
      "metadata": {
        "colab": {
          "base_uri": "https://localhost:8080/",
          "height": 47
        },
        "id": "nOOZQ6W21R3p",
        "outputId": "24c3cc2b-7550-4649-d6b9-f1d987e1d1e1"
      },
      "execution_count": 50,
      "outputs": [
        {
          "output_type": "execute_result",
          "data": {
            "text/plain": [
              "(-√3, √3)"
            ],
            "image/png": "[encoded data removed]",
            "text/latex": "$\\displaystyle \\left(- \\sqrt{3}, \\sqrt{3}\\right)$"
          },
          "metadata": {},
          "execution_count": 50
        }
      ]
    },
    {
      "cell_type": "code",
      "source": [
        "sym.sqrt(3).evalf()"
      ],
      "metadata": {
        "colab": {
          "base_uri": "https://localhost:8080/",
          "height": 37
        },
        "id": "GdJTXCK31XyO",
        "outputId": "787dae4c-a564-4639-a06d-ce31b74a5ea9"
      },
      "execution_count": 51,
      "outputs": [
        {
          "output_type": "execute_result",
          "data": {
            "text/plain": [
              "1.73205080756888"
            ],
            "image/png": "[encoded data removed]",
            "text/latex": "$\\displaystyle 1.73205080756888$"
          },
          "metadata": {},
          "execution_count": 51
        }
      ]
    }
  ]
}