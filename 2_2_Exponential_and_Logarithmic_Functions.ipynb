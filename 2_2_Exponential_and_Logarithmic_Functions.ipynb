{
  "nbformat": 4,
  "nbformat_minor": 0,
  "metadata": {
    "colab": {
      "provenance": [],
      "collapsed_sections": [],
      "toc_visible": true,
      "authorship_tag": "ABX9TyNpzHTlI+fxOf1JmMPSln5k",
      "include_colab_link": true
    },
    "kernelspec": {
      "name": "python3",
      "display_name": "Python 3"
    },
    "language_info": {
      "name": "python"
    }
  },
  "cells": [
    {
      "cell_type": "markdown",
      "metadata": {
        "id": "view-in-github",
        "colab_type": "text"
      },
      "source": [
        "<a href=\"https://colab.research.google.com/github/PaulToronto/Johns-Hopkins-Coursera-Applied-Calculus-With-Python/blob/main/2_2_Exponential_and_Logarithmic_Functions.ipynb\" target=\"_parent\"><img src=\"https://colab.research.google.com/assets/colab-badge.svg\" alt=\"Open In Colab\"/></a>"
      ]
    },
    {
      "cell_type": "markdown",
      "source": [
        "# 2.2 Exponential and Logarithmic Functions"
      ],
      "metadata": {
        "id": "Kys1Z6sGE943"
      }
    },
    {
      "cell_type": "code",
      "source": [
        "import sympy as sym\n",
        "from math import isnan\n",
        "import numpy as np\n",
        "import matplotlib.pyplot as plt\n",
        "\n",
        "sym.init_printing(use_unicode=True)"
      ],
      "metadata": {
        "id": "2bcRZcv8IEHe"
      },
      "execution_count": 1,
      "outputs": []
    },
    {
      "cell_type": "code",
      "source": [
        "def display_f_of_x(str_expr):\n",
        "    f = sym.parse_expr(str_expr)\n",
        "\n",
        "    x = f.free_symbols.pop()\n",
        "\n",
        "    sym.plot(f, \n",
        "            line_color='red',\n",
        "            title='$f(x) = ' + sym.latex(f) + '$\\n'\n",
        "            )\n",
        "\n",
        "    x_intercepts = list()\n",
        "    for soln in sym.solve(f):\n",
        "        if soln.is_real:\n",
        "            x_intercepts.append(soln)\n",
        "    x_intercepts = None if len(x_intercepts) == 0 else x_intercepts\n",
        "\n",
        "\n",
        "    y_intercept = None if isnan(f.subs(x, 0)) else f.subs(x, 0)\n",
        "\n",
        "    slope = f.diff()\n",
        "    \n",
        "    domain = sym.calculus.util.continuous_domain(f, x, sym.S.Reals)\n",
        "\n",
        "    try:\n",
        "        range = sym.calculus.util.function_range(f, x, sym.S.Reals)\n",
        "    except NotImplementedError:\n",
        "        range = 'Not found'\n",
        "\n",
        "    print('\\nX-intercepts:')\n",
        "    display(x_intercepts)\n",
        "    print('\\nY-intercept:')\n",
        "    display(y_intercept)\n",
        "    print('\\nSlope (derivative):')\n",
        "    display(slope)\n",
        "    print('\\nDomain:')\n",
        "    display(domain)\n",
        "    print('\\nRange:')\n",
        "    display(range)"
      ],
      "metadata": {
        "id": "YJa4Ay_dIAWt"
      },
      "execution_count": 2,
      "outputs": []
    },
    {
      "cell_type": "markdown",
      "source": [
        "## 2.2.1 Theory: Exponential Functions"
      ],
      "metadata": {
        "id": "0f1Q_nQ-FDaL"
      }
    },
    {
      "cell_type": "markdown",
      "source": [
        "### Definition\n",
        "\n",
        "A function, $f(x)$, is **exponential** if it is of the form $f(x) = a^{x}, a > 0$.\n",
        "\n",
        "- Note that $f(x) = x^{2}$ is not an exponential function, it is a power function"
      ],
      "metadata": {
        "id": "M2hrMHe8F9_5"
      }
    },
    {
      "cell_type": "markdown",
      "source": [
        "### Example: $f(x) = 2^{x}$"
      ],
      "metadata": {
        "id": "OdFsuX35IeSR"
      }
    },
    {
      "cell_type": "code",
      "source": [
        "display_f_of_x('2**x')"
      ],
      "metadata": {
        "colab": {
          "base_uri": "https://localhost:8080/",
          "height": 571
        },
        "id": "Jl0y2hFvIu5c",
        "outputId": "5b646b43-621e-4f0f-d3aa-3b1fc39296e8"
      },
      "execution_count": 3,
      "outputs": [
        {
          "output_type": "display_data",
          "data": {
            "text/plain": [
              "<Figure size 432x288 with 1 Axes>"
            ],
            "image/png": "[encoded data removed]"
          },
          "metadata": {
            "needs_background": "light"
          }
        },
        {
          "output_type": "stream",
          "name": "stdout",
          "text": [
            "\n",
            "X-intercepts:\n"
          ]
        },
        {
          "output_type": "display_data",
          "data": {
            "text/plain": [
              "None"
            ]
          },
          "metadata": {}
        },
        {
          "output_type": "stream",
          "name": "stdout",
          "text": [
            "\n",
            "Y-intercept:\n"
          ]
        },
        {
          "output_type": "display_data",
          "data": {
            "text/plain": [
              "1"
            ],
            "image/png": "[encoded data removed]",
            "text/latex": "$\\displaystyle 1$"
          },
          "metadata": {}
        },
        {
          "output_type": "stream",
          "name": "stdout",
          "text": [
            "\n",
            "Slope (derivative):\n"
          ]
        },
        {
          "output_type": "display_data",
          "data": {
            "text/plain": [
              " x       \n",
              "2 ⋅log(2)"
            ],
            "image/png": "[encoded data removed]",
            "text/latex": "$\\displaystyle 2^{x} \\log{\\left(2 \\right)}$"
          },
          "metadata": {}
        },
        {
          "output_type": "stream",
          "name": "stdout",
          "text": [
            "\n",
            "Domain:\n"
          ]
        },
        {
          "output_type": "display_data",
          "data": {
            "text/plain": [
              "ℝ"
            ],
            "image/png": "[encoded data removed]",
            "text/latex": "$\\displaystyle \\mathbb{R}$"
          },
          "metadata": {}
        },
        {
          "output_type": "stream",
          "name": "stdout",
          "text": [
            "\n",
            "Range:\n"
          ]
        },
        {
          "output_type": "display_data",
          "data": {
            "text/plain": [
              "(0, ∞)"
            ],
            "image/png": "[encoded data removed]",
            "text/latex": "$\\displaystyle \\left(0, \\infty\\right)$"
          },
          "metadata": {}
        }
      ]
    },
    {
      "cell_type": "code",
      "source": [
        "x = sym.symbols('x')\n",
        "\n",
        "expr1 = sym.Rational(1, 16)**x\n",
        "expr2 = sym.Rational(1, 2)**x\n",
        "expr3 = 2**x \n",
        "expr4 = 16**x\n",
        "\n",
        "fig = sym.plot(expr1, expr2, expr3, expr4,\n",
        "               ylim=[-1, 5],\n",
        "               legend=True,\n",
        "               show=False)\n",
        "\n",
        "fig[0].line_color = 'dodgerblue'\n",
        "fig[0].label = '$f(x) = ' + sym.latex(expr1) + '$'\n",
        " \n",
        "fig[1].line_color = 'yellow'\n",
        "fig[1].label = '$f(x) = ' + sym.latex(expr2) + '$'\n",
        "\n",
        "fig[2].line_color = 'red'\n",
        "fig[2].label = '$f(x) = ' + sym.latex(expr3) + '$'\n",
        "\n",
        "fig[3].line_color='green'\n",
        "fig[3].label = '$f(x) = ' + sym.latex(expr4) + '$'\n",
        "\n",
        "fig.show()"
      ],
      "metadata": {
        "colab": {
          "base_uri": "https://localhost:8080/",
          "height": 297
        },
        "id": "AfPmYS-nJUmT",
        "outputId": "758871b5-4e2a-4bd8-ac07-0d4a1c26fdc6"
      },
      "execution_count": 4,
      "outputs": [
        {
          "output_type": "display_data",
          "data": {
            "text/plain": [
              "<Figure size 432x288 with 1 Axes>"
            ],
            "image/png": "[encoded data removed]"
          },
          "metadata": {
            "needs_background": "light"
          }
        }
      ]
    },
    {
      "cell_type": "markdown",
      "source": [
        "### Three Types of Exponential Functions\n",
        "\n",
        "1. $0 < a < 1$\n",
        "2. $a = 1$\n",
        "3. $a > 1$"
      ],
      "metadata": {
        "id": "JCa7BsunUhQO"
      }
    },
    {
      "cell_type": "code",
      "source": [
        "def plot_many(*args):\n",
        "    p = sym.plot(show=False, ylim=[-1, 5], legend=True)\n",
        "    for i, arg in enumerate(*args):\n",
        "        p.append(sym.plot(arg, show=False)[0])\n",
        "        p[i].label = '$f(x) = ' + sym.latex(arg) + '$'\n",
        "    \n",
        "    p[0].line_color = 'red'\n",
        "    p[1].line_color = 'lime'\n",
        "    p[len(*args) - 1].line_color = 'orange'\n",
        "    p.show()"
      ],
      "metadata": {
        "id": "1wKw4_nifiHg"
      },
      "execution_count": 5,
      "outputs": []
    },
    {
      "cell_type": "markdown",
      "source": [
        "#### Type 1: $0 < a < 1$\n",
        "\n",
        "- exponential decay\n",
        "- this is a decreasing function\n",
        "- y-intercept is always $1$\n",
        "- horizontal asymptote at $y = 0$"
      ],
      "metadata": {
        "id": "TamCfAwBU6El"
      }
    },
    {
      "cell_type": "code",
      "source": [
        "x = sym.symbols('x')\n",
        "exprs = [sym.Rational(n, 10)**x for n in (np.linspace(1, 9, 9))]\n",
        "exprs"
      ],
      "metadata": {
        "colab": {
          "base_uri": "https://localhost:8080/",
          "height": 59
        },
        "id": "N5FPJTH5U-_0",
        "outputId": "0aacd43d-3ddc-4e29-8aa1-93746b0958c8"
      },
      "execution_count": 6,
      "outputs": [
        {
          "output_type": "execute_result",
          "data": {
            "text/plain": [
              "⎡  -x   -x      x     x   -x     x      x     x      x⎤\n",
              "⎣10  , 5  , 3/10 , 2/5 , 2  , 3/5 , 7/10 , 4/5 , 9/10 ⎦"
            ],
            "image/png": "[encoded data removed]",
            "text/latex": "$\\displaystyle \\left[ \\left(\\frac{1}{10}\\right)^{x}, \\  \\left(\\frac{1}{5}\\right)^{x}, \\  \\left(\\frac{3}{10}\\right)^{x}, \\  \\left(\\frac{2}{5}\\right)^{x}, \\  \\left(\\frac{1}{2}\\right)^{x}, \\  \\left(\\frac{3}{5}\\right)^{x}, \\  \\left(\\frac{7}{10}\\right)^{x}, \\  \\left(\\frac{4}{5}\\right)^{x}, \\  \\left(\\frac{9}{10}\\right)^{x}\\right]$"
          },
          "metadata": {},
          "execution_count": 6
        }
      ]
    },
    {
      "cell_type": "code",
      "source": [
        "plot_many(exprs)"
      ],
      "metadata": {
        "colab": {
          "base_uri": "https://localhost:8080/",
          "height": 288
        },
        "id": "lTwNXG1GXqei",
        "outputId": "444445ec-4be8-4ab8-c68a-c1d94c5119e8"
      },
      "execution_count": 7,
      "outputs": [
        {
          "output_type": "display_data",
          "data": {
            "text/plain": [
              "<Figure size 432x288 with 1 Axes>"
            ],
            "image/png": "[encoded data removed]"
          },
          "metadata": {
            "needs_background": "light"
          }
        }
      ]
    },
    {
      "cell_type": "markdown",
      "source": [
        "#### Type 2: $a = 1$\n",
        "\n",
        "- not really exponential\n",
        "- we don't study this one"
      ],
      "metadata": {
        "id": "OqsYKR_jfp0m"
      }
    },
    {
      "cell_type": "code",
      "source": [
        "x = sym.symbols('x')\n",
        "p = sym.plot(1**x, show=False, legend=True, ylim=[-1, 5], axis_center='center')\n",
        "p[0].label = '$f(x) = ' + sym.latex(1**x) + '$'\n",
        "p[0].line_color = 'red'\n",
        "\n",
        "p.show()"
      ],
      "metadata": {
        "colab": {
          "base_uri": "https://localhost:8080/",
          "height": 297
        },
        "id": "AREAqav1f6UO",
        "outputId": "596c7d6d-603c-44f1-f4a0-c2bf86e986f5"
      },
      "execution_count": 8,
      "outputs": [
        {
          "output_type": "display_data",
          "data": {
            "text/plain": [
              "<Figure size 432x288 with 1 Axes>"
            ],
            "image/png": "[encoded data removed]"
          },
          "metadata": {
            "needs_background": "light"
          }
        }
      ]
    },
    {
      "cell_type": "markdown",
      "source": [
        "#### Type 3: $a > 1$\n",
        "\n",
        "- exponential growth\n",
        "- this is an increasing function\n",
        "- y-intercept is always $1$\n",
        "- horizontal asymptote at $y = 0$"
      ],
      "metadata": {
        "id": "11kADPuzjE0V"
      }
    },
    {
      "cell_type": "code",
      "source": [
        "x = sym.symbols('x')\n",
        "exprs = [a**x for a in (np.linspace(2, 10, 9))]\n",
        "exprs"
      ],
      "metadata": {
        "colab": {
          "base_uri": "https://localhost:8080/",
          "height": 37
        },
        "id": "37V12NrvjM8o",
        "outputId": "492a83dd-8777-4313-df09-23f145acf121"
      },
      "execution_count": 9,
      "outputs": [
        {
          "output_type": "execute_result",
          "data": {
            "text/plain": [
              "⎡   x     x     x     x     x     x     x     x      x⎤\n",
              "⎣2.0 , 3.0 , 4.0 , 5.0 , 6.0 , 7.0 , 8.0 , 9.0 , 10.0 ⎦"
            ],
            "image/png": "[encoded data removed]",
            "text/latex": "$\\displaystyle \\left[ 2.0^{x}, \\  3.0^{x}, \\  4.0^{x}, \\  5.0^{x}, \\  6.0^{x}, \\  7.0^{x}, \\  8.0^{x}, \\  9.0^{x}, \\  10.0^{x}\\right]$"
          },
          "metadata": {},
          "execution_count": 9
        }
      ]
    },
    {
      "cell_type": "code",
      "source": [
        "plot_many(exprs)"
      ],
      "metadata": {
        "colab": {
          "base_uri": "https://localhost:8080/",
          "height": 297
        },
        "id": "DkzSm2AAjVY_",
        "outputId": "ed4b37c6-d216-4ca4-f8c4-90f93e201726"
      },
      "execution_count": 10,
      "outputs": [
        {
          "output_type": "display_data",
          "data": {
            "text/plain": [
              "<Figure size 432x288 with 1 Axes>"
            ],
            "image/png": "[encoded data removed]"
          },
          "metadata": {
            "needs_background": "light"
          }
        }
      ]
    },
    {
      "cell_type": "markdown",
      "source": [
        "### Example: $f(x) = -2^{-x} - 1$\n",
        "\n",
        "Let's plot this in steps:"
      ],
      "metadata": {
        "id": "-SlVScxWlNqp"
      }
    },
    {
      "cell_type": "code",
      "source": [
        "x = sym.symbols('x')"
      ],
      "metadata": {
        "id": "j7NT2L-L7YfK"
      },
      "execution_count": 11,
      "outputs": []
    },
    {
      "cell_type": "markdown",
      "source": [
        "#### Step 1: Plot $f(x) = 2^x$"
      ],
      "metadata": {
        "id": "ZwMwr5LTo8Id"
      }
    },
    {
      "cell_type": "code",
      "source": [
        "p = sym.plot(2**x, legend=True, show=False, ylim=[-3, 3])\n",
        "\n",
        "p[0].label = '$f(x) = ' + sym.latex(2**x) + '$'\n",
        "p[0].line_color = 'red'\n",
        "\n",
        "p.show()"
      ],
      "metadata": {
        "colab": {
          "base_uri": "https://localhost:8080/",
          "height": 297
        },
        "id": "WxS8FRmklarX",
        "outputId": "949340de-d543-43de-d30b-2ff5c59100b1"
      },
      "execution_count": 12,
      "outputs": [
        {
          "output_type": "display_data",
          "data": {
            "text/plain": [
              "<Figure size 432x288 with 1 Axes>"
            ],
            "image/png": "[encoded data removed]"
          },
          "metadata": {
            "needs_background": "light"
          }
        }
      ]
    },
    {
      "cell_type": "markdown",
      "source": [
        "#### Step 2: Plot $f(x) = 2^{-x}$\n",
        "\n",
        "- When $x$ is replaced with $-x$ we have a refelection in the y-axis."
      ],
      "metadata": {
        "id": "AT_zq3mQo-DN"
      }
    },
    {
      "cell_type": "code",
      "source": [
        "p.append(sym.plot(2**(-x), show=False)[0])\n",
        "\n",
        "p[1].label = '$f(x) = ' + sym.latex(x**(-2)) + '$'\n",
        "p[1].line_color = 'lime'\n",
        "\n",
        "p.show()"
      ],
      "metadata": {
        "colab": {
          "base_uri": "https://localhost:8080/",
          "height": 297
        },
        "id": "gZasEd2DpIWO",
        "outputId": "09b571f3-4022-475d-c01c-0f7aa98bba7f"
      },
      "execution_count": 13,
      "outputs": [
        {
          "output_type": "display_data",
          "data": {
            "text/plain": [
              "<Figure size 432x288 with 1 Axes>"
            ],
            "image/png": "[encoded data removed]"
          },
          "metadata": {
            "needs_background": "light"
          }
        }
      ]
    },
    {
      "cell_type": "markdown",
      "source": [
        "#### Step 3: Plot $f(x) = -2^{-x}$\n",
        "\n",
        "- When we negate the function, replacing $y$ with $-y$ we have a reflection in the x-axis."
      ],
      "metadata": {
        "id": "A4j4E-pNwp9m"
      }
    },
    {
      "cell_type": "code",
      "source": [
        "p.append(sym.plot(-2**(-x), show=False)[0])\n",
        "\n",
        "p[2].label = '$f(x) = ' + sym.latex(-x**(-2)) + '$'\n",
        "p[2].line_color = 'dodgerblue'\n",
        "\n",
        "p.show()"
      ],
      "metadata": {
        "colab": {
          "base_uri": "https://localhost:8080/",
          "height": 297
        },
        "id": "1nMx-DGAw3ai",
        "outputId": "77340d3b-fa46-487e-c1d5-db10997daa18"
      },
      "execution_count": 14,
      "outputs": [
        {
          "output_type": "display_data",
          "data": {
            "text/plain": [
              "<Figure size 432x288 with 1 Axes>"
            ],
            "image/png": "[encoded data removed]"
          },
          "metadata": {
            "needs_background": "light"
          }
        }
      ]
    },
    {
      "cell_type": "markdown",
      "source": [
        "#### Step 4: Plot $f(x) = -2^{-x} - 1$\n",
        "\n",
        "- Subtracting 1 from the function shifts the graph down by $1$ unit. "
      ],
      "metadata": {
        "id": "uh638X5WzLJV"
      }
    },
    {
      "cell_type": "code",
      "source": [
        "p.append(sym.plot(-2**(-x) - 1, show=False)[0])\n",
        "\n",
        "p[3].label = '$f(x) = ' + sym.latex(-x**(-2) - 1) + '$'\n",
        "p[3].line_color = 'pink'\n",
        "\n",
        "p.show()"
      ],
      "metadata": {
        "colab": {
          "base_uri": "https://localhost:8080/",
          "height": 297
        },
        "id": "dDuSTnNszYkL",
        "outputId": "a1c702eb-de36-4e80-b87f-1c9eb489fec3"
      },
      "execution_count": 15,
      "outputs": [
        {
          "output_type": "display_data",
          "data": {
            "text/plain": [
              "<Figure size 432x288 with 1 Axes>"
            ],
            "image/png": "[encoded data removed]"
          },
          "metadata": {
            "needs_background": "light"
          }
        }
      ]
    },
    {
      "cell_type": "markdown",
      "source": [
        "### Example: $f(x) = e^{x}$"
      ],
      "metadata": {
        "id": "ESsl3ISB19mq"
      }
    },
    {
      "cell_type": "code",
      "source": [
        "x = sym.symbols('x')\n",
        "sym.plot(sym.exp(x), \n",
        "         ylim=[-1, 5], xlim=[-4, 4],\n",
        "         legend=True, \n",
        "         label= '$f(x) = ' + sym.latex(sym.exp(x)) + '$',\n",
        "         line_color='red',\n",
        "         show=True);"
      ],
      "metadata": {
        "colab": {
          "base_uri": "https://localhost:8080/",
          "height": 297
        },
        "id": "X6bYWQUd1gu_",
        "outputId": "c474bf21-1284-4b83-b631-36945e233733"
      },
      "execution_count": 16,
      "outputs": [
        {
          "output_type": "display_data",
          "data": {
            "text/plain": [
              "<Figure size 432x288 with 1 Axes>"
            ],
            "image/png": "[encoded data removed]"
          },
          "metadata": {
            "needs_background": "light"
          }
        }
      ]
    },
    {
      "cell_type": "code",
      "source": [
        "x = sym.symbols('x')\n",
        "sym.calculus.util.continuous_domain(sym.exp(1)**x, x, sym.S.Reals)"
      ],
      "metadata": {
        "colab": {
          "base_uri": "https://localhost:8080/",
          "height": 38
        },
        "id": "ugMJRvYA6g_G",
        "outputId": "bfcdfa89-1614-4d03-b042-17d6e3a21bd2"
      },
      "execution_count": 17,
      "outputs": [
        {
          "output_type": "execute_result",
          "data": {
            "text/plain": [
              "ℝ"
            ],
            "image/png": "[encoded data removed]",
            "text/latex": "$\\displaystyle \\mathbb{R}$"
          },
          "metadata": {},
          "execution_count": 17
        }
      ]
    },
    {
      "cell_type": "code",
      "source": [
        "x = sym.symbols('x')\n",
        "\n",
        "try:\n",
        "    range = sym.calculus.util.function_range(sym.exp(1)**x, x, sym.S.Reals)\n",
        "except NotImplementedError:\n",
        "    range = 'Not found'\n",
        "\n",
        "range"
      ],
      "metadata": {
        "colab": {
          "base_uri": "https://localhost:8080/",
          "height": 37
        },
        "id": "CsRdvO0A5p80",
        "outputId": "af355012-d021-4347-b5ce-900688f05937"
      },
      "execution_count": 18,
      "outputs": [
        {
          "output_type": "execute_result",
          "data": {
            "text/plain": [
              "(0, ∞)"
            ],
            "image/png": "[encoded data removed]",
            "text/latex": "$\\displaystyle \\left(0, \\infty\\right)$"
          },
          "metadata": {},
          "execution_count": 18
        }
      ]
    },
    {
      "cell_type": "markdown",
      "source": [
        "### Example: Find the domain of $f(x) = \\frac{1 - e^{x}}{1 - e^{1 - x^{2}}}$"
      ],
      "metadata": {
        "id": "HTkJ0bdK4ifX"
      }
    },
    {
      "cell_type": "code",
      "source": [
        "# the denominator can't be equal to 0\n",
        "# solve for x when the denominator is 0\n",
        "sym.solve(1 - sym.exp(1 - x**2))"
      ],
      "metadata": {
        "colab": {
          "base_uri": "https://localhost:8080/",
          "height": 37
        },
        "id": "PY6GBEg39noZ",
        "outputId": "252f82d8-24ea-4755-ac2c-a99e5c2ba11d"
      },
      "execution_count": 19,
      "outputs": [
        {
          "output_type": "execute_result",
          "data": {
            "text/plain": [
              "[-1, 1]"
            ],
            "image/png": "[encoded data removed]",
            "text/latex": "$\\displaystyle \\left[ -1, \\  1\\right]$"
          },
          "metadata": {},
          "execution_count": 19
        }
      ]
    },
    {
      "cell_type": "markdown",
      "source": [
        "#### By hand\n",
        "\n",
        "$\n",
        "\\begin{align}\n",
        "1 - e^{1 - x^{2}} &= 0 \\\\\n",
        "e^{1 - x^{2}} &= 1 \\\\\n",
        "\\ln{e^{1 - x^{2}}} &= \\ln{1} \\\\\n",
        "1 - x^{2} = 0 \\\\\n",
        "x^{2} - 1 = 0 \\\\\n",
        "(x + 1)(x - 1) = 0 \\\\\n",
        "x = -1, x = 1\n",
        "\\end{align}\n",
        "$"
      ],
      "metadata": {
        "id": "73bJeVjm8s9p"
      }
    },
    {
      "cell_type": "markdown",
      "source": [
        "The domain is expressed below in 3 different ways:"
      ],
      "metadata": {
        "id": "YBsAy2-qA0Wp"
      }
    },
    {
      "cell_type": "markdown",
      "source": [
        "Domain: $\\left(-\\infty, -1\\right) \\cup \\left(-1, 1\\right) \\cup \\left(1, \\infty\\right)$\n",
        "\n",
        "\n"
      ],
      "metadata": {
        "id": "nxxvTvDU52cV"
      }
    },
    {
      "cell_type": "markdown",
      "source": [
        "Domain: $\\{x \\in \\mathbb{R}\\ : x \\ne -1\\ and\\: x \\ne 1\\}$"
      ],
      "metadata": {
        "id": "N6rolrlt7l6l"
      }
    },
    {
      "cell_type": "markdown",
      "source": [
        "Domain: $\\mathbb{R} \\backslash \\{\\pm1\\}$"
      ],
      "metadata": {
        "id": "tRruShxz_2q8"
      }
    },
    {
      "cell_type": "markdown",
      "source": [
        "### Example: $f(x) = 5^{x}$\n",
        "\n",
        "Find the `Difference Quotient`"
      ],
      "metadata": {
        "id": "EbltsGeLBTiC"
      }
    },
    {
      "cell_type": "markdown",
      "source": [
        "$\n",
        "\\begin{align}\n",
        "\\frac{f\\left(x + h\\right) - f\\left(x\\right)}{h} \n",
        "&= \\frac{5^{x + h} - 5^{x}}{h} \\\\\n",
        "&= \\frac{5^{x} 5^{h} - 5^{x}}{h} \\\\\n",
        "&= \\frac{5^{x}\\left(5^{h} - 1\\right)}{h}\n",
        "\\end{align}\n",
        "$"
      ],
      "metadata": {
        "id": "l7I5EMNxD_6I"
      }
    },
    {
      "cell_type": "markdown",
      "source": [
        "### Example: $f(x) = \\frac{1 - e^{\\frac{1}{x}}}{1 + e^{\\frac{1}{x}}}$ is an odd function. True or False? "
      ],
      "metadata": {
        "id": "wkg_3ZzaJCAa"
      }
    },
    {
      "cell_type": "markdown",
      "source": [
        "$\n",
        "\\begin{align}\n",
        "f(-x) &= \\frac\n",
        "{1 - e^{\\frac{1}{-x}}}\n",
        "{1 + e^{\\frac{1}{-x}}} \\\\\n",
        "&= \\frac\n",
        "{\\frac{1}{1} - \\frac{1}{e^{\\frac{1}{x}}}}\n",
        "{\\frac{1}{1} + \\frac{1}{e^{\\frac{1}{x}}}} \\\\\n",
        "&= \\frac\n",
        "{\\frac{e^{\\frac{1}{x}} - 1}{e^{\\frac{1}{x}}}}\n",
        "{\\frac{e^{\\frac{1}{x}} + 1}{e^{\\frac{1}{x}}}} \\\\\n",
        "&= \\frac \n",
        "{e^{\\frac{1}{x}} - 1}\n",
        "{e^{\\frac{1}{x}} + 1} \\\\\n",
        "&= \\frac \n",
        "{- 1 + e^{\\frac{1}{x}}}\n",
        "{1 + e^{\\frac{1}{x}}} \\\\\n",
        "&= -\\frac \n",
        "{1 - e^{\\frac{1}{x}}}\n",
        "{1 + e^{\\frac{1}{x}}} \\\\\n",
        "&= -f(x) \\\\\n",
        "\\end{align}\n",
        "$"
      ],
      "metadata": {
        "id": "S-8oZrFzKmjf"
      }
    },
    {
      "cell_type": "markdown",
      "source": [
        "$\\therefore$ f(x) is an odd function"
      ],
      "metadata": {
        "id": "jyxLsLarLTTq"
      }
    },
    {
      "cell_type": "code",
      "source": [
        "x = sym.symbols('x')\n",
        "\n",
        "f1 = (1 - np.e**(1/x)) / (1 + np.e**(1/x))\n",
        "f1"
      ],
      "metadata": {
        "colab": {
          "base_uri": "https://localhost:8080/",
          "height": 60
        },
        "id": "CJOWKHP5PYUw",
        "outputId": "82e6419d-1e5a-453d-e2fe-395ac99bb0a9"
      },
      "execution_count": 20,
      "outputs": [
        {
          "output_type": "execute_result",
          "data": {
            "text/plain": [
              "    x __________________\n",
              "1 - ╲╱ 2.71828182845905 \n",
              "────────────────────────\n",
              "x __________________    \n",
              "╲╱ 2.71828182845905  + 1"
            ],
            "image/png": "[encoded data removed]",
            "text/latex": "$\\displaystyle \\frac{1 - 2.71828182845905^{\\frac{1}{x}}}{2.71828182845905^{\\frac{1}{x}} + 1}$"
          },
          "metadata": {},
          "execution_count": 20
        }
      ]
    },
    {
      "cell_type": "markdown",
      "source": [
        "## 2.2.2 Theory: Logarithmic Functions"
      ],
      "metadata": {
        "id": "JJL8eHpeVzqd"
      }
    },
    {
      "cell_type": "markdown",
      "source": [
        "### Two ways to think about logaritms\n",
        "\n",
        "1. As the inverse of the exponential function\n",
        "2. As an exponent"
      ],
      "metadata": {
        "id": "CfN64X_oJ9VX"
      }
    },
    {
      "cell_type": "markdown",
      "source": [
        "#### `1.` As the inverse of the exponential function"
      ],
      "metadata": {
        "id": "zu8W542KK3rt"
      }
    },
    {
      "cell_type": "markdown",
      "source": [
        "- If $a \\ne 0$, $a \\ne 1$, $f(x) = a^{x}$ is either increasing ($a > 1$) or decreasing ($a < 1$)\n",
        "- The graph is $1:1$, so it passes the horizontal line test\n",
        "- If the graph is $1:1$, it has an inverse. \n",
        "- Since $f(x) = a^{x}$ is $1:1$, it has and inverse: $f^{-1}(x)$\n",
        "    - **Logarithmic functions** with the base $a$"
      ],
      "metadata": {
        "id": "iX4iXJqsLBRq"
      }
    },
    {
      "cell_type": "markdown",
      "source": [
        "$$\n",
        "f(x) = \\log_{a}{x} \\\\\n",
        "\\log_{a}x = y \\iff a^{y} = x\n",
        "$$"
      ],
      "metadata": {
        "id": "DiUmSf6WOx7h"
      }
    },
    {
      "cell_type": "markdown",
      "source": [
        "##### Example: $\\log_{2}{x}$\n",
        "\n",
        "- This is the inverse of $f(x) = 2^{x}$\n",
        "- Whatever $2^{x}$ does to the function, $\\log_{2}{x}$ will undo it\n",
        "- The inverse is a **reflection in the line y = x$"
      ],
      "metadata": {
        "id": "yEIqfWGiPtiN"
      }
    },
    {
      "cell_type": "code",
      "source": [
        "p = sym.plot(2**x, sym.log(x, 2), x,\n",
        "             xlim=(-4, 4), ylim=(-4, 4), \n",
        "             aspect_ratio=(1, 1), ylabel='y',\n",
        "             legend=True, show=False)\n",
        "\n",
        "p[0].line_color = 'red'\n",
        "p[0].label = '$y = ' + sym.latex(p[0].expr) + '$'\n",
        "\n",
        "p[1].line_color = 'dodgerblue'\n",
        "p[1].label = '$y = \\log_{2}{x}$'\n",
        "\n",
        "p[2].line_color = 'lightgray'\n",
        "p[2].label = None\n",
        "\n",
        "plt.rcParams['legend.loc'] = 'upper left'\n",
        "p.show()\n",
        "plt.rcParams.update(plt.rcParamsDefault)"
      ],
      "metadata": {
        "colab": {
          "base_uri": "https://localhost:8080/",
          "height": 297
        },
        "id": "NHkxVkNrRPi6",
        "outputId": "e5e6fb0a-4f86-47dc-c85c-401d24b9ef14"
      },
      "execution_count": 21,
      "outputs": [
        {
          "output_type": "display_data",
          "data": {
            "text/plain": [
              "<Figure size 432x288 with 1 Axes>"
            ],
            "image/png": "[encoded data removed]"
          },
          "metadata": {
            "needs_background": "light"
          }
        }
      ]
    },
    {
      "cell_type": "markdown",
      "source": [
        "$\\log_{2}{x} = 0 \\iff 2^{0} = x$\n",
        "\n",
        "- This happens when $x = 1$\n",
        "- The x-intercept is $(0, 1)$"
      ],
      "metadata": {
        "id": "ruVXgEQ3UK2q"
      }
    },
    {
      "cell_type": "markdown",
      "source": [
        "- This is a general rule: $\\log_{b}{1} = 0$\n",
        "- This is because $b^{0}$ is always $1$"
      ],
      "metadata": {
        "id": "_M8miuxdWgiY"
      }
    },
    {
      "cell_type": "code",
      "source": [
        "expr = sym.log(x, 2)\n",
        "expr"
      ],
      "metadata": {
        "colab": {
          "base_uri": "https://localhost:8080/",
          "height": 57
        },
        "id": "QO3E1DtlZo_p",
        "outputId": "89e7c6dc-7856-4fd0-c30b-cfc5c414257d"
      },
      "execution_count": 22,
      "outputs": [
        {
          "output_type": "execute_result",
          "data": {
            "text/plain": [
              "log(x)\n",
              "──────\n",
              "log(2)"
            ],
            "image/png": "[encoded data removed]",
            "text/latex": "$\\displaystyle \\frac{\\log{\\left(x \\right)}}{\\log{\\left(2 \\right)}}$"
          },
          "metadata": {},
          "execution_count": 22
        }
      ]
    },
    {
      "cell_type": "code",
      "source": [
        "domain = sym.calculus.util.continuous_domain(expr, x, sym.S.Reals)\n",
        "\n",
        "try:\n",
        "    range = sym.calculus.util.function_range(expr, x, sym.S.Reals)\n",
        "except NotImplementedError:\n",
        "    range = 'Not found'"
      ],
      "metadata": {
        "id": "4l1iTBeWZ8h-"
      },
      "execution_count": 23,
      "outputs": []
    },
    {
      "cell_type": "code",
      "source": [
        "domain"
      ],
      "metadata": {
        "colab": {
          "base_uri": "https://localhost:8080/",
          "height": 37
        },
        "id": "CFK410sbaZAi",
        "outputId": "6f04525f-c0c9-49da-cfd7-0db4d08862ae"
      },
      "execution_count": 24,
      "outputs": [
        {
          "output_type": "execute_result",
          "data": {
            "text/plain": [
              "(0, ∞)"
            ],
            "image/png": "[encoded data removed]",
            "text/latex": "$\\displaystyle \\left(0, \\infty\\right)$"
          },
          "metadata": {},
          "execution_count": 24
        }
      ]
    },
    {
      "cell_type": "code",
      "source": [
        "range"
      ],
      "metadata": {
        "colab": {
          "base_uri": "https://localhost:8080/",
          "height": 37
        },
        "id": "SiYRmXWNayIj",
        "outputId": "4d627411-caa2-4b6c-fd88-3d68be4afc7f"
      },
      "execution_count": 25,
      "outputs": [
        {
          "output_type": "execute_result",
          "data": {
            "text/plain": [
              "(-∞, ∞)"
            ],
            "image/png": "[encoded data removed]",
            "text/latex": "$\\displaystyle \\left(-\\infty, \\infty\\right)$"
          },
          "metadata": {},
          "execution_count": 25
        }
      ]
    },
    {
      "cell_type": "markdown",
      "source": [
        "It also has a vertical asymptote at $x = 0$"
      ],
      "metadata": {
        "id": "FsnopmRSeR7x"
      }
    },
    {
      "cell_type": "markdown",
      "source": [
        "#### `2.` As an exponent"
      ],
      "metadata": {
        "id": "_WXh4SPIfYHl"
      }
    },
    {
      "cell_type": "markdown",
      "source": [
        "##### Log Rules\n",
        "\n",
        "1. $\\log_{a}{xy} = \\log_{a}{x} + \\log_{a}{y}$\n",
        "    - logarithms turn multiplication into addition\n",
        "    - logarithms \"live upstairs\" where products become addition\n",
        "    - $a^{x} \\cdot a^{y} = a^{x + y}$\n",
        "2. $\\log_{a}{\\frac{x}{y}} = \\log_{a}{x} - \\log_{a}{y}$\n",
        "    - logarithms turn division into subtraction\n",
        "    - $\\frac{a^{x}}{a^{y}} = log_{a}{x} - \\log_{a}{y}$\n",
        "3. $\\log_{a}{x^{r}} = r\\log_{a}{x}$\n",
        "    - exponents fall out in front\n",
        "    - logarithms turn a power into a product\n",
        "    - $\\left(a^{x}\\right)^{r} = a^{xr}$\n",
        "4. $\\log_{a}{1} = 0$ and $\\log_{a}{0} = undefined$\n",
        "    - not really rules, but they're handy to remember"
      ],
      "metadata": {
        "id": "VP9vCG3femlM"
      }
    },
    {
      "cell_type": "markdown",
      "source": [
        "##### Example: $\\log_{5}{125}$"
      ],
      "metadata": {
        "id": "ekJTrzS-pRjx"
      }
    },
    {
      "cell_type": "markdown",
      "source": [
        "$\n",
        "\\begin{align}\n",
        "\\log_{5}{125} &= \\log_{5}{\\left(5 \\cdot 25\\right)} \\\\\n",
        "&= \\log_{5}{5} + \\log_{5}{\\left(5 \\cdot 5\\right)} \\\\\n",
        "&= \\log_{5}{5} + \\log_{5}{5} + \\log_{5}{5} \\\\\n",
        "&= 1 + 1 + 1 \\\\\n",
        "&= 3\n",
        "\\end{align}\n",
        "$"
      ],
      "metadata": {
        "id": "yTkqPdKWpe7-"
      }
    },
    {
      "cell_type": "markdown",
      "source": [
        "$\n",
        "log_{5}{125} = x \\iff 5^{x} = 125\n",
        "$"
      ],
      "metadata": {
        "id": "W0X-Vvx5sQN9"
      }
    },
    {
      "cell_type": "code",
      "source": [
        "sym.log(125, 5), np.log(125) / np.log(5)"
      ],
      "metadata": {
        "colab": {
          "base_uri": "https://localhost:8080/",
          "height": 37
        },
        "id": "167HxXYzrMfe",
        "outputId": "905d465c-b568-41a9-baa7-c252923e6ae4"
      },
      "execution_count": 26,
      "outputs": [
        {
          "output_type": "execute_result",
          "data": {
            "text/plain": [
              "(3, 3.0000000000000004)"
            ],
            "image/png": "[encoded data removed]",
            "text/latex": "$\\displaystyle \\left( 3, \\  3.0\\right)$"
          },
          "metadata": {},
          "execution_count": 26
        }
      ]
    },
    {
      "cell_type": "code",
      "source": [
        "5**(sym.log(125, 5)), 5**(np.log(125) / np.log(5))"
      ],
      "metadata": {
        "colab": {
          "base_uri": "https://localhost:8080/",
          "height": 37
        },
        "id": "u_THnK5ZrXW9",
        "outputId": "0837f610-60f0-4168-c4bf-57435da971ed"
      },
      "execution_count": 27,
      "outputs": [
        {
          "output_type": "execute_result",
          "data": {
            "text/plain": [
              "(125, 125.00000000000009)"
            ],
            "image/png": "[encoded data removed]",
            "text/latex": "$\\displaystyle \\left( 125, \\  125.0\\right)$"
          },
          "metadata": {},
          "execution_count": 27
        }
      ]
    },
    {
      "cell_type": "markdown",
      "source": [
        "##### Simplify: $\\log_{2}{6} - log_{2}{15} + \\log_{2}{20}$"
      ],
      "metadata": {
        "id": "5m_nfG_DsyNW"
      }
    },
    {
      "cell_type": "markdown",
      "source": [
        "$\n",
        "\\begin{align}\n",
        "\\log_{2}{6} - log_{2}{15} + \\log_{2}{20}\n",
        "&= \\log_{2}\\left({\\frac{6}{15} \\cdot 20}\\right) \\\\\n",
        "&= \\log_{2}{8} \\\\\n",
        "&= \\log_{2}{2^{3}} \\\\\n",
        "&= 3 \\cdot log_2{2} \\\\\n",
        "&= 3 \\cdot 1 \\\\\n",
        "&= 3\n",
        "\\end{align}\n",
        "$"
      ],
      "metadata": {
        "id": "hHcSNhF4tyto"
      }
    },
    {
      "cell_type": "code",
      "source": [
        "expr = sym.log(6, 2) - sym.log(15, 2) + sym.log(20, 2)\n",
        "expr.evalf()"
      ],
      "metadata": {
        "colab": {
          "base_uri": "https://localhost:8080/",
          "height": 37
        },
        "id": "FnFDWR_AveWY",
        "outputId": "dedda046-9017-4eb5-c6ff-fada659b9eed"
      },
      "execution_count": 28,
      "outputs": [
        {
          "output_type": "execute_result",
          "data": {
            "text/plain": [
              "3.00000000000000"
            ],
            "image/png": "[encoded data removed]",
            "text/latex": "$\\displaystyle 3.0$"
          },
          "metadata": {},
          "execution_count": 28
        }
      ]
    },
    {
      "cell_type": "code",
      "source": [
        "np.log(6)/np.log(2) - np.log(15)/np.log(2) + np.log(20)/np.log(2)"
      ],
      "metadata": {
        "colab": {
          "base_uri": "https://localhost:8080/",
          "height": 37
        },
        "id": "J9WTkWQ2vpNt",
        "outputId": "0cd423a1-a915-4f60-bd52-8cfa4b81baee"
      },
      "execution_count": 29,
      "outputs": [
        {
          "output_type": "execute_result",
          "data": {
            "text/plain": [
              "3.0"
            ],
            "image/png": "[encoded data removed]",
            "text/latex": "$\\displaystyle 3.0$"
          },
          "metadata": {},
          "execution_count": 29
        }
      ]
    },
    {
      "cell_type": "markdown",
      "source": [
        "## 2.2.3 Theory: The Natural Logarithm"
      ],
      "metadata": {
        "id": "CAeZbir8xxiY"
      }
    },
    {
      "cell_type": "markdown",
      "source": [
        "$$\n",
        "f(x) = \\ln{x} \\\\\n",
        "\\ln{x} = y \\iff e^{y} = x\n",
        "$$"
      ],
      "metadata": {
        "id": "OtfROAH8_YYS"
      }
    },
    {
      "cell_type": "markdown",
      "source": [
        "1. $\\ln{e^{x}} = x$\n",
        "2. $e^{\\ln{x}} = x$\n",
        "3. $\\ln(e) = 1$\n",
        "4. $\\ln(1) = 0$\n",
        "5. $\\ln(0) = undefined$"
      ],
      "metadata": {
        "id": "LvJuNkce_ua0"
      }
    },
    {
      "cell_type": "code",
      "source": [
        "p = sym.plot(sym.exp(1)**x, sym.log(x, sym.exp(1)), x,\n",
        "             xlim=(-4, 4), ylim=(-4, 4), \n",
        "             aspect_ratio=(1, 1), ylabel='y',\n",
        "             legend=True, show=False)\n",
        "\n",
        "p[0].line_color = 'red'\n",
        "p[0].label = '$y = ' + sym.latex(p[0].expr) + '$'\n",
        "\n",
        "p[1].line_color = 'dodgerblue'\n",
        "p[1].label = '$y = \\ln{x}$'\n",
        "\n",
        "p[2].line_color = 'lightgray'\n",
        "p[2].label = None\n",
        "\n",
        "plt.rcParams['legend.loc'] = 'upper left'\n",
        "p.show()\n",
        "plt.rcParams.update(plt.rcParamsDefault)"
      ],
      "metadata": {
        "colab": {
          "base_uri": "https://localhost:8080/",
          "height": 487
        },
        "id": "vqpW45BhCAXd",
        "outputId": "aa572cce-959c-41ab-fa9d-7537708782c5"
      },
      "execution_count": 30,
      "outputs": [
        {
          "output_type": "display_data",
          "data": {
            "text/plain": [
              "<Figure size 640x480 with 1 Axes>"
            ],
            "image/png": "[encoded data removed]"
          },
          "metadata": {}
        }
      ]
    },
    {
      "cell_type": "code",
      "source": [
        "expr = sym.log(x, sym.exp(1))\n",
        "expr"
      ],
      "metadata": {
        "colab": {
          "base_uri": "https://localhost:8080/",
          "height": 39
        },
        "id": "1L4vY_6LDBYf",
        "outputId": "88361e24-39bc-421a-84d4-c7157bfa444f"
      },
      "execution_count": 31,
      "outputs": [
        {
          "output_type": "execute_result",
          "data": {
            "text/plain": [
              "log(x)"
            ],
            "image/png": "[encoded data removed]",
            "text/latex": "$\\displaystyle \\log{\\left(x \\right)}$"
          },
          "metadata": {},
          "execution_count": 31
        }
      ]
    },
    {
      "cell_type": "code",
      "source": [
        "domain = sym.calculus.util.continuous_domain(expr, x, sym.S.Reals)\n",
        "\n",
        "try:\n",
        "    range = sym.calculus.util.function_range(expr, x, sym.S.Reals)\n",
        "except NotImplementedError:\n",
        "    range = 'Not found'"
      ],
      "metadata": {
        "id": "0ed0446JDFc6"
      },
      "execution_count": 32,
      "outputs": []
    },
    {
      "cell_type": "code",
      "source": [
        "domain"
      ],
      "metadata": {
        "colab": {
          "base_uri": "https://localhost:8080/",
          "height": 37
        },
        "id": "C29vG29HDMBm",
        "outputId": "494dd846-dda6-4650-b02a-a03df015965c"
      },
      "execution_count": 33,
      "outputs": [
        {
          "output_type": "execute_result",
          "data": {
            "text/plain": [
              "(0, ∞)"
            ],
            "image/png": "[encoded data removed]",
            "text/latex": "$\\displaystyle \\left(0, \\infty\\right)$"
          },
          "metadata": {},
          "execution_count": 33
        }
      ]
    },
    {
      "cell_type": "code",
      "source": [
        "range"
      ],
      "metadata": {
        "colab": {
          "base_uri": "https://localhost:8080/",
          "height": 37
        },
        "id": "hV-DvntJDNjh",
        "outputId": "1cc3fbe9-6e6a-4303-f97b-599b6eaca6ed"
      },
      "execution_count": 34,
      "outputs": [
        {
          "output_type": "execute_result",
          "data": {
            "text/plain": [
              "(-∞, ∞)"
            ],
            "image/png": "[encoded data removed]",
            "text/latex": "$\\displaystyle \\left(-\\infty, \\infty\\right)$"
          },
          "metadata": {},
          "execution_count": 34
        }
      ]
    },
    {
      "cell_type": "markdown",
      "source": [
        "It also has a vertical asymptote at $x = 0$"
      ],
      "metadata": {
        "id": "Dfwl41ScDkYl"
      }
    },
    {
      "cell_type": "markdown",
      "source": [
        "### Example: Solve for $x$\n",
        "\n",
        "$\\ln\\left({\\ln{x}}\\right) = 1$"
      ],
      "metadata": {
        "id": "2IepOctGE4BX"
      }
    },
    {
      "cell_type": "markdown",
      "source": [
        "$\n",
        "\\begin{align}\n",
        "\\ln\\left({\\ln{x}}\\right) &= 1 \\\\\n",
        "e^{\\ln\\left({\\ln{x}}\\right)} &= e^{1} \\\\\n",
        "\\ln{x} &= e \\\\\n",
        "e^{\\ln{x}} &= e^{e} \\\\\n",
        "x &= e^e\n",
        "\\end{align}\n",
        "$"
      ],
      "metadata": {
        "id": "QWGJpYshFe9x"
      }
    },
    {
      "cell_type": "code",
      "source": [
        "expr = sym.exp(1)**sym.exp(1)\n",
        "expr"
      ],
      "metadata": {
        "colab": {
          "base_uri": "https://localhost:8080/",
          "height": 39
        },
        "id": "t_62b3MXHFpm",
        "outputId": "e9515916-1003-443d-adbe-362d29107573"
      },
      "execution_count": 35,
      "outputs": [
        {
          "output_type": "execute_result",
          "data": {
            "text/plain": [
              " ℯ\n",
              "ℯ "
            ],
            "image/png": "[encoded data removed]",
            "text/latex": "$\\displaystyle e^{e}$"
          },
          "metadata": {},
          "execution_count": 35
        }
      ]
    },
    {
      "cell_type": "code",
      "source": [
        "expr.evalf()"
      ],
      "metadata": {
        "colab": {
          "base_uri": "https://localhost:8080/",
          "height": 37
        },
        "id": "Y2dxQXVLHTF4",
        "outputId": "d62259bc-d9f5-4f18-bd96-c40f7e043525"
      },
      "execution_count": 36,
      "outputs": [
        {
          "output_type": "execute_result",
          "data": {
            "text/plain": [
              "15.1542622414793"
            ],
            "image/png": "[encoded data removed]",
            "text/latex": "$\\displaystyle 15.1542622414793$"
          },
          "metadata": {},
          "execution_count": 36
        }
      ]
    },
    {
      "cell_type": "code",
      "source": [
        "np.e**np.e"
      ],
      "metadata": {
        "colab": {
          "base_uri": "https://localhost:8080/",
          "height": 37
        },
        "id": "PaIbuT4lHVOF",
        "outputId": "3da472df-bdbb-4f35-e431-2c0e9b6e306d"
      },
      "execution_count": 37,
      "outputs": [
        {
          "output_type": "execute_result",
          "data": {
            "text/plain": [
              "15.154262241479259"
            ],
            "image/png": "[encoded data removed]",
            "text/latex": "$\\displaystyle 15.1542622414793$"
          },
          "metadata": {},
          "execution_count": 37
        }
      ]
    },
    {
      "cell_type": "code",
      "source": [
        "x = sym.symbols('x')\n",
        "expr = sym.log(sym.log(x, sym.exp(1)), sym.exp(1))\n",
        "expr"
      ],
      "metadata": {
        "colab": {
          "base_uri": "https://localhost:8080/",
          "height": 39
        },
        "id": "uH6wm69FHZMW",
        "outputId": "3fa7b9d2-22e0-4dec-faee-a50a74e454e2"
      },
      "execution_count": 38,
      "outputs": [
        {
          "output_type": "execute_result",
          "data": {
            "text/plain": [
              "log(log(x))"
            ],
            "image/png": "[encoded data removed]",
            "text/latex": "$\\displaystyle \\log{\\left(\\log{\\left(x \\right)} \\right)}$"
          },
          "metadata": {},
          "execution_count": 38
        }
      ]
    },
    {
      "cell_type": "code",
      "source": [
        "sym.solve(expr - 1, x)[0].evalf()"
      ],
      "metadata": {
        "colab": {
          "base_uri": "https://localhost:8080/",
          "height": 37
        },
        "id": "LokmJEnyH3tW",
        "outputId": "f78835e8-4d71-40d9-8592-b8637fa63ddf"
      },
      "execution_count": 39,
      "outputs": [
        {
          "output_type": "execute_result",
          "data": {
            "text/plain": [
              "15.1542622414793"
            ],
            "image/png": "[encoded data removed]",
            "text/latex": "$\\displaystyle 15.1542622414793$"
          },
          "metadata": {},
          "execution_count": 39
        }
      ]
    },
    {
      "cell_type": "markdown",
      "source": [
        "### Example: Solve for $x$\n",
        "\n",
        "$2^{x-5} = 3$"
      ],
      "metadata": {
        "id": "b_WgltDJKg_X"
      }
    },
    {
      "cell_type": "markdown",
      "source": [
        "$\n",
        "\\begin{align}\n",
        "2^{x-5} &= 3 \\\\\n",
        "\\log_{2}{2^{x-5}} &= \\log_{2}{3} \\\\\n",
        "x - 5 &= \\log_{2}{3} \\\\\n",
        "x &= \\log_{2}{3} + 5\n",
        "\\end{align}\n",
        "$"
      ],
      "metadata": {
        "id": "CXZk2N2dLEqI"
      }
    },
    {
      "cell_type": "markdown",
      "source": [
        "Alternately,\n",
        "\n",
        "$\n",
        "\\begin{align}\n",
        "2^{x-5} &= 3 \\\\\n",
        "\\ln{2^{x-5}} &= \\ln{3} \\\\\n",
        "\\left(x-5\\right) \\cdot \\ln{2} &= \\ln{3} \\\\\n",
        "x - 5 &= \\frac{\\ln{3}}{\\ln{2}} \\\\\n",
        "x &= \\frac{\\ln{3}}{\\ln{2}} + 5\n",
        "\\end{align}\n",
        "$"
      ],
      "metadata": {
        "id": "jhb0BG9IOcGI"
      }
    },
    {
      "cell_type": "code",
      "source": [
        "expr = sym.log(3, 2) + 5\n",
        "expr"
      ],
      "metadata": {
        "colab": {
          "base_uri": "https://localhost:8080/",
          "height": 57
        },
        "id": "qYkZ0GCuLrL-",
        "outputId": "619094b4-f64c-4527-fb08-d6c63bb7753e"
      },
      "execution_count": 40,
      "outputs": [
        {
          "output_type": "execute_result",
          "data": {
            "text/plain": [
              "log(3)    \n",
              "────── + 5\n",
              "log(2)    "
            ],
            "image/png": "[encoded data removed]",
            "text/latex": "$\\displaystyle \\frac{\\log{\\left(3 \\right)}}{\\log{\\left(2 \\right)}} + 5$"
          },
          "metadata": {},
          "execution_count": 40
        }
      ]
    },
    {
      "cell_type": "code",
      "source": [
        "# the alternate method\n",
        "(np.log(3) / np.log(np.e)) / (np.log(2) / np.log(np.e)) + 5"
      ],
      "metadata": {
        "colab": {
          "base_uri": "https://localhost:8080/",
          "height": 37
        },
        "id": "fQi3rCizP38A",
        "outputId": "be0eace6-2a87-4319-b6b0-176d626ad024"
      },
      "execution_count": 41,
      "outputs": [
        {
          "output_type": "execute_result",
          "data": {
            "text/plain": [
              "6.584962500721156"
            ],
            "image/png": "[encoded data removed]",
            "text/latex": "$\\displaystyle 6.58496250072116$"
          },
          "metadata": {},
          "execution_count": 41
        }
      ]
    },
    {
      "cell_type": "code",
      "source": [
        "expr.evalf()"
      ],
      "metadata": {
        "colab": {
          "base_uri": "https://localhost:8080/",
          "height": 37
        },
        "id": "iXXjCwHcLzBA",
        "outputId": "858fec3e-fdd0-4995-8eb0-78fb23f4991a"
      },
      "execution_count": 42,
      "outputs": [
        {
          "output_type": "execute_result",
          "data": {
            "text/plain": [
              "6.58496250072116"
            ],
            "image/png": "[encoded data removed]",
            "text/latex": "$\\displaystyle 6.58496250072116$"
          },
          "metadata": {},
          "execution_count": 42
        }
      ]
    },
    {
      "cell_type": "code",
      "source": [
        "np.log(3) / np.log(2) + 5"
      ],
      "metadata": {
        "colab": {
          "base_uri": "https://localhost:8080/",
          "height": 37
        },
        "id": "ZGlF9KSyL1mX",
        "outputId": "5cb90466-6c44-4a1c-beb4-643df45c64d4"
      },
      "execution_count": 43,
      "outputs": [
        {
          "output_type": "execute_result",
          "data": {
            "text/plain": [
              "6.584962500721156"
            ],
            "image/png": "[encoded data removed]",
            "text/latex": "$\\displaystyle 6.58496250072116$"
          },
          "metadata": {},
          "execution_count": 43
        }
      ]
    },
    {
      "cell_type": "code",
      "source": [
        "x = sym.symbols('x')\n",
        "\n",
        "expr = 2**(x - 5)\n",
        "expr"
      ],
      "metadata": {
        "colab": {
          "base_uri": "https://localhost:8080/",
          "height": 37
        },
        "id": "nZBMEhPzL8bt",
        "outputId": "bc89952e-1875-4aa9-b54e-6ab7b8c3f750"
      },
      "execution_count": 44,
      "outputs": [
        {
          "output_type": "execute_result",
          "data": {
            "text/plain": [
              " x - 5\n",
              "2     "
            ],
            "image/png": "[encoded data removed]",
            "text/latex": "$\\displaystyle 2^{x - 5}$"
          },
          "metadata": {},
          "execution_count": 44
        }
      ]
    },
    {
      "cell_type": "code",
      "source": [
        "sym.solve(expr - 3, x)[0].evalf()"
      ],
      "metadata": {
        "colab": {
          "base_uri": "https://localhost:8080/",
          "height": 37
        },
        "id": "-KhMFtevMJB9",
        "outputId": "d0924a8a-7c8f-470e-a42e-918d72129d3c"
      },
      "execution_count": 45,
      "outputs": [
        {
          "output_type": "execute_result",
          "data": {
            "text/plain": [
              "6.58496250072116"
            ],
            "image/png": "[encoded data removed]",
            "text/latex": "$\\displaystyle 6.58496250072116$"
          },
          "metadata": {},
          "execution_count": 45
        }
      ]
    },
    {
      "cell_type": "markdown",
      "source": [
        "### Example: Find the domain of $f$ and $f^{-1}$\n",
        "\n",
        "$f(x) = \\sqrt{3 - e^{2x}}$"
      ],
      "metadata": {
        "id": "4xGl3lG-RSeA"
      }
    },
    {
      "cell_type": "markdown",
      "source": [
        "#### Domain of $f$"
      ],
      "metadata": {
        "id": "nSGjb8_PTNzu"
      }
    },
    {
      "cell_type": "markdown",
      "source": [
        "$\n",
        "\\begin{align}\n",
        "3 - e^{2x} &\\ge 0 \\\\\n",
        "e^{2x} &\\le 3 \\\\\n",
        "\\ln{e^{2x}} &\\le \\ln{3} \\\\\n",
        "2x &\\le \\ln{3} \\\\\n",
        "x &\\le \\frac{\\ln{3}}{2}\n",
        "\\end{align}\n",
        "$"
      ],
      "metadata": {
        "id": "-cRmHFToTSmP"
      }
    },
    {
      "cell_type": "markdown",
      "source": [
        "Domain: $(-\\infty, \\frac{\\ln{3}}{2}]$"
      ],
      "metadata": {
        "id": "zjfdKiRrUidU"
      }
    },
    {
      "cell_type": "code",
      "source": [
        "x = sym.symbols('x')\n",
        "expr = sym.sqrt(3 - sym.exp(1)**(2*x))\n",
        "\n",
        "domain = sym.calculus.util.continuous_domain(expr, x, sym.S.Reals)\n",
        "domain"
      ],
      "metadata": {
        "colab": {
          "base_uri": "https://localhost:8080/",
          "height": 58
        },
        "id": "Ez42rYsuWAHU",
        "outputId": "50a59740-4f67-48fb-efe0-f4fb61fb93c0"
      },
      "execution_count": 46,
      "outputs": [
        {
          "output_type": "execute_result",
          "data": {
            "text/plain": [
              "⎛    log(3)⎤\n",
              "⎜-∞, ──────⎥\n",
              "⎝      2   ⎦"
            ],
            "image/png": "[encoded data removed]",
            "text/latex": "$\\displaystyle \\left(-\\infty, \\frac{\\log{\\left(3 \\right)}}{2}\\right]$"
          },
          "metadata": {},
          "execution_count": 46
        }
      ]
    },
    {
      "cell_type": "markdown",
      "source": [
        "#### Inverse of $f$: $f^{-1}$\n",
        "\n",
        "If the function $f$ has equation $y = \\sqrt{3 - e^{2x}}$, then $f^{-1}$ has the equation $x = \\sqrt{3 - e^{2y}}$.\n",
        "\n",
        "All we need to do is solve for $y$."
      ],
      "metadata": {
        "id": "Exc5iB_QW9gS"
      }
    },
    {
      "cell_type": "markdown",
      "source": [
        "$\n",
        "\\begin{align}\n",
        "x &= \\sqrt{3 - e^{2y}} \\\\ \n",
        "x^{2} &= 3 - e^{2y} \\\\\n",
        "-x^{2} + 3 &= e^{2y} \\\\\n",
        "\\ln\\left({-x^{2} + 3}\\right) &= \\ln{e^{2y}} \\\\\n",
        "\\ln\\left({-x^{2} + 3}\\right) &= 2y \\\\\n",
        "y &= \\frac{1}{2}\\ln\\left({-x^{2} + 3}\\right)\n",
        "\\end{align}\n",
        "$"
      ],
      "metadata": {
        "id": "O_Wl7uSrYgPJ"
      }
    },
    {
      "cell_type": "markdown",
      "source": [
        "$\n",
        "\\therefore f^{-1}(x) = \\frac{\\ln\\left({-x^{2} + 3}\\right)}{2}\n",
        "$"
      ],
      "metadata": {
        "id": "DWe7sEGUa0Gm"
      }
    },
    {
      "cell_type": "code",
      "source": [
        "x = sym.symbols('x')\n",
        "\n",
        "f = sym.sqrt(3 - sym.exp(1)**(2*x))\n",
        "f"
      ],
      "metadata": {
        "colab": {
          "base_uri": "https://localhost:8080/",
          "height": 40
        },
        "id": "v27VTk0RbFIB",
        "outputId": "5e6ca464-7f0b-4eeb-b5e0-f563f1e7dbb0"
      },
      "execution_count": 47,
      "outputs": [
        {
          "output_type": "execute_result",
          "data": {
            "text/plain": [
              "   __________\n",
              "  ╱      2⋅x \n",
              "╲╱  3 - ℯ    "
            ],
            "image/png": "[encoded data removed]",
            "text/latex": "$\\displaystyle \\sqrt{3 - e^{2 x}}$"
          },
          "metadata": {},
          "execution_count": 47
        }
      ]
    },
    {
      "cell_type": "code",
      "source": [
        "f_inv = sym.log(-x**2 + 3, sym.exp(1)) / 2\n",
        "f_inv"
      ],
      "metadata": {
        "colab": {
          "base_uri": "https://localhost:8080/",
          "height": 56
        },
        "id": "AEtMuMCTbWh-",
        "outputId": "9ba80c5f-aae3-4d4e-fa62-b0045ffd4a0c"
      },
      "execution_count": 48,
      "outputs": [
        {
          "output_type": "execute_result",
          "data": {
            "text/plain": [
              "   ⎛     2⎞\n",
              "log⎝3 - x ⎠\n",
              "───────────\n",
              "     2     "
            ],
            "image/png": "[encoded data removed]",
            "text/latex": "$\\displaystyle \\frac{\\log{\\left(3 - x^{2} \\right)}}{2}$"
          },
          "metadata": {},
          "execution_count": 48
        }
      ]
    },
    {
      "cell_type": "code",
      "source": [
        "p = sym.plot(f, f_inv, x,\n",
        "             xlim=(-4, 4), ylim=(-4, 4), \n",
        "             aspect_ratio=(1, 1), ylabel='y',\n",
        "             legend=True, show=False)\n",
        "\n",
        "p[0].line_color = 'red'\n",
        "p[0].label = '$y = ' + sym.latex(p[0].expr) + '$'\n",
        "\n",
        "p[1].line_color = 'dodgerblue'\n",
        "p[1].label = '$y = ' + sym.latex(p[1].expr) + '$'\n",
        "\n",
        "p[2].line_color = 'lightgray'\n",
        "p[2].label = None\n",
        "\n",
        "p.show()"
      ],
      "metadata": {
        "colab": {
          "base_uri": "https://localhost:8080/",
          "height": 487
        },
        "id": "XUGs93Drbjge",
        "outputId": "930b04a0-cede-4d9f-9318-4b1f187cb313"
      },
      "execution_count": 49,
      "outputs": [
        {
          "output_type": "display_data",
          "data": {
            "text/plain": [
              "<Figure size 640x480 with 1 Axes>"
            ],
            "image/png": "[encoded data removed]"
          },
          "metadata": {}
        }
      ]
    },
    {
      "cell_type": "markdown",
      "source": [
        "#### Domain of $f^{-1}$\n",
        "\n",
        "$f^{-1}(x) = \\frac{1}{2}\\ln\\left({3 - x^{2}}\\right)$"
      ],
      "metadata": {
        "id": "9OlC1qZD1IJU"
      }
    },
    {
      "cell_type": "markdown",
      "source": [
        "$\n",
        "\\begin{align}\n",
        "3 - x^{2} &\\gt 0 \\\\\n",
        "x^{2} &\\lt 3 \\\\ \n",
        "x^{2} - 3 &\\lt 0 \\\\\n",
        "(x + \\sqrt{3})(x - \\sqrt{3}) &\\lt 0 \n",
        "\\end{align}\n",
        "$"
      ],
      "metadata": {
        "id": "KRkK8ywY2HuR"
      }
    },
    {
      "cell_type": "markdown",
      "source": [
        "<b>Case 1:</b>\n",
        "\n",
        "$x + \\sqrt{3} < 0$ and $x - \\sqrt{3} > 0$\n",
        "\n",
        "$\\implies$\n",
        "\n",
        "$x < -\\sqrt{3}$ and $x > \\sqrt{3}$\n",
        "\n",
        "Which is impossible.\n",
        "\n",
        "<b>Case 2:</b>\n",
        "\n",
        "$x + \\sqrt{3} > 0$ and $x - \\sqrt{3} < 0$\n",
        "\n",
        "$\\implies$\n",
        "\n",
        "$x > -\\sqrt{3}$ and $x < \\sqrt{3}$\n",
        "\n",
        "$\\therefore x \\in (-\\sqrt{3}, \\sqrt{3})$"
      ],
      "metadata": {
        "id": "unmVPKqw7nhd"
      }
    },
    {
      "cell_type": "code",
      "source": [
        "x = sym.symbols('x')\n",
        "\n",
        "domain = sym.calculus.util.continuous_domain(f_inv, x, sym.S.Reals)\n",
        "domain"
      ],
      "metadata": {
        "colab": {
          "base_uri": "https://localhost:8080/",
          "height": 47
        },
        "id": "nOOZQ6W21R3p",
        "outputId": "deb1a013-a21c-419d-a44a-64d9791f4618"
      },
      "execution_count": 50,
      "outputs": [
        {
          "output_type": "execute_result",
          "data": {
            "text/plain": [
              "(-√3, √3)"
            ],
            "image/png": "[encoded data removed]",
            "text/latex": "$\\displaystyle \\left(- \\sqrt{3}, \\sqrt{3}\\right)$"
          },
          "metadata": {},
          "execution_count": 50
        }
      ]
    },
    {
      "cell_type": "code",
      "source": [
        "sym.sqrt(3).evalf()"
      ],
      "metadata": {
        "colab": {
          "base_uri": "https://localhost:8080/",
          "height": 37
        },
        "id": "GdJTXCK31XyO",
        "outputId": "d5a8c0f0-602e-4963-f214-eb8477e38a96"
      },
      "execution_count": 51,
      "outputs": [
        {
          "output_type": "execute_result",
          "data": {
            "text/plain": [
              "1.73205080756888"
            ],
            "image/png": "[encoded data removed]",
            "text/latex": "$\\displaystyle 1.73205080756888$"
          },
          "metadata": {},
          "execution_count": 51
        }
      ]
    },
    {
      "cell_type": "markdown",
      "source": [
        "## 2.2.4 Reading: Exponential and Logarithmic Functions"
      ],
      "metadata": {
        "id": "VDdA1KRJ2C1R"
      }
    },
    {
      "cell_type": "markdown",
      "source": [
        "### Exponential Functions\n",
        "\n",
        "- An **exponential function** has the form $f(x) = a \\cdot b^{x}$ where $b$ is a positive number and $b \\ne 1$\n",
        "- $b$ is called the base\n",
        "- **Domain**: $\\left(-\\infty, \\infty \\right)$\n",
        "- **Range**: \n",
        "    - If $b \\gt 0$, then the range of $f(x) = a \\cdot b^{x}$ is the positive numbers: $\\left(0, \\infty \\right)$\n",
        "    - if $b \\lt 0$, then the range of $f(x)$ is the negative numbers: $\\left( -\\infty, 0 \\right)$\n",
        "- **Horizontal Asymptote**: $y = 0$ (the x-axis)\n",
        "- ***y*-intercept**: $\\left(0, a \\right)$"
      ],
      "metadata": {
        "id": "1kJzJiNI2jFr"
      }
    },
    {
      "cell_type": "code",
      "source": [
        "x = sym.symbols('x')\n",
        "\n",
        "expr1 = sym.Rational(1, 2)**x\n",
        "expr2 = 2**x \n",
        "\n",
        "fig = sym.plot(expr1, expr2,\n",
        "               ylim=[-1, 5],\n",
        "               title='$f(x) = a \\cdot b^{x}$\\n',\n",
        "               legend=True,\n",
        "               show=False)\n",
        "\n",
        " \n",
        "fig[0].line_color = 'dodgerblue'\n",
        "fig[0].label = '$f(x) = ' + sym.latex(expr1) + ': 0 < b < 1$'\n",
        "\n",
        "fig[1].line_color = 'red'\n",
        "fig[1].label = '$f(x) = ' + sym.latex(expr2) + ': b > 1$'\n",
        "\n",
        "\n",
        "fig.show()"
      ],
      "metadata": {
        "colab": {
          "base_uri": "https://localhost:8080/",
          "height": 487
        },
        "id": "WHiR8Axq46BP",
        "outputId": "44460d4b-844f-4585-ec7a-70ae89529c4f"
      },
      "execution_count": 52,
      "outputs": [
        {
          "output_type": "display_data",
          "data": {
            "text/plain": [
              "<Figure size 640x480 with 1 Axes>"
            ],
            "image/png": "[encoded data removed]"
          },
          "metadata": {}
        }
      ]
    },
    {
      "cell_type": "markdown",
      "source": [
        "### Natural Exponential Function\n",
        "\n",
        "- Exponential function with base $e$\n",
        "- Has the form $f(x) = e^{x}$\n",
        "- The number $e$ is called **Euler's Number**"
      ],
      "metadata": {
        "id": "giFQTnOj8qav"
      }
    },
    {
      "cell_type": "markdown",
      "source": [
        "$\n",
        "e = \\lim_{n \\to \\infty}\\left(1 + \\frac{1}{n}\\right)^{n} \\approx 2.71818...\n",
        "$"
      ],
      "metadata": {
        "id": "AfPoPp8B9NCg"
      }
    },
    {
      "cell_type": "markdown",
      "source": [
        "### Logarithmic Functions\n",
        "\n",
        "- An **logarithmic function** has the form $f(x) = \\log_{b}{x}$ where $b$ is a positive number and $b \\ne 1$\n",
        "- $b$ is called the base\n",
        "- logarithmic functions are the inverse of the exponential functions\n",
        "    - $y = \\log_{b}{x} \\iff b^{y} = x$\n",
        "        - moreover, we have\n",
        "        - $\\log_{b}\\left({b^{x}}\\right) = b^{\\log_{b}{x}} == x$\n",
        "- **Domain**: $\\left(0, \\infty \\right)$\n",
        "- **Range**: $\\left(-\\infty, \\infty \\right)$\n",
        "- **Vertical Asymptote**: $x = 0$ (the y-axis)\n",
        "- ***x*-intercept**: $\\left(0, 1\\right)$"
      ],
      "metadata": {
        "id": "QT8612T39vnY"
      }
    },
    {
      "cell_type": "code",
      "source": [
        "x = sym.symbols('x')\n",
        "\n",
        "p = sym.plot(sym.log(x, 2),\n",
        "             sym.log(x, 1/2),\n",
        "             ylim=[-4, 4],\n",
        "             title='$f(x) = \\log_{b}{x}$\\n',\n",
        "             legend=True,\n",
        "             show=False)\n",
        "\n",
        "p[0].line_color='dodgerblue'\n",
        "p[0].label = '$f(x) = \\log_{2}{x} : b > 1$'\n",
        "\n",
        "p[1].line_color='red'\n",
        "p[1].label = '$f(x) = \\log_{1/2}{x}: 0 < b < 1$'\n",
        "\n",
        "\n",
        "p.show()"
      ],
      "metadata": {
        "colab": {
          "base_uri": "https://localhost:8080/",
          "height": 487
        },
        "id": "kidz_E1MCU4r",
        "outputId": "224f3421-a2ac-4f39-ef23-71e8fb0e1b5b"
      },
      "execution_count": 53,
      "outputs": [
        {
          "output_type": "display_data",
          "data": {
            "text/plain": [
              "<Figure size 640x480 with 1 Axes>"
            ],
            "image/png": "[encoded data removed]"
          },
          "metadata": {}
        }
      ]
    },
    {
      "cell_type": "markdown",
      "source": [
        "### Natural Logarithm\n",
        "\n",
        "- The **natural logarithm** is the logarithm with base $e$\n",
        "- It has it's own notation: $\\log_{e}{x} = \\ln{x}$"
      ],
      "metadata": {
        "id": "RKYWLNEPDcTq"
      }
    },
    {
      "cell_type": "markdown",
      "source": [
        "### Applications\n",
        "\n",
        "Exponential functions can be used to model quantities that increase or decrease in special ways.\n",
        "\n",
        "- **Exponential Growth**: An increasing exponential function grows slowly at first, then more quickly as time goes on. For example, populations usually grow exponentially over time.\n",
        "- **Exponential Decay**: A decreasing exponential function shrinks quickly at first, then more slowly as time goes on. For example, air pressure decreases exponentially as altitude increases."
      ],
      "metadata": {
        "id": "3LC1aws7Du-u"
      }
    },
    {
      "cell_type": "markdown",
      "source": [
        "A quantity $P$ that grows exponentially over time can be modeled by the function\n",
        "\n",
        "$P\\left(t\\right) = P_{0}e^{kt}$\n",
        "\n",
        "where $P_{0}$ is the initial quantity (when $t = 0$) and $k > 0$. The constant $k$ is called the *rate of growth*. "
      ],
      "metadata": {
        "id": "XI1L1NHsEOBf"
      }
    },
    {
      "cell_type": "markdown",
      "source": [
        "A quantity $Q$ that decays exponentially over time can be modeled by the function\n",
        "\n",
        "$Q\\left(t\\right) = Q_{0}e^{-kt}$\n",
        "\n",
        "where $Q_{0}$ is the initial quantity (when $t = 0$) and $k > 0$. The constant $k$ is called the *rate of decay*. "
      ],
      "metadata": {
        "id": "rk7bZelGFKN0"
      }
    },
    {
      "cell_type": "markdown",
      "source": [
        "## 2.2.5 Reading: Exponents and Logarithms in SymPy"
      ],
      "metadata": {
        "id": "phY8LMqmIrAc"
      }
    },
    {
      "cell_type": "markdown",
      "source": [
        "### Exponential Expressions"
      ],
      "metadata": {
        "id": "nauXcbLKJQzJ"
      }
    },
    {
      "cell_type": "code",
      "source": [
        "b, x = sym.symbols('b x')\n",
        "b**x"
      ],
      "metadata": {
        "colab": {
          "base_uri": "https://localhost:8080/",
          "height": 39
        },
        "id": "ZKeDXjLfI5ed",
        "outputId": "d09a18e7-c97f-48ad-a738-ceb9676838d9"
      },
      "execution_count": 54,
      "outputs": [
        {
          "output_type": "execute_result",
          "data": {
            "text/plain": [
              " x\n",
              "b "
            ],
            "image/png": "[encoded data removed]",
            "text/latex": "$\\displaystyle b^{x}$"
          },
          "metadata": {},
          "execution_count": 54
        }
      ]
    },
    {
      "cell_type": "code",
      "source": [
        "x = sym.symbols('x')\n",
        "sym.exp(x)"
      ],
      "metadata": {
        "colab": {
          "base_uri": "https://localhost:8080/",
          "height": 39
        },
        "id": "0kLXzSxcI-Dw",
        "outputId": "feeea7a3-63e3-4497-962e-fb116a461b5d"
      },
      "execution_count": 55,
      "outputs": [
        {
          "output_type": "execute_result",
          "data": {
            "text/plain": [
              " x\n",
              "ℯ "
            ],
            "image/png": "[encoded data removed]",
            "text/latex": "$\\displaystyle e^{x}$"
          },
          "metadata": {},
          "execution_count": 55
        }
      ]
    },
    {
      "cell_type": "code",
      "source": [
        "sym.exp(2)"
      ],
      "metadata": {
        "colab": {
          "base_uri": "https://localhost:8080/",
          "height": 39
        },
        "id": "ItXsamT7JFNi",
        "outputId": "0fa665f7-83ce-4809-ff18-a68c62d86294"
      },
      "execution_count": 56,
      "outputs": [
        {
          "output_type": "execute_result",
          "data": {
            "text/plain": [
              " 2\n",
              "ℯ "
            ],
            "image/png": "[encoded data removed]",
            "text/latex": "$\\displaystyle e^{2}$"
          },
          "metadata": {},
          "execution_count": 56
        }
      ]
    },
    {
      "cell_type": "code",
      "source": [
        "sym.exp(2).evalf()"
      ],
      "metadata": {
        "colab": {
          "base_uri": "https://localhost:8080/",
          "height": 37
        },
        "id": "j2E4QEL1JIcR",
        "outputId": "9e52a5d0-818a-47bf-911b-2552c3985ead"
      },
      "execution_count": 57,
      "outputs": [
        {
          "output_type": "execute_result",
          "data": {
            "text/plain": [
              "7.38905609893065"
            ],
            "image/png": "[encoded data removed]",
            "text/latex": "$\\displaystyle 7.38905609893065$"
          },
          "metadata": {},
          "execution_count": 57
        }
      ]
    },
    {
      "cell_type": "markdown",
      "source": [
        "### Logarithmic Expressions"
      ],
      "metadata": {
        "id": "HnqNAFHaKy-x"
      }
    },
    {
      "cell_type": "markdown",
      "source": [
        "- In sympy $\\frac{\\log{x}}{\\log{b}}$ is the same as $\\log_{b}{x}$\n",
        "- Also, $\\log_{e}{x}$ is the same as $\\ln{x}$ and $\\log_{x}$"
      ],
      "metadata": {
        "id": "-wWYEuulLIRs"
      }
    },
    {
      "cell_type": "code",
      "source": [
        "b, x = sym.symbols('b x')\n",
        "sym.log(x, b)"
      ],
      "metadata": {
        "colab": {
          "base_uri": "https://localhost:8080/",
          "height": 57
        },
        "id": "uft9H4MqK3wN",
        "outputId": "2f0ae54f-f7e7-4853-d94f-7e0f15be2ca5"
      },
      "execution_count": 58,
      "outputs": [
        {
          "output_type": "execute_result",
          "data": {
            "text/plain": [
              "log(x)\n",
              "──────\n",
              "log(b)"
            ],
            "image/png": "[encoded data removed]",
            "text/latex": "$\\displaystyle \\frac{\\log{\\left(x \\right)}}{\\log{\\left(b \\right)}}$"
          },
          "metadata": {},
          "execution_count": 58
        }
      ]
    },
    {
      "cell_type": "code",
      "source": [
        "x = sym.symbols('x')\n",
        "sym.log(x, sym.exp(1))"
      ],
      "metadata": {
        "colab": {
          "base_uri": "https://localhost:8080/",
          "height": 39
        },
        "id": "k8jIqsuqLt5s",
        "outputId": "7e72cf9d-0ef3-4d1a-9a0e-cb77e42c4df9"
      },
      "execution_count": 59,
      "outputs": [
        {
          "output_type": "execute_result",
          "data": {
            "text/plain": [
              "log(x)"
            ],
            "image/png": "[encoded data removed]",
            "text/latex": "$\\displaystyle \\log{\\left(x \\right)}$"
          },
          "metadata": {},
          "execution_count": 59
        }
      ]
    },
    {
      "cell_type": "code",
      "source": [
        "x = sym.symbols('x')\n",
        "sym.ln(x)"
      ],
      "metadata": {
        "colab": {
          "base_uri": "https://localhost:8080/",
          "height": 39
        },
        "id": "nnOAJxnoL4RE",
        "outputId": "4acade40-90db-442f-c779-b51745347974"
      },
      "execution_count": 60,
      "outputs": [
        {
          "output_type": "execute_result",
          "data": {
            "text/plain": [
              "log(x)"
            ],
            "image/png": "[encoded data removed]",
            "text/latex": "$\\displaystyle \\log{\\left(x \\right)}$"
          },
          "metadata": {},
          "execution_count": 60
        }
      ]
    },
    {
      "cell_type": "markdown",
      "source": [
        "### Evaluating"
      ],
      "metadata": {
        "id": "df1grR8cM4hD"
      }
    },
    {
      "cell_type": "code",
      "source": [
        "expr = sym.exp(2)\n",
        "expr"
      ],
      "metadata": {
        "colab": {
          "base_uri": "https://localhost:8080/",
          "height": 39
        },
        "id": "lO0zwmVdM8M7",
        "outputId": "308637b7-4c5a-4920-8e54-52ad19537be5"
      },
      "execution_count": 61,
      "outputs": [
        {
          "output_type": "execute_result",
          "data": {
            "text/plain": [
              " 2\n",
              "ℯ "
            ],
            "image/png": "[encoded data removed]",
            "text/latex": "$\\displaystyle e^{2}$"
          },
          "metadata": {},
          "execution_count": 61
        }
      ]
    },
    {
      "cell_type": "code",
      "source": [
        "expr.evalf()"
      ],
      "metadata": {
        "colab": {
          "base_uri": "https://localhost:8080/",
          "height": 37
        },
        "id": "AIHOIvuGM_Zv",
        "outputId": "f3e80672-2f43-45e3-d119-be9141dd8875"
      },
      "execution_count": 62,
      "outputs": [
        {
          "output_type": "execute_result",
          "data": {
            "text/plain": [
              "7.38905609893065"
            ],
            "image/png": "[encoded data removed]",
            "text/latex": "$\\displaystyle 7.38905609893065$"
          },
          "metadata": {},
          "execution_count": 62
        }
      ]
    },
    {
      "cell_type": "markdown",
      "source": [
        "### Simplification"
      ],
      "metadata": {
        "id": "_PEkBal9NDkB"
      }
    },
    {
      "cell_type": "markdown",
      "source": [
        "#### Simplifying Exponentials"
      ],
      "metadata": {
        "id": "zx8yHwGWW8Rn"
      }
    },
    {
      "cell_type": "markdown",
      "source": [
        "##### Multiplication Property\n",
        "\n",
        "$b^{n} \\cdot b^{p} = b^{n + p}$\n",
        "\n",
        "for all $b$, $n$, $p$"
      ],
      "metadata": {
        "id": "YSIIT9HvOJha"
      }
    },
    {
      "cell_type": "code",
      "source": [
        "p = sym.symbols('p')\n",
        "n = sym.symbols('n')\n",
        "b = sym.symbols('b') "
      ],
      "metadata": {
        "id": "zTINBfXSRavD"
      },
      "execution_count": 63,
      "outputs": []
    },
    {
      "cell_type": "code",
      "source": [
        "expr1 = b**n * b**p"
      ],
      "metadata": {
        "id": "mq6XpifIOYS-"
      },
      "execution_count": 64,
      "outputs": []
    },
    {
      "cell_type": "code",
      "source": [
        "expr2 = b**(n + p)"
      ],
      "metadata": {
        "id": "IpYvAI1SOloj"
      },
      "execution_count": 65,
      "outputs": []
    },
    {
      "cell_type": "code",
      "source": [
        "expr1, sym.powsimp(expr1)"
      ],
      "metadata": {
        "colab": {
          "base_uri": "https://localhost:8080/",
          "height": 39
        },
        "id": "e0sQNHlwPDVl",
        "outputId": "aa0b238a-63b8-4e79-fa64-ac4d7eb19151"
      },
      "execution_count": 66,
      "outputs": [
        {
          "output_type": "execute_result",
          "data": {
            "text/plain": [
              "⎛ n  p   n + p⎞\n",
              "⎝b ⋅b , b     ⎠"
            ],
            "image/png": "[encoded data removed]",
            "text/latex": "$\\displaystyle \\left( b^{n} b^{p}, \\  b^{n + p}\\right)$"
          },
          "metadata": {},
          "execution_count": 66
        }
      ]
    },
    {
      "cell_type": "code",
      "source": [
        "expr2, sym.expand_power_exp(expr2)"
      ],
      "metadata": {
        "colab": {
          "base_uri": "https://localhost:8080/",
          "height": 39
        },
        "id": "p-fVapfFR5VN",
        "outputId": "b9ed933b-da7e-482a-e78a-7f2b43a5dc7c"
      },
      "execution_count": 67,
      "outputs": [
        {
          "output_type": "execute_result",
          "data": {
            "text/plain": [
              "⎛ n + p   n  p⎞\n",
              "⎝b     , b ⋅b ⎠"
            ],
            "image/png": "[encoded data removed]",
            "text/latex": "$\\displaystyle \\left( b^{n + p}, \\  b^{n} b^{p}\\right)$"
          },
          "metadata": {},
          "execution_count": 67
        }
      ]
    },
    {
      "cell_type": "markdown",
      "source": [
        "##### Power Property\n",
        "\n",
        "$\\left(b^{n}\\right)^{p}$\n",
        "\n",
        "for all numbers $b$, $n$ and for all integers, $p$"
      ],
      "metadata": {
        "id": "OCuBrWz4Stgx"
      }
    },
    {
      "cell_type": "code",
      "source": [
        "p = sym.symbols('p', integer=True)\n",
        "n = sym.symbols('n')\n",
        "b = sym.symbols('b') "
      ],
      "metadata": {
        "id": "BaBp0ydETIAH"
      },
      "execution_count": 68,
      "outputs": []
    },
    {
      "cell_type": "code",
      "source": [
        "expr3 = (b**n)**p\n",
        "# Power of a product, `powdnest(expr)`, happens automatically\n",
        "#  - but only if p has the integer assumption\n",
        "expr3"
      ],
      "metadata": {
        "colab": {
          "base_uri": "https://localhost:8080/",
          "height": 39
        },
        "id": "E8FW1FS1TNwK",
        "outputId": "22b4975b-e4ae-49f9-8d0e-315574f1625e"
      },
      "execution_count": 69,
      "outputs": [
        {
          "output_type": "execute_result",
          "data": {
            "text/plain": [
              " n⋅p\n",
              "b   "
            ],
            "image/png": "[encoded data removed]",
            "text/latex": "$\\displaystyle b^{n p}$"
          },
          "metadata": {},
          "execution_count": 69
        }
      ]
    },
    {
      "cell_type": "code",
      "source": [
        "expr3, sym.powdenest(expr3)"
      ],
      "metadata": {
        "colab": {
          "base_uri": "https://localhost:8080/",
          "height": 39
        },
        "id": "K2VsNCs3TUG5",
        "outputId": "3de47a9b-3a1e-4e00-c10f-f78d945ca300"
      },
      "execution_count": 70,
      "outputs": [
        {
          "output_type": "execute_result",
          "data": {
            "text/plain": [
              "⎛ n⋅p   n⋅p⎞\n",
              "⎝b   , b   ⎠"
            ],
            "image/png": "[encoded data removed]",
            "text/latex": "$\\displaystyle \\left( b^{n p}, \\  b^{n p}\\right)$"
          },
          "metadata": {},
          "execution_count": 70
        }
      ]
    },
    {
      "cell_type": "markdown",
      "source": [
        "##### Power of a Product\n",
        "\n",
        "$a^{n} \\cdot b^{n} = \\left(a \\cdot b \\right)^{n}$\n",
        "\n",
        "for all real numbers $n$ and all positive real numbers $a$, $b$"
      ],
      "metadata": {
        "id": "yyKuO8n_U-uH"
      }
    },
    {
      "cell_type": "code",
      "source": [
        "n = sym.symbols('n', real=True)\n",
        "a = sym.symbols('a', real=True, positive=True)\n",
        "b = sym.symbols('b', real=True, positive=True) "
      ],
      "metadata": {
        "id": "9mgW_smEVmGJ"
      },
      "execution_count": 71,
      "outputs": []
    },
    {
      "cell_type": "code",
      "source": [
        "expr4 = a**n * b**n "
      ],
      "metadata": {
        "id": "to2sfY7iVpsa"
      },
      "execution_count": 72,
      "outputs": []
    },
    {
      "cell_type": "code",
      "source": [
        "expr5 = (a * b)**n"
      ],
      "metadata": {
        "id": "gxG6A-GeVz-L"
      },
      "execution_count": 73,
      "outputs": []
    },
    {
      "cell_type": "code",
      "source": [
        "expr4, sym.powsimp(expr4)"
      ],
      "metadata": {
        "colab": {
          "base_uri": "https://localhost:8080/",
          "height": 39
        },
        "id": "w_FILXpjV9z_",
        "outputId": "486c0ffd-79eb-4418-ae54-e772ae6986f1"
      },
      "execution_count": 74,
      "outputs": [
        {
          "output_type": "execute_result",
          "data": {
            "text/plain": [
              "⎛ n  n       n⎞\n",
              "⎝a ⋅b , (a⋅b) ⎠"
            ],
            "image/png": "[encoded data removed]",
            "text/latex": "$\\displaystyle \\left( a^{n} b^{n}, \\  \\left(a b\\right)^{n}\\right)$"
          },
          "metadata": {},
          "execution_count": 74
        }
      ]
    },
    {
      "cell_type": "code",
      "source": [
        "expr5, sym.expand_power_base(expr5)"
      ],
      "metadata": {
        "colab": {
          "base_uri": "https://localhost:8080/",
          "height": 39
        },
        "id": "2hXFNOZ0WPFE",
        "outputId": "e78fbb94-f2eb-4e25-b43b-e70eac012228"
      },
      "execution_count": 75,
      "outputs": [
        {
          "output_type": "execute_result",
          "data": {
            "text/plain": [
              "⎛     n   n  n⎞\n",
              "⎝(a⋅b) , a ⋅b ⎠"
            ],
            "image/png": "[encoded data removed]",
            "text/latex": "$\\displaystyle \\left( \\left(a b\\right)^{n}, \\  a^{n} b^{n}\\right)$"
          },
          "metadata": {},
          "execution_count": 75
        }
      ]
    },
    {
      "cell_type": "markdown",
      "source": [
        "#### Simplifying Logarithms\n",
        "\n",
        "Applies to all logarithms including the natural logarithm"
      ],
      "metadata": {
        "id": "74BllO8AX-Hy"
      }
    },
    {
      "cell_type": "markdown",
      "source": [
        "##### Product Property\n",
        "\n",
        "$\\ln(x \\cdot y) = \\ln{x} + \\ln{y}$\n",
        "\n",
        "for all positive numbers $x$, $y$"
      ],
      "metadata": {
        "id": "VRqoYFPyYM1s"
      }
    },
    {
      "cell_type": "code",
      "source": [
        "x = sym.symbols('x', positive=True)\n",
        "y = sym.symbols('y', positive=True)"
      ],
      "metadata": {
        "id": "iKb6tRvcY204"
      },
      "execution_count": 76,
      "outputs": []
    },
    {
      "cell_type": "code",
      "source": [
        "expr6 = sym.ln(x * y)"
      ],
      "metadata": {
        "id": "PoiLKhBKYsZg"
      },
      "execution_count": 77,
      "outputs": []
    },
    {
      "cell_type": "code",
      "source": [
        "expr7 = sym.ln(x) + sym.ln(y)"
      ],
      "metadata": {
        "id": "-Oqxvp6eY_iU"
      },
      "execution_count": 78,
      "outputs": []
    },
    {
      "cell_type": "code",
      "source": [
        "expr6, sym.expand_log(expr6)"
      ],
      "metadata": {
        "colab": {
          "base_uri": "https://localhost:8080/",
          "height": 39
        },
        "id": "ZBKVPS7nZGFp",
        "outputId": "9c9bdac1-0393-4e3f-ac52-50aa57a5e668"
      },
      "execution_count": 79,
      "outputs": [
        {
          "output_type": "execute_result",
          "data": {
            "text/plain": [
              "(log(x⋅y), log(x) + log(y))"
            ],
            "image/png": "[encoded data removed]",
            "text/latex": "$\\displaystyle \\left( \\log{\\left(x y \\right)}, \\  \\log{\\left(x \\right)} + \\log{\\left(y \\right)}\\right)$"
          },
          "metadata": {},
          "execution_count": 79
        }
      ]
    },
    {
      "cell_type": "code",
      "source": [
        "expr7, sym.logcombine(expr7)"
      ],
      "metadata": {
        "colab": {
          "base_uri": "https://localhost:8080/",
          "height": 39
        },
        "id": "Bb-Pe2miZqOh",
        "outputId": "15d9f7b6-5e28-4d2e-d269-00c0a2f46286"
      },
      "execution_count": 80,
      "outputs": [
        {
          "output_type": "execute_result",
          "data": {
            "text/plain": [
              "(log(x) + log(y), log(x⋅y))"
            ],
            "image/png": "[encoded data removed]",
            "text/latex": "$\\displaystyle \\left( \\log{\\left(x \\right)} + \\log{\\left(y \\right)}, \\  \\log{\\left(x y \\right)}\\right)$"
          },
          "metadata": {},
          "execution_count": 80
        }
      ]
    },
    {
      "cell_type": "markdown",
      "source": [
        "##### Log of a Power \n",
        "\n",
        "$\\ln{x^{n}} = n \\cdot \\ln{x}$\n",
        "\n",
        "for all real numbers $n$ and postive numbers $x$"
      ],
      "metadata": {
        "id": "45oVNQh7absd"
      }
    },
    {
      "cell_type": "code",
      "source": [
        "n = sym.symbols('n', real=True)\n",
        "x = sym.symbols('x', positive=True)"
      ],
      "metadata": {
        "id": "Lg02sYdmZfed"
      },
      "execution_count": 81,
      "outputs": []
    },
    {
      "cell_type": "code",
      "source": [
        "expr8 = sym.ln(x**n)\n",
        "expr8"
      ],
      "metadata": {
        "colab": {
          "base_uri": "https://localhost:8080/",
          "height": 39
        },
        "id": "NGXSPvmjayVF",
        "outputId": "fd2bba03-4801-45a0-9329-1521fc0828c5"
      },
      "execution_count": 82,
      "outputs": [
        {
          "output_type": "execute_result",
          "data": {
            "text/plain": [
              "   ⎛ n⎞\n",
              "log⎝x ⎠"
            ],
            "image/png": "[encoded data removed]",
            "text/latex": "$\\displaystyle \\log{\\left(x^{n} \\right)}$"
          },
          "metadata": {},
          "execution_count": 82
        }
      ]
    },
    {
      "cell_type": "code",
      "source": [
        "expr9 = n * sym.ln(x)\n",
        "expr9"
      ],
      "metadata": {
        "colab": {
          "base_uri": "https://localhost:8080/",
          "height": 39
        },
        "id": "_G8fCU6Ga3tT",
        "outputId": "50097043-25e6-4c15-ae1a-b1143b04651c"
      },
      "execution_count": 83,
      "outputs": [
        {
          "output_type": "execute_result",
          "data": {
            "text/plain": [
              "n⋅log(x)"
            ],
            "image/png": "[encoded data removed]",
            "text/latex": "$\\displaystyle n \\log{\\left(x \\right)}$"
          },
          "metadata": {},
          "execution_count": 83
        }
      ]
    },
    {
      "cell_type": "code",
      "source": [
        "expr8, sym.expand_log(expr8)"
      ],
      "metadata": {
        "colab": {
          "base_uri": "https://localhost:8080/",
          "height": 39
        },
        "id": "lROU2P7pbBZW",
        "outputId": "8e6105e1-b3fb-47de-a9d5-9eacfa842d6e"
      },
      "execution_count": 84,
      "outputs": [
        {
          "output_type": "execute_result",
          "data": {
            "text/plain": [
              "⎛   ⎛ n⎞          ⎞\n",
              "⎝log⎝x ⎠, n⋅log(x)⎠"
            ],
            "image/png": "[encoded data removed]",
            "text/latex": "$\\displaystyle \\left( \\log{\\left(x^{n} \\right)}, \\  n \\log{\\left(x \\right)}\\right)$"
          },
          "metadata": {},
          "execution_count": 84
        }
      ]
    },
    {
      "cell_type": "code",
      "source": [
        "expr9, sym.logcombine(expr9)"
      ],
      "metadata": {
        "colab": {
          "base_uri": "https://localhost:8080/",
          "height": 39
        },
        "id": "qQu0IiOKbPXD",
        "outputId": "539e1a58-78ed-46bc-b24f-aa9d52b3bb4e"
      },
      "execution_count": 85,
      "outputs": [
        {
          "output_type": "execute_result",
          "data": {
            "text/plain": [
              "⎛             ⎛ n⎞⎞\n",
              "⎝n⋅log(x), log⎝x ⎠⎠"
            ],
            "image/png": "[encoded data removed]",
            "text/latex": "$\\displaystyle \\left( n \\log{\\left(x \\right)}, \\  \\log{\\left(x^{n} \\right)}\\right)$"
          },
          "metadata": {},
          "execution_count": 85
        }
      ]
    },
    {
      "cell_type": "markdown",
      "source": [
        "## 2.2.6 Reading: Equations in SymPy"
      ],
      "metadata": {
        "id": "PXnyIAVCc3Uk"
      }
    },
    {
      "cell_type": "markdown",
      "source": [
        "### Solving an Equation\n",
        "\n",
        "If `solveset` doesn't work, try `solve`"
      ],
      "metadata": {
        "id": "2revQBX5dDWB"
      }
    },
    {
      "cell_type": "markdown",
      "source": [
        "#### Example: $5x + 3 = 1$ for $x$"
      ],
      "metadata": {
        "id": "yr51s8S8eSVF"
      }
    },
    {
      "cell_type": "code",
      "source": [
        "x = sym.symbols('x')"
      ],
      "metadata": {
        "id": "TEmqsvf5eu_6"
      },
      "execution_count": 86,
      "outputs": []
    },
    {
      "cell_type": "code",
      "source": [
        "sym.solveset(5*x + 3 - 1, x)"
      ],
      "metadata": {
        "colab": {
          "base_uri": "https://localhost:8080/",
          "height": 58
        },
        "id": "m5qeBvVVdYK1",
        "outputId": "97081e3b-7b21-4635-9756-65b9a2bce2e0"
      },
      "execution_count": 87,
      "outputs": [
        {
          "output_type": "execute_result",
          "data": {
            "text/plain": [
              "{-2/5}"
            ],
            "image/png": "[encoded data removed]",
            "text/latex": "$\\displaystyle \\left\\{- \\frac{2}{5}\\right\\}$"
          },
          "metadata": {},
          "execution_count": 87
        }
      ]
    },
    {
      "cell_type": "code",
      "source": [
        "sym.solveset(sym.Eq(5*x + 3, 1), x)"
      ],
      "metadata": {
        "colab": {
          "base_uri": "https://localhost:8080/",
          "height": 58
        },
        "id": "tCF-ruLUdeYY",
        "outputId": "f9f3b129-2c32-4256-c56f-93a60c5c9a28"
      },
      "execution_count": 88,
      "outputs": [
        {
          "output_type": "execute_result",
          "data": {
            "text/plain": [
              "{-2/5}"
            ],
            "image/png": "[encoded data removed]",
            "text/latex": "$\\displaystyle \\left\\{- \\frac{2}{5}\\right\\}$"
          },
          "metadata": {},
          "execution_count": 88
        }
      ]
    },
    {
      "cell_type": "markdown",
      "source": [
        "#### Example: $2^{x} = 8$ for $x$"
      ],
      "metadata": {
        "id": "9tmOmXtiehoO"
      }
    },
    {
      "cell_type": "code",
      "source": [
        "sym.solveset(2**x - 8, x)"
      ],
      "metadata": {
        "colab": {
          "base_uri": "https://localhost:8080/",
          "height": 39
        },
        "id": "YLQwfRTgenpj",
        "outputId": "464d025e-22a3-47c4-87ae-6f2445e7f560"
      },
      "execution_count": 89,
      "outputs": [
        {
          "output_type": "execute_result",
          "data": {
            "text/plain": [
              "⎧            ⎛ x        ⎞⎫\n",
              "⎨x | x ∊ ℂ ∧ ⎝2  - 8 = 0⎠⎬\n",
              "⎩                        ⎭"
            ],
            "image/png": "[encoded data removed]",
            "text/latex": "$\\displaystyle \\left\\{x \\mid x \\in \\mathbb{C} \\wedge 2^{x} - 8 = 0 \\right\\}$"
          },
          "metadata": {},
          "execution_count": 89
        }
      ]
    },
    {
      "cell_type": "code",
      "source": [
        "sym.solveset(sym.Eq(2**x, 8), x)"
      ],
      "metadata": {
        "colab": {
          "base_uri": "https://localhost:8080/",
          "height": 39
        },
        "id": "qWVKmtRzey_3",
        "outputId": "77519ec1-1961-4c89-ea5b-fd9d965b7188"
      },
      "execution_count": 90,
      "outputs": [
        {
          "output_type": "execute_result",
          "data": {
            "text/plain": [
              "⎧            ⎛ x        ⎞⎫\n",
              "⎨x | x ∊ ℂ ∧ ⎝2  - 8 = 0⎠⎬\n",
              "⎩                        ⎭"
            ],
            "image/png": "[encoded data removed]",
            "text/latex": "$\\displaystyle \\left\\{x \\mid x \\in \\mathbb{C} \\wedge 2^{x} - 8 = 0 \\right\\}$"
          },
          "metadata": {},
          "execution_count": 90
        }
      ]
    },
    {
      "cell_type": "code",
      "source": [
        "sym.solveset(2**x - 8, x, domain = sym.S.Reals)"
      ],
      "metadata": {
        "colab": {
          "base_uri": "https://localhost:8080/",
          "height": 37
        },
        "id": "LCdYUNzoe6Ql",
        "outputId": "7d2fb84c-85fd-402a-c6e7-7939dafa7965"
      },
      "execution_count": 91,
      "outputs": [
        {
          "output_type": "execute_result",
          "data": {
            "text/plain": [
              "{3}"
            ],
            "image/png": "[encoded data removed]",
            "text/latex": "$\\displaystyle \\left\\{3\\right\\}$"
          },
          "metadata": {},
          "execution_count": 91
        }
      ]
    },
    {
      "cell_type": "code",
      "source": [
        "sym.solveset(sym.Eq(2**x, 8), x, domain = sym.S.Reals)"
      ],
      "metadata": {
        "colab": {
          "base_uri": "https://localhost:8080/",
          "height": 37
        },
        "id": "BtgZrwsCfEWC",
        "outputId": "c72988ba-2e25-4c16-e870-d281115ca217"
      },
      "execution_count": 92,
      "outputs": [
        {
          "output_type": "execute_result",
          "data": {
            "text/plain": [
              "{3}"
            ],
            "image/png": "[encoded data removed]",
            "text/latex": "$\\displaystyle \\left\\{3\\right\\}$"
          },
          "metadata": {},
          "execution_count": 92
        }
      ]
    },
    {
      "cell_type": "markdown",
      "source": [
        "## 2.2.7 Python: Exponentials and Logarithms"
      ],
      "metadata": {
        "id": "9_Wk212Qfbp7"
      }
    },
    {
      "cell_type": "code",
      "source": [
        "import math"
      ],
      "metadata": {
        "id": "dLv7bwGrgumM"
      },
      "execution_count": 93,
      "outputs": []
    },
    {
      "cell_type": "code",
      "source": [
        "math.exp(1), sym.exp(1), np.e"
      ],
      "metadata": {
        "colab": {
          "base_uri": "https://localhost:8080/",
          "height": 39
        },
        "id": "s-TbzRi4gweY",
        "outputId": "01e75316-2397-413f-aca1-3c8e456af876"
      },
      "execution_count": 94,
      "outputs": [
        {
          "output_type": "execute_result",
          "data": {
            "text/plain": [
              "(2.718281828459045, ℯ, 2.718281828459045)"
            ],
            "image/png": "[encoded data removed]",
            "text/latex": "$\\displaystyle \\left( 2.71828182845905, \\  e, \\  2.71828182845905\\right)$"
          },
          "metadata": {},
          "execution_count": 94
        }
      ]
    },
    {
      "cell_type": "code",
      "source": [
        "math.exp(-1), sym.exp(-1), np.e**-1"
      ],
      "metadata": {
        "colab": {
          "base_uri": "https://localhost:8080/",
          "height": 39
        },
        "id": "IYF8jydwhTb_",
        "outputId": "1bf37062-6b55-4b22-dfc5-c326959dc900"
      },
      "execution_count": 95,
      "outputs": [
        {
          "output_type": "execute_result",
          "data": {
            "text/plain": [
              "⎛                      -1                     ⎞\n",
              "⎝0.36787944117144233, ℯ  , 0.36787944117144233⎠"
            ],
            "image/png": "[encoded data removed]",
            "text/latex": "$\\displaystyle \\left( 0.367879441171442, \\  e^{-1}, \\  0.367879441171442\\right)$"
          },
          "metadata": {},
          "execution_count": 95
        }
      ]
    },
    {
      "cell_type": "code",
      "source": [
        "math.exp(0), sym.exp(0), np.e**0"
      ],
      "metadata": {
        "colab": {
          "base_uri": "https://localhost:8080/",
          "height": 37
        },
        "id": "N2_oaf1zhcEn",
        "outputId": "49298c48-28cf-4748-a060-866ffe4c2b5b"
      },
      "execution_count": 96,
      "outputs": [
        {
          "output_type": "execute_result",
          "data": {
            "text/plain": [
              "(1.0, 1, 1.0)"
            ],
            "image/png": "[encoded data removed]",
            "text/latex": "$\\displaystyle \\left( 1.0, \\  1, \\  1.0\\right)$"
          },
          "metadata": {},
          "execution_count": 96
        }
      ]
    },
    {
      "cell_type": "markdown",
      "source": [
        "- `math.log(x, [base=math.e])`: default is base e\n",
        "- `sympy.log(x, b)`: default is base e\n",
        "- `numpy.log(x)`: base is e"
      ],
      "metadata": {
        "id": "ubaX8t79jyEl"
      }
    },
    {
      "cell_type": "code",
      "source": [
        "math.log(1), sym.log(1), np.log(1)"
      ],
      "metadata": {
        "colab": {
          "base_uri": "https://localhost:8080/",
          "height": 37
        },
        "id": "TIqQkKCEjbTd",
        "outputId": "e838cfe3-7076-4771-ea3b-571ebe0af0a8"
      },
      "execution_count": 97,
      "outputs": [
        {
          "output_type": "execute_result",
          "data": {
            "text/plain": [
              "(0.0, 0, 0.0)"
            ],
            "image/png": "[encoded data removed]",
            "text/latex": "$\\displaystyle \\left( 0.0, \\  0, \\  0.0\\right)$"
          },
          "metadata": {},
          "execution_count": 97
        }
      ]
    },
    {
      "cell_type": "code",
      "source": [
        "math.log(10), sym.log(10).evalf(), np.log(10)"
      ],
      "metadata": {
        "colab": {
          "base_uri": "https://localhost:8080/",
          "height": 37
        },
        "id": "KRbi7goDlncU",
        "outputId": "e150d787-e8ba-42e1-9274-193aef6f6ab7"
      },
      "execution_count": 98,
      "outputs": [
        {
          "output_type": "execute_result",
          "data": {
            "text/plain": [
              "(2.302585092994046, 2.30258509299405, 2.302585092994046)"
            ],
            "image/png": "[encoded data removed]",
            "text/latex": "$\\displaystyle \\left( 2.30258509299405, \\  2.30258509299405, \\  2.30258509299405\\right)$"
          },
          "metadata": {},
          "execution_count": 98
        }
      ]
    },
    {
      "cell_type": "code",
      "source": [
        "math.log(10, 5), sym.log(10, 5).evalf(), np.log(10)/np.log(5)"
      ],
      "metadata": {
        "colab": {
          "base_uri": "https://localhost:8080/",
          "height": 37
        },
        "id": "llCXNe8ol1ZE",
        "outputId": "a0a3820f-3ef1-4c09-e56f-42ed5b1dc74a"
      },
      "execution_count": 99,
      "outputs": [
        {
          "output_type": "execute_result",
          "data": {
            "text/plain": [
              "(1.4306765580733933, 1.43067655807339, 1.4306765580733933)"
            ],
            "image/png": "[encoded data removed]",
            "text/latex": "$\\displaystyle \\left( 1.43067655807339, \\  1.43067655807339, \\  1.43067655807339\\right)$"
          },
          "metadata": {},
          "execution_count": 99
        }
      ]
    }
  ]
}