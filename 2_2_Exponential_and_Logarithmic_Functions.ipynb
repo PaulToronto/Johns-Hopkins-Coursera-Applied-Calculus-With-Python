{
  "nbformat": 4,
  "nbformat_minor": 0,
  "metadata": {
    "colab": {
      "provenance": [],
      "collapsed_sections": [],
      "toc_visible": true,
      "authorship_tag": "ABX9TyPapF/6TRxpN2lCtV6Xu5C7",
      "include_colab_link": true
    },
    "kernelspec": {
      "name": "python3",
      "display_name": "Python 3"
    },
    "language_info": {
      "name": "python"
    }
  },
  "cells": [
    {
      "cell_type": "markdown",
      "metadata": {
        "id": "view-in-github",
        "colab_type": "text"
      },
      "source": [
        "<a href=\"https://colab.research.google.com/github/PaulToronto/Johns-Hopkins-Coursera-Applied-Calculus-With-Python/blob/main/2_2_Exponential_and_Logarithmic_Functions.ipynb\" target=\"_parent\"><img src=\"https://colab.research.google.com/assets/colab-badge.svg\" alt=\"Open In Colab\"/></a>"
      ]
    },
    {
      "cell_type": "markdown",
      "source": [
        "# 2.2 Exponential and Logarithmic Functions"
      ],
      "metadata": {
        "id": "Kys1Z6sGE943"
      }
    },
    {
      "cell_type": "code",
      "source": [
        "import sympy as sym\n",
        "from math import isnan\n",
        "import numpy as np\n",
        "import matplotlib.pyplot as plt\n",
        "\n",
        "sym.init_printing(use_unicode=True)"
      ],
      "metadata": {
        "id": "2bcRZcv8IEHe"
      },
      "execution_count": 1,
      "outputs": []
    },
    {
      "cell_type": "code",
      "source": [
        "def display_f_of_x(str_expr):\n",
        "    f = sym.parse_expr(str_expr)\n",
        "\n",
        "    x = f.free_symbols.pop()\n",
        "\n",
        "    sym.plot(f, \n",
        "            line_color='red',\n",
        "            title='$f(x) = ' + sym.latex(f) + '$\\n'\n",
        "            )\n",
        "\n",
        "    x_intercepts = list()\n",
        "    for soln in sym.solve(f):\n",
        "        if soln.is_real:\n",
        "            x_intercepts.append(soln)\n",
        "    x_intercepts = None if len(x_intercepts) == 0 else x_intercepts\n",
        "\n",
        "\n",
        "    y_intercept = None if isnan(f.subs(x, 0)) else f.subs(x, 0)\n",
        "\n",
        "    slope = f.diff()\n",
        "    \n",
        "    domain = sym.calculus.util.continuous_domain(f, x, sym.S.Reals)\n",
        "\n",
        "    try:\n",
        "        range = sym.calculus.util.function_range(f, x, sym.S.Reals)\n",
        "    except NotImplementedError:\n",
        "        range = 'Not found'\n",
        "\n",
        "    print('\\nX-intercepts:')\n",
        "    display(x_intercepts)\n",
        "    print('\\nY-intercept:')\n",
        "    display(y_intercept)\n",
        "    print('\\nSlope (derivative):')\n",
        "    display(slope)\n",
        "    print('\\nDomain:')\n",
        "    display(domain)\n",
        "    print('\\nRange:')\n",
        "    display(range)"
      ],
      "metadata": {
        "id": "YJa4Ay_dIAWt"
      },
      "execution_count": 2,
      "outputs": []
    },
    {
      "cell_type": "markdown",
      "source": [
        "## 2.2.1 Theory: Exponential Functions"
      ],
      "metadata": {
        "id": "0f1Q_nQ-FDaL"
      }
    },
    {
      "cell_type": "markdown",
      "source": [
        "### Definition\n",
        "\n",
        "A function, $f(x)$, is **exponential** if it is of the form $f(x) = a^{x}, a > 0$.\n",
        "\n",
        "- Note that $f(x) = x^{2}$ is not an exponential function, it is a power function"
      ],
      "metadata": {
        "id": "M2hrMHe8F9_5"
      }
    },
    {
      "cell_type": "markdown",
      "source": [
        "### Example: $f(x) = 2^{x}$"
      ],
      "metadata": {
        "id": "OdFsuX35IeSR"
      }
    },
    {
      "cell_type": "code",
      "source": [
        "display_f_of_x('2**x')"
      ],
      "metadata": {
        "colab": {
          "base_uri": "https://localhost:8080/",
          "height": 571
        },
        "id": "Jl0y2hFvIu5c",
        "outputId": "09d40aaf-7a51-4ddc-8a11-09b4a782312a"
      },
      "execution_count": 3,
      "outputs": [
        {
          "output_type": "display_data",
          "data": {
            "text/plain": [
              "<Figure size 432x288 with 1 Axes>"
            ],
            "image/png": "[encoded data removed]"
          },
          "metadata": {
            "needs_background": "light"
          }
        },
        {
          "output_type": "stream",
          "name": "stdout",
          "text": [
            "\n",
            "X-intercepts:\n"
          ]
        },
        {
          "output_type": "display_data",
          "data": {
            "text/plain": [
              "None"
            ]
          },
          "metadata": {}
        },
        {
          "output_type": "stream",
          "name": "stdout",
          "text": [
            "\n",
            "Y-intercept:\n"
          ]
        },
        {
          "output_type": "display_data",
          "data": {
            "text/plain": [
              "1"
            ],
            "image/png": "[encoded data removed]",
            "text/latex": "$\\displaystyle 1$"
          },
          "metadata": {}
        },
        {
          "output_type": "stream",
          "name": "stdout",
          "text": [
            "\n",
            "Slope (derivative):\n"
          ]
        },
        {
          "output_type": "display_data",
          "data": {
            "text/plain": [
              " x       \n",
              "2 ⋅log(2)"
            ],
            "image/png": "[encoded data removed]",
            "text/latex": "$\\displaystyle 2^{x} \\log{\\left(2 \\right)}$"
          },
          "metadata": {}
        },
        {
          "output_type": "stream",
          "name": "stdout",
          "text": [
            "\n",
            "Domain:\n"
          ]
        },
        {
          "output_type": "display_data",
          "data": {
            "text/plain": [
              "ℝ"
            ],
            "image/png": "[encoded data removed]",
            "text/latex": "$\\displaystyle \\mathbb{R}$"
          },
          "metadata": {}
        },
        {
          "output_type": "stream",
          "name": "stdout",
          "text": [
            "\n",
            "Range:\n"
          ]
        },
        {
          "output_type": "display_data",
          "data": {
            "text/plain": [
              "(0, ∞)"
            ],
            "image/png": "[encoded data removed]",
            "text/latex": "$\\displaystyle \\left(0, \\infty\\right)$"
          },
          "metadata": {}
        }
      ]
    },
    {
      "cell_type": "code",
      "source": [
        "x = sym.symbols('x')\n",
        "\n",
        "expr1 = sym.Rational(1, 16)**x\n",
        "expr2 = sym.Rational(1, 2)**x\n",
        "expr3 = 2**x \n",
        "expr4 = 16**x\n",
        "\n",
        "fig = sym.plot(expr1, expr2, expr3, expr4,\n",
        "               ylim=[-1, 5],\n",
        "               legend=True,\n",
        "               show=False)\n",
        "\n",
        "fig[0].line_color = 'dodgerblue'\n",
        "fig[0].label = '$f(x) = ' + sym.latex(expr1) + '$'\n",
        " \n",
        "fig[1].line_color = 'yellow'\n",
        "fig[1].label = '$f(x) = ' + sym.latex(expr2) + '$'\n",
        "\n",
        "fig[2].line_color = 'red'\n",
        "fig[2].label = '$f(x) = ' + sym.latex(expr3) + '$'\n",
        "\n",
        "fig[3].line_color='green'\n",
        "fig[3].label = '$f(x) = ' + sym.latex(expr4) + '$'\n",
        "\n",
        "fig.show()"
      ],
      "metadata": {
        "colab": {
          "base_uri": "https://localhost:8080/",
          "height": 297
        },
        "id": "AfPmYS-nJUmT",
        "outputId": "0b01a34e-0d9c-45ce-c367-4719095390b5"
      },
      "execution_count": 4,
      "outputs": [
        {
          "output_type": "display_data",
          "data": {
            "text/plain": [
              "<Figure size 432x288 with 1 Axes>"
            ],
            "image/png": "[encoded data removed]"
          },
          "metadata": {
            "needs_background": "light"
          }
        }
      ]
    },
    {
      "cell_type": "markdown",
      "source": [
        "### Three Types of Exponential Functions\n",
        "\n",
        "1. $0 < a < 1$\n",
        "2. a = 1\n",
        "3. "
      ],
      "metadata": {
        "id": "JCa7BsunUhQO"
      }
    },
    {
      "cell_type": "code",
      "source": [
        "def plot_many(*args):\n",
        "    p = sym.plot(show=False, ylim=[-1, 5], legend=True)\n",
        "    for i, arg in enumerate(*args):\n",
        "        p.append(sym.plot(arg, show=False)[0])\n",
        "        p[i].label = '$f(x) = ' + sym.latex(arg) + '$'\n",
        "    \n",
        "    p[0].line_color = 'red'\n",
        "    p[1].line_color = 'lime'\n",
        "    p[len(*args) - 1].line_color = 'orange'\n",
        "    p.show()"
      ],
      "metadata": {
        "id": "1wKw4_nifiHg"
      },
      "execution_count": 5,
      "outputs": []
    },
    {
      "cell_type": "markdown",
      "source": [
        "#### Type 1: $0 < a < 1$\n",
        "\n",
        "- exponential decay\n",
        "- this is a decreasing function\n",
        "- y-intercept is always $1$\n",
        "- horizontal asymptote at $y = 0$"
      ],
      "metadata": {
        "id": "TamCfAwBU6El"
      }
    },
    {
      "cell_type": "code",
      "source": [
        "x = sym.symbols('x')\n",
        "exprs = [sym.Rational(n, 10)**x for n in (np.linspace(1, 9, 9))]\n",
        "exprs"
      ],
      "metadata": {
        "colab": {
          "base_uri": "https://localhost:8080/",
          "height": 59
        },
        "id": "N5FPJTH5U-_0",
        "outputId": "92f783ed-5d9e-4c66-b9b9-619b502f048d"
      },
      "execution_count": 6,
      "outputs": [
        {
          "output_type": "execute_result",
          "data": {
            "text/plain": [
              "⎡  -x   -x      x     x   -x     x      x     x      x⎤\n",
              "⎣10  , 5  , 3/10 , 2/5 , 2  , 3/5 , 7/10 , 4/5 , 9/10 ⎦"
            ],
            "image/png": "[encoded data removed]",
            "text/latex": "$\\displaystyle \\left[ \\left(\\frac{1}{10}\\right)^{x}, \\  \\left(\\frac{1}{5}\\right)^{x}, \\  \\left(\\frac{3}{10}\\right)^{x}, \\  \\left(\\frac{2}{5}\\right)^{x}, \\  \\left(\\frac{1}{2}\\right)^{x}, \\  \\left(\\frac{3}{5}\\right)^{x}, \\  \\left(\\frac{7}{10}\\right)^{x}, \\  \\left(\\frac{4}{5}\\right)^{x}, \\  \\left(\\frac{9}{10}\\right)^{x}\\right]$"
          },
          "metadata": {},
          "execution_count": 6
        }
      ]
    },
    {
      "cell_type": "code",
      "source": [
        "plot_many(exprs)"
      ],
      "metadata": {
        "colab": {
          "base_uri": "https://localhost:8080/",
          "height": 288
        },
        "id": "lTwNXG1GXqei",
        "outputId": "0efea386-e13a-4622-e126-31ad8411a3c0"
      },
      "execution_count": 7,
      "outputs": [
        {
          "output_type": "display_data",
          "data": {
            "text/plain": [
              "<Figure size 432x288 with 1 Axes>"
            ],
            "image/png": "[encoded data removed]"
          },
          "metadata": {
            "needs_background": "light"
          }
        }
      ]
    },
    {
      "cell_type": "markdown",
      "source": [
        "#### Type 2: $a = 1$\n",
        "\n",
        "- not really exponential\n",
        "- we don't study this one"
      ],
      "metadata": {
        "id": "OqsYKR_jfp0m"
      }
    },
    {
      "cell_type": "code",
      "source": [
        "x = sym.symbols('x')\n",
        "p = sym.plot(1**x, show=False, legend=True, ylim=[-1, 5], axis_center='center')\n",
        "p[0].label = '$f(x) = ' + sym.latex(1**x) + '$'\n",
        "p[0].line_color = 'red'\n",
        "\n",
        "p.show()"
      ],
      "metadata": {
        "colab": {
          "base_uri": "https://localhost:8080/",
          "height": 297
        },
        "id": "AREAqav1f6UO",
        "outputId": "7693f467-67ba-425b-ceb1-0fc346e6a332"
      },
      "execution_count": 8,
      "outputs": [
        {
          "output_type": "display_data",
          "data": {
            "text/plain": [
              "<Figure size 432x288 with 1 Axes>"
            ],
            "image/png": "[encoded data removed]"
          },
          "metadata": {
            "needs_background": "light"
          }
        }
      ]
    },
    {
      "cell_type": "markdown",
      "source": [
        "#### Type 3: $a > 0$\n",
        "\n",
        "- exponential growth\n",
        "- this is an increasing function\n",
        "- y-intercept is always $1$\n",
        "- horizontal asymptote at $y = 0$"
      ],
      "metadata": {
        "id": "11kADPuzjE0V"
      }
    },
    {
      "cell_type": "code",
      "source": [
        "x = sym.symbols('x')\n",
        "exprs = [a**x for a in (np.linspace(2, 10, 9))]\n",
        "exprs"
      ],
      "metadata": {
        "colab": {
          "base_uri": "https://localhost:8080/",
          "height": 37
        },
        "id": "37V12NrvjM8o",
        "outputId": "3fbe34c6-a577-4bf8-b94e-856ddb2da08f"
      },
      "execution_count": 9,
      "outputs": [
        {
          "output_type": "execute_result",
          "data": {
            "text/plain": [
              "⎡   x     x     x     x     x     x     x     x      x⎤\n",
              "⎣2.0 , 3.0 , 4.0 , 5.0 , 6.0 , 7.0 , 8.0 , 9.0 , 10.0 ⎦"
            ],
            "image/png": "[encoded data removed]",
            "text/latex": "$\\displaystyle \\left[ 2.0^{x}, \\  3.0^{x}, \\  4.0^{x}, \\  5.0^{x}, \\  6.0^{x}, \\  7.0^{x}, \\  8.0^{x}, \\  9.0^{x}, \\  10.0^{x}\\right]$"
          },
          "metadata": {},
          "execution_count": 9
        }
      ]
    },
    {
      "cell_type": "code",
      "source": [
        "plot_many(exprs)"
      ],
      "metadata": {
        "colab": {
          "base_uri": "https://localhost:8080/",
          "height": 297
        },
        "id": "DkzSm2AAjVY_",
        "outputId": "6bc96998-6980-4c52-dbc0-f67da1eaae94"
      },
      "execution_count": 10,
      "outputs": [
        {
          "output_type": "display_data",
          "data": {
            "text/plain": [
              "<Figure size 432x288 with 1 Axes>"
            ],
            "image/png": "[encoded data removed]"
          },
          "metadata": {
            "needs_background": "light"
          }
        }
      ]
    },
    {
      "cell_type": "markdown",
      "source": [
        "### Example: $f(x) = -2^{-x} - 1$\n",
        "\n",
        "Let's plot this in steps:"
      ],
      "metadata": {
        "id": "-SlVScxWlNqp"
      }
    },
    {
      "cell_type": "code",
      "source": [
        "x = sym.symbols('x')"
      ],
      "metadata": {
        "id": "j7NT2L-L7YfK"
      },
      "execution_count": 11,
      "outputs": []
    },
    {
      "cell_type": "markdown",
      "source": [
        "#### Step 1: Plot $f(x) = 2^x$"
      ],
      "metadata": {
        "id": "ZwMwr5LTo8Id"
      }
    },
    {
      "cell_type": "code",
      "source": [
        "p = sym.plot(2**x, legend=True, show=False, ylim=[-3, 3])\n",
        "\n",
        "p[0].label = '$f(x) = ' + sym.latex(2**x) + '$'\n",
        "p[0].line_color = 'red'\n",
        "\n",
        "p.show()"
      ],
      "metadata": {
        "colab": {
          "base_uri": "https://localhost:8080/",
          "height": 297
        },
        "id": "WxS8FRmklarX",
        "outputId": "c90bd70d-e146-46ea-e53d-897a8438351d"
      },
      "execution_count": 12,
      "outputs": [
        {
          "output_type": "display_data",
          "data": {
            "text/plain": [
              "<Figure size 432x288 with 1 Axes>"
            ],
            "image/png": "[encoded data removed]"
          },
          "metadata": {
            "needs_background": "light"
          }
        }
      ]
    },
    {
      "cell_type": "markdown",
      "source": [
        "#### Step 2: Plot $f(x) = 2^{-x}$\n",
        "\n",
        "- When $x$ is replaced with $-x$ we have a refelection in the y-axis."
      ],
      "metadata": {
        "id": "AT_zq3mQo-DN"
      }
    },
    {
      "cell_type": "code",
      "source": [
        "p.append(sym.plot(2**(-x), show=False)[0])\n",
        "\n",
        "p[1].label = '$f(x) = ' + sym.latex(x**(-2)) + '$'\n",
        "p[1].line_color = 'lime'\n",
        "\n",
        "p.show()"
      ],
      "metadata": {
        "colab": {
          "base_uri": "https://localhost:8080/",
          "height": 297
        },
        "id": "gZasEd2DpIWO",
        "outputId": "96018131-1688-4425-9014-032aa7ae4f44"
      },
      "execution_count": 13,
      "outputs": [
        {
          "output_type": "display_data",
          "data": {
            "text/plain": [
              "<Figure size 432x288 with 1 Axes>"
            ],
            "image/png": "[encoded data removed]"
          },
          "metadata": {
            "needs_background": "light"
          }
        }
      ]
    },
    {
      "cell_type": "markdown",
      "source": [
        "#### Step 3: Plot $f(x) = -2^{-x}$\n",
        "\n",
        "- When we negate the function, replacing $y$ with $-y$ we have a reflection in the x-axis."
      ],
      "metadata": {
        "id": "A4j4E-pNwp9m"
      }
    },
    {
      "cell_type": "code",
      "source": [
        "p.append(sym.plot(-2**(-x), show=False)[0])\n",
        "\n",
        "p[2].label = '$f(x) = ' + sym.latex(-x**(-2)) + '$'\n",
        "p[2].line_color = 'dodgerblue'\n",
        "\n",
        "p.show()"
      ],
      "metadata": {
        "colab": {
          "base_uri": "https://localhost:8080/",
          "height": 297
        },
        "id": "1nMx-DGAw3ai",
        "outputId": "928cffee-1258-42de-edde-60771a3f2a6c"
      },
      "execution_count": 14,
      "outputs": [
        {
          "output_type": "display_data",
          "data": {
            "text/plain": [
              "<Figure size 432x288 with 1 Axes>"
            ],
            "image/png": "[encoded data removed]"
          },
          "metadata": {
            "needs_background": "light"
          }
        }
      ]
    },
    {
      "cell_type": "markdown",
      "source": [
        "#### Step 4: Plot $f(x) = -2^{-x} - 1$\n",
        "\n",
        "- Subtracting 1 from the function shifts the graph down by $1$ unit. "
      ],
      "metadata": {
        "id": "uh638X5WzLJV"
      }
    },
    {
      "cell_type": "code",
      "source": [
        "p.append(sym.plot(-2**(-x) - 1, show=False)[0])\n",
        "\n",
        "p[3].label = '$f(x) = ' + sym.latex(-x**(-2) - 1) + '$'\n",
        "p[3].line_color = 'pink'\n",
        "\n",
        "p.show()"
      ],
      "metadata": {
        "colab": {
          "base_uri": "https://localhost:8080/",
          "height": 297
        },
        "id": "dDuSTnNszYkL",
        "outputId": "7e9256c1-1d33-4b46-d107-c91c7c489cba"
      },
      "execution_count": 15,
      "outputs": [
        {
          "output_type": "display_data",
          "data": {
            "text/plain": [
              "<Figure size 432x288 with 1 Axes>"
            ],
            "image/png": "[encoded data removed]"
          },
          "metadata": {
            "needs_background": "light"
          }
        }
      ]
    },
    {
      "cell_type": "markdown",
      "source": [
        "### Example: $f(x) = e^{x}$"
      ],
      "metadata": {
        "id": "ESsl3ISB19mq"
      }
    },
    {
      "cell_type": "code",
      "source": [
        "x = sym.symbols('x')\n",
        "sym.plot(sym.exp(x), \n",
        "         ylim=[-1, 5], xlim=[-4, 4],\n",
        "         legend=True, \n",
        "         label= '$f(x) = ' + sym.latex(sym.exp(x)) + '$',\n",
        "         line_color='red',\n",
        "         show=True);"
      ],
      "metadata": {
        "colab": {
          "base_uri": "https://localhost:8080/",
          "height": 297
        },
        "id": "X6bYWQUd1gu_",
        "outputId": "001873f7-bf3a-4dfa-ce69-33b0fa7e4b17"
      },
      "execution_count": 16,
      "outputs": [
        {
          "output_type": "display_data",
          "data": {
            "text/plain": [
              "<Figure size 432x288 with 1 Axes>"
            ],
            "image/png": "[encoded data removed]"
          },
          "metadata": {
            "needs_background": "light"
          }
        }
      ]
    },
    {
      "cell_type": "code",
      "source": [
        "x = sym.symbols('x')\n",
        "sym.calculus.util.continuous_domain(sym.exp(1)**x, x, sym.S.Reals)"
      ],
      "metadata": {
        "colab": {
          "base_uri": "https://localhost:8080/",
          "height": 38
        },
        "id": "ugMJRvYA6g_G",
        "outputId": "008f7c9d-098f-48cf-fca7-0dbd5630d7d1"
      },
      "execution_count": 17,
      "outputs": [
        {
          "output_type": "execute_result",
          "data": {
            "text/plain": [
              "ℝ"
            ],
            "image/png": "[encoded data removed]",
            "text/latex": "$\\displaystyle \\mathbb{R}$"
          },
          "metadata": {},
          "execution_count": 17
        }
      ]
    },
    {
      "cell_type": "code",
      "source": [
        "x = sym.symbols('x')\n",
        "\n",
        "try:\n",
        "    range = sym.calculus.util.function_range(sym.exp(1)**x, x, sym.S.Reals)\n",
        "except NotImplementedError:\n",
        "    range = 'Not found'\n",
        "\n",
        "range"
      ],
      "metadata": {
        "colab": {
          "base_uri": "https://localhost:8080/",
          "height": 37
        },
        "id": "CsRdvO0A5p80",
        "outputId": "4c26cf2a-d926-401c-efeb-40edca554397"
      },
      "execution_count": 18,
      "outputs": [
        {
          "output_type": "execute_result",
          "data": {
            "text/plain": [
              "(0, ∞)"
            ],
            "image/png": "[encoded data removed]",
            "text/latex": "$\\displaystyle \\left(0, \\infty\\right)$"
          },
          "metadata": {},
          "execution_count": 18
        }
      ]
    },
    {
      "cell_type": "markdown",
      "source": [
        "### Example: Find the domain of $f(x) = \\frac{1 - e^{x}}{1 - e^{1 - x^{2}}}$"
      ],
      "metadata": {
        "id": "HTkJ0bdK4ifX"
      }
    },
    {
      "cell_type": "code",
      "source": [
        "# the denominator can't be equal to 0\n",
        "# solve for x when the denominator is 0\n",
        "sym.solve(1 - sym.exp(1 - x**2))"
      ],
      "metadata": {
        "colab": {
          "base_uri": "https://localhost:8080/",
          "height": 37
        },
        "id": "PY6GBEg39noZ",
        "outputId": "710bd2fc-ec2a-4f08-bbde-42e3fbf0ca84"
      },
      "execution_count": 19,
      "outputs": [
        {
          "output_type": "execute_result",
          "data": {
            "text/plain": [
              "[-1, 1]"
            ],
            "image/png": "[encoded data removed]",
            "text/latex": "$\\displaystyle \\left[ -1, \\  1\\right]$"
          },
          "metadata": {},
          "execution_count": 19
        }
      ]
    },
    {
      "cell_type": "markdown",
      "source": [
        "#### By hand\n",
        "\n",
        "$\n",
        "\\begin{align}\n",
        "1 - e^{1 - x^{2}} &= 0 \\\\\n",
        "e^{1 - x^{2}} &= 1 \\\\\n",
        "\\ln{e^{1 - x^{2}}} &= \\ln{1} \\\\\n",
        "1 - x^{2} = 0 \\\\\n",
        "x^{2} - 1 = 0 \\\\\n",
        "(x + 1)(x - 1) = 0 \\\\\n",
        "x = -1, x = 1\n",
        "\\end{align}\n",
        "$"
      ],
      "metadata": {
        "id": "73bJeVjm8s9p"
      }
    },
    {
      "cell_type": "markdown",
      "source": [
        "The domain is expressed below in 3 different ways:"
      ],
      "metadata": {
        "id": "YBsAy2-qA0Wp"
      }
    },
    {
      "cell_type": "markdown",
      "source": [
        "Domain: $\\left(-\\infty, -1\\right) \\cup \\left(-1, 1\\right) \\cup \\left(1, \\infty\\right)$\n",
        "\n",
        "\n"
      ],
      "metadata": {
        "id": "nxxvTvDU52cV"
      }
    },
    {
      "cell_type": "markdown",
      "source": [
        "Domain: $\\{x \\in \\mathbb{R}\\ : x \\ne -1\\ and\\: x \\ne 1\\}$"
      ],
      "metadata": {
        "id": "N6rolrlt7l6l"
      }
    },
    {
      "cell_type": "markdown",
      "source": [
        "Domain: $\\mathbb{R} \\backslash \\{\\pm1\\}$"
      ],
      "metadata": {
        "id": "tRruShxz_2q8"
      }
    },
    {
      "cell_type": "markdown",
      "source": [
        "### Example: $f(x) = 5^{x}$\n",
        "\n",
        "Find the `Difference Quotient`"
      ],
      "metadata": {
        "id": "EbltsGeLBTiC"
      }
    },
    {
      "cell_type": "markdown",
      "source": [
        "$\n",
        "\\begin{align}\n",
        "\\frac{f\\left(x + h\\right) - f\\left(x\\right)}{h} \n",
        "&= \\frac{5^{x + h} - 5^{x}}{h} \\\\\n",
        "&= \\frac{5^{x} 5^{h} - 5^{x}}{h} \\\\\n",
        "&= \\frac{5^{x}\\left(5^{h} - 1\\right)}{h}\n",
        "\\end{align}\n",
        "$"
      ],
      "metadata": {
        "id": "l7I5EMNxD_6I"
      }
    },
    {
      "cell_type": "markdown",
      "source": [
        "### Example: $f(x) = \\frac{1 - e^{\\frac{1}{x}}}{1 + e^{\\frac{1}{x}}}$ is an odd function. True or False? "
      ],
      "metadata": {
        "id": "wkg_3ZzaJCAa"
      }
    },
    {
      "cell_type": "markdown",
      "source": [
        "$\n",
        "\\begin{align}\n",
        "f(-x) &= \\frac\n",
        "{1 - e^{\\frac{1}{-x}}}\n",
        "{1 + e^{\\frac{1}{-x}}} \\\\\n",
        "&= \\frac\n",
        "{\\frac{1}{1} - \\frac{1}{e^{\\frac{1}{x}}}}\n",
        "{\\frac{1}{1} + \\frac{1}{e^{\\frac{1}{x}}}} \\\\\n",
        "&= \\frac\n",
        "{\\frac{e^{\\frac{1}{x}} - 1}{e^{\\frac{1}{x}}}}\n",
        "{\\frac{e^{\\frac{1}{x}} + 1}{e^{\\frac{1}{x}}}} \\\\\n",
        "&= \\frac \n",
        "{e^{\\frac{1}{x}} - 1}\n",
        "{e^{\\frac{1}{x}} + 1} \\\\\n",
        "&= \\frac \n",
        "{- 1 + e^{\\frac{1}{x}}}\n",
        "{1 + e^{\\frac{1}{x}}} \\\\\n",
        "&= -\\frac \n",
        "{1 - e^{\\frac{1}{x}}}\n",
        "{1 + e^{\\frac{1}{x}}} \\\\\n",
        "&= -f(x) \\\\\n",
        "\\end{align}\n",
        "$"
      ],
      "metadata": {
        "id": "S-8oZrFzKmjf"
      }
    },
    {
      "cell_type": "markdown",
      "source": [
        "$\\therefore$ f(x) is an odd function"
      ],
      "metadata": {
        "id": "jyxLsLarLTTq"
      }
    },
    {
      "cell_type": "code",
      "source": [
        "x = sym.symbols('x')\n",
        "\n",
        "f1 = (1 - np.e**(1/x)) / (1 + np.e**(1/x))\n",
        "f1"
      ],
      "metadata": {
        "colab": {
          "base_uri": "https://localhost:8080/",
          "height": 60
        },
        "id": "CJOWKHP5PYUw",
        "outputId": "cd3d3491-d952-48bb-8788-99d019ce82e3"
      },
      "execution_count": 20,
      "outputs": [
        {
          "output_type": "execute_result",
          "data": {
            "text/plain": [
              "    x __________________\n",
              "1 - ╲╱ 2.71828182845905 \n",
              "────────────────────────\n",
              "x __________________    \n",
              "╲╱ 2.71828182845905  + 1"
            ],
            "image/png": "[encoded data removed]",
            "text/latex": "$\\displaystyle \\frac{1 - 2.71828182845905^{\\frac{1}{x}}}{2.71828182845905^{\\frac{1}{x}} + 1}$"
          },
          "metadata": {},
          "execution_count": 20
        }
      ]
    },
    {
      "cell_type": "markdown",
      "source": [
        "## 2.2.2 Theory: Logarithmic Functions"
      ],
      "metadata": {
        "id": "JJL8eHpeVzqd"
      }
    },
    {
      "cell_type": "markdown",
      "source": [
        "### Two ways to think about logaritms\n",
        "\n",
        "1. As the inverse of the exponential function\n",
        "2. As an exponent"
      ],
      "metadata": {
        "id": "CfN64X_oJ9VX"
      }
    },
    {
      "cell_type": "markdown",
      "source": [
        "#### `1.` As the inverse of the exponential function"
      ],
      "metadata": {
        "id": "zu8W542KK3rt"
      }
    },
    {
      "cell_type": "markdown",
      "source": [
        "- If $a \\ne 0$, $a \\ne 1$, $f(x) = a^{x}$ is either increasing ($a > 1$) or decreasing ($a < 1$)\n",
        "- The graph is $1:1$, so it passes the horizontal line test\n",
        "- If the graph is $1:1$, it has an inverse. \n",
        "- Since $f(x) = a^{x}$ is $1:1$, it has and inverse: $f^{-1}(x)$\n",
        "    - **Logarithmic functions** with the base $a$"
      ],
      "metadata": {
        "id": "iX4iXJqsLBRq"
      }
    },
    {
      "cell_type": "markdown",
      "source": [
        "$$\n",
        "f(x) = \\log_{a}{x} \\\\\n",
        "\\log_{a}x = y \\iff a^{y} = x\n",
        "$$"
      ],
      "metadata": {
        "id": "DiUmSf6WOx7h"
      }
    },
    {
      "cell_type": "markdown",
      "source": [
        "##### Example: $\\log_{2}{x}$\n",
        "\n",
        "- This is the inverse of $f(x) = 2^{x}$\n",
        "- Whatever $2^{x}$ does to the function, $\\log_{2}{x}$ will undo it\n",
        "- The inverse is a **reflection in the line y = x$"
      ],
      "metadata": {
        "id": "yEIqfWGiPtiN"
      }
    },
    {
      "cell_type": "code",
      "source": [
        "p = sym.plot(2**x, sym.log(x, 2), x,\n",
        "             xlim=(-4, 4), ylim=(-4, 4), \n",
        "             aspect_ratio=(1, 1), ylabel='y',\n",
        "             legend=True, show=False)\n",
        "\n",
        "p[0].line_color = 'red'\n",
        "p[0].label = '$y = ' + sym.latex(p[0].expr) + '$'\n",
        "\n",
        "p[1].line_color = 'dodgerblue'\n",
        "p[1].label = '$y = \\log_{2}{x}$'\n",
        "\n",
        "p[2].line_color = 'lightgray'\n",
        "p[2].label = None\n",
        "\n",
        "plt.rcParams['legend.loc'] = 'upper left'\n",
        "p.show()\n",
        "plt.rcParams.update(plt.rcParamsDefault)"
      ],
      "metadata": {
        "colab": {
          "base_uri": "https://localhost:8080/",
          "height": 297
        },
        "id": "NHkxVkNrRPi6",
        "outputId": "0a78dad7-7ed0-48d6-9d8b-620d626093be"
      },
      "execution_count": 21,
      "outputs": [
        {
          "output_type": "display_data",
          "data": {
            "text/plain": [
              "<Figure size 432x288 with 1 Axes>"
            ],
            "image/png": "[encoded data removed]"
          },
          "metadata": {
            "needs_background": "light"
          }
        }
      ]
    },
    {
      "cell_type": "markdown",
      "source": [
        "$\\log_{2}{x} = 0 \\iff 2^{0} = x$\n",
        "\n",
        "- This happens when $x = 1$\n",
        "- The x-intercept is $(0, 1)$"
      ],
      "metadata": {
        "id": "ruVXgEQ3UK2q"
      }
    },
    {
      "cell_type": "markdown",
      "source": [
        "- This is a general rule: $\\log_{b}{1} = 0$\n",
        "- This is because $b^{0}$ is always $1$"
      ],
      "metadata": {
        "id": "_M8miuxdWgiY"
      }
    },
    {
      "cell_type": "code",
      "source": [
        "expr = sym.log(x, 2)\n",
        "expr"
      ],
      "metadata": {
        "colab": {
          "base_uri": "https://localhost:8080/",
          "height": 57
        },
        "id": "QO3E1DtlZo_p",
        "outputId": "33d77cd2-2414-41cc-8014-af33a9a6710a"
      },
      "execution_count": 22,
      "outputs": [
        {
          "output_type": "execute_result",
          "data": {
            "text/plain": [
              "log(x)\n",
              "──────\n",
              "log(2)"
            ],
            "image/png": "[encoded data removed]",
            "text/latex": "$\\displaystyle \\frac{\\log{\\left(x \\right)}}{\\log{\\left(2 \\right)}}$"
          },
          "metadata": {},
          "execution_count": 22
        }
      ]
    },
    {
      "cell_type": "code",
      "source": [
        "domain = sym.calculus.util.continuous_domain(expr, x, sym.S.Reals)\n",
        "\n",
        "try:\n",
        "    range = sym.calculus.util.function_range(expr, x, sym.S.Reals)\n",
        "except NotImplementedError:\n",
        "    range = 'Not found'"
      ],
      "metadata": {
        "id": "4l1iTBeWZ8h-"
      },
      "execution_count": 23,
      "outputs": []
    },
    {
      "cell_type": "code",
      "source": [
        "domain"
      ],
      "metadata": {
        "colab": {
          "base_uri": "https://localhost:8080/",
          "height": 37
        },
        "id": "CFK410sbaZAi",
        "outputId": "e5cd861d-4557-4140-ac98-a1e6053e50f1"
      },
      "execution_count": 24,
      "outputs": [
        {
          "output_type": "execute_result",
          "data": {
            "text/plain": [
              "(0, ∞)"
            ],
            "image/png": "[encoded data removed]",
            "text/latex": "$\\displaystyle \\left(0, \\infty\\right)$"
          },
          "metadata": {},
          "execution_count": 24
        }
      ]
    },
    {
      "cell_type": "code",
      "source": [
        "range"
      ],
      "metadata": {
        "colab": {
          "base_uri": "https://localhost:8080/",
          "height": 37
        },
        "id": "SiYRmXWNayIj",
        "outputId": "f647f85f-70b3-4089-929f-77d83c3d7856"
      },
      "execution_count": 25,
      "outputs": [
        {
          "output_type": "execute_result",
          "data": {
            "text/plain": [
              "(-∞, ∞)"
            ],
            "image/png": "[encoded data removed]",
            "text/latex": "$\\displaystyle \\left(-\\infty, \\infty\\right)$"
          },
          "metadata": {},
          "execution_count": 25
        }
      ]
    },
    {
      "cell_type": "markdown",
      "source": [
        "It also has a vertical asymptote at $x = 0$"
      ],
      "metadata": {
        "id": "FsnopmRSeR7x"
      }
    },
    {
      "cell_type": "markdown",
      "source": [
        "#### `2.` As an exponent"
      ],
      "metadata": {
        "id": "_WXh4SPIfYHl"
      }
    },
    {
      "cell_type": "markdown",
      "source": [
        "##### Log Rules\n",
        "\n",
        "1. $\\log_{a}{xy} = \\log_{a}{x} + \\log_{a}{y}$\n",
        "    - logarithms turn multiplication into addition\n",
        "    - logarithms \"live upstairs\" where products become addition\n",
        "    - $a^{x} \\cdot a^{y} = a^{x + y}$\n",
        "2. $\\log_{a}{\\frac{x}{y}} = \\log_{a}{x} - \\log_{a}{y}$\n",
        "    - logarithms turn division into subtraction\n",
        "    - $\\frac{a^{x}}{a^{y}} = log_{a}{x} - \\log_{a}{y}$\n",
        "3. $\\log_{a}{x^{r}} = r\\log_{a}{x}$\n",
        "    - exponents fall out in front\n",
        "    - logarithms turn a power into a product\n",
        "    - $\\left(a^{x}\\right)^{r} = a^{xr}$\n",
        "4. $\\log_{a}{1} = 0$ and $\\log_{a}{0} = undefined$\n",
        "    - not really rules, but they're handy to remember"
      ],
      "metadata": {
        "id": "VP9vCG3femlM"
      }
    },
    {
      "cell_type": "markdown",
      "source": [
        "##### Example: $\\log_{5}{125}$"
      ],
      "metadata": {
        "id": "ekJTrzS-pRjx"
      }
    },
    {
      "cell_type": "markdown",
      "source": [
        "$\n",
        "\\begin{align}\n",
        "\\log_{5}{125} &= \\log_{5}{\\left(5 \\cdot 25\\right)} \\\\\n",
        "&= \\log_{5}{5} + \\log_{5}{\\left(5 \\cdot 5\\right)} \\\\\n",
        "&= \\log_{5}{5} + \\log_{5}{5} + \\log_{5}{5} \\\\\n",
        "&= 1 + 1 + 1 \\\\\n",
        "&= 3\n",
        "\\end{align}\n",
        "$"
      ],
      "metadata": {
        "id": "yTkqPdKWpe7-"
      }
    },
    {
      "cell_type": "markdown",
      "source": [
        "$\n",
        "log_{5}{125} = x \\iff 5^{x} = 125\n",
        "$"
      ],
      "metadata": {
        "id": "W0X-Vvx5sQN9"
      }
    },
    {
      "cell_type": "code",
      "source": [
        "sym.log(125, 5), np.log(125) / np.log(5)"
      ],
      "metadata": {
        "colab": {
          "base_uri": "https://localhost:8080/",
          "height": 37
        },
        "id": "167HxXYzrMfe",
        "outputId": "38800341-7212-4f45-f750-7f9ed0cb0b8f"
      },
      "execution_count": 26,
      "outputs": [
        {
          "output_type": "execute_result",
          "data": {
            "text/plain": [
              "(3, 3.0000000000000004)"
            ],
            "image/png": "[encoded data removed]",
            "text/latex": "$\\displaystyle \\left( 3, \\  3.0\\right)$"
          },
          "metadata": {},
          "execution_count": 26
        }
      ]
    },
    {
      "cell_type": "code",
      "source": [
        "5**(sym.log(125, 5)), 5**(np.log(125) / np.log(5))"
      ],
      "metadata": {
        "colab": {
          "base_uri": "https://localhost:8080/",
          "height": 37
        },
        "id": "u_THnK5ZrXW9",
        "outputId": "e0dc600b-100a-44bf-f9af-ed4033be4c3f"
      },
      "execution_count": 27,
      "outputs": [
        {
          "output_type": "execute_result",
          "data": {
            "text/plain": [
              "(125, 125.00000000000009)"
            ],
            "image/png": "[encoded data removed]",
            "text/latex": "$\\displaystyle \\left( 125, \\  125.0\\right)$"
          },
          "metadata": {},
          "execution_count": 27
        }
      ]
    },
    {
      "cell_type": "markdown",
      "source": [
        "##### Simplify: $\\log_{2}{6} - log_{2}{15} + \\log_{2}{20}$"
      ],
      "metadata": {
        "id": "5m_nfG_DsyNW"
      }
    },
    {
      "cell_type": "markdown",
      "source": [
        "$\n",
        "\\begin{align}\n",
        "\\log_{2}{6} - log_{2}{15} + \\log_{2}{20}\n",
        "&= \\log_{2}\\left({\\frac{6}{15} \\cdot 20}\\right) \\\\\n",
        "&= \\log_{2}{8} \\\\\n",
        "&= \\log_{2}{2^{3}} \\\\\n",
        "&= 3 \\cdot log_2{2} \\\\\n",
        "&= 3 \\cdot 1 \\\\\n",
        "&= 3\n",
        "\\end{align}\n",
        "$"
      ],
      "metadata": {
        "id": "hHcSNhF4tyto"
      }
    },
    {
      "cell_type": "code",
      "source": [
        "expr = sym.log(6, 2) - sym.log(15, 2) + sym.log(20, 2)\n",
        "expr.evalf()"
      ],
      "metadata": {
        "colab": {
          "base_uri": "https://localhost:8080/",
          "height": 37
        },
        "id": "FnFDWR_AveWY",
        "outputId": "9638a5f6-76d8-494c-8493-6853a6016174"
      },
      "execution_count": 28,
      "outputs": [
        {
          "output_type": "execute_result",
          "data": {
            "text/plain": [
              "3.00000000000000"
            ],
            "image/png": "[encoded data removed]",
            "text/latex": "$\\displaystyle 3.0$"
          },
          "metadata": {},
          "execution_count": 28
        }
      ]
    },
    {
      "cell_type": "code",
      "source": [
        "np.log(6)/np.log(2) - np.log(15)/np.log(2) + np.log(20)/np.log(2)"
      ],
      "metadata": {
        "colab": {
          "base_uri": "https://localhost:8080/",
          "height": 37
        },
        "id": "J9WTkWQ2vpNt",
        "outputId": "cdb5ae14-666a-4557-e08d-2e59cf7bbc36"
      },
      "execution_count": 29,
      "outputs": [
        {
          "output_type": "execute_result",
          "data": {
            "text/plain": [
              "3.0"
            ],
            "image/png": "[encoded data removed]",
            "text/latex": "$\\displaystyle 3.0$"
          },
          "metadata": {},
          "execution_count": 29
        }
      ]
    },
    {
      "cell_type": "markdown",
      "source": [
        "## 2.2.3 Theory: The Natural Logarithm"
      ],
      "metadata": {
        "id": "CAeZbir8xxiY"
      }
    },
    {
      "cell_type": "markdown",
      "source": [
        "$$\n",
        "f(x) = \\ln{x} \\\\\n",
        "\\ln{x} = y \\iff e^{y} = x\n",
        "$$"
      ],
      "metadata": {
        "id": "OtfROAH8_YYS"
      }
    },
    {
      "cell_type": "markdown",
      "source": [
        "1. $\\ln{e^{x}} = x$\n",
        "2. $e^{\\ln{x}} = x$\n",
        "3. $\\ln(e) = 1$\n",
        "4. $\\ln(1) = 0$\n",
        "5. $\\ln(0) = undefined$"
      ],
      "metadata": {
        "id": "LvJuNkce_ua0"
      }
    },
    {
      "cell_type": "code",
      "source": [
        "p = sym.plot(sym.exp(1)**x, sym.log(x, sym.exp(1)), x,\n",
        "             xlim=(-4, 4), ylim=(-4, 4), \n",
        "             aspect_ratio=(1, 1), ylabel='y',\n",
        "             legend=True, show=False)\n",
        "\n",
        "p[0].line_color = 'red'\n",
        "p[0].label = '$y = ' + sym.latex(p[0].expr) + '$'\n",
        "\n",
        "p[1].line_color = 'dodgerblue'\n",
        "p[1].label = '$y = \\ln{x}$'\n",
        "\n",
        "p[2].line_color = 'lightgray'\n",
        "p[2].label = None\n",
        "\n",
        "plt.rcParams['legend.loc'] = 'upper left'\n",
        "p.show()\n",
        "plt.rcParams.update(plt.rcParamsDefault)"
      ],
      "metadata": {
        "colab": {
          "base_uri": "https://localhost:8080/",
          "height": 487
        },
        "id": "vqpW45BhCAXd",
        "outputId": "8a58d6ea-70a8-438f-b11e-06205352b6f0"
      },
      "execution_count": 30,
      "outputs": [
        {
          "output_type": "display_data",
          "data": {
            "text/plain": [
              "<Figure size 640x480 with 1 Axes>"
            ],
            "image/png": "[encoded data removed]"
          },
          "metadata": {}
        }
      ]
    },
    {
      "cell_type": "code",
      "source": [
        "expr = sym.log(x, sym.exp(1))\n",
        "expr"
      ],
      "metadata": {
        "colab": {
          "base_uri": "https://localhost:8080/",
          "height": 39
        },
        "id": "1L4vY_6LDBYf",
        "outputId": "bb1773d5-61de-4b0b-b1a5-83dc4299df7b"
      },
      "execution_count": 31,
      "outputs": [
        {
          "output_type": "execute_result",
          "data": {
            "text/plain": [
              "log(x)"
            ],
            "image/png": "[encoded data removed]",
            "text/latex": "$\\displaystyle \\log{\\left(x \\right)}$"
          },
          "metadata": {},
          "execution_count": 31
        }
      ]
    },
    {
      "cell_type": "code",
      "source": [
        "domain = sym.calculus.util.continuous_domain(expr, x, sym.S.Reals)\n",
        "\n",
        "try:\n",
        "    range = sym.calculus.util.function_range(expr, x, sym.S.Reals)\n",
        "except NotImplementedError:\n",
        "    range = 'Not found'"
      ],
      "metadata": {
        "id": "0ed0446JDFc6"
      },
      "execution_count": 32,
      "outputs": []
    },
    {
      "cell_type": "code",
      "source": [
        "domain"
      ],
      "metadata": {
        "colab": {
          "base_uri": "https://localhost:8080/",
          "height": 37
        },
        "id": "C29vG29HDMBm",
        "outputId": "18ccbabe-1380-413e-8691-5de5d12bada6"
      },
      "execution_count": 33,
      "outputs": [
        {
          "output_type": "execute_result",
          "data": {
            "text/plain": [
              "(0, ∞)"
            ],
            "image/png": "[encoded data removed]",
            "text/latex": "$\\displaystyle \\left(0, \\infty\\right)$"
          },
          "metadata": {},
          "execution_count": 33
        }
      ]
    },
    {
      "cell_type": "code",
      "source": [
        "range"
      ],
      "metadata": {
        "colab": {
          "base_uri": "https://localhost:8080/",
          "height": 37
        },
        "id": "hV-DvntJDNjh",
        "outputId": "20a01856-871d-48d9-a9e4-34a994869ea9"
      },
      "execution_count": 34,
      "outputs": [
        {
          "output_type": "execute_result",
          "data": {
            "text/plain": [
              "(-∞, ∞)"
            ],
            "image/png": "[encoded data removed]",
            "text/latex": "$\\displaystyle \\left(-\\infty, \\infty\\right)$"
          },
          "metadata": {},
          "execution_count": 34
        }
      ]
    },
    {
      "cell_type": "markdown",
      "source": [
        "It also has a vertical asymptote at $x = 0$"
      ],
      "metadata": {
        "id": "Dfwl41ScDkYl"
      }
    },
    {
      "cell_type": "markdown",
      "source": [
        "### Example: Solve for $x$\n",
        "\n",
        "$\\ln\\left({\\ln{x}}\\right) = 1$"
      ],
      "metadata": {
        "id": "2IepOctGE4BX"
      }
    },
    {
      "cell_type": "markdown",
      "source": [
        "$\n",
        "\\begin{align}\n",
        "\\ln\\left({\\ln{x}}\\right) &= 1 \\\\\n",
        "e^{\\ln\\left({\\ln{x}}\\right)} &= e^{1} \\\\\n",
        "\\ln{x} &= e \\\\\n",
        "e^{\\ln{x}} &= e^{e} \\\\\n",
        "x &= e^e\n",
        "\\end{align}\n",
        "$"
      ],
      "metadata": {
        "id": "QWGJpYshFe9x"
      }
    },
    {
      "cell_type": "code",
      "source": [
        "expr = sym.exp(1)**sym.exp(1)\n",
        "expr"
      ],
      "metadata": {
        "colab": {
          "base_uri": "https://localhost:8080/",
          "height": 39
        },
        "id": "t_62b3MXHFpm",
        "outputId": "fb29c691-e73e-4157-f314-2a1f1dc417a3"
      },
      "execution_count": 35,
      "outputs": [
        {
          "output_type": "execute_result",
          "data": {
            "text/plain": [
              " ℯ\n",
              "ℯ "
            ],
            "image/png": "[encoded data removed]",
            "text/latex": "$\\displaystyle e^{e}$"
          },
          "metadata": {},
          "execution_count": 35
        }
      ]
    },
    {
      "cell_type": "code",
      "source": [
        "expr.evalf()"
      ],
      "metadata": {
        "colab": {
          "base_uri": "https://localhost:8080/",
          "height": 37
        },
        "id": "Y2dxQXVLHTF4",
        "outputId": "5f93f771-2a77-4ea4-e801-5b518abf2332"
      },
      "execution_count": 36,
      "outputs": [
        {
          "output_type": "execute_result",
          "data": {
            "text/plain": [
              "15.1542622414793"
            ],
            "image/png": "[encoded data removed]",
            "text/latex": "$\\displaystyle 15.1542622414793$"
          },
          "metadata": {},
          "execution_count": 36
        }
      ]
    },
    {
      "cell_type": "code",
      "source": [
        "np.e**np.e"
      ],
      "metadata": {
        "colab": {
          "base_uri": "https://localhost:8080/",
          "height": 37
        },
        "id": "PaIbuT4lHVOF",
        "outputId": "0dfe0417-d40c-47e9-ac07-8324f27ab8c1"
      },
      "execution_count": 37,
      "outputs": [
        {
          "output_type": "execute_result",
          "data": {
            "text/plain": [
              "15.154262241479259"
            ],
            "image/png": "[encoded data removed]",
            "text/latex": "$\\displaystyle 15.1542622414793$"
          },
          "metadata": {},
          "execution_count": 37
        }
      ]
    },
    {
      "cell_type": "code",
      "source": [
        "x = sym.symbols('x')\n",
        "expr = sym.log(sym.log(x, sym.exp(1)), sym.exp(1))\n",
        "expr"
      ],
      "metadata": {
        "colab": {
          "base_uri": "https://localhost:8080/",
          "height": 39
        },
        "id": "uH6wm69FHZMW",
        "outputId": "fd88761c-c494-468a-e23f-59135cd5138e"
      },
      "execution_count": 38,
      "outputs": [
        {
          "output_type": "execute_result",
          "data": {
            "text/plain": [
              "log(log(x))"
            ],
            "image/png": "[encoded data removed]",
            "text/latex": "$\\displaystyle \\log{\\left(\\log{\\left(x \\right)} \\right)}$"
          },
          "metadata": {},
          "execution_count": 38
        }
      ]
    },
    {
      "cell_type": "code",
      "source": [
        "sym.solve(expr - 1, x)[0].evalf()"
      ],
      "metadata": {
        "colab": {
          "base_uri": "https://localhost:8080/",
          "height": 37
        },
        "id": "LokmJEnyH3tW",
        "outputId": "91faf080-8597-49a7-d95c-64651ccbbfa8"
      },
      "execution_count": 39,
      "outputs": [
        {
          "output_type": "execute_result",
          "data": {
            "text/plain": [
              "15.1542622414793"
            ],
            "image/png": "[encoded data removed]",
            "text/latex": "$\\displaystyle 15.1542622414793$"
          },
          "metadata": {},
          "execution_count": 39
        }
      ]
    },
    {
      "cell_type": "markdown",
      "source": [
        "### Example: Solve for $x$\n",
        "\n",
        "$2^{x-5} = 3$"
      ],
      "metadata": {
        "id": "b_WgltDJKg_X"
      }
    },
    {
      "cell_type": "markdown",
      "source": [
        "$\n",
        "\\begin{align}\n",
        "2^{x-5} &= 3 \\\\\n",
        "\\log_{2}{2^{x-5}} &= \\log_{2}{3} \\\\\n",
        "x - 5 &= \\log_{2}{3} \\\\\n",
        "x &= \\log_{2}{3} + 5\n",
        "\\end{align}\n",
        "$"
      ],
      "metadata": {
        "id": "CXZk2N2dLEqI"
      }
    },
    {
      "cell_type": "markdown",
      "source": [
        "Alternately,\n",
        "\n",
        "$\n",
        "\\begin{align}\n",
        "2^{x-5} &= 3 \\\\\n",
        "\\ln{2^{x-5}} &= \\ln{3} \\\\\n",
        "\\left(x-5\\right) \\cdot \\ln{2} &= \\ln{3} \\\\\n",
        "x - 5 &= \\frac{\\ln{3}}{\\ln{2}} \\\\\n",
        "x &= \\frac{\\ln{3}}{\\ln{2}} + 5\n",
        "\\end{align}\n",
        "$"
      ],
      "metadata": {
        "id": "jhb0BG9IOcGI"
      }
    },
    {
      "cell_type": "code",
      "source": [
        "expr = sym.log(3, 2) + 5\n",
        "expr"
      ],
      "metadata": {
        "colab": {
          "base_uri": "https://localhost:8080/",
          "height": 57
        },
        "id": "qYkZ0GCuLrL-",
        "outputId": "375ef43f-0bcb-407c-fb08-c3254bd5c0ff"
      },
      "execution_count": 40,
      "outputs": [
        {
          "output_type": "execute_result",
          "data": {
            "text/plain": [
              "log(3)    \n",
              "────── + 5\n",
              "log(2)    "
            ],
            "image/png": "[encoded data removed]",
            "text/latex": "$\\displaystyle \\frac{\\log{\\left(3 \\right)}}{\\log{\\left(2 \\right)}} + 5$"
          },
          "metadata": {},
          "execution_count": 40
        }
      ]
    },
    {
      "cell_type": "code",
      "source": [
        "# the alternate method\n",
        "(np.log(3) / np.log(np.e)) / (np.log(2) / np.log(np.e)) + 5"
      ],
      "metadata": {
        "colab": {
          "base_uri": "https://localhost:8080/",
          "height": 37
        },
        "id": "fQi3rCizP38A",
        "outputId": "31c6574f-4df9-4c27-a476-626f97706816"
      },
      "execution_count": 41,
      "outputs": [
        {
          "output_type": "execute_result",
          "data": {
            "text/plain": [
              "6.584962500721156"
            ],
            "image/png": "[encoded data removed]",
            "text/latex": "$\\displaystyle 6.58496250072116$"
          },
          "metadata": {},
          "execution_count": 41
        }
      ]
    },
    {
      "cell_type": "code",
      "source": [
        "expr.evalf()"
      ],
      "metadata": {
        "colab": {
          "base_uri": "https://localhost:8080/",
          "height": 37
        },
        "id": "iXXjCwHcLzBA",
        "outputId": "081fb90b-ffa4-4d5a-f716-7b69e92de0ef"
      },
      "execution_count": 42,
      "outputs": [
        {
          "output_type": "execute_result",
          "data": {
            "text/plain": [
              "6.58496250072116"
            ],
            "image/png": "[encoded data removed]",
            "text/latex": "$\\displaystyle 6.58496250072116$"
          },
          "metadata": {},
          "execution_count": 42
        }
      ]
    },
    {
      "cell_type": "code",
      "source": [
        "np.log(3) / np.log(2) + 5"
      ],
      "metadata": {
        "colab": {
          "base_uri": "https://localhost:8080/",
          "height": 37
        },
        "id": "ZGlF9KSyL1mX",
        "outputId": "2be013ab-6d66-4b4f-ec70-1dda7b26e85a"
      },
      "execution_count": 43,
      "outputs": [
        {
          "output_type": "execute_result",
          "data": {
            "text/plain": [
              "6.584962500721156"
            ],
            "image/png": "[encoded data removed]",
            "text/latex": "$\\displaystyle 6.58496250072116$"
          },
          "metadata": {},
          "execution_count": 43
        }
      ]
    },
    {
      "cell_type": "code",
      "source": [
        "x = sym.symbols('x')\n",
        "\n",
        "expr = 2**(x - 5)\n",
        "expr"
      ],
      "metadata": {
        "colab": {
          "base_uri": "https://localhost:8080/",
          "height": 37
        },
        "id": "nZBMEhPzL8bt",
        "outputId": "7802e0d6-0323-4075-cc1c-41b9faf56c41"
      },
      "execution_count": 44,
      "outputs": [
        {
          "output_type": "execute_result",
          "data": {
            "text/plain": [
              " x - 5\n",
              "2     "
            ],
            "image/png": "[encoded data removed]",
            "text/latex": "$\\displaystyle 2^{x - 5}$"
          },
          "metadata": {},
          "execution_count": 44
        }
      ]
    },
    {
      "cell_type": "code",
      "source": [
        "sym.solve(expr - 3, x)[0].evalf()"
      ],
      "metadata": {
        "colab": {
          "base_uri": "https://localhost:8080/",
          "height": 37
        },
        "id": "-KhMFtevMJB9",
        "outputId": "66d2dfa9-5e5c-4401-e18c-38badc8139ee"
      },
      "execution_count": 45,
      "outputs": [
        {
          "output_type": "execute_result",
          "data": {
            "text/plain": [
              "6.58496250072116"
            ],
            "image/png": "[encoded data removed]",
            "text/latex": "$\\displaystyle 6.58496250072116$"
          },
          "metadata": {},
          "execution_count": 45
        }
      ]
    },
    {
      "cell_type": "markdown",
      "source": [
        "### Example: Find the domain of $f$ and $f^{-1}$\n",
        "\n",
        "$f(x) = \\sqrt{3 - e^{2x}}$"
      ],
      "metadata": {
        "id": "4xGl3lG-RSeA"
      }
    },
    {
      "cell_type": "markdown",
      "source": [
        "#### Domain of $f$"
      ],
      "metadata": {
        "id": "nSGjb8_PTNzu"
      }
    },
    {
      "cell_type": "markdown",
      "source": [
        "$\n",
        "\\begin{align}\n",
        "3 - e^{2x} &\\ge 0 \\\\\n",
        "e^{2x} &\\le 3 \\\\\n",
        "\\ln{e^{2x}} &\\le \\ln{3} \\\\\n",
        "2x &\\le \\ln{3} \\\\\n",
        "x &\\le \\frac{\\ln{3}}{2}\n",
        "\\end{align}\n",
        "$"
      ],
      "metadata": {
        "id": "-cRmHFToTSmP"
      }
    },
    {
      "cell_type": "markdown",
      "source": [
        "Domain: $(\\infty, \\frac{\\ln{3}}{2}]$"
      ],
      "metadata": {
        "id": "zjfdKiRrUidU"
      }
    },
    {
      "cell_type": "code",
      "source": [
        "x = sym.symbols('x')\n",
        "expr = sym.sqrt(3 - sym.exp(1)**(2*x))\n",
        "\n",
        "domain = sym.calculus.util.continuous_domain(expr, x, sym.S.Reals)\n",
        "domain"
      ],
      "metadata": {
        "colab": {
          "base_uri": "https://localhost:8080/",
          "height": 58
        },
        "id": "Ez42rYsuWAHU",
        "outputId": "a422794f-c0cb-45f1-90b2-1044a3cd063e"
      },
      "execution_count": 46,
      "outputs": [
        {
          "output_type": "execute_result",
          "data": {
            "text/plain": [
              "⎛    log(3)⎤\n",
              "⎜-∞, ──────⎥\n",
              "⎝      2   ⎦"
            ],
            "image/png": "[encoded data removed]",
            "text/latex": "$\\displaystyle \\left(-\\infty, \\frac{\\log{\\left(3 \\right)}}{2}\\right]$"
          },
          "metadata": {},
          "execution_count": 46
        }
      ]
    },
    {
      "cell_type": "markdown",
      "source": [
        "#### Inverse of $f$: $f^{-1}$\n",
        "\n",
        "If the function $f$ has equation $y = \\sqrt{3 - e^{2x}}$, then $f^{-1}$ has the equation $x = \\sqrt{3 - e^{2y}}$.\n",
        "\n",
        "All we need to do is solve for $y$."
      ],
      "metadata": {
        "id": "Exc5iB_QW9gS"
      }
    },
    {
      "cell_type": "markdown",
      "source": [
        "$\n",
        "\\begin{align}\n",
        "x &= \\sqrt{3 - e^{2y}} \\\\ \n",
        "x^{2} &= 3 - e^{2y} \\\\\n",
        "-x^{2} + 3 &= e^{2y} \\\\\n",
        "\\ln\\left({-x^{2} + 3}\\right) &= \\ln{e^{2y}} \\\\\n",
        "\\ln\\left({-x^{2} + 3}\\right) &= 2y \\\\\n",
        "y &= \\frac{\\ln\\left({-x^{2} + 3}\\right)}{2}\n",
        "\\end{align}\n",
        "$"
      ],
      "metadata": {
        "id": "O_Wl7uSrYgPJ"
      }
    },
    {
      "cell_type": "markdown",
      "source": [
        "$\n",
        "\\therefore f^{-1}(x) = \\frac{\\ln\\left({-x^{2} + 3}\\right)}{2}\n",
        "$"
      ],
      "metadata": {
        "id": "DWe7sEGUa0Gm"
      }
    },
    {
      "cell_type": "code",
      "source": [
        "x = sym.symbols('x')\n",
        "\n",
        "f = sym.sqrt(3 - sym.exp(1)**(2*x))\n",
        "f"
      ],
      "metadata": {
        "colab": {
          "base_uri": "https://localhost:8080/",
          "height": 40
        },
        "id": "v27VTk0RbFIB",
        "outputId": "9886ac60-ae46-41e6-d038-07977e8f51ad"
      },
      "execution_count": 47,
      "outputs": [
        {
          "output_type": "execute_result",
          "data": {
            "text/plain": [
              "   __________\n",
              "  ╱      2⋅x \n",
              "╲╱  3 - ℯ    "
            ],
            "image/png": "[encoded data removed]",
            "text/latex": "$\\displaystyle \\sqrt{3 - e^{2 x}}$"
          },
          "metadata": {},
          "execution_count": 47
        }
      ]
    },
    {
      "cell_type": "code",
      "source": [
        "f_inv = sym.log(-x**2 + 3, sym.exp(1)) / 2\n",
        "f_inv"
      ],
      "metadata": {
        "colab": {
          "base_uri": "https://localhost:8080/",
          "height": 56
        },
        "id": "AEtMuMCTbWh-",
        "outputId": "b0dda1b2-1898-4731-cc67-1f90ac405f34"
      },
      "execution_count": 48,
      "outputs": [
        {
          "output_type": "execute_result",
          "data": {
            "text/plain": [
              "   ⎛     2⎞\n",
              "log⎝3 - x ⎠\n",
              "───────────\n",
              "     2     "
            ],
            "image/png": "[encoded data removed]",
            "text/latex": "$\\displaystyle \\frac{\\log{\\left(3 - x^{2} \\right)}}{2}$"
          },
          "metadata": {},
          "execution_count": 48
        }
      ]
    },
    {
      "cell_type": "code",
      "source": [
        "p = sym.plot(f, f_inv, x,\n",
        "             xlim=(-4, 4), ylim=(-4, 4), \n",
        "             aspect_ratio=(1, 1), ylabel='y',\n",
        "             legend=True, show=False)\n",
        "\n",
        "p[0].line_color = 'red'\n",
        "p[0].label = '$y = ' + sym.latex(p[0].expr) + '$'\n",
        "\n",
        "p[1].line_color = 'dodgerblue'\n",
        "p[1].label = '$y = ' + sym.latex(p[1].expr) + '$'\n",
        "\n",
        "p[2].line_color = 'lightgray'\n",
        "p[2].label = None\n",
        "\n",
        "p.show()"
      ],
      "metadata": {
        "colab": {
          "base_uri": "https://localhost:8080/",
          "height": 487
        },
        "id": "XUGs93Drbjge",
        "outputId": "aeb53795-22ee-45a2-a8c3-ad0a8fada1c1"
      },
      "execution_count": 49,
      "outputs": [
        {
          "output_type": "display_data",
          "data": {
            "text/plain": [
              "<Figure size 640x480 with 1 Axes>"
            ],
            "image/png": "[encoded data removed]"
          },
          "metadata": {}
        }
      ]
    },
    {
      "cell_type": "markdown",
      "source": [
        "[How to solve absolute value functions](https://www.youtube.com/watch?v=sCcsnuwihEw)"
      ],
      "metadata": {
        "id": "8C_Dpgc2fD_E"
      }
    }
  ]
}