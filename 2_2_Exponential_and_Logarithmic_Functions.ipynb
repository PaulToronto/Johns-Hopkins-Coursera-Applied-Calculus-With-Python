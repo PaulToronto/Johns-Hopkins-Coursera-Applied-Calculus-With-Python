{
  "nbformat": 4,
  "nbformat_minor": 0,
  "metadata": {
    "colab": {
      "provenance": [],
      "collapsed_sections": [],
      "toc_visible": true,
      "authorship_tag": "ABX9TyOrIQQHoc6C312O2DzXidjw",
      "include_colab_link": true
    },
    "kernelspec": {
      "name": "python3",
      "display_name": "Python 3"
    },
    "language_info": {
      "name": "python"
    }
  },
  "cells": [
    {
      "cell_type": "markdown",
      "metadata": {
        "id": "view-in-github",
        "colab_type": "text"
      },
      "source": [
        "<a href=\"https://colab.research.google.com/github/PaulToronto/Johns-Hopkins-Coursera-Applied-Calculus-With-Python/blob/main/2_2_Exponential_and_Logarithmic_Functions.ipynb\" target=\"_parent\"><img src=\"https://colab.research.google.com/assets/colab-badge.svg\" alt=\"Open In Colab\"/></a>"
      ]
    },
    {
      "cell_type": "markdown",
      "source": [
        "# 2.2 Exponential and Logarithmic Functions"
      ],
      "metadata": {
        "id": "Kys1Z6sGE943"
      }
    },
    {
      "cell_type": "code",
      "source": [
        "import sympy as sym\n",
        "from math import isnan\n",
        "import matplotlib.pyplot as plt\n",
        "\n",
        "sym.init_printing(use_unicode=True)"
      ],
      "metadata": {
        "id": "2bcRZcv8IEHe"
      },
      "execution_count": 1,
      "outputs": []
    },
    {
      "cell_type": "code",
      "source": [
        "def display_f_of_x(str_expr):\n",
        "    f = sym.parse_expr(str_expr)\n",
        "\n",
        "    x = f.free_symbols.pop()\n",
        "\n",
        "    sym.plot(f, \n",
        "            line_color='red',\n",
        "            title='$f(x) = ' + sym.latex(f) + '$\\n'\n",
        "            )\n",
        "\n",
        "    x_intercepts = list()\n",
        "    for soln in sym.solve(f):\n",
        "        if soln.is_real:\n",
        "            x_intercepts.append(soln)\n",
        "    x_intercepts = None if len(x_intercepts) == 0 else x_intercepts\n",
        "\n",
        "\n",
        "    y_intercept = None if isnan(f.subs(x, 0)) else f.subs(x, 0)\n",
        "\n",
        "    slope = f.diff()\n",
        "    \n",
        "    domain = sym.calculus.util.continuous_domain(f, x, sym.S.Reals)\n",
        "\n",
        "    try:\n",
        "        range = sym.calculus.util.function_range(f, x, sym.S.Reals)\n",
        "    except NotImplementedError:\n",
        "        range = 'Not found'\n",
        "\n",
        "    print('\\nX-intercepts:')\n",
        "    display(x_intercepts)\n",
        "    print('\\nY-intercept:')\n",
        "    display(y_intercept)\n",
        "    print('\\nSlope (derivative):')\n",
        "    display(slope)\n",
        "    print('\\nDomain:')\n",
        "    display(domain)\n",
        "    print('\\nRange:')\n",
        "    display(range)"
      ],
      "metadata": {
        "id": "YJa4Ay_dIAWt"
      },
      "execution_count": 2,
      "outputs": []
    },
    {
      "cell_type": "markdown",
      "source": [
        "## 2.2.1 Theory: Exponential Functions"
      ],
      "metadata": {
        "id": "0f1Q_nQ-FDaL"
      }
    },
    {
      "cell_type": "markdown",
      "source": [
        "### Definition\n",
        "\n",
        "A function, $f(x)$, is **exponential** if it is of the form $f(x) = a^{x}, a > 0$.\n",
        "\n",
        "- Note that $f(x) = x^{2}$ is not an exponential function, it is a power function"
      ],
      "metadata": {
        "id": "M2hrMHe8F9_5"
      }
    },
    {
      "cell_type": "markdown",
      "source": [
        "### Example: $f(x) = 2^{x}$"
      ],
      "metadata": {
        "id": "OdFsuX35IeSR"
      }
    },
    {
      "cell_type": "code",
      "source": [
        "display_f_of_x('2**x')"
      ],
      "metadata": {
        "colab": {
          "base_uri": "https://localhost:8080/",
          "height": 575
        },
        "id": "Jl0y2hFvIu5c",
        "outputId": "df81143f-c500-4ebd-baf8-66682688726e"
      },
      "execution_count": 3,
      "outputs": [
        {
          "output_type": "display_data",
          "data": {
            "text/plain": [
              "<Figure size 432x288 with 1 Axes>"
            ],
            "image/png": "[encoded data removed]"
          },
          "metadata": {
            "needs_background": "light"
          }
        },
        {
          "output_type": "stream",
          "name": "stdout",
          "text": [
            "\n",
            "X-intercepts:\n"
          ]
        },
        {
          "output_type": "display_data",
          "data": {
            "text/plain": [
              "None"
            ]
          },
          "metadata": {}
        },
        {
          "output_type": "stream",
          "name": "stdout",
          "text": [
            "\n",
            "Y-intercept:\n"
          ]
        },
        {
          "output_type": "display_data",
          "data": {
            "text/plain": [
              "1"
            ],
            "image/png": "[encoded data removed]",
            "text/latex": "$\\displaystyle 1$"
          },
          "metadata": {}
        },
        {
          "output_type": "stream",
          "name": "stdout",
          "text": [
            "\n",
            "Slope (derivative):\n"
          ]
        },
        {
          "output_type": "display_data",
          "data": {
            "text/plain": [
              " x       \n",
              "2 ⋅log(2)"
            ],
            "image/png": "[encoded data removed]",
            "text/latex": "$\\displaystyle 2^{x} \\log{\\left(2 \\right)}$"
          },
          "metadata": {}
        },
        {
          "output_type": "stream",
          "name": "stdout",
          "text": [
            "\n",
            "Domain:\n"
          ]
        },
        {
          "output_type": "display_data",
          "data": {
            "text/plain": [
              "ℝ"
            ],
            "image/png": "[encoded data removed]",
            "text/latex": "$\\displaystyle \\mathbb{R}$"
          },
          "metadata": {}
        },
        {
          "output_type": "stream",
          "name": "stdout",
          "text": [
            "\n",
            "Range:\n"
          ]
        },
        {
          "output_type": "display_data",
          "data": {
            "text/plain": [
              "(0, ∞)"
            ],
            "image/png": "[encoded data removed]",
            "text/latex": "$\\displaystyle \\left(0, \\infty\\right)$"
          },
          "metadata": {}
        }
      ]
    },
    {
      "cell_type": "code",
      "source": [
        "x = sym.symbols('x')\n",
        "\n",
        "expr1 = sym.Rational(1, 16)**x\n",
        "expr2 = sym.Rational(1, 2)**x\n",
        "expr3 = 2**x \n",
        "expr4 = 16**x\n",
        "\n",
        "fig = sym.plot(expr1, expr2, expr3, expr4,\n",
        "               ylim=[-1, 5],\n",
        "               legend=True,\n",
        "               show=False)\n",
        "\n",
        "fig[0].line_color = 'dodgerblue'\n",
        "fig[0].label = '$f(x) = ' + sym.latex(expr1) + '$'\n",
        " \n",
        "fig[1].line_color = 'yellow'\n",
        "fig[1].label = '$f(x) = ' + sym.latex(expr2) + '$'\n",
        "\n",
        "fig[2].line_color = 'red'\n",
        "fig[2].label = '$f(x) = ' + sym.latex(expr3) + '$'\n",
        "\n",
        "fig[3].line_color='green'\n",
        "fig[3].label = '$f(x) = ' + sym.latex(expr4) + '$'\n",
        "\n",
        "fig.show()"
      ],
      "metadata": {
        "colab": {
          "base_uri": "https://localhost:8080/",
          "height": 297
        },
        "id": "AfPmYS-nJUmT",
        "outputId": "7b076bdf-874e-46a6-cd18-4bd585ebdde3"
      },
      "execution_count": 4,
      "outputs": [
        {
          "output_type": "display_data",
          "data": {
            "text/plain": [
              "<Figure size 432x288 with 1 Axes>"
            ],
            "image/png": "[encoded data removed]"
          },
          "metadata": {
            "needs_background": "light"
          }
        }
      ]
    },
    {
      "cell_type": "markdown",
      "source": [
        "### Three Types of Exponential Functions\n",
        "\n",
        "1. $0 < a < 1$"
      ],
      "metadata": {
        "id": "JCa7BsunUhQO"
      }
    },
    {
      "cell_type": "markdown",
      "source": [
        "#### Type 1: $0 < a < 1$"
      ],
      "metadata": {
        "id": "TamCfAwBU6El"
      }
    },
    {
      "cell_type": "code",
      "source": [
        "x = sym.symbols('x')\n",
        "exprs = [sym.Rational(1, n)**x for n in range(2, 102)]\n",
        "exprs[0:4]"
      ],
      "metadata": {
        "colab": {
          "base_uri": "https://localhost:8080/",
          "height": 59
        },
        "id": "N5FPJTH5U-_0",
        "outputId": "aa2e4fd1-30eb-4d81-9c14-a4a68e7ed53b"
      },
      "execution_count": 5,
      "outputs": [
        {
          "output_type": "execute_result",
          "data": {
            "text/plain": [
              "⎡ -x   -x   -x   -x⎤\n",
              "⎣2  , 3  , 4  , 5  ⎦"
            ],
            "image/png": "[encoded data removed]",
            "text/latex": "$\\displaystyle \\left[ \\left(\\frac{1}{2}\\right)^{x}, \\  \\left(\\frac{1}{3}\\right)^{x}, \\  \\left(\\frac{1}{4}\\right)^{x}, \\  \\left(\\frac{1}{5}\\right)^{x}\\right]$"
          },
          "metadata": {},
          "execution_count": 5
        }
      ]
    },
    {
      "cell_type": "code",
      "source": [
        "def plot_many(*args):\n",
        "    p = sym.plot(show=False, ylim=[-1, 5])\n",
        "    for i, arg in enumerate(*args):\n",
        "        p.append(sym.plot(arg, show=False)[0])\n",
        "    \n",
        "    p[0].line_color = 'red'\n",
        "    p[1].line_color = 'lime'\n",
        "    p[len(*args) - 1].line_color = 'orange'\n",
        "    p[len(*args) - 2].line_color = 'orange'\n",
        "    p.show()\n",
        "    \n",
        "plot_many(exprs)"
      ],
      "metadata": {
        "colab": {
          "base_uri": "https://localhost:8080/",
          "height": 297
        },
        "id": "lTwNXG1GXqei",
        "outputId": "8d05be71-f498-483b-9819-d09f00a03a49"
      },
      "execution_count": 6,
      "outputs": [
        {
          "output_type": "display_data",
          "data": {
            "text/plain": [
              "<Figure size 432x288 with 1 Axes>"
            ],
            "image/png": "[encoded data removed]"
          },
          "metadata": {
            "needs_background": "light"
          }
        }
      ]
    }
  ]
}