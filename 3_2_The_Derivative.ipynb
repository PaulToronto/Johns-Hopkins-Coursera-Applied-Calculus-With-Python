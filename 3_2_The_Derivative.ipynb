{
  "nbformat": 4,
  "nbformat_minor": 0,
  "metadata": {
    "colab": {
      "provenance": [],
      "toc_visible": true,
      "authorship_tag": "ABX9TyOcGNV7vVm5iRQS5H+z9Xh2",
      "include_colab_link": true
    },
    "kernelspec": {
      "name": "python3",
      "display_name": "Python 3"
    },
    "language_info": {
      "name": "python"
    }
  },
  "cells": [
    {
      "cell_type": "markdown",
      "metadata": {
        "id": "view-in-github",
        "colab_type": "text"
      },
      "source": [
        "<a href=\"https://colab.research.google.com/github/PaulToronto/Johns-Hopkins-Coursera-Applied-Calculus-With-Python/blob/main/3_2_The_Derivative.ipynb\" target=\"_parent\"><img src=\"https://colab.research.google.com/assets/colab-badge.svg\" alt=\"Open In Colab\"/></a>"
      ]
    },
    {
      "cell_type": "markdown",
      "source": [
        "# 3.2 The Derivative"
      ],
      "metadata": {
        "id": "yM5MoMJNMPcV"
      }
    },
    {
      "cell_type": "markdown",
      "source": [
        "## 3.2.1 Theory: Derivatives"
      ],
      "metadata": {
        "id": "lDwFP_U8wQ0f"
      }
    },
    {
      "cell_type": "code",
      "source": [
        "import sympy as sym"
      ],
      "metadata": {
        "id": "pI20MuVhc9jT"
      },
      "execution_count": 1,
      "outputs": []
    },
    {
      "cell_type": "markdown",
      "source": [
        "### Warm-up Question\n",
        "\n",
        "Goal: Given $f(x)$ and point, $P = (x, y)$, find the slope of the tangent line at the point P."
      ],
      "metadata": {
        "id": "Wl8-59sENxXm"
      }
    },
    {
      "cell_type": "markdown",
      "source": [
        "#### Example\n",
        "\n",
        "$f(x) = \\sqrt{x}$ and $P = (1, 1)$"
      ],
      "metadata": {
        "id": "PQXYV87in9B1"
      }
    },
    {
      "cell_type": "markdown",
      "source": [
        "$$\n",
        "\\begin{align}\n",
        "m_{tangent} \n",
        "&= \\lim_{h \\to 0} \\frac{f(1 + h) - f(1)}{h} \\\\\n",
        "&= \\lim_{h \\to 0} \\frac{\\sqrt{1 + h} - \\sqrt{1}}{h} \n",
        "\\cdot \\frac{\\sqrt{1 + h} + 1}{\\sqrt{1 + h} + 1} \\\\\n",
        "&= \\lim_{h \\to 0} \\frac{1 + h - 1}{h \\cdot (\\sqrt{1 + h} + 1)} \\\\ \n",
        "&= \\lim_{h \\to 0} \\frac{1}{\\sqrt{1 + h} + 1} \\\\\n",
        "&= \\frac{1}{2}\n",
        "\\end{align} \\\\\n",
        "$$\n",
        "\n",
        "Let $(x, y)$ be an arbitrary point on the line\n",
        "\n",
        "$$\n",
        "\\begin{align}\n",
        "m_{tangent} = \\frac{1}{2} &= \\frac{y - 1}{x - 1} \\\\ \\\\\n",
        "x - 1 &= 2(y - 1) \\\\\n",
        "x - 1 &= 2y - 2 \\\\\n",
        "2y &= x - 1 + 2 \\\\\n",
        "2y &= x + 1 \\\\\n",
        "\\end{align}\n",
        "$$\n",
        "\n",
        "$\\therefore$ The equation of the tangent line at point P is $y = \\frac{1}{2}x + \\frac{1}{2}$"
      ],
      "metadata": {
        "id": "dpDztSp9V0yA"
      }
    },
    {
      "cell_type": "code",
      "source": [
        "x = sym.symbols('x')\n",
        "sym.plot(sym.sqrt(x), 0.5 * x + 0.5, xlim=[-3, 3], ylim=[-3, 3]);"
      ],
      "metadata": {
        "colab": {
          "base_uri": "https://localhost:8080/",
          "height": 297
        },
        "id": "dZHI-mGnc8GM",
        "outputId": "c103d113-ceb2-4983-90e8-135207c9c26c"
      },
      "execution_count": 2,
      "outputs": [
        {
          "output_type": "display_data",
          "data": {
            "text/plain": [
              "<Figure size 432x288 with 1 Axes>"
            ],
            "image/png": "[encoded data removed]"
          },
          "metadata": {
            "needs_background": "light"
          }
        }
      ]
    },
    {
      "cell_type": "markdown",
      "source": [
        "### Velocities\n",
        "\n",
        "Goal: Given that an object moves in a straight line according to some **position function**, $s = f(t)$, we want to find the **instantaneous velocity** at a point.\n",
        "\n",
        "The average velocity is $\\mathbf{\\bar{v}}$. This is the slope the **secant line**.\n",
        "\n",
        "$$\n",
        "\\begin{align}\n",
        "\\mathbf{\\bar{v}} &= \\frac{\\Delta s}{\\Delta t} \\\\\n",
        "&= \\frac{f(a + h) - f(h)}{h}\n",
        "\\end{align}\n",
        "$$\n",
        "\n",
        "The instantaneous velocity is $\\mathbf{v}$. This is the slope of the **tangent line**. \n",
        "\n",
        "$$\n",
        "\\mathbf{v} = \\lim_{h \\to 0} \\frac{f(a + h) - f(a)}{h}\n",
        "$$"
      ],
      "metadata": {
        "id": "THsbcX-ef-Uf"
      }
    },
    {
      "cell_type": "markdown",
      "source": [
        "#### Example\n",
        "\n",
        "$s(t) = \\frac{1}{t^{2}}$\n",
        "\n",
        "Find the average velocity over the time interval $[1, 2]$."
      ],
      "metadata": {
        "id": "JbWWfo0SoBED"
      }
    },
    {
      "cell_type": "markdown",
      "source": [
        "$$\n",
        "\\begin{align}\n",
        "\\mathbf{\\bar{v}} &= \\frac{\\Delta s}{\\Delta t} \\\\\n",
        "&= \\frac{s(2) - s(1)}{2 - 1} \\\\\n",
        "&= \\frac{\\frac{1}{2^{2}} - \\frac{1}{1^{2}}}{1} \\\\\n",
        "&= \\frac{1}{4} - 1 \\\\\n",
        "&= -\\frac{3}{4}\n",
        "\\end{align}\n",
        "$$"
      ],
      "metadata": {
        "id": "mEnMUiwwonWq"
      }
    },
    {
      "cell_type": "markdown",
      "source": [
        "### Definition\n",
        "\n",
        "The derivative of $f(x)$ at $x = a$, denoted by $f'(a)$ is:\n",
        "\n",
        "$$\n",
        "f'(a) = \\lim_{h \\to 0} \\frac{f(a + h) - f(a)}{h}\n",
        "$$ \n",
        "\n",
        "if the limit exists.\n",
        "\n",
        "This is also known as:\n",
        "\n",
        "- tangent line\n",
        "- instantaneous rate of change\n",
        "- instantaneous velocity\n",
        "- marginal cost\n",
        "- marginal revenue"
      ],
      "metadata": {
        "id": "M192rkuIqW4-"
      }
    },
    {
      "cell_type": "markdown",
      "source": [
        "## 3.2.2 Examples: Finding Derivatives using Limits\n",
        "\n",
        "These two definitions are equivalent.\n",
        "\n",
        "$\n",
        "\\begin{align}\n",
        "f'(a) &= \\lim_{h \\to 0} \\frac{f(a + h) - f(a)}{h} \\\\\n",
        "f'(a) &= \\lim_{x \\to a} \\frac{f(x) - f(a)}{x - a}\n",
        "\\end{align}\n",
        "$"
      ],
      "metadata": {
        "id": "s3aOrGD5wgDI"
      }
    },
    {
      "cell_type": "markdown",
      "source": [
        "### Example\n",
        "\n",
        "Find the slope of \n",
        "\n",
        "$f(x) = \\frac{1}{x^{2}}$ \n",
        "\n",
        "at x = 1."
      ],
      "metadata": {
        "id": "MWWqphR_yxbn"
      }
    },
    {
      "cell_type": "markdown",
      "source": [
        "$\n",
        "\\begin{align}\n",
        "f'(1) &= \\lim_{h \\to 0} \\frac{f(1 + h) - f(1)}{h} \\\\\n",
        "&= \\lim_{h \\to 0} \\frac{\\frac{1}{(1 + h)^{2}} - \\frac{1}{1^{2}}}{h} \\\\\n",
        "&= \\lim_{h \\to 0} \\frac{\\frac{1 - (1 + h)^{2}}{(1 + h)^{2}}}{h} \\\\\n",
        "&= \\lim_{h \\to 0} \\frac{1 - (1 + 2h + h^{2})}{h(1 + h)^{2}} \\\\\n",
        "&= \\lim_{h \\to 0} \\frac{1 - 1 - 2h - h^{2}}{h(1 + h)^{2}} \\\\ \n",
        "&= \\lim_{h \\to 0} \\frac{h(-2 - h)}{h(1 + h)^{2}} \\\\ \n",
        "&= \\lim_{h \\to 0} \\frac{-h - 2}{(1 + h)^{2}} \\\\\n",
        "&= \\frac{-2}{1} \\\\\n",
        "&= -2\n",
        "\\end{align}\n",
        "$"
      ],
      "metadata": {
        "id": "_bSej-Bp09DB"
      }
    },
    {
      "cell_type": "code",
      "source": [
        "x = sym.symbols('x')\n",
        "sym.plot(1/x**2, -2*x + 3, xlim=[-3, 3], ylim=[-3, 3]);"
      ],
      "metadata": {
        "colab": {
          "base_uri": "https://localhost:8080/",
          "height": 297
        },
        "id": "FC4EOtQD8q1n",
        "outputId": "21d16810-d4fa-40e4-b512-17430b7e3ec8"
      },
      "execution_count": 3,
      "outputs": [
        {
          "output_type": "display_data",
          "data": {
            "text/plain": [
              "<Figure size 432x288 with 1 Axes>"
            ],
            "image/png": "[encoded data removed]"
          },
          "metadata": {
            "needs_background": "light"
          }
        }
      ]
    },
    {
      "cell_type": "markdown",
      "source": [
        "### Example\n",
        "\n",
        "Find $f'(3)$ when $f(x) = x^{2} + 5x + 1$."
      ],
      "metadata": {
        "id": "g6lDEjSP-yMp"
      }
    },
    {
      "cell_type": "markdown",
      "source": [
        "$\n",
        "\\begin{align}\n",
        "f'(3) &= \\lim_{h \\to 0} \\frac{f(3 + h) - f(3)}{h} \\\\\n",
        "&= \\lim_{h \\to 0} \\frac{((3 + h)^{2} + 5(3 + h) + 1) - (3^{2} + 5 \\cdot 3 + 1)}{h} \\\\\n",
        "&= \\lim_{h \\to 0} \\frac{9 + 6h + h^{2} + 15 + 5h + 1 - 25}{h} \\\\\n",
        "&= \\lim_{h \\to 0} \\frac{h^{2} + 11h}{h} \\\\ \n",
        "&= \\lim_{h \\to 0} \\frac{h(h + 11)}{h} \\\\\n",
        "&= \\lim_{h \\to 0} \\frac{h + 11}{1} \\\\\n",
        "&= 11\n",
        "\\end{align}\n",
        "$"
      ],
      "metadata": {
        "id": "QTXNWLqJ_CPh"
      }
    },
    {
      "cell_type": "markdown",
      "source": [
        "### Example\n",
        "\n",
        "Find $f'(0)$ when \n",
        "\n",
        "$\n",
        "f(x) = \n",
        "\\begin{cases}\n",
        "x\\sin{\\left(\\frac{1}{x}\\right)} & x \\ne 0 \\\\\n",
        "0 & x = 0\n",
        "\\end{cases}\n",
        "$"
      ],
      "metadata": {
        "id": "7XaNLiChExQw"
      }
    },
    {
      "cell_type": "markdown",
      "source": [
        "$\n",
        "\\begin{align}\n",
        "f'(0) &= \\lim_{h \\to 0} \\frac{f(0 + h) - f(0)}{h} \\\\\n",
        "&= \\lim_{h \\to 0} \\frac{h\\sin{\\left(\\frac{1}{h}\\right)} - 0}{h} \\\\\n",
        "&= \\lim_{h \\to 0} \\sin{\\left(\\frac{1}{h}\\right)} \\\\\n",
        "&= \\sin {\\left(\\lim_{h \\to 0} {\\left(\\frac{1}{h}\\right)}\\right)} \\\\\n",
        "&= DNE\n",
        "\\end{align}\n",
        "$"
      ],
      "metadata": {
        "id": "L-GIbwLSF3n6"
      }
    },
    {
      "cell_type": "code",
      "source": [
        "x = sym.symbols('x')\n",
        "sym.plot(1/x, ylim=[-3, 3]);"
      ],
      "metadata": {
        "colab": {
          "base_uri": "https://localhost:8080/",
          "height": 297
        },
        "id": "V2wMrXuRldEU",
        "outputId": "1b4744ac-0d9b-419b-d6c5-6b8bbda61beb"
      },
      "execution_count": 4,
      "outputs": [
        {
          "output_type": "display_data",
          "data": {
            "text/plain": [
              "<Figure size 432x288 with 1 Axes>"
            ],
            "image/png": "[encoded data removed]"
          },
          "metadata": {
            "needs_background": "light"
          }
        }
      ]
    },
    {
      "cell_type": "markdown",
      "source": [
        "### Example\n",
        "\n",
        "Find $f'(0)$ when \n",
        "\n",
        "$\n",
        "f(x) = \n",
        "\\begin{cases}\n",
        "x^{2}\\sin{\\left(\\frac{1}{x}\\right)} & x \\ne 0 \\\\\n",
        "0 & x = 0\n",
        "\\end{cases}\n",
        "$"
      ],
      "metadata": {
        "id": "HIXmrjbfR_KJ"
      }
    },
    {
      "cell_type": "markdown",
      "source": [
        "$\n",
        "\\begin{align}\n",
        "f'(0) &= \\lim_{h \\to 0} \\frac{f(0 + h) - f(0)}{h} \\\\\n",
        "&= \\lim_{h \\to 0} \\frac{h^{2}\\sin{\\left(\\frac{1}{h}\\right)} - 0}{h} \\\\\n",
        "&= \\lim_{h \\to 0} h\\sin{\\left(\\frac{1}{h}\\right)}\n",
        "\\end{align}\n",
        "$\n",
        "\n"
      ],
      "metadata": {
        "id": "37x7VgQ9SL6J"
      }
    },
    {
      "cell_type": "markdown",
      "source": [
        "$\n",
        "\\begin{align}\n",
        "&\\lim_{h \\to 0} {\\left(h \\cdot -1 \\right)} \\le \\lim_{h \\to 0} h\\sin{\\left(\\frac{1}{h}\\right)} \\le \n",
        "\\lim_{h \\to 0} {\\left(h \\cdot 1\\right)} \\\\\n",
        "&\\implies 0 \\le \\lim_{h \\to 0} h\\sin{\\left(\\frac{1}{h}\\right)} \\le 0\n",
        "\\end{align}\n",
        "$"
      ],
      "metadata": {
        "id": "eXRFoaF4VWlY"
      }
    },
    {
      "cell_type": "markdown",
      "source": [
        "$\n",
        "\\therefore \\text{by the Squeeze Theorem}\n",
        "\\lim_{h \\to 0} h\\sin{\\left(\\frac{1}{h}\\right)} = 0\n",
        "$"
      ],
      "metadata": {
        "id": "jlpAuMYgVqoI"
      }
    },
    {
      "cell_type": "code",
      "source": [
        "x = sym.symbols('x')\n",
        "sym.plot(x * sym.sin(1/x),\n",
        "         adaptive=False, nb_of_points=100000, \n",
        "         xlim=[-0.15, 0.15], \n",
        "         ylim=[-0.15, 0.15]);"
      ],
      "metadata": {
        "colab": {
          "base_uri": "https://localhost:8080/",
          "height": 297
        },
        "id": "8f3COWfnWaAr",
        "outputId": "95e17e19-3231-43cf-fccb-361a3c5209d3"
      },
      "execution_count": 5,
      "outputs": [
        {
          "output_type": "display_data",
          "data": {
            "text/plain": [
              "<Figure size 432x288 with 1 Axes>"
            ],
            "image/png": "[encoded data removed]"
          },
          "metadata": {
            "needs_background": "light"
          }
        }
      ]
    },
    {
      "cell_type": "code",
      "source": [
        "x = sym.symbols('x')\n",
        "sym.plot(x**2 * sym.sin(1/x),\n",
        "         adaptive=False, nb_of_points=100000, \n",
        "         xlim=[-0.15, 0.15], \n",
        "         ylim=[-0.020, 0.020]);"
      ],
      "metadata": {
        "colab": {
          "base_uri": "https://localhost:8080/",
          "height": 297
        },
        "id": "M-_51LraX7hQ",
        "outputId": "49646880-964e-48b9-9682-259b98c63857"
      },
      "execution_count": 6,
      "outputs": [
        {
          "output_type": "display_data",
          "data": {
            "text/plain": [
              "<Figure size 432x288 with 1 Axes>"
            ],
            "image/png": "[encoded data removed]"
          },
          "metadata": {
            "needs_background": "light"
          }
        }
      ]
    },
    {
      "cell_type": "markdown",
      "source": [
        "## 3.2.3 Theory: Using Limits to Find the Slope of the Tangent Line"
      ],
      "metadata": {
        "id": "bkycfGoknUXW"
      }
    },
    {
      "cell_type": "markdown",
      "source": [
        "$$\n",
        "m_{secant} = \\frac{\\Delta y}{\\Delta x} = \\frac{f(x_2) - f(x_1)}{x_2 - x_1}\n",
        "$$"
      ],
      "metadata": {
        "id": "2t4izDLJpyhM"
      }
    },
    {
      "cell_type": "markdown",
      "source": [
        "$$\n",
        "m_{secant} = \\frac{f(x + h) - f(x)}{x + h - x} = \\frac{f(x + h) - f(x)}{h}\n",
        "$$"
      ],
      "metadata": {
        "id": "ayNjHrlIrup8"
      }
    },
    {
      "cell_type": "markdown",
      "source": [
        "This formula for the slope of the secant does not work for finding the tangent because the denominator becomes 0. "
      ],
      "metadata": {
        "id": "BzdXi056rHBj"
      }
    },
    {
      "cell_type": "markdown",
      "source": [
        "The slope of the tangent line to the curve of $y = f(x)$ is given by:"
      ],
      "metadata": {
        "id": "A-Os--D5vHqX"
      }
    },
    {
      "cell_type": "markdown",
      "source": [
        "$$\n",
        "m_{tangent} = \\lim_{h \\to 0}{\\frac{f(x + h) - f(x)}{h}}\n",
        "$$"
      ],
      "metadata": {
        "id": "P0NKXgtNwAg_"
      }
    },
    {
      "cell_type": "markdown",
      "source": [
        "### Example\n",
        "\n",
        "Find the equation of the tangent line to the parabola $4x - 3x^2$ at $x = 1$"
      ],
      "metadata": {
        "id": "cBCe3XemwNTk"
      }
    },
    {
      "cell_type": "markdown",
      "source": [
        "$\n",
        "\\begin{align}\n",
        "\\lim_{h \\to 0}{\\frac{f(a + h) - f(a)}{h}}\n",
        "&= \\lim_{h \\to 0}{\\frac{(4(1 + h) - 3(1 + h)^2) - (1)}{h}} \\\\\n",
        "&= \\lim_{h \\to 0}{\\frac{4 + 4h - 3 - 6h - 3h^2 - 1}{h}} \\\\\n",
        "&= \\lim_{h \\to 0}{\\frac{-3h^2-2h}{h}} \\\\\n",
        "&= \\lim_{h \\to 0}{\\frac{h(-3h - 2)}{h}} \\\\\n",
        "&= \\lim_{h \\to 0}{\\left(-3h - 2\\right)} \\\\\n",
        "&= -2\n",
        "\\end{align}\n",
        "$"
      ],
      "metadata": {
        "id": "UkIqYGKI4BXO"
      }
    },
    {
      "cell_type": "markdown",
      "source": [
        "Subsituting $x = 1$ into the equation $y = 4x - 3x^2$ gives us the point on the line, $(1, 1)$, and we just calculated the slope, $m = -2$.  "
      ],
      "metadata": {
        "id": "QQboK36e6-OD"
      }
    },
    {
      "cell_type": "markdown",
      "source": [
        "$\n",
        "\\begin{align}\n",
        "y - y_1 = m(x - x_1) \n",
        "& \\implies y - 1 = -2(x - 1) \\\\\n",
        "& \\implies y = -2x + 2 + 1 \\\\\n",
        "& \\implies y = -2x + 3\n",
        "\\end{align}\n",
        "$"
      ],
      "metadata": {
        "id": "asr3DMHo6Jfz"
      }
    },
    {
      "cell_type": "markdown",
      "source": [
        "$\\therefore$ the equation of the tangent line is $y = -2x + 3$"
      ],
      "metadata": {
        "id": "33vjN2d_6129"
      }
    },
    {
      "cell_type": "code",
      "source": [
        "x = sym.symbols('x')\n",
        "sym.plot(4*x - 3 * x**2, -2*x + 3, xlim=[-3, 3], ylim=[-3, 3]);"
      ],
      "metadata": {
        "colab": {
          "base_uri": "https://localhost:8080/",
          "height": 297
        },
        "id": "yc93ju0G7ZyN",
        "outputId": "f05bed29-45b8-4bb7-a9cd-5fdd95e5601b"
      },
      "execution_count": 7,
      "outputs": [
        {
          "output_type": "display_data",
          "data": {
            "text/plain": [
              "<Figure size 432x288 with 1 Axes>"
            ],
            "image/png": "[encoded data removed]"
          },
          "metadata": {
            "needs_background": "light"
          }
        }
      ]
    },
    {
      "cell_type": "markdown",
      "source": [
        "## 3.2.4 Theory: Higher Derivatives"
      ],
      "metadata": {
        "id": "ubaq2T0T9dEQ"
      }
    },
    {
      "cell_type": "markdown",
      "source": [
        "### Warm Up\n",
        "\n",
        "Find $\\frac{d}{dx}{|x|}$"
      ],
      "metadata": {
        "id": "N0R4rOJICYqC"
      }
    },
    {
      "cell_type": "markdown",
      "source": [
        "$\n",
        "\\begin{align}\n",
        "f'(x) &= \\lim_{h \\to 0}{\\frac{f(x + h) - f(x)}{h}} \\\\\n",
        "&= \\lim_{h \\to 0}{\\frac{|x + h| - |x|}{h}}\n",
        "\\end{align}\n",
        "$"
      ],
      "metadata": {
        "id": "vk3K2HVrFgs2"
      }
    },
    {
      "cell_type": "markdown",
      "source": [
        "Case: $x > 0$"
      ],
      "metadata": {
        "id": "Sw4GGSnNGpKS"
      }
    },
    {
      "cell_type": "markdown",
      "source": [
        "$\n",
        "\\begin{align}\n",
        "f'(x) &= \\lim_{h \\to 0^{+}}{\\frac{x + h - x}{h}} \\\\\n",
        "&= \\lim_{h \\to 0^{+}}{\\frac{h}{h}} \\\\\n",
        "&= 1\n",
        "\\end{align}\n",
        "$"
      ],
      "metadata": {
        "id": "Rg4XyDzNGtSr"
      }
    },
    {
      "cell_type": "markdown",
      "source": [
        "Case: $x < 0$"
      ],
      "metadata": {
        "id": "9A7pZuArH67B"
      }
    },
    {
      "cell_type": "markdown",
      "source": [
        "$\n",
        "\\begin{align}\n",
        "f'(x) &= \\lim_{h \\to 0^{+}}{\\frac{-(x + h) - (-x)}{h}} \\\\\n",
        "&= \\lim_{h \\to 0^{+}}{\\frac{-x - h + x}{h}} \\\\\n",
        "&= \\lim_{h \\to 0^{+}}{\\frac{-h}{h}} \\\\\n",
        "&= -1\n",
        "\\end{align}\n",
        "$"
      ],
      "metadata": {
        "id": "85dgOFR9H9V-"
      }
    },
    {
      "cell_type": "markdown",
      "source": [
        "Case: $x = 0$"
      ],
      "metadata": {
        "id": "IOpp1FMsJNVq"
      }
    },
    {
      "cell_type": "markdown",
      "source": [
        "$\n",
        "\\begin{align}\n",
        "f'(x) &= \\lim_{h \\to 0}{\\frac{|h|}{h}} \\\\\n",
        "&= DNE\n",
        "\\end{align}\n",
        "$"
      ],
      "metadata": {
        "id": "F1IGrOT7JQES"
      }
    },
    {
      "cell_type": "code",
      "source": [
        "# note this is not defined when h = 0\n",
        "h = sym.symbols('h')\n",
        "sym.plot(sym.Abs(h) / h);"
      ],
      "metadata": {
        "colab": {
          "base_uri": "https://localhost:8080/",
          "height": 297
        },
        "id": "6oOZy3WtJvJg",
        "outputId": "755fa4be-d95b-4cb8-a5b8-4e60834e6542"
      },
      "execution_count": 8,
      "outputs": [
        {
          "output_type": "display_data",
          "data": {
            "text/plain": [
              "<Figure size 432x288 with 1 Axes>"
            ],
            "image/png": "[encoded data removed]"
          },
          "metadata": {
            "needs_background": "light"
          }
        }
      ]
    },
    {
      "cell_type": "markdown",
      "source": [
        "$\n",
        "\\begin{align}\n",
        "\\frac{d}{dx}{|x|} &= \\frac{|x|}{x} \\\\\n",
        "&= \\begin{cases}\n",
        "1 & x > 0 \\\\\n",
        "-1 & x < 0\n",
        "\\end{cases}\n",
        "\\end{align}\n",
        "$"
      ],
      "metadata": {
        "id": "7lKHi3xAMr7O"
      }
    },
    {
      "cell_type": "markdown",
      "source": [
        "### How can a function fail to be differentiable? \n",
        "\n",
        "@6:22"
      ],
      "metadata": {
        "id": "sciYoxRWObLb"
      }
    }
  ]
}