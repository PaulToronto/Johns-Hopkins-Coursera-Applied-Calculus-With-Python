{
  "nbformat": 4,
  "nbformat_minor": 0,
  "metadata": {
    "colab": {
      "provenance": [],
      "toc_visible": true,
      "authorship_tag": "ABX9TyOF1hYvOoQcgFM4pdH/7zku",
      "include_colab_link": true
    },
    "kernelspec": {
      "name": "python3",
      "display_name": "Python 3"
    },
    "language_info": {
      "name": "python"
    }
  },
  "cells": [
    {
      "cell_type": "markdown",
      "metadata": {
        "id": "view-in-github",
        "colab_type": "text"
      },
      "source": [
        "<a href=\"https://colab.research.google.com/github/PaulToronto/Johns-Hopkins-Coursera-Applied-Calculus-With-Python/blob/main/3_2_The_Derivative.ipynb\" target=\"_parent\"><img src=\"https://colab.research.google.com/assets/colab-badge.svg\" alt=\"Open In Colab\"/></a>"
      ]
    },
    {
      "cell_type": "markdown",
      "source": [
        "# 3.2 The Derivative"
      ],
      "metadata": {
        "id": "yM5MoMJNMPcV"
      }
    },
    {
      "cell_type": "markdown",
      "source": [
        "## 3.2.1 Theory: Derivatives"
      ],
      "metadata": {
        "id": "lDwFP_U8wQ0f"
      }
    },
    {
      "cell_type": "code",
      "source": [
        "import sympy as sym"
      ],
      "metadata": {
        "id": "pI20MuVhc9jT"
      },
      "execution_count": 1,
      "outputs": []
    },
    {
      "cell_type": "markdown",
      "source": [
        "### Warm-up Question\n",
        "\n",
        "Goal: Given $f(x)$ and point, $P = (x, y)$, find the slope of the tangent line at the point P."
      ],
      "metadata": {
        "id": "Wl8-59sENxXm"
      }
    },
    {
      "cell_type": "markdown",
      "source": [
        "#### Example\n",
        "\n",
        "$f(x) = \\sqrt{x}$ and $P = (1, 1)$"
      ],
      "metadata": {
        "id": "PQXYV87in9B1"
      }
    },
    {
      "cell_type": "markdown",
      "source": [
        "$$\n",
        "\\begin{align}\n",
        "m_{tangent} \n",
        "&= \\lim_{h \\to 0} \\frac{f(1 + h) - f(1)}{h} \\\\\n",
        "&= \\lim_{h \\to 0} \\frac{\\sqrt{1 + h} - \\sqrt{1}}{h} \n",
        "\\cdot \\frac{\\sqrt{1 + h} + 1}{\\sqrt{1 + h} + 1} \\\\\n",
        "&= \\lim_{h \\to 0} \\frac{1 + h - 1}{h \\cdot (\\sqrt{1 + h} + 1)} \\\\ \n",
        "&= \\lim_{h \\to 0} \\frac{1}{\\sqrt{1 + h} + 1} \\\\\n",
        "&= \\frac{1}{2}\n",
        "\\end{align} \\\\\n",
        "$$\n",
        "\n",
        "Let $(x, y)$ be an arbitrary point on the line\n",
        "\n",
        "$$\n",
        "\\begin{align}\n",
        "m_{tangent} = \\frac{1}{2} &= \\frac{y - 1}{x - 1} \\\\ \\\\\n",
        "x - 1 &= 2(y - 1) \\\\\n",
        "x - 1 &= 2y - 2 \\\\\n",
        "2y &= x - 1 + 2 \\\\\n",
        "2y &= x + 1 \\\\\n",
        "\\end{align}\n",
        "$$\n",
        "\n",
        "$\\therefore$ The equation of the tangent line at point P is $y = \\frac{1}{2}x + \\frac{1}{2}$"
      ],
      "metadata": {
        "id": "dpDztSp9V0yA"
      }
    },
    {
      "cell_type": "code",
      "source": [
        "x = sym.symbols('x')\n",
        "sym.plot(sym.sqrt(x), 0.5 * x + 0.5, xlim=[-3, 3], ylim=[-3, 3]);"
      ],
      "metadata": {
        "colab": {
          "base_uri": "https://localhost:8080/",
          "height": 297
        },
        "id": "dZHI-mGnc8GM",
        "outputId": "c6778a17-fe3e-4a05-abb2-5047544278e6"
      },
      "execution_count": 2,
      "outputs": [
        {
          "output_type": "display_data",
          "data": {
            "text/plain": [
              "<Figure size 432x288 with 1 Axes>"
            ],
            "image/png": "[encoded data removed]"
          },
          "metadata": {
            "needs_background": "light"
          }
        }
      ]
    },
    {
      "cell_type": "markdown",
      "source": [
        "### Velocities\n",
        "\n",
        "Goal: Given that an object moves in a straight line according to some **position function**, $s = f(t)$, we want to find the **instantaneous velocity** at a point.\n",
        "\n",
        "The average velocity is $\\mathbf{\\bar{v}}$. This is the slope the **secant line**.\n",
        "\n",
        "$$\n",
        "\\begin{align}\n",
        "\\mathbf{\\bar{v}} &= \\frac{\\Delta s}{\\Delta t} \\\\\n",
        "&= \\frac{f(a + h) - f(h)}{h}\n",
        "\\end{align}\n",
        "$$\n",
        "\n",
        "The instantaneous velocity is $\\mathbf{v}$. This is the slope of the **tangent line**. \n",
        "\n",
        "$$\n",
        "\\mathbf{v} = \\lim_{h \\to 0} \\frac{f(a + h) - f(a)}{h}\n",
        "$$"
      ],
      "metadata": {
        "id": "THsbcX-ef-Uf"
      }
    },
    {
      "cell_type": "markdown",
      "source": [
        "#### Example\n",
        "\n",
        "$s(t) = \\frac{1}{t^{2}}$\n",
        "\n",
        "Find the average velocity over the time interval $[1, 2]$."
      ],
      "metadata": {
        "id": "JbWWfo0SoBED"
      }
    },
    {
      "cell_type": "markdown",
      "source": [
        "$$\n",
        "\\begin{align}\n",
        "\\mathbf{\\bar{v}} &= \\frac{\\Delta s}{\\Delta t} \\\\\n",
        "&= \\frac{s(2) - s(1)}{2 - 1} \\\\\n",
        "&= \\frac{\\frac{1}{2^{2}} - \\frac{1}{1^{2}}}{1} \\\\\n",
        "&= \\frac{1}{4} - 1 \\\\\n",
        "&= -\\frac{3}{4}\n",
        "\\end{align}\n",
        "$$"
      ],
      "metadata": {
        "id": "mEnMUiwwonWq"
      }
    },
    {
      "cell_type": "markdown",
      "source": [
        "### Definition\n",
        "\n",
        "The derivative of $f(x)$ at $x = a$, denoted by $f'(x)$ is:\n",
        "\n",
        "$$\n",
        "f'(x) = \\lim_{h \\to 0} \\frac{f(a + h) - f(a)}{h}\n",
        "$$ \n",
        "\n",
        "if the limit exists.\n",
        "\n",
        "This is also known as:\n",
        "\n",
        "- tangent line\n",
        "- instantaneous rate of change\n",
        "- instantaneous velocity\n",
        "- marginal cost\n",
        "- marginal revenue"
      ],
      "metadata": {
        "id": "M192rkuIqW4-"
      }
    },
    {
      "cell_type": "markdown",
      "source": [
        "## 3.2.2 Examples: Finding Derivatives using Limits"
      ],
      "metadata": {
        "id": "s3aOrGD5wgDI"
      }
    }
  ]
}