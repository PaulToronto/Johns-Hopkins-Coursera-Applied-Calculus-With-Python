{
  "nbformat": 4,
  "nbformat_minor": 0,
  "metadata": {
    "colab": {
      "provenance": [],
      "toc_visible": true,
      "authorship_tag": "ABX9TyPB6+LvTs9J8Mqo9jCwUWoX",
      "include_colab_link": true
    },
    "kernelspec": {
      "name": "python3",
      "display_name": "Python 3"
    },
    "language_info": {
      "name": "python"
    }
  },
  "cells": [
    {
      "cell_type": "markdown",
      "metadata": {
        "id": "view-in-github",
        "colab_type": "text"
      },
      "source": [
        "<a href=\"https://colab.research.google.com/github/PaulToronto/Johns-Hopkins-Coursera-Applied-Calculus-With-Python/blob/main/4_1_Derivative_Rules.ipynb\" target=\"_parent\"><img src=\"https://colab.research.google.com/assets/colab-badge.svg\" alt=\"Open In Colab\"/></a>"
      ]
    },
    {
      "cell_type": "markdown",
      "source": [
        "# 4.1 Derivative Rules"
      ],
      "metadata": {
        "id": "EBSCi8sAWErl"
      }
    },
    {
      "cell_type": "code",
      "source": [
        "import sympy as sym\n",
        "import numpy as np\n",
        "import matplotlib.pyplot as plt"
      ],
      "metadata": {
        "id": "ocOTySQHXjit"
      },
      "execution_count": 1,
      "outputs": []
    },
    {
      "cell_type": "markdown",
      "source": [
        "## 4.1.1 Theory: Derivatives of Polynomial Functions"
      ],
      "metadata": {
        "id": "Pidcl-98WRuO"
      }
    },
    {
      "cell_type": "markdown",
      "source": [
        "### Constant Function"
      ],
      "metadata": {
        "id": "o3fbDtoGXYxa"
      }
    },
    {
      "cell_type": "code",
      "source": [
        "x, C = sym.symbols('x C')\n",
        "f_x = C\n",
        "f_x"
      ],
      "metadata": {
        "colab": {
          "base_uri": "https://localhost:8080/",
          "height": 39
        },
        "id": "Bc5kaW07XbCn",
        "outputId": "e5d41bbc-b9f7-48e9-ebfd-38e081638254"
      },
      "execution_count": 2,
      "outputs": [
        {
          "output_type": "execute_result",
          "data": {
            "text/plain": [
              "C"
            ],
            "text/latex": "$\\displaystyle C$"
          },
          "metadata": {},
          "execution_count": 2
        }
      ]
    },
    {
      "cell_type": "code",
      "source": [
        "f_x.diff(x)"
      ],
      "metadata": {
        "colab": {
          "base_uri": "https://localhost:8080/",
          "height": 37
        },
        "id": "0aM4ziJSXo8Y",
        "outputId": "4436fa02-32e3-41c1-9271-df29e3847043"
      },
      "execution_count": 3,
      "outputs": [
        {
          "output_type": "execute_result",
          "data": {
            "text/plain": [
              "0"
            ],
            "text/latex": "$\\displaystyle 0$"
          },
          "metadata": {},
          "execution_count": 3
        }
      ]
    },
    {
      "cell_type": "markdown",
      "source": [
        "$f(x) = C$\n",
        "\n",
        "\n",
        "$\n",
        "\\begin{align}\n",
        "f'(x) &= \\lim_{h \\to 0}{\\frac{f(x + h) - f(x)}{h}} \\\\\n",
        "&= \\lim_{h \\to 0}{\\frac{C - C}{h}} \\\\\n",
        "&= \\lim_{h \\to 0}{\\frac{0}{h}} \\\\\n",
        "&= 0\n",
        "\\end{align}\n",
        "$"
      ],
      "metadata": {
        "id": "pDvV8MxofCOF"
      }
    },
    {
      "cell_type": "code",
      "source": [
        "sym.diff(sym.exp(1)**sym.pi**sym.sqrt(2), x)"
      ],
      "metadata": {
        "colab": {
          "base_uri": "https://localhost:8080/",
          "height": 37
        },
        "id": "gz6iOFmIgcnU",
        "outputId": "f7a3cbf7-04ad-4fa8-dc74-ca1520dea225"
      },
      "execution_count": 4,
      "outputs": [
        {
          "output_type": "execute_result",
          "data": {
            "text/plain": [
              "0"
            ],
            "text/latex": "$\\displaystyle 0$"
          },
          "metadata": {},
          "execution_count": 4
        }
      ]
    },
    {
      "cell_type": "code",
      "source": [
        "sym.diff(sym.sin(x)**2 + sym.cos(x)**2, x)"
      ],
      "metadata": {
        "colab": {
          "base_uri": "https://localhost:8080/",
          "height": 37
        },
        "id": "wN8-AG15gw0L",
        "outputId": "1e09cf98-b4b7-4fc9-e92a-3fce72309e3a"
      },
      "execution_count": 5,
      "outputs": [
        {
          "output_type": "execute_result",
          "data": {
            "text/plain": [
              "0"
            ],
            "text/latex": "$\\displaystyle 0$"
          },
          "metadata": {},
          "execution_count": 5
        }
      ]
    },
    {
      "cell_type": "markdown",
      "source": [
        "### A line"
      ],
      "metadata": {
        "id": "dtKi8AyShx21"
      }
    },
    {
      "cell_type": "code",
      "source": [
        "x, m = sym.symbols('x m')\n",
        "f_x = m * x\n",
        "f_x"
      ],
      "metadata": {
        "colab": {
          "base_uri": "https://localhost:8080/",
          "height": 39
        },
        "id": "GLRWeg_Nh4Az",
        "outputId": "05058723-c515-4693-f0cd-5208e454e794"
      },
      "execution_count": 6,
      "outputs": [
        {
          "output_type": "execute_result",
          "data": {
            "text/plain": [
              "m*x"
            ],
            "text/latex": "$\\displaystyle m x$"
          },
          "metadata": {},
          "execution_count": 6
        }
      ]
    },
    {
      "cell_type": "code",
      "source": [
        "f_x.diff(x)"
      ],
      "metadata": {
        "colab": {
          "base_uri": "https://localhost:8080/",
          "height": 39
        },
        "id": "WgIM-1YPh_aC",
        "outputId": "c1d5af75-d102-45d7-8012-b9858456095e"
      },
      "execution_count": 7,
      "outputs": [
        {
          "output_type": "execute_result",
          "data": {
            "text/plain": [
              "m"
            ],
            "text/latex": "$\\displaystyle m$"
          },
          "metadata": {},
          "execution_count": 7
        }
      ]
    },
    {
      "cell_type": "markdown",
      "source": [
        "### $f(x) = x^{n}$"
      ],
      "metadata": {
        "id": "BgYwyauBig4w"
      }
    },
    {
      "cell_type": "code",
      "source": [
        "x, n = sym.symbols('x n')\n",
        "f_x = x**n\n",
        "f_x"
      ],
      "metadata": {
        "colab": {
          "base_uri": "https://localhost:8080/",
          "height": 39
        },
        "id": "Q9CT1IYGisgW",
        "outputId": "b98b34f0-66c9-4be5-888e-b57ee4e8adbd"
      },
      "execution_count": 8,
      "outputs": [
        {
          "output_type": "execute_result",
          "data": {
            "text/plain": [
              "x**n"
            ],
            "text/latex": "$\\displaystyle x^{n}$"
          },
          "metadata": {},
          "execution_count": 8
        }
      ]
    },
    {
      "cell_type": "code",
      "source": [
        "f_x.diff(x)"
      ],
      "metadata": {
        "colab": {
          "base_uri": "https://localhost:8080/",
          "height": 51
        },
        "id": "aEY86pleiyk2",
        "outputId": "b7faac2a-3462-4555-8b4a-b09cc036acd6"
      },
      "execution_count": 9,
      "outputs": [
        {
          "output_type": "execute_result",
          "data": {
            "text/plain": [
              "n*x**n/x"
            ],
            "text/latex": "$\\displaystyle \\frac{n x^{n}}{x}$"
          },
          "metadata": {},
          "execution_count": 9
        }
      ]
    },
    {
      "cell_type": "markdown",
      "source": [
        "### The Power Rule\n",
        "\n",
        "$$\n",
        "\\frac{d}{dx}{x^{n}} = nx^{n - 1}\n",
        "$$"
      ],
      "metadata": {
        "id": "_EDu5OHrmaOI"
      }
    },
    {
      "cell_type": "markdown",
      "source": [
        "#### Example\n",
        "\n",
        "$f(x) = \\sqrt{x}$"
      ],
      "metadata": {
        "id": "eswx6NKcopXw"
      }
    },
    {
      "cell_type": "markdown",
      "source": [
        "$\n",
        "\\begin{align}\n",
        "f'(x) &= \\frac{1}{2}x^{-\\frac{1}{2}}\n",
        "\\end{align}\n",
        "$"
      ],
      "metadata": {
        "id": "16mEAgwMovGV"
      }
    },
    {
      "cell_type": "code",
      "source": [
        "x = sym.symbols('x')\n",
        "f_x = sym.sqrt(x)\n",
        "f_x"
      ],
      "metadata": {
        "colab": {
          "base_uri": "https://localhost:8080/",
          "height": 37
        },
        "id": "YM4aX7y6pBWc",
        "outputId": "f6c48e30-35a0-4283-b9b0-e39e7ed210d4"
      },
      "execution_count": 10,
      "outputs": [
        {
          "output_type": "execute_result",
          "data": {
            "text/plain": [
              "sqrt(x)"
            ],
            "text/latex": "$\\displaystyle \\sqrt{x}$"
          },
          "metadata": {},
          "execution_count": 10
        }
      ]
    },
    {
      "cell_type": "code",
      "source": [
        "f_x.diff(x)"
      ],
      "metadata": {
        "colab": {
          "base_uri": "https://localhost:8080/",
          "height": 55
        },
        "id": "nGTnWtu2pHDX",
        "outputId": "ccab2ebe-1e37-47cb-fc84-fff7a6641247"
      },
      "execution_count": 11,
      "outputs": [
        {
          "output_type": "execute_result",
          "data": {
            "text/plain": [
              "1/(2*sqrt(x))"
            ],
            "text/latex": "$\\displaystyle \\frac{1}{2 \\sqrt{x}}$"
          },
          "metadata": {},
          "execution_count": 11
        }
      ]
    },
    {
      "cell_type": "markdown",
      "source": [
        "#### Example\n",
        "\n",
        "$f(x) = \\sqrt[3]{x^{2}} = x^{\\frac{2}{3}}$"
      ],
      "metadata": {
        "id": "LClHs15lp0bh"
      }
    },
    {
      "cell_type": "markdown",
      "source": [
        "$\n",
        "\\begin{align}\n",
        "f'(x) = \\frac{2}{3}{x^{-\\frac{1}{3}}}\n",
        "\\end{align}\n",
        "$"
      ],
      "metadata": {
        "id": "V3h97UHbqFzi"
      }
    },
    {
      "cell_type": "markdown",
      "source": [
        "### Limit Laws\n",
        "\n",
        "Derivatives are limits, so limit laws apply to them."
      ],
      "metadata": {
        "id": "SMVH64nXvOF0"
      }
    },
    {
      "cell_type": "markdown",
      "source": [
        "Let $c$ be a constant, let $n$ be an integer and let $f(x)$ and $g(x)$ be defined for all $x$ near $a$ (except possibly at $x = a$). Assume that $L$ and $M$ are real numbers such that:\n",
        "\n",
        "$$\n",
        "\\begin{align}\n",
        "&\\lim_{x \\to a} f(x) = L \\\\\n",
        "&\\lim_{x \\to a} g(x) = M\n",
        "\\end{align}\n",
        "$$\n",
        "\n",
        "Then the following statements hold:\n",
        "\n",
        "1. The limit of the sum is the sum of the limits\n",
        "    - $\\lim_{x \\to a}{\\left(f(x) + g(x)\\right)} = L + M$\n",
        "2. The limit of the difference is the difference of the limits\n",
        "    - $\\lim_{x \\to a}{\\left(f(x) - g(x)\\right)} = L - M$\n",
        "3. The limit of a product is the product of the limits\n",
        "    - $\\lim_{x \\to a}{\\left(f(x) \\cdot g(x)\\right)} = L \\cdot M$\n",
        "4. The limit of a quotient is the quotient of the limits\n",
        "    - $\\lim_{x \\to a}\\frac{f(x)}{g(x)} = \\frac{L}{M}, M \\ne 0$\n",
        "5. Constant multiple law for limits\n",
        "    - $\\lim_{x \\to a}{cf(x)} = cL$\n",
        "6. Power law for limits\n",
        "    - $\\lim_{x \\to a}{\\left(f(x)\\right)^{n}} = L^{n}$\n",
        "7. Root law for limits\n",
        "    - $\\lim_{x \\to a}{\\sqrt[n]{f(x)}} = \\sqrt[n]{L}$\n",
        "        - for all $L$ if $n$ is odd\n",
        "        - for $L \\ge 0$ if $n$ is even and $f(x) \\ge 0$"
      ],
      "metadata": {
        "id": "Xh5tSWYSvd4f"
      }
    },
    {
      "cell_type": "markdown",
      "source": [
        "#### Constant multiple law\n",
        "\n",
        "$$\n",
        "\\frac{d}{dx}{c \\cdot f(x)} = c \\cdot \\frac{d}{dx}{f(x)}\n",
        "$$"
      ],
      "metadata": {
        "id": "dUlh6IqbvqqC"
      }
    },
    {
      "cell_type": "markdown",
      "source": [
        "##### Example\n",
        "\n",
        "$f(x) = 7x^{2}$"
      ],
      "metadata": {
        "id": "9Q6iHdrnw3Cv"
      }
    },
    {
      "cell_type": "markdown",
      "source": [
        "$\n",
        "\\begin{align}\n",
        "\\frac{d}{dx}{7x^{2}} &= 7\\frac{d}{dx}{x^{2}} \\\\\n",
        "&= 7 \\cdot 2x \\\\\n",
        "&= 14x\n",
        "\\end{align}\n",
        "$"
      ],
      "metadata": {
        "id": "U2nvtV10xGSJ"
      }
    },
    {
      "cell_type": "code",
      "source": [
        "x = sym.symbols('x')\n",
        "f_x = 7 * x**2\n",
        "f_x"
      ],
      "metadata": {
        "colab": {
          "base_uri": "https://localhost:8080/",
          "height": 39
        },
        "id": "KbqObwNgxjEE",
        "outputId": "93f57ecd-610c-4c4e-873d-5cd1788caf59"
      },
      "execution_count": 12,
      "outputs": [
        {
          "output_type": "execute_result",
          "data": {
            "text/plain": [
              "7*x**2"
            ],
            "text/latex": "$\\displaystyle 7 x^{2}$"
          },
          "metadata": {},
          "execution_count": 12
        }
      ]
    },
    {
      "cell_type": "code",
      "source": [
        "f_x.diff(x)"
      ],
      "metadata": {
        "colab": {
          "base_uri": "https://localhost:8080/",
          "height": 39
        },
        "id": "0iBXVjVKxnaT",
        "outputId": "46cc7b0b-a4af-4ab3-8352-759c2424a1fb"
      },
      "execution_count": 13,
      "outputs": [
        {
          "output_type": "execute_result",
          "data": {
            "text/plain": [
              "14*x"
            ],
            "text/latex": "$\\displaystyle 14 x$"
          },
          "metadata": {},
          "execution_count": 13
        }
      ]
    },
    {
      "cell_type": "markdown",
      "source": [
        "#### Limit of the Sum/Difference\n",
        "\n",
        "$$\n",
        "\\frac{d}{dx}{\\left[f(x) \\pm g(x)\\right]} = \\frac{d}{dx}{f(x) \\pm \\frac{d}{dx}{g(x)}}\n",
        "$$"
      ],
      "metadata": {
        "id": "7JR4tAckyepg"
      }
    },
    {
      "cell_type": "markdown",
      "source": [
        "##### Example\n",
        "\n",
        "$f(x) = 2x + 7$"
      ],
      "metadata": {
        "id": "BwKQMm96zcvi"
      }
    },
    {
      "cell_type": "markdown",
      "source": [
        "$\n",
        "\\begin{align}\n",
        "\\frac{d}{dx}{\\left[2x + 7\\right]} &= \\frac{d}{dx}{2x} + \\frac{d}{dx}{7} \\\\\n",
        "&= 2 + 0 \\\\\n",
        "&= 2\n",
        "\\end{align}\n",
        "$"
      ],
      "metadata": {
        "id": "m1wpoYBFzlBr"
      }
    },
    {
      "cell_type": "code",
      "source": [
        "x = sym.symbols('x')\n",
        "f_x = 2*x + 7\n",
        "f_x"
      ],
      "metadata": {
        "colab": {
          "base_uri": "https://localhost:8080/",
          "height": 39
        },
        "id": "hVHHYUib0H25",
        "outputId": "e9290692-92fd-45e9-e794-00ee2b80491c"
      },
      "execution_count": 14,
      "outputs": [
        {
          "output_type": "execute_result",
          "data": {
            "text/plain": [
              "2*x + 7"
            ],
            "text/latex": "$\\displaystyle 2 x + 7$"
          },
          "metadata": {},
          "execution_count": 14
        }
      ]
    },
    {
      "cell_type": "code",
      "source": [
        "f_x.diff(x)"
      ],
      "metadata": {
        "colab": {
          "base_uri": "https://localhost:8080/",
          "height": 37
        },
        "id": "XxNvXm4C0NNV",
        "outputId": "4a181d1d-2caf-4ad2-f959-4749a903584a"
      },
      "execution_count": 15,
      "outputs": [
        {
          "output_type": "execute_result",
          "data": {
            "text/plain": [
              "2"
            ],
            "text/latex": "$\\displaystyle 2$"
          },
          "metadata": {},
          "execution_count": 15
        }
      ]
    },
    {
      "cell_type": "markdown",
      "source": [
        "### Example\n",
        "\n",
        "Find the point on the curve $y = x^{3} - 2x + 1$ where the tangent line is horizontal."
      ],
      "metadata": {
        "id": "SHAHFskG0fEl"
      }
    },
    {
      "cell_type": "markdown",
      "source": [
        "$\n",
        "\\begin{align}\n",
        "\\frac{d}{dx}{x^{3} - 2x + 1} &= 3x^2 - 2\n",
        "\\end{align}\n",
        "$"
      ],
      "metadata": {
        "id": "-nQnRvSP0x_6"
      }
    },
    {
      "cell_type": "code",
      "source": [
        "x = sym.symbols('x')\n",
        "f_x = x**3 - 2*x + 1\n",
        "f_x"
      ],
      "metadata": {
        "colab": {
          "base_uri": "https://localhost:8080/",
          "height": 39
        },
        "id": "fesAK2ae3XN8",
        "outputId": "67d217e7-60dc-4e10-d64f-c353004a6495"
      },
      "execution_count": 16,
      "outputs": [
        {
          "output_type": "execute_result",
          "data": {
            "text/plain": [
              "x**3 - 2*x + 1"
            ],
            "text/latex": "$\\displaystyle x^{3} - 2 x + 1$"
          },
          "metadata": {},
          "execution_count": 16
        }
      ]
    },
    {
      "cell_type": "code",
      "source": [
        "f_x.diff(x)"
      ],
      "metadata": {
        "colab": {
          "base_uri": "https://localhost:8080/",
          "height": 39
        },
        "id": "baVcGnt53hSW",
        "outputId": "e3475160-5bf2-4fe8-84cf-65c6b9db4d89"
      },
      "execution_count": 17,
      "outputs": [
        {
          "output_type": "execute_result",
          "data": {
            "text/plain": [
              "3*x**2 - 2"
            ],
            "text/latex": "$\\displaystyle 3 x^{2} - 2$"
          },
          "metadata": {},
          "execution_count": 17
        }
      ]
    },
    {
      "cell_type": "markdown",
      "source": [
        "If the tangent is horizontal, it has slope 0.\n",
        "\n",
        "$\n",
        "\\begin{align}\n",
        "3x^2 - 2 = 0 \\implies x = \\pm \\sqrt{\\frac{2}{3}} \n",
        "\\end{align}\n",
        "$"
      ],
      "metadata": {
        "id": "bSs5hGxl1BfS"
      }
    },
    {
      "cell_type": "markdown",
      "source": [
        "Case: $x = \\sqrt{\\frac{2}{3}}$"
      ],
      "metadata": {
        "id": "leDPnl_p2Iod"
      }
    },
    {
      "cell_type": "code",
      "source": [
        "f_x.subs(x, sym.sqrt(sym.Rational(2, 3)))"
      ],
      "metadata": {
        "colab": {
          "base_uri": "https://localhost:8080/",
          "height": 55
        },
        "id": "oW8NXBHm3o8Z",
        "outputId": "d473ebb0-c2db-4cb0-9f10-e7b010346273"
      },
      "execution_count": 18,
      "outputs": [
        {
          "output_type": "execute_result",
          "data": {
            "text/plain": [
              "1 - 4*sqrt(6)/9"
            ],
            "text/latex": "$\\displaystyle 1 - \\frac{4 \\sqrt{6}}{9}$"
          },
          "metadata": {},
          "execution_count": 18
        }
      ]
    },
    {
      "cell_type": "markdown",
      "source": [
        "Case: $x = -\\sqrt{\\frac{2}{3}}$"
      ],
      "metadata": {
        "id": "Yi8TXJ_F36k8"
      }
    },
    {
      "cell_type": "code",
      "source": [
        "f_x.subs(x, -sym.sqrt(sym.Rational(2, 3)))"
      ],
      "metadata": {
        "colab": {
          "base_uri": "https://localhost:8080/",
          "height": 55
        },
        "id": "iN98uczv35rH",
        "outputId": "120c5707-7023-49c8-f7fa-982c2dddae85"
      },
      "execution_count": 19,
      "outputs": [
        {
          "output_type": "execute_result",
          "data": {
            "text/plain": [
              "1 + 4*sqrt(6)/9"
            ],
            "text/latex": "$\\displaystyle 1 + \\frac{4 \\sqrt{6}}{9}$"
          },
          "metadata": {},
          "execution_count": 19
        }
      ]
    },
    {
      "cell_type": "code",
      "source": [
        "# based on the above 2 cases\n",
        "# these two points have horizontal tangers\n",
        "P1 = (sym.sqrt(sym.Rational(2, 3)), f_x.subs(x, sym.sqrt(sym.Rational(2, 3))))\n",
        "P2 = (-sym.sqrt(sym.Rational(2, 3)), f_x.subs(x, -sym.sqrt(sym.Rational(2, 3))))"
      ],
      "metadata": {
        "id": "OKbuNDM83_8k"
      },
      "execution_count": 20,
      "outputs": []
    },
    {
      "cell_type": "code",
      "source": [
        "P1, P2"
      ],
      "metadata": {
        "colab": {
          "base_uri": "https://localhost:8080/"
        },
        "id": "gcQmHAK341KG",
        "outputId": "1d797006-4d51-49cc-bb46-5aeddcbd9aac"
      },
      "execution_count": 21,
      "outputs": [
        {
          "output_type": "execute_result",
          "data": {
            "text/plain": [
              "((sqrt(6)/3, 1 - 4*sqrt(6)/9), (-sqrt(6)/3, 1 + 4*sqrt(6)/9))"
            ]
          },
          "metadata": {},
          "execution_count": 21
        }
      ]
    },
    {
      "cell_type": "code",
      "source": [
        "xx = np.linspace(-10, 10, 100)\n",
        "yy = [f_x.subs(x, a) for a in xx]\n",
        "plt.ylim([-10, 10])\n",
        "plt.plot(xx, yy)\n",
        "plt.plot(P1[0], P1[1], \"ro\")\n",
        "plt.plot(P2[0], P2[1], \"ro\")\n",
        "plt.show()"
      ],
      "metadata": {
        "colab": {
          "base_uri": "https://localhost:8080/",
          "height": 269
        },
        "id": "pf_mCwV05Zqj",
        "outputId": "27741d14-ee4d-4f07-ed91-11207b985b7f"
      },
      "execution_count": 22,
      "outputs": [
        {
          "output_type": "display_data",
          "data": {
            "text/plain": [
              "<Figure size 432x288 with 1 Axes>"
            ],
            "image/png": "[encoded data removed]"
          },
          "metadata": {
            "needs_background": "light"
          }
        }
      ]
    },
    {
      "cell_type": "markdown",
      "source": [
        "## 4.1.2 Theory: Derivatives of Exponentials"
      ],
      "metadata": {
        "id": "sgk-K2e1_hnU"
      }
    }
  ]
}