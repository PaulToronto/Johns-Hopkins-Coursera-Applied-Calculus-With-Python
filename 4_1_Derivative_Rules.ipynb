{
  "nbformat": 4,
  "nbformat_minor": 0,
  "metadata": {
    "colab": {
      "provenance": [],
      "toc_visible": true,
      "authorship_tag": "ABX9TyOyaONLsvRBh1bKzAAOKjmo",
      "include_colab_link": true
    },
    "kernelspec": {
      "name": "python3",
      "display_name": "Python 3"
    },
    "language_info": {
      "name": "python"
    }
  },
  "cells": [
    {
      "cell_type": "markdown",
      "metadata": {
        "id": "view-in-github",
        "colab_type": "text"
      },
      "source": [
        "<a href=\"https://colab.research.google.com/github/PaulToronto/Johns-Hopkins-Coursera-Applied-Calculus-With-Python/blob/main/4_1_Derivative_Rules.ipynb\" target=\"_parent\"><img src=\"https://colab.research.google.com/assets/colab-badge.svg\" alt=\"Open In Colab\"/></a>"
      ]
    },
    {
      "cell_type": "markdown",
      "source": [
        "# 4.1 Derivative Rules"
      ],
      "metadata": {
        "id": "EBSCi8sAWErl"
      }
    },
    {
      "cell_type": "code",
      "source": [
        "import sympy as sym\n",
        "import numpy as np\n",
        "import matplotlib.pyplot as plt"
      ],
      "metadata": {
        "id": "ocOTySQHXjit"
      },
      "execution_count": 1,
      "outputs": []
    },
    {
      "cell_type": "markdown",
      "source": [
        "## 4.1.1 Theory: Derivatives of Polynomial Functions"
      ],
      "metadata": {
        "id": "Pidcl-98WRuO"
      }
    },
    {
      "cell_type": "markdown",
      "source": [
        "### Constant Function"
      ],
      "metadata": {
        "id": "o3fbDtoGXYxa"
      }
    },
    {
      "cell_type": "code",
      "source": [
        "x, C = sym.symbols('x C')\n",
        "f_x = C\n",
        "f_x"
      ],
      "metadata": {
        "colab": {
          "base_uri": "https://localhost:8080/",
          "height": 39
        },
        "id": "Bc5kaW07XbCn",
        "outputId": "7884fd76-0331-404b-c0d8-1e84d8743825"
      },
      "execution_count": 2,
      "outputs": [
        {
          "output_type": "execute_result",
          "data": {
            "text/plain": [
              "C"
            ],
            "text/latex": "$\\displaystyle C$"
          },
          "metadata": {},
          "execution_count": 2
        }
      ]
    },
    {
      "cell_type": "code",
      "source": [
        "f_x.diff(x)"
      ],
      "metadata": {
        "colab": {
          "base_uri": "https://localhost:8080/",
          "height": 37
        },
        "id": "0aM4ziJSXo8Y",
        "outputId": "2f50c730-76cb-4bbd-f3e4-9f3e077cc243"
      },
      "execution_count": 3,
      "outputs": [
        {
          "output_type": "execute_result",
          "data": {
            "text/plain": [
              "0"
            ],
            "text/latex": "$\\displaystyle 0$"
          },
          "metadata": {},
          "execution_count": 3
        }
      ]
    },
    {
      "cell_type": "markdown",
      "source": [
        "$f(x) = C$\n",
        "\n",
        "\n",
        "$\n",
        "\\begin{align}\n",
        "f'(x) &= \\lim_{h \\to 0}{\\frac{f(x + h) - f(x)}{h}} \\\\\n",
        "&= \\lim_{h \\to 0}{\\frac{C - C}{h}} \\\\\n",
        "&= \\lim_{h \\to 0}{\\frac{0}{h}} \\\\\n",
        "&= 0\n",
        "\\end{align}\n",
        "$"
      ],
      "metadata": {
        "id": "pDvV8MxofCOF"
      }
    },
    {
      "cell_type": "code",
      "source": [
        "sym.diff(sym.exp(1)**sym.pi**sym.sqrt(2), x)"
      ],
      "metadata": {
        "colab": {
          "base_uri": "https://localhost:8080/",
          "height": 37
        },
        "id": "gz6iOFmIgcnU",
        "outputId": "f9607934-b2fd-4560-f08e-9708316313af"
      },
      "execution_count": 4,
      "outputs": [
        {
          "output_type": "execute_result",
          "data": {
            "text/plain": [
              "0"
            ],
            "text/latex": "$\\displaystyle 0$"
          },
          "metadata": {},
          "execution_count": 4
        }
      ]
    },
    {
      "cell_type": "code",
      "source": [
        "sym.diff(sym.sin(x)**2 + sym.cos(x)**2, x)"
      ],
      "metadata": {
        "colab": {
          "base_uri": "https://localhost:8080/",
          "height": 37
        },
        "id": "wN8-AG15gw0L",
        "outputId": "d6b04228-378f-463b-b5e1-14dbf67bb95d"
      },
      "execution_count": 5,
      "outputs": [
        {
          "output_type": "execute_result",
          "data": {
            "text/plain": [
              "0"
            ],
            "text/latex": "$\\displaystyle 0$"
          },
          "metadata": {},
          "execution_count": 5
        }
      ]
    },
    {
      "cell_type": "markdown",
      "source": [
        "### A line"
      ],
      "metadata": {
        "id": "dtKi8AyShx21"
      }
    },
    {
      "cell_type": "code",
      "source": [
        "x, m = sym.symbols('x m')\n",
        "f_x = m * x\n",
        "f_x"
      ],
      "metadata": {
        "colab": {
          "base_uri": "https://localhost:8080/",
          "height": 39
        },
        "id": "GLRWeg_Nh4Az",
        "outputId": "8455d16d-1000-434a-cd02-f5f27df8f930"
      },
      "execution_count": 6,
      "outputs": [
        {
          "output_type": "execute_result",
          "data": {
            "text/plain": [
              "m*x"
            ],
            "text/latex": "$\\displaystyle m x$"
          },
          "metadata": {},
          "execution_count": 6
        }
      ]
    },
    {
      "cell_type": "code",
      "source": [
        "f_x.diff(x)"
      ],
      "metadata": {
        "colab": {
          "base_uri": "https://localhost:8080/",
          "height": 39
        },
        "id": "WgIM-1YPh_aC",
        "outputId": "94859d92-e822-483f-eb67-5285bc102384"
      },
      "execution_count": 7,
      "outputs": [
        {
          "output_type": "execute_result",
          "data": {
            "text/plain": [
              "m"
            ],
            "text/latex": "$\\displaystyle m$"
          },
          "metadata": {},
          "execution_count": 7
        }
      ]
    },
    {
      "cell_type": "markdown",
      "source": [
        "### $f(x) = x^{n}$"
      ],
      "metadata": {
        "id": "BgYwyauBig4w"
      }
    },
    {
      "cell_type": "code",
      "source": [
        "x, n = sym.symbols('x n')\n",
        "f_x = x**n\n",
        "f_x"
      ],
      "metadata": {
        "colab": {
          "base_uri": "https://localhost:8080/",
          "height": 39
        },
        "id": "Q9CT1IYGisgW",
        "outputId": "6235cfee-c28a-47a7-a05e-a62bb335583d"
      },
      "execution_count": 8,
      "outputs": [
        {
          "output_type": "execute_result",
          "data": {
            "text/plain": [
              "x**n"
            ],
            "text/latex": "$\\displaystyle x^{n}$"
          },
          "metadata": {},
          "execution_count": 8
        }
      ]
    },
    {
      "cell_type": "code",
      "source": [
        "f_x.diff(x)"
      ],
      "metadata": {
        "colab": {
          "base_uri": "https://localhost:8080/",
          "height": 51
        },
        "id": "aEY86pleiyk2",
        "outputId": "9f1727cf-5323-4cdb-9a55-f72f47b61e53"
      },
      "execution_count": 9,
      "outputs": [
        {
          "output_type": "execute_result",
          "data": {
            "text/plain": [
              "n*x**n/x"
            ],
            "text/latex": "$\\displaystyle \\frac{n x^{n}}{x}$"
          },
          "metadata": {},
          "execution_count": 9
        }
      ]
    },
    {
      "cell_type": "markdown",
      "source": [
        "### The Power Rule\n",
        "\n",
        "$$\n",
        "\\frac{d}{dx}{x^{n}} = nx^{n - 1}\n",
        "$$"
      ],
      "metadata": {
        "id": "_EDu5OHrmaOI"
      }
    },
    {
      "cell_type": "markdown",
      "source": [
        "#### Example\n",
        "\n",
        "$f(x) = \\sqrt{x}$"
      ],
      "metadata": {
        "id": "eswx6NKcopXw"
      }
    },
    {
      "cell_type": "markdown",
      "source": [
        "$\n",
        "\\begin{align}\n",
        "f'(x) &= \\frac{1}{2}x^{-\\frac{1}{2}}\n",
        "\\end{align}\n",
        "$"
      ],
      "metadata": {
        "id": "16mEAgwMovGV"
      }
    },
    {
      "cell_type": "code",
      "source": [
        "x = sym.symbols('x')\n",
        "f_x = sym.sqrt(x)\n",
        "f_x"
      ],
      "metadata": {
        "colab": {
          "base_uri": "https://localhost:8080/",
          "height": 37
        },
        "id": "YM4aX7y6pBWc",
        "outputId": "d0968044-f724-47bf-fda1-070f4dd367a1"
      },
      "execution_count": 10,
      "outputs": [
        {
          "output_type": "execute_result",
          "data": {
            "text/plain": [
              "sqrt(x)"
            ],
            "text/latex": "$\\displaystyle \\sqrt{x}$"
          },
          "metadata": {},
          "execution_count": 10
        }
      ]
    },
    {
      "cell_type": "code",
      "source": [
        "f_x.diff(x)"
      ],
      "metadata": {
        "colab": {
          "base_uri": "https://localhost:8080/",
          "height": 55
        },
        "id": "nGTnWtu2pHDX",
        "outputId": "d2cdd9c7-7dfe-4fad-dfd1-370f41ccac07"
      },
      "execution_count": 11,
      "outputs": [
        {
          "output_type": "execute_result",
          "data": {
            "text/plain": [
              "1/(2*sqrt(x))"
            ],
            "text/latex": "$\\displaystyle \\frac{1}{2 \\sqrt{x}}$"
          },
          "metadata": {},
          "execution_count": 11
        }
      ]
    },
    {
      "cell_type": "markdown",
      "source": [
        "#### Example\n",
        "\n",
        "$f(x) = \\sqrt[3]{x^{2}} = x^{\\frac{2}{3}}$"
      ],
      "metadata": {
        "id": "LClHs15lp0bh"
      }
    },
    {
      "cell_type": "markdown",
      "source": [
        "$\n",
        "\\begin{align}\n",
        "f'(x) = \\frac{2}{3}{x^{-\\frac{1}{3}}}\n",
        "\\end{align}\n",
        "$"
      ],
      "metadata": {
        "id": "V3h97UHbqFzi"
      }
    },
    {
      "cell_type": "markdown",
      "source": [
        "### Limit Laws\n",
        "\n",
        "Derivatives are limits, so limit laws apply to them."
      ],
      "metadata": {
        "id": "SMVH64nXvOF0"
      }
    },
    {
      "cell_type": "markdown",
      "source": [
        "Let $c$ be a constant, let $n$ be an integer and let $f(x)$ and $g(x)$ be defined for all $x$ near $a$ (except possibly at $x = a$). Assume that $L$ and $M$ are real numbers such that:\n",
        "\n",
        "$$\n",
        "\\begin{align}\n",
        "&\\lim_{x \\to a} f(x) = L \\\\\n",
        "&\\lim_{x \\to a} g(x) = M\n",
        "\\end{align}\n",
        "$$\n",
        "\n",
        "Then the following statements hold:\n",
        "\n",
        "1. The limit of the sum is the sum of the limits\n",
        "    - $\\lim_{x \\to a}{\\left(f(x) + g(x)\\right)} = L + M$\n",
        "2. The limit of the difference is the difference of the limits\n",
        "    - $\\lim_{x \\to a}{\\left(f(x) - g(x)\\right)} = L - M$\n",
        "3. The limit of a product is the product of the limits\n",
        "    - $\\lim_{x \\to a}{\\left(f(x) \\cdot g(x)\\right)} = L \\cdot M$\n",
        "4. The limit of a quotient is the quotient of the limits\n",
        "    - $\\lim_{x \\to a}\\frac{f(x)}{g(x)} = \\frac{L}{M}, M \\ne 0$\n",
        "5. Constant multiple law for limits\n",
        "    - $\\lim_{x \\to a}{cf(x)} = cL$\n",
        "6. Power law for limits\n",
        "    - $\\lim_{x \\to a}{\\left(f(x)\\right)^{n}} = L^{n}$\n",
        "7. Root law for limits\n",
        "    - $\\lim_{x \\to a}{\\sqrt[n]{f(x)}} = \\sqrt[n]{L}$\n",
        "        - for all $L$ if $n$ is odd\n",
        "        - for $L \\ge 0$ if $n$ is even and $f(x) \\ge 0$"
      ],
      "metadata": {
        "id": "Xh5tSWYSvd4f"
      }
    },
    {
      "cell_type": "markdown",
      "source": [
        "#### Constant multiple law\n",
        "\n",
        "$$\n",
        "\\frac{d}{dx}{c \\cdot f(x)} = c \\cdot \\frac{d}{dx}{f(x)}\n",
        "$$"
      ],
      "metadata": {
        "id": "dUlh6IqbvqqC"
      }
    },
    {
      "cell_type": "markdown",
      "source": [
        "##### Example\n",
        "\n",
        "$f(x) = 7x^{2}$"
      ],
      "metadata": {
        "id": "9Q6iHdrnw3Cv"
      }
    },
    {
      "cell_type": "markdown",
      "source": [
        "$\n",
        "\\begin{align}\n",
        "\\frac{d}{dx}{7x^{2}} &= 7\\frac{d}{dx}{x^{2}} \\\\\n",
        "&= 7 \\cdot 2x \\\\\n",
        "&= 14x\n",
        "\\end{align}\n",
        "$"
      ],
      "metadata": {
        "id": "U2nvtV10xGSJ"
      }
    },
    {
      "cell_type": "code",
      "source": [
        "x = sym.symbols('x')\n",
        "f_x = 7 * x**2\n",
        "f_x"
      ],
      "metadata": {
        "colab": {
          "base_uri": "https://localhost:8080/",
          "height": 39
        },
        "id": "KbqObwNgxjEE",
        "outputId": "1c21c2b9-48c1-4cc4-b270-3a3674c4f60b"
      },
      "execution_count": 12,
      "outputs": [
        {
          "output_type": "execute_result",
          "data": {
            "text/plain": [
              "7*x**2"
            ],
            "text/latex": "$\\displaystyle 7 x^{2}$"
          },
          "metadata": {},
          "execution_count": 12
        }
      ]
    },
    {
      "cell_type": "code",
      "source": [
        "f_x.diff(x)"
      ],
      "metadata": {
        "colab": {
          "base_uri": "https://localhost:8080/",
          "height": 39
        },
        "id": "0iBXVjVKxnaT",
        "outputId": "6fc4de26-198a-4ed3-91d8-213ef35ac703"
      },
      "execution_count": 13,
      "outputs": [
        {
          "output_type": "execute_result",
          "data": {
            "text/plain": [
              "14*x"
            ],
            "text/latex": "$\\displaystyle 14 x$"
          },
          "metadata": {},
          "execution_count": 13
        }
      ]
    },
    {
      "cell_type": "markdown",
      "source": [
        "#### Limit of the Sum/Difference\n",
        "\n",
        "$$\n",
        "\\frac{d}{dx}{\\left[f(x) \\pm g(x)\\right]} = \\frac{d}{dx}{f(x) \\pm \\frac{d}{dx}{g(x)}}\n",
        "$$"
      ],
      "metadata": {
        "id": "7JR4tAckyepg"
      }
    },
    {
      "cell_type": "markdown",
      "source": [
        "##### Example\n",
        "\n",
        "$f(x) = 2x + 7$"
      ],
      "metadata": {
        "id": "BwKQMm96zcvi"
      }
    },
    {
      "cell_type": "markdown",
      "source": [
        "$\n",
        "\\begin{align}\n",
        "\\frac{d}{dx}{\\left[2x + 7\\right]} &= \\frac{d}{dx}{2x} + \\frac{d}{dx}{7} \\\\\n",
        "&= 2 + 0 \\\\\n",
        "&= 2\n",
        "\\end{align}\n",
        "$"
      ],
      "metadata": {
        "id": "m1wpoYBFzlBr"
      }
    },
    {
      "cell_type": "code",
      "source": [
        "x = sym.symbols('x')\n",
        "f_x = 2*x + 7\n",
        "f_x"
      ],
      "metadata": {
        "colab": {
          "base_uri": "https://localhost:8080/",
          "height": 39
        },
        "id": "hVHHYUib0H25",
        "outputId": "7a56a167-b5b6-4fe0-aa4e-af300496accb"
      },
      "execution_count": 14,
      "outputs": [
        {
          "output_type": "execute_result",
          "data": {
            "text/plain": [
              "2*x + 7"
            ],
            "text/latex": "$\\displaystyle 2 x + 7$"
          },
          "metadata": {},
          "execution_count": 14
        }
      ]
    },
    {
      "cell_type": "code",
      "source": [
        "f_x.diff(x)"
      ],
      "metadata": {
        "colab": {
          "base_uri": "https://localhost:8080/",
          "height": 37
        },
        "id": "XxNvXm4C0NNV",
        "outputId": "c8bdd64e-05e0-42cb-f8bb-e56a3a84872f"
      },
      "execution_count": 15,
      "outputs": [
        {
          "output_type": "execute_result",
          "data": {
            "text/plain": [
              "2"
            ],
            "text/latex": "$\\displaystyle 2$"
          },
          "metadata": {},
          "execution_count": 15
        }
      ]
    },
    {
      "cell_type": "markdown",
      "source": [
        "### Example\n",
        "\n",
        "Find the point on the curve $y = x^{3} - 2x + 1$ where the tangent line is horizontal."
      ],
      "metadata": {
        "id": "SHAHFskG0fEl"
      }
    },
    {
      "cell_type": "markdown",
      "source": [
        "$\n",
        "\\begin{align}\n",
        "\\frac{d}{dx}{x^{3} - 2x + 1} &= 3x^2 - 2\n",
        "\\end{align}\n",
        "$"
      ],
      "metadata": {
        "id": "-nQnRvSP0x_6"
      }
    },
    {
      "cell_type": "code",
      "source": [
        "x = sym.symbols('x')\n",
        "f_x = x**3 - 2*x + 1\n",
        "f_x"
      ],
      "metadata": {
        "colab": {
          "base_uri": "https://localhost:8080/",
          "height": 39
        },
        "id": "fesAK2ae3XN8",
        "outputId": "801a5518-2543-4f5e-c1bd-be4ec8df980b"
      },
      "execution_count": 16,
      "outputs": [
        {
          "output_type": "execute_result",
          "data": {
            "text/plain": [
              "x**3 - 2*x + 1"
            ],
            "text/latex": "$\\displaystyle x^{3} - 2 x + 1$"
          },
          "metadata": {},
          "execution_count": 16
        }
      ]
    },
    {
      "cell_type": "code",
      "source": [
        "f_x.diff(x)"
      ],
      "metadata": {
        "colab": {
          "base_uri": "https://localhost:8080/",
          "height": 39
        },
        "id": "baVcGnt53hSW",
        "outputId": "39834daf-0497-4305-8e77-161693d30cbd"
      },
      "execution_count": 17,
      "outputs": [
        {
          "output_type": "execute_result",
          "data": {
            "text/plain": [
              "3*x**2 - 2"
            ],
            "text/latex": "$\\displaystyle 3 x^{2} - 2$"
          },
          "metadata": {},
          "execution_count": 17
        }
      ]
    },
    {
      "cell_type": "markdown",
      "source": [
        "If the tangent is horizontal, it has slope 0.\n",
        "\n",
        "$\n",
        "\\begin{align}\n",
        "3x^2 - 2 = 0 \\implies x = \\pm \\sqrt{\\frac{2}{3}} \n",
        "\\end{align}\n",
        "$"
      ],
      "metadata": {
        "id": "bSs5hGxl1BfS"
      }
    },
    {
      "cell_type": "markdown",
      "source": [
        "Case: $x = \\sqrt{\\frac{2}{3}}$"
      ],
      "metadata": {
        "id": "leDPnl_p2Iod"
      }
    },
    {
      "cell_type": "code",
      "source": [
        "f_x.subs(x, sym.sqrt(sym.Rational(2, 3)))"
      ],
      "metadata": {
        "colab": {
          "base_uri": "https://localhost:8080/",
          "height": 55
        },
        "id": "oW8NXBHm3o8Z",
        "outputId": "8bfb469f-45ea-497a-ce29-fdf78733ac02"
      },
      "execution_count": 18,
      "outputs": [
        {
          "output_type": "execute_result",
          "data": {
            "text/plain": [
              "1 - 4*sqrt(6)/9"
            ],
            "text/latex": "$\\displaystyle 1 - \\frac{4 \\sqrt{6}}{9}$"
          },
          "metadata": {},
          "execution_count": 18
        }
      ]
    },
    {
      "cell_type": "markdown",
      "source": [
        "Case: $x = -\\sqrt{\\frac{2}{3}}$"
      ],
      "metadata": {
        "id": "Yi8TXJ_F36k8"
      }
    },
    {
      "cell_type": "code",
      "source": [
        "f_x.subs(x, -sym.sqrt(sym.Rational(2, 3)))"
      ],
      "metadata": {
        "colab": {
          "base_uri": "https://localhost:8080/",
          "height": 55
        },
        "id": "iN98uczv35rH",
        "outputId": "80ffc7f5-9a75-4fad-982c-6ba4fafd0526"
      },
      "execution_count": 19,
      "outputs": [
        {
          "output_type": "execute_result",
          "data": {
            "text/plain": [
              "1 + 4*sqrt(6)/9"
            ],
            "text/latex": "$\\displaystyle 1 + \\frac{4 \\sqrt{6}}{9}$"
          },
          "metadata": {},
          "execution_count": 19
        }
      ]
    },
    {
      "cell_type": "code",
      "source": [
        "# based on the above 2 cases\n",
        "# these two points have horizontal tangers\n",
        "P1 = (sym.sqrt(sym.Rational(2, 3)), f_x.subs(x, sym.sqrt(sym.Rational(2, 3))))\n",
        "P2 = (-sym.sqrt(sym.Rational(2, 3)), f_x.subs(x, -sym.sqrt(sym.Rational(2, 3))))"
      ],
      "metadata": {
        "id": "OKbuNDM83_8k"
      },
      "execution_count": 20,
      "outputs": []
    },
    {
      "cell_type": "code",
      "source": [
        "P1, P2"
      ],
      "metadata": {
        "colab": {
          "base_uri": "https://localhost:8080/"
        },
        "id": "gcQmHAK341KG",
        "outputId": "d4fed721-a911-4df2-b003-cc35c504b87e"
      },
      "execution_count": 21,
      "outputs": [
        {
          "output_type": "execute_result",
          "data": {
            "text/plain": [
              "((sqrt(6)/3, 1 - 4*sqrt(6)/9), (-sqrt(6)/3, 1 + 4*sqrt(6)/9))"
            ]
          },
          "metadata": {},
          "execution_count": 21
        }
      ]
    },
    {
      "cell_type": "code",
      "source": [
        "xx = np.linspace(-10, 10, 100)\n",
        "yy = [f_x.subs(x, a) for a in xx]\n",
        "plt.ylim([-10, 10])\n",
        "plt.plot(xx, yy)\n",
        "plt.plot(P1[0], P1[1], \"ro\")\n",
        "plt.plot(P2[0], P2[1], \"ro\")\n",
        "plt.show()"
      ],
      "metadata": {
        "colab": {
          "base_uri": "https://localhost:8080/",
          "height": 269
        },
        "id": "pf_mCwV05Zqj",
        "outputId": "ccdf851d-0f67-4c73-f1bc-32ef28eb2e55"
      },
      "execution_count": 22,
      "outputs": [
        {
          "output_type": "display_data",
          "data": {
            "text/plain": [
              "<Figure size 432x288 with 1 Axes>"
            ],
            "image/png": "[encoded data removed]"
          },
          "metadata": {
            "needs_background": "light"
          }
        }
      ]
    },
    {
      "cell_type": "markdown",
      "source": [
        "## 4.1.2 Theory: Derivatives of Exponentials"
      ],
      "metadata": {
        "id": "sgk-K2e1_hnU"
      }
    },
    {
      "cell_type": "markdown",
      "source": [
        "### Example: Review Derivatives of Polynomial Functions"
      ],
      "metadata": {
        "id": "2sYRWsMGrpYI"
      }
    },
    {
      "cell_type": "markdown",
      "source": [
        "$\n",
        "\\begin{align}\n",
        "\\frac{d}{dx}{\\left[9x^{9} + 8x^{8} + 7x^{7} + 6x^{6} + 5x^{5} + 4x^{4} + 3x^{3} + 2x^{2} + x + \\pi\\right]} \\\\\n",
        "= 81x^{8} + 64x^{7} + 49x^{6} + 36x^{5} + 25x^{4} + 16x^{3} + 9x^{2} + 4x + 1\n",
        "\\end{align} \n",
        "$"
      ],
      "metadata": {
        "id": "ofkBoF5JrwJa"
      }
    },
    {
      "cell_type": "markdown",
      "source": [
        "### Warm up\n",
        "\n",
        "**Definition**: The **normal line** to a curve C at point P is the line through P that is perpendicular to the tangent line. "
      ],
      "metadata": {
        "id": "tIYxzWQHuC3y"
      }
    },
    {
      "cell_type": "markdown",
      "source": [
        "$$\n",
        "\\text{If } l_{1} \\perp l_{2} \\text{ then } m_{1} = -\\frac{1}{m_{2}}\n",
        "$$"
      ],
      "metadata": {
        "id": "T8zJajHOvM0-"
      }
    },
    {
      "cell_type": "markdown",
      "source": [
        "### Example\n",
        "\n",
        "Find the equation of the normal line to $y = (2x + 1)^{2}$ at $x = 1$. "
      ],
      "metadata": {
        "id": "7ousjQJjwQqn"
      }
    },
    {
      "cell_type": "markdown",
      "source": [
        "$\n",
        "\\begin{align}\n",
        "y' &= 8x + 4\\big\\rvert_{x = 1} \\\\\n",
        "&= 12\n",
        "\\end{align}\n",
        "$\n",
        "\n",
        "$\\therefore$ the slope of the tangent at $x = 1$ is $12$ and the slope of the normal line is $-\\frac{1}{12}$. \n",
        "\n",
        "$\n",
        "\\begin{align}\n",
        "y &= (2x + 1)^{2}\\bigr\\rvert_{x = 1} \\\\\n",
        "&= 9\n",
        "\\end{align}\n",
        "$\n",
        "\n",
        "$\\therefore$ the point (1, 9) is on the normal line. The equation of that line is given below: "
      ],
      "metadata": {
        "id": "PijMJdPHwxDu"
      }
    },
    {
      "cell_type": "markdown",
      "source": [
        "$\n",
        "y - 9 = -\\frac{1}{12}(x - 1) \\\\\n",
        "\\implies y = -\\frac{1}{12}x + \\frac{109}{12}\n",
        "$"
      ],
      "metadata": {
        "id": "fUSHBae7xpML"
      }
    },
    {
      "cell_type": "markdown",
      "source": [
        "### Exponential Functions\n",
        "\n",
        "Recall that an exponential function is of the form $f(x) = a^{x} \\text{ where } a > 0 \\text{ and } a \\ne 1$."
      ],
      "metadata": {
        "id": "dmoh4WYeyyvU"
      }
    },
    {
      "cell_type": "markdown",
      "source": [
        "$$\n",
        "\\frac{d}{dx}{a^{x}} = a^{x}\\cdot\\ln{a}\n",
        "$$"
      ],
      "metadata": {
        "id": "jyrtftuc3I4t"
      }
    },
    {
      "cell_type": "markdown",
      "source": [
        "Special Case:"
      ],
      "metadata": {
        "id": "BUWocqB1AfTS"
      }
    },
    {
      "cell_type": "markdown",
      "source": [
        "$$\n",
        "\\begin{align}\n",
        "\\frac{d}{dx}{e^{x}} &= e^{x}\\cdot\\ln{e} \\\\\n",
        "&= e^{x}\n",
        "\\end{align}\n",
        "$$"
      ],
      "metadata": {
        "id": "GkDAFRXNAjX3"
      }
    },
    {
      "cell_type": "code",
      "source": [
        "a, x = sym.symbols('a x')\n",
        "f_x = a**x\n",
        "f_x"
      ],
      "metadata": {
        "colab": {
          "base_uri": "https://localhost:8080/",
          "height": 39
        },
        "id": "JVuhIXSc5BmZ",
        "outputId": "ec801837-d3cc-4cf5-8cfd-dca8bd1cca39"
      },
      "execution_count": 23,
      "outputs": [
        {
          "output_type": "execute_result",
          "data": {
            "text/plain": [
              "a**x"
            ],
            "text/latex": "$\\displaystyle a^{x}$"
          },
          "metadata": {},
          "execution_count": 23
        }
      ]
    },
    {
      "cell_type": "code",
      "source": [
        "f_x.diff(x)"
      ],
      "metadata": {
        "colab": {
          "base_uri": "https://localhost:8080/",
          "height": 39
        },
        "id": "TrHkudEF5ONO",
        "outputId": "6e4c5848-ce42-4ea7-e222-579027a9d4d2"
      },
      "execution_count": 24,
      "outputs": [
        {
          "output_type": "execute_result",
          "data": {
            "text/plain": [
              "a**x*log(a)"
            ],
            "text/latex": "$\\displaystyle a^{x} \\log{\\left(a \\right)}$"
          },
          "metadata": {},
          "execution_count": 24
        }
      ]
    },
    {
      "cell_type": "code",
      "source": [
        "x = sym.symbols('x')\n",
        "fig = sym.plot(2**x, \n",
        "               2**x * sym.log(2), \n",
        "               ylim=[-1, 10],\n",
        "               legend=True,\n",
        "               show=False)\n",
        "\n",
        "fig[0].line_color='dodgerblue'\n",
        "fig[0].label = \"$f(x) = 2^{x}$\"\n",
        "\n",
        "fig[1].line_color='red'\n",
        "fig[1].label = \"$f(x) = 2^{x} \\cdot \\ln{2}$\"\n",
        "\n",
        "fig.show()"
      ],
      "metadata": {
        "colab": {
          "base_uri": "https://localhost:8080/",
          "height": 295
        },
        "id": "-WYqyHG97wSG",
        "outputId": "132ce366-f25b-41e7-f0a1-6a67f97e38b1"
      },
      "execution_count": 25,
      "outputs": [
        {
          "output_type": "display_data",
          "data": {
            "text/plain": [
              "<Figure size 432x288 with 1 Axes>"
            ],
            "image/png": "[encoded data removed]"
          },
          "metadata": {
            "needs_background": "light"
          }
        }
      ]
    },
    {
      "cell_type": "code",
      "source": [
        "x = sym.symbols('x')\n",
        "f_x = sym.exp(1)**x\n",
        "f_x"
      ],
      "metadata": {
        "colab": {
          "base_uri": "https://localhost:8080/",
          "height": 39
        },
        "id": "Et-sj4wKBbhg",
        "outputId": "f1b1a537-5909-44f2-ce0b-bb64a816dc20"
      },
      "execution_count": 26,
      "outputs": [
        {
          "output_type": "execute_result",
          "data": {
            "text/plain": [
              "exp(x)"
            ],
            "text/latex": "$\\displaystyle e^{x}$"
          },
          "metadata": {},
          "execution_count": 26
        }
      ]
    },
    {
      "cell_type": "code",
      "source": [
        "f_x.diff(x)"
      ],
      "metadata": {
        "colab": {
          "base_uri": "https://localhost:8080/",
          "height": 39
        },
        "id": "6rtUDmKkBlt4",
        "outputId": "f42329da-0e06-4def-f3c1-ca323b8347dc"
      },
      "execution_count": 27,
      "outputs": [
        {
          "output_type": "execute_result",
          "data": {
            "text/plain": [
              "exp(x)"
            ],
            "text/latex": "$\\displaystyle e^{x}$"
          },
          "metadata": {},
          "execution_count": 27
        }
      ]
    },
    {
      "cell_type": "markdown",
      "source": [
        "#### Example\n",
        "\n",
        "$\n",
        "\\begin{align}\n",
        "\\frac{d}{dx}\\left[x^{3} + 3e^{x} + 2^{x} - x^{e} + \\sqrt{2}x + \\sqrt{x}\\right]\n",
        "&= 3x^{2} + 3e^{x} + 2^{x}\\cdot\\ln{2} - ex^{e - 1} + \\sqrt{2} + \\frac{1}{2}x^{-\\frac{1}{2}} \\\\\n",
        "&= 3x^{2} + 3e^{x} + 2^{x}\\cdot\\ln{2} - ex^{e - 1} + \\sqrt{2} + \\frac{1}{2\\sqrt{x}}\n",
        "\\end{align}\n",
        "$"
      ],
      "metadata": {
        "id": "e7rtyeg5CP3P"
      }
    },
    {
      "cell_type": "markdown",
      "source": [
        "#### Euler's Number"
      ],
      "metadata": {
        "id": "0Guai73kFE8G"
      }
    },
    {
      "cell_type": "markdown",
      "source": [
        "$$\n",
        "e = \\lim_{n \\to \\infty}\\left(1 + \\frac{1}{n}\\right)^{n}\n",
        "$$"
      ],
      "metadata": {
        "id": "-5JmkcM6F1Y6"
      }
    },
    {
      "cell_type": "code",
      "source": [
        "sym.symbols('n')\n",
        "\n",
        "f = (1 + 1/n)**n\n",
        "f"
      ],
      "metadata": {
        "colab": {
          "base_uri": "https://localhost:8080/",
          "height": 59
        },
        "id": "53_0vLerF47O",
        "outputId": "3e386759-565c-4623-b525-c09afce3369e"
      },
      "execution_count": 28,
      "outputs": [
        {
          "output_type": "execute_result",
          "data": {
            "text/plain": [
              "(1 + 1/n)**n"
            ],
            "text/latex": "$\\displaystyle \\left(1 + \\frac{1}{n}\\right)^{n}$"
          },
          "metadata": {},
          "execution_count": 28
        }
      ]
    },
    {
      "cell_type": "code",
      "source": [
        "f.limit(n, sym.oo)"
      ],
      "metadata": {
        "colab": {
          "base_uri": "https://localhost:8080/",
          "height": 39
        },
        "id": "zL5Vufm9F_gl",
        "outputId": "125b8b86-1a21-45f8-fe0f-0b1b897ff663"
      },
      "execution_count": 29,
      "outputs": [
        {
          "output_type": "execute_result",
          "data": {
            "text/plain": [
              "E"
            ],
            "text/latex": "$\\displaystyle e$"
          },
          "metadata": {},
          "execution_count": 29
        }
      ]
    },
    {
      "cell_type": "markdown",
      "source": [
        "$$\n",
        "\\lim_{h \\to 0}{\\frac{e^{h} - 1}{h}} = 1\n",
        "$$"
      ],
      "metadata": {
        "id": "WhnqYNv2Geqm"
      }
    },
    {
      "cell_type": "markdown",
      "source": [
        "There is only one base that makes the above true, and that base is $e$. "
      ],
      "metadata": {
        "id": "VxoiXN2SH-FQ"
      }
    },
    {
      "cell_type": "code",
      "source": [
        "h, x = sym.symbols('h x')\n",
        "sym.solveset(sym.limit((x**h - 1)/h, h, 0) - 1, x)"
      ],
      "metadata": {
        "colab": {
          "base_uri": "https://localhost:8080/",
          "height": 39
        },
        "id": "Y3UVGRxtIH8i",
        "outputId": "6b693d7d-ea08-4cfd-ee33-f8ff260b47dc"
      },
      "execution_count": 30,
      "outputs": [
        {
          "output_type": "execute_result",
          "data": {
            "text/plain": [
              "FiniteSet(E)"
            ],
            "text/latex": "$\\displaystyle \\left\\{e\\right\\}$"
          },
          "metadata": {},
          "execution_count": 30
        }
      ]
    },
    {
      "cell_type": "code",
      "source": [
        "h = sym.symbols('h')\n",
        "f = (sym.exp(1)**h - 1)/ h\n",
        "f"
      ],
      "metadata": {
        "colab": {
          "base_uri": "https://localhost:8080/",
          "height": 54
        },
        "id": "Fm9uC2FPG2MZ",
        "outputId": "0483c8b5-85fd-4d28-a3f5-eda4f347abb6"
      },
      "execution_count": 31,
      "outputs": [
        {
          "output_type": "execute_result",
          "data": {
            "text/plain": [
              "(exp(h) - 1)/h"
            ],
            "text/latex": "$\\displaystyle \\frac{e^{h} - 1}{h}$"
          },
          "metadata": {},
          "execution_count": 31
        }
      ]
    },
    {
      "cell_type": "code",
      "source": [
        "f.limit(h, 0)"
      ],
      "metadata": {
        "colab": {
          "base_uri": "https://localhost:8080/",
          "height": 37
        },
        "id": "Sc9Jj3LyG_pg",
        "outputId": "50bede5c-d01b-4029-ffa3-39378a9236fe"
      },
      "execution_count": 32,
      "outputs": [
        {
          "output_type": "execute_result",
          "data": {
            "text/plain": [
              "1"
            ],
            "text/latex": "$\\displaystyle 1$"
          },
          "metadata": {},
          "execution_count": 32
        }
      ]
    }
  ]
}