{
  "nbformat": 4,
  "nbformat_minor": 0,
  "metadata": {
    "colab": {
      "provenance": [],
      "toc_visible": true,
      "authorship_tag": "ABX9TyM5Zq7OKe257QzXSv9F2LQW",
      "include_colab_link": true
    },
    "kernelspec": {
      "name": "python3",
      "display_name": "Python 3"
    },
    "language_info": {
      "name": "python"
    }
  },
  "cells": [
    {
      "cell_type": "markdown",
      "metadata": {
        "id": "view-in-github",
        "colab_type": "text"
      },
      "source": [
        "<a href=\"https://colab.research.google.com/github/PaulToronto/Johns-Hopkins-Coursera-Applied-Calculus-With-Python/blob/main/1_2_1_Trigonometric_Functions.ipynb\" target=\"_parent\"><img src=\"https://colab.research.google.com/assets/colab-badge.svg\" alt=\"Open In Colab\"/></a>"
      ]
    },
    {
      "cell_type": "markdown",
      "source": [
        "# 1.2.1 Trigonometric Functions\n",
        "\n",
        "Equally important are the trigonometric functions, some of the most well-known examples of periodic or cyclic functions. Common phenomena have an oscillatory, or periodic, behavior. This is observed through ocean waves, sound waves, or even the regular beating of your heart. All these phenomena can be modeled using equations based on the familiar sine and cosine functions. In this module, we will see how to apply and construct functions that permit us to model cyclic behavior.\n"
      ],
      "metadata": {
        "id": "E30JaZ7dIxUk"
      }
    },
    {
      "cell_type": "code",
      "source": [
        "import sympy as sym\n",
        "import numpy as np\n",
        "import matplotlib.pyplot as plt\n",
        "from IPython.display import display, Markdown"
      ],
      "metadata": {
        "id": "vpc5G1xtloT0"
      },
      "execution_count": 1,
      "outputs": []
    },
    {
      "cell_type": "markdown",
      "source": [
        "## 1.2.1.1 Sine and Cosine"
      ],
      "metadata": {
        "id": "ry2kgPFRI24a"
      }
    },
    {
      "cell_type": "markdown",
      "source": [
        "### Unit Circle"
      ],
      "metadata": {
        "id": "qqtsmRmxJw_U"
      }
    },
    {
      "cell_type": "code",
      "source": [
        "angles = np.linspace(0, 2 * float(np.pi), 50)\n",
        "x = np.cos(angles)\n",
        "y = np.sin(angles)\n",
        "\n",
        "fig, ax  = plt.subplots()\n",
        "\n",
        "fig.set_size_inches(8, 10)\n",
        "ax.set_aspect(1)\n",
        "ax.axvline(0, color='lightgray')\n",
        "ax.axhline(0, color='lightgray')\n",
        "\n",
        "# Unit Circle\n",
        "ax.plot(x, y, color='dodgerblue', label='Unit Circle')\n",
        "\n",
        "# Cosine and Sine\n",
        "ax.plot(angles, x, color='purple', label='$\\cos{x}$')\n",
        "ax.plot(angles, y, color='green', label='$\\sin{x}$')\n",
        "\n",
        "ax.plot(np.cos(np.pi/4), np.sin(np.pi/4), \n",
        "        color='red', marker='o', markersize=10, \n",
        "        label='$(\\cos{(\\pi/4)}, \\sin{(\\pi/4)})$')\n",
        "ax.plot(np.pi/4, np.cos(np.pi/4), label='$(\\pi/4, \\cos{(\\pi/4)})$',\n",
        "        markeredgecolor='black',\n",
        "        color='navy', marker='o', markersize=10)\n",
        "ax.plot(np.pi/4, np.sin(np.pi/4), label='$(\\pi/4, \\sin{(\\pi/4)})$',\n",
        "        markeredgecolor='black', alpha=0.5,\n",
        "        color='white', marker='o', markersize=10)\n",
        "\n",
        "ax.plot(np.cos(3*np.pi/4), np.sin(3*np.pi/4), \n",
        "        color='lime', marker='o', markersize=10, \n",
        "        label='$(\\cos{(3\\pi/4)}, \\sin{(3\\pi/4)})$')\n",
        "ax.plot(3*np.pi/4, np.cos(3*np.pi/4), label='$(3\\pi/4, \\cos{(3\\pi/4)})$',\n",
        "        markeredgecolor='black',\n",
        "        color='navy', marker='o', markersize=10)\n",
        "ax.plot(3*np.pi/4, np.sin(3*np.pi/4), label='$(3\\pi/4, \\sin{(3\\pi/4)})$',\n",
        "        markeredgecolor='black', alpha=0.5,\n",
        "        color='white', marker='o', markersize=10)\n",
        "\n",
        "ax.plot(np.cos(5*np.pi/4), np.sin(5*np.pi/4), \n",
        "        color='magenta', marker='o', markersize=10, \n",
        "        label='$(\\cos{(5\\pi/4)}, \\sin{(5\\pi/4)})$')\n",
        "ax.plot(5*np.pi/4, np.cos(5*np.pi/4), label='$(5\\pi/4, \\cos{(5\\pi/4)})$',\n",
        "        markeredgecolor='black',\n",
        "        color='navy', marker='o', markersize=10)\n",
        "ax.plot(5*np.pi/4, np.sin(5*np.pi/4), label='$(5\\pi/4, \\sin{(5\\pi/4)})$',\n",
        "        markeredgecolor='black', alpha=0.5,\n",
        "        color='white', marker='o', markersize=10)\n",
        "\n",
        "ax.plot(np.cos(7*np.pi/4), np.sin(7*np.pi/4), \n",
        "        color='orange', marker='o', markersize=10, \n",
        "        label='$(\\cos{(7\\pi/4)}, \\sin{(7\\pi/4)})$')\n",
        "ax.plot(7*np.pi/4, np.cos(7*np.pi/4), label='$(7\\pi/4, \\cos{(7\\pi/4)})$',\n",
        "        markeredgecolor='black',\n",
        "        color='navy', marker='o', markersize=10)\n",
        "ax.plot(7*np.pi/4, np.sin(7*np.pi/4), label='$(7\\pi/4, \\sin{(7\\pi/4)})$',\n",
        "        markeredgecolor='black', alpha=0.5,\n",
        "        color='white', marker='o', markersize=10)\n",
        "\n",
        "points = np.array([i * sym.pi/4 for i in range(0, 9)])\n",
        "labels= ['$' + sym.latex(i * sym.pi/4) + '$' for i in range(0, 9)]\n",
        "\n",
        "ax.set_xticks(points)\n",
        "ax.set_xticklabels(labels)\n",
        "ax.grid()\n",
        "\n",
        "fig.legend()\n",
        "fig.show()"
      ],
      "metadata": {
        "colab": {
          "base_uri": "https://localhost:8080/",
          "height": 471
        },
        "id": "ogsCVslwlj6q",
        "outputId": "ea4b5353-372e-4194-8636-998adca9c989"
      },
      "execution_count": 2,
      "outputs": [
        {
          "output_type": "display_data",
          "data": {
            "text/plain": [
              "<Figure size 576x720 with 1 Axes>"
            ],
            "image/png": "[encoded data removed]"
          },
          "metadata": {
            "needs_background": "light"
          }
        }
      ]
    },
    {
      "cell_type": "markdown",
      "source": [
        "If the circle is not a unit circle with radius, $r$, then points on the circle are $\\left(x, y\\right) = \\left(r\\cos{\\theta}, r\\sin{\\theta}\\right)$"
      ],
      "metadata": {
        "id": "ySezNq51tXoY"
      }
    },
    {
      "cell_type": "markdown",
      "source": [
        "### Important Trigonometric Identity"
      ],
      "metadata": {
        "id": "3GS988LpsvXS"
      }
    },
    {
      "cell_type": "markdown",
      "source": [
        "$$\n",
        "\\begin{align}\n",
        "\\left(r\\cos{\\theta}\\right)^{2} + \\left(r\\sin{\\theta}\\right)^{2} &= r^{2} \\\\\n",
        "r^{2}\\cos^{2}{\\theta} + r^2\\sin^{2}{\\theta} &= r^{2} \\\\\n",
        "\\cos^{2}{\\theta} + \\sin^{2}{\\theta} &= 1\n",
        "\\end{align}\n",
        "$$"
      ],
      "metadata": {
        "id": "7cfozW7ftEIH"
      }
    },
    {
      "cell_type": "markdown",
      "source": [
        "### Example\n",
        "\n",
        "Find $\\cos{\\theta}$ if $\\sin{\\theta} = \\frac{3}{5}$ and $\\theta$ is in Quadrant II. "
      ],
      "metadata": {
        "id": "pUBlpIxgvyF1"
      }
    },
    {
      "cell_type": "markdown",
      "source": [
        "$\n",
        "\\begin{align}\n",
        "\\cos^{2}{\\theta} + \\sin^{2}{\\theta} &= 1 \\\\\n",
        "\\cos^{2}{\\theta} + \\left(\\frac{3}{5}\\right)^{2} &= 1 \\\\\n",
        "\\cos^{2}{\\theta} + \\frac{9}{25} &= 1 \\\\\n",
        "\\cos^{2}{\\theta} &= \\frac{16}{25} \\\\\n",
        "\\cos{\\theta} &= \\pm\\frac{4}{5}\n",
        "\\end{align}\n",
        "$\n",
        "\n",
        "Cosine is negative in Quadrant II.\n",
        "\n",
        "$\n",
        "\\therefore \\cos{\\theta} = -\\frac{4}{5}\n",
        "$"
      ],
      "metadata": {
        "id": "w3zlcLl0xZIh"
      }
    },
    {
      "cell_type": "markdown",
      "source": [
        "### $f(x) = \\sin{x}$"
      ],
      "metadata": {
        "id": "eZKhG72g8FW8"
      }
    },
    {
      "cell_type": "code",
      "source": [
        "x = np.linspace(0, 2 * np.pi, 100)\n",
        "y = np.sin(x)\n",
        "\n",
        "plt.axvline(0, color='dodgerblue')\n",
        "plt.axhline(0, color='dodgerblue')\n",
        "\n",
        "points = np.array([i * sym.pi/4 for i in range(0, 9)])\n",
        "labels = ['$' + sym.latex(i * sym.pi/4) + '$' for i in range(0, 9)]\n",
        "\n",
        "plt.xticks(points, labels)\n",
        "plt.plot(x, y, color='red')\n",
        "plt.title('$f(x) = \\sin{(x)}$')\n",
        "plt.grid()\n",
        "\n",
        "plt.show()"
      ],
      "metadata": {
        "colab": {
          "base_uri": "https://localhost:8080/",
          "height": 292
        },
        "id": "4KXXvtX88LaZ",
        "outputId": "ec2a58b2-644d-4fb3-fedf-cf2933e2fc48"
      },
      "execution_count": 3,
      "outputs": [
        {
          "output_type": "display_data",
          "data": {
            "text/plain": [
              "<Figure size 432x288 with 1 Axes>"
            ],
            "image/png": "[encoded data removed]"
          },
          "metadata": {
            "needs_background": "light"
          }
        }
      ]
    },
    {
      "cell_type": "code",
      "source": [
        "from math import isnan\n",
        "\n",
        "x = sym.symbols('x')\n",
        "\n",
        "f = sym.sin(x)\n",
        "\n",
        "the_domain = sym.calculus.util.continuous_domain(f, x, sym.S.Reals)\n",
        "\n",
        "try:\n",
        "    the_range = sym.calculus.util.function_range(f, x, sym.S.Reals)\n",
        "except NotImplementedError:\n",
        "    the_range = 'Not found'\n",
        "\n",
        "x_intercepts = sym.solveset(f)\n",
        "\n",
        "y_intercept = None if isnan(f.subs(x, 0)) else '(0, ' + str(f.subs(x, 0)) + ')'"
      ],
      "metadata": {
        "id": "XWtK99-P9_Sn"
      },
      "execution_count": 4,
      "outputs": []
    },
    {
      "cell_type": "code",
      "source": [
        "the_domain"
      ],
      "metadata": {
        "colab": {
          "base_uri": "https://localhost:8080/",
          "height": 38
        },
        "id": "WqOEpmQb_ARn",
        "outputId": "fa8ccf55-fb56-4555-9604-44f161a23947"
      },
      "execution_count": 5,
      "outputs": [
        {
          "output_type": "execute_result",
          "data": {
            "text/plain": [
              "Reals"
            ],
            "text/latex": "$\\displaystyle \\mathbb{R}$"
          },
          "metadata": {},
          "execution_count": 5
        }
      ]
    },
    {
      "cell_type": "code",
      "source": [
        "the_range"
      ],
      "metadata": {
        "colab": {
          "base_uri": "https://localhost:8080/",
          "height": 37
        },
        "id": "2ikOOEUQ_Cwr",
        "outputId": "6a58bf29-0da5-4be4-cb4c-16d3b07ca6b8"
      },
      "execution_count": 6,
      "outputs": [
        {
          "output_type": "execute_result",
          "data": {
            "text/plain": [
              "Interval(-1, 1)"
            ],
            "text/latex": "$\\displaystyle \\left[-1, 1\\right]$"
          },
          "metadata": {},
          "execution_count": 6
        }
      ]
    },
    {
      "cell_type": "code",
      "source": [
        "x_intercepts"
      ],
      "metadata": {
        "colab": {
          "base_uri": "https://localhost:8080/",
          "height": 39
        },
        "id": "YM_KiZGx_Erj",
        "outputId": "a50b88c5-ce62-47b5-920b-5c5faf488342"
      },
      "execution_count": 7,
      "outputs": [
        {
          "output_type": "execute_result",
          "data": {
            "text/plain": [
              "Union(ImageSet(Lambda(_n, 2*_n*pi + pi), Integers), ImageSet(Lambda(_n, 2*_n*pi), Integers))"
            ],
            "text/latex": "$\\displaystyle \\left\\{2 n \\pi\\; |\\; n \\in \\mathbb{Z}\\right\\} \\cup \\left\\{2 n \\pi + \\pi\\; |\\; n \\in \\mathbb{Z}\\right\\}$"
          },
          "metadata": {},
          "execution_count": 7
        }
      ]
    },
    {
      "cell_type": "code",
      "source": [
        "y_intercept"
      ],
      "metadata": {
        "colab": {
          "base_uri": "https://localhost:8080/",
          "height": 36
        },
        "id": "glI6-dk0_H6l",
        "outputId": "f123781a-b25b-4e2c-d0a0-b1510efe2990"
      },
      "execution_count": 8,
      "outputs": [
        {
          "output_type": "execute_result",
          "data": {
            "text/plain": [
              "'(0, 0)'"
            ],
            "application/vnd.google.colaboratory.intrinsic+json": {
              "type": "string"
            }
          },
          "metadata": {},
          "execution_count": 8
        }
      ]
    },
    {
      "cell_type": "markdown",
      "source": [
        "What is the end behaviour of $f(x) = \\sin{x}$? \n",
        "\n",
        "$\\lim_{x \\to \\infty} \\sin{x}$ does not exist.\n",
        "\n",
        "$\\lim_{x \\to -\\infty} \\sin{x}$ does not exist.\n",
        "\n",
        "The function **oscillates** between $-1$ and $1$. \n"
      ],
      "metadata": {
        "id": "Z9QxS-oWBCs0"
      }
    },
    {
      "cell_type": "markdown",
      "source": [
        "### $f(x) = \\cos{x}$"
      ],
      "metadata": {
        "id": "7C2AFNasB8Xh"
      }
    },
    {
      "cell_type": "code",
      "source": [
        "x = np.linspace(0, 2 * np.pi, 100)\n",
        "y = np.cos(x)\n",
        "\n",
        "plt.axvline(0, color='dodgerblue')\n",
        "plt.axhline(0, color='dodgerblue')\n",
        "\n",
        "points = np.array([i * sym.pi/4 for i in range(0, 9)])\n",
        "labels = ['$' + sym.latex(i * sym.pi/4) + '$' for i in range(0, 9)]\n",
        "\n",
        "plt.xticks(points, labels)\n",
        "plt.plot(x, y, color='red')\n",
        "plt.title('$f(x) = \\cos{(x)}$')\n",
        "plt.grid()\n",
        "\n",
        "plt.show()"
      ],
      "metadata": {
        "colab": {
          "base_uri": "https://localhost:8080/",
          "height": 292
        },
        "id": "3nmLh3eIB7KO",
        "outputId": "3ddca4c3-244f-4605-88ac-fb0a5b36cc3b"
      },
      "execution_count": 9,
      "outputs": [
        {
          "output_type": "display_data",
          "data": {
            "text/plain": [
              "<Figure size 432x288 with 1 Axes>"
            ],
            "image/png": "[encoded data removed]"
          },
          "metadata": {
            "needs_background": "light"
          }
        }
      ]
    },
    {
      "cell_type": "code",
      "source": [
        "x = sym.symbols('x')\n",
        "\n",
        "f = sym.cos(x)\n",
        "\n",
        "the_domain = sym.calculus.util.continuous_domain(f, x, sym.S.Reals)\n",
        "\n",
        "try:\n",
        "    the_range = sym.calculus.util.function_range(f, x, sym.S.Reals)\n",
        "except NotImplementedError:\n",
        "    the_range = 'Not found'\n",
        "\n",
        "x_intercepts = sym.solveset(f)\n",
        "\n",
        "y_intercept = None if isnan(f.subs(x, 0)) else '(0, ' + str(f.subs(x, 0)) + ')'"
      ],
      "metadata": {
        "id": "shBUcnMlCMk5"
      },
      "execution_count": 10,
      "outputs": []
    },
    {
      "cell_type": "code",
      "source": [
        "the_domain"
      ],
      "metadata": {
        "colab": {
          "base_uri": "https://localhost:8080/",
          "height": 38
        },
        "id": "Mc4XsG-6COHG",
        "outputId": "9ecfcfd2-e802-4ae0-d073-48af892d9adf"
      },
      "execution_count": 11,
      "outputs": [
        {
          "output_type": "execute_result",
          "data": {
            "text/plain": [
              "Reals"
            ],
            "text/latex": "$\\displaystyle \\mathbb{R}$"
          },
          "metadata": {},
          "execution_count": 11
        }
      ]
    },
    {
      "cell_type": "code",
      "source": [
        "the_range"
      ],
      "metadata": {
        "colab": {
          "base_uri": "https://localhost:8080/",
          "height": 37
        },
        "id": "F2XhDInJCU6p",
        "outputId": "80871870-a505-44dd-bb03-27d99f466adf"
      },
      "execution_count": 12,
      "outputs": [
        {
          "output_type": "execute_result",
          "data": {
            "text/plain": [
              "Interval(-1, 1)"
            ],
            "text/latex": "$\\displaystyle \\left[-1, 1\\right]$"
          },
          "metadata": {},
          "execution_count": 12
        }
      ]
    },
    {
      "cell_type": "code",
      "source": [
        "x_intercepts"
      ],
      "metadata": {
        "colab": {
          "base_uri": "https://localhost:8080/",
          "height": 58
        },
        "id": "fK0j2sKtCZTy",
        "outputId": "c524c066-5624-4ea6-a573-f5d67da0c733"
      },
      "execution_count": 13,
      "outputs": [
        {
          "output_type": "execute_result",
          "data": {
            "text/plain": [
              "Union(ImageSet(Lambda(_n, 2*_n*pi + pi/2), Integers), ImageSet(Lambda(_n, 2*_n*pi + 3*pi/2), Integers))"
            ],
            "text/latex": "$\\displaystyle \\left\\{2 n \\pi + \\frac{\\pi}{2}\\; |\\; n \\in \\mathbb{Z}\\right\\} \\cup \\left\\{2 n \\pi + \\frac{3 \\pi}{2}\\; |\\; n \\in \\mathbb{Z}\\right\\}$"
          },
          "metadata": {},
          "execution_count": 13
        }
      ]
    },
    {
      "cell_type": "code",
      "source": [
        "y_intercept"
      ],
      "metadata": {
        "colab": {
          "base_uri": "https://localhost:8080/",
          "height": 36
        },
        "id": "hkkTigJDCqdo",
        "outputId": "ccbe884f-d1bb-445f-d6da-b2a966239606"
      },
      "execution_count": 14,
      "outputs": [
        {
          "output_type": "execute_result",
          "data": {
            "text/plain": [
              "'(0, 1)'"
            ],
            "application/vnd.google.colaboratory.intrinsic+json": {
              "type": "string"
            }
          },
          "metadata": {},
          "execution_count": 14
        }
      ]
    },
    {
      "cell_type": "markdown",
      "source": [
        "What is the end behaviour of $f(x) = \\cos{x}$? \n",
        "\n",
        "$\\lim_{x \\to \\infty} \\cos{x}$ does not exist.\n",
        "\n",
        "$\\lim_{x \\to -\\infty} \\cos{x}$ does not exist.\n",
        "\n",
        "The function **oscillates** between $-1$ and $1$. "
      ],
      "metadata": {
        "id": "utVyRkPyCz8g"
      }
    },
    {
      "cell_type": "markdown",
      "source": [
        "### Bounded Functions\n",
        "\n",
        "A function that has both an **upper bound** and a **lower bound** is called a **bounded function**\n",
        "\n",
        "$\\sin{x}$ and $\\cos{x}$ are both bounded functions. \n",
        "\n",
        "$-1 \\le \\sin{x} \\le 1$\n",
        "\n",
        "$-1 \\le \\cos{x} \\le 1$\n"
      ],
      "metadata": {
        "id": "8uncdu7cGW0i"
      }
    },
    {
      "cell_type": "markdown",
      "source": [
        "### Symmetry\n",
        "\n",
        "The cosine function has y-axis symmetry. It is an **even** function. Imagine folding it at the y-axis.\n",
        "\n",
        "$\\cos{\\left(x\\right)} = \\cos{\\left(-x\\right)}$\n",
        "\n",
        "The sine function has origin symmetry. It is an **odd** function. Imagine rotating it 180 degrees. \n",
        "\n",
        "$\\sin{\\left(-x\\right)} = -\\sin{\\left(x\\right)}$\n"
      ],
      "metadata": {
        "id": "8B49fzqhH-5z"
      }
    },
    {
      "cell_type": "markdown",
      "source": [
        "## 1.2.1.2 Tangent, Cotangent, Secant, Cosecant"
      ],
      "metadata": {
        "id": "ab7frjhTLkz9"
      }
    },
    {
      "cell_type": "markdown",
      "source": [
        "### $f(x) = \\tan{x}$"
      ],
      "metadata": {
        "id": "R7mPGN4hantW"
      }
    },
    {
      "cell_type": "markdown",
      "source": [
        "$$\n",
        "\\tan{x} = \\frac{\\sin{x}}{\\cos{x}}\n",
        "$$"
      ],
      "metadata": {
        "id": "H4A6GYKIrNTD"
      }
    },
    {
      "cell_type": "code",
      "source": [
        "x = sym.symbols('x')\n",
        "\n",
        "expr = sym.sin(x) / sym.cos(x)\n",
        "expr"
      ],
      "metadata": {
        "colab": {
          "base_uri": "https://localhost:8080/",
          "height": 57
        },
        "id": "4SDHvCt3kSTO",
        "outputId": "f0cf42b7-a2f5-4013-980d-3dfd0432bdf7"
      },
      "execution_count": 15,
      "outputs": [
        {
          "output_type": "execute_result",
          "data": {
            "text/plain": [
              "sin(x)/cos(x)"
            ],
            "text/latex": "$\\displaystyle \\frac{\\sin{\\left(x \\right)}}{\\cos{\\left(x \\right)}}$"
          },
          "metadata": {},
          "execution_count": 15
        }
      ]
    },
    {
      "cell_type": "code",
      "source": [
        "expr.simplify()"
      ],
      "metadata": {
        "colab": {
          "base_uri": "https://localhost:8080/",
          "height": 39
        },
        "id": "4b9-x-4Ak0o3",
        "outputId": "12fa23c1-6b56-44fc-f9a3-93dd2329297d"
      },
      "execution_count": 16,
      "outputs": [
        {
          "output_type": "execute_result",
          "data": {
            "text/plain": [
              "tan(x)"
            ],
            "text/latex": "$\\displaystyle \\tan{\\left(x \\right)}$"
          },
          "metadata": {},
          "execution_count": 16
        }
      ]
    },
    {
      "cell_type": "code",
      "source": [
        "x = np.linspace(0, 2 * np.pi, 1000)\n",
        "y = np.tan(x)\n",
        "\n",
        "# to get rid of the connecting lines between asymptotes\n",
        "#   inserts NaN where the difference between\n",
        "#   successive points is negative\n",
        "y[:-1][np.diff(y) < 0] = np.nan\n",
        "\n",
        "plt.axvline(0, color='dodgerblue')\n",
        "plt.axhline(0, color='dodgerblue')\n",
        "\n",
        "points = np.array([i * sym.pi/4 for i in range(0, 9)])\n",
        "labels = ['$' + sym.latex(i * sym.pi/4) + '$' for i in range(0, 9)]\n",
        "\n",
        "plt.xticks(points, labels)\n",
        "\n",
        "plt.gca().set_ylim([-10, 10])\n",
        "plt.plot(x, y, color='red')\n",
        "plt.title('$f(x) = \\\\tan{(x)}$')\n",
        "plt.grid()\n",
        "\n",
        "plt.show()"
      ],
      "metadata": {
        "colab": {
          "base_uri": "https://localhost:8080/",
          "height": 292
        },
        "id": "TYaicYRsa8_K",
        "outputId": "dbc6c61a-f202-4432-cd9e-2ec917f7b19e"
      },
      "execution_count": 17,
      "outputs": [
        {
          "output_type": "display_data",
          "data": {
            "text/plain": [
              "<Figure size 432x288 with 1 Axes>"
            ],
            "image/png": "[encoded data removed]"
          },
          "metadata": {
            "needs_background": "light"
          }
        }
      ]
    },
    {
      "cell_type": "markdown",
      "source": [
        "### $f(x) = \\csc{x}$"
      ],
      "metadata": {
        "id": "9_3lWQqftCRS"
      }
    },
    {
      "cell_type": "markdown",
      "source": [
        "$$\n",
        "\\csc{x} = \\frac{1}{\\sin{x}}\n",
        "$$"
      ],
      "metadata": {
        "id": "hSqpAwZptV8R"
      }
    },
    {
      "cell_type": "code",
      "source": [
        "x = sym.symbols('x')\n",
        "\n",
        "expr = 1 / sym.sin(x)\n",
        "expr"
      ],
      "metadata": {
        "colab": {
          "base_uri": "https://localhost:8080/",
          "height": 55
        },
        "id": "I8KUqJGftefi",
        "outputId": "89f731fa-3d15-4dec-f904-ba72176019ab"
      },
      "execution_count": 18,
      "outputs": [
        {
          "output_type": "execute_result",
          "data": {
            "text/plain": [
              "1/sin(x)"
            ],
            "text/latex": "$\\displaystyle \\frac{1}{\\sin{\\left(x \\right)}}$"
          },
          "metadata": {},
          "execution_count": 18
        }
      ]
    },
    {
      "cell_type": "code",
      "source": [
        "expr.simplify()"
      ],
      "metadata": {
        "colab": {
          "base_uri": "https://localhost:8080/",
          "height": 55
        },
        "id": "k1OZ5NaztqKm",
        "outputId": "a5fb9d65-aa10-45ae-e201-44db04a01e58"
      },
      "execution_count": 19,
      "outputs": [
        {
          "output_type": "execute_result",
          "data": {
            "text/plain": [
              "1/sin(x)"
            ],
            "text/latex": "$\\displaystyle \\frac{1}{\\sin{\\left(x \\right)}}$"
          },
          "metadata": {},
          "execution_count": 19
        }
      ]
    },
    {
      "cell_type": "code",
      "source": [
        "sym.csc(x).equals(expr)"
      ],
      "metadata": {
        "colab": {
          "base_uri": "https://localhost:8080/"
        },
        "id": "ln-ezdYktsPP",
        "outputId": "a26030ac-7092-402c-e27b-c4245101cbae"
      },
      "execution_count": 20,
      "outputs": [
        {
          "output_type": "execute_result",
          "data": {
            "text/plain": [
              "True"
            ]
          },
          "metadata": {},
          "execution_count": 20
        }
      ]
    },
    {
      "cell_type": "code",
      "source": [
        "x = np.linspace(0, 2 * np.pi, 1000)\n",
        "#y = 1 / np.sin(x)\n",
        "y = np.array([sym.csc(n) for n in x])\n",
        "\n",
        "# to get rid of the connecting lines between asymptotes\n",
        "#   inserts NaN where the absolute value \n",
        "#   of the difference between successive points \n",
        "#   is greater than 1. \n",
        "# this is a modification of the strategy\n",
        "#     used above for plotting tan(x)\n",
        "y[:-1][np.abs(np.diff(y)) > 1] = np.nan\n",
        "\n",
        "plt.axvline(0, color='dodgerblue')\n",
        "plt.axhline(0, color='dodgerblue')\n",
        "\n",
        "points = np.array([i * sym.pi/4 for i in range(0, 9)])\n",
        "labels = ['$' + sym.latex(i * sym.pi/4) + '$' for i in range(0, 9)]\n",
        "\n",
        "plt.xticks(points, labels)\n",
        "\n",
        "plt.gca().set_ylim([-5, 5])\n",
        "plt.plot(x, y, color='red', label='$\\csc{(x)}$')\n",
        "plt.plot(x, np.sin(x), color='lightgray', label='$\\sin{(x)}$')\n",
        "plt.title('$f(x) = \\csc{(x)}$')\n",
        "plt.grid()\n",
        "\n",
        "plt.legend()\n",
        "\n",
        "plt.show()"
      ],
      "metadata": {
        "colab": {
          "base_uri": "https://localhost:8080/",
          "height": 292
        },
        "id": "q0iy5NRrxx4w",
        "outputId": "d0ddc838-d8e8-49c3-d092-59da0620d2bc"
      },
      "execution_count": 21,
      "outputs": [
        {
          "output_type": "display_data",
          "data": {
            "text/plain": [
              "<Figure size 432x288 with 1 Axes>"
            ],
            "image/png": "[encoded data removed]"
          },
          "metadata": {
            "needs_background": "light"
          }
        }
      ]
    },
    {
      "cell_type": "markdown",
      "source": [
        "### $f(x) = \\sec{x}$"
      ],
      "metadata": {
        "id": "qbfe2XJJl-I0"
      }
    },
    {
      "cell_type": "markdown",
      "source": [
        "$$\n",
        "\\sec{x} = \\frac{1}{\\cos{x}}\n",
        "$$"
      ],
      "metadata": {
        "id": "Hnuih37MzjZJ"
      }
    },
    {
      "cell_type": "code",
      "source": [
        "x = sym.symbols('x')\n",
        "\n",
        "expr = 1 / sym.cos(x)\n",
        "expr"
      ],
      "metadata": {
        "colab": {
          "base_uri": "https://localhost:8080/",
          "height": 55
        },
        "id": "jDoxlBthzvdM",
        "outputId": "74bff7cc-be2b-462d-e27c-ce0a30c8c158"
      },
      "execution_count": 22,
      "outputs": [
        {
          "output_type": "execute_result",
          "data": {
            "text/plain": [
              "1/cos(x)"
            ],
            "text/latex": "$\\displaystyle \\frac{1}{\\cos{\\left(x \\right)}}$"
          },
          "metadata": {},
          "execution_count": 22
        }
      ]
    },
    {
      "cell_type": "code",
      "source": [
        "expr.simplify()"
      ],
      "metadata": {
        "colab": {
          "base_uri": "https://localhost:8080/",
          "height": 55
        },
        "id": "6EIy4hQDz4eo",
        "outputId": "be9160d7-d8f5-4792-a498-0ba51b250278"
      },
      "execution_count": 23,
      "outputs": [
        {
          "output_type": "execute_result",
          "data": {
            "text/plain": [
              "1/cos(x)"
            ],
            "text/latex": "$\\displaystyle \\frac{1}{\\cos{\\left(x \\right)}}$"
          },
          "metadata": {},
          "execution_count": 23
        }
      ]
    },
    {
      "cell_type": "code",
      "source": [
        "sym.sec(x).equals(expr)"
      ],
      "metadata": {
        "colab": {
          "base_uri": "https://localhost:8080/"
        },
        "id": "bk9Nd3gpz66B",
        "outputId": "f297f55e-f1b7-47c0-c3c4-57bc8ebab437"
      },
      "execution_count": 24,
      "outputs": [
        {
          "output_type": "execute_result",
          "data": {
            "text/plain": [
              "True"
            ]
          },
          "metadata": {},
          "execution_count": 24
        }
      ]
    },
    {
      "cell_type": "code",
      "source": [
        "x = np.linspace(0, 2 * np.pi, 1000)\n",
        "#y = 1 / np.cos(x)\n",
        "y = np.array([sym.sec(n) for n in x])\n",
        "\n",
        "# to get rid of the connecting lines between asymptotes\n",
        "#   inserts NaN where the absolute value \n",
        "#   of the difference between successive points \n",
        "#   is greater than 1. \n",
        "# this is a modification of the strategy\n",
        "#     used above for plotting tan(x)\n",
        "y[:-1][np.abs(np.diff(y)) > 1] = np.nan\n",
        "\n",
        "plt.axvline(0, color='dodgerblue')\n",
        "plt.axhline(0, color='dodgerblue')\n",
        "\n",
        "points = np.array([i * sym.pi/4 for i in range(0, 9)])\n",
        "labels = ['$' + sym.latex(i * sym.pi/4) + '$' for i in range(0, 9)]\n",
        "plt.xticks(points, labels)\n",
        "\n",
        "plt.gca().set_ylim([-5, 5])\n",
        "plt.plot(x, y, color='red', label='$\\sec{(x)}$')\n",
        "plt.plot(x, np.cos(x), color='lightgray', label='$\\cos{(x)}$')\n",
        "plt.title('$f(x) = \\sec{(x)}$')\n",
        "plt.grid()\n",
        "\n",
        "plt.legend()\n",
        "\n",
        "plt.show()"
      ],
      "metadata": {
        "colab": {
          "base_uri": "https://localhost:8080/",
          "height": 292
        },
        "id": "mDb5iZVomGJ1",
        "outputId": "4ad88aa4-e7e9-4029-f9fc-d3f11c965404"
      },
      "execution_count": 25,
      "outputs": [
        {
          "output_type": "display_data",
          "data": {
            "text/plain": [
              "<Figure size 432x288 with 1 Axes>"
            ],
            "image/png": "[encoded data removed]"
          },
          "metadata": {
            "needs_background": "light"
          }
        }
      ]
    },
    {
      "cell_type": "markdown",
      "source": [
        "### $f(x) = \\cot{x}$"
      ],
      "metadata": {
        "id": "J4mlySIq05H-"
      }
    },
    {
      "cell_type": "markdown",
      "source": [
        "$$\n",
        "\\cot{x} = \\frac{1}{\\tan{x}} = \\frac{\\cos{x}}{\\sin{x}}\n",
        "$$"
      ],
      "metadata": {
        "id": "N1yJYguk0-AF"
      }
    },
    {
      "cell_type": "code",
      "source": [
        "x = sym.symbols('x')\n",
        "\n",
        "expr1 = sym.cot(x)\n",
        "expr1"
      ],
      "metadata": {
        "colab": {
          "base_uri": "https://localhost:8080/",
          "height": 39
        },
        "id": "cIvdpCV01MN2",
        "outputId": "a5252525-5f0b-4479-e3a6-2a902730f122"
      },
      "execution_count": 26,
      "outputs": [
        {
          "output_type": "execute_result",
          "data": {
            "text/plain": [
              "cot(x)"
            ],
            "text/latex": "$\\displaystyle \\cot{\\left(x \\right)}$"
          },
          "metadata": {},
          "execution_count": 26
        }
      ]
    },
    {
      "cell_type": "code",
      "source": [
        "expr2 = 1 / sym.tan(x)\n",
        "expr2"
      ],
      "metadata": {
        "colab": {
          "base_uri": "https://localhost:8080/",
          "height": 55
        },
        "id": "qeoqcEwX1aRS",
        "outputId": "604f648c-f6fa-47e7-ae5a-103a2162e602"
      },
      "execution_count": 27,
      "outputs": [
        {
          "output_type": "execute_result",
          "data": {
            "text/plain": [
              "1/tan(x)"
            ],
            "text/latex": "$\\displaystyle \\frac{1}{\\tan{\\left(x \\right)}}$"
          },
          "metadata": {},
          "execution_count": 27
        }
      ]
    },
    {
      "cell_type": "code",
      "source": [
        "expr3 = sym.cos(x) / sym.sin(x)\n",
        "expr3"
      ],
      "metadata": {
        "colab": {
          "base_uri": "https://localhost:8080/",
          "height": 57
        },
        "id": "0e1jKF_A1spP",
        "outputId": "a942584e-dc10-425d-b769-c8fd605f78fe"
      },
      "execution_count": 28,
      "outputs": [
        {
          "output_type": "execute_result",
          "data": {
            "text/plain": [
              "cos(x)/sin(x)"
            ],
            "text/latex": "$\\displaystyle \\frac{\\cos{\\left(x \\right)}}{\\sin{\\left(x \\right)}}$"
          },
          "metadata": {},
          "execution_count": 28
        }
      ]
    },
    {
      "cell_type": "code",
      "source": [
        "expr3.simplify()"
      ],
      "metadata": {
        "colab": {
          "base_uri": "https://localhost:8080/",
          "height": 55
        },
        "id": "EbkGZvV811XN",
        "outputId": "c20325be-20cc-4df3-dd80-d938537432ae"
      },
      "execution_count": 29,
      "outputs": [
        {
          "output_type": "execute_result",
          "data": {
            "text/plain": [
              "1/tan(x)"
            ],
            "text/latex": "$\\displaystyle \\frac{1}{\\tan{\\left(x \\right)}}$"
          },
          "metadata": {},
          "execution_count": 29
        }
      ]
    },
    {
      "cell_type": "code",
      "source": [
        "expr1.equals(expr2), expr1.equals(expr3), expr2.equals(expr3)"
      ],
      "metadata": {
        "colab": {
          "base_uri": "https://localhost:8080/"
        },
        "id": "vyeExV5613p_",
        "outputId": "768938eb-3906-45d1-f5a5-35ced65fece4"
      },
      "execution_count": 30,
      "outputs": [
        {
          "output_type": "execute_result",
          "data": {
            "text/plain": [
              "(True, True, True)"
            ]
          },
          "metadata": {},
          "execution_count": 30
        }
      ]
    },
    {
      "cell_type": "code",
      "source": [
        "x = np.linspace(0, 2 * np.pi, 1000)\n",
        "#y = 1 / np.tan(x)\n",
        "y = np.array([sym.cot(n) for n in x])\n",
        "\n",
        "# to get rid of the connecting lines between asymptotes\n",
        "#   inserts NaN where the absolute value \n",
        "#   of the difference between successive points \n",
        "#   is greater than 1. \n",
        "# this is a modification of the strategy\n",
        "#     used above for plotting tan(x)\n",
        "y[:-1][np.abs(np.diff(y)) > 1] = np.nan\n",
        "\n",
        "plt.axvline(0, color='dodgerblue')\n",
        "plt.axhline(0, color='dodgerblue')\n",
        "\n",
        "points = np.array([i * sym.pi/4 for i in range(0, 9)])\n",
        "labels = ['$' + sym.latex(i * sym.pi/4) + '$' for i in range(0, 9)]\n",
        "plt.xticks(points, labels)\n",
        "\n",
        "plt.gca().set_ylim([-5, 5])\n",
        "plt.plot(x, y, color='red', label='$\\cot{(x)}$')\n",
        "plt.plot(x, np.tan(x), color='lightgray', label='$\\\\tan{(x)}$')\n",
        "plt.title('$f(x) = \\cot{(x)}$')\n",
        "plt.grid()\n",
        "\n",
        "plt.legend()\n",
        "\n",
        "plt.show()"
      ],
      "metadata": {
        "colab": {
          "base_uri": "https://localhost:8080/",
          "height": 292
        },
        "id": "r2JkDpEI4GSH",
        "outputId": "55f93783-edb4-46c6-e400-cd4475d7c526"
      },
      "execution_count": 31,
      "outputs": [
        {
          "output_type": "display_data",
          "data": {
            "text/plain": [
              "<Figure size 432x288 with 1 Axes>"
            ],
            "image/png": "[encoded data removed]"
          },
          "metadata": {
            "needs_background": "light"
          }
        }
      ]
    },
    {
      "cell_type": "markdown",
      "source": [
        "### Domain, Range, x-intercepts and y-intercept"
      ],
      "metadata": {
        "id": "U5QXoyS3uR96"
      }
    },
    {
      "cell_type": "code",
      "source": [
        "x = sym.symbols('x')\n",
        "trig_functions = dict.fromkeys([sym.sin(x), sym.cos(x), sym.tan(x),\n",
        "                                sym.csc(x), sym.sec(x), sym.cot(x)])\n",
        "for key in trig_functions.keys():\n",
        "    trig_functions[key] = {'domain':\n",
        "                           sym.calculus.util.continuous_domain(key, \n",
        "                                                                x, \n",
        "                                                                sym.S.Reals), \n",
        "                           'range':\n",
        "                           sym.calculus.util.function_range(key, \n",
        "                                                            x, \n",
        "                                                            sym.S.Reals), \n",
        "                           'x-intercepts': sym.solveset(key),\n",
        "                           'y-intercept': '(0, ' + str(key.subs(x, 0)) + ')'\n",
        "                                         if key.subs(x, 0).is_real\n",
        "                                         else None}"
      ],
      "metadata": {
        "id": "5EVHwLAHuT3X"
      },
      "execution_count": 32,
      "outputs": []
    },
    {
      "cell_type": "code",
      "source": [
        "for key in trig_functions.keys():\n",
        "    display(Markdown(\n",
        "        '$' + sym.latex(key) + '$' + \n",
        "        '<br>&nbsp;&nbsp;&nbsp;&nbsp;' + 'Domain: ' + \n",
        "        '$' + sym.latex(trig_functions[key][\"domain\"]) + '$' + \n",
        "        '<br>&nbsp;&nbsp;&nbsp;&nbsp;' + 'Range: ' + \n",
        "        '$' + sym.latex(trig_functions[key][\"range\"]) + '$' + \n",
        "        '<br>&nbsp;&nbsp;&nbsp;&nbsp;' + 'x-intercepts : ' +\n",
        "        '$' + sym.latex(trig_functions[key][\"x-intercepts\"]) + '$' + \n",
        "        '<br>&nbsp;&nbsp;&nbsp;&nbsp;' + 'y-intercept : ' + \n",
        "        '$' + sym.latex(trig_functions[key][\"y-intercept\"]) + '$' + '<br><br>'\n",
        "        )\n",
        "    )"
      ],
      "metadata": {
        "colab": {
          "base_uri": "https://localhost:8080/",
          "height": 791
        },
        "id": "wM1cNcz7uaej",
        "outputId": "e12e1083-ddf2-4321-9469-395deeb3f25a"
      },
      "execution_count": 33,
      "outputs": [
        {
          "output_type": "display_data",
          "data": {
            "text/plain": [
              "<IPython.core.display.Markdown object>"
            ],
            "text/markdown": "$\\sin{\\left(x \\right)}$<br>&nbsp;&nbsp;&nbsp;&nbsp;Domain: $\\mathbb{R}$<br>&nbsp;&nbsp;&nbsp;&nbsp;Range: $\\left[-1, 1\\right]$<br>&nbsp;&nbsp;&nbsp;&nbsp;x-intercepts : $\\left\\{2 n \\pi\\; |\\; n \\in \\mathbb{Z}\\right\\} \\cup \\left\\{2 n \\pi + \\pi\\; |\\; n \\in \\mathbb{Z}\\right\\}$<br>&nbsp;&nbsp;&nbsp;&nbsp;y-intercept : $\\mathtt{\\text{(0, 0)}}$<br><br>"
          },
          "metadata": {}
        },
        {
          "output_type": "display_data",
          "data": {
            "text/plain": [
              "<IPython.core.display.Markdown object>"
            ],
            "text/markdown": "$\\cos{\\left(x \\right)}$<br>&nbsp;&nbsp;&nbsp;&nbsp;Domain: $\\mathbb{R}$<br>&nbsp;&nbsp;&nbsp;&nbsp;Range: $\\left[-1, 1\\right]$<br>&nbsp;&nbsp;&nbsp;&nbsp;x-intercepts : $\\left\\{2 n \\pi + \\frac{\\pi}{2}\\; |\\; n \\in \\mathbb{Z}\\right\\} \\cup \\left\\{2 n \\pi + \\frac{3 \\pi}{2}\\; |\\; n \\in \\mathbb{Z}\\right\\}$<br>&nbsp;&nbsp;&nbsp;&nbsp;y-intercept : $\\mathtt{\\text{(0, 1)}}$<br><br>"
          },
          "metadata": {}
        },
        {
          "output_type": "display_data",
          "data": {
            "text/plain": [
              "<IPython.core.display.Markdown object>"
            ],
            "text/markdown": "$\\tan{\\left(x \\right)}$<br>&nbsp;&nbsp;&nbsp;&nbsp;Domain: $\\mathbb{R} \\setminus \\left(\\left\\{2 n \\pi + \\frac{\\pi}{2}\\; |\\; n \\in \\mathbb{Z}\\right\\} \\cup \\left\\{2 n \\pi + \\frac{3 \\pi}{2}\\; |\\; n \\in \\mathbb{Z}\\right\\}\\right)$<br>&nbsp;&nbsp;&nbsp;&nbsp;Range: $\\left(-\\infty, \\infty\\right)$<br>&nbsp;&nbsp;&nbsp;&nbsp;x-intercepts : $\\left\\{2 n \\pi\\; |\\; n \\in \\mathbb{Z}\\right\\} \\cup \\left\\{2 n \\pi + \\pi\\; |\\; n \\in \\mathbb{Z}\\right\\}$<br>&nbsp;&nbsp;&nbsp;&nbsp;y-intercept : $\\mathtt{\\text{(0, 0)}}$<br><br>"
          },
          "metadata": {}
        },
        {
          "output_type": "display_data",
          "data": {
            "text/plain": [
              "<IPython.core.display.Markdown object>"
            ],
            "text/markdown": "$\\csc{\\left(x \\right)}$<br>&nbsp;&nbsp;&nbsp;&nbsp;Domain: $\\mathbb{R} \\setminus \\left(\\left\\{2 n \\pi\\; |\\; n \\in \\mathbb{Z}\\right\\} \\cup \\left\\{2 n \\pi + \\pi\\; |\\; n \\in \\mathbb{Z}\\right\\}\\right)$<br>&nbsp;&nbsp;&nbsp;&nbsp;Range: $\\left(-\\infty, -1\\right] \\cup \\left[1, \\infty\\right)$<br>&nbsp;&nbsp;&nbsp;&nbsp;x-intercepts : $\\emptyset$<br>&nbsp;&nbsp;&nbsp;&nbsp;y-intercept : $\\text{None}$<br><br>"
          },
          "metadata": {}
        },
        {
          "output_type": "display_data",
          "data": {
            "text/plain": [
              "<IPython.core.display.Markdown object>"
            ],
            "text/markdown": "$\\sec{\\left(x \\right)}$<br>&nbsp;&nbsp;&nbsp;&nbsp;Domain: $\\mathbb{R} \\setminus \\left(\\left\\{2 n \\pi + \\frac{\\pi}{2}\\; |\\; n \\in \\mathbb{Z}\\right\\} \\cup \\left\\{2 n \\pi + \\frac{3 \\pi}{2}\\; |\\; n \\in \\mathbb{Z}\\right\\}\\right)$<br>&nbsp;&nbsp;&nbsp;&nbsp;Range: $\\left(-\\infty, -1\\right] \\cup \\left[1, \\infty\\right)$<br>&nbsp;&nbsp;&nbsp;&nbsp;x-intercepts : $\\emptyset$<br>&nbsp;&nbsp;&nbsp;&nbsp;y-intercept : $\\mathtt{\\text{(0, 1)}}$<br><br>"
          },
          "metadata": {}
        },
        {
          "output_type": "display_data",
          "data": {
            "text/plain": [
              "<IPython.core.display.Markdown object>"
            ],
            "text/markdown": "$\\cot{\\left(x \\right)}$<br>&nbsp;&nbsp;&nbsp;&nbsp;Domain: $\\mathbb{R} \\setminus \\left(\\left\\{2 n \\pi\\; |\\; n \\in \\mathbb{Z}\\right\\} \\cup \\left\\{2 n \\pi + \\pi\\; |\\; n \\in \\mathbb{Z}\\right\\}\\right)$<br>&nbsp;&nbsp;&nbsp;&nbsp;Range: $\\left(-\\infty, \\infty\\right)$<br>&nbsp;&nbsp;&nbsp;&nbsp;x-intercepts : $\\left\\{2 n \\pi + \\frac{\\pi}{2}\\; |\\; n \\in \\mathbb{Z}\\right\\} \\cup \\left\\{2 n \\pi + \\frac{3 \\pi}{2}\\; |\\; n \\in \\mathbb{Z}\\right\\}$<br>&nbsp;&nbsp;&nbsp;&nbsp;y-intercept : $\\text{None}$<br><br>"
          },
          "metadata": {}
        }
      ]
    },
    {
      "cell_type": "code",
      "source": [],
      "metadata": {
        "id": "mSL2XkCVyTnL"
      },
      "execution_count": 33,
      "outputs": []
    },
    {
      "cell_type": "markdown",
      "source": [
        "### Examples"
      ],
      "metadata": {
        "id": "Z_LeERMaxKGA"
      }
    },
    {
      "cell_type": "markdown",
      "source": [
        "#### $\\theta = \\frac{\\pi}{4}$"
      ],
      "metadata": {
        "id": "ln-cn2sfxM9G"
      }
    },
    {
      "cell_type": "markdown",
      "source": [
        "$\n",
        "\\sin{\\frac{\\pi}{4}} = \\frac{1}{\\sqrt{2}} = \\frac{\\sqrt{2}}{2} \\\\\n",
        "\\cos{\\frac{\\pi}{4}} = \\frac{1}{\\sqrt{2}} = \\frac{\\sqrt{2}}{2} \\\\\n",
        "\\tan{\\frac{\\pi}{4}} = 1 \\\\\n",
        "\\csc{\\frac{\\pi}{4}} = \\sqrt{2} \\\\\n",
        "\\sec{\\frac{\\pi}{4}} = \\sqrt{2} \\\\\n",
        "\\cot{\\frac{\\pi}{4}} = 1\n",
        "$"
      ],
      "metadata": {
        "id": "CgtG_U-wxqQQ"
      }
    },
    {
      "cell_type": "code",
      "source": [
        "angle = sym.pi/4\n",
        "\n",
        "display(sym.sin(angle))\n",
        "display(sym.cos(angle))\n",
        "display(sym.tan(angle))\n",
        "display(sym.csc(angle))\n",
        "display(sym.sec(angle))\n",
        "display(sym.cot(angle))"
      ],
      "metadata": {
        "colab": {
          "base_uri": "https://localhost:8080/",
          "height": 177
        },
        "id": "urWsZ3o91zLj",
        "outputId": "c8bbb1c4-62e5-4af4-85bb-cdc6facbbc7e"
      },
      "execution_count": 34,
      "outputs": [
        {
          "output_type": "display_data",
          "data": {
            "text/plain": [
              "sqrt(2)/2"
            ],
            "text/latex": "$\\displaystyle \\frac{\\sqrt{2}}{2}$"
          },
          "metadata": {}
        },
        {
          "output_type": "display_data",
          "data": {
            "text/plain": [
              "sqrt(2)/2"
            ],
            "text/latex": "$\\displaystyle \\frac{\\sqrt{2}}{2}$"
          },
          "metadata": {}
        },
        {
          "output_type": "display_data",
          "data": {
            "text/plain": [
              "1"
            ],
            "text/latex": "$\\displaystyle 1$"
          },
          "metadata": {}
        },
        {
          "output_type": "display_data",
          "data": {
            "text/plain": [
              "sqrt(2)"
            ],
            "text/latex": "$\\displaystyle \\sqrt{2}$"
          },
          "metadata": {}
        },
        {
          "output_type": "display_data",
          "data": {
            "text/plain": [
              "sqrt(2)"
            ],
            "text/latex": "$\\displaystyle \\sqrt{2}$"
          },
          "metadata": {}
        },
        {
          "output_type": "display_data",
          "data": {
            "text/plain": [
              "1"
            ],
            "text/latex": "$\\displaystyle 1$"
          },
          "metadata": {}
        }
      ]
    },
    {
      "cell_type": "markdown",
      "source": [
        "#### $\\theta = 150^{\\circ}$"
      ],
      "metadata": {
        "id": "j7NHs6pZ0OTP"
      }
    },
    {
      "cell_type": "markdown",
      "source": [
        "$\n",
        "\\sin{150^{\\circ}} = \\frac{1}{2} \\\\\n",
        "\\cos{150^{\\circ}} =  -\\frac{\\sqrt{3}}{2} \\\\\n",
        "\\tan{150^{\\circ}} =  -\\frac{\\sqrt{3}}{3} \\\\\n",
        "\\csc{150^{\\circ}} =  2 \\\\\n",
        "\\sec{150^{\\circ}} = -\\frac{2\\sqrt{3}}{3} \\\\\n",
        "\\cot{150^{\\circ}} =  -\\sqrt{3} \\\\\n",
        "$"
      ],
      "metadata": {
        "id": "cX2Y9o3N2lhy"
      }
    },
    {
      "cell_type": "code",
      "source": [
        "import mpmath\n",
        "angle = mpmath.radians(150)\n",
        "\n",
        "print(sym.sin(angle), 1/2)\n",
        "print(sym.cos(angle), -np.sqrt(3) / 2)\n",
        "print(sym.tan(angle), -np.sqrt(3) / 3)\n",
        "print(sym.csc(angle), 2)\n",
        "print(sym.sec(angle), -2 * np.sqrt(3) / 3)\n",
        "print(sym.cot(angle), -np.sqrt(3))"
      ],
      "metadata": {
        "colab": {
          "base_uri": "https://localhost:8080/"
        },
        "id": "bV4W1Rrg5LVz",
        "outputId": "6865a321-1883-40ee-abd7-9798912e9c1a"
      },
      "execution_count": 35,
      "outputs": [
        {
          "output_type": "stream",
          "name": "stdout",
          "text": [
            "0.500000000000000 0.5\n",
            "-0.866025403784439 -0.8660254037844386\n",
            "-0.577350269189626 -0.5773502691896257\n",
            "2.00000000000000 2\n",
            "-1.15470053837925 -1.1547005383792515\n",
            "-1.73205080756888 -1.7320508075688772\n"
          ]
        }
      ]
    },
    {
      "cell_type": "markdown",
      "source": [
        "#### Graph $f(x) = \\tan{2x}$"
      ],
      "metadata": {
        "id": "3RI9mJza-thw"
      }
    },
    {
      "cell_type": "code",
      "source": [
        "# domain data\n",
        "x = np.linspace(-2*np.pi, 2 * np.pi, 1000)\n",
        "\n",
        "# range data\n",
        "tan_x = np.tan(x)\n",
        "# get rid of connecting lines between aymptotes\n",
        "tan_x[:-1][np.diff(tan_x) < 0] = np.nan\n",
        "tan_2x = np.tan(2 * x)\n",
        "tan_2x[:-1][np.diff(tan_2x) < 0] = np.nan\n",
        "tan_3x = np.tan(3 * x)\n",
        "tan_3x[:-1][np.diff(tan_3x) < 0] = np.nan\n",
        "\n",
        "\n",
        "# axis and tick marks\n",
        "plt.figure(figsize=(12, 8))\n",
        "plt.axvline(0, color='darkgray', linewidth=3)\n",
        "plt.axhline(0, color='darkgray', linewidth=3)\n",
        "points = np.array([i * sym.pi/4 for i in range(-8, 9)])\n",
        "labels = ['$' + sym.latex(i * sym.pi/4) + '$' for i in range(-8, 9)]\n",
        "plt.xticks(points, labels)\n",
        "plt.gca().set_ylim([-20, 20])\n",
        "\n",
        "# plots\n",
        "plt.plot(x, tan_x, color='dodgerblue', label='$\\\\tan{x}$')\n",
        "plt.plot(x, tan_2x, color='red', label='$\\\\tan{2x}$')\n",
        "plt.plot(x, tan_3x, color='lime', label='$\\\\tan{3x}$')\n",
        "\n",
        "\n",
        "plt.grid()\n",
        "plt.legend()\n",
        "\n",
        "plt.show()"
      ],
      "metadata": {
        "colab": {
          "base_uri": "https://localhost:8080/",
          "height": 495
        },
        "id": "60NnhR_3-scO",
        "outputId": "103d859c-a877-445d-8e28-a442a00eb0e4"
      },
      "execution_count": 36,
      "outputs": [
        {
          "output_type": "display_data",
          "data": {
            "text/plain": [
              "<Figure size 864x576 with 1 Axes>"
            ],
            "image/png": "[encoded data removed]"
          },
          "metadata": {
            "needs_background": "light"
          }
        }
      ]
    },
    {
      "cell_type": "markdown",
      "source": [
        "## 1.2.1.3 (Some) Trig Identities"
      ],
      "metadata": {
        "id": "9SCnat1ADixg"
      }
    }
  ]
}